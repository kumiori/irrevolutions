{
  "nbformat": 4,
  "nbformat_minor": 0,
  "metadata": {
    "colab": {
      "name": "mec647_VI_1.ipynb",
      "provenance": [],
      "collapsed_sections": [],
      "authorship_tag": "ABX9TyPK5DEhlSg/j8gbKLdYhhmB",
      "include_colab_link": true
    },
    "kernelspec": {
      "name": "python3",
      "display_name": "Python 3"
    },
    "language_info": {
      "name": "python"
    }
  },
  "cells": [
    {
      "cell_type": "markdown",
      "metadata": {
        "id": "view-in-github",
        "colab_type": "text"
      },
      "source": [
        "<a href=\"https://colab.research.google.com/github/kumiori/mec647/blob/main/mec647_VI_1.ipynb\" target=\"_parent\"><img src=\"https://colab.research.google.com/assets/colab-badge.svg\" alt=\"Open In Colab\"/></a>"
      ]
    },
    {
      "cell_type": "markdown",
      "source": [
        "**init cells**"
      ],
      "metadata": {
        "id": "hc8SRUHB4YRg"
      }
    },
    {
      "cell_type": "code",
      "execution_count": 1,
      "metadata": {
        "id": "U45SsaQYuMkj"
      },
      "outputs": [],
      "source": [
        "%%capture\n",
        "import sys\n",
        "\n",
        "try:\n",
        "    import google.colab  # noqa: F401\n",
        "except ImportError:\n",
        "    import ufl  # noqa: F401\n",
        "    import dolfinx  # noqa: F401\n",
        "else:\n",
        "    try:\n",
        "        import ufl\n",
        "        import dolfinx\n",
        "    except ImportError:\n",
        "        !wget \"https://fem-on-colab.github.io/releases/fenicsx-install.sh\" -O \"/tmp/fenicsx-install.sh\" && bash \"/tmp/fenicsx-install.sh\";\n",
        "        import ufl  # noqa: F401\n",
        "        import dolfinx  # noqa: F401"
      ]
    },
    {
      "cell_type": "code",
      "source": [
        "%%capture\n",
        "!sudo apt install libgl1-mesa-glx xvfb;\n",
        "!{sys.executable} -m pip install pythreejs;\n",
        "!{sys.executable} -m pip install ipygany;\n",
        "!{sys.executable} -m pip install --upgrade pyyaml\n",
        "try:\n",
        "    import google.colab\n",
        "except ImportError:\n",
        "    pass\n",
        "else:\n",
        "    pass\n",
        "    # google.colab.output.enable_custom_widget_manager();\n",
        "try:\n",
        "    import pyvista\n",
        "except ImportError:\n",
        "    !pip3 install --upgrade pyvista itkwidgets;\n",
        "    import pyvista  # noqa: F401"
      ],
      "metadata": {
        "id": "mkyrNENpuRDA"
      },
      "execution_count": 4,
      "outputs": []
    },
    {
      "cell_type": "markdown",
      "source": [
        "# The solution to a bound constrained, nonlinear, singularly perturbed, variational problem\n",
        "\n",
        "Let $\\Omega = (0, L)\\times (0, H)$ and consider the energy $E_\\ell(u)$ defined as\n",
        "$$\n",
        "E_\\ell(u)=\\int_\\Omega \\left(\\ell|\\nabla u|^2 + \\frac{u}{\\ell} \\right)dx$$\n",
        "we solve:\n",
        "$$min \\left\\{ E_\\ell(u): {0\\leq u(x)\\leq 1}\\right\\}$$ for $ u\\in H^1(\\Omega, R)$ with $u(0, \\cdot)=1, u(L, \\cdot)=0$ as boundary conditions. \n",
        "\n",
        "We solve this problem varying $\\ell$.\n",
        "\n",
        "The energy above is the sum of a (positive) gradient energy density term and a linear term (positive only in the domain of admissibility for $u$) proportional to the value of $u$.\n",
        "The first penalises the spatial variations, the latter pays for the pointwise value of the field. \n",
        "\n",
        "These two terms are scaled by a factor, $\\ell$ and $1/\\ell$: as $\\ell$ varies, one factor vanishes and the other blows up. \n",
        "\n",
        "From both a mechanical and mathematical standpoint, the rich regime is that of $\\ell\\ll 1$: it connects to fracture mechanics and comes analytically equipped with rigorous asymptotic tools.\n",
        "\n",
        "Boundary conditions are such that a competition between these two terms is necessary.\n",
        "\n",
        "The interest of the toy-model above, is that $E(u)$ will be interpreted as *the surface energy* (that is, the fracture energy) in a problem of crack propagation. In this analogy, the scalar variable $u$ will be interpreted as a *damage density*. "
      ],
      "metadata": {
        "id": "aKeNUoYY4eFB"
      }
    },
    {
      "cell_type": "code",
      "source": [
        "try:\n",
        "  !git clone https://github.com/kumiori/mec647.git\n",
        "except:\n",
        "  pass"
      ],
      "metadata": {
        "colab": {
          "base_uri": "https://localhost:8080/"
        },
        "id": "ePzqwLUYuTze",
        "outputId": "06423e49-fe2e-4dd1-f6ea-97c0fe0fa0bf"
      },
      "execution_count": 5,
      "outputs": [
        {
          "output_type": "stream",
          "name": "stdout",
          "text": [
            "fatal: destination path 'mec647' already exists and is not an empty directory.\n"
          ]
        }
      ]
    },
    {
      "cell_type": "code",
      "source": [
        "sys.path.append('mec647/')"
      ],
      "metadata": {
        "id": "LUSH3A9Juph9"
      },
      "execution_count": 6,
      "outputs": []
    },
    {
      "cell_type": "code",
      "source": [
        "import numpy as np\n",
        "\n",
        "import dolfinx\n",
        "import dolfinx.plot\n",
        "import dolfinx.io\n",
        "from dolfinx.fem import (\n",
        "    Constant,\n",
        "    Function,\n",
        "    FunctionSpace,\n",
        "    assemble_scalar,\n",
        "    dirichletbc,\n",
        "    form,\n",
        "    locate_dofs_geometrical,\n",
        "    set_bc,\n",
        ")\n",
        "\n",
        "import pyvista\n",
        "from pyvista.utilities import xvfb\n",
        "\n",
        "import dolfinx.plot\n",
        "\n",
        "import dolfinx.mesh\n",
        "from dolfinx.mesh import CellType\n",
        "import ufl\n",
        "\n",
        "from mpi4py import MPI\n",
        "import petsc4py\n",
        "from petsc4py import PETSc\n",
        "import sys\n",
        "import yaml\n",
        "\n",
        "sys.path.append(\"../\")\n",
        "from solvers import SNESSolver\n",
        "\n",
        "petsc4py.init(sys.argv)\n",
        "\n",
        "import logging\n",
        "\n",
        "logging.basicConfig(level=logging.INFO)\n"
      ],
      "metadata": {
        "id": "ulY2eMDLvKkS"
      },
      "execution_count": 7,
      "outputs": []
    },
    {
      "cell_type": "markdown",
      "source": [
        "### Parameters and dirtree\n",
        "\n",
        "For reference, we store all relevant parameters, necessary for a computation, into an external file, here ```parameters.yml```, read into the ```parameters``` dictionary.\n"
      ],
      "metadata": {
        "id": "_b9umuta3_16"
      }
    },
    {
      "cell_type": "code",
      "source": [
        "\n",
        "with open(\"mec647/test/parameters.yml\") as f:\n",
        "    parameters = yaml.load(f, Loader=yaml.FullLoader)\n",
        "\n",
        "from pathlib import Path\n",
        "outdir = \"temp/out\"\n",
        "Path(outdir).mkdir(parents=True, exist_ok=True)\n",
        "\n",
        "Lx = parameters.get(\"geometry\").get(\"Lx\")\n",
        "Ly = parameters.get(\"geometry\").get(\"Ly\")\n",
        "ell = parameters.get(\"model\").get(\"ell\")\n",
        "\n"
      ],
      "metadata": {
        "id": "e75EPNmmvS0i"
      },
      "execution_count": 18,
      "outputs": []
    },
    {
      "cell_type": "code",
      "source": [
        "dolfinx.mesh.create_*"
      ],
      "metadata": {
        "colab": {
          "base_uri": "https://localhost:8080/"
        },
        "id": "EHetgfwR-gCR",
        "outputId": "fdff829c-13a1-41b1-9406-05e25be9290b"
      },
      "execution_count": 34,
      "outputs": [
        {
          "output_type": "execute_result",
          "data": {
            "text/plain": [
              "<module 'dolfinx.mesh' from '/usr/local/lib/python3.7/dist-packages/dolfinx/mesh.py'>"
            ]
          },
          "metadata": {},
          "execution_count": 34
        }
      ]
    },
    {
      "cell_type": "markdown",
      "source": [
        "## Mesh\n",
        "\n",
        "Let's create a mesh. Here a rectangle, other primitives are:\n",
        "\n",
        "```\n",
        "'create_box',\n",
        "'create_interval', 'create_rectangle', 'create_unit_cube', 'create_unit_interval', 'create_unit_square'```"
      ],
      "metadata": {
        "id": "aAiozXSZ-ZYb"
      }
    },
    {
      "cell_type": "code",
      "source": [
        "\n",
        "mesh = dolfinx.mesh.create_rectangle(MPI.COMM_WORLD, [[0.0, 0.0], [Lx, Ly]],\n",
        "                                     [100, 10],\n",
        "                                     cell_type=CellType.triangle)"
      ],
      "metadata": {
        "id": "TMmjqZ1gvUJ1"
      },
      "execution_count": 10,
      "outputs": []
    },
    {
      "cell_type": "code",
      "source": [
        "V = FunctionSpace(mesh, (\"CG\", 1))\n",
        "\n",
        "\n",
        "u = Function(V)\n",
        "energy = (ell * ufl.inner(ufl.grad(u), ufl.grad(u)) + u / ell) * ufl.dx\n",
        "denergy = ufl.derivative(energy, u, ufl.TestFunction(V))\n",
        "ddenergy = ufl.derivative(denergy, u, ufl.TrialFunction(V))\n",
        "\n"
      ],
      "metadata": {
        "id": "9juKHMWBvV2j"
      },
      "execution_count": 14,
      "outputs": []
    },
    {
      "cell_type": "markdown",
      "source": [
        "## Boundary conditions\n",
        "\n",
        "Are functions defined in the entire space, whose restriction to the  boundary or a boundary part, constitutes an external datum.\n",
        "\n",
        "For parallel execution, ```localForm()``` allows to correctly set vector values, locally.\n",
        "\n"
      ],
      "metadata": {
        "id": "3Pcnwtj32abl"
      }
    },
    {
      "cell_type": "code",
      "source": [
        "\n",
        "zero = Function(V)\n",
        "with zero.vector.localForm() as loc:\n",
        "    loc.set(0.0)\n",
        "\n",
        "one = Function(V)\n",
        "with one.vector.localForm() as loc:\n",
        "    loc.set(1.0)\n"
      ],
      "metadata": {
        "id": "_w_Vfj9rxcxM"
      },
      "execution_count": 15,
      "outputs": []
    },
    {
      "cell_type": "markdown",
      "source": [
        "### Boundary parts\n",
        "\n",
        "Boundary entities, that is facets  of dimension $n-1$, are identified geometrically by ```locate_entities_boundary```. \n",
        "Its last argument is a function of the (discrete) point $x$ (here, ```left(x)``` and ```right(x)```) returning whether or not (```True/False```) the point belongs to the boundary."
      ],
      "metadata": {
        "id": "GhuuRK3z3C37"
      }
    },
    {
      "cell_type": "code",
      "source": [
        "\n",
        "\n",
        "def left(x):\n",
        "    is_close = np.isclose(x[0], 0.0)\n",
        "    return is_close\n",
        "\n",
        "\n",
        "def right(x):\n",
        "    is_close = np.isclose(x[0], Lx)\n",
        "    return is_close\n",
        "\n",
        "\n",
        "left_facets = dolfinx.mesh.locate_entities_boundary(mesh,\n",
        "                                                    mesh.topology.dim - 1,\n",
        "                                                    left)\n",
        "left_dofs = dolfinx.fem.locate_dofs_topological(V, mesh.topology.dim - 1,\n",
        "                                                left_facets)\n",
        "\n",
        "right_facets = dolfinx.mesh.locate_entities_boundary(mesh,\n",
        "                                                     mesh.topology.dim - 1,\n",
        "                                                     left)\n",
        "right_dofs = dolfinx.fem.locate_dofs_topological(V, mesh.topology.dim - 1,\n",
        "                                                 right_facets)\n",
        "\n",
        "bcs = [dirichletbc(zero, left_dofs), dirichletbc(one, right_dofs)]\n"
      ],
      "metadata": {
        "id": "DM9uS695xdBN"
      },
      "execution_count": 16,
      "outputs": []
    },
    {
      "cell_type": "markdown",
      "source": [
        "## The problem, the solver.\n",
        "\n",
        "The problem class ```SNESSolver``` gives access to (a range of) \n",
        "[Scalable Nonlinear Equations Solvers](https://petsc4py.readthedocs.io/en/stable/manual/snes/) setting up the necessary residual function (the energy gradient), a pointer to boundary conditions, and the interval bounds.\n",
        "\n",
        "\n",
        "Internally, ```SNESSolver``` computes the Jacobian of the energy function by automatic differentiation. Check ```mec647/solvers/__init__.py``` for the details."
      ],
      "metadata": {
        "id": "_YM5rMCl1WhH"
      }
    },
    {
      "cell_type": "code",
      "source": [
        "problem = SNESSolver(\n",
        "    denergy,\n",
        "    u,\n",
        "    bcs,\n",
        "    bounds=(zero, one),\n",
        "    petsc_options=parameters.get(\"solvers\").get(\"damage\").get(\"snes\"),\n",
        "    prefix=\"vi\",\n",
        ")\n"
      ],
      "metadata": {
        "id": "RYHViTC_xf_s"
      },
      "execution_count": 17,
      "outputs": []
    },
    {
      "cell_type": "markdown",
      "source": [
        "### Solver setup\n",
        "Fine tuning the solver to the type of mathematical problem at hand:\n",
        "a **bound constrained, nonlinear, singularly perturbed variational problem**."
      ],
      "metadata": {
        "id": "WCnqCiw_0b_z"
      }
    },
    {
      "cell_type": "code",
      "source": [
        "solver_snes = problem.solver\n",
        "solver_snes.setType(\"vinewtonrsls\")\n",
        "\n",
        "solver_snes.setTolerances(rtol=1.0e-8, max_it=250)\n",
        "solver_snes.getKSP().setType(\"preonly\")\n",
        "solver_snes.getKSP().setTolerances(rtol=1.0e-8)\n",
        "solver_snes.getKSP().getPC().setType(\"lu\")\n",
        "\n",
        "\n",
        "def monitor(snes, its, fgnorm):\n",
        "    print(f\"Iteration {its:d}, error: {fgnorm:2.3e}\")\n",
        "\n",
        "\n",
        "solver_snes.setMonitor(monitor)\n",
        "solver_snes.solve(None, u.vector)\n"
      ],
      "metadata": {
        "colab": {
          "base_uri": "https://localhost:8080/"
        },
        "id": "uBWLPSq5xnjs",
        "outputId": "aa5e6478-7c41-4a45-edc2-3a922dc1b57f"
      },
      "execution_count": 19,
      "outputs": [
        {
          "output_type": "stream",
          "name": "stdout",
          "text": [
            "  0 SNES Function norm 3.372863694252e+00 \n",
            "Iteration 0, error: 3.373e+00\n",
            "  1 SNES Function norm 3.035973896462e-01 \n",
            "Iteration 1, error: 3.036e-01\n",
            "  2 SNES Function norm 1.993160527627e-01 \n",
            "Iteration 2, error: 1.993e-01\n",
            "  3 SNES Function norm 1.464048325705e-01 \n",
            "Iteration 3, error: 1.464e-01\n",
            "  4 SNES Function norm 1.140416590549e-01 \n",
            "Iteration 4, error: 1.140e-01\n",
            "  5 SNES Function norm 9.195250887762e-02 \n",
            "Iteration 5, error: 9.195e-02\n",
            "  6 SNES Function norm 7.573422917933e-02 \n",
            "Iteration 6, error: 7.573e-02\n",
            "  7 SNES Function norm 6.318524353043e-02 \n",
            "Iteration 7, error: 6.319e-02\n",
            "  8 SNES Function norm 5.308245391446e-02 \n",
            "Iteration 8, error: 5.308e-02\n",
            "  9 SNES Function norm 4.469200152153e-02 \n",
            "Iteration 9, error: 4.469e-02\n",
            " 10 SNES Function norm 3.754688529081e-02 \n",
            "Iteration 10, error: 3.755e-02\n",
            " 11 SNES Function norm 3.133577118176e-02 \n",
            "Iteration 11, error: 3.134e-02\n",
            " 12 SNES Function norm 2.584312024322e-02 \n",
            "Iteration 12, error: 2.584e-02\n",
            " 13 SNES Function norm 2.091497608150e-02 \n",
            "Iteration 13, error: 2.091e-02\n",
            " 14 SNES Function norm 1.643843734125e-02 \n",
            "Iteration 14, error: 1.644e-02\n",
            " 15 SNES Function norm 1.232882800594e-02 \n",
            "Iteration 15, error: 1.233e-02\n",
            " 16 SNES Function norm 8.521395827634e-03 \n",
            "Iteration 16, error: 8.521e-03\n",
            " 17 SNES Function norm 4.965777946836e-03 \n",
            "Iteration 17, error: 4.966e-03\n",
            " 18 SNES Function norm 1.622214211308e-03 \n",
            "Iteration 18, error: 1.622e-03\n",
            " 19 SNES Function norm 8.710699142699e-17 \n",
            "Iteration 19, error: 8.711e-17\n"
          ]
        }
      ]
    },
    {
      "cell_type": "markdown",
      "source": [
        "## Postprocessing\n",
        "\n",
        "\n",
        "1.   Output data\n",
        "2.   Visualise\n",
        "3.   Quant processing\n",
        "\n"
      ],
      "metadata": {
        "id": "xrPDhJsbz5GU"
      }
    },
    {
      "cell_type": "code",
      "source": [
        "\n",
        "with dolfinx.io.XDMFFile(MPI.COMM_WORLD, f\"{outdir}/u.xdmf\", \"w\") as f:\n",
        "    f.write_mesh(mesh)\n",
        "    f.write_function(u)"
      ],
      "metadata": {
        "id": "RmCovR3px_9d"
      },
      "execution_count": 21,
      "outputs": []
    },
    {
      "cell_type": "markdown",
      "source": [
        "In \n",
        "```test_viz/``` some helper functions allow to retrieve a plot object for scalar, vectors, and restrictions to curves of fields."
      ],
      "metadata": {
        "id": "XfasZVLv0Jyh"
      }
    },
    {
      "cell_type": "code",
      "source": [
        "\n",
        "sys.path.append(\"mec647/test\")\n",
        "from test_viz import plot_vector, plot_scalar, plot_profile\n",
        "\n",
        "xvfb.start_xvfb(wait=0.05)\n",
        "pyvista.OFF_SCREEN = True\n",
        "\n",
        "plotter = pyvista.Plotter(\n",
        "    title=\"Test VI\",\n",
        "    window_size=[800, 600],\n",
        "    shape=(1, 1),\n",
        ")\n",
        "_props = {\"show_edges\":True, \"show_scalar_bar\": True, \"clim\":[0, 1]}\n",
        "_plt = plot_scalar(u, plotter, subplot=(0, 0), lineproperties=_props)\n",
        "\n",
        "# _plt = plot_vector(u, plotter, subplot=(0, 1))\n",
        "\n",
        "_plt.screenshot(f\"{outdir}/test_vi_MPI{MPI.COMM_WORLD.size}.png\")\n",
        "\n",
        "if not pyvista.OFF_SCREEN:\n",
        "    plotter.show()\n",
        "\n",
        "tol = 1e-3\n",
        "xs = np.linspace(0 + tol, Lx - tol, 101)\n",
        "points = np.zeros((3, 101))\n",
        "points[0] = xs\n",
        "\n",
        "_plt, data = plot_profile(\n",
        "    u,\n",
        "    points,\n",
        "    plotter,\n",
        "    subplot=(0, 0),\n",
        "    lineproperties={\n",
        "        \"c\": \"k\",\n",
        "        \"label\": f\"$u_\\ell$ with $\\ell$ = {ell:.2f}\"\n",
        "    },\n",
        ")\n",
        "ax = _plt.gca()\n",
        "ax.axvline(0.0, c=\"k\")\n",
        "ax.axvline(2 * ell, c=\"k\", label='D=$2\\ell$')\n",
        "_plt.legend()\n",
        "_plt.fill_between(data[0], data[1].reshape(len(data[1])))\n",
        "_plt.title(\"Variational Inequality\")\n",
        "_plt.savefig(f\"{outdir}/test_vi_profile_MPI{MPI.COMM_WORLD.size}-{ell:.3f}.png\")\n"
      ],
      "metadata": {
        "colab": {
          "base_uri": "https://localhost:8080/",
          "height": 281
        },
        "id": "ml6X08KiyAet",
        "outputId": "ca6d6796-a5d3-4c1d-9888-9878593624cc"
      },
      "execution_count": 24,
      "outputs": [
        {
          "output_type": "display_data",
          "data": {
            "image/png": "[encoded data removed]",
            "text/plain": [
              "<Figure size 432x288 with 1 Axes>"
            ]
          },
          "metadata": {
            "needs_background": "light"
          }
        }
      ]
    },
    {
      "cell_type": "markdown",
      "source": [
        "Compute macroscopic quantities "
      ],
      "metadata": {
        "id": "TkEU61zGy_K0"
      }
    },
    {
      "cell_type": "code",
      "source": [
        "from dolfinx.fem.assemble import assemble_scalar\n",
        "\n",
        "min_en = assemble_scalar(dolfinx.fem.form(energy))\n",
        "\n",
        "data = {\"ell\": {},\n",
        "        \"minen\": {}}\n"
      ],
      "metadata": {
        "id": "z_ZnCOBjyRKh"
      },
      "execution_count": 26,
      "outputs": []
    },
    {
      "cell_type": "code",
      "source": [
        "# for _ell in np.range(??, ??):\n",
        "#   # solution for given ell\n",
        "#   # energy of solution \n",
        "#   data[\"ell\"].append(_ell)\n",
        "#   data[\"minen\"].append(_minen)"
      ],
      "metadata": {
        "id": "GR2ONGV9zMab"
      },
      "execution_count": 33,
      "outputs": []
    },
    {
      "cell_type": "code",
      "source": [
        ""
      ],
      "metadata": {
        "colab": {
          "base_uri": "https://localhost:8080/"
        },
        "id": "kgELsm2Bzc0T",
        "outputId": "5f8bb06e-021a-4fd3-ba52-b8cd83d3c0d9"
      },
      "execution_count": 31,
      "outputs": [
        {
          "output_type": "execute_result",
          "data": {
            "text/plain": [
              "{}"
            ]
          },
          "metadata": {},
          "execution_count": 31
        }
      ]
    },
    {
      "cell_type": "code",
      "source": [
        ""
      ],
      "metadata": {
        "id": "HVBhTp2GzP9E"
      },
      "execution_count": null,
      "outputs": []
    }
  ]
}