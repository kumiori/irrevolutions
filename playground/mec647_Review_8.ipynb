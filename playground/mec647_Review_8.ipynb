{
  "cells": [
    {
      "cell_type": "markdown",
      "metadata": {
        "id": "view-in-github",
        "colab_type": "text"
      },
      "source": [
        "<a href=\"https://colab.research.google.com/github/kumiori/mec647/blob/main/mec647_Review_8.ipynb\" target=\"_parent\"><img src=\"https://colab.research.google.com/assets/colab-badge.svg\" alt=\"Open In Colab\"/></a>"
      ]
    },
    {
      "cell_type": "code",
      "execution_count": 2,
      "metadata": {
        "id": "ZufOL_MFI75Y"
      },
      "outputs": [],
      "source": [
        "%%capture\n",
        "import sys\n",
        "\n",
        "try:\n",
        "    import google.colab  # noqa: F401\n",
        "except ImportError:\n",
        "    import ufl  # noqa: F401\n",
        "    import dolfinx  # noqa: F401\n",
        "else:\n",
        "    try:\n",
        "        import ufl\n",
        "        import dolfinx\n",
        "    except ImportError:\n",
        "        !wget \"https://fem-on-colab.github.io/releases/fenicsx-install.sh\" -O \"/tmp/fenicsx-install.sh\" && bash \"/tmp/fenicsx-install.sh\";\n",
        "        import ufl  # noqa: F401\n",
        "        import dolfinx  # noqa: F401\n",
        "\n",
        "try:\n",
        "    import pyvista\n",
        "except ImportError:\n",
        "    !{sys.executable} -m pip install --upgrade pyvista itkwidgets;\n",
        "    import pyvista  # noqa: F401\n",
        "    from pyvista.utilities import xvfb\n",
        "\n",
        "try:\n",
        "    import gmsh\n",
        "except ImportError:\n",
        "    !{sys.executable} -m pip install gmsh\n",
        "    import gmsh\n",
        "\n",
        "!sudo apt install libgl1-mesa-glx xvfb;\n",
        "!{sys.executable} -m pip install pythreejs;\n",
        "!{sys.executable} -m pip install ipygany;\n",
        "!{sys.executable} -m pip install --upgrade PyYAML\n",
        "# !pip install --ignore-installed PyYAML\n",
        "\n",
        "\n"
      ]
    },
    {
      "cell_type": "markdown",
      "metadata": {
        "id": "GYFvRi8c1rwW"
      },
      "source": [
        "# Test bed\n",
        "\n",
        "A tentative python notebook to stage code review and quick testing, pulling different code branches in the same numerical environment.\n",
        "\n",
        "..to be improved."
      ]
    },
    {
      "cell_type": "code",
      "execution_count": 3,
      "metadata": {
        "id": "5kLSofXtJj9f"
      },
      "outputs": [],
      "source": [
        "import matplotlib.pyplot as plt\n",
        "from petsc4py import PETSc\n",
        "import numpy as np\n",
        "from mpi4py import MPI\n",
        "comm = MPI.COMM_WORLD\n",
        "\n",
        "from dolfinx.fem import (\n",
        "    Constant,\n",
        "    Function,\n",
        "    FunctionSpace,\n",
        "    assemble_scalar,\n",
        "    dirichletbc,\n",
        "    form,\n",
        "    locate_dofs_geometrical,\n",
        "    set_bc,\n",
        ")\n"
      ]
    },
    {
      "cell_type": "code",
      "execution_count": 10,
      "metadata": {
        "colab": {
          "base_uri": "https://localhost:8080/"
        },
        "id": "gOsAvFznJClf",
        "outputId": "3edf74e6-56ca-4f60-a0ad-a044b93ee2c7"
      },
      "outputs": [
        {
          "output_type": "stream",
          "name": "stdout",
          "text": [
            "Cloning into 'mec647'...\n",
            "remote: Enumerating objects: 681, done.\u001b[K\n",
            "remote: Counting objects: 100% (681/681), done.\u001b[K\n",
            "remote: Compressing objects: 100% (556/556), done.\u001b[K\n",
            "remote: Total 681 (delta 303), reused 303 (delta 106), pack-reused 0\u001b[K\n",
            "Receiving objects: 100% (681/681), 12.63 MiB | 16.47 MiB/s, done.\n",
            "Resolving deltas: 100% (303/303), done.\n"
          ]
        }
      ],
      "source": [
        "branch_name = 'main'\n",
        "\n",
        "!rm -rf mec647\n",
        "try:\n",
        "  !git clone -b {branch_name} https://github.com/kumiori/mec647.git\n",
        "  sys.path.append('mec647/')\n",
        "\n",
        "  import mec647\n",
        "  from mec647 import meshes\n",
        "  from mec647.meshes import primitives\n",
        "  from mec647.utils.viz import plot_mesh\n",
        "  from mec647 import algorithms\n",
        "  from mec647.algorithms import am\n",
        "  import mec647.models\n",
        "  from mec647.models import DamageElasticityModel as Brittle\n",
        "\n",
        "except Exception as e:\n",
        "  print('Something went wrong', e)\n",
        "  !rm -rf mec647\n",
        "  !git clone https://github.com/kumiori/mec647.git\n",
        "\n"
      ]
    },
    {
      "cell_type": "code",
      "source": [
        ""
      ],
      "metadata": {
        "id": "PFa5ajvvkE56"
      },
      "execution_count": null,
      "outputs": []
    }
  ],
  "metadata": {
    "colab": {
      "name": "mec647_Review_8.ipynb",
      "provenance": [],
      "authorship_tag": "ABX9TyM6p9HKVoCGcf8hEXSchBuD",
      "include_colab_link": true
    },
    "kernelspec": {
      "display_name": "Python 3",
      "name": "python3"
    },
    "language_info": {
      "name": "python"
    }
  },
  "nbformat": 4,
  "nbformat_minor": 0
}