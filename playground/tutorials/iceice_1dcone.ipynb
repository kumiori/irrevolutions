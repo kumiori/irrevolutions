{
  "cells": [
    {
      "cell_type": "markdown",
      "metadata": {
        "colab_type": "text",
        "id": "view-in-github"
      },
      "source": [
        "<a href=\"https://colab.research.google.com/github/kumiori/mec647/blob/andres-conerecipe/iceice_1dcone.ipynb\" target=\"_parent\"><img src=\"https://colab.research.google.com/assets/colab-badge.svg\" alt=\"Open In Colab\"/></a>\n"
      ]
    },
    {
      "cell_type": "code",
      "execution_count": 19,
      "metadata": {
        "id": "Z5uPo31cMDtT"
      },
      "outputs": [],
      "source": [
        "try:\n",
        "    import ufl\n",
        "    import dolfinx\n",
        "    import basix.ufl\n",
        "\n",
        "except ImportError:\n",
        "    !wget \"https://fem-on-colab.github.io/releases/fenicsx-install-real.sh\" -O \"/tmp/fenicsx-install.sh\" && bash \"/tmp/fenicsx-install.sh\"\n",
        "    import dolfinx\n",
        "    import ufl\n",
        "    import basix.ufl\n"
      ]
    },
    {
      "cell_type": "code",
      "execution_count": 22,
      "metadata": {
        "colab": {
          "base_uri": "https://localhost:8080/"
        },
        "id": "ReyQrySfMEGg",
        "outputId": "315bbbba-cb87-4121-8949-4887c2119fa0"
      },
      "outputs": [
        {
          "name": "stdout",
          "output_type": "stream",
          "text": [
            "DOLFINx version: 0.6.0.0\n",
            " based on GIT commit: fdfd2d0627773a822ae8d450b77abad76d8b477b of https://github.com/FEniCS/dolfinx/\n",
            "UFL version: 2022.3.0.dev0\n",
            " based on GIT commit: nan of https://github.com/FEniCS/ufl/\n"
          ]
        }
      ],
      "source": [
        "print(f\"DOLFINx version: {dolfinx.__version__}\\n based on GIT commit: {dolfinx.git_commit_hash} of https://github.com/FEniCS/dolfinx/\")\n",
        "print(f\"UFL version: {ufl.__version__}\\n based on GIT commit: nan of https://github.com/FEniCS/ufl/\")\n"
      ]
    },
    {
      "cell_type": "code",
      "execution_count": 3,
      "metadata": {
        "colab": {
          "base_uri": "https://localhost:8080/"
        },
        "id": "pHkCDezmMWp7",
        "outputId": "7c5c86d0-69a3-4d44-8846-1f254c84e7a0"
      },
      "outputs": [
        {
          "name": "stdout",
          "output_type": "stream",
          "text": [
            "Mounted at /content/gdrive/\n"
          ]
        }
      ],
      "source": [
        "import sys\n",
        "from google.colab import drive\n",
        "drive.mount('/content/gdrive/')"
      ]
    },
    {
      "cell_type": "code",
      "execution_count": 23,
      "metadata": {
        "id": "jX82V2NnNNl6"
      },
      "outputs": [],
      "source": [
        "%%capture\n",
        "try:\n",
        "    import pyvista\n",
        "except ImportError:\n",
        "    !{sys.executable} -m pip install --upgrade pyvista itkwidgets;\n",
        "    import pyvista  # noqa: F401\n",
        "    from pyvista.utilities import xvfb\n",
        "\n",
        "try:\n",
        "    import gmsh\n",
        "except ImportError:\n",
        "    !{sys.executable} -m pip install gmsh\n",
        "    import gmsh\n",
        "\n",
        "!sudo apt install libgl1-mesa-glx xvfb;\n",
        "!{sys.executable} -m pip install pythreejs;\n",
        "!{sys.executable} -m pip install ipygany;\n",
        "!{sys.executable} -m pip install --upgrade PyYAML"
      ]
    },
    {
      "cell_type": "code",
      "execution_count": 5,
      "metadata": {
        "colab": {
          "base_uri": "https://localhost:8080/"
        },
        "id": "sJXrdMj2NcPu",
        "outputId": "3595c2df-b60b-414d-c3a1-c2483e2b98d6"
      },
      "outputs": [
        {
          "name": "stdout",
          "output_type": "stream",
          "text": [
            "Cloning into 'mec647'...\n",
            "remote: Enumerating objects: 1553, done.\u001b[K\n",
            "remote: Counting objects: 100% (286/286), done.\u001b[K\n",
            "remote: Compressing objects: 100% (114/114), done.\u001b[K\n",
            "remote: Total 1553 (delta 177), reused 263 (delta 162), pack-reused 1267\u001b[K\n",
            "Receiving objects: 100% (1553/1553), 95.17 MiB | 30.09 MiB/s, done.\n",
            "Resolving deltas: 100% (808/808), done.\n"
          ]
        },
        {
          "name": "stderr",
          "output_type": "stream",
          "text": [
            "CRITICAL:root:DOLFINx version: 0.6.0.0 based on GIT commit: fdfd2d0627773a822ae8d450b77abad76d8b477b of https://github.com/FEniCS/dolfinx/\n"
          ]
        }
      ],
      "source": [
        "import matplotlib.pyplot as plt\n",
        "from petsc4py import PETSc\n",
        "import numpy as np\n",
        "from mpi4py import MPI\n",
        "comm = MPI.COMM_WORLD\n",
        "\n",
        "branch_name = 'andres-conerecipe'\n",
        "\n",
        "!rm -rf mec647\n",
        "try:\n",
        "  !git clone -b {branch_name} https://github.com/kumiori/mec647.git\n",
        "  sys.path.append('mec647/')\n",
        "\n",
        "  import mec647\n",
        "  from mec647 import meshes\n",
        "  from mec647.meshes import primitives\n",
        "  from mec647.utils.viz import plot_mesh, plot_scalar, plot_vector\n",
        "\n",
        "except Exception as e:\n",
        "  print('Something went wrong', e)\n",
        "  !rm -rf mec647\n",
        "  !git clone https://github.com/kumiori/mec647.git\n",
        "\n"
      ]
    },
    {
      "cell_type": "code",
      "execution_count": 14,
      "metadata": {
        "id": "B7YbCqM4Oni4"
      },
      "outputs": [],
      "source": [
        "tdim = 1 \n",
        "mesh = dolfinx.mesh.create_unit_interval(MPI.COMM_WORLD, 12)\n"
      ]
    },
    {
      "cell_type": "code",
      "execution_count": 15,
      "metadata": {
        "colab": {
          "base_uri": "https://localhost:8080/",
          "height": 298
        },
        "id": "4Ax_gJEtPbmY",
        "outputId": "03116ffa-e675-4080-c927-fe790dfbd7cf"
      },
      "outputs": [
        {
          "data": {
            "text/plain": [
              "Text(0.5, 1.0, 'Mesh with parameters, dimension 1')"
            ]
          },
          "execution_count": 15,
          "metadata": {},
          "output_type": "execute_result"
        },
        {
          "data": {
            "image/png": "[encoded data removed]",
            "text/plain": [
              "<Figure size 432x288 with 1 Axes>"
            ]
          },
          "metadata": {
            "needs_background": "light"
          },
          "output_type": "display_data"
        }
      ],
      "source": [
        "plt.figure()\n",
        "# ax = plot_mesh(mesh)\n",
        "# fig = ax.get_figure()\n",
        "plt.title(f\"Mesh with parameters, dimension {tdim}\")\n",
        "# fig.savefig(f\"one_mesh.png\")"
      ]
    },
    {
      "cell_type": "code",
      "execution_count": 53,
      "metadata": {
        "id": "A57obfP8PgYm"
      },
      "outputs": [],
      "source": [
        "# Let's get the entire default set of parameters\n",
        "import yaml\n",
        "\n",
        "with open(\"mec647/test/parameters.yml\") as f:\n",
        "    parameters = yaml.load(f, Loader=yaml.FullLoader)\n",
        "    parameters[\"model\"][\"model_dimension\"] = 1\n",
        "    parameters[\"model\"][\"model_type\"] = '1D'\n",
        "    parameters[\"model\"][\"mu\"] = 1\n",
        "    parameters[\"model\"][\"w1\"] = 1\n",
        "    parameters[\"model\"][\"k_res\"] = 1e-4\n"
      ]
    },
    {
      "cell_type": "code",
      "execution_count": 24,
      "metadata": {
        "colab": {
          "base_uri": "https://localhost:8080/"
        },
        "id": "toHRDVCmP-ai",
        "outputId": "532e8de7-f927-405c-9ec6-fc81a2b88cb6"
      },
      "outputs": [
        {
          "data": {
            "text/plain": [
              "ufl.finiteelement.finiteelement.FiniteElement"
            ]
          },
          "execution_count": 24,
          "metadata": {},
          "output_type": "execute_result"
        }
      ],
      "source": [
        "ufl.FiniteElement"
      ]
    },
    {
      "cell_type": "code",
      "execution_count": 29,
      "metadata": {
        "id": "MeDk4p54PnXE"
      },
      "outputs": [],
      "source": [
        "# Functional Setting\n",
        "\n",
        "element_u = basix.ufl.element(\"Lagrange\", mesh.basix_cell(),\n",
        "                              degree=1)\n",
        "\n",
        "element_alpha = basix.ufl.element(\"DG\", mesh.basix_cell(),\n",
        "                              degree=0)\n",
        "\n",
        "V_u = dolfinx.fem.functionspace(mesh, element_u) \n",
        "V_alpha = dolfinx.fem.functionspace(mesh, element_alpha) \n",
        "\n",
        "u = dolfinx.fem.Function(V_u, name=\"Displacement\")\n",
        "u_ = dolfinx.fem.Function(V_u, name=\"BoundaryDisplacement\")\n",
        "\n",
        "\n",
        "alpha = dolfinx.fem.Function(V_alpha, name=\"Damage\")\n",
        "\n",
        "# Pack state\n",
        "state = {\"u\": u, \"alpha\": alpha}\n",
        "\n",
        "# Bounds\n",
        "alpha_ub = dolfinx.fem.Function(V_alpha, name=\"UpperBoundDamage\")\n",
        "alpha_lb = dolfinx.fem.Function(V_alpha, name=\"LowerBoundDamage\")\n",
        "\n",
        "dx = ufl.Measure(\"dx\", domain = mesh)\n",
        "ds = ufl.Measure(\"ds\", domain = mesh)\n",
        "\n",
        "\n",
        "# Useful references\n",
        "Lx = parameters.get(\"geometry\").get(\"Lx\")\n",
        "Ly = parameters.get(\"geometry\").get(\"Ly\")"
      ]
    },
    {
      "cell_type": "code",
      "execution_count": 30,
      "metadata": {
        "id": "ehppazfcPt_f"
      },
      "outputs": [],
      "source": [
        "# Boundary sets\n",
        "\n",
        "from dolfinx.fem import locate_dofs_geometrical, dirichletbc\n",
        "\n",
        "dofs_alpha_left = locate_dofs_geometrical(V_alpha, lambda x: np.isclose(x[0], 0.))\n",
        "dofs_alpha_right = locate_dofs_geometrical(V_alpha, lambda x: np.isclose(x[0], Lx))\n",
        "\n",
        "dofs_u_left = locate_dofs_geometrical(V_u, lambda x: np.isclose(x[0], 0.))\n",
        "dofs_u_right = locate_dofs_geometrical(V_u, lambda x: np.isclose(x[0], Lx))\n",
        "\n",
        "# Boundary data\n",
        "\n",
        "u_.interpolate(lambda x: np.ones_like(x[0]))\n",
        "\n",
        "# Bounds (nontrivial)\n",
        "\n",
        "alpha_lb.interpolate(lambda x: np.zeros_like(x[0]))\n",
        "alpha_ub.interpolate(lambda x: np.ones_like(x[0]))"
      ]
    },
    {
      "cell_type": "code",
      "execution_count": 31,
      "metadata": {
        "id": "v54ZtnDIQmbD"
      },
      "outputs": [],
      "source": [
        "# Dofmap\n",
        "map = mesh.topology.index_map(mesh.topology.dim)\n",
        "num_cells = map.size_local + map.num_ghosts"
      ]
    },
    {
      "cell_type": "code",
      "execution_count": 59,
      "metadata": {
        "id": "-9CsllwoSOpA"
      },
      "outputs": [],
      "source": [
        "# Boundary conditions\n",
        "\n",
        "bcs_u = [\n",
        "         dirichletbc(np.array(0., dtype=PETSc.ScalarType),\n",
        "                      dofs_u_left,\n",
        "                      V_u),\n",
        "         dirichletbc(u_, dofs_u_right)\n",
        "         ]\n",
        "\n",
        "# bcs_alpha = [\n",
        "#              dirichletbc(np.array(0., dtype = PETSc.ScalarType),\n",
        "#                          np.concatenate([dofs_alpha_left, dofs_alpha_right]),\n",
        "#                          V_alpha)\n",
        "# ]\n",
        "\n",
        "bcs_alpha = []\n",
        "\n",
        "bcs = {\"bcs_u\": bcs_u, \"bcs_alpha\": bcs_alpha}\n"
      ]
    },
    {
      "cell_type": "code",
      "execution_count": 90,
      "metadata": {
        "id": "hj5qKZ9QSSqN"
      },
      "outputs": [],
      "source": [
        "# Material behaviour\n",
        "from mec647.models import DamageElasticityModel as Brittle\n",
        "\n",
        "state = {\"u\": u, \"alpha\": alpha}\n",
        "\n",
        "# mat_par = parameters.get()\n",
        "\n",
        "def a(alpha):\n",
        "    k_res = parameters[\"model\"]['k_res']\n",
        "    return (1 - alpha)**2 + k_res\n",
        "\n",
        "def w(alpha):\n",
        "    \"\"\"\n",
        "    Return the homogeneous damage energy term,\n",
        "    as a function of the state\n",
        "    (only depends on damage).\n",
        "    \"\"\"\n",
        "    # Return w(alpha) function\n",
        "    return alpha\n",
        "\n",
        "def elastic_energy_density(state):\n",
        "    \"\"\"\n",
        "    Returns the elastic energy density from the state.\n",
        "    \"\"\"\n",
        "    # Parameters\n",
        "    alpha = state[\"alpha\"]\n",
        "    u = state[\"u\"]\n",
        "    eps = ufl.grad(u)\n",
        "\n",
        "    _mu = parameters[\"model\"]['mu']\n",
        "    energy_density = a(alpha) * _mu * ufl.inner(eps, eps)\n",
        "    return energy_density\n",
        "\n",
        "def damage_energy_density(state):\n",
        "    \"\"\"\n",
        "    Return the damage dissipation density from the state.\n",
        "    \"\"\"\n",
        "    # Get the material parameters\n",
        "    _mu = parameters[\"model\"][\"mu\"]\n",
        "    _w1 = parameters[\"model\"][\"w1\"]\n",
        "    _ell = parameters[\"model\"][\"ell\"]\n",
        "    # Get the damage\n",
        "    alpha = state[\"alpha\"]\n",
        "    # Compute the damage gradient\n",
        "    grad_alpha = ufl.grad(alpha)\n",
        "    # Compute the damage dissipation density\n",
        "    D_d = _w1 * w(alpha) + _w1 * _ell**2 * ufl.dot(\n",
        "        grad_alpha, grad_alpha)\n",
        "    return D_d\n",
        "\n",
        "\n",
        "total_energy = (elastic_energy_density(state) + damage_energy_density(state)) * dx\n",
        "\n"
      ]
    },
    {
      "cell_type": "code",
      "execution_count": 117,
      "metadata": {
        "id": "jhC3w9KaXGxr"
      },
      "outputs": [],
      "source": [
        "from mec647.solvers import SNESSolver\n",
        "from mec647.utils import norm_H1, norm_L2\n",
        "\n",
        "from dolfinx.fem.petsc import (\n",
        "    assemble_matrix,\n",
        "    apply_lifting,\n",
        "    create_vector,\n",
        "    create_matrix,\n",
        "    set_bc,\n",
        "    assemble_vector\n",
        "    )\n",
        "\n",
        "from dolfinx.fem import (\n",
        "    Constant,\n",
        "    Function,\n",
        "    FunctionSpace,\n",
        "    dirichletbc,\n",
        "    form,\n",
        "    locate_dofs_geometrical,\n",
        ")\n",
        "\n",
        "\n",
        "class _AlternateMinimisation:\n",
        "    def __init__(self,\n",
        "                total_energy,\n",
        "                state,\n",
        "                bcs,\n",
        "                solver_parameters={},\n",
        "                bounds=(dolfinx.fem.function.Function,\n",
        "                        dolfinx.fem.function.Function)\n",
        "                ):\n",
        "        self.state = state\n",
        "        self.alpha = state[\"alpha\"]\n",
        "        self.alpha_old = dolfinx.fem.function.Function(self.alpha.function_space)\n",
        "        self.u = state[\"u\"]\n",
        "        self.alpha_lb = bounds[0]\n",
        "        self.alpha_ub = bounds[1]\n",
        "        self.total_energy = total_energy\n",
        "        self.solver_parameters = solver_parameters\n",
        "\n",
        "        V_u = state[\"u\"].function_space\n",
        "        V_alpha = state[\"alpha\"].function_space\n",
        "\n",
        "        energy_u = ufl.derivative(\n",
        "            self.total_energy, self.u, ufl.TestFunction(V_u))\n",
        "        energy_alpha = ufl.derivative(\n",
        "            self.total_energy, self.alpha, ufl.TestFunction(V_alpha)\n",
        "        )\n",
        "\n",
        "        self.F = [energy_u, energy_alpha]\n",
        "\n",
        "        self.elasticity = SNESSolver(\n",
        "            energy_u,\n",
        "            self.u,\n",
        "            bcs.get(\"bcs_u\"),\n",
        "            bounds=None,\n",
        "            petsc_options=self.solver_parameters.get(\"elasticity\").get(\"snes\"),\n",
        "            prefix=self.solver_parameters.get(\"elasticity\").get(\"prefix\"),\n",
        "        )\n",
        "\n",
        "        self.damage = SNESSolver(\n",
        "            energy_alpha,\n",
        "            self.alpha,\n",
        "            bcs.get(\"bcs_alpha\"),\n",
        "            bounds=(self.alpha_lb, self.alpha_ub),\n",
        "            petsc_options=self.solver_parameters.get(\"damage\").get(\"snes\"),\n",
        "            prefix=self.solver_parameters.get(\"damage\").get(\"prefix\"),\n",
        "        )\n",
        "\n",
        "    def solve(self, outdir=None):\n",
        "\n",
        "        alpha_diff = dolfinx.fem.Function(self.alpha.function_space)\n",
        "\n",
        "        self.data = {\n",
        "            \"iteration\": [],\n",
        "            \"error_alpha_L2\": [],\n",
        "            \"error_alpha_H1\": [],\n",
        "            \"F_norm\": [],\n",
        "            \"error_alpha_max\": [],\n",
        "            \"error_residual_u\": [],\n",
        "            \"solver_alpha_reason\": [],\n",
        "            \"solver_alpha_it\": [],\n",
        "            \"solver_u_reason\": [],\n",
        "            \"solver_u_it\": [],\n",
        "            \"total_energy\": [],\n",
        "        }\n",
        "        for iteration in range(\n",
        "            self.solver_parameters.get(\"damage_elasticity\").get(\"max_it\")\n",
        "        ):\n",
        "            with dolfinx.common.Timer(\"~Alternate Minimization : Elastic solver\"):\n",
        "                (solver_u_it, solver_u_reason) = self.elasticity.solve()\n",
        "            with dolfinx.common.Timer(\"~Alternate Minimization : Damage solver\"):\n",
        "                (solver_alpha_it, solver_alpha_reason) = self.damage.solve()\n",
        "\n",
        "            # Define error function\n",
        "            self.alpha.x.petsc_vec.copy(alpha_diff.x.petsc_vec)\n",
        "            alpha_diff.x.petsc_vec.axpy(-1, self.alpha_old.x.petsc_vec)\n",
        "            alpha_diff.x.petsc_vec.ghostUpdate(\n",
        "                addv=PETSc.InsertMode.INSERT, mode=PETSc.ScatterMode.FORWARD\n",
        "            )\n",
        "\n",
        "            error_alpha_H1 = norm_H1(alpha_diff)\n",
        "            error_alpha_L2 = norm_L2(alpha_diff)\n",
        "\n",
        "            Fv = [assemble_vector(form(F)) for F in self.F]\n",
        "\n",
        "            Fnorm = np.sqrt(\n",
        "                np.array(\n",
        "                    [comm.allreduce(Fvi.norm(), op=MPI.SUM)\n",
        "                        for Fvi in Fv]\n",
        "                ).sum()\n",
        "            )\n",
        "\n",
        "            error_alpha_max = alpha_diff.x.petsc_vec.max()[1]\n",
        "            total_energy_int = comm.allreduce(\n",
        "                assemble_scalar(form(self.total_energy)), op=MPI.SUM\n",
        "            )\n",
        "            residual_u = assemble_vector(self.elasticity.F_form)\n",
        "            residual_u.ghostUpdate(\n",
        "                addv=PETSc.InsertMode.ADD, mode=PETSc.ScatterMode.REVERSE\n",
        "            )\n",
        "            set_bc(residual_u, self.elasticity.bcs, self.u.x.petsc_vec)\n",
        "            error_residual_u = ufl.sqrt(residual_u.dot(residual_u))\n",
        "\n",
        "            self.alpha.x.petsc_vec.copy(self.alpha_old.x.petsc_vec)\n",
        "            self.alpha_old.x.petsc_vec.ghostUpdate(\n",
        "                addv=PETSc.InsertMode.INSERT, mode=PETSc.ScatterMode.FORWARD\n",
        "            )\n",
        "\n",
        "            self.data[\"iteration\"].append(iteration)\n",
        "            self.data[\"error_alpha_L2\"].append(error_alpha_L2)\n",
        "            self.data[\"error_alpha_H1\"].append(error_alpha_H1)\n",
        "            self.data[\"F_norm\"].append(Fnorm)\n",
        "            self.data[\"error_alpha_max\"].append(error_alpha_max)\n",
        "            self.data[\"error_residual_u\"].append(error_residual_u)\n",
        "            self.data[\"solver_alpha_it\"].append(solver_alpha_it)\n",
        "            self.data[\"solver_alpha_reason\"].append(solver_alpha_reason)\n",
        "            self.data[\"solver_u_reason\"].append(solver_u_reason)\n",
        "            self.data[\"solver_u_it\"].append(solver_u_it)\n",
        "            self.data[\"total_energy\"].append(total_energy_int)\n",
        "\n",
        "\n"
      ]
    },
    {
      "cell_type": "code",
      "execution_count": 118,
      "metadata": {
        "id": "9vy1TG0KS46b"
      },
      "outputs": [],
      "source": [
        "# Evolution solver\n",
        "# import algorithms\n",
        "# from algorithms import am\n",
        "\n",
        "solver = _AlternateMinimisation(total_energy,\n",
        "                         state,\n",
        "                         bcs,\n",
        "                         parameters.get(\"solvers\"),\n",
        "                         bounds=(alpha_lb, alpha_ub)\n",
        "                         )"
      ]
    },
    {
      "cell_type": "code",
      "execution_count": null,
      "metadata": {
        "colab": {
          "base_uri": "https://localhost:8080/"
        },
        "id": "O3N9qt3UX2zL",
        "outputId": "fc441c9f-76d7-40c5-ecc5-c73f70b92153"
      },
      "outputs": [
        {
          "name": "stderr",
          "output_type": "stream",
          "text": [
            "CRITICAL:root:-- Solving for t = 0.00 --\n"
          ]
        },
        {
          "name": "stdout",
          "output_type": "stream",
          "text": [
            "  0 SNES Function norm 0.000000000000e+00 \n",
            "  0 SNES Function norm 0.000000000000e+00 \n",
            "  0 SNES Function norm 0.000000000000e+00 \n",
            "  0 SNES Function norm 0.000000000000e+00 \n",
            "  0 SNES Function norm 0.000000000000e+00 \n",
            "  0 SNES Function norm 0.000000000000e+00 \n",
            "  0 SNES Function norm 0.000000000000e+00 \n",
            "  0 SNES Function norm 0.000000000000e+00 \n",
            "  0 SNES Function norm 0.000000000000e+00 \n",
            "  0 SNES Function norm 0.000000000000e+00 \n",
            "  0 SNES Function norm 0.000000000000e+00 \n",
            "  0 SNES Function norm 0.000000000000e+00 \n",
            "  0 SNES Function norm 0.000000000000e+00 \n",
            "  0 SNES Function norm 0.000000000000e+00 \n",
            "  0 SNES Function norm 0.000000000000e+00 \n",
            "  0 SNES Function norm 0.000000000000e+00 \n",
            "  0 SNES Function norm 0.000000000000e+00 \n",
            "  0 SNES Function norm 0.000000000000e+00 \n",
            "  0 SNES Function norm 0.000000000000e+00 \n",
            "  0 SNES Function norm 0.000000000000e+00 \n",
            "  0 SNES Function norm 0.000000000000e+00 \n",
            "  0 SNES Function norm 0.000000000000e+00 \n",
            "  0 SNES Function norm 0.000000000000e+00 \n",
            "  0 SNES Function norm 0.000000000000e+00 \n",
            "  0 SNES Function norm 0.000000000000e+00 \n",
            "  0 SNES Function norm 0.000000000000e+00 \n",
            "  0 SNES Function norm 0.000000000000e+00 \n",
            "  0 SNES Function norm 0.000000000000e+00 \n",
            "  0 SNES Function norm 0.000000000000e+00 \n",
            "  0 SNES Function norm 0.000000000000e+00 \n",
            "  0 SNES Function norm 0.000000000000e+00 \n",
            "  0 SNES Function norm 0.000000000000e+00 \n",
            "  0 SNES Function norm 0.000000000000e+00 \n",
            "  0 SNES Function norm 0.000000000000e+00 \n",
            "  0 SNES Function norm 0.000000000000e+00 \n",
            "  0 SNES Function norm 0.000000000000e+00 \n",
            "  0 SNES Function norm 0.000000000000e+00 \n",
            "  0 SNES Function norm 0.000000000000e+00 \n",
            "  0 SNES Function norm 0.000000000000e+00 \n",
            "  0 SNES Function norm 0.000000000000e+00 \n",
            "  0 SNES Function norm 0.000000000000e+00 \n",
            "  0 SNES Function norm 0.000000000000e+00 \n",
            "  0 SNES Function norm 0.000000000000e+00 \n",
            "  0 SNES Function norm 0.000000000000e+00 \n",
            "  0 SNES Function norm 0.000000000000e+00 \n",
            "  0 SNES Function norm 0.000000000000e+00 \n",
            "  0 SNES Function norm 0.000000000000e+00 \n",
            "  0 SNES Function norm 0.000000000000e+00 \n",
            "  0 SNES Function norm 0.000000000000e+00 \n",
            "  0 SNES Function norm 0.000000000000e+00 \n",
            "  0 SNES Function norm 0.000000000000e+00 \n",
            "  0 SNES Function norm 0.000000000000e+00 \n",
            "  0 SNES Function norm 0.000000000000e+00 \n",
            "  0 SNES Function norm 0.000000000000e+00 \n",
            "  0 SNES Function norm 0.000000000000e+00 \n",
            "  0 SNES Function norm 0.000000000000e+00 \n",
            "  0 SNES Function norm 0.000000000000e+00 \n",
            "  0 SNES Function norm 0.000000000000e+00 \n",
            "  0 SNES Function norm 0.000000000000e+00 \n",
            "  0 SNES Function norm 0.000000000000e+00 \n",
            "  0 SNES Function norm 0.000000000000e+00 \n",
            "  0 SNES Function norm 0.000000000000e+00 \n",
            "  0 SNES Function norm 0.000000000000e+00 \n",
            "  0 SNES Function norm 0.000000000000e+00 \n",
            "  0 SNES Function norm 0.000000000000e+00 \n",
            "  0 SNES Function norm 0.000000000000e+00 \n",
            "  0 SNES Function norm 0.000000000000e+00 \n",
            "  0 SNES Function norm 0.000000000000e+00 \n",
            "  0 SNES Function norm 0.000000000000e+00 \n",
            "  0 SNES Function norm 0.000000000000e+00 \n",
            "  0 SNES Function norm 0.000000000000e+00 \n",
            "  0 SNES Function norm 0.000000000000e+00 \n",
            "  0 SNES Function norm 0.000000000000e+00 \n",
            "  0 SNES Function norm 0.000000000000e+00 \n",
            "  0 SNES Function norm 0.000000000000e+00 \n",
            "  0 SNES Function norm 0.000000000000e+00 \n",
            "  0 SNES Function norm 0.000000000000e+00 \n",
            "  0 SNES Function norm 0.000000000000e+00 \n",
            "  0 SNES Function norm 0.000000000000e+00 \n",
            "  0 SNES Function norm 0.000000000000e+00 \n",
            "  0 SNES Function norm 0.000000000000e+00 \n",
            "  0 SNES Function norm 0.000000000000e+00 \n",
            "  0 SNES Function norm 0.000000000000e+00 \n",
            "  0 SNES Function norm 0.000000000000e+00 \n",
            "  0 SNES Function norm 0.000000000000e+00 \n",
            "  0 SNES Function norm 0.000000000000e+00 \n",
            "  0 SNES Function norm 0.000000000000e+00 \n",
            "  0 SNES Function norm 0.000000000000e+00 \n",
            "  0 SNES Function norm 0.000000000000e+00 \n",
            "  0 SNES Function norm 0.000000000000e+00 \n",
            "  0 SNES Function norm 0.000000000000e+00 \n",
            "  0 SNES Function norm 0.000000000000e+00 \n",
            "  0 SNES Function norm 0.000000000000e+00 \n",
            "  0 SNES Function norm 0.000000000000e+00 \n",
            "  0 SNES Function norm 0.000000000000e+00 \n",
            "  0 SNES Function norm 0.000000000000e+00 \n",
            "  0 SNES Function norm 0.000000000000e+00 \n",
            "  0 SNES Function norm 0.000000000000e+00 \n",
            "  0 SNES Function norm 0.000000000000e+00 \n",
            "  0 SNES Function norm 0.000000000000e+00 \n",
            "  0 SNES Function norm 0.000000000000e+00 \n",
            "  0 SNES Function norm 0.000000000000e+00 \n",
            "  0 SNES Function norm 0.000000000000e+00 \n",
            "  0 SNES Function norm 0.000000000000e+00 \n",
            "  0 SNES Function norm 0.000000000000e+00 \n",
            "  0 SNES Function norm 0.000000000000e+00 \n",
            "  0 SNES Function norm 0.000000000000e+00 \n",
            "  0 SNES Function norm 0.000000000000e+00 \n",
            "  0 SNES Function norm 0.000000000000e+00 \n",
            "  0 SNES Function norm 0.000000000000e+00 \n",
            "  0 SNES Function norm 0.000000000000e+00 \n",
            "  0 SNES Function norm 0.000000000000e+00 \n",
            "  0 SNES Function norm 0.000000000000e+00 \n",
            "  0 SNES Function norm 0.000000000000e+00 \n",
            "  0 SNES Function norm 0.000000000000e+00 \n",
            "  0 SNES Function norm 0.000000000000e+00 \n",
            "  0 SNES Function norm 0.000000000000e+00 \n",
            "  0 SNES Function norm 0.000000000000e+00 \n",
            "  0 SNES Function norm 0.000000000000e+00 \n",
            "  0 SNES Function norm 0.000000000000e+00 \n",
            "  0 SNES Function norm 0.000000000000e+00 \n",
            "  0 SNES Function norm 0.000000000000e+00 \n",
            "  0 SNES Function norm 0.000000000000e+00 \n",
            "  0 SNES Function norm 0.000000000000e+00 \n",
            "  0 SNES Function norm 0.000000000000e+00 \n",
            "  0 SNES Function norm 0.000000000000e+00 \n",
            "  0 SNES Function norm 0.000000000000e+00 \n",
            "  0 SNES Function norm 0.000000000000e+00 \n",
            "  0 SNES Function norm 0.000000000000e+00 \n",
            "  0 SNES Function norm 0.000000000000e+00 \n",
            "  0 SNES Function norm 0.000000000000e+00 \n",
            "  0 SNES Function norm 0.000000000000e+00 \n",
            "  0 SNES Function norm 0.000000000000e+00 \n",
            "  0 SNES Function norm 0.000000000000e+00 \n",
            "  0 SNES Function norm 0.000000000000e+00 \n",
            "  0 SNES Function norm 0.000000000000e+00 \n",
            "  0 SNES Function norm 0.000000000000e+00 \n",
            "  0 SNES Function norm 0.000000000000e+00 \n",
            "  0 SNES Function norm 0.000000000000e+00 \n",
            "  0 SNES Function norm 0.000000000000e+00 \n",
            "  0 SNES Function norm 0.000000000000e+00 \n",
            "  0 SNES Function norm 0.000000000000e+00 \n",
            "  0 SNES Function norm 0.000000000000e+00 \n",
            "  0 SNES Function norm 0.000000000000e+00 \n",
            "  0 SNES Function norm 0.000000000000e+00 \n",
            "  0 SNES Function norm 0.000000000000e+00 \n",
            "  0 SNES Function norm 0.000000000000e+00 \n",
            "  0 SNES Function norm 0.000000000000e+00 \n",
            "  0 SNES Function norm 0.000000000000e+00 \n",
            "  0 SNES Function norm 0.000000000000e+00 \n",
            "  0 SNES Function norm 0.000000000000e+00 \n",
            "  0 SNES Function norm 0.000000000000e+00 \n",
            "  0 SNES Function norm 0.000000000000e+00 \n",
            "  0 SNES Function norm 0.000000000000e+00 \n",
            "  0 SNES Function norm 0.000000000000e+00 \n",
            "  0 SNES Function norm 0.000000000000e+00 \n",
            "  0 SNES Function norm 0.000000000000e+00 \n",
            "  0 SNES Function norm 0.000000000000e+00 \n",
            "  0 SNES Function norm 0.000000000000e+00 \n",
            "  0 SNES Function norm 0.000000000000e+00 \n",
            "  0 SNES Function norm 0.000000000000e+00 \n",
            "  0 SNES Function norm 0.000000000000e+00 \n",
            "  0 SNES Function norm 0.000000000000e+00 \n",
            "  0 SNES Function norm 0.000000000000e+00 \n",
            "  0 SNES Function norm 0.000000000000e+00 \n",
            "  0 SNES Function norm 0.000000000000e+00 \n",
            "  0 SNES Function norm 0.000000000000e+00 \n",
            "  0 SNES Function norm 0.000000000000e+00 \n"
          ]
        }
      ],
      "source": [
        "%%time\n",
        "# Loop for evolution\n",
        "from dolfinx.fem import assemble_scalar\n",
        "import logging\n",
        "\n",
        "loads = np.linspace(parameters.get(\"loading\").get(\"min\"),\n",
        "                    parameters.get(\"loading\").get(\"max\"),\n",
        "                    parameters.get(\"loading\").get(\"steps\"))\n",
        "\n",
        "history_data = {\n",
        "    \"load\": [],\n",
        "    \"elastic_energy\": [],\n",
        "    \"dissipated_energy\": [],\n",
        "    \"total_energy\": [],\n",
        "    # \"solver_data\": [],\n",
        "    # \"eigs\": [],\n",
        "    # \"stable\": [],\n",
        "}\n",
        "\n",
        "check_stability = []\n",
        "\n",
        "for i_t, t in enumerate(loads):\n",
        "    u_.interpolate(lambda x: t * np.ones_like(x[0]))\n",
        "    u_.x.petsc_vec.ghostUpdate(addv=PETSc.InsertMode.INSERT,\n",
        "                          mode=PETSc.ScatterMode.FORWARD)\n",
        "\n",
        "    # update the lower bound\n",
        "    alpha.x.petsc_vec.copy(alpha_lb.x.petsc_vec)\n",
        "    alpha_lb.x.petsc_vec.ghostUpdate(\n",
        "        addv=PETSc.InsertMode.INSERT, mode=PETSc.ScatterMode.FORWARD\n",
        "    )\n",
        "\n",
        "    logging.critical(f\"-- Solving for t = {t:3.2f} --\")\n",
        "\n",
        "    solver.solve()\n",
        "\n",
        "    dissipated_energy = comm.allreduce(\n",
        "        assemble_scalar(form(damage_energy_density(state) * dx)),\n",
        "        op=MPI.SUM,\n",
        "    )\n",
        "    elastic_energy = comm.allreduce(\n",
        "        assemble_scalar(form(elastic_energy_density(state) * dx)),\n",
        "        op=MPI.SUM,\n",
        "    )\n",
        "\n",
        "    history_data[\"load\"].append(t)\n",
        "    history_data[\"dissipated_energy\"].append(dissipated_energy)\n",
        "    history_data[\"elastic_energy\"].append(elastic_energy)\n",
        "    history_data[\"total_energy\"].append(elastic_energy+dissipated_energy)\n",
        "    # history_data[\"solver_data\"].append(solver.data)\n",
        "    # history_data[\"eigs\"].append(stability.data[\"eigs\"])\n",
        "    # history_data[\"stable\"].append(stability.data[\"stable\"])\n",
        "\n",
        "    with XDMFFile(comm, f\"{prefix}/{_nameExp}.xdmf\", \"a\", encoding=XDMFFile.Encoding.HDF5) as file:\n",
        "        file.write_function(u, t)\n",
        "        file.write_function(alpha, t)\n",
        "\n",
        "    if comm.rank == 0:\n",
        "        a_file = open(f\"{prefix}/{_nameExp}-data.json\", \"w\")\n",
        "        json.dump(history_data, a_file)\n",
        "        a_file.close()\n",
        "\n",
        "    # list_timings(MPI.COMM_WORLD, [dolfinx.common.TimingType.wall])\n",
        "    print(history_data)\n",
        "\n"
      ]
    },
    {
      "cell_type": "code",
      "execution_count": null,
      "metadata": {
        "id": "AQ_IKXtHvcap"
      },
      "outputs": [],
      "source": []
    }
  ],
  "metadata": {
    "colab": {
      "authorship_tag": "ABX9TyNVJqEWT+9dAiJylfhFh/nZ",
      "include_colab_link": true,
      "provenance": []
    },
    "kernelspec": {
      "display_name": "Python 3",
      "name": "python3"
    },
    "language_info": {
      "name": "python"
    }
  },
  "nbformat": 4,
  "nbformat_minor": 0
}
