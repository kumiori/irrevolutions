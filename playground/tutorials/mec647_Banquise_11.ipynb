{
  "cells": [
    {
      "cell_type": "markdown",
      "metadata": {
        "colab_type": "text",
        "id": "view-in-github"
      },
      "source": [
        "<a href=\"https://colab.research.google.com/github/kumiori/mec647/blob/main/mec647_Banquise_11.ipynb\" target=\"_parent\"><img src=\"https://colab.research.google.com/assets/colab-badge.svg\" alt=\"Open In Colab\"/></a>\n"
      ]
    },
    {
      "cell_type": "markdown",
      "metadata": {
        "id": "QhlVFLnq4pnI"
      },
      "source": [
        "# Fracture de la Banquise Antartique\n",
        "\n",
        "Let $\\Omega \\subset (0, L)^2$, $L$ finite, being the (or one) characteristic length of the specimen.\n",
        "For any\n",
        "\n",
        "- displacement field $u\\in V_t : H^1(\\Omega, R^n) + bcs(t)$ with $n=1, 2$ or $3$, and\n",
        "- damage field $\\alpha \\in H^1(\\Omega, R)$,\n",
        "\n",
        "consider the energy $E_\\ell(u, \\alpha)$ defined as\n",
        "\n",
        "$$\n",
        "E_\\ell(u, \\alpha)=\\frac{1}{2}\\int_\\Omega \\left( a(\\alpha) W(u) + k u.u \\right) dx + \\underbrace{\\frac{G_c}{c_w\\ell} \\int \\left(w(\\alpha) + \\ell^2 |\\nabla \\alpha|^2 \\right)dx}_{\\text{Surface energy}}- \\int_\\Omega g_t.u dx\n",
        "$$\n",
        "\n",
        "In practice, $\\ell \\ll L$.\n",
        "\n",
        "Above, $W$ is the elastic MEMBRANE energy density, reading (in linearised elasticity as)\n",
        "\n",
        "$$\n",
        "W(u) = Ae(u):e(u)\n",
        "$$\n",
        "\n",
        "where $A$ is the 4-th order tensor of elasticity, in the isotropic and homogeneous case, it corresponds to a linear combination with two coefficients, say, $A_0$ the stiffness (dimensional), and $\\nu$ the Poisson ratio (non-dimensional), $k$ is the effective stiffness of the elastic foundation (Water/water).\n",
        "\n",
        "Above, $w(\\alpha)$ corresponds to the dissipated energy to damage, homogeneously, the specimen, the gradient term accounts for spatial variations.\n",
        "\n",
        "**Keypoint:** these two terms are weighted by $\\ell$, a parameter that is homogeneous to a length and is understood as a _material_ quantity (as opposed to _numerical_).\n",
        "\n",
        "Define $D(\\alpha_0):=\\left\\{ \\alpha \\in H^1(\\Omega), \\alpha \\geq \\alpha_0 \\right\\}$, for some $\\alpha_0(x)\\geq 0$ pointwise.\n",
        "\n",
        "We solve two types of problems (by increasing difficulty):\n",
        "\n",
        "- **The static problem**: Given a load (boundary conditions) and an initial state of damage $\\alpha_0$, what is the equilibrium displacement and repartition of damage?\n",
        "  In other terms:\n",
        "\n",
        "$\n",
        "\\text{ min loc} \\left\\{ E_\\ell(u, \\alpha):\n",
        " u \\in V_t, \\alpha \\in D(\\alpha_0) \\right\\}.\n",
        "$\n",
        "\n",
        "- **The evolution problem**: Given a load **history** (boundary conditions as a function of $t$) and an initial state of damage $\\alpha_0$, what is the _evolution_ of equilibrium displacement and repartition of damage, i.e.\n",
        "  the map $t\\mapsto (u_t, \\alpha_t)$, such that\n",
        "  - (Irrevers.) $\\alpha_t \\nearrow t$,\n",
        "  - (N-Stability) $y_t$ is stable only if there exists $\\bar h$ such that for $h\\in (0, \\bar h)$,\n",
        "    $$E_\\ell (y_t) \\leq E_\\ell(y_t + z), \\forall z \\in C_{t,0}^+, ||y_t+z||\\leq h$$\n",
        "  - (Power statement) (Ext. power) = (Internal energy flux)\n",
        "\n",
        "## Let'solve.\n",
        "\n",
        "### First, setup from a clean state\n"
      ]
    },
    {
      "cell_type": "code",
      "execution_count": 7,
      "metadata": {
        "colab": {
          "base_uri": "https://localhost:8080/"
        },
        "id": "zC6dhNHJfgrb",
        "outputId": "476beebc-1a79-4295-9fc3-cc00e0145806"
      },
      "outputs": [
        {
          "name": "stdout",
          "output_type": "stream",
          "text": [
            "CPU times: user 351 ms, sys: 120 ms, total: 472 ms\n",
            "Wall time: 33.6 s\n"
          ]
        }
      ],
      "source": [
        "%%time\n",
        "%%capture\n",
        "import sys\n",
        "\n",
        "try:\n",
        "    import google.colab  # noqa: F401\n",
        "except ImportError:\n",
        "    import ufl  # noqa: F401\n",
        "    import dolfinx  # noqa: F401\n",
        "    import basix.ufl  # noqa: F401\n",
        "\n",
        "else:\n",
        "    try:\n",
        "        import ufl\n",
        "        import dolfinx\n",
        "        import basix.ufl\n",
        "\n",
        "    except ImportError:\n",
        "        !wget \"https://github.com/fem-on-colab/fem-on-colab.github.io/raw/779acd87a4e108672d7ebd3eefd9e8e555bb51d9/releases/fenicsx-install-real.sh\" -O \"/tmp/fenicsx-install.sh\" && bash \"/tmp/fenicsx-install.sh\"\n",
        "\n",
        "\n",
        "        import ufl  # noqa: F401\n",
        "        import dolfinx  # noqa: F401\n",
        "        import basix.ufl  # noqa: F401\n",
        "\n",
        "# try:\n",
        "#     import pyvista\n",
        "# except ImportError:\n",
        "#     !{sys.executable} -m pip install --upgrade pyvista itkwidgets;\n",
        "#     import pyvista  # noqa: F401\n",
        "#     from pyvista.utilities import xvfb\n",
        "\n",
        "try:\n",
        "    import gmsh\n",
        "except ImportError:\n",
        "    !{sys.executable} -m pip install gmsh\n",
        "    import gmsh\n",
        "\n",
        "!sudo apt install libgl1-mesa-glx xvfb;\n",
        "!{sys.executable} -m pip install pip --upgrade;\n",
        "!{sys.executable} -m pip install pythreejs;\n",
        "!{sys.executable} -m pip install ipygany;\n",
        "!{sys.executable} -m pip install petsc4py;\n",
        "!{sys.executable} -m pip install --upgrade PyYAML;\n",
        "!{sys.executable} -m pip install --upgrade networkx;\n",
        "!{sys.executable} -m pip install --upgrade matplotlib==3.1.3;"
      ]
    },
    {
      "cell_type": "code",
      "execution_count": 8,
      "metadata": {
        "colab": {
          "base_uri": "https://localhost:8080/"
        },
        "id": "GVV5b15ALCyz",
        "outputId": "fc89e400-72ee-4c36-8883-153603cdfb23"
      },
      "outputs": [
        {
          "name": "stdout",
          "output_type": "stream",
          "text": [
            "Looking in indexes: https://pypi.org/simple, https://us-python.pkg.dev/colab-wheels/public/simple/\n",
            "Requirement already satisfied: pyvista in /usr/local/lib/python3.7/dist-packages (0.36.1)\n",
            "Requirement already satisfied: itkwidgets in /usr/local/lib/python3.7/dist-packages (0.33.0.dev0)\n",
            "Requirement already satisfied: numpy in /usr/local/lib/python3.7/dist-packages (from pyvista) (1.21.6)\n",
            "Requirement already satisfied: imageio in /usr/local/lib/python3.7/dist-packages (from pyvista) (2.9.0)\n",
            "Requirement already satisfied: appdirs in /usr/local/lib/python3.7/dist-packages (from pyvista) (1.4.4)\n",
            "Requirement already satisfied: pillow in /usr/local/lib/python3.7/dist-packages (from pyvista) (7.1.2)\n",
            "Requirement already satisfied: vtk in /usr/local/lib/python3.7/dist-packages (from pyvista) (9.2.0rc2)\n",
            "Requirement already satisfied: scooby>=0.5.1 in /usr/local/lib/python3.7/dist-packages (from pyvista) (0.6.0)\n",
            "Requirement already satisfied: colorcet in /usr/local/lib/python3.7/dist-packages (from itkwidgets) (3.0.0)\n",
            "Requirement already satisfied: itk-core in /usr/local/lib/python3.7/dist-packages (from itkwidgets) (5.3rc4.post2)\n",
            "Requirement already satisfied: itk-filtering in /usr/local/lib/python3.7/dist-packages (from itkwidgets) (5.3rc4.post2)\n",
            "Requirement already satisfied: itk-numerics in /usr/local/lib/python3.7/dist-packages (from itkwidgets) (5.3rc4.post2)\n",
            "Requirement already satisfied: itk-meshtopolydata in /usr/local/lib/python3.7/dist-packages (from itkwidgets) (0.8.2)\n",
            "Requirement already satisfied: ipydatawidgets>=4.0.1 in /usr/local/lib/python3.7/dist-packages (from itkwidgets) (4.3.2)\n",
            "Requirement already satisfied: ipywidgets>=7.5.1 in /usr/local/lib/python3.7/dist-packages (from itkwidgets) (7.7.2)\n",
            "Requirement already satisfied: ipympl==0.8.8 in /usr/local/lib/python3.7/dist-packages (from itkwidgets) (0.8.8)\n",
            "Requirement already satisfied: matplotlib in /usr/local/lib/python3.7/dist-packages (from itkwidgets) (3.1.3)\n",
            "Requirement already satisfied: six in /usr/local/lib/python3.7/dist-packages (from itkwidgets) (1.15.0)\n",
            "Requirement already satisfied: zstandard in /usr/local/lib/python3.7/dist-packages (from itkwidgets) (0.19.0.dev0)\n",
            "Requirement already satisfied: ipython-genutils in /usr/local/lib/python3.7/dist-packages (from ipympl==0.8.8->itkwidgets) (0.2.0)\n",
            "Requirement already satisfied: ipython<9 in /usr/local/lib/python3.7/dist-packages (from ipympl==0.8.8->itkwidgets) (7.9.0)\n",
            "Requirement already satisfied: traitlets<6 in /usr/local/lib/python3.7/dist-packages (from ipympl==0.8.8->itkwidgets) (5.1.1)\n",
            "Requirement already satisfied: traittypes>=0.2.0 in /usr/local/lib/python3.7/dist-packages (from ipydatawidgets>=4.0.1->itkwidgets) (0.2.1)\n",
            "Requirement already satisfied: jupyterlab-widgets<3,>=1.0.0 in /usr/local/lib/python3.7/dist-packages (from ipywidgets>=7.5.1->itkwidgets) (1.1.1)\n",
            "Requirement already satisfied: ipykernel>=4.5.1 in /usr/local/lib/python3.7/dist-packages (from ipywidgets>=7.5.1->itkwidgets) (5.3.4)\n",
            "Requirement already satisfied: widgetsnbextension~=3.6.0 in /usr/local/lib/python3.7/dist-packages (from ipywidgets>=7.5.1->itkwidgets) (3.6.1)\n",
            "Requirement already satisfied: pyparsing!=2.0.4,!=2.1.2,!=2.1.6,>=2.0.1 in /usr/local/lib/python3.7/dist-packages (from matplotlib->itkwidgets) (3.0.9)\n",
            "Requirement already satisfied: kiwisolver>=1.0.1 in /usr/local/lib/python3.7/dist-packages (from matplotlib->itkwidgets) (1.4.4)\n",
            "Requirement already satisfied: python-dateutil>=2.1 in /usr/local/lib/python3.7/dist-packages (from matplotlib->itkwidgets) (2.8.2)\n",
            "Requirement already satisfied: cycler>=0.10 in /usr/local/lib/python3.7/dist-packages (from matplotlib->itkwidgets) (0.11.0)\n",
            "Requirement already satisfied: param>=1.7.0 in /usr/local/lib/python3.7/dist-packages (from colorcet->itkwidgets) (1.12.2)\n",
            "Requirement already satisfied: pyct>=0.4.4 in /usr/local/lib/python3.7/dist-packages (from colorcet->itkwidgets) (0.4.8)\n",
            "Requirement already satisfied: wslink>=1.0.4 in /usr/local/lib/python3.7/dist-packages (from vtk->pyvista) (1.8.2)\n",
            "Requirement already satisfied: jupyter-client in /usr/local/lib/python3.7/dist-packages (from ipykernel>=4.5.1->ipywidgets>=7.5.1->itkwidgets) (6.1.12)\n",
            "Requirement already satisfied: tornado>=4.2 in /usr/local/lib/python3.7/dist-packages (from ipykernel>=4.5.1->ipywidgets>=7.5.1->itkwidgets) (5.1.1)\n",
            "Requirement already satisfied: backcall in /usr/local/lib/python3.7/dist-packages (from ipython<9->ipympl==0.8.8->itkwidgets) (0.2.0)\n",
            "Requirement already satisfied: pexpect in /usr/local/lib/python3.7/dist-packages (from ipython<9->ipympl==0.8.8->itkwidgets) (4.8.0)\n",
            "Requirement already satisfied: jedi>=0.10 in /usr/local/lib/python3.7/dist-packages (from ipython<9->ipympl==0.8.8->itkwidgets) (0.18.1)\n",
            "Requirement already satisfied: decorator in /usr/local/lib/python3.7/dist-packages (from ipython<9->ipympl==0.8.8->itkwidgets) (4.4.2)\n",
            "Requirement already satisfied: pygments in /usr/local/lib/python3.7/dist-packages (from ipython<9->ipympl==0.8.8->itkwidgets) (2.6.1)\n",
            "Requirement already satisfied: pickleshare in /usr/local/lib/python3.7/dist-packages (from ipython<9->ipympl==0.8.8->itkwidgets) (0.7.5)\n",
            "Requirement already satisfied: setuptools>=18.5 in /usr/local/lib/python3.7/dist-packages (from ipython<9->ipympl==0.8.8->itkwidgets) (57.4.0)\n",
            "Requirement already satisfied: prompt-toolkit<2.1.0,>=2.0.0 in /usr/local/lib/python3.7/dist-packages (from ipython<9->ipympl==0.8.8->itkwidgets) (2.0.10)\n",
            "Requirement already satisfied: typing-extensions in /usr/local/lib/python3.7/dist-packages (from kiwisolver>=1.0.1->matplotlib->itkwidgets) (4.1.1)\n",
            "Requirement already satisfied: notebook>=4.4.1 in /usr/local/lib/python3.7/dist-packages (from widgetsnbextension~=3.6.0->ipywidgets>=7.5.1->itkwidgets) (5.3.1)\n",
            "Requirement already satisfied: aiohttp<4 in /usr/local/lib/python3.7/dist-packages (from wslink>=1.0.4->vtk->pyvista) (3.8.1)\n",
            "Requirement already satisfied: multidict<7.0,>=4.5 in /usr/local/lib/python3.7/dist-packages (from aiohttp<4->wslink>=1.0.4->vtk->pyvista) (6.0.2)\n",
            "Requirement already satisfied: attrs>=17.3.0 in /usr/local/lib/python3.7/dist-packages (from aiohttp<4->wslink>=1.0.4->vtk->pyvista) (22.1.0)\n",
            "Requirement already satisfied: async-timeout<5.0,>=4.0.0a3 in /usr/local/lib/python3.7/dist-packages (from aiohttp<4->wslink>=1.0.4->vtk->pyvista) (4.0.2)\n",
            "Requirement already satisfied: asynctest==0.13.0 in /usr/local/lib/python3.7/dist-packages (from aiohttp<4->wslink>=1.0.4->vtk->pyvista) (0.13.0)\n",
            "Requirement already satisfied: aiosignal>=1.1.2 in /usr/local/lib/python3.7/dist-packages (from aiohttp<4->wslink>=1.0.4->vtk->pyvista) (1.2.0)\n",
            "Requirement already satisfied: yarl<2.0,>=1.0 in /usr/local/lib/python3.7/dist-packages (from aiohttp<4->wslink>=1.0.4->vtk->pyvista) (1.8.1)\n",
            "Requirement already satisfied: frozenlist>=1.1.1 in /usr/local/lib/python3.7/dist-packages (from aiohttp<4->wslink>=1.0.4->vtk->pyvista) (1.3.1)\n",
            "Requirement already satisfied: charset-normalizer<3.0,>=2.0 in /usr/local/lib/python3.7/dist-packages (from aiohttp<4->wslink>=1.0.4->vtk->pyvista) (2.1.1)\n",
            "Requirement already satisfied: parso<0.9.0,>=0.8.0 in /usr/local/lib/python3.7/dist-packages (from jedi>=0.10->ipython<9->ipympl==0.8.8->itkwidgets) (0.8.3)\n",
            "Requirement already satisfied: jinja2 in /usr/local/lib/python3.7/dist-packages (from notebook>=4.4.1->widgetsnbextension~=3.6.0->ipywidgets>=7.5.1->itkwidgets) (2.11.3)\n",
            "Requirement already satisfied: terminado>=0.8.1 in /usr/local/lib/python3.7/dist-packages (from notebook>=4.4.1->widgetsnbextension~=3.6.0->ipywidgets>=7.5.1->itkwidgets) (0.13.3)\n",
            "Requirement already satisfied: nbconvert in /usr/local/lib/python3.7/dist-packages (from notebook>=4.4.1->widgetsnbextension~=3.6.0->ipywidgets>=7.5.1->itkwidgets) (5.6.1)\n",
            "Requirement already satisfied: nbformat in /usr/local/lib/python3.7/dist-packages (from notebook>=4.4.1->widgetsnbextension~=3.6.0->ipywidgets>=7.5.1->itkwidgets) (5.4.0)\n",
            "Requirement already satisfied: Send2Trash in /usr/local/lib/python3.7/dist-packages (from notebook>=4.4.1->widgetsnbextension~=3.6.0->ipywidgets>=7.5.1->itkwidgets) (1.8.0)\n",
            "Requirement already satisfied: jupyter-core>=4.4.0 in /usr/local/lib/python3.7/dist-packages (from notebook>=4.4.1->widgetsnbextension~=3.6.0->ipywidgets>=7.5.1->itkwidgets) (4.11.1)\n",
            "Requirement already satisfied: pyzmq>=13 in /usr/local/lib/python3.7/dist-packages (from jupyter-client->ipykernel>=4.5.1->ipywidgets>=7.5.1->itkwidgets) (23.2.1)\n",
            "Requirement already satisfied: wcwidth in /usr/local/lib/python3.7/dist-packages (from prompt-toolkit<2.1.0,>=2.0.0->ipython<9->ipympl==0.8.8->itkwidgets) (0.2.5)\n",
            "Requirement already satisfied: ptyprocess>=0.5 in /usr/local/lib/python3.7/dist-packages (from pexpect->ipython<9->ipympl==0.8.8->itkwidgets) (0.7.0)\n",
            "Requirement already satisfied: idna>=2.0 in /usr/local/lib/python3.7/dist-packages (from yarl<2.0,>=1.0->aiohttp<4->wslink>=1.0.4->vtk->pyvista) (3.4)\n",
            "Requirement already satisfied: MarkupSafe>=0.23 in /usr/local/lib/python3.7/dist-packages (from jinja2->notebook>=4.4.1->widgetsnbextension~=3.6.0->ipywidgets>=7.5.1->itkwidgets) (2.0.1)\n",
            "Requirement already satisfied: bleach in /usr/local/lib/python3.7/dist-packages (from nbconvert->notebook>=4.4.1->widgetsnbextension~=3.6.0->ipywidgets>=7.5.1->itkwidgets) (5.0.1)\n",
            "Requirement already satisfied: testpath in /usr/local/lib/python3.7/dist-packages (from nbconvert->notebook>=4.4.1->widgetsnbextension~=3.6.0->ipywidgets>=7.5.1->itkwidgets) (0.6.0)\n",
            "Requirement already satisfied: entrypoints>=0.2.2 in /usr/local/lib/python3.7/dist-packages (from nbconvert->notebook>=4.4.1->widgetsnbextension~=3.6.0->ipywidgets>=7.5.1->itkwidgets) (0.4)\n",
            "Requirement already satisfied: defusedxml in /usr/local/lib/python3.7/dist-packages (from nbconvert->notebook>=4.4.1->widgetsnbextension~=3.6.0->ipywidgets>=7.5.1->itkwidgets) (0.7.1)\n",
            "Requirement already satisfied: mistune<2,>=0.8.1 in /usr/local/lib/python3.7/dist-packages (from nbconvert->notebook>=4.4.1->widgetsnbextension~=3.6.0->ipywidgets>=7.5.1->itkwidgets) (0.8.4)\n",
            "Requirement already satisfied: pandocfilters>=1.4.1 in /usr/local/lib/python3.7/dist-packages (from nbconvert->notebook>=4.4.1->widgetsnbextension~=3.6.0->ipywidgets>=7.5.1->itkwidgets) (1.5.0)\n",
            "Requirement already satisfied: jsonschema>=2.6 in /usr/local/lib/python3.7/dist-packages (from nbformat->notebook>=4.4.1->widgetsnbextension~=3.6.0->ipywidgets>=7.5.1->itkwidgets) (4.3.3)\n",
            "Requirement already satisfied: fastjsonschema in /usr/local/lib/python3.7/dist-packages (from nbformat->notebook>=4.4.1->widgetsnbextension~=3.6.0->ipywidgets>=7.5.1->itkwidgets) (2.16.1)\n",
            "Requirement already satisfied: pyrsistent!=0.17.0,!=0.17.1,!=0.17.2,>=0.14.0 in /usr/local/lib/python3.7/dist-packages (from jsonschema>=2.6->nbformat->notebook>=4.4.1->widgetsnbextension~=3.6.0->ipywidgets>=7.5.1->itkwidgets) (0.18.1)\n",
            "Requirement already satisfied: importlib-resources>=1.4.0 in /usr/local/lib/python3.7/dist-packages (from jsonschema>=2.6->nbformat->notebook>=4.4.1->widgetsnbextension~=3.6.0->ipywidgets>=7.5.1->itkwidgets) (5.9.0)\n",
            "Requirement already satisfied: importlib-metadata in /usr/local/lib/python3.7/dist-packages (from jsonschema>=2.6->nbformat->notebook>=4.4.1->widgetsnbextension~=3.6.0->ipywidgets>=7.5.1->itkwidgets) (4.12.0)\n",
            "Requirement already satisfied: webencodings in /usr/local/lib/python3.7/dist-packages (from bleach->nbconvert->notebook>=4.4.1->widgetsnbextension~=3.6.0->ipywidgets>=7.5.1->itkwidgets) (0.5.1)\n",
            "Requirement already satisfied: zipp>=3.1.0 in /usr/local/lib/python3.7/dist-packages (from importlib-resources>=1.4.0->jsonschema>=2.6->nbformat->notebook>=4.4.1->widgetsnbextension~=3.6.0->ipywidgets>=7.5.1->itkwidgets) (3.8.1)\n",
            "\u001b[33mWARNING: Running pip as the 'root' user can result in broken permissions and conflicting behaviour with the system package manager. It is recommended to use a virtual environment instead: https://pip.pypa.io/warnings/venv\u001b[0m\u001b[33m\n",
            "\u001b[0mCPU times: user 78.5 ms, sys: 28 ms, total: 106 ms\n",
            "Wall time: 6.76 s\n"
          ]
        }
      ],
      "source": [
        "%%time\n",
        "%%capture\n",
        "!{sys.executable} -m pip install --upgrade pyvista itkwidgets;\n",
        "import pyvista"
      ]
    },
    {
      "cell_type": "markdown",
      "metadata": {
        "id": "0xbfPIJ_4pnK"
      },
      "source": [
        "## Install our Code, codename: \\***\\*\\_\\*\\***\n"
      ]
    },
    {
      "cell_type": "code",
      "execution_count": 28,
      "metadata": {
        "colab": {
          "base_uri": "https://localhost:8080/"
        },
        "id": "fBRSF4i0fm5d",
        "outputId": "d4207c47-b0d0-4a69-a75c-8838e475f8bb"
      },
      "outputs": [
        {
          "name": "stdout",
          "output_type": "stream",
          "text": [
            "Cloning into 'mec647'...\n",
            "remote: Enumerating objects: 1454, done.\u001b[K\n",
            "remote: Counting objects: 100% (187/187), done.\u001b[K\n",
            "remote: Compressing objects: 100% (88/88), done.\u001b[K\n",
            "remote: Total 1454 (delta 120), reused 135 (delta 92), pack-reused 1267\u001b[K\n",
            "Receiving objects: 100% (1454/1454), 24.79 MiB | 19.09 MiB/s, done.\n",
            "Resolving deltas: 100% (751/751), done.\n"
          ]
        }
      ],
      "source": [
        "import matplotlib.pyplot as plt\n",
        "from petsc4py import PETSc\n",
        "import numpy as np\n",
        "from mpi4py import MPI\n",
        "comm = MPI.COMM_WORLD\n",
        "\n",
        "branch_name = 'main'\n",
        "branch_name = 'andres-ic3cr∀k5'\n",
        "\n",
        "!rm -rf mec647\n",
        "try:\n",
        "  !git clone -b {branch_name} https://github.com/kumiori/mec647.git\n",
        "  sys.path.append('mec647/')\n",
        "\n",
        "  import mec647\n",
        "  from mec647 import meshes\n",
        "  from mec647.meshes import primitives\n",
        "  from mec647.utils.viz import plot_mesh, plot_scalar, plot_vector\n",
        "\n",
        "except Exception as e:\n",
        "  print('Something went wrong', e)\n",
        "  !rm -rf mec647\n",
        "  !git clone https://github.com/kumiori/mec647.git\n",
        "\n"
      ]
    },
    {
      "cell_type": "markdown",
      "metadata": {
        "id": "ZCAPW6Rk4pnL"
      },
      "source": [
        "### Setup computational patch\n"
      ]
    },
    {
      "cell_type": "code",
      "execution_count": 22,
      "metadata": {
        "id": "onB6Cn24freZ"
      },
      "outputs": [],
      "source": [
        "%%capture\n",
        "from dolfinx.io import XDMFFile, gmshio\n",
        "from mpi4py import MPI\n",
        "from pathlib import Path\n",
        "gmsh.finalize()\n",
        "\n",
        "# We parametrise the domain (target) dimension, we solve 2D for now \n",
        "tdim = 2\n",
        "\n",
        "# Default mesh parameters are geometric\n",
        "\n",
        "if branch_name == 'andres-plates':\n",
        "  from mec647.meshes.ikea import mesh_ikea_real as slab_with_holes\n",
        "\n",
        "#   model, tdim, tag_names = mesh_function('perforated_slab',\n",
        "#                   geom_parameters={},\n",
        "#                   lc=.01,\n",
        "#                   tdim=2,\n",
        "#                   order=0,\n",
        "#                   msh_file='perforated_slab.msh'\n",
        "#                   )\n",
        "elif branch_name == 'main':\n",
        "  from mec647.meshes import primitives\n",
        "\n",
        "  default_parameters = {\n",
        "      'geometry': {\n",
        "          'geom_type': 'bar',\n",
        "          'Lx': 1.,\n",
        "          'Ly': 0.1\n",
        "      }\n",
        "  }\n",
        "\n",
        "  gmsh_model, tdim = primitives.mesh_bar_gmshapi(\n",
        "      default_parameters.get('geometry').get('geom_type'),\n",
        "      default_parameters.get('geometry').get('Lx'), \n",
        "      default_parameters.get('geometry').get('Ly'), \n",
        "      lc=0.03, \n",
        "      tdim=tdim)\n",
        "\n",
        "# Mesh on node model_rank and then distribute\n",
        "model_rank = 0\n",
        "\n",
        "from dolfinx.mesh import CellType\n",
        "\n",
        "# Get mesh and meshtags\n",
        "# mesh, mts, fts = gmshio.model_to_mesh(gmsh_model, comm, model_rank, tdim)\n",
        "lc = 0.03\n",
        "nc = list(map(lambda v: int(v/lc), [default_parameters.get('geometry').get('Lx'),\n",
        "  default_parameters.get('geometry').get('Ly')]))\n",
        "\n",
        "\n",
        "mesh = dolfinx.mesh.create_rectangle(comm, [[0.0, 0.0], [default_parameters.get('geometry').get('Lx'),\n",
        "                                                         default_parameters.get('geometry').get('Ly')]],\n",
        "                                     nc,\n",
        "                                     cell_type=CellType.triangle)\n"
      ]
    },
    {
      "cell_type": "code",
      "execution_count": 23,
      "metadata": {
        "colab": {
          "base_uri": "https://localhost:8080/",
          "height": 114
        },
        "id": "bsZIi1mWf3AN",
        "outputId": "62b64a18-e351-4e1d-eb5d-9dc58f2fb01d"
      },
      "outputs": [
        {
          "data": {
            "text/plain": [
              "Text(0.5, 1.0, 'Mesh with parameters, dimension 2')"
            ]
          },
          "execution_count": 23,
          "metadata": {},
          "output_type": "execute_result"
        },
        {
          "data": {
            "image/png": "[encoded data removed]",
            "text/plain": [
              "<Figure size 432x288 with 1 Axes>"
            ]
          },
          "metadata": {
            "needs_background": "light"
          },
          "output_type": "display_data"
        }
      ],
      "source": [
        "# Viz the mesh\n",
        "\n",
        "plt.figure()\n",
        "ax = plot_mesh(mesh)\n",
        "fig = ax.get_figure()\n",
        "plt.title(f\"Mesh with parameters, dimension {tdim}\")\n",
        "# fig.savefig(f\"one_mesh.png\")"
      ]
    },
    {
      "cell_type": "code",
      "execution_count": 32,
      "metadata": {
        "colab": {
          "base_uri": "https://localhost:8080/"
        },
        "id": "UZQDTODuSfoZ",
        "outputId": "c47092db-e6a2-4b78-8203-c0254c5881b9"
      },
      "outputs": [
        {
          "name": "stdout",
          "output_type": "stream",
          "text": [
            "parameters.yml\n"
          ]
        }
      ],
      "source": [
        "!ls mec647/test/data/banquise"
      ]
    },
    {
      "cell_type": "code",
      "execution_count": 34,
      "metadata": {
        "id": "G9MhYO5en-hY"
      },
      "outputs": [],
      "source": [
        "# Let's get the entire set of parameters\n",
        "import yaml\n",
        "\n",
        "with open(\"mec647/test/data/banquise/parameters.yml\") as f:\n",
        "    parameters = yaml.load(f, Loader=yaml.FullLoader)\n",
        "    "
      ]
    },
    {
      "cell_type": "code",
      "execution_count": 39,
      "metadata": {
        "colab": {
          "base_uri": "https://localhost:8080/",
          "height": 98
        },
        "id": "ZIiBFk08TfZE",
        "outputId": "0f8b71b6-09b5-4827-fab4-cd9ac22290fc"
      },
      "outputs": [
        {
          "data": {
            "text/plain": [
              "Text(0.5, 1.0, '~Computational Mesh with parameters, dimension 2')"
            ]
          },
          "execution_count": 39,
          "metadata": {},
          "output_type": "execute_result"
        },
        {
          "data": {
            "image/png": "[encoded data removed]",
            "text/plain": [
              "<Figure size 432x288 with 1 Axes>"
            ]
          },
          "metadata": {
            "needs_background": "light"
          },
          "output_type": "display_data"
        }
      ],
      "source": [
        "_lc = parameters.get('geometry').get('lc')\n",
        "_ly = parameters.get('geometry').get('Ly')\n",
        "_lx = parameters.get('geometry').get('Lx')\n",
        "\n",
        "_nc = list(map(lambda v: int(v/_lc), \n",
        "              [_lx, _ly]))\n",
        "\n",
        "mesh = dolfinx.mesh.create_rectangle(comm, [[0.0, 0.0], [_lx,_ly]],\n",
        "                                     _nc,\n",
        "                                     cell_type=CellType.triangle)\n",
        "\n",
        "plt.figure()\n",
        "ax = plot_mesh(mesh)\n",
        "fig = ax.get_figure()\n",
        "plt.title(f\"~Computational Mesh with parameters, dimension {tdim}\")"
      ]
    },
    {
      "cell_type": "code",
      "execution_count": 54,
      "metadata": {
        "id": "Ms8MFyxDnLZs"
      },
      "outputs": [],
      "source": [
        "# Functional Setting\n",
        "\n",
        "element_u = basix.ufl.element(\"Lagrange\", mesh.basix_cell(),\n",
        "                              degree=1, shape=(2,))\n",
        "\n",
        "element_alpha = basix.ufl.element(\"Lagrange\", mesh.basix_cell(),\n",
        "                              degree=1)\n",
        "\n",
        "V_u = dolfinx.fem.functionspace(mesh, element_u) \n",
        "V_alpha = dolfinx.fem.functionspace(mesh, element_alpha) \n",
        "\n",
        "u = dolfinx.fem.Function(V_u, name=\"Displacement\")\n",
        "u_ = dolfinx.fem.Function(V_u, name=\"BoundaryDisplacement\")\n",
        "\n",
        "alpha = dolfinx.fem.Function(V_alpha, name=\"Damage\")\n",
        "\n",
        "# Pack state\n",
        "state = {\"u\": u, \"alpha\": alpha}\n",
        "\n",
        "# Bounds\n",
        "alpha_ub = dolfinx.fem.Function(V_alpha, name=\"UpperBoundDamage\")\n",
        "alpha_lb = dolfinx.fem.Function(V_alpha, name=\"LowerBoundDamage\")\n",
        "\n",
        "dx = ufl.Measure(\"dx\", domain = mesh)\n",
        "ds = ufl.Measure(\"ds\", domain = mesh)\n",
        "\n",
        "# Useful references\n",
        "Lx = parameters.get(\"geometry\").get(\"Lx\")\n",
        "Ly = parameters.get(\"geometry\").get(\"Ly\")"
      ]
    },
    {
      "cell_type": "code",
      "execution_count": 41,
      "metadata": {
        "id": "xnVFLN4Anavu"
      },
      "outputs": [],
      "source": [
        "# Boundary sets\n",
        "\n",
        "from dolfinx.fem import locate_dofs_geometrical, dirichletbc\n",
        "\n",
        "\n",
        "dofs_alpha_left = locate_dofs_geometrical(V_alpha, lambda x: np.isclose(x[0], 0.))\n",
        "dofs_alpha_right = locate_dofs_geometrical(V_alpha, lambda x: np.isclose(x[0], Lx))\n",
        "\n",
        "dofs_u_left = locate_dofs_geometrical(V_u, lambda x: np.isclose(x[0], 0.))\n",
        "dofs_u_right = locate_dofs_geometrical(V_u, lambda x: np.isclose(x[0], Lx))\n",
        "\n",
        "# Boundary data\n",
        "\n",
        "u_.interpolate(lambda x: (np.ones_like(x[0]), np.zeros_like(x[1])))\n",
        "\n",
        "# Bounds (nontrivial)\n",
        "\n",
        "alpha_lb.interpolate(lambda x: np.zeros_like(x[0]))\n",
        "alpha_ub.interpolate(lambda x: np.ones_like(x[0]))"
      ]
    },
    {
      "cell_type": "code",
      "execution_count": 42,
      "metadata": {
        "id": "C5vBUw8Knbtu"
      },
      "outputs": [],
      "source": [
        "# Boundary conditions\n",
        "\n",
        "bcs_u = [\n",
        "         dirichletbc(np.array([0., 0.], dtype=PETSc.ScalarType),\n",
        "                      dofs_u_left,\n",
        "                      V_u),\n",
        "         dirichletbc(u_, dofs_u_right)\n",
        "         ]\n",
        "\n",
        "bcs_alpha = [\n",
        "             dirichletbc(np.array(0., dtype = PETSc.ScalarType),\n",
        "                         np.concatenate([dofs_alpha_left, dofs_alpha_right]),\n",
        "                         V_alpha)\n",
        "]\n",
        "bcs = {\"bcs_u\": bcs_u, \"bcs_alpha\": bcs_alpha}\n"
      ]
    },
    {
      "cell_type": "code",
      "execution_count": 61,
      "metadata": {
        "id": "21ElBiFLoSpB"
      },
      "outputs": [],
      "source": [
        "import yaml\n",
        "\n",
        "from dolfinx.fem import (\n",
        "    Constant)\n",
        "\n",
        "# Material behaviour\n",
        "from models import BrittleMembraneOverElasticFoundation as Banquise\n",
        "\n",
        "parameters_str = '''\n",
        "# === Loading === #\n",
        "loading:\n",
        "    min: 0\n",
        "    max: 1.001\n",
        "    steps: 10\n",
        "\n",
        "#  === Geometry === #\n",
        "geometry:\n",
        "    geometric_dimension: 2\n",
        "    geom_type: \"banquise\"\n",
        "    Lx: 1.\n",
        "    Ly: .1\n",
        "    lc: 0.02\n",
        "#  === Model === #\n",
        "model:\n",
        "    ell: 0.1\n",
        "    ell_e: 0.3\n",
        "    model_dimension: 2\n",
        "    model_type: \"2D\"\n",
        "    # could be \"2D\"/ \"3D\" / \"plane_stress\" / \"plane_strain\"\n",
        "# === Solver === #\n",
        "solvers:\n",
        "    elasticity:\n",
        "        prefix: elasticity\n",
        "        snes:\n",
        "            snes_type: newtontr\n",
        "            snes_stol: 1e-8\n",
        "            snes_atol: 1e-8\n",
        "            snes_rtol: 1e-8\n",
        "            snes_max_it: 100\n",
        "            # snes_divergence_tolerance: -1.0\n",
        "            snes_monitor: \"\"\n",
        "            ksp_type: preonly\n",
        "            pc_type: lu\n",
        "            pc_factor_mat_solver_type: mumps\n",
        "\n",
        "    # Damage solver parameters\n",
        "    damage:\n",
        "        type: SNES\n",
        "        prefix: damage\n",
        "        snes:\n",
        "            # Options in the case of SNES solver\n",
        "            snes_type: vinewtonrsls\n",
        "            snes_linesearch_type: basic\n",
        "            ksp_type: preonly\n",
        "            pc_type: lu\n",
        "            pc_factor_mat_solver_type: mumps\n",
        "            snes_atol: 1.0e-5\n",
        "            snes_rtol: 1.0e-5\n",
        "            # snes_stol: 0.0\n",
        "            snes_max_it: 50\n",
        "            # snes_divergence_tolerance: -1.0\n",
        "            snes_monitor: \"\"\n",
        "        tao:\n",
        "            # Options in the case of TAO solver\n",
        "            tao_type: tron\n",
        "            tao_gpcg_maxpgits: 50\n",
        "            tao_max_it: 100\n",
        "            tao_steptol: 1.0e-7\n",
        "            tao_gatol: 1.0e-8\n",
        "            tao_grtol: 1.0e-8\n",
        "            tao_gttol: 1.0e-8\n",
        "            tao_catol: 0.\n",
        "            tao_crtol: 0.\n",
        "            tao_ls_ftol: 1e-5\n",
        "            tao_ls_gtol: 1e-5\n",
        "            tao_ls_rtol: 1e-5\n",
        "            ksp_rtol: 1e-6\n",
        "            tao_ls_stepmin: 1e-8\n",
        "            tao_ls_stepmax: 1e6\n",
        "            pc_type: lu\n",
        "            tao_monitor: \"\"\n",
        "\n",
        "    # Damage Elasticity Solver parameters\n",
        "    damage_elasticity:\n",
        "        max_it: 100\n",
        "        alpha_rtol: 1.0e-5\n",
        "        criterion: \"alpha_H1\"\n",
        "'''\n",
        "parameters = yaml.load(parameters_str, Loader=yaml.FullLoader)\n",
        "\n",
        "tau = Constant(mesh, np.array(0., dtype=PETSc.ScalarType))\n",
        "eps_0 = tau * ufl.as_tensor([[1., 0], [0, 0]])\n",
        "\n",
        "model = Banquise(parameters[\"model\"], eps_0=eps_0)\n",
        "\n",
        "\n",
        "# Energy functional\n",
        "\n",
        "# trace of geostrophic forces \n",
        "# gt = dolfinx.fem.Function(V_u, name=\"Geostrophic\")\n",
        "gt = Constant(mesh, np.array([0, 0], dtype=PETSc.ScalarType))\n",
        "external_work = ufl.dot(gt, state[\"u\"]) * dx\n",
        "total_energy = model.total_energy_density(state) * dx - external_work\n",
        "\n",
        "# total_energy = model.total_energy_density(state) * dx\n"
      ]
    },
    {
      "cell_type": "code",
      "execution_count": 62,
      "metadata": {
        "id": "Reb9FOGaochC"
      },
      "outputs": [],
      "source": [
        "# Evolution solver\n",
        "import algorithms\n",
        "from algorithms import am\n",
        "\n",
        "solver = am.AlternateMinimisation(total_energy,\n",
        "                         state,\n",
        "                         bcs,\n",
        "                         parameters.get(\"solvers\"),\n",
        "                         bounds=(alpha_lb, alpha_ub)\n",
        "                         )"
      ]
    },
    {
      "cell_type": "code",
      "execution_count": 63,
      "metadata": {
        "colab": {
          "base_uri": "https://localhost:8080/"
        },
        "id": "1weih1fXol0x",
        "outputId": "44135167-3346-4971-8f1d-4e32fe73fabe"
      },
      "outputs": [
        {
          "name": "stdout",
          "output_type": "stream",
          "text": [
            "Solving timestep 0, load: 0.0\n",
            "  0 SNES Function norm 0.000000000000e+00 \n",
            "  0 SNES Function norm 0.000000000000e+00 \n",
            "Solved timestep 0, load: 0.0\n",
            "Elastic Energy 0, Surface energy: 0\n",
            "\n",
            "\n",
            "\n",
            "Solving timestep 1, load: 0.11122222222222221\n",
            "  0 SNES Function norm 3.359277566367e-18 \n",
            "  0 SNES Function norm 0.000000000000e+00 \n",
            "Solved timestep 1, load: 0.11122222222222221\n",
            "Elastic Energy 0.000309, Surface energy: 0\n",
            "\n",
            "\n",
            "\n",
            "Solving timestep 2, load: 0.22244444444444442\n",
            "  0 SNES Function norm 6.718555132733e-18 \n",
            "  0 SNES Function norm 0.000000000000e+00 \n",
            "Solved timestep 2, load: 0.22244444444444442\n",
            "Elastic Energy 0.00124, Surface energy: 0\n",
            "\n",
            "\n",
            "\n",
            "Solving timestep 3, load: 0.3336666666666666\n",
            "  0 SNES Function norm 0.000000000000e+00 \n",
            "  0 SNES Function norm 0.000000000000e+00 \n",
            "Solved timestep 3, load: 0.3336666666666666\n",
            "Elastic Energy 0.00278, Surface energy: 0\n",
            "\n",
            "\n",
            "\n",
            "Solving timestep 4, load: 0.44488888888888883\n",
            "  0 SNES Function norm 1.343711026547e-17 \n",
            "  0 SNES Function norm 0.000000000000e+00 \n",
            "Solved timestep 4, load: 0.44488888888888883\n",
            "Elastic Energy 0.00495, Surface energy: 0\n",
            "\n",
            "\n",
            "\n",
            "Solving timestep 5, load: 0.556111111111111\n",
            "  0 SNES Function norm 6.718555132733e-18 \n",
            "  0 SNES Function norm 0.000000000000e+00 \n",
            "Solved timestep 5, load: 0.556111111111111\n",
            "Elastic Energy 0.00773, Surface energy: 0\n",
            "\n",
            "\n",
            "\n",
            "Solving timestep 6, load: 0.6673333333333332\n",
            "  0 SNES Function norm 0.000000000000e+00 \n",
            "  0 SNES Function norm 0.000000000000e+00 \n",
            "Solved timestep 6, load: 0.6673333333333332\n",
            "Elastic Energy 0.0111, Surface energy: 0\n",
            "\n",
            "\n",
            "\n",
            "Solving timestep 7, load: 0.7785555555555554\n",
            "  0 SNES Function norm 0.000000000000e+00 \n",
            "  0 SNES Function norm 0.000000000000e+00 \n",
            "Solved timestep 7, load: 0.7785555555555554\n",
            "Elastic Energy 0.0152, Surface energy: 0\n",
            "\n",
            "\n",
            "\n",
            "Solving timestep 8, load: 0.8897777777777777\n",
            "  0 SNES Function norm 2.687422053093e-17 \n",
            "  0 SNES Function norm 0.000000000000e+00 \n",
            "Solved timestep 8, load: 0.8897777777777777\n",
            "Elastic Energy 0.0198, Surface energy: 0\n",
            "\n",
            "\n",
            "\n",
            "Solving timestep 9, load: 1.001\n",
            "  0 SNES Function norm 0.000000000000e+00 \n",
            "  0 SNES Function norm 0.000000000000e+00 \n",
            "Solved timestep 9, load: 1.001\n",
            "Elastic Energy 0.0251, Surface energy: 0\n",
            "\n",
            "\n",
            "\n",
            "CPU times: user 5.64 s, sys: 2.31 s, total: 7.96 s\n",
            "Wall time: 29 s\n"
          ]
        }
      ],
      "source": [
        "%%time\n",
        "# Loop for evolution\n",
        "from dolfinx.fem import assemble_scalar\n",
        "\n",
        "\n",
        "loads = np.linspace(parameters.get(\"loading\").get(\"min\"),\n",
        "                    parameters.get(\"loading\").get(\"max\"),\n",
        "                    parameters.get(\"loading\").get(\"steps\"))\n",
        "\n",
        "data = {\n",
        "    'elastic': [],\n",
        "    'foundation': [],\n",
        "    'membrane': [],\n",
        "    'surface': [],\n",
        "    'total': [],\n",
        "    'load': []\n",
        "}\n",
        "for (i_t, t) in enumerate(loads):\n",
        "\n",
        "  # update loads (body)\n",
        "  # gt.interpolate(lambda x: (0. * np.ones_like(x[0]), np.zeros_like(x[1])))\n",
        "  # gt.x.petsc_vec.ghostUpdate(addv=PETSc.InsertMode.INSERT,\n",
        "  #                       mode=PETSc.ScatterMode.FORWARD)\n",
        "\n",
        "  gt.value=[0, 0]\n",
        "  tau.value = t\n",
        "\n",
        "  # update loads (boundary conditions)\n",
        "  \n",
        "  u_.interpolate(lambda x: (0 * np.ones_like(x[0]), np.zeros_like(x[1])))\n",
        "  u_.x.petsc_vec.ghostUpdate(addv=PETSc.InsertMode.INSERT,\n",
        "                        mode=PETSc.ScatterMode.FORWARD)\n",
        "\n",
        "  # update lower bound for damage\n",
        "  alpha.x.petsc_vec.copy(alpha_lb.x.petsc_vec)\n",
        "  alpha.x.petsc_vec.ghostUpdate(addv=PETSc.InsertMode.INSERT,\n",
        "                        mode=PETSc.ScatterMode.FORWARD)\n",
        "\n",
        "  # solve for current load step\n",
        "  print(f\"Solving timestep {i_t}, load: {t}\")\n",
        "\n",
        "  solver.solve()\n",
        "\n",
        "  # postprocessing\n",
        "  # global\n",
        "\n",
        "  surface_energy = comm.allreduce(\n",
        "          assemble_scalar(\n",
        "            dolfinx.fem.form(model.damage_dissipation_density(state) * dx)),\n",
        "          op=MPI.SUM\n",
        "          )\n",
        "\n",
        "  foundation_energy = comm.allreduce(\n",
        "      assemble_scalar(dolfinx.fem.form(model.elastic_foundation_density(u) * dx)),\n",
        "      op=MPI.SUM,\n",
        "  )\n",
        "\n",
        "  elastic_energy = comm.allreduce(\n",
        "      assemble_scalar(\n",
        "        dolfinx.fem.form(model.elastic_energy_density(state) * dx)),\n",
        "          op=MPI.SUM\n",
        "        )\n",
        "  \n",
        "  data.get('elastic').append(elastic_energy)\n",
        "  data.get('surface').append(surface_energy)\n",
        "  data.get(\"foundation\").append(foundation_energy)\n",
        "  data.get(\"membrane\").append(elastic_energy - foundation_energy)\n",
        "  data.get('total').append(surface_energy+elastic_energy)\n",
        "  data.get('load').append(t)\n",
        "\n",
        "  print(f\"Solved timestep {i_t}, load: {t}\")\n",
        "  print(f\"Elastic Energy {elastic_energy:.3g}, Surface energy: {surface_energy:.3g}\")\n",
        "  print(\"\\n\\n\")\n",
        "\n",
        "  # savings?\n"
      ]
    },
    {
      "cell_type": "code",
      "execution_count": 56,
      "metadata": {
        "colab": {
          "base_uri": "https://localhost:8080/",
          "height": 333
        },
        "id": "lvlG7HjJorOu",
        "outputId": "3890706a-6e6a-4205-ebe2-bc0028a7f581"
      },
      "outputs": [
        {
          "data": {
            "text/plain": [
              "([<matplotlib.axis.XTick at 0x7f128f189e90>,\n",
              "  <matplotlib.axis.XTick at 0x7f128f189690>],\n",
              " [Text(0, 0, '0'), Text(0, 0, '1')])"
            ]
          },
          "execution_count": 56,
          "metadata": {},
          "output_type": "execute_result"
        },
        {
          "data": {
            "image/png": "[encoded data removed]",
            "text/plain": [
              "<Figure size 432x288 with 1 Axes>"
            ]
          },
          "metadata": {
            "needs_background": "light"
          },
          "output_type": "display_data"
        }
      ],
      "source": [
        "plt.plot(data.get('load'), data.get('surface'), label='surface', marker='o')\n",
        "plt.plot(data.get('load'), data.get('elastic'), label='elastic', marker='o')\n",
        "plt.plot(data.get('load'), [1./2. * t**2*Ly for t in data.get('load')], label='anal elast', ls=':', c='k')\n",
        "\n",
        "plt.title('Traction bar energetics')\n",
        "plt.legend()\n",
        "plt.yticks([0, 1/20], [0, '$1/2.\\sigma_c^2/E_0$'])\n",
        "plt.xticks([0, 1], [0, 1])"
      ]
    },
    {
      "cell_type": "code",
      "execution_count": 57,
      "metadata": {
        "id": "hKRNyEaCouZR"
      },
      "outputs": [],
      "source": [
        "# experiments\n",
        "params0, data0 = parameters, data\n"
      ]
    },
    {
      "cell_type": "code",
      "execution_count": 59,
      "metadata": {
        "colab": {
          "base_uri": "https://localhost:8080/",
          "height": 298
        },
        "id": "hwbAa2wcoxS2",
        "outputId": "26f6b30d-0c91-4c5e-d482-abaaca73d445"
      },
      "outputs": [
        {
          "data": {
            "text/plain": [
              "Text(0.5, 1.0, 'Traction bar damage profile')"
            ]
          },
          "execution_count": 59,
          "metadata": {},
          "output_type": "execute_result"
        },
        {
          "data": {
            "image/png": "[encoded data removed]",
            "text/plain": [
              "<Figure size 432x288 with 1 Axes>"
            ]
          },
          "metadata": {
            "needs_background": "light"
          },
          "output_type": "display_data"
        }
      ],
      "source": [
        "\n",
        "import pyvista\n",
        "from pyvista.utilities import xvfb\n",
        "\n",
        "xvfb.start_xvfb(wait=0.05)\n",
        "pyvista.OFF_SCREEN = True\n",
        "\n",
        "from mec647.utils.viz import plot_vector, plot_scalar, plot_profile\n",
        "\n",
        "plotter = pyvista.Plotter(\n",
        "    title=\"Damage profile\",\n",
        "    window_size=[800, 600],\n",
        "    shape=(1, 1),\n",
        ")\n",
        "_ell = parameters.get('model').get('ell')\n",
        "tol = 1e-3\n",
        "xs = np.linspace(0 + tol, Lx - tol, 101)\n",
        "points = np.zeros((3, 101))\n",
        "points[0] = xs\n",
        "\n",
        "_plt, data = plot_profile(\n",
        "    alpha,\n",
        "    points,\n",
        "    plotter,\n",
        "    subplot=(0, 0),\n",
        "    lineproperties={\n",
        "        \"c\": \"k\",\n",
        "        # \"label\": f\"$\\alpha$ with $\\ell$ = {_ell:.2f}\"\n",
        "        \"label\": f\"alpha ell = {_ell:.2f}\"\n",
        "    },\n",
        ")\n",
        "ax = _plt.gca()\n",
        "# ax.axvline(Lx/2 - 2*_ell, c=\"k\")\n",
        "# ax.axvline(Lx/2 + 2*_ell, c=\"k\", label='|supp|=$4\\ell$')\n",
        "ax.axvline(Lx/2 , c=\"k\", ls=':', label='$x_0$')\n",
        "_plt.legend()\n",
        "_plt.fill_between(data[0], data[1].reshape(len(data[1])))\n",
        "_plt.ylim([0,1])\n",
        "_plt.title(\"Traction bar damage profile\")\n"
      ]
    },
    {
      "cell_type": "code",
      "execution_count": null,
      "metadata": {
        "id": "TOP4SRL0o0ZV"
      },
      "outputs": [],
      "source": []
    }
  ],
  "metadata": {
    "colab": {
      "collapsed_sections": [],
      "include_colab_link": true,
      "name": "mec647_Banquise_11.ipynb",
      "provenance": []
    },
    "kernelspec": {
      "display_name": "Python 3",
      "name": "python3"
    },
    "language_info": {
      "name": "python"
    }
  },
  "nbformat": 4,
  "nbformat_minor": 0
}
