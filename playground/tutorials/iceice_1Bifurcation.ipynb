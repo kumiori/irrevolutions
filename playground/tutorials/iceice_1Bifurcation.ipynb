{
  "cells": [
    {
      "cell_type": "markdown",
      "metadata": {
        "colab_type": "text",
        "id": "view-in-github"
      },
      "source": [
        "<a href=\"https://colab.research.google.com/github/kumiori/mec647/blob/main/iceice_1Bifurcation.ipynb\" target=\"_parent\"><img src=\"https://colab.research.google.com/assets/colab-badge.svg\" alt=\"Open In Colab\"/></a>\n"
      ]
    },
    {
      "cell_type": "markdown",
      "metadata": {
        "id": "QhlVFLnq4pnI"
      },
      "source": [
        "```\n",
        "# This is formatted as code\n",
        "```\n",
        "\n",
        "# Stability of an Irreversible System, along the Evolution\n",
        "\n",
        "## To Bifurcate or !$_2$ Bifurcate\n",
        "\n",
        "We solve an instance of unilaterally evolving system, wildly nonlinear and singularly pertubed, nonconvex hence allowing many minimisers. Expect broken symmetries starting from isotropy, constant coefficients, and homogeneous data.\n",
        "\n",
        "Welcome to the Jungle.\n",
        "\n",
        "Suggested listening:\n",
        "\n",
        "- In The Panchine - In The Panchine (2004) Full Album. Check-check-IT. Where are you?\n",
        "\n",
        "---\n",
        "\n",
        "Let $\\Omega \\subset (0, L)^2$, $L$ finite, being the (or one) characteristic length of the specimen.\n",
        "For any\n",
        "\n",
        "- displacement field $u-bcs(t)\\in V_t : H^1(\\Omega, R^n)$ with $n=1, 2$ or $3$, and\n",
        "- damage field $\\alpha \\in H^1(\\Omega, R)$,\n",
        "\n",
        "consider the energy $E_\\ell(u, \\alpha)$ defined as\n",
        "\n",
        "$$\n",
        "E_\\ell(y)=\\frac{1}{2}\\int_\\Omega \\left( a(\\alpha) W(u) + w_0(u) \\right) dx + \\underbrace{\\frac{G_c}{c_w\\ell} \\int \\left(w(\\alpha) + \\ell^2 |\\nabla \\alpha|^2 \\right)dx}_{\\text{Surface energy}}- \\int_\\Omega g_t.u dx\n",
        "$$\n",
        "\n",
        "In practice, $\\ell \\ll L$.\n",
        "\n",
        "Above, $W$ is the elastic energy density, reading (in linearised elasticity as)\n",
        "\n",
        "$$\n",
        "W(u) = Ae(u):e(u)\n",
        "$$\n",
        "\n",
        "where $A$ is the 4-th order tensor of elasticity, in the isotropic and homogeneous case, it corresponds to a linear combination with two coefficients, say, $A_0$ the stiffness (dimensional), and $\\nu$ the Poisson ratio (non-dimensional).\n",
        "\n",
        "Above, $w(\\alpha)$ corresponds to the dissipated energy to homogeneously damage the specimen, the gradient term accounts for spatial variations.\n",
        "The mechanical model $E_\\ell(y)$ is a _local functional_, in the strict analytic sense. Nonetheless, it can be written in equivalent form using non-local (Green) kernels.\n",
        "\n",
        "**Keypoint:** these two terms are weighted by $\\ell$, a parameter that is homogeneous to a length and is understood as a _material_ quantity (as opposed to _numerical_ one).\n",
        "\n",
        "Define $D(\\alpha_0):=\\left\\{ \\alpha \\in H^1(\\Omega), \\alpha \\geq \\alpha_0 \\right\\}$, for some $\\alpha_0(x)\\geq 0$ pointwise.\n",
        "Reamark that the homogeneous version of $D$ is the positive cone of $H^1$.\n",
        "\n",
        "We solve two types of problems (by increasing difficulty):\n",
        "\n",
        "- **The static problem**: Given a load (boundary conditions) and an initial state of damage $\\alpha_0$, what is the equilibrium displacement and repartition of damage?\n",
        "  In other terms:\n",
        "\n",
        "$\n",
        "\\text{ min loc} \\left\\{ E_\\ell(u, \\alpha):\n",
        " u \\in V_t, \\alpha \\in D(\\alpha_0) \\right\\}.\n",
        "$\n",
        "\n",
        "- **The evolution problem**: Given a load **history** (boundary conditions as a function of $t$) and an initial state of damage $\\alpha_0$, what is the _evolution_ of equilibrium displacement and repartition of damage, i.e.\n",
        "  the map $t\\mapsto (u_t, \\alpha_t)$, such that\n",
        "  - (Irrevers.) $\\alpha_t \\nearrow t$, [is irreversible]\n",
        "  - **(N-Bifurcation)** the rate $\\dot y_t$ is unique only if there exists $(\\lambda, w)\\in R\\times X_{t,0}$ satisfies,\n",
        "    $$E''_\\ell (\\dot y_t)(w, y) = \\lambda \\langle w, y\\rangle, \\forall y \\in X_{t,0}$$\n",
        "    with $\\lambda>0$, where $X_{t,0}$ is the vector space associated with the unconstrained degrees of freedom [see Maurini&ALB%2021].\n",
        "  - (N-Stability) $y_t$ is stable only if there exists $\\bar h$ such that for $h\\in (0, \\bar h)$,\n",
        "    $$E_\\ell (y_t) \\leq E_\\ell(y_t + z), \\forall z \\in C_{t,0}^+, ||y_t+z||\\leq h$$\n",
        "  - (Power statement) (Ext. power) = (Internal energy flux)\n",
        "\n",
        "## Let'solve.\n",
        "\n",
        "I attack **(N-Bifurcation)** subject to **(Irrevers.)**, leaving **(Power statement)** to be checked.\n",
        "\n",
        "### First, setup from a clean state\n"
      ]
    },
    {
      "cell_type": "code",
      "execution_count": 1,
      "metadata": {
        "colab": {
          "base_uri": "https://localhost:8080/"
        },
        "id": "zC6dhNHJfgrb",
        "outputId": "7e09be6e-b126-4e83-e890-ee030f4ea9b3"
      },
      "outputs": [
        {
          "name": "stdout",
          "output_type": "stream",
          "text": [
            "CPU times: user 670 ms, sys: 312 ms, total: 983 ms\n",
            "Wall time: 41.7 s\n"
          ]
        }
      ],
      "source": [
        "%%time\n",
        "%%capture\n",
        "import sys\n",
        "\n",
        "try:\n",
        "    import google.colab  # noqa: F401\n",
        "except ImportError:\n",
        "    import ufl  # noqa: F401\n",
        "    import dolfinx  # noqa: F401\n",
        "    import basix.ufl  # noqa: F401\n",
        "\n",
        "else:\n",
        "    try:\n",
        "        import gmsh\n",
        "    except ImportError:\n",
        "        !wget \"https://fem-on-colab.github.io/releases/gmsh-install.sh\" -O \"/tmp/gmsh-install.sh\" && bash \"/tmp/gmsh-install.sh\"\n",
        "        import gmsh\n",
        "\n",
        "    try:\n",
        "        import ufl\n",
        "        import dolfinx\n",
        "        import basix.ufl\n",
        "\n",
        "    except ImportError:\n",
        "        !wget \"https://github.com/fem-on-colab/fem-on-colab.github.io/raw/779acd87a4e108672d7ebd3eefd9e8e555bb51d9/releases/fenicsx-install-real.sh\" -O \"/tmp/fenicsx-install.sh\" && bash \"/tmp/fenicsx-install.sh\"\n",
        "        import ufl  # noqa: F401\n",
        "        import dolfinx  # noqa: F401\n",
        "        import basix.ufl  # noqa: F401\n",
        "\n",
        "\n",
        "!sudo apt install libgl1-mesa-glx xvfb;\n",
        "!{sys.executable} -m pip install pip --upgrade;\n",
        "!{sys.executable} -m pip install pythreejs;\n",
        "!{sys.executable} -m pip install ipygany;\n",
        "!{sys.executable} -m pip install petsc4py;\n",
        "!{sys.executable} -m pip install --upgrade PyYAML;\n",
        "!{sys.executable} -m pip install --upgrade networkx;\n",
        "!{sys.executable} -m pip install --upgrade matplotlib==3.1.3;\n"
      ]
    },
    {
      "cell_type": "markdown",
      "metadata": {
        "id": "0xbfPIJ_4pnK"
      },
      "source": [
        "## Install our Code, codename: \\***\\*\\_\\*\\***\n"
      ]
    },
    {
      "cell_type": "code",
      "execution_count": 8,
      "metadata": {
        "colab": {
          "base_uri": "https://localhost:8080/"
        },
        "id": "fBRSF4i0fm5d",
        "outputId": "6cd80982-8a1c-4309-ad43-8eec542e3417"
      },
      "outputs": [
        {
          "name": "stdout",
          "output_type": "stream",
          "text": [
            "Cloning into 'mec647'...\n",
            "remote: Enumerating objects: 1496, done.\u001b[K\n",
            "remote: Counting objects: 100% (229/229), done.\u001b[K\n",
            "remote: Compressing objects: 100% (124/124), done.\u001b[K\n",
            "remote: Total 1496 (delta 145), reused 150 (delta 97), pack-reused 1267\u001b[K\n",
            "Receiving objects: 100% (1496/1496), 24.92 MiB | 23.59 MiB/s, done.\n",
            "Resolving deltas: 100% (776/776), done.\n",
            "\u001b[33mcommit ca633c93fe0d7b3e874b108f63bd88e4ac985e8e\u001b[m\u001b[33m (\u001b[m\u001b[1;36mHEAD -> \u001b[m\u001b[1;32mandres-ic3cr∀k5\u001b[m\u001b[33m, \u001b[m\u001b[1;31morigin/andres-ic3cr∀k5\u001b[m\u001b[33m)\u001b[m\n",
            "Author: andres <leon.baldelli@cnrs.fr>\n",
            "Date:   Wed Sep 21 17:50:06 2022 +0200\n",
            "\n",
            "    pushing stability params\n"
          ]
        }
      ],
      "source": [
        "import matplotlib.pyplot as plt\n",
        "from petsc4py import PETSc\n",
        "import numpy as np\n",
        "from mpi4py import MPI\n",
        "comm = MPI.COMM_WORLD\n",
        "\n",
        "branch_name = 'main'\n",
        "branch_name = 'andres-ic3cr∀k5'\n",
        "\n",
        "!rm -rf mec647\n",
        "try:\n",
        "  !git clone -b {branch_name} https://github.com/kumiori/mec647.git\n",
        "  sys.path.append('mec647/')\n",
        "  !cd mec647 && git log -1 && cd ..\n",
        "\n",
        "  import mec647\n",
        "  from mec647 import meshes\n",
        "  from mec647.meshes import primitives\n",
        "  from mec647.utils.viz import plot_mesh, plot_scalar, plot_vector\n",
        "\n",
        "except Exception as e:\n",
        "  print('Something went wrong', e)\n",
        "  !rm -rf mec647\n",
        "  !git clone https://github.com/kumiori/mec647.git\n",
        "\n"
      ]
    },
    {
      "cell_type": "markdown",
      "metadata": {
        "id": "ZCAPW6Rk4pnL"
      },
      "source": [
        "### Setup computational patch\n"
      ]
    },
    {
      "cell_type": "code",
      "execution_count": 9,
      "metadata": {
        "id": "RP7TGlfkyjT4"
      },
      "outputs": [],
      "source": [
        "from dolfinx.io import XDMFFile, distribute_entity_data, gmshio"
      ]
    },
    {
      "cell_type": "code",
      "execution_count": 4,
      "metadata": {
        "id": "onB6Cn24freZ"
      },
      "outputs": [],
      "source": [
        "%%capture\n",
        "from dolfinx.io import XDMFFile, gmshio\n",
        "from mpi4py import MPI\n",
        "from pathlib import Path\n",
        "\n",
        "# We parametrise the domain (target) dimension, we solve 2D for now \n",
        "tdim = 2\n",
        "\n",
        "# Default mesh parameters are geometric\n",
        "\n",
        "print(f'Branch name {branch_name}')\n",
        "if branch_name == 'andres-plates':\n",
        "  from mec647.meshes.ikea import mesh_ikea_real as slab_with_holes\n",
        "\n",
        "elif branch_name == 'andres-ic3cr∀k5':\n",
        "  from mec647.meshes import primitives\n",
        "  default_parameters = {\n",
        "      'geometry': {\n",
        "          'geom_type': 'bar',\n",
        "          'Lx': 1.,\n",
        "          'Ly': 0.1\n",
        "      }\n",
        "  }\n",
        "\n",
        "  gmsh_model, tdim = primitives.mesh_bar_gmshapi(\n",
        "      default_parameters.get('geometry').get('geom_type'),\n",
        "      default_parameters.get('geometry').get('Lx'), \n",
        "      default_parameters.get('geometry').get('Ly'), \n",
        "      lc=0.03, \n",
        "      tdim=tdim)\n",
        "  \n",
        "elif branch_name == 'main':\n",
        "  from mec647.meshes import primitives\n",
        "\n",
        "\n",
        "# Mesh on node model_rank and then distribute\n",
        "model_rank = 0\n",
        "\n",
        "from dolfinx.mesh import CellType\n",
        "\n",
        "# Get mesh and meshtags\n",
        "mesh, mts, fts = gmshio.model_to_mesh(gmsh_model, comm, model_rank, tdim)\n"
      ]
    },
    {
      "cell_type": "code",
      "execution_count": 5,
      "metadata": {
        "colab": {
          "base_uri": "https://localhost:8080/",
          "height": 114
        },
        "id": "bsZIi1mWf3AN",
        "outputId": "977d5da7-c1cd-480f-d4fd-9b7683a1003b"
      },
      "outputs": [
        {
          "data": {
            "text/plain": [
              "Text(0.5, 1.0, 'Mesh with parameters, dimension 2')"
            ]
          },
          "execution_count": 5,
          "metadata": {},
          "output_type": "execute_result"
        },
        {
          "data": {
            "image/png": "[encoded data removed]",
            "text/plain": [
              "<Figure size 432x288 with 1 Axes>"
            ]
          },
          "metadata": {
            "needs_background": "light"
          },
          "output_type": "display_data"
        }
      ],
      "source": [
        "# Viz the mesh\n",
        "\n",
        "from mec647.utils.viz import plot_mesh, plot_scalar, plot_vector\n",
        "\n",
        "plt.figure()\n",
        "ax = plot_mesh(mesh)\n",
        "fig = ax.get_figure()\n",
        "plt.title(f\"Mesh with parameters, dimension {tdim}\")\n",
        "# fig.savefig(f\"one_mesh.png\")"
      ]
    },
    {
      "cell_type": "code",
      "execution_count": 6,
      "metadata": {
        "colab": {
          "base_uri": "https://localhost:8080/"
        },
        "id": "UZQDTODuSfoZ",
        "outputId": "18e5c125-881c-4e62-d2e2-8d0872b3eedd"
      },
      "outputs": [
        {
          "name": "stdout",
          "output_type": "stream",
          "text": [
            "parameters.yml\n"
          ]
        }
      ],
      "source": [
        "!ls mec647/test/data/banquise"
      ]
    },
    {
      "cell_type": "code",
      "execution_count": 16,
      "metadata": {
        "id": "G9MhYO5en-hY"
      },
      "outputs": [],
      "source": [
        "# Let's get the entire set of parameters\n",
        "import yaml\n",
        "\n",
        "with open(\"mec647/test/data/stability/parameters.yml\") as f:\n",
        "    parameters = yaml.load(f, Loader=yaml.FullLoader)\n",
        "    "
      ]
    },
    {
      "cell_type": "code",
      "execution_count": 11,
      "metadata": {
        "colab": {
          "base_uri": "https://localhost:8080/",
          "height": 114
        },
        "id": "ZIiBFk08TfZE",
        "outputId": "dffc3ea8-5b6e-47f2-9d9d-43a5b1bbd94b"
      },
      "outputs": [
        {
          "data": {
            "text/plain": [
              "Text(0.5, 1.0, '~Computational Mesh with parameters, dimension 2')"
            ]
          },
          "execution_count": 11,
          "metadata": {},
          "output_type": "execute_result"
        },
        {
          "data": {
            "image/png": "[encoded data removed]",
            "text/plain": [
              "<Figure size 432x288 with 1 Axes>"
            ]
          },
          "metadata": {
            "needs_background": "light"
          },
          "output_type": "display_data"
        }
      ],
      "source": [
        "_lc = parameters.get('geometry').get('lc')\n",
        "_ly = parameters.get('geometry').get('Ly')\n",
        "_lx = parameters.get('geometry').get('Lx')\n",
        "\n",
        "plt.figure()\n",
        "ax = plot_mesh(mesh)\n",
        "fig = ax.get_figure()\n",
        "plt.title(f\"~Computational Mesh with parameters, dimension {tdim}\")"
      ]
    },
    {
      "cell_type": "code",
      "execution_count": 12,
      "metadata": {
        "id": "Ms8MFyxDnLZs"
      },
      "outputs": [],
      "source": [
        "# Functional Setting\n",
        "\n",
        "element_u = basix.ufl.element(\"Lagrange\", mesh.basix_cell(),\n",
        "                              degree=1, shape=(2,))\n",
        "\n",
        "element_alpha = basix.ufl.element(\"Lagrange\", mesh.basix_cell(),\n",
        "                              degree=1)\n",
        "\n",
        "V_u = dolfinx.fem.functionspace(mesh, element_u) \n",
        "V_alpha = dolfinx.fem.functionspace(mesh, element_alpha) \n",
        "\n",
        "u = dolfinx.fem.Function(V_u, name=\"Displacement\")\n",
        "u_ = dolfinx.fem.Function(V_u, name=\"BoundaryDisplacement\")\n",
        "\n",
        "alpha = dolfinx.fem.Function(V_alpha, name=\"Damage\")\n",
        "\n",
        "# Pack state\n",
        "state = {\"u\": u, \"alpha\": alpha}\n",
        "\n",
        "# Bounds\n",
        "alpha_ub = dolfinx.fem.Function(V_alpha, name=\"UpperBoundDamage\")\n",
        "alpha_lb = dolfinx.fem.Function(V_alpha, name=\"LowerBoundDamage\")\n",
        "\n",
        "dx = ufl.Measure(\"dx\", domain = mesh)\n",
        "ds = ufl.Measure(\"ds\", domain = mesh)\n",
        "\n",
        "# Useful references\n",
        "Lx = parameters.get(\"geometry\").get(\"Lx\")\n",
        "Ly = parameters.get(\"geometry\").get(\"Ly\")"
      ]
    },
    {
      "cell_type": "code",
      "execution_count": 13,
      "metadata": {
        "id": "xnVFLN4Anavu"
      },
      "outputs": [],
      "source": [
        "from dolfinx.fem import locate_dofs_geometrical, dirichletbc\n",
        "\n",
        "dofs_alpha_left = locate_dofs_geometrical(V_alpha, lambda x: np.isclose(x[0], 0.))\n",
        "dofs_alpha_right = locate_dofs_geometrical(V_alpha, lambda x: np.isclose(x[0], Lx))\n",
        "\n",
        "dofs_u_left = locate_dofs_geometrical(V_u, lambda x: np.isclose(x[0], 0.))\n",
        "dofs_u_right = locate_dofs_geometrical(V_u, lambda x: np.isclose(x[0], Lx))\n",
        "\n",
        "# Boundary data\n",
        "\n",
        "u_.interpolate(lambda x: (np.ones_like(x[0]), np.zeros_like(x[1])))\n",
        "\n",
        "# Bounds (nontrivial)\n",
        "\n",
        "alpha_lb.interpolate(lambda x: np.zeros_like(x[0]))\n",
        "alpha_ub.interpolate(lambda x: np.ones_like(x[0]))"
      ]
    },
    {
      "cell_type": "code",
      "execution_count": 14,
      "metadata": {
        "id": "C5vBUw8Knbtu"
      },
      "outputs": [],
      "source": [
        "# Boundary conditions\n",
        "\n",
        "bcs_u = [\n",
        "         dirichletbc(np.array([0., 0.], dtype=PETSc.ScalarType),\n",
        "                      dofs_u_left,\n",
        "                      V_u),\n",
        "         dirichletbc(u_, dofs_u_right)\n",
        "         ]\n",
        "\n",
        "bcs_alpha = [\n",
        "             dirichletbc(np.array(0., dtype = PETSc.ScalarType),\n",
        "                         np.concatenate([dofs_alpha_left, dofs_alpha_right]),\n",
        "                         V_alpha)\n",
        "]\n",
        "bcs = {\"bcs_u\": bcs_u, \"bcs_alpha\": bcs_alpha}\n"
      ]
    },
    {
      "cell_type": "code",
      "execution_count": 17,
      "metadata": {
        "id": "21ElBiFLoSpB"
      },
      "outputs": [],
      "source": [
        "import yaml\n",
        "\n",
        "from dolfinx.fem import (\n",
        "    Constant)\n",
        "\n",
        "# Material behaviour\n",
        "from models import DamageElasticityModel as Brittle\n",
        "\n",
        "parameters_str = '''\n",
        "# === Loading === #\n",
        "loading:\n",
        "    min: 0\n",
        "    max: 1.001\n",
        "    steps: 10\n",
        "\n",
        "#  === Geometry === #\n",
        "geometry:\n",
        "    geometric_dimension: 2\n",
        "    geom_type: \"banquise\"\n",
        "    Lx: 1.\n",
        "    Ly: .1\n",
        "    lc: 0.02\n",
        "#  === Model === #\n",
        "model:\n",
        "    ell: 0.1\n",
        "    ell_e: 0.3\n",
        "    model_dimension: 2\n",
        "    model_type: \"2D\"\n",
        "    # could be \"2D\"/ \"3D\" / \"plane_stress\" / \"plane_strain\"\n",
        "# === Solver === #\n",
        "solvers:\n",
        "    elasticity:\n",
        "        prefix: elasticity\n",
        "        snes:\n",
        "            snes_type: newtontr\n",
        "            snes_stol: 1e-8\n",
        "            snes_atol: 1e-8\n",
        "            snes_rtol: 1e-8\n",
        "            snes_max_it: 100\n",
        "            # snes_divergence_tolerance: -1.0\n",
        "            snes_monitor: \"\"\n",
        "            ksp_type: preonly\n",
        "            pc_type: lu\n",
        "            pc_factor_mat_solver_type: mumps\n",
        "\n",
        "    # Damage solver parameters\n",
        "    damage:\n",
        "        type: SNES\n",
        "        prefix: damage\n",
        "        snes:\n",
        "            # Options in the case of SNES solver\n",
        "            snes_type: vinewtonrsls\n",
        "            snes_linesearch_type: basic\n",
        "            ksp_type: preonly\n",
        "            pc_type: lu\n",
        "            pc_factor_mat_solver_type: mumps\n",
        "            snes_atol: 1.0e-5\n",
        "            snes_rtol: 1.0e-5\n",
        "            # snes_stol: 0.0\n",
        "            snes_max_it: 50\n",
        "            # snes_divergence_tolerance: -1.0\n",
        "            snes_monitor: \"\"\n",
        "        tao:\n",
        "            # Options in the case of TAO solver\n",
        "            tao_type: tron\n",
        "            tao_gpcg_maxpgits: 50\n",
        "            tao_max_it: 100\n",
        "            tao_steptol: 1.0e-7\n",
        "            tao_gatol: 1.0e-8\n",
        "            tao_grtol: 1.0e-8\n",
        "            tao_gttol: 1.0e-8\n",
        "            tao_catol: 0.\n",
        "            tao_crtol: 0.\n",
        "            tao_ls_ftol: 1e-5\n",
        "            tao_ls_gtol: 1e-5\n",
        "            tao_ls_rtol: 1e-5\n",
        "            ksp_rtol: 1e-6\n",
        "            tao_ls_stepmin: 1e-8\n",
        "            tao_ls_stepmax: 1e6\n",
        "            pc_type: lu\n",
        "            tao_monitor: \"\"\n",
        "\n",
        "    # Damage Elasticity Solver parameters\n",
        "    damage_elasticity:\n",
        "        max_it: 100\n",
        "        alpha_rtol: 1.0e-5\n",
        "        criterion: \"alpha_H1\"\n",
        "'''\n",
        "# parameters = yaml.load(parameters_str, Loader=yaml.FullLoader)\n",
        "\n",
        "model = Brittle(parameters[\"model\"])\n",
        "\n",
        "\n",
        "# Energy functional\n",
        "\n",
        "# trace of geostrophic forces \n",
        "# gt = dolfinx.fem.Function(V_u, name=\"Geostrophic\")\n",
        "gt = Constant(mesh, np.array([0, 0], dtype=PETSc.ScalarType))\n",
        "external_work = ufl.dot(gt, state[\"u\"]) * dx\n",
        "total_energy = model.total_energy_density(state) * dx - external_work\n",
        "\n",
        "# total_energy = model.total_energy_density(state) * dx\n"
      ]
    },
    {
      "cell_type": "code",
      "execution_count": 20,
      "metadata": {
        "id": "Reb9FOGaochC"
      },
      "outputs": [],
      "source": [
        "# Evolution solver\n",
        "import algorithms\n",
        "from algorithms import am\n",
        "from algorithms.so import StabilitySolver\n",
        "\n",
        "solver = am.AlternateMinimisation(total_energy,\n",
        "                         state,\n",
        "                         bcs,\n",
        "                         parameters.get(\"solvers\"),\n",
        "                         bounds=(alpha_lb, alpha_ub)\n",
        "                         )\n",
        "\n",
        "stability = StabilitySolver(\n",
        "    total_energy, state, bcs, stability_parameters=parameters.get(\"stability\")\n",
        ")\n",
        "\n",
        "import os\n",
        "\n",
        "outdir = \"output\"\n",
        "prefix = os.path.join(outdir, \"stability\")\n",
        "if comm.rank == 0:\n",
        "    Path(prefix).mkdir(parents=True, exist_ok=True)\n",
        "\n"
      ]
    },
    {
      "cell_type": "code",
      "execution_count": 26,
      "metadata": {
        "colab": {
          "base_uri": "https://localhost:8080/",
          "height": 36
        },
        "id": "K-Zyjq4sxqp7",
        "outputId": "d4f25d79-2bed-47ef-82a9-10f280bc3785"
      },
      "outputs": [
        {
          "data": {
            "application/vnd.google.colaboratory.intrinsic+json": {
              "type": "string"
            },
            "text/plain": [
              "'output/stability/_eigv_0.00.xdmf'"
            ]
          },
          "execution_count": 26,
          "metadata": {},
          "output_type": "execute_result"
        }
      ],
      "source": [
        "\n",
        "f\"{prefix}/_eigv_{t:3.2f}.xdmf\""
      ]
    },
    {
      "cell_type": "code",
      "execution_count": 31,
      "metadata": {
        "colab": {
          "base_uri": "https://localhost:8080/"
        },
        "id": "1weih1fXol0x",
        "outputId": "3b0dbc47-cd7f-4d20-c43d-1b559f45ef87"
      },
      "outputs": [
        {
          "name": "stdout",
          "output_type": "stream",
          "text": [
            "Solving timestep 0, load: 0.0\n",
            "  0 SNES Function norm 0.000000000000e+00 \n",
            "  0 SNES Function norm 0.000000000000e+00 \n",
            "\u001b[1;34mSaving the eigenvetors for the following eigenvalues\u001b[0m\n",
            "\u001b[1;34m[0.0002498136756214366, 0.001666161437865377, 0.00550856855277913, 0.005796354314892304, 0.012807532070160756, 0.023074206578878893, 0.024264943348142255, 0.04026425910060965, 0.05150114514540859, 0.06097747352619745]\u001b[0m\n",
            "State is elastic: True\n",
            "State's inertia: (0, 0, 362)\n",
            "State is stable: True\n",
            "Solved timestep 0, load: 0.0\n",
            "Elastic Energy 0, Surface energy: 0\n",
            "\n",
            "\n",
            "\n",
            "Solving timestep 1, load: 0.11122222222222221\n",
            "  0 SNES Function norm 3.522588743959e-01 \n",
            "  1 SNES Function norm 2.718538097657e-01 \n",
            "  2 SNES Function norm 1.110436805054e-01 \n",
            "  3 SNES Function norm 1.571561234246e-16 \n",
            "  0 SNES Function norm 0.000000000000e+00 \n",
            "\u001b[1;34mSaving the eigenvetors for the following eigenvalues\u001b[0m\n",
            "\u001b[1;34m[0.0002498136756214366, 0.001666161437865377, 0.00550856855277913, 0.005796354314892304, 0.012807532070160756, 0.023074206578878893, 0.024264943348142255, 0.04026425910060965, 0.05150114514540859, 0.06097747352619745]\u001b[0m\n",
            "State is elastic: True\n",
            "State's inertia: (0, 0, 362)\n",
            "State is stable: True\n",
            "Solved timestep 1, load: 0.11122222222222221\n",
            "Elastic Energy 0.000619, Surface energy: 0\n",
            "\n",
            "\n",
            "\n",
            "Solving timestep 2, load: 0.22244444444444442\n",
            "  0 SNES Function norm 3.522588743959e-01 \n",
            "  1 SNES Function norm 2.818070995167e-01 \n",
            "  2 SNES Function norm 1.409035497584e-01 \n",
            "  3 SNES Function norm 2.321358238205e-16 \n",
            "  0 SNES Function norm 0.000000000000e+00 \n",
            "\u001b[1;34mSaving the eigenvetors for the following eigenvalues\u001b[0m\n",
            "\u001b[1;34m[0.0002498136756214366, 0.001666161437865377, 0.00550856855277913, 0.005796354314892304, 0.012807532070160756, 0.023074206578878893, 0.024264943348142255, 0.04026425910060965, 0.05150114514540859, 0.06097747352619745]\u001b[0m\n",
            "State is elastic: True\n",
            "State's inertia: (0, 0, 362)\n",
            "State is stable: True\n",
            "Solved timestep 2, load: 0.22244444444444442\n",
            "Elastic Energy 0.00247, Surface energy: 0\n",
            "\n",
            "\n",
            "\n",
            "Solving timestep 3, load: 0.3336666666666666\n",
            "  0 SNES Function norm 3.522588743959e-01 \n",
            "  1 SNES Function norm 2.113553246375e-01 \n",
            "  2 SNES Function norm 3.749980513312e-16 \n",
            "  0 SNES Function norm 0.000000000000e+00 \n",
            "\u001b[1;34mSaving the eigenvetors for the following eigenvalues\u001b[0m\n",
            "\u001b[1;34m[0.0002498136756214366, 0.001666161437865377, 0.00550856855277913, 0.005796354314892304, 0.012807532070160756, 0.023074206578878893, 0.024264943348142255, 0.04026425910060965, 0.05150114514540859, 0.06097747352619745]\u001b[0m\n",
            "State is elastic: True\n",
            "State's inertia: (0, 0, 362)\n",
            "State is stable: True\n",
            "Solved timestep 3, load: 0.3336666666666666\n",
            "Elastic Energy 0.00557, Surface energy: 0\n",
            "\n",
            "\n",
            "\n",
            "Solving timestep 4, load: 0.44488888888888883\n",
            "  0 SNES Function norm 3.522588743959e-01 \n",
            "  1 SNES Function norm 1.409035497584e-01 \n",
            "  2 SNES Function norm 4.089479002253e-16 \n",
            "  0 SNES Function norm 0.000000000000e+00 \n",
            "\u001b[1;34mSaving the eigenvetors for the following eigenvalues\u001b[0m\n",
            "\u001b[1;34m[0.0002498136756214366, 0.001666161437865377, 0.00550856855277913, 0.005796354314892304, 0.012807532070160756, 0.023074206578878893, 0.024264943348142255, 0.04026425910060965, 0.05150114514540859, 0.06097747352619745]\u001b[0m\n",
            "State is elastic: True\n",
            "State's inertia: (0, 0, 362)\n",
            "State is stable: True\n",
            "Solved timestep 4, load: 0.44488888888888883\n",
            "Elastic Energy 0.0099, Surface energy: 0\n",
            "\n",
            "\n",
            "\n",
            "Solving timestep 5, load: 0.556111111111111\n",
            "  0 SNES Function norm 3.522588743959e-01 \n",
            "  1 SNES Function norm 7.045177487918e-02 \n",
            "  2 SNES Function norm 4.594310020811e-16 \n",
            "  0 SNES Function norm 0.000000000000e+00 \n",
            "\u001b[1;34mSaving the eigenvetors for the following eigenvalues\u001b[0m\n",
            "\u001b[1;34m[0.0002498136756214366, 0.001666161437865377, 0.00550856855277913, 0.005796354314892304, 0.012807532070160756, 0.023074206578878893, 0.024264943348142255, 0.04026425910060965, 0.05150114514540859, 0.06097747352619745]\u001b[0m\n",
            "State is elastic: True\n",
            "State's inertia: (0, 0, 362)\n",
            "State is stable: True\n",
            "Solved timestep 5, load: 0.556111111111111\n",
            "Elastic Energy 0.0155, Surface energy: 0\n",
            "\n",
            "\n",
            "\n",
            "Solving timestep 6, load: 0.6673333333333332\n",
            "  0 SNES Function norm 3.522588743959e-01 \n",
            "  1 SNES Function norm 6.976723918176e-16 \n",
            "  0 SNES Function norm 0.000000000000e+00 \n",
            "\u001b[1;34mSaving the eigenvetors for the following eigenvalues\u001b[0m\n",
            "\u001b[1;34m[0.0002498136756214366, 0.001666161437865377, 0.00550856855277913, 0.005796354314892304, 0.012807532070160756, 0.023074206578878893, 0.024264943348142255, 0.04026425910060965, 0.05150114514540859, 0.06097747352619745]\u001b[0m\n",
            "State is elastic: True\n",
            "State's inertia: (0, 0, 362)\n",
            "State is stable: True\n",
            "Solved timestep 6, load: 0.6673333333333332\n",
            "Elastic Energy 0.0223, Surface energy: 0\n",
            "\n",
            "\n",
            "\n",
            "Solving timestep 7, load: 0.7785555555555554\n",
            "  0 SNES Function norm 3.522588743959e-01 \n",
            "  1 SNES Function norm 7.981252949317e-16 \n",
            "  0 SNES Function norm 0.000000000000e+00 \n",
            "\u001b[1;34mSaving the eigenvetors for the following eigenvalues\u001b[0m\n",
            "\u001b[1;34m[0.0002498136756214366, 0.001666161437865377, 0.00550856855277913, 0.005796354314892304, 0.012807532070160756, 0.023074206578878893, 0.024264943348142255, 0.04026425910060965, 0.05150114514540859, 0.06097747352619745]\u001b[0m\n",
            "State is elastic: True\n",
            "State's inertia: (0, 0, 362)\n",
            "State is stable: True\n",
            "Solved timestep 7, load: 0.7785555555555554\n",
            "Elastic Energy 0.0303, Surface energy: 0\n",
            "\n",
            "\n",
            "\n",
            "Solving timestep 8, load: 0.8897777777777777\n",
            "  0 SNES Function norm 3.522588743959e-01 \n",
            "  1 SNES Function norm 8.040341091683e-16 \n",
            "  0 SNES Function norm 0.000000000000e+00 \n",
            "\u001b[1;34mSaving the eigenvetors for the following eigenvalues\u001b[0m\n",
            "\u001b[1;34m[0.0002498136756214366, 0.001666161437865377, 0.00550856855277913, 0.005796354314892304, 0.012807532070160756, 0.023074206578878893, 0.024264943348142255, 0.04026425910060965, 0.05150114514540859, 0.06097747352619745]\u001b[0m\n",
            "State is elastic: True\n",
            "State's inertia: (0, 0, 362)\n",
            "State is stable: True\n",
            "Solved timestep 8, load: 0.8897777777777777\n",
            "Elastic Energy 0.0396, Surface energy: 0\n",
            "\n",
            "\n",
            "\n",
            "Solving timestep 9, load: 1.001\n",
            "  0 SNES Function norm 3.522588743959e-01 \n",
            "  1 SNES Function norm 8.047545844890e-16 \n",
            "  0 SNES Function norm 1.567294409991e-05 \n",
            "  1 SNES Function norm 2.677709392825e-19 \n",
            "  0 SNES Function norm 7.365896119327e-05 \n",
            "  1 SNES Function norm 8.060433058538e-16 \n",
            "  0 SNES Function norm 1.390666194760e-05 \n",
            "  1 SNES Function norm 2.455717007001e-19 \n",
            "  0 SNES Function norm 6.698906108898e-05 \n",
            "  1 SNES Function norm 7.649892807798e-16 \n",
            "  0 SNES Function norm 1.866055592192e-05 \n",
            "  1 SNES Function norm 7.620341749297e-06 \n",
            "  0 SNES Function norm 1.110189930027e-04 \n",
            "  1 SNES Function norm 7.867254798995e-16 \n",
            "  0 SNES Function norm 2.582131804964e-05 \n",
            "  1 SNES Function norm 1.914551828164e-06 \n",
            "  0 SNES Function norm 1.508110974803e-04 \n",
            "  1 SNES Function norm 7.936991389994e-16 \n",
            "  0 SNES Function norm 3.709143714103e-05 \n",
            "  1 SNES Function norm 7.724289525911e-06 \n",
            "  0 SNES Function norm 2.182789073123e-04 \n",
            "  1 SNES Function norm 7.365571763825e-16 \n",
            "  0 SNES Function norm 5.034790848353e-05 \n",
            "  1 SNES Function norm 6.621770977691e-19 \n",
            "  0 SNES Function norm 2.962988693947e-04 \n",
            "  1 SNES Function norm 7.425092146872e-16 \n",
            "  0 SNES Function norm 7.129042226230e-05 \n",
            "  1 SNES Function norm 3.468128550884e-06 \n",
            "  0 SNES Function norm 4.148319432597e-04 \n",
            "  1 SNES Function norm 7.626208008707e-16 \n",
            "  0 SNES Function norm 9.824069884407e-05 \n",
            "  1 SNES Function norm 1.223418657589e-18 \n",
            "  0 SNES Function norm 5.742085726634e-04 \n",
            "  1 SNES Function norm 7.852073232101e-16 \n",
            "  0 SNES Function norm 1.395926581091e-04 \n",
            "  1 SNES Function norm 1.842054323633e-06 \n",
            "  0 SNES Function norm 8.023477153769e-04 \n",
            "  1 SNES Function norm 7.298107657005e-16 \n",
            "  0 SNES Function norm 1.965427708886e-04 \n",
            "  1 SNES Function norm 2.272899436802e-18 \n",
            "  0 SNES Function norm 1.117465168209e-03 \n",
            "  1 SNES Function norm 6.808348522897e-16 \n",
            "  0 SNES Function norm 2.835313463389e-04 \n",
            "  1 SNES Function norm 2.355095484960e-18 \n",
            "  0 SNES Function norm 1.565265673182e-03 \n",
            "  1 SNES Function norm 7.368724048514e-16 \n",
            "  0 SNES Function norm 4.152234941844e-04 \n",
            "  1 SNES Function norm 4.215236718098e-18 \n",
            "  0 SNES Function norm 2.198085247103e-03 \n",
            "  1 SNES Function norm 7.266387578480e-16 \n",
            "  0 SNES Function norm 6.215941229592e-04 \n",
            "  1 SNES Function norm 3.456618657723e-06 \n",
            "  0 SNES Function norm 3.091534279083e-03 \n",
            "  1 SNES Function norm 6.738830582559e-16 \n",
            "  0 SNES Function norm 9.508913776517e-04 \n",
            "  1 SNES Function norm 9.564338077514e-18 \n",
            "  0 SNES Function norm 4.317686301269e-03 \n",
            "  1 SNES Function norm 6.731615182397e-16 \n",
            "  0 SNES Function norm 1.535445464576e-03 \n",
            "  1 SNES Function norm 9.628928079663e-18 \n",
            "  0 SNES Function norm 5.972050760766e-03 \n",
            "  1 SNES Function norm 6.613484267373e-16 \n",
            "  0 SNES Function norm 2.629533926493e-03 \n",
            "  1 SNES Function norm 2.094762420010e-04 \n",
            "  2 SNES Function norm 1.130272741334e-17 \n",
            "  0 SNES Function norm 7.924099263278e-03 \n",
            "  1 SNES Function norm 5.999015196553e-16 \n",
            "  0 SNES Function norm 4.812715487035e-03 \n",
            "  1 SNES Function norm 2.332979650330e-04 \n",
            "  2 SNES Function norm 1.356271652016e-17 \n",
            "  0 SNES Function norm 9.589708382313e-03 \n",
            "  1 SNES Function norm 5.801448308770e-16 \n",
            "  0 SNES Function norm 9.158141471816e-03 \n",
            "  1 SNES Function norm 6.256775263552e-04 \n",
            "  2 SNES Function norm 1.469154578773e-17 \n",
            "  0 SNES Function norm 9.662074863991e-03 \n",
            "  1 SNES Function norm 6.711625531844e-16 \n",
            "  0 SNES Function norm 1.521054136699e-02 \n",
            "  1 SNES Function norm 4.957851876127e-04 \n",
            "  2 SNES Function norm 1.133128315436e-04 \n",
            "  3 SNES Function norm 1.854901374167e-17 \n",
            "  0 SNES Function norm 7.132561957590e-03 \n",
            "  1 SNES Function norm 6.668124545713e-16 \n",
            "  0 SNES Function norm 1.402570621863e-02 \n",
            "  1 SNES Function norm 6.607049214647e-04 \n",
            "  2 SNES Function norm 2.043696118784e-04 \n",
            "  3 SNES Function norm 1.651678905947e-17 \n",
            "  0 SNES Function norm 2.340961061041e-03 \n",
            "  1 SNES Function norm 9.058967139873e-16 \n",
            "  0 SNES Function norm 2.568261025795e-03 \n",
            "  1 SNES Function norm 2.401747952054e-17 \n",
            "  0 SNES Function norm 2.098722063749e-04 \n",
            "  1 SNES Function norm 7.348822594587e-16 \n",
            "  0 SNES Function norm 4.188332621243e-04 \n",
            "  1 SNES Function norm 3.067968881782e-17 \n",
            "  0 SNES Function norm 1.042070041389e-04 \n",
            "  1 SNES Function norm 7.240395115875e-16 \n",
            "  0 SNES Function norm 6.452415347336e-04 \n",
            "  1 SNES Function norm 5.106668482786e-17 \n",
            "  0 SNES Function norm 1.984650769930e-04 \n",
            "  1 SNES Function norm 7.381976465538e-16 \n",
            "  0 SNES Function norm 1.246124676180e-03 \n",
            "  1 SNES Function norm 4.644926181232e-17 \n",
            "  0 SNES Function norm 3.856840826247e-04 \n",
            "  1 SNES Function norm 8.403899611494e-16 \n",
            "  0 SNES Function norm 2.306058679040e-03 \n",
            "  1 SNES Function norm 2.389669087996e-05 \n",
            "  2 SNES Function norm 3.705019013381e-17 \n",
            "  0 SNES Function norm 6.906087830926e-04 \n",
            "  1 SNES Function norm 7.663756741063e-16 \n",
            "  0 SNES Function norm 3.502493725885e-03 \n",
            "  1 SNES Function norm 4.584697950513e-17 \n",
            "  0 SNES Function norm 9.210923877915e-04 \n",
            "  1 SNES Function norm 8.471665823210e-16 \n",
            "  0 SNES Function norm 3.400417379377e-03 \n",
            "  1 SNES Function norm 2.854418276289e-04 \n",
            "  2 SNES Function norm 2.023103169215e-17 \n",
            "  0 SNES Function norm 6.373038476560e-04 \n",
            "  1 SNES Function norm 8.408391683340e-16 \n",
            "  0 SNES Function norm 1.461359430334e-03 \n",
            "  1 SNES Function norm 2.974236016418e-17 \n",
            "  0 SNES Function norm 2.106724427154e-04 \n",
            "  1 SNES Function norm 8.245953208985e-16 \n",
            "  0 SNES Function norm 3.980943013515e-04 \n",
            "  1 SNES Function norm 3.628111504261e-17 \n",
            "  0 SNES Function norm 4.518231199862e-05 \n",
            "  1 SNES Function norm 7.297551542536e-16 \n",
            "  0 SNES Function norm 8.230171678581e-05 \n",
            "  1 SNES Function norm 4.315258296857e-17 \n",
            "  0 SNES Function norm 8.583120300501e-06 \n",
            "  1 SNES Function norm 7.294167091191e-16 \n",
            "  0 SNES Function norm 1.591626521512e-05 \n",
            "  1 SNES Function norm 2.007057435729e-17 \n",
            "  0 SNES Function norm 1.603269743731e-06 \n",
            "  1 SNES Function norm 6.453533767925e-16 \n",
            "  0 SNES Function norm 3.056073707348e-06 \n",
            "\u001b[1;34mSaving the eigenvetors for the following eigenvalues\u001b[0m\n",
            "\u001b[1;34m[0.00010284535473473687, 0.000179176567143907, 0.001951275008357796, 0.0023759203806232843, 0.0025905193900542262, 0.003649307020228927, 0.003757457002871974, 0.0039973005626032345, 0.004140267600190814, 0.004878748250965421]\u001b[0m\n",
            "State is elastic: True\n",
            "State's inertia: (0, 0, 413)\n",
            "State is stable: True\n",
            "Solved timestep 9, load: 1.001\n",
            "Elastic Energy 0.000584, Surface energy: 0.0292\n",
            "\n",
            "\n",
            "\n",
            "CPU times: user 24.4 s, sys: 10.9 s, total: 35.4 s\n",
            "Wall time: 1min 50s\n"
          ]
        }
      ],
      "source": [
        "%%time\n",
        "# Loop for evolution\n",
        "from dolfinx.fem import assemble_scalar\n",
        "from dolfinx.common import Timer, list_timings, TimingType\n",
        "\n",
        "\n",
        "loads = np.linspace(parameters.get(\"loading\").get(\"min\"),\n",
        "                    parameters.get(\"loading\").get(\"max\"),\n",
        "                    parameters.get(\"loading\").get(\"steps\"))\n",
        "\n",
        "data = {\n",
        "    'elastic': [],\n",
        "    'foundation': [],\n",
        "    'membrane': [],\n",
        "    'surface': [],\n",
        "    'total': [],\n",
        "    'load': [],\n",
        "    \"eigs\": [],\n",
        "    \"solver_data\": [],\n",
        "    \"stable\": []\n",
        "}\n",
        "\n",
        "\n",
        "check_stability = []\n",
        "\n",
        "for (i_t, t) in enumerate(loads):\n",
        "\n",
        "  # update loads (body)\n",
        "  # gt.interpolate(lambda x: (0. * np.ones_like(x[0]), np.zeros_like(x[1])))\n",
        "  # gt.x.petsc_vec.ghostUpdate(addv=PETSc.InsertMode.INSERT,\n",
        "  #                       mode=PETSc.ScatterMode.FORWARD)\n",
        "\n",
        "  gt.value=[0, 0]\n",
        "\n",
        "  # update loads (boundary conditions)\n",
        "  \n",
        "  u_.interpolate(lambda x: (t * np.ones_like(x[0]), np.zeros_like(x[1])))\n",
        "  u_.x.petsc_vec.ghostUpdate(addv=PETSc.InsertMode.INSERT,\n",
        "                        mode=PETSc.ScatterMode.FORWARD)\n",
        "\n",
        "  # update lower bound for damage\n",
        "  alpha.x.petsc_vec.copy(alpha_lb.x.petsc_vec)\n",
        "  alpha.x.petsc_vec.ghostUpdate(addv=PETSc.InsertMode.INSERT,\n",
        "                        mode=PETSc.ScatterMode.FORWARD)\n",
        "\n",
        "  # solve for current load step\n",
        "  print(f\"Solving timestep {i_t}, load: {t}\")\n",
        "\n",
        "  solver.solve()\n",
        "\n",
        "  # solve bifurcation problem\n",
        "\n",
        "  n_eigenvalues = 10\n",
        "  is_stable = stability.solve(alpha_lb, n_eigenvalues)\n",
        "  is_elastic = stability.is_elastic()\n",
        "  inertia = stability.get_inertia()\n",
        "  stability.save_eigenvectors(filename=f\"eigv_{t:3.2f}.xdmf\")\n",
        "  check_stability.append(is_stable)\n",
        "\n",
        "  print(f\"State is elastic: {is_elastic}\")\n",
        "  print(f\"State's inertia: {inertia}\")\n",
        "  print(f\"State is stable: {is_stable}\")\n",
        "  # postprocessing\n",
        "  # global\n",
        "\n",
        "  surface_energy = comm.allreduce(\n",
        "          assemble_scalar(\n",
        "            dolfinx.fem.form(model.damage_dissipation_density(state) * dx)),\n",
        "          op=MPI.SUM\n",
        "          )\n",
        "\n",
        "  elastic_energy = comm.allreduce(\n",
        "      assemble_scalar(\n",
        "        dolfinx.fem.form(model.elastic_energy_density(state) * dx)),\n",
        "          op=MPI.SUM\n",
        "        )\n",
        "  \n",
        "  data.get('elastic').append(elastic_energy)\n",
        "  data.get('surface').append(surface_energy)\n",
        "  data.get('total').append(surface_energy+elastic_energy)\n",
        "  data.get('load').append(t)\n",
        "  data.get(\"solver_data\").append(solver.data)\n",
        "  data.get(\"eigs\").append(stability.data[\"eigs\"])\n",
        "  data.get(\"stable\").append(stability.data[\"stable\"])\n",
        "\n",
        "  print(f\"Solved timestep {i_t}, load: {t}\")\n",
        "  print(f\"Elastic Energy {elastic_energy:.3g}, Surface energy: {surface_energy:.3g}\")\n",
        "  print(\"\\n\\n\")\n",
        "\n",
        "\n",
        "\n",
        "  # savings?\n",
        "list_timings(MPI.COMM_WORLD, [dolfinx.common.TimingType.wall])\n"
      ]
    },
    {
      "cell_type": "code",
      "execution_count": 24,
      "metadata": {
        "colab": {
          "base_uri": "https://localhost:8080/"
        },
        "id": "SdmgGEs0xdJm",
        "outputId": "99cbf76b-b41d-427a-fb31-9246ead62dd9"
      },
      "outputs": [
        {
          "name": "stdout",
          "output_type": "stream",
          "text": [
            "total 0\n"
          ]
        }
      ],
      "source": [
        "!ls -l output/stability"
      ]
    },
    {
      "cell_type": "code",
      "execution_count": 32,
      "metadata": {
        "colab": {
          "base_uri": "https://localhost:8080/",
          "height": 333
        },
        "id": "lvlG7HjJorOu",
        "outputId": "687e6b80-1046-496e-8a44-74bb6fa8d595"
      },
      "outputs": [
        {
          "data": {
            "text/plain": [
              "([<matplotlib.axis.XTick at 0x7fc7a4648550>,\n",
              "  <matplotlib.axis.XTick at 0x7fc79de35110>],\n",
              " <a list of 2 Text xticklabel objects>)"
            ]
          },
          "execution_count": 32,
          "metadata": {},
          "output_type": "execute_result"
        },
        {
          "data": {
            "image/png": "[encoded data removed]",
            "text/plain": [
              "<Figure size 432x288 with 1 Axes>"
            ]
          },
          "metadata": {
            "needs_background": "light"
          },
          "output_type": "display_data"
        }
      ],
      "source": [
        "plt.plot(data.get('load'), data.get('surface'), label='surface', marker='o')\n",
        "plt.plot(data.get('load'), data.get('elastic'), label='elastic', marker='o')\n",
        "plt.plot(data.get('load'), [1./2. * t**2*Ly for t in data.get('load')], label='anal elast', ls=':', c='k')\n",
        "\n",
        "plt.title('Traction bar energetics')\n",
        "plt.legend()\n",
        "plt.yticks([0, 1/20], [0, '$1/2.\\sigma_c^2/E_0$'])\n",
        "plt.xticks([0, 1], [0, 1])"
      ]
    },
    {
      "cell_type": "code",
      "execution_count": 33,
      "metadata": {
        "id": "hKRNyEaCouZR"
      },
      "outputs": [],
      "source": [
        "# experiments\n",
        "params0, data0 = parameters, data\n"
      ]
    },
    {
      "cell_type": "code",
      "execution_count": 34,
      "metadata": {
        "colab": {
          "base_uri": "https://localhost:8080/",
          "height": 298
        },
        "id": "hwbAa2wcoxS2",
        "outputId": "472b0586-3b38-4fd8-c361-46ae6fca0734"
      },
      "outputs": [
        {
          "data": {
            "text/plain": [
              "Text(0.5, 1.0, 'Traction bar damage profile')"
            ]
          },
          "execution_count": 34,
          "metadata": {},
          "output_type": "execute_result"
        },
        {
          "data": {
            "image/png": "[encoded data removed]",
            "text/plain": [
              "<Figure size 432x288 with 1 Axes>"
            ]
          },
          "metadata": {
            "needs_background": "light"
          },
          "output_type": "display_data"
        }
      ],
      "source": [
        "\n",
        "import pyvista\n",
        "from pyvista.utilities import xvfb\n",
        "\n",
        "xvfb.start_xvfb(wait=0.05)\n",
        "pyvista.OFF_SCREEN = True\n",
        "\n",
        "from mec647.utils.viz import plot_vector, plot_scalar, plot_profile\n",
        "\n",
        "plotter = pyvista.Plotter(\n",
        "    title=\"Damage profile\",\n",
        "    window_size=[800, 600],\n",
        "    shape=(1, 1),\n",
        ")\n",
        "_ell = parameters.get('model').get('ell')\n",
        "tol = 1e-3\n",
        "xs = np.linspace(0 + tol, Lx - tol, 101)\n",
        "points = np.zeros((3, 101))\n",
        "points[0] = xs\n",
        "\n",
        "_plt, data = plot_profile(\n",
        "    alpha,\n",
        "    points,\n",
        "    plotter,\n",
        "    subplot=(0, 0),\n",
        "    lineproperties={\n",
        "        \"c\": \"k\",\n",
        "        # \"label\": f\"$\\alpha$ with $\\ell$ = {_ell:.2f}\"\n",
        "        \"label\": f\"alpha ell = {_ell:.2f}\"\n",
        "    },\n",
        ")\n",
        "ax = _plt.gca()\n",
        "# ax.axvline(Lx/2 - 2*_ell, c=\"k\")\n",
        "# ax.axvline(Lx/2 + 2*_ell, c=\"k\", label='|supp|=$4\\ell$')\n",
        "ax.axvline(Lx/2 , c=\"k\", ls=':', label='$x_0$')\n",
        "_plt.legend()\n",
        "_plt.fill_between(data[0], data[1].reshape(len(data[1])))\n",
        "_plt.ylim([0,1])\n",
        "_plt.title(\"Traction bar damage profile\")\n"
      ]
    }
  ],
  "metadata": {
    "colab": {
      "collapsed_sections": [],
      "include_colab_link": true,
      "name": "iceice_1Bifurcation.ipynb",
      "provenance": []
    },
    "kernelspec": {
      "display_name": "Python 3",
      "name": "python3"
    },
    "language_info": {
      "name": "python"
    }
  },
  "nbformat": 4,
  "nbformat_minor": 0
}
