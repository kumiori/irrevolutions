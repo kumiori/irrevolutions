{
  "cells": [
    {
      "cell_type": "markdown",
      "metadata": {
        "colab_type": "text",
        "id": "view-in-github"
      },
      "source": [
        "<a href=\"https://colab.research.google.com/github/kumiori/mec647/blob/main/mec647_Latest_10.ipynb\" target=\"_parent\"><img src=\"https://colab.research.google.com/assets/colab-badge.svg\" alt=\"Open In Colab\"/></a>\n"
      ]
    },
    {
      "cell_type": "code",
      "execution_count": null,
      "metadata": {
        "id": "zC6dhNHJfgrb"
      },
      "outputs": [],
      "source": [
        "%%time\n",
        "%%capture\n",
        "import sys\n",
        "\n",
        "try:\n",
        "    import google.colab  # noqa: F401\n",
        "except ImportError:\n",
        "    import ufl  # noqa: F401\n",
        "    import dolfinx  # noqa: F401\n",
        "else:\n",
        "    try:\n",
        "        import ufl\n",
        "        import dolfinx\n",
        "    except ImportError:\n",
        "        !wget \"https://fem-on-colab.github.io/releases/fenicsx-install.sh\" -O \"/tmp/fenicsx-install.sh\" && bash \"/tmp/fenicsx-install.sh\";\n",
        "        import ufl  # noqa: F401\n",
        "        import dolfinx  # noqa: F401\n",
        "\n",
        "try:\n",
        "    import pyvista\n",
        "except ImportError:\n",
        "    !{sys.executable} -m pip install --upgrade pyvista itkwidgets;\n",
        "    import pyvista  # noqa: F401\n",
        "    from pyvista.utilities import xvfb\n",
        "\n",
        "try:\n",
        "    import gmsh\n",
        "except ImportError:\n",
        "    !{sys.executable} -m pip install gmsh\n",
        "    import gmsh\n",
        "\n",
        "!sudo apt install libgl1-mesa-glx xvfb;\n",
        "!{sys.executable} -m pip install pythreejs;\n",
        "!{sys.executable} -m pip install ipygany;\n",
        "!{sys.executable} -m pip install --upgrade PyYAML"
      ]
    },
    {
      "cell_type": "code",
      "execution_count": null,
      "metadata": {
        "id": "fBRSF4i0fm5d"
      },
      "outputs": [],
      "source": [
        "import matplotlib.pyplot as plt\n",
        "from petsc4py import PETSc\n",
        "import numpy as np\n",
        "from mpi4py import MPI\n",
        "comm = MPI.COMM_WORLD\n",
        "\n",
        "branch_name = 'main'\n",
        "\n",
        "!rm -rf mec647\n",
        "try:\n",
        "  !git clone -b {branch_name} https://github.com/kumiori/mec647.git\n",
        "  sys.path.append('mec647/')\n",
        "\n",
        "  import mec647\n",
        "  from mec647 import meshes\n",
        "  from mec647.meshes import primitives\n",
        "  from mec647.utils.viz import plot_mesh, plot_scalar, plot_vector\n",
        "\n",
        "except Exception as e:\n",
        "  print('Something went wrong', e)\n",
        "  !rm -rf mec647\n",
        "  !git clone https://github.com/kumiori/mec647.git\n",
        "\n"
      ]
    },
    {
      "cell_type": "code",
      "execution_count": null,
      "metadata": {
        "id": "onB6Cn24freZ"
      },
      "outputs": [],
      "source": [
        "%%capture\n",
        "from dolfinx.io import XDMFFile\n",
        "from mec647.meshes import gmsh_model_to_mesh\n",
        "from mpi4py import MPI\n",
        "from pathlib import Path\n",
        "gmsh.finalize()\n",
        "\n",
        "# We parametrise the domain (target) dimension, we solve 2D for now \n",
        "tdim = 2\n",
        "\n",
        "# Default mesh parameters are geometric\n",
        "\n",
        "if branch_name == 'andres-plates':\n",
        "  from mec647.meshes.ikea import mesh_ikea_real as slab_with_holes\n",
        "\n",
        "  model, tdim, tag_names = mesh_function('perforated_slab',\n",
        "                  geom_parameters={},\n",
        "                  lc=.01,\n",
        "                  tdim=2,\n",
        "                  order=0,\n",
        "                  msh_file='perforated_slab.msh'\n",
        "                  )\n",
        "elif branch_name == 'main':\n",
        "  from mec647.meshes import primitives\n",
        "\n",
        "  default_parameters = {\n",
        "      'geometry': {\n",
        "          'geom_type': 'bar',\n",
        "          'Lx': 1.,\n",
        "          'Ly': 0.1\n",
        "      }\n",
        "  }\n",
        "\n",
        "\n",
        "  gmsh_model, tdim = primitives.mesh_bar_gmshapi(\n",
        "      default_parameters.get('geometry').get('geom_type'),\n",
        "      default_parameters.get('geometry').get('Lx'), \n",
        "      default_parameters.get('geometry').get('Ly'), \n",
        "      lc=0.03, \n",
        "      tdim=tdim)\n",
        "\n",
        "mesh, mts = meshes.gmsh_model_to_mesh(gmsh_model,\n",
        "                               cell_data=False,\n",
        "                               facet_data=True,\n",
        "                               gdim=2)\n",
        "\n",
        "\n",
        "\n",
        "\n",
        "# mesh, mts = gmsh_model_to_mesh(\n",
        "#     model, cell_data=True, facet_data=False, gdim=tdim)\n"
      ]
    },
    {
      "cell_type": "code",
      "execution_count": null,
      "metadata": {
        "id": "bsZIi1mWf3AN"
      },
      "outputs": [],
      "source": [
        "# Viz the mesh\n",
        "\n",
        "plt.figure()\n",
        "ax = plot_mesh(mesh)\n",
        "fig = ax.get_figure()\n",
        "plt.title(f\"Mesh with parameters, dimension {tdim}\")\n",
        "# fig.savefig(f\"one_mesh.png\")"
      ]
    },
    {
      "cell_type": "code",
      "execution_count": null,
      "metadata": {
        "id": "G9MhYO5en-hY"
      },
      "outputs": [],
      "source": [
        "# Let's get the entire set of parameters\n",
        "import yaml\n",
        "\n",
        "with open(\"mec647/test/parameters.yml\") as f:\n",
        "    parameters = yaml.load(f, Loader=yaml.FullLoader)\n",
        "    "
      ]
    },
    {
      "cell_type": "code",
      "execution_count": null,
      "metadata": {
        "id": "Ms8MFyxDnLZs"
      },
      "outputs": [],
      "source": [
        "# Functional Setting\n",
        "import basix.ufl\n",
        "\n",
        "element_u = basix.ufl.element(\"Lagrange\", mesh.basix_cell(),\n",
        "                              degree=1, shape=(2,))\n",
        "\n",
        "element_alpha = basix.ufl.element(\"Lagrange\", mesh.basix_cell(),\n",
        "                              degree=1)\n",
        "\n",
        "V_u = dolfinx.fem.functionspace(mesh, element_u) \n",
        "V_alpha = dolfinx.fem.functionspace(mesh, element_alpha) \n",
        "\n",
        "u = dolfinx.fem.Function(V_u, name=\"Displacement\")\n",
        "u_ = dolfinx.fem.Function(V_u, name=\"BoundaryDisplacement\")\n",
        "\n",
        "\n",
        "alpha = dolfinx.fem.Function(V_alpha, name=\"Damage\")\n",
        "\n",
        "# Pack state\n",
        "state = {\"u\": u, \"alpha\": alpha}\n",
        "\n",
        "# Bounds\n",
        "alpha_ub = dolfinx.fem.Function(V_alpha, name=\"UpperBoundDamage\")\n",
        "alpha_lb = dolfinx.fem.Function(V_alpha, name=\"LowerBoundDamage\")\n",
        "\n",
        "dx = ufl.Measure(\"dx\", domain = mesh)\n",
        "ds = ufl.Measure(\"ds\", domain = mesh)\n",
        "\n",
        "\n",
        "# Useful references\n",
        "Lx = parameters.get(\"geometry\").get(\"Lx\")\n",
        "Ly = parameters.get(\"geometry\").get(\"Ly\")"
      ]
    },
    {
      "cell_type": "code",
      "execution_count": null,
      "metadata": {
        "id": "xnVFLN4Anavu"
      },
      "outputs": [],
      "source": [
        "# Boundary sets\n",
        "\n",
        "from dolfinx.fem import locate_dofs_geometrical, dirichletbc\n",
        "\n",
        "\n",
        "dofs_alpha_left = locate_dofs_geometrical(V_alpha, lambda x: np.isclose(x[0], 0.))\n",
        "dofs_alpha_right = locate_dofs_geometrical(V_alpha, lambda x: np.isclose(x[0], Lx))\n",
        "\n",
        "dofs_u_left = locate_dofs_geometrical(V_u, lambda x: np.isclose(x[0], 0.))\n",
        "dofs_u_right = locate_dofs_geometrical(V_u, lambda x: np.isclose(x[0], Lx))\n",
        "\n",
        "# Boundary data\n",
        "\n",
        "u_.interpolate(lambda x: (np.ones_like(x[0]), np.zeros_like(x[1])))\n",
        "\n",
        "# Bounds (nontrivial)\n",
        "\n",
        "alpha_lb.interpolate(lambda x: np.zeros_like(x[0]))\n",
        "alpha_ub.interpolate(lambda x: np.ones_like(x[0]))"
      ]
    },
    {
      "cell_type": "code",
      "execution_count": null,
      "metadata": {
        "id": "C5vBUw8Knbtu"
      },
      "outputs": [],
      "source": [
        "# Boundary conditions\n",
        "\n",
        "bcs_u = [\n",
        "         dirichletbc(np.array([0., 0.], dtype=PETSc.ScalarType),\n",
        "                      dofs_u_left,\n",
        "                      V_u),\n",
        "         dirichletbc(u_, dofs_u_right)\n",
        "         ]\n",
        "\n",
        "bcs_alpha = [\n",
        "             dirichletbc(np.array(0., dtype = PETSc.ScalarType),\n",
        "                         np.concatenate([dofs_alpha_left, dofs_alpha_right]),\n",
        "                         V_alpha)\n",
        "]\n",
        "bcs = {\"bcs_u\": bcs_u, \"bcs_alpha\": bcs_alpha}\n"
      ]
    },
    {
      "cell_type": "code",
      "execution_count": null,
      "metadata": {
        "id": "21ElBiFLoSpB"
      },
      "outputs": [],
      "source": [
        "# Material behaviour\n",
        "from mec647.models import DamageElasticityModel as Brittle\n",
        "\n",
        "model = Brittle(parameters[\"model\"])\n",
        "\n",
        "total_energy = model.total_energy_density(state) * dx\n"
      ]
    },
    {
      "cell_type": "code",
      "execution_count": null,
      "metadata": {
        "id": "Reb9FOGaochC"
      },
      "outputs": [],
      "source": [
        "# Evolution solver\n",
        "import algorithms\n",
        "from algorithms import am\n",
        "\n",
        "solver = am.AlternateMinimisation(total_energy,\n",
        "                         state,\n",
        "                         bcs,\n",
        "                         parameters.get(\"solvers\"),\n",
        "                         bounds=(alpha_lb, alpha_ub)\n",
        "                         )"
      ]
    },
    {
      "cell_type": "code",
      "execution_count": null,
      "metadata": {
        "id": "1weih1fXol0x"
      },
      "outputs": [],
      "source": [
        "%%time\n",
        "# Loop for evolution\n",
        "from dolfinx.fem import assemble_scalar\n",
        "\n",
        "\n",
        "loads = np.linspace(parameters.get(\"loading\").get(\"min\"),\n",
        "                    parameters.get(\"loading\").get(\"max\"),\n",
        "                    parameters.get(\"loading\").get(\"steps\"))\n",
        "\n",
        "data = {\n",
        "    'elastic': [],\n",
        "    'surface': [],\n",
        "    'total': [],\n",
        "    'load': []\n",
        "}\n",
        "for (i_t, t) in enumerate(loads):\n",
        "  # update boundary conditions\n",
        "\n",
        "  u_.interpolate(lambda x: (t * np.ones_like(x[0]), np.zeros_like(x[1])))\n",
        "  u_.x.petsc_vec.ghostUpdate(addv=PETSc.InsertMode.INSERT,\n",
        "                        mode=PETSc.ScatterMode.FORWARD)\n",
        "\n",
        "  # update lower bound for damage\n",
        "  alpha.x.petsc_vec.copy(alpha_lb.x.petsc_vec)\n",
        "  alpha.x.petsc_vec.ghostUpdate(addv=PETSc.InsertMode.INSERT,\n",
        "                        mode=PETSc.ScatterMode.FORWARD)\n",
        "\n",
        "  # solve for current load step\n",
        "  print(f\"Solving timestep {i_t}, load: {t}\")\n",
        "\n",
        "  solver.solve()\n",
        "\n",
        "  # postprocessing\n",
        "  # global\n",
        "\n",
        "  surface_energy = comm.allreduce(\n",
        "          assemble_scalar(\n",
        "            dolfinx.fem.form(model.damage_dissipation_density(state) * dx)),\n",
        "          op=MPI.SUM\n",
        "          )\n",
        "\n",
        "  elastic_energy = comm.allreduce(\n",
        "      assemble_scalar(\n",
        "        dolfinx.fem.form(model.elastic_energy_density(state) * dx)),\n",
        "          op=MPI.SUM\n",
        "        )\n",
        "  \n",
        "  data.get('elastic').append(elastic_energy)\n",
        "  data.get('surface').append(surface_energy)\n",
        "  data.get('total').append(surface_energy+elastic_energy)\n",
        "  data.get('load').append(t)\n",
        "\n",
        "  print(f\"Solved timestep {i_t}, load: {t}\")\n",
        "  print(f\"Elastic Energy {elastic_energy:.3g}, Surface energy: {surface_energy:.3g}\")\n",
        "  print(\"\\n\\n\")\n",
        "\n",
        "  # savings?\n"
      ]
    },
    {
      "cell_type": "code",
      "execution_count": null,
      "metadata": {
        "id": "lvlG7HjJorOu"
      },
      "outputs": [],
      "source": [
        "plt.plot(data.get('load'), data.get('surface'), label='surface', marker='o')\n",
        "plt.plot(data.get('load'), data.get('elastic'), label='elastic', marker='o')\n",
        "plt.plot(data.get('load'), [1./2. * t**2*Ly for t in data.get('load')], label='anal elast', ls=':', c='k')\n",
        "\n",
        "plt.title('Traction bar energetics')\n",
        "plt.legend()\n",
        "plt.yticks([0, 1/20], [0, '$1/2.\\sigma_c^2/E_0$'])\n",
        "plt.xticks([0, 1], [0, 1])"
      ]
    },
    {
      "cell_type": "code",
      "execution_count": null,
      "metadata": {
        "id": "hKRNyEaCouZR"
      },
      "outputs": [],
      "source": [
        "# experiments\n",
        "params0, data0 = parameters, data\n"
      ]
    },
    {
      "cell_type": "code",
      "execution_count": null,
      "metadata": {
        "id": "hwbAa2wcoxS2"
      },
      "outputs": [],
      "source": [
        "from mec647.utils.viz import plot_vector, plot_scalar, plot_profile\n",
        "plotter = pyvista.Plotter(\n",
        "    title=\"Damage profile\",\n",
        "    window_size=[800, 600],\n",
        "    shape=(1, 1),\n",
        ")\n",
        "_ell = parameters.get('model').get('ell')\n",
        "tol = 1e-3\n",
        "xs = np.linspace(0 + tol, Lx - tol, 101)\n",
        "points = np.zeros((3, 101))\n",
        "points[0] = xs\n",
        "\n",
        "_plt, data = plot_profile(\n",
        "    alpha,\n",
        "    points,\n",
        "    plotter,\n",
        "    subplot=(0, 0),\n",
        "    lineproperties={\n",
        "        \"c\": \"k\",\n",
        "        \"label\": f\"$\\alpha$ with $\\ell$ = {_ell:.2f}\"\n",
        "    },\n",
        ")\n",
        "ax = _plt.gca()\n",
        "ax.axvline(Lx/2 - 2*_ell, c=\"k\")\n",
        "ax.axvline(Lx/2 + 2*_ell, c=\"k\", label='|supp|=$4\\ell$')\n",
        "ax.axvline(Lx/2 , c=\"k\", ls=':', label='$x_0$')\n",
        "_plt.legend()\n",
        "_plt.fill_between(data[0], data[1].reshape(len(data[1])))\n",
        "_plt.title(\"Traction bar damage profile\")\n"
      ]
    },
    {
      "cell_type": "code",
      "execution_count": null,
      "metadata": {
        "id": "TOP4SRL0o0ZV"
      },
      "outputs": [],
      "source": []
    }
  ],
  "metadata": {
    "colab": {
      "authorship_tag": "ABX9TyPNqyr7VBMtqrUx50qS1KNU",
      "collapsed_sections": [],
      "include_colab_link": true,
      "name": "mec647_Latest_10.ipynb",
      "provenance": []
    },
    "kernelspec": {
      "display_name": "Python 3",
      "name": "python3"
    },
    "language_info": {
      "name": "python"
    }
  },
  "nbformat": 4,
  "nbformat_minor": 0
}
