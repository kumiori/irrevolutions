{
  "cells": [
    {
      "cell_type": "markdown",
      "metadata": {
        "colab_type": "text",
        "id": "view-in-github"
      },
      "source": [
        "<a href=\"https://colab.research.google.com/github/kumiori/mec647/blob/main/mec647_Fracture_4.ipynb\" target=\"_parent\"><img src=\"https://colab.research.google.com/assets/colab-badge.svg\" alt=\"Open In Colab\"/></a>"
      ]
    },
    {
      "cell_type": "code",
      "execution_count": 9,
      "metadata": {
        "id": "rA4M7CiLCsX_"
      },
      "outputs": [],
      "source": [
        "%%capture\n",
        "import sys\n",
        "\n",
        "try:\n",
        "    import google.colab  # noqa: F401\n",
        "except ImportError:\n",
        "    import ufl  # noqa: F401\n",
        "    import dolfinx  # noqa: F401\n",
        "else:\n",
        "    try:\n",
        "        import ufl\n",
        "        import dolfinx\n",
        "    except ImportError:\n",
        "        !wget \"https://fem-on-colab.github.io/releases/fenicsx-install.sh\" -O \"/tmp/fenicsx-install.sh\" && bash \"/tmp/fenicsx-install.sh\";\n",
        "        import ufl  # noqa: F401\n",
        "        import dolfinx  # noqa: F401\n",
        "\n",
        "try:\n",
        "    import pyvista\n",
        "except ImportError:\n",
        "    !{sys.executable} -m pip install --upgrade pyvista itkwidgets;\n",
        "    import pyvista  # noqa: F401\n",
        "    from pyvista.utilities import xvfb\n",
        "\n",
        "try:\n",
        "    import gmsh\n",
        "except ImportError:\n",
        "    !{sys.executable} -m pip install gmsh\n",
        "    import gmsh\n",
        "\n",
        "!sudo apt install libgl1-mesa-glx xvfb;\n",
        "!{sys.executable} -m pip install pythreejs;\n",
        "!{sys.executable} -m pip install ipygany;\n",
        "!{sys.executable} -m pip install --upgrade PyYAML\n",
        "# !pip install --ignore-installed PyYAML\n",
        "\n"
      ]
    },
    {
      "cell_type": "code",
      "execution_count": 10,
      "metadata": {
        "id": "xPTwn6bxC4S5"
      },
      "outputs": [],
      "source": [
        "%%capture\n",
        "!sudo apt install libgl1-mesa-glx xvfb;\n",
        "!{sys.executable} -m pip install pythreejs;\n",
        "!{sys.executable} -m pip install ipygany;\n",
        "!{sys.executable} -m pip install --upgrade PyYAML\n",
        "# !pip install --ignore-installed PyYAML\n",
        "\n"
      ]
    },
    {
      "cell_type": "markdown",
      "metadata": {
        "id": "QhnaGiklC3nQ"
      },
      "source": [
        "# Fracture\n",
        "\n",
        "\n",
        "Let $\\Omega \\subset (0, L)^D$, with $D=1, 2, 3$, $L$ finite, being the (or one) characteristic length of the specimen.\n",
        "For any \n",
        "- displacement field $u\\in V_t : H^1(\\Omega, R^n) + bcs(t)$ with $n=1, 2$ or $3$, and\n",
        "- damage field $\\alpha \\in H^1(\\Omega, R)$,\n",
        "\n",
        "consider the energy $E(u, \\alpha)$ defined as\n",
        "$$\n",
        "E_\\ell(u, \\alpha)=\\frac{1}{2}\\int_\\Omega a(\\alpha) W(u) dx + \\underbrace{\\frac{G_c}{c_w} \\int \\left(\\frac{1}{\\ell}w(\\alpha) + \\ell |\\nabla \\alpha|^2 \\right)dx}_{\\text{Surface energy}}- \\int_\\Omega f.u dx$$\n",
        "\n",
        "In practice, $\\ell \\ll L$.\n",
        "\n",
        "Above, $W$ is the elastic energy density, reading (in linearised elasticity as) \n",
        "$$ \n",
        "W(u) = Ae(u):e(u)\n",
        "$$\n",
        "where $A$ is the 4-th order tensor of elasticity, in the isotropic and homogeneous case, it corresponds to a linear combination with two coefficients, say, $A_0$ the stiffness (dimensional), and $\\nu$ the Poisson ratio (non-dimensional). \n",
        "\n",
        "\n",
        "Further, $w(\\alpha)$ corresponds to the dissipated energy to damage, homogeneously, the specimen, the gradient term accounts for spatial variations.\n",
        "\n",
        "**Keypoint:** these two terms are weighted by $\\ell$, a parameter that is homogeneous to a length and is understood as a *material* quantity (as opposed to *numerical*).\n",
        "\n",
        "Define $D(\\alpha_0):=\\left\\{ \\alpha \\in H^1(\\Omega), \\alpha \\geq \\alpha_0 \\right\\}$, for some $\\alpha_0(x)\\geq 0$ pointwise. \n",
        "\n",
        "We solve two types of problems (by increasing difficulty):\n",
        "- **The static problem**: Given a load (boundary conditions) and an initial state of damage $\\alpha_0$, what is the equilibrium displacement and repartition of damage?\n",
        "In other terms:\n",
        " \n",
        "$\n",
        "\\text{ min loc} \\left\\{ E_\\ell(u, \\alpha):\n",
        " u \\in V_t, \\alpha \\in D(\\alpha_0) \\right\\}.\n",
        "$\n",
        "\n",
        "- **The evolution problem**: Given a load **history** (boundary conditions as a function of $t$) and an initial state of damage $\\alpha_0$, what is the *evolution* of equilibrium displacement and repartition of damage, i.e. \n",
        "the map $t\\mapsto (u_t, \\alpha_t)$, such that \n",
        "  - (Irrevers.) $\\alpha_t \\nearrow t$,\n",
        "  - (Stability) $(u_t, \\alpha_t) = \\operatorname{arg loc min} \\left\\{ E_\\ell (v, \\beta), (v, \\beta) \\in V_t \\times D(\\alpha_t) \\right\\}$  -->\n",
        "\n"
      ]
    },
    {
      "cell_type": "markdown",
      "metadata": {
        "id": "WJD-kxygsGbY"
      },
      "source": [
        "### Parameters\n",
        "\n",
        "In the energy above:\n",
        "- Two elasticity parameters, such as\n",
        "  - $A_0$ the stiffness of the sound material\n",
        "  - $\\nu$ the Poisson ratio\n",
        "  - equivalently, $\\mu, \\lambda$ the Lamé parameters\n",
        "- Two fracture/damage parameters:\n",
        "  - $\\ell$ the internal damage length\n",
        "  - $G_c$ the material toughness\n",
        "\n",
        "\n",
        "### Back of the envelope computation.\n",
        "\n",
        "1. Show that the energy above can be written as a function of only two non-dimensional parameters (ex.: $\\nu, \\tilde \\ell)$, by dimensional analysis."
      ]
    },
    {
      "cell_type": "code",
      "execution_count": 11,
      "metadata": {
        "colab": {
          "base_uri": "https://localhost:8080/"
        },
        "id": "FwFJxjZRDD1A",
        "outputId": "d1e779e8-742e-429b-9c76-afe215535da2"
      },
      "outputs": [
        {
          "name": "stdout",
          "output_type": "stream",
          "text": [
            "Cloning into 'mec647'...\n",
            "remote: Enumerating objects: 684, done.\u001b[K\n",
            "remote: Counting objects: 100% (684/684), done.\u001b[K\n",
            "remote: Compressing objects: 100% (559/559), done.\u001b[K\n",
            "remote: Total 684 (delta 305), reused 303 (delta 106), pack-reused 0\u001b[K\n",
            "Receiving objects: 100% (684/684), 12.63 MiB | 17.62 MiB/s, done.\n",
            "Resolving deltas: 100% (305/305), done.\n"
          ]
        }
      ],
      "source": [
        "branch_name = 'main'\n",
        "\n",
        "!rm -rf mec647\n",
        "try:\n",
        "  !git clone -b {branch_name} https://github.com/kumiori/mec647.git\n",
        "except Exception:\n",
        "  print('Something went wrong')\n",
        "  !rm -rf mec647\n",
        "  !git clone https://github.com/kumiori/mec647.git\n"
      ]
    },
    {
      "cell_type": "code",
      "execution_count": 12,
      "metadata": {
        "id": "B_A6SI2gl7DN"
      },
      "outputs": [],
      "source": [
        "sys.path.append('mec647/')\n"
      ]
    },
    {
      "cell_type": "code",
      "execution_count": 31,
      "metadata": {
        "id": "y6YzSDfJ3Vwz"
      },
      "outputs": [],
      "source": [
        "import matplotlib.pyplot as plt\n",
        "from petsc4py import PETSc\n",
        "import numpy as np\n",
        "from mpi4py import MPI\n",
        "\n",
        "comm = MPI.COMM_WORLD\n",
        "\n",
        "from dolfinx.fem import (\n",
        "    Constant,\n",
        "    Function,\n",
        "    FunctionSpace,\n",
        "    assemble_scalar,\n",
        "    dirichletbc,\n",
        "    form,\n",
        "    locate_dofs_geometrical,\n",
        "    set_bc,\n",
        ")\n",
        "\n",
        "# meshes\n",
        "import meshes\n",
        "from meshes import primitives"
      ]
    },
    {
      "cell_type": "code",
      "execution_count": 70,
      "metadata": {
        "id": "xQC3q28P3Xmv"
      },
      "outputs": [],
      "source": [
        "# Parameters\n",
        "\n",
        "parameters = {\n",
        "    'loading': {\n",
        "        'min': 0,\n",
        "        'max': 1.5,\n",
        "        'steps': 10\n",
        "    },\n",
        "    'geometry': {\n",
        "        'geom_type': 'bar',\n",
        "        'Lx': 1.,\n",
        "        'Ly': 0.1\n",
        "    },\n",
        "    'model': {\n",
        "        'E': 1.,\n",
        "        'nu': 0.,\n",
        "        'w1': 1.,\n",
        "        'ell': 0.05,\n",
        "        'k_res': 1.e-8\n",
        "    },\n",
        "    'solvers': {\n",
        "          'elasticity': {        \n",
        "            'snes': {\n",
        "                'snes_type': 'newtontr',\n",
        "                'snes_stol': 1e-8,\n",
        "                'snes_atol': 1e-8,\n",
        "                'snes_rtol': 1e-8,\n",
        "                'snes_max_it': 100,\n",
        "                'snes_monitor': \"\",\n",
        "                'ksp_type': 'preonly',\n",
        "                'pc_type': 'lu',\n",
        "                'pc_factor_mat_solver_type': 'mumps'\n",
        "            }\n",
        "        },\n",
        "          'damage': {        \n",
        "            'snes': {\n",
        "                'snes_type': 'vinewtonrsls',\n",
        "                'snes_stol': 1e-5,\n",
        "                'snes_atol': 1e-5,\n",
        "                'snes_rtol': 1e-8,\n",
        "                'snes_max_it': 100,\n",
        "                'snes_monitor': \"\",\n",
        "                'ksp_type': 'preonly',\n",
        "                'pc_type': 'lu',\n",
        "                'pc_factor_mat_solver_type': 'mumps'\n",
        "            },\n",
        "        },\n",
        "          'damage_elasticity': {\n",
        "            \"max_it\": 100,\n",
        "            \"alpha_rtol\": 1.0e-5,\n",
        "            \"criterion\": \"alpha_H1\"\n",
        "          }\n",
        "    }\n",
        "}"
      ]
    },
    {
      "cell_type": "code",
      "execution_count": 48,
      "metadata": {
        "id": "2hjc-VWztAgK"
      },
      "outputs": [],
      "source": [
        "# Equivalently\n",
        "import yaml\n",
        "\n",
        "with open(\"mec647/test/parameters.yml\") as f:\n",
        "    parameters = yaml.load(f, Loader=yaml.FullLoader)\n"
      ]
    },
    {
      "cell_type": "code",
      "execution_count": 49,
      "metadata": {
        "colab": {
          "base_uri": "https://localhost:8080/"
        },
        "id": "wRJtcLKk3iEC",
        "outputId": "3258572f-0cbc-4a62-bd87-386952c81018"
      },
      "outputs": [
        {
          "data": {
            "text/plain": [
              "0.1"
            ]
          },
          "execution_count": 49,
          "metadata": {},
          "output_type": "execute_result"
        }
      ],
      "source": [
        "parameters.get(\"model\").get(\"ell\")"
      ]
    },
    {
      "cell_type": "code",
      "execution_count": 50,
      "metadata": {
        "colab": {
          "base_uri": "https://localhost:8080/",
          "height": 84
        },
        "id": "uGvOIlvU3d0-",
        "outputId": "fb961ce3-a5b8-4b20-8a3b-306692f4b62f"
      },
      "outputs": [
        {
          "data": {
            "image/png": "[encoded data removed]",
            "text/plain": [
              "<Figure size 432x288 with 1 Axes>"
            ]
          },
          "metadata": {
            "needs_background": "light"
          },
          "output_type": "display_data"
        }
      ],
      "source": [
        "# Mesh\n",
        "\n",
        "Lx = parameters[\"geometry\"][\"Lx\"]\n",
        "Ly = parameters[\"geometry\"][\"Ly\"]\n",
        "geom_type = parameters[\"geometry\"][\"geom_type\"]\n",
        "\n",
        "gmsh_model, tdim = primitives.mesh_bar_gmshapi(geom_type,\n",
        "                                    Lx, \n",
        "                                    Ly, \n",
        "                                    parameters.get(\"model\").get(\"ell\")/3, \n",
        "                                    tdim=2)\n",
        "\n",
        "mesh, mts = meshes.gmsh_model_to_mesh(gmsh_model,\n",
        "                               cell_data=False,\n",
        "                               facet_data=True,\n",
        "                               gdim=2)\n",
        "\n",
        "\n",
        "from utils.viz import plot_mesh\n",
        "\n",
        "plt.figure()\n",
        "ax = plot_mesh(mesh)\n",
        "fig = ax.get_figure()\n",
        "fig.savefig(f\"mesh.png\")\n"
      ]
    },
    {
      "cell_type": "code",
      "execution_count": 71,
      "metadata": {
        "id": "YbtAhOV538kj"
      },
      "outputs": [],
      "source": [
        "# Functional Setting\n",
        "\n",
        "element_u = ufl.VectorElement(\"Lagrange\", mesh.ufl_cell(),\n",
        "                              degree=1, dim=2)\n",
        "\n",
        "element_alpha = ufl.FiniteElement(\"Lagrange\", mesh.ufl_cell(),\n",
        "                              degree=1)\n",
        "\n",
        "V_u = dolfinx.fem.FunctionSpace(mesh, element_u) \n",
        "V_alpha = dolfinx.fem.FunctionSpace(mesh, element_alpha) \n",
        "\n",
        "u = dolfinx.fem.Function(V_u, name=\"Displacement\")\n",
        "u_ = dolfinx.fem.Function(V_u, name=\"BoundaryDisplacement\")\n",
        "\n",
        "\n",
        "alpha = dolfinx.fem.Function(V_alpha, name=\"Damage\")\n",
        "\n",
        "# Pack state\n",
        "state = {\"u\": u, \"alpha\": alpha}\n",
        "\n",
        "# Bounds\n",
        "alpha_ub = dolfinx.fem.Function(V_alpha, name=\"UpperBoundDamage\")\n",
        "alpha_lb = dolfinx.fem.Function(V_alpha, name=\"LowerBoundDamage\")\n",
        "\n",
        "\n",
        "\n",
        "dx = ufl.Measure(\"dx\", domain = mesh)\n",
        "ds = ufl.Measure(\"ds\", domain = mesh)"
      ]
    },
    {
      "cell_type": "code",
      "execution_count": 72,
      "metadata": {
        "id": "sEJ-jkLR4Wgc"
      },
      "outputs": [],
      "source": [
        "# Boundary sets\n",
        "\n",
        "dofs_alpha_left = locate_dofs_geometrical(V_alpha, lambda x: np.isclose(x[0], 0.))\n",
        "dofs_alpha_right = locate_dofs_geometrical(V_alpha, lambda x: np.isclose(x[0], Lx))\n",
        "\n",
        "dofs_u_left = locate_dofs_geometrical(V_u, lambda x: np.isclose(x[0], 0.))\n",
        "dofs_u_right = locate_dofs_geometrical(V_u, lambda x: np.isclose(x[0], Lx))"
      ]
    },
    {
      "cell_type": "code",
      "execution_count": 73,
      "metadata": {
        "id": "9opnlp5F6QRV"
      },
      "outputs": [],
      "source": [
        "# Boundary data\n",
        "\n",
        "u_.interpolate(lambda x: (np.ones_like(x[0]), np.zeros_like(x[1])))\n",
        "\n",
        "# Bounds (nontrivial)\n",
        "\n",
        "alpha_lb.interpolate(lambda x: np.zeros_like(x[0]))\n",
        "alpha_ub.interpolate(lambda x: np.ones_like(x[0]))"
      ]
    },
    {
      "cell_type": "code",
      "execution_count": 74,
      "metadata": {
        "id": "O0K_yA_G4glE"
      },
      "outputs": [],
      "source": [
        "# Boundary conditions\n",
        "\n",
        "bcs_u = [\n",
        "         dirichletbc(np.array([0., 0.], dtype=PETSc.ScalarType),\n",
        "                      dofs_u_left,\n",
        "                      V_u),\n",
        "         dirichletbc(u_, dofs_u_right)\n",
        "         ]\n",
        "\n",
        "bcs_alpha = [\n",
        "             dirichletbc(np.array(0., dtype = PETSc.ScalarType),\n",
        "                         np.concatenate([dofs_alpha_left, dofs_alpha_right]),\n",
        "                         V_alpha)\n",
        "]\n"
      ]
    },
    {
      "cell_type": "code",
      "execution_count": 75,
      "metadata": {
        "id": "nldNjjoF7h1X"
      },
      "outputs": [],
      "source": [
        "import models\n",
        "from models import DamageElasticityModel as Brittle"
      ]
    },
    {
      "cell_type": "code",
      "execution_count": 76,
      "metadata": {
        "id": "qi88nswf4iY1"
      },
      "outputs": [],
      "source": [
        "bcs = {\"bcs_u\": bcs_u, \"bcs_alpha\": bcs_alpha}\n",
        "\n",
        "model = Brittle(parameters[\"model\"])\n",
        "\n",
        "\n",
        "total_energy = model.total_energy_density(state) * dx"
      ]
    },
    {
      "cell_type": "code",
      "execution_count": 77,
      "metadata": {
        "id": "XgSMuKMq8SlY"
      },
      "outputs": [],
      "source": [
        "import algorithms\n",
        "from algorithms import am"
      ]
    },
    {
      "cell_type": "code",
      "execution_count": 78,
      "metadata": {
        "id": "DKcj0EB48dz4"
      },
      "outputs": [],
      "source": [
        "solver = am.AlternateMinimisation(total_energy,\n",
        "                         state,\n",
        "                         bcs,\n",
        "                         parameters.get(\"solvers\"),\n",
        "                         bounds=(alpha_lb, alpha_ub)\n",
        "                         )"
      ]
    },
    {
      "cell_type": "code",
      "execution_count": 79,
      "metadata": {
        "colab": {
          "base_uri": "https://localhost:8080/"
        },
        "id": "n6gLZCY9-TSC",
        "outputId": "111c1bc4-069e-4b55-89fd-212a00bae095"
      },
      "outputs": [
        {
          "name": "stdout",
          "output_type": "stream",
          "text": [
            "Solving timestep 0, load: 0.0\n",
            "  0 SNES Function norm 0.000000000000e+00 \n",
            "  0 SNES Function norm 0.000000000000e+00 \n",
            "Solved timestep 0, load: 0.0\n",
            "Elastic Energy 0, Surface energy: 0\n",
            "\n",
            "\n",
            "\n",
            "Solving timestep 1, load: 0.16666666666666666\n",
            "  0 SNES Function norm 4.550226413810e-01 \n",
            "  1 SNES Function norm 3.796504297722e-01 \n",
            "  2 SNES Function norm 2.289060065546e-01 \n",
            "  3 SNES Function norm 2.919139040773e-16 \n",
            "  0 SNES Function norm 0.000000000000e+00 \n",
            "Solved timestep 1, load: 0.16666666666666666\n",
            "Elastic Energy 0.00139, Surface energy: 0\n",
            "\n",
            "\n",
            "\n",
            "Solving timestep 2, load: 0.3333333333333333\n",
            "  0 SNES Function norm 4.550226413810e-01 \n",
            "  1 SNES Function norm 3.640181131048e-01 \n",
            "  2 SNES Function norm 1.820090565524e-01 \n",
            "  3 SNES Function norm 3.234800395702e-16 \n",
            "  0 SNES Function norm 0.000000000000e+00 \n",
            "Solved timestep 2, load: 0.3333333333333333\n",
            "Elastic Energy 0.00556, Surface energy: 0\n",
            "\n",
            "\n",
            "\n",
            "Solving timestep 3, load: 0.5\n",
            "  0 SNES Function norm 4.550226413810e-01 \n",
            "  1 SNES Function norm 2.730135848286e-01 \n",
            "  2 SNES Function norm 4.007272373815e-16 \n",
            "  0 SNES Function norm 0.000000000000e+00 \n",
            "Solved timestep 3, load: 0.5\n",
            "Elastic Energy 0.0125, Surface energy: 0\n",
            "\n",
            "\n",
            "\n",
            "Solving timestep 4, load: 0.6666666666666666\n",
            "  0 SNES Function norm 4.550226413810e-01 \n",
            "  1 SNES Function norm 1.820090565524e-01 \n",
            "  2 SNES Function norm 5.201875852681e-16 \n",
            "  0 SNES Function norm 0.000000000000e+00 \n",
            "Solved timestep 4, load: 0.6666666666666666\n",
            "Elastic Energy 0.0222, Surface energy: 0\n",
            "\n",
            "\n",
            "\n",
            "Solving timestep 5, load: 0.8333333333333333\n",
            "  0 SNES Function norm 4.550226413810e-01 \n",
            "  1 SNES Function norm 9.100452827621e-02 \n",
            "  2 SNES Function norm 6.367368187746e-16 \n",
            "  0 SNES Function norm 0.000000000000e+00 \n",
            "Solved timestep 5, load: 0.8333333333333333\n",
            "Elastic Energy 0.0347, Surface energy: 0\n",
            "\n",
            "\n",
            "\n",
            "Solving timestep 6, load: 1.0\n",
            "  0 SNES Function norm 4.550226413810e-01 \n",
            "  1 SNES Function norm 2.270564208927e-15 \n",
            "  0 SNES Function norm 1.658739170580e-17 \n",
            "Solved timestep 6, load: 1.0\n",
            "Elastic Energy 0.05, Surface energy: 0\n",
            "\n",
            "\n",
            "\n",
            "Solving timestep 7, load: 1.1666666666666665\n",
            "  0 SNES Function norm 4.550226413811e-01 \n",
            "  1 SNES Function norm 1.124080193832e-15 \n",
            "  0 SNES Function norm 2.982089522046e-03 \n",
            "  1 SNES Function norm 2.513119533480e-17 \n",
            "  0 SNES Function norm 1.177732169653e-02 \n",
            "  1 SNES Function norm 7.147742488360e-16 \n",
            "  0 SNES Function norm 2.380186519919e-03 \n",
            "  1 SNES Function norm 1.562006035395e-17 \n",
            "  0 SNES Function norm 8.517116950112e-03 \n",
            "  1 SNES Function norm 7.930146602390e-16 \n",
            "  0 SNES Function norm 3.187492579934e-03 \n",
            "  1 SNES Function norm 1.431736116473e-03 \n",
            "  2 SNES Function norm 5.703509676775e-04 \n",
            "  3 SNES Function norm 1.609550783899e-17 \n",
            "  0 SNES Function norm 1.119442641424e-02 \n",
            "  1 SNES Function norm 7.276004766315e-16 \n",
            "  0 SNES Function norm 5.495800936288e-03 \n",
            "  1 SNES Function norm 1.882325531008e-03 \n",
            "  2 SNES Function norm 1.642617984877e-03 \n",
            "  3 SNES Function norm 4.753829955734e-04 \n",
            "  4 SNES Function norm 1.485924605976e-17 \n",
            "  0 SNES Function norm 1.297660834592e-02 \n",
            "  1 SNES Function norm 8.742630036749e-16 \n",
            "  0 SNES Function norm 1.009783506233e-02 \n",
            "  1 SNES Function norm 1.872540427177e-03 \n",
            "  2 SNES Function norm 9.475487094566e-04 \n",
            "  3 SNES Function norm 1.730891879735e-17 \n",
            "  0 SNES Function norm 1.246462150887e-02 \n",
            "  1 SNES Function norm 1.132986564202e-15 \n",
            "  0 SNES Function norm 1.638553682161e-02 \n",
            "  1 SNES Function norm 1.246423030310e-03 \n",
            "  2 SNES Function norm 6.970198002799e-06 \n",
            "  0 SNES Function norm 8.599400093241e-03 \n",
            "  1 SNES Function norm 9.697169681881e-16 \n",
            "  0 SNES Function norm 1.372737529078e-02 \n",
            "  1 SNES Function norm 1.301711159150e-03 \n",
            "  2 SNES Function norm 2.242195888336e-17 \n",
            "  0 SNES Function norm 1.913831014092e-03 \n",
            "  1 SNES Function norm 7.897498989577e-16 \n",
            "  0 SNES Function norm 1.477893266842e-03 \n",
            "  1 SNES Function norm 4.230407838293e-17 \n",
            "  0 SNES Function norm 8.899337880250e-05 \n",
            "  1 SNES Function norm 1.071952892969e-15 \n",
            "  0 SNES Function norm 9.007281741696e-05 \n",
            "  1 SNES Function norm 3.722668786904e-17 \n",
            "  0 SNES Function norm 6.428625056420e-06 \n",
            "  1 SNES Function norm 1.090452594983e-15 \n",
            "  0 SNES Function norm 7.877830630469e-06 \n",
            "Solved timestep 7, load: 1.1666666666666665\n",
            "Elastic Energy 0.00103, Surface energy: 0.0301\n",
            "\n",
            "\n",
            "\n",
            "Solving timestep 8, load: 1.3333333333333333\n",
            "  0 SNES Function norm 4.550226413810e-01 \n",
            "  1 SNES Function norm 1.240606413394e-15 \n",
            "  0 SNES Function norm 3.883069611357e-03 \n",
            "  1 SNES Function norm 9.098681864584e-17 \n",
            "  0 SNES Function norm 2.813438553462e-04 \n",
            "  1 SNES Function norm 1.053951816549e-15 \n",
            "  0 SNES Function norm 2.883875617628e-04 \n",
            "  1 SNES Function norm 7.001612764772e-17 \n",
            "  0 SNES Function norm 1.965447386683e-05 \n",
            "  1 SNES Function norm 9.562088135488e-16 \n",
            "  0 SNES Function norm 3.037782980406e-05 \n",
            "  1 SNES Function norm 4.332954671611e-17 \n",
            "  0 SNES Function norm 5.333386361954e-06 \n",
            "  1 SNES Function norm 1.125518973366e-15 \n",
            "  0 SNES Function norm 5.923137072769e-05 \n",
            "  1 SNES Function norm 5.356521104997e-17 \n",
            "  0 SNES Function norm 1.289681464062e-05 \n",
            "  1 SNES Function norm 1.170998331489e-15 \n",
            "  0 SNES Function norm 1.475258044548e-04 \n",
            "  1 SNES Function norm 1.021905122547e-16 \n",
            "  0 SNES Function norm 3.211836664222e-05 \n",
            "  1 SNES Function norm 1.218804277085e-15 \n",
            "  0 SNES Function norm 3.672705547308e-04 \n",
            "  1 SNES Function norm 6.941915036260e-17 \n",
            "  0 SNES Function norm 7.994917495364e-05 \n",
            "  1 SNES Function norm 9.708441862100e-16 \n",
            "  0 SNES Function norm 9.112786844569e-04 \n",
            "  1 SNES Function norm 3.089762196903e-17 \n",
            "  0 SNES Function norm 1.985050678260e-04 \n",
            "  1 SNES Function norm 1.069529462790e-15 \n",
            "  0 SNES Function norm 2.216939250253e-03 \n",
            "  1 SNES Function norm 1.086461731644e-04 \n",
            "  2 SNES Function norm 1.740667932525e-17 \n",
            "  0 SNES Function norm 3.648370807466e-04 \n",
            "  1 SNES Function norm 1.045390095723e-15 \n",
            "  0 SNES Function norm 2.976477889478e-03 \n",
            "  1 SNES Function norm 5.214663058873e-17 \n",
            "  0 SNES Function norm 3.074329705038e-04 \n",
            "  1 SNES Function norm 1.219808793136e-15 \n",
            "  0 SNES Function norm 2.554769246154e-03 \n",
            "  1 SNES Function norm 6.541497848596e-05 \n",
            "  2 SNES Function norm 1.430376630460e-17 \n",
            "  0 SNES Function norm 1.952996992109e-04 \n",
            "  1 SNES Function norm 8.893174304641e-16 \n",
            "  0 SNES Function norm 1.381147891197e-03 \n",
            "  1 SNES Function norm 3.155452101022e-17 \n",
            "  0 SNES Function norm 1.038358408477e-04 \n",
            "  1 SNES Function norm 1.186510639732e-15 \n",
            "  0 SNES Function norm 7.246635200119e-04 \n",
            "  1 SNES Function norm 1.791601033075e-17 \n",
            "  0 SNES Function norm 4.888017377517e-05 \n",
            "  1 SNES Function norm 1.080727486529e-15 \n",
            "  0 SNES Function norm 3.370101121299e-04 \n",
            "  1 SNES Function norm 5.411838968829e-06 \n",
            "  0 SNES Function norm 2.148214761507e-05 \n",
            "  1 SNES Function norm 1.069573461929e-15 \n",
            "  0 SNES Function norm 1.471770140897e-04 \n",
            "  1 SNES Function norm 1.958217775431e-17 \n",
            "  0 SNES Function norm 9.152574421424e-06 \n",
            "  1 SNES Function norm 1.165897304767e-15 \n",
            "  0 SNES Function norm 6.252266191107e-05 \n",
            "  1 SNES Function norm 2.856342918145e-17 \n",
            "  0 SNES Function norm 3.841883647907e-06 \n",
            "  1 SNES Function norm 9.848079225680e-16 \n",
            "  0 SNES Function norm 2.618290586984e-05 \n",
            "  1 SNES Function norm 1.008453735981e-17 \n",
            "  0 SNES Function norm 1.601925177234e-06 \n",
            "  1 SNES Function norm 1.048464048332e-15 \n",
            "  0 SNES Function norm 1.090946097113e-05 \n",
            "  1 SNES Function norm 2.161515494771e-17 \n",
            "  0 SNES Function norm 6.664956806351e-07 \n",
            "  1 SNES Function norm 1.173580445744e-15 \n",
            "  0 SNES Function norm 4.537402517161e-06 \n",
            "Solved timestep 8, load: 1.3333333333333333\n",
            "Elastic Energy 0.000312, Surface energy: 0.0309\n",
            "\n",
            "\n",
            "\n",
            "Solving timestep 9, load: 1.5\n",
            "  0 SNES Function norm 4.550226413810e-01 \n",
            "  1 SNES Function norm 1.149706724543e-15 \n",
            "  0 SNES Function norm 2.277694404744e-03 \n",
            "  1 SNES Function norm 2.110991328805e-17 \n",
            "  0 SNES Function norm 1.131324001603e-04 \n",
            "  1 SNES Function norm 1.146050127705e-15 \n",
            "  0 SNES Function norm 7.670724045086e-04 \n",
            "  1 SNES Function norm 3.695190411407e-17 \n",
            "  0 SNES Function norm 3.266176113117e-05 \n",
            "  1 SNES Function norm 1.157938279737e-15 \n",
            "  0 SNES Function norm 2.143485994612e-04 \n",
            "  1 SNES Function norm 2.646720769499e-17 \n",
            "  0 SNES Function norm 8.707140768176e-06 \n",
            "  1 SNES Function norm 1.019885687725e-15 \n",
            "  0 SNES Function norm 5.664920508884e-05 \n",
            "  1 SNES Function norm 2.998186593622e-17 \n",
            "  0 SNES Function norm 2.275322396500e-06 \n",
            "  1 SNES Function norm 1.090061037657e-15 \n",
            "  0 SNES Function norm 1.477846989223e-05 \n",
            "  1 SNES Function norm 2.811144358882e-17 \n",
            "  0 SNES Function norm 5.927179670118e-07 \n",
            "  1 SNES Function norm 1.206059335871e-15 \n",
            "  0 SNES Function norm 3.850138070015e-06 \n",
            "Solved timestep 9, load: 1.5\n",
            "Elastic Energy 0.000245, Surface energy: 0.031\n",
            "\n",
            "\n",
            "\n"
          ]
        }
      ],
      "source": [
        "# Loop for evolution\n",
        "\n",
        "\n",
        "loads = np.linspace(parameters.get(\"loading\").get(\"min\"),\n",
        "                    parameters.get(\"loading\").get(\"max\"),\n",
        "                    parameters.get(\"loading\").get(\"steps\"))\n",
        "\n",
        "data = {\n",
        "    'elastic': [],\n",
        "    'surface': [],\n",
        "    'total': [],\n",
        "    'load': []\n",
        "}\n",
        "for (i_t, t) in enumerate(loads):\n",
        "  # update boundary conditions\n",
        "\n",
        "  u_.interpolate(lambda x: (t * np.ones_like(x[0]), np.zeros_like(x[1])))\n",
        "  u_.vector.ghostUpdate(addv=PETSc.InsertMode.INSERT,\n",
        "                        mode=PETSc.ScatterMode.FORWARD)\n",
        "\n",
        "  # update lower bound for damage\n",
        "  alpha.vector.copy(alpha_lb.vector)\n",
        "  alpha.vector.ghostUpdate(addv=PETSc.InsertMode.INSERT,\n",
        "                        mode=PETSc.ScatterMode.FORWARD)\n",
        "\n",
        "  # solve for current load step\n",
        "  print(f\"Solving timestep {i_t}, load: {t}\")\n",
        "\n",
        "  solver.solve()\n",
        "\n",
        "  # postprocessing\n",
        "  # global\n",
        "\n",
        "  surface_energy = comm.allreduce(\n",
        "          assemble_scalar(\n",
        "            dolfinx.fem.form(model.damage_dissipation_density(state) * dx)),\n",
        "          op=MPI.SUM\n",
        "          )\n",
        "\n",
        "  elastic_energy = comm.allreduce(\n",
        "      assemble_scalar(\n",
        "        dolfinx.fem.form(model.elastic_energy_density(state) * dx)),\n",
        "          op=MPI.SUM\n",
        "        )\n",
        "  \n",
        "  data.get('elastic').append(elastic_energy)\n",
        "  data.get('surface').append(surface_energy)\n",
        "  data.get('total').append(surface_energy+elastic_energy)\n",
        "  data.get('load').append(t)\n",
        "\n",
        "  print(f\"Solved timestep {i_t}, load: {t}\")\n",
        "  print(f\"Elastic Energy {elastic_energy:.3g}, Surface energy: {surface_energy:.3g}\")\n",
        "  print(\"\\n\\n\")\n",
        "\n",
        "  # savings?\n",
        "\n",
        "\n",
        "\n",
        "\n",
        "\n",
        "\n"
      ]
    },
    {
      "cell_type": "code",
      "execution_count": 80,
      "metadata": {
        "colab": {
          "base_uri": "https://localhost:8080/",
          "height": 333
        },
        "id": "9ePMBvwzmzZ2",
        "outputId": "bf8bff5e-324f-4ff2-e92c-7f25ccaf5a37"
      },
      "outputs": [
        {
          "data": {
            "text/plain": [
              "([<matplotlib.axis.XTick at 0x7f1e2c2d4790>,\n",
              "  <matplotlib.axis.XTick at 0x7f1e2c2d4d50>],\n",
              " [Text(0, 0, '0'), Text(0, 0, '1')])"
            ]
          },
          "execution_count": 80,
          "metadata": {},
          "output_type": "execute_result"
        },
        {
          "data": {
            "image/png": "[encoded data removed]",
            "text/plain": [
              "<Figure size 432x288 with 1 Axes>"
            ]
          },
          "metadata": {
            "needs_background": "light"
          },
          "output_type": "display_data"
        }
      ],
      "source": [
        "plt.plot(data.get('load'), data.get('surface'), label='surface')\n",
        "plt.plot(data.get('load'), data.get('elastic'), label='elastic')\n",
        "plt.plot(data.get('load'), [1./2. * t**2*Ly for t in data.get('load')], label='anal elast', ls=':', c='k')\n",
        "\n",
        "plt.title('Traction bar energetics')\n",
        "plt.legend()\n",
        "plt.yticks([0, 1/20], [0, '$1/2.\\sigma_c^2/E_0$'])\n",
        "plt.xticks([0, 1], [0, 1])"
      ]
    },
    {
      "cell_type": "code",
      "execution_count": null,
      "metadata": {
        "id": "w4p1xwzGoL1a"
      },
      "outputs": [],
      "source": [
        "# experiments\n",
        "params0, data0 = parameters, data\n"
      ]
    },
    {
      "cell_type": "code",
      "execution_count": null,
      "metadata": {},
      "outputs": [],
      "source": [
        "from test_viz import plot_vector, plot_scalar, plot_profile\n",
        "\n",
        "_ell = parameters.get('model').get('ell')\n",
        "tol = 1e-3\n",
        "xs = np.linspace(0 + tol, Lx - tol, 101)\n",
        "points = np.zeros((3, 101))\n",
        "points[0] = xs\n",
        "\n",
        "_plt, data = plot_profile(\n",
        "    alpha,\n",
        "    points,\n",
        "    subplot=(0, 0),\n",
        "    lineproperties={\n",
        "        \"c\": \"k\",\n",
        "        \"label\": f\"$alpha$ with $\\ell$ = {_ell:.2f}\"\n",
        "    },\n",
        ")\n",
        "ax = _plt.gca()\n",
        "ax.axvline(0.0, c=\"k\")\n",
        "ax.axvline(2 * _ell, c=\"k\", label='D=$2\\ell$')\n",
        "_plt.legend()\n",
        "_plt.fill_between(data[0], data[1].reshape(len(data[1])))\n",
        "_plt.title(\"Traction bar damage profile\")\n"
      ]
    },
    {
      "cell_type": "code",
      "execution_count": null,
      "metadata": {},
      "outputs": [],
      "source": []
    }
  ],
  "metadata": {
    "colab": {
      "authorship_tag": "ABX9TyN2Aql/o6gLtWm3TDqTX+0g",
      "collapsed_sections": [],
      "include_colab_link": true,
      "name": "mec647_Testbed_8.ipynb",
      "provenance": []
    },
    "kernelspec": {
      "display_name": "Python 3",
      "name": "python3"
    },
    "language_info": {
      "name": "python"
    }
  },
  "nbformat": 4,
  "nbformat_minor": 0
}
