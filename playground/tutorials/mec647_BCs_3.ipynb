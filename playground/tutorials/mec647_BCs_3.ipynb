{
  "cells": [
    {
      "cell_type": "markdown",
      "metadata": {
        "colab_type": "text",
        "id": "view-in-github"
      },
      "source": [
        "<a href=\"https://colab.research.google.com/github/kumiori/mec647/blob/main/mec647_BCs_3.ipynb\" target=\"_parent\"><img src=\"https://colab.research.google.com/assets/colab-badge.svg\" alt=\"Open In Colab\"/></a>\n"
      ]
    },
    {
      "cell_type": "code",
      "execution_count": null,
      "metadata": {
        "id": "bhqKfbydhqlU"
      },
      "outputs": [],
      "source": [
        "%%capture\n",
        "import sys\n",
        "\n",
        "try:\n",
        "    import google.colab  # noqa: F401\n",
        "except ImportError:\n",
        "    import ufl  # noqa: F401\n",
        "    import dolfinx  # noqa: F401\n",
        "else:\n",
        "    try:\n",
        "        import ufl\n",
        "        import dolfinx\n",
        "    except ImportError:\n",
        "        !wget \"https://fem-on-colab.github.io/releases/fenicsx-install.sh\" -O \"/tmp/fenicsx-install.sh\" && bash \"/tmp/fenicsx-install.sh\";\n",
        "        import ufl  # noqa: F401\n",
        "        import dolfinx  # noqa: F401"
      ]
    },
    {
      "cell_type": "code",
      "execution_count": null,
      "metadata": {
        "id": "giEEacK0h89B"
      },
      "outputs": [],
      "source": [
        "%%capture\n",
        "!sudo apt install libgl1-mesa-glx xvfb;\n",
        "!{sys.executable} -m pip install pythreejs;\n",
        "!{sys.executable} -m pip install ipygany;\n",
        "!{sys.executable} -m pip install --upgrade pyyaml\n",
        "try:\n",
        "    import google.colab\n",
        "except ImportError:\n",
        "    pass\n",
        "else:\n",
        "    pass\n",
        "    # google.colab.output.enable_custom_widget_manager();\n",
        "try:\n",
        "    import pyvista\n",
        "except ImportError:\n",
        "    !pip3 install --upgrade pyvista itkwidgets;\n",
        "    import pyvista  # noqa: F401\n",
        "    from pyvista.utilities import xvfb\n",
        "\n",
        "try:\n",
        "    import gmsh\n",
        "except ImportError:\n",
        "    !{sys.executable} -m pip install gmsh\n",
        "    import gmsh"
      ]
    },
    {
      "cell_type": "code",
      "execution_count": null,
      "metadata": {
        "colab": {
          "base_uri": "https://localhost:8080/"
        },
        "id": "tIu0L3Ixh9bn",
        "outputId": "ec2ad8f8-f946-4c50-f090-634c5b052e66"
      },
      "outputs": [
        {
          "name": "stdout",
          "output_type": "stream",
          "text": [
            "Cloning into 'mec647'...\n",
            "remote: Enumerating objects: 495, done.\u001b[K\n",
            "remote: Counting objects: 100% (495/495), done.\u001b[K\n",
            "remote: Compressing objects: 100% (403/403), done.\u001b[K\n",
            "remote: Total 495 (delta 208), reused 221 (delta 74), pack-reused 0\u001b[K\n",
            "Receiving objects: 100% (495/495), 7.12 MiB | 11.59 MiB/s, done.\n",
            "Resolving deltas: 100% (208/208), done.\n"
          ]
        }
      ],
      "source": [
        "!rm -rf mec647\n",
        "\n",
        "try:\n",
        "  !git clone https://github.com/kumiori/mec647.git\n",
        "except Exception:\n",
        "  print('Something went wrong')\n",
        "\n",
        "  !rm -rf mec647\n",
        "  !git clone https://github.com/kumiori/mec647.git\n"
      ]
    },
    {
      "cell_type": "code",
      "execution_count": null,
      "metadata": {
        "id": "OFxOqEgOiIO-"
      },
      "outputs": [],
      "source": [
        "sys.path.append('mec647/')"
      ]
    },
    {
      "cell_type": "code",
      "execution_count": null,
      "metadata": {
        "id": "7HOLzr6EimhX"
      },
      "outputs": [],
      "source": [
        "\n",
        "# meshes\n",
        "import meshes\n",
        "from meshes import primitives\n",
        "\n",
        "# visualisation\n",
        "from utils import viz\n",
        "import matplotlib.pyplot as plt\n",
        "from utils.viz import plot_mesh"
      ]
    },
    {
      "cell_type": "code",
      "execution_count": null,
      "metadata": {
        "id": "lytYYgfoipnb"
      },
      "outputs": [],
      "source": [
        "# Parameters\n",
        "\n",
        "parameters = {\n",
        "    'loading': {\n",
        "        'min': 0,\n",
        "        'max': 1\n",
        "    },\n",
        "    'geometry': {\n",
        "        'geom_type': 'bar',\n",
        "        'Lx': 1.,\n",
        "        'Ly': 0.1\n",
        "    }\n",
        "}\n",
        "\n",
        "# parameters.get('loading')\n",
        "\n"
      ]
    },
    {
      "cell_type": "markdown",
      "metadata": {
        "id": "cGGdnId4i3es"
      },
      "source": [
        "## Mesh 1\n"
      ]
    },
    {
      "cell_type": "code",
      "execution_count": null,
      "metadata": {
        "id": "eGewK6iSiyIj"
      },
      "outputs": [],
      "source": [
        "def mesh_holes(Lx = 1., Ly = 1.):\n",
        "  import gmsh\n",
        "\n",
        "  # Initialise gmsh and set options\n",
        "  gmsh.initialize()\n",
        "  gmsh.option.setNumber(\"General.Terminal\", 1)\n",
        "\n",
        "  gmsh.option.setNumber(\"Mesh.Algorithm\", 6)\n",
        "  model = gmsh.model()\n",
        "  model.add(\"Rectangle\")\n",
        "  model.setCurrent(\"Rectangle\")\n",
        "  # Lx, Ly"
      ]
    },
    {
      "cell_type": "code",
      "execution_count": null,
      "metadata": {
        "id": "RkY4SD2pAaB1"
      },
      "outputs": [],
      "source": [
        "mesh_holes()"
      ]
    },
    {
      "cell_type": "markdown",
      "metadata": {
        "id": "QEf3rGuUi_CJ"
      },
      "source": [
        "## Mesh 2\n"
      ]
    },
    {
      "cell_type": "code",
      "execution_count": null,
      "metadata": {
        "id": "IX2nXOYrjABv"
      },
      "outputs": [],
      "source": [
        "# Mesh kink"
      ]
    },
    {
      "cell_type": "markdown",
      "metadata": {
        "id": "s_7F55yUjBmH"
      },
      "source": [
        "## Mesh 3\n"
      ]
    },
    {
      "cell_type": "code",
      "execution_count": null,
      "metadata": {
        "id": "z66da9jRjCOD"
      },
      "outputs": [],
      "source": [
        "# mesh ..."
      ]
    },
    {
      "cell_type": "code",
      "execution_count": null,
      "metadata": {
        "id": "ho4xhwtpA3Eu"
      },
      "outputs": [],
      "source": []
    },
    {
      "cell_type": "markdown",
      "metadata": {
        "id": "Kf6hfuB5A9W5"
      },
      "source": [
        "## Meshes, domains and boundary conditions\n"
      ]
    },
    {
      "cell_type": "code",
      "execution_count": null,
      "metadata": {
        "id": "63a4lxHjBqFF"
      },
      "outputs": [],
      "source": [
        "import meshes"
      ]
    },
    {
      "cell_type": "code",
      "execution_count": null,
      "metadata": {
        "id": "BJTQi8BSBDl0"
      },
      "outputs": [],
      "source": [
        "gmsh_model, tdim = primitives.mesh_bar_gmshapi(name = 'bar', \n",
        "                                  Lx = 1.,\n",
        "                                  Ly = .1,\n",
        "                                  lc = .05,\n",
        "                                  tdim = 2)\n",
        "\n",
        "# Get mesh and meshtags\n",
        "mesh, mts = meshes.gmsh_model_to_mesh(gmsh_model,\n",
        "                               cell_data=False,\n",
        "                               facet_data=True,\n",
        "                               gdim=2)\n"
      ]
    },
    {
      "cell_type": "code",
      "execution_count": null,
      "metadata": {
        "colab": {
          "base_uri": "https://localhost:8080/",
          "height": 102
        },
        "id": "OMFa6cvqBJKy",
        "outputId": "17a99f03-642d-41f2-85b4-e254448812b5"
      },
      "outputs": [
        {
          "data": {
            "text/plain": [
              "<matplotlib.axes._subplots.AxesSubplot at 0x7fc40c906910>"
            ]
          },
          "execution_count": 27,
          "metadata": {},
          "output_type": "execute_result"
        },
        {
          "data": {
            "image/png": "[encoded data removed]",
            "text/plain": [
              "<Figure size 432x288 with 1 Axes>"
            ]
          },
          "metadata": {
            "needs_background": "light"
          },
          "output_type": "display_data"
        }
      ],
      "source": [
        "viz.plot_mesh(mesh)"
      ]
    },
    {
      "cell_type": "code",
      "execution_count": null,
      "metadata": {
        "colab": {
          "base_uri": "https://localhost:8080/"
        },
        "id": "pwcPjjnABPMo",
        "outputId": "5d156fe2-edbe-488e-d173-af7abdafe5d5"
      },
      "outputs": [
        {
          "data": {
            "text/plain": [
              "<dolfinx.cpp.mesh.MeshTags_int32 at 0x7fc40c43d630>"
            ]
          },
          "execution_count": 41,
          "metadata": {},
          "output_type": "execute_result"
        }
      ],
      "source": [
        "dir(mts)"
      ]
    },
    {
      "cell_type": "code",
      "execution_count": null,
      "metadata": {
        "id": "nJllnU_sEoXT"
      },
      "outputs": [],
      "source": [
        "import ufl\n",
        "ds = ufl.Measure(\"ds\", subdomain_data=mts, domain=mesh)\n"
      ]
    },
    {
      "cell_type": "code",
      "execution_count": null,
      "metadata": {
        "colab": {
          "base_uri": "https://localhost:8080/"
        },
        "id": "aqSi7iF0FLPU",
        "outputId": "cf9b0188-70bc-4192-f6d3-843e26f94197"
      },
      "outputs": [
        {
          "data": {
            "text/plain": [
              "2.1999999999999997"
            ]
          },
          "execution_count": 37,
          "metadata": {},
          "output_type": "execute_result"
        }
      ],
      "source": [
        "from dolfinx.fem import Constant, form\n",
        "from petsc4py.PETSc import ScalarType\n",
        "\n",
        "dolfinx.fem.assemble_scalar(form(Constant(mesh, 1.)*ds) )\n",
        "\n",
        "\n"
      ]
    },
    {
      "cell_type": "code",
      "execution_count": null,
      "metadata": {
        "colab": {
          "base_uri": "https://localhost:8080/"
        },
        "id": "BeSMXCQUFjHe",
        "outputId": "1b04d3e9-8355-4d9f-b88a-cb1158c19abc"
      },
      "outputs": [
        {
          "data": {
            "text/plain": [
              "Constant(Mesh(VectorElement(FiniteElement('Lagrange', triangle, 1, variant='equispaced'), dim=2, variant='equispaced'), 1), (), 1)"
            ]
          },
          "execution_count": 35,
          "metadata": {},
          "output_type": "execute_result"
        }
      ],
      "source": [
        "Constant(mesh, 1.)"
      ]
    },
    {
      "cell_type": "code",
      "execution_count": null,
      "metadata": {
        "colab": {
          "base_uri": "https://localhost:8080/"
        },
        "id": "alwNPk0xF8hH",
        "outputId": "b4694b60-7b04-4076-a257-c94e4e26e8d5"
      },
      "outputs": [
        {
          "data": {
            "text/plain": [
              "0.1"
            ]
          },
          "execution_count": 42,
          "metadata": {},
          "output_type": "execute_result"
        }
      ],
      "source": [
        "dolfinx.fem.assemble_scalar(form(Constant(mesh, 1.)*ds(6)) )\n"
      ]
    },
    {
      "cell_type": "code",
      "execution_count": null,
      "metadata": {
        "colab": {
          "base_uri": "https://localhost:8080/"
        },
        "id": "IGr6Hc75GiXm",
        "outputId": "33c2b6bb-390d-44a2-f00f-237bc304ff69"
      },
      "outputs": [
        {
          "data": {
            "text/plain": [
              "<dolfinx.fem.bcs.DirichletBC at 0x7fc40b5f24d0>"
            ]
          },
          "execution_count": 46,
          "metadata": {},
          "output_type": "execute_result"
        }
      ],
      "source": [
        "from dolfinx.fem.bcs import locate_dofs_geometrical\n",
        "import basix.ufl\n",
        "\n",
        "# indentify dof\n",
        "import numpy as np\n",
        "element = basix.ufl.element(\"Lagrange\", mesh.basix_cell(), degree=1)\n",
        "V = dolfinx.fem.functionspace(mesh, element)\n",
        "\n",
        "dofs_left = locate_dofs_geometrical(V, lambda x: np.isclose(x[0], 0.))\n",
        "\n",
        "u_given = dolfinx.fem.Function(V)\n",
        "\n",
        "dolfinx.fem.dirichletbc(u_given, dofs_left)\n",
        "\n",
        "# construct the bc"
      ]
    },
    {
      "cell_type": "code",
      "execution_count": null,
      "metadata": {
        "id": "Q-8T3IgWKP2C"
      },
      "outputs": [],
      "source": [
        "u_given.interpolate( lambda x: np.ones_like(x[0]) )"
      ]
    },
    {
      "cell_type": "code",
      "execution_count": null,
      "metadata": {
        "id": "vjm4LRv-LTcv"
      },
      "outputs": [],
      "source": [
        "# Locate facets topologically\n",
        "facet_dim = tdim - 1 \n",
        "facets = dolfin.fem.locate_entities_boundary(mesh, facet_dim, <function>)\n",
        "# <function>(x): true/false \n",
        "dirichletbc(<Constant, Expression, ...>, locate_dofs_topological(V, 1, facets), V)\n",
        "\n"
      ]
    }
  ],
  "metadata": {
    "colab": {
      "authorship_tag": "ABX9TyMPx/AwZjA5uvlgJkoTGl3f",
      "include_colab_link": true,
      "name": "mec647_BCs_3.ipynb",
      "provenance": []
    },
    "kernelspec": {
      "display_name": "Python 3",
      "name": "python3"
    },
    "language_info": {
      "name": "python"
    }
  },
  "nbformat": 4,
  "nbformat_minor": 0
}
