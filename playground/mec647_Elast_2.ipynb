{
  "nbformat": 4,
  "nbformat_minor": 0,
  "metadata": {
    "colab": {
      "name": "mec647_Elast_2.ipynb",
      "provenance": [],
      "collapsed_sections": [],
      "authorship_tag": "ABX9TyOsD0FguOEhMB0ip+ohclh7",
      "include_colab_link": true
    },
    "kernelspec": {
      "name": "python3",
      "display_name": "Python 3"
    },
    "language_info": {
      "name": "python"
    }
  },
  "cells": [
    {
      "cell_type": "markdown",
      "metadata": {
        "id": "view-in-github",
        "colab_type": "text"
      },
      "source": [
        "<a href=\"https://colab.research.google.com/github/kumiori/mec647/blob/main/mec647_Elast_2.ipynb\" target=\"_parent\"><img src=\"https://colab.research.google.com/assets/colab-badge.svg\" alt=\"Open In Colab\"/></a>"
      ]
    },
    {
      "cell_type": "code",
      "execution_count": 1,
      "metadata": {
        "id": "NudXugSpxSzy"
      },
      "outputs": [],
      "source": [
        "%%capture\n",
        "import sys\n",
        "\n",
        "try:\n",
        "    import google.colab  # noqa: F401\n",
        "except ImportError:\n",
        "    import ufl  # noqa: F401\n",
        "    import dolfinx  # noqa: F401\n",
        "else:\n",
        "    try:\n",
        "        import ufl\n",
        "        import dolfinx\n",
        "    except ImportError:\n",
        "        !wget \"https://fem-on-colab.github.io/releases/fenicsx-install.sh\" -O \"/tmp/fenicsx-install.sh\" && bash \"/tmp/fenicsx-install.sh\";\n",
        "        import ufl  # noqa: F401\n",
        "        import dolfinx  # noqa: F401"
      ]
    },
    {
      "cell_type": "code",
      "source": [
        "%%capture\n",
        "!sudo apt install libgl1-mesa-glx xvfb;\n",
        "!{sys.executable} -m pip install pythreejs;\n",
        "!{sys.executable} -m pip install ipygany;\n",
        "!{sys.executable} -m pip install --upgrade pyyaml\n",
        "try:\n",
        "    import google.colab\n",
        "except ImportError:\n",
        "    pass\n",
        "else:\n",
        "    pass\n",
        "    # google.colab.output.enable_custom_widget_manager();\n",
        "try:\n",
        "    import pyvista\n",
        "except ImportError:\n",
        "    !pip3 install --upgrade pyvista itkwidgets;\n",
        "    import pyvista  # noqa: F401\n",
        "    from pyvista.utilities import xvfb\n",
        "\n",
        "try:\n",
        "    import gmsh\n",
        "except ImportError:\n",
        "    !{sys.executable} -m pip install gmsh\n",
        "    import gmsh"
      ],
      "metadata": {
        "id": "7Sfwa68oxYgh"
      },
      "execution_count": 3,
      "outputs": []
    },
    {
      "cell_type": "markdown",
      "source": [
        "# The problem of elasticity\n",
        "\n",
        "\n",
        "Let $\\Omega \\subset (0, L)^D$, with $D=1, 2, 3$, $L$ finite, being the (or one) characteristic length of the specimen. For any $u\\in V_t : H^1(\\Omega, R^n) + bcs(t)$ with $n=1, 2$ or $3$, consider the energy $E(u)$ defined as\n",
        "$$\n",
        "E(u)=\\frac{1}{2}\\int_\\Omega A e(u): e(u) dx - \\int_\\Omega f.u dx$$\n",
        "Above, $A$ is the 4-th order tensor of elasticity, in the isotropic and homogeneous case, it corresponds to a linear combination with two coefficients, say, $A_0$ the stiffness (dimensional), and $\\nu$ the Poisson ratio (non-dimensional). \n",
        "\n",
        "We solve:\n",
        "$$min \\left\\{ E(u):  u \\in V_t\\right\\}$$. \n",
        "\n",
        "From a mechanical  standpoint, linear elasticity is the limit regime of small deformations of the general, fully nonlinear, problem of elasticity.  \n",
        "From a mathematical standpoint, the minimisation problem above is a standard variational problem which is i) convex, ii) defined on a complete, compact,  vector space of functions, and iii) . Its solution is unique and depends continuously upon the data. Can you show this?  \n",
        "\n",
        "Boundary conditions are such that equilibrium ...\n",
        "\n",
        "The interest of the above is that $E(u)$ ...\n"
      ],
      "metadata": {
        "id": "MU0B8LEU-soU"
      }
    },
    {
      "cell_type": "code",
      "source": [
        "# library include\n",
        "\n",
        "\n",
        "import numpy as np\n",
        "import yaml\n",
        "import json\n",
        "import sys\n",
        "import os\n",
        "from pathlib import Path\n",
        "\n",
        "from mpi4py import MPI\n",
        "\n",
        "import petsc4py\n",
        "from petsc4py import PETSc\n",
        "\n",
        "import dolfinx\n",
        "import dolfinx.plot\n",
        "from dolfinx import log\n",
        "import ufl\n",
        "\n",
        "\n",
        "from dolfinx.io import XDMFFile\n",
        "\n",
        "import logging\n",
        "\n",
        "logging.basicConfig(level=logging.INFO)\n",
        "\n",
        "import dolfinx\n",
        "import dolfinx.plot\n",
        "import dolfinx.io\n",
        "from dolfinx.fem import (\n",
        "    Constant,\n",
        "    Function,\n",
        "    FunctionSpace,\n",
        "    assemble_scalar,\n",
        "    dirichletbc,\n",
        "    form,\n",
        "    locate_dofs_geometrical,\n",
        "    set_bc,\n",
        ")\n",
        "import matplotlib.pyplot as plt"
      ],
      "metadata": {
        "id": "tZ9egFUuxEGq"
      },
      "execution_count": 4,
      "outputs": []
    },
    {
      "cell_type": "code",
      "source": [
        "!rm -rf mec647\n"
      ],
      "metadata": {
        "id": "V1Hlttm1VXOM"
      },
      "execution_count": 5,
      "outputs": []
    },
    {
      "cell_type": "code",
      "source": [
        "try:\n",
        "  !git clone https://github.com/kumiori/mec647.git\n",
        "except Exception:\n",
        "  print('Something went wrong')\n",
        "\n",
        "  !rm -rf mec647\n",
        "  !git clone https://github.com/kumiori/mec647.git\n"
      ],
      "metadata": {
        "colab": {
          "base_uri": "https://localhost:8080/"
        },
        "id": "s9PP1aUIyUKC",
        "outputId": "eb2641ce-2418-4c39-82bf-cd21c7807a6f"
      },
      "execution_count": 6,
      "outputs": [
        {
          "output_type": "stream",
          "name": "stdout",
          "text": [
            "Cloning into 'mec647'...\n",
            "remote: Enumerating objects: 390, done.\u001b[K\n",
            "remote: Counting objects: 100% (390/390), done.\u001b[K\n",
            "remote: Compressing objects: 100% (312/312), done.\u001b[K\n",
            "remote: Total 390 (delta 178), reused 146 (delta 61), pack-reused 0\u001b[K\n",
            "Receiving objects: 100% (390/390), 6.16 MiB | 9.97 MiB/s, done.\n",
            "Resolving deltas: 100% (178/178), done.\n"
          ]
        }
      ]
    },
    {
      "cell_type": "code",
      "source": [
        "sys.path.append('mec647/')\n",
        "\n",
        "# meshes\n",
        "import meshes\n",
        "from meshes import primitives\n",
        "\n",
        "# visualisation\n",
        "from utils import viz\n",
        "import matplotlib.pyplot as plt\n",
        "from utils.viz import plot_mesh, plot_vector, plot_scalar\n"
      ],
      "metadata": {
        "id": "Vtzt6XEWybNf"
      },
      "execution_count": 7,
      "outputs": []
    },
    {
      "cell_type": "code",
      "source": [
        "# Parameters\n",
        "\n",
        "parameters = {\n",
        "    'loading': {\n",
        "        'min': 0,\n",
        "        'max': 1\n",
        "    },\n",
        "    'geometry': {\n",
        "        'geom_type': 'bar',\n",
        "        'Lx': 1.,\n",
        "        'Ly': 0.1\n",
        "    },\n",
        "    'model': {\n",
        "        'mu': 1.,\n",
        "        'lmbda': 0.\n",
        "    },\n",
        "    'solvers': {\n",
        "        'snes': {\n",
        "            'snes_type': 'newtontr',\n",
        "            'snes_stol': 1e-8,\n",
        "            'snes_atol': 1e-8,\n",
        "            'snes_rtol': 1e-8,\n",
        "            'snes_max_it': 100,\n",
        "            'snes_monitor': \"\",\n",
        "            'ksp_type': 'preonly',\n",
        "            'pc_type': 'lu',\n",
        "            'pc_factor_mat_solver_type': 'mumps'\n",
        "        }\n",
        "    }\n",
        "}\n",
        "\n",
        "# parameters.get('loading')\n",
        "\n"
      ],
      "metadata": {
        "id": "xYNJNfNnzb2l"
      },
      "execution_count": null,
      "outputs": []
    },
    {
      "cell_type": "code",
      "source": [
        "# Mesh\n",
        "Lx = parameters[\"geometry\"][\"Lx\"]\n",
        "Ly = parameters[\"geometry\"][\"Ly\"]\n",
        "geom_type = parameters[\"geometry\"][\"geom_type\"]\n",
        "\n",
        "\n",
        "\n",
        "gmsh_model, tdim = primitives.mesh_bar_gmshapi(geom_type,\n",
        "                                    Lx, \n",
        "                                    Ly, \n",
        "                                    0.03, \n",
        "                                    tdim=2)\n",
        "\n",
        "mesh, mts = meshes.gmsh_model_to_mesh(gmsh_model,\n",
        "                               cell_data=False,\n",
        "                               facet_data=True,\n",
        "                               gdim=2)\n",
        "\n",
        "# TODO: Plot mesh\n",
        "\n",
        "\n",
        "plt.figure()\n",
        "ax = plot_mesh(mesh)\n",
        "fig = ax.get_figure()\n",
        "fig.savefig(f\"mesh.png\")\n"
      ],
      "metadata": {
        "id": "jP0N2XxL0Prl",
        "outputId": "2fdcd7af-01d2-4b98-902c-4e7be6188b34",
        "colab": {
          "base_uri": "https://localhost:8080/",
          "height": 84
        }
      },
      "execution_count": null,
      "outputs": [
        {
          "output_type": "display_data",
          "data": {
            "image/png": "[encoded data removed]",
            "text/plain": [
              "<Figure size 432x288 with 1 Axes>"
            ]
          },
          "metadata": {
            "needs_background": "light"
          }
        }
      ]
    },
    {
      "cell_type": "code",
      "source": [
        "# Functional setting\n",
        "\n",
        "element_u = ufl.VectorElement(\"Lagrange\", mesh.ufl_cell(),\n",
        "                              degree=1, dim=2)\n",
        "V_u = dolfinx.fem.FunctionSpace(mesh, element_u) \n",
        "\n",
        "u = dolfinx.fem.Function(V_u, name=\"Displacement\")\n",
        "g = dolfinx.fem.Function(V_u, name=\"Body pressure\")\n",
        "\n",
        "u_ = dolfinx.fem.Function(V_u, name=\"Boundary Displacement\")\n",
        "# ux_ = dolfinx.fem.Function(V_u.sub(0).collapse(), name=\"Boundary Displacement\")\n",
        "\n",
        "\n"
      ],
      "metadata": {
        "id": "5ATiQASF3iuH"
      },
      "execution_count": null,
      "outputs": []
    },
    {
      "cell_type": "code",
      "source": [
        "# Integral measures\n",
        "dx = ufl.Measure(\"dx\", domain=mesh)\n",
        "ds = ufl.Measure(\"ds\", domain=mesh)\n"
      ],
      "metadata": {
        "id": "hvdpZ8j25cAC"
      },
      "execution_count": null,
      "outputs": []
    },
    {
      "cell_type": "code",
      "source": [
        "\n",
        "# Data\n",
        "\n",
        "zero = Function(V_u)\n",
        "# works in parallel!\n",
        "with zero.vector.localForm() as loc:\n",
        "    loc.set(0.0)\n",
        "\n",
        "one = Function(V_u)\n",
        "# works in parallel!\n",
        "with one.vector.localForm() as loc:\n",
        "    loc.set(1.0)\n",
        "\n",
        "g = Function(V_u)\n",
        "# works in parallel!\n",
        "with zero.vector.localForm() as loc:\n",
        "    loc.set(0.0)\n"
      ],
      "metadata": {
        "id": "B-x_BOOKALTx"
      },
      "execution_count": null,
      "outputs": []
    },
    {
      "cell_type": "code",
      "source": [
        "# energy\n",
        "mu = parameters[\"model\"][\"mu\"]\n",
        "lmbda = parameters[\"model\"][\"lmbda\"]\n",
        "\n",
        "def _e(u):\n",
        "  return ufl.sym(ufl.grad(u))\n",
        "\n",
        "en_density = 1/2 * (2*mu* ufl.inner(_e(u),_e(u))) + lmbda*ufl.tr(_e(u))**2\n",
        "energy = en_density * dx - ufl.dot(g, u) * dx"
      ],
      "metadata": {
        "id": "rKTBpiQp6gCk"
      },
      "execution_count": null,
      "outputs": []
    },
    {
      "cell_type": "code",
      "source": [
        "# boundary conditions\n",
        "\n",
        "def left(x):\n",
        "  return np.isclose(x[0], 0.)\n",
        "\n",
        "def right(x):\n",
        "  return np.isclose(x[0], Lx)\n",
        "\n",
        "left_facets = dolfinx.mesh.locate_entities_boundary(mesh, 1, left)\n",
        "left_dofs = dolfinx.fem.locate_dofs_topological(V_u, mesh.topology.dim - 1,\n",
        "                                                left_facets)\n",
        "\n",
        "\n",
        "# right side\n",
        "\n",
        "right_facets = dolfinx.mesh.locate_entities_boundary(mesh, 1, right)\n",
        "right_dofs = dolfinx.fem.locate_dofs_topological(V_u, mesh.topology.dim - 1,\n",
        "                                                right_facets)\n",
        "\n",
        "\n",
        "\n",
        "\n"
      ],
      "metadata": {
        "id": "ytXUWcFX8yHl"
      },
      "execution_count": null,
      "outputs": []
    },
    {
      "cell_type": "code",
      "source": [
        "\n",
        "bcs = [dirichletbc(zero, left_dofs), dirichletbc(one, right_dofs)]\n",
        "bcs"
      ],
      "metadata": {
        "id": "_RRgZb5S-y1P",
        "outputId": "e36ae788-0b62-4568-a017-16ab732642d7",
        "colab": {
          "base_uri": "https://localhost:8080/"
        }
      },
      "execution_count": null,
      "outputs": [
        {
          "output_type": "execute_result",
          "data": {
            "text/plain": [
              "[<dolfinx.fem.bcs.DirichletBC at 0x7f3a6eb909b0>,\n",
              " <dolfinx.fem.bcs.DirichletBC at 0x7f3a6eb90a70>]"
            ]
          },
          "metadata": {},
          "execution_count": 12
        }
      ]
    },
    {
      "cell_type": "code",
      "source": [
        "left_dofs"
      ],
      "metadata": {
        "id": "94-k9S-3-bch",
        "outputId": "4cf8759b-11ea-49f6-e135-b12863e7a5b7",
        "colab": {
          "base_uri": "https://localhost:8080/"
        }
      },
      "execution_count": null,
      "outputs": [
        {
          "output_type": "execute_result",
          "data": {
            "text/plain": [
              "array([ 0,  1,  5,  8, 12], dtype=int32)"
            ]
          },
          "metadata": {},
          "execution_count": 13
        }
      ]
    },
    {
      "cell_type": "code",
      "source": [
        "\n",
        "# solving\n",
        "from solvers import SNESSolver\n",
        "D_energy_u = ufl.derivative(energy, u, ufl.TestFunction(V_u))\n",
        "\n",
        "problem = SNESSolver(\n",
        "    D_energy_u,\n",
        "    u,\n",
        "    bcs,\n",
        "    bounds=None,\n",
        "    petsc_options=parameters.get(\"solvers\").get(\"snes\"),\n",
        "    prefix=\"elast\",\n",
        ")\n",
        "\n",
        "\n",
        "problem.solve()\n"
      ],
      "metadata": {
        "id": "4OWbuLZQ-rQC",
        "colab": {
          "base_uri": "https://localhost:8080/"
        },
        "outputId": "94a10597-f60e-4b83-b733-dcc15ea958a9"
      },
      "execution_count": null,
      "outputs": [
        {
          "output_type": "stream",
          "name": "stdout",
          "text": [
            "  0 SNES Function norm 6.180058399450e+00 \n",
            "  1 SNES Function norm 6.071948106829e+00 \n",
            "  2 SNES Function norm 5.855727521587e+00 \n",
            "  3 SNES Function norm 5.423286351103e+00 \n",
            "  4 SNES Function norm 4.558404010134e+00 \n",
            "  5 SNES Function norm 2.828639328197e+00 \n",
            "  6 SNES Function norm 5.098488653648e-15 \n"
          ]
        },
        {
          "output_type": "execute_result",
          "data": {
            "text/plain": [
              "(6, 2)"
            ]
          },
          "metadata": {},
          "execution_count": 14
        }
      ]
    },
    {
      "cell_type": "markdown",
      "source": [
        "## Visualisation & Post Processing"
      ],
      "metadata": {
        "id": "wWY9BhRNcbbg"
      }
    },
    {
      "cell_type": "code",
      "source": [
        "\n",
        "def plot_vector(u, plotter, subplot=None):\n",
        "    if subplot:\n",
        "        plotter.subplot(subplot[0], subplot[1])\n",
        "    V = u.function_space\n",
        "    mesh = V.mesh\n",
        "    topology, cell_types, _ = dolfinx.plot.create_vtk_mesh(mesh, mesh.topology.dim)\n",
        "    num_dofs_local = u.function_space.dofmap.index_map.size_local\n",
        "    geometry = u.function_space.tabulate_dof_coordinates()[:num_dofs_local]\n",
        "    values = np.zeros((V.dofmap.index_map.size_local, 3), dtype=np.float64)\n",
        "    values[:, : mesh.geometry.dim] = u.vector.array.real.reshape(\n",
        "        V.dofmap.index_map.size_local, V.dofmap.index_map_bs\n",
        "    )\n",
        "    grid = pyvista.UnstructuredGrid(topology, cell_types, geometry)\n",
        "    grid[\"vectors\"] = values\n",
        "    grid.set_active_vectors(\"vectors\")\n",
        "    # geom = pyvista.Arrow()\n",
        "    # glyphs = grid.glyph(orient=\"vectors\", factor=1, geom=geom)\n",
        "    glyphs = grid.glyph(orient=\"vectors\", factor=1.0)\n",
        "    plotter.add_mesh(glyphs)\n",
        "    plotter.add_mesh(\n",
        "        grid, show_edges=True, color=\"black\", style=\"wireframe\", opacity=0.3\n",
        "    )\n",
        "    plotter.view_xy()\n",
        "    return plotter\n",
        "\n",
        "\n",
        "def plot_scalar(alpha, plotter, subplot=None, lineproperties={}):\n",
        "    if subplot:\n",
        "        plotter.subplot(subplot[0], subplot[1])\n",
        "    V = alpha.function_space\n",
        "    mesh = V.mesh\n",
        "    topology, cell_types, _ = dolfinx.plot.create_vtk_mesh(mesh, mesh.topology.dim)\n",
        "    grid = pyvista.UnstructuredGrid(topology, cell_types, mesh.geometry.x)\n",
        "\n",
        "    plotter.subplot(0, 0)\n",
        "    grid.point_data[\"alpha\"] = alpha.compute_point_values().real\n",
        "    grid.set_active_scalars(\"alpha\")\n",
        "    plotter.add_mesh(grid, **lineproperties)\n",
        "    plotter.view_xy()\n",
        "    return plotter\n",
        "\n"
      ],
      "metadata": {
        "id": "gcnwU02YT4Bn"
      },
      "execution_count": null,
      "outputs": []
    },
    {
      "cell_type": "code",
      "source": [
        "\n",
        "\n",
        "# plt.figure()\n",
        "# ax = plot_mesh(mesh)\n",
        "# fig = ax.get_figure()\n",
        "# fig.savefig(f\"mesh.png\")\n",
        "\n",
        "# postprocessing\n",
        "\n",
        "xvfb.start_xvfb(wait=0.05)\n",
        "pyvista.OFF_SCREEN = True\n",
        "\n",
        "plotter = pyvista.Plotter(\n",
        "        title=\"Displacement\",\n",
        "        window_size=[1600, 600],\n",
        "        shape=(1, 2),\n",
        "    )\n",
        "\n",
        "# _plt = plot_scalar(u_.sub(0), plotter, subplot=(0, 0))\n",
        "_plt = plot_vector(u, plotter, subplot=(0, 1))\n",
        "_plt.screenshot(f\"displacement_MPI.png\")"
      ],
      "metadata": {
        "id": "DTL6rJYhclPD"
      },
      "execution_count": null,
      "outputs": []
    },
    {
      "cell_type": "code",
      "source": [
        ""
      ],
      "metadata": {
        "id": "MhIFGyYRZmp9"
      },
      "execution_count": null,
      "outputs": []
    }
  ]
}