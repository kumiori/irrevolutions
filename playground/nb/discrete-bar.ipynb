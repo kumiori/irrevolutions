{
 "cells": [
  {
   "cell_type": "code",
   "execution_count": 2,
   "id": "159828d0",
   "metadata": {},
   "outputs": [],
   "source": [
    "import irrevolutions.utils.postprocess as pp\n",
    "import plots as plots\n"
   ]
  },
  {
   "cell_type": "markdown",
   "id": "1c5ce38f",
   "metadata": {},
   "source": [
    "# ATk stability of a discrete bar\n",
    "\n",
    "\n",
    "We study the stability of the following structure,\n",
    "which features non-trivial stability properties\n",
    "such as:\n",
    "    -\n",
    "    -\n",
    "    -\n",
    "\n",
    "The stability analysis is done according to ...\n",
    "\n",
    "\n",
    "Several stability notions:\n",
    "\n",
    "A state $y_t$ is stable if:\n",
    "\n",
    "GS) $$\n",
    "    E(y_t)\\leq E(z), \\quad \\forall z \\in A(y_t)\n",
    "    $$\n",
    "\n",
    "LS) \n",
    "$\\exists \\bar h: $\n",
    "$$\n",
    "E(y_t)\\leq E(y_t + z), \\quad \\forall z \\in .., ||z||\\leq h\n",
    "$$\n",
    "\n",
    "$$\\text{Find } (x, \\lambda)\\in X\\times \\mathbb R: \\quad\n",
    "K^+_0 \\ni x \\perp y := Ax - \\lambda B x \\in K^*$$\n",
    "where \n",
    "$K^+_0$  is a closed convex cone and $K^*$ its polar set (dual).\n"
   ]
  },
  {
   "cell_type": "code",
   "execution_count": 1,
   "id": "21f5e7d9",
   "metadata": {},
   "outputs": [],
   "source": []
  },
  {
   "cell_type": "code",
   "execution_count": 2,
   "id": "16c573d9",
   "metadata": {},
   "outputs": [
    {
     "name": "stdout",
     "output_type": "stream",
     "text": [
      "/Users/kumiori/Documents/WIP/m4s-MEC647/mec647/playground/nb\r\n"
     ]
    }
   ],
   "source": [
    "!pwd"
   ]
  },
  {
   "cell_type": "code",
   "execution_count": 26,
   "id": "bbe92b18",
   "metadata": {},
   "outputs": [],
   "source": [
    "experiment = '../../test/output/test_cone'\n",
    "params, data, signature = pp.load_data(experiment)\n"
   ]
  },
  {
   "cell_type": "code",
   "execution_count": 23,
   "id": "b30569e3",
   "metadata": {},
   "outputs": [
    {
     "data": {
      "text/plain": [
       "'0e4222aae85c49d06616b57b1f6841da'"
      ]
     },
     "execution_count": 23,
     "metadata": {},
     "output_type": "execute_result"
    }
   ],
   "source": [
    "signature"
   ]
  },
  {
   "cell_type": "code",
   "execution_count": 14,
   "id": "d1fab6f0",
   "metadata": {},
   "outputs": [
    {
     "data": {
      "text/plain": [
       "{'geometry': {'Lx': 1.0,\n",
       "  'Ly': 0.1,\n",
       "  'geom_type': 'discrete-damageable',\n",
       "  'geometric_dimension': 2,\n",
       "  'lc': 0.02},\n",
       " 'loading': {'max': 1.001, 'min': 0, 'steps': 10},\n",
       " 'model': {'N': 3,\n",
       "  'ell': 0.1,\n",
       "  'k': 4,\n",
       "  'k_res': 0.0001,\n",
       "  'model_dimension': 1,\n",
       "  'model_type': '1D',\n",
       "  'mu': 1,\n",
       "  'w1': 1},\n",
       " 'solvers': {'damage': {'prefix': 'damage',\n",
       "   'snes': {'ksp_type': 'preonly',\n",
       "    'pc_factor_mat_solver_type': 'mumps',\n",
       "    'pc_type': 'lu',\n",
       "    'snes_atol': 1e-05,\n",
       "    'snes_linesearch_type': 'basic',\n",
       "    'snes_max_it': 50,\n",
       "    'snes_monitor': '',\n",
       "    'snes_rtol': 1e-05,\n",
       "    'snes_type': 'vinewtonrsls'},\n",
       "   'tao': {'ksp_rtol': '1e-6',\n",
       "    'pc_type': 'lu',\n",
       "    'tao_catol': 0.0,\n",
       "    'tao_crtol': 0.0,\n",
       "    'tao_gatol': 1e-08,\n",
       "    'tao_gpcg_maxpgits': 50,\n",
       "    'tao_grtol': 1e-08,\n",
       "    'tao_gttol': 1e-08,\n",
       "    'tao_ls_ftol': '1e-5',\n",
       "    'tao_ls_gtol': '1e-5',\n",
       "    'tao_ls_rtol': '1e-5',\n",
       "    'tao_ls_stepmax': '1e6',\n",
       "    'tao_ls_stepmin': '1e-8',\n",
       "    'tao_max_it': 100,\n",
       "    'tao_monitor': '',\n",
       "    'tao_steptol': 1e-07,\n",
       "    'tao_type': 'tron'},\n",
       "   'type': 'SNES'},\n",
       "  'damage_elasticity': {'alpha_rtol': 1e-05,\n",
       "   'criterion': 'alpha_H1',\n",
       "   'max_it': 100},\n",
       "  'elasticity': {'prefix': 'elasticity',\n",
       "   'snes': {'ksp_type': 'preonly',\n",
       "    'pc_factor_mat_solver_type': 'mumps',\n",
       "    'pc_type': 'lu',\n",
       "    'snes_atol': '1e-8',\n",
       "    'snes_max_it': 100,\n",
       "    'snes_monitor': '',\n",
       "    'snes_rtol': '1e-8',\n",
       "    'snes_stol': '1e-8',\n",
       "    'snes_type': 'newtontr'}}},\n",
       " 'stability': {'checkstability': 'True',\n",
       "  'cont_rtol': 1e-10,\n",
       "  'continuation': 'False',\n",
       "  'eigen': {'eig_rtol': 1e-07,\n",
       "   'eps_max_it': 100,\n",
       "   'eps_tol': 1e-07,\n",
       "   'eps_type': 'krylovschur'},\n",
       "  'inactiveset_gatol': 1e-08,\n",
       "  'inactiveset_pwtol': 1e-08,\n",
       "  'inertia': {'ksp_type': 'preonly',\n",
       "   'mat_mumps_icntl_13': 1,\n",
       "   'mat_mumps_icntl_24': 1,\n",
       "   'pc_factor_mat_solver_type': 'mumps',\n",
       "   'pc_type': 'cholesky'},\n",
       "  'maxmodes': 3,\n",
       "  'order': 3}}"
      ]
     },
     "execution_count": 14,
     "metadata": {},
     "output_type": "execute_result"
    }
   ],
   "source": [
    "params"
   ]
  },
  {
   "cell_type": "code",
   "execution_count": 8,
   "id": "a6e3472a",
   "metadata": {},
   "outputs": [
    {
     "name": "stdout",
     "output_type": "stream",
     "text": [
      "discrete-damageable-data.json    discrete-damageable_energies.pdf\r\n",
      "discrete-damageable.h5           discrete-damageable_it_load.pdf\r\n",
      "discrete-damageable.xdmf\r\n"
     ]
    }
   ],
   "source": [
    "!ls '../../test/output/test_cone'"
   ]
  },
  {
   "cell_type": "code",
   "execution_count": 44,
   "id": "2ce09e08",
   "metadata": {},
   "outputs": [],
   "source": [
    "import numpy as np\n",
    "\n",
    "w1 = params[\"model\"][\"w1\"]\n",
    "k = params[\"model\"][\"k\"]\n",
    "mu = params[\"model\"][\"mu\"]\n",
    "\n",
    "tc = np.sqrt(8*w1/(mu*k))\n",
    "sigmac = np.sqrt(2*w1*mu/k)"
   ]
  },
  {
   "cell_type": "code",
   "execution_count": 45,
   "id": "72bf6be8",
   "metadata": {},
   "outputs": [
    {
     "data": {
      "text/plain": [
       "<matplotlib.lines.Line2D at 0x14221d310>"
      ]
     },
     "execution_count": 45,
     "metadata": {},
     "output_type": "execute_result"
    },
    {
     "data": {
      "image/png": "[encoded data removed]",
      "text/plain": [
       "<Figure size 432x288 with 1 Axes>"
      ]
     },
     "metadata": {},
     "output_type": "display_data"
    }
   ],
   "source": [
    "fig, ax = plots.plot_force_displacement(data)\n",
    "ax.axvline(tc)\n",
    "ax.axhline(sigmac)"
   ]
  },
  {
   "cell_type": "code",
   "execution_count": 36,
   "id": "697b482b",
   "metadata": {},
   "outputs": [
    {
     "ename": "NameError",
     "evalue": "name 'gcp' is not defined",
     "output_type": "error",
     "traceback": [
      "\u001b[0;31m---------------------------------------------------------------------------\u001b[0m",
      "\u001b[0;31mNameError\u001b[0m                                 Traceback (most recent call last)",
      "Input \u001b[0;32mIn [36]\u001b[0m, in \u001b[0;36m<cell line: 1>\u001b[0;34m()\u001b[0m\n\u001b[0;32m----> 1\u001b[0m \u001b[43mgcp\u001b[49m()\n",
      "\u001b[0;31mNameError\u001b[0m: name 'gcp' is not defined"
     ]
    }
   ],
   "source": []
  },
  {
   "cell_type": "code",
   "execution_count": 34,
   "id": "e3215deb",
   "metadata": {},
   "outputs": [
    {
     "name": "stdout",
     "output_type": "stream",
     "text": [
      "1.632993161855452\n"
     ]
    }
   ],
   "source": [
    "print(tc)"
   ]
  },
  {
   "cell_type": "markdown",
   "id": "c3f6ea86",
   "metadata": {},
   "source": [
    "### Cone stability\n",
    "\n",
    "Want to solve:\n",
    "the cone-constrained eigenvalue problem:\n",
    "$$\\text{Find } (x, \\lambda)\\in X\\times \\mathbb R: \\quad\n",
    "K^+_0 \\ni x \\perp y := Ax - \\lambda B x \\in K^*$$\n",
    "\n",
    "generating a sequence $z_t$ laying in the compact set $K_{\\phi}$ and a bounded sequence $\\lambda_t \\in \\mathbb R$, and a sequence $y_t$ of residual vectors (laying in the dual cone) \n",
    "\n",
    "Algorithm (SPA)\n",
    "\n",
    "- the initial guess is given by the soution of the discrete-stability aka the rate problem (on a vector space)\n",
    "\n",
    "- Compute:\n",
    "$$\n",
    "\\lambda_t = \\frac{x A x}{x B x}\n",
    "\\qquad\\text{ and }\n",
    "y_t= Ax - \\lambda B x$$ \n",
    "\n",
    "- Select (any) scaling factor $s_t > 0$ and project\n",
    "$$\n",
    "v_t = \\Pi_K (x_t - s_t y_t)\n",
    "$$\n",
    "\n",
    "- Normalise\n",
    "$$\n",
    "x_{t+1} = v_t / \\phi(v_t)\n",
    "$$\n",
    "\n",
    "Remarks: if for some $t$ one has $y_t=0$ then stop\n",
    "(because $x_{t+1}=x_t$) and $x_t$ is a classical solution.\n",
    "Here we use $\\phi(x)=||x||_{L^2}$. I think in our case $B=Id$"
   ]
  },
  {
   "cell_type": "code",
   "execution_count": null,
   "id": "dfa31c4f",
   "metadata": {},
   "outputs": [],
   "source": []
  }
 ],
 "metadata": {
  "interpreter": {
   "hash": "b0fa6594d8f4cbf19f97940f81e996739fb7646882a419484c72d19e05852a7e"
  },
  "kernelspec": {
   "display_name": "Python 3.9.13 64-bit",
   "language": "python",
   "name": "python3"
  },
  "language_info": {
   "codemirror_mode": {
    "name": "ipython",
    "version": 3
   },
   "file_extension": ".py",
   "mimetype": "text/x-python",
   "name": "python",
   "nbconvert_exporter": "python",
   "pygments_lexer": "ipython3",
   "version": "3.9.13"
  }
 },
 "nbformat": 4,
 "nbformat_minor": 5
}
