{
 "cells": [
  {
   "cell_type": "code",
   "execution_count": 3,
   "metadata": {},
   "outputs": [
    {
     "name": "stdout",
     "output_type": "stream",
     "text": [
      "postproc\n"
     ]
    }
   ],
   "source": [
    "import sympy as sp\n",
    "import numpy as np\n",
    "import matplotlib.pyplot as plt\n",
    "import irrevolutions.utils.postprocess as pp\n",
    "import plots"
   ]
  },
  {
   "cell_type": "markdown",
   "metadata": {},
   "source": [
    "# Investigating the meaning of convergence\n",
    "\n",
    "\n",
    "We study convergence of a discrete-in-time variational evolution,\n",
    "which features non-trivial stability properties\n",
    "such as:\n",
    "    -\n",
    "    -\n",
    "    -\n",
    "\n",
    "The problem is as follows:\n",
    "\n",
    "Find $y_t$ such that:\n",
    "\n",
    "GS)\n",
    "$$\n",
    "E(y_t)\\leq E(z), \\quad \\forall z \\in A(y_t)\n",
    "$$\n",
    "\n",
    "LS) \n",
    "$\\exists \\bar h: $\n",
    "$$\n",
    "E(y_t)\\leq E(y_t + z), \\quad \\forall z \\in .., ||z||\\leq h\n",
    "$$\n"
   ]
  },
  {
   "cell_type": "code",
   "execution_count": 11,
   "metadata": {},
   "outputs": [
    {
     "name": "stdout",
     "output_type": "stream",
     "text": [
      "no sig file found\n"
     ]
    }
   ],
   "source": [
    "experiment = '../../test/output/hybrid'\n",
    "params, data, signature = pp.load_data(experiment)\n"
   ]
  },
  {
   "cell_type": "code",
   "execution_count": 10,
   "metadata": {},
   "outputs": [
    {
     "name": "stdout",
     "output_type": "stream",
     "text": [
      "\u001b[31mparameters.yaml\u001b[m\u001b[m     test_hybrid-1-1.png time_data.json\n",
      "test_hybrid-1-0.png test_hybrid-1-2.png\n"
     ]
    }
   ],
   "source": [
    "!ls ../../test/output/hybrid"
   ]
  },
  {
   "cell_type": "code",
   "execution_count": null,
   "metadata": {},
   "outputs": [],
   "source": []
  }
 ],
 "metadata": {
  "interpreter": {
   "hash": "b0fa6594d8f4cbf19f97940f81e996739fb7646882a419484c72d19e05852a7e"
  },
  "kernelspec": {
   "display_name": "Python 3.9.13 64-bit",
   "language": "python",
   "name": "python3"
  },
  "language_info": {
   "codemirror_mode": {
    "name": "ipython",
    "version": 3
   },
   "file_extension": ".py",
   "mimetype": "text/x-python",
   "name": "python",
   "nbconvert_exporter": "python",
   "pygments_lexer": "ipython3",
   "version": "3.11.6"
  },
  "orig_nbformat": 4
 },
 "nbformat": 4,
 "nbformat_minor": 2
}
