{
  "cells": [
    {
      "cell_type": "markdown",
      "metadata": {
        "colab_type": "text",
        "id": "view-in-github"
      },
      "source": [
        "<a href=\"https://colab.research.google.com/github/kumiori/mec647/blob/andres-conerecipe/playground/nb/discrete_stability.ipynb\" target=\"_parent\"><img src=\"https://colab.research.google.com/assets/colab-badge.svg\" alt=\"Open In Colab\"/></a>"
      ]
    },
    {
      "cell_type": "code",
      "execution_count": 1,
      "metadata": {
        "id": "0fnr9Vinc8H_"
      },
      "outputs": [],
      "source": [
        "import sympy as sp\n",
        "import numpy as np\n",
        "import matplotlib.pyplot as plt\n",
        "import json\n",
        "import pandas as pd\n",
        "import os\n",
        "\n",
        "import yaml\n",
        "import hashlib\n",
        "\n",
        "def load_data(rootdir):\n",
        "\n",
        "\t# with open(rootdir + '/parameters.pkl', 'r') as f:\n",
        "\t# \tparams = json.load(f)\n",
        "\n",
        "\twith open(rootdir + '/parameters.yaml') as f:\n",
        "\t\tparams = yaml.load(f, Loader=yaml.FullLoader)\n",
        "\n",
        "\twith open(rootdir + '/time_data.json', 'r') as f:\n",
        "\t\tdata = json.load(f)\n",
        "\t\tdataf = pd.DataFrame(data).sort_values('load')\n",
        "\n",
        "\tif os.path.isfile(rootdir + '/signature.md5'):\n",
        "#         print('sig file found')\n",
        "\t\twith open(rootdir + '/signature.md5', 'r') as f:\n",
        "\t\t\tsignature = f.read()\n",
        "\telse:\n",
        "\t\tprint('no sig file found')\n",
        "\t\tsignature = hashlib.md5(str(params).encode('utf-8')).hexdigest()\n",
        "\n",
        "\treturn params, dataf, signature "
      ]
    },
    {
      "cell_type": "code",
      "execution_count": 7,
      "metadata": {
        "colab": {
          "base_uri": "https://localhost:8080/"
        },
        "id": "ElWqa5T7mXGJ",
        "outputId": "6079b169-1986-4fc3-b46f-c6fb4d5de0cc"
      },
      "outputs": [
        {
          "name": "stdout",
          "output_type": "stream",
          "text": [
            "Cloning into 'mec647'...\n",
            "remote: Enumerating objects: 2167, done.\u001b[K\n",
            "remote: Counting objects: 100% (900/900), done.\u001b[K\n",
            "remote: Compressing objects: 100% (364/364), done.\u001b[K\n",
            "remote: Total 2167 (delta 555), reused 821 (delta 494), pack-reused 1267\u001b[K\n",
            "Receiving objects: 100% (2167/2167), 96.76 MiB | 19.55 MiB/s, done.\n",
            "Resolving deltas: 100% (1186/1186), done.\n"
          ]
        }
      ],
      "source": [
        "\n",
        "branch_name = 'main'\n",
        "branch_name = 'andres-conerecipe'\n",
        "\n",
        "!rm -rf mec647\n",
        "try:\n",
        "  !git clone -b {branch_name} https://github.com/kumiori/mec647.git\n",
        "#   sys.path.append('mec647/')\n",
        "\n",
        "except Exception as e:\n",
        "  print('Something went wrong', e)\n",
        "  !rm -rf mec647\n",
        "  !git clone https://github.com/kumiori/mec647.git\n",
        "\n"
      ]
    },
    {
      "cell_type": "code",
      "execution_count": 5,
      "metadata": {
        "id": "YN4LaYRRmXGJ"
      },
      "outputs": [],
      "source": [
        "## Simple Analytic \n",
        "α, α1, α2, e1, e2 = sp.symbols('α α1 α2 e1 e2')\n",
        "u1, u2 = sp.symbols('u1 u2')\n",
        "K1, K2 = sp.symbols('K1 K2', positive=True)\n",
        "s1, s2 = sp.symbols('s1 s2', positive=True)\n",
        "μ, N = sp.symbols('μ N', positive=True)\n",
        "w1 = sp.symbols('w1', positive=True)\n",
        "t = sp.Symbol('t', positive=True)\n",
        "k = sp.Symbol('k', positive=True)\n",
        "\n",
        "# _N = 2\n",
        "\n",
        "K = lambda α: (1-α)/(1+(k-1)*α)\n",
        "s = lambda α: 1/K(α)\n",
        "\n",
        "U = 1/2*μ*(K1*u1**2 + K2*(t-u1)**2) * N\n",
        "\n",
        "S = w1*(α1 + α2) / N\n",
        "\n",
        "sol_u = sp.solve(U.diff(u1), u1)\n",
        "\n"
      ]
    },
    {
      "cell_type": "code",
      "execution_count": 8,
      "metadata": {
        "colab": {
          "base_uri": "https://localhost:8080/"
        },
        "id": "ugxO2Esomftj",
        "outputId": "497f87ea-37b9-4c6c-97c0-f28b85e7454a"
      },
      "outputs": [
        {
          "name": "stdout",
          "output_type": "stream",
          "text": [
            "discrete-atk-N2  discrete-atk-N3\n"
          ]
        }
      ],
      "source": [
        "!ls mec647/practice/output"
      ]
    },
    {
      "cell_type": "markdown",
      "metadata": {
        "id": "yeaU_CFemXGJ"
      },
      "source": [
        "### Example: material parameters"
      ]
    },
    {
      "cell_type": "code",
      "execution_count": 10,
      "metadata": {
        "colab": {
          "base_uri": "https://localhost:8080/"
        },
        "id": "we9GWTkFsFt5",
        "outputId": "711ecf2a-2a12-4dc6-bbd4-b5eec08ac1e4"
      },
      "outputs": [
        {
          "data": {
            "text/plain": [
              "{'N': 2,\n",
              " 'ell': 0.1,\n",
              " 'k': 3,\n",
              " 'k_res': 0.0001,\n",
              " 'model_dimension': 1,\n",
              " 'model_type': '1D',\n",
              " 'mu': 1,\n",
              " 'w1': 1}"
            ]
          },
          "execution_count": 10,
          "metadata": {},
          "output_type": "execute_result"
        }
      ],
      "source": [
        "model_parameters"
      ]
    },
    {
      "cell_type": "code",
      "execution_count": 11,
      "metadata": {
        "colab": {
          "base_uri": "https://localhost:8080/"
        },
        "id": "PJQse550mXGK",
        "outputId": "02b0131f-a9b4-40c3-b4a5-35967580de1a"
      },
      "outputs": [
        {
          "data": {
            "text/plain": [
              "{k: 3, w1: 1, N: 2, μ: 1}"
            ]
          },
          "execution_count": 11,
          "metadata": {},
          "output_type": "execute_result"
        }
      ],
      "source": [
        "_params = {\n",
        "    'N': 2,\n",
        "    'k': 4,\n",
        "    'k_res': 0.0001,\n",
        "    'model_dimension': 1,\n",
        "    'model_type': '1D-discrete',\n",
        "    'mu': 1,\n",
        "    'w1': 2}\n",
        "\n",
        "\n",
        "experiment = 'mec647/practice/output/discrete-atk-N2'\n",
        "params, data, signature = load_data(experiment)\n",
        "model_parameters = params.get(\"model\")\n",
        "\n",
        "_mu, _w1, _k, _N = model_parameters.get(\"mu\"), model_parameters.get(\"w1\"), model_parameters.get(\"k\"), model_parameters[\"N\"]\n",
        "\n",
        "# _mu, _w1, _k, _N = _params.get(\"mu\"), _params.get(\"w1\"), _params.get(\"k\"), _params[\"N\"]\n",
        "\n",
        "matpar = {k: _k, w1: _w1, N: _N, μ: _mu}\n",
        "matpar"
      ]
    },
    {
      "cell_type": "code",
      "execution_count": 13,
      "metadata": {
        "colab": {
          "base_uri": "https://localhost:8080/",
          "height": 56
        },
        "id": "BupsKhASmXGK",
        "outputId": "674a2df3-d2e5-4714-ee17-7fbb7fc8a971"
      },
      "outputs": [
        {
          "data": {
            "text/latex": [
              "$\\displaystyle \\frac{0.5 K_{1} K_{2} N t^{2} μ}{K_{1} + K_{2}}$"
            ],
            "text/plain": [
              "0.5*K1*K2*N*t**2*μ/(K1 + K2)"
            ]
          },
          "execution_count": 13,
          "metadata": {},
          "output_type": "execute_result"
        }
      ],
      "source": [
        "E=U.subs(u1, sol_u[0]).simplify()\n",
        "E"
      ]
    },
    {
      "cell_type": "markdown",
      "metadata": {},
      "source": [
        "## Setup"
      ]
    },
    {
      "cell_type": "markdown",
      "metadata": {},
      "source": [
        "$$\n",
        "E(u):=\\frac{1}{2} N\\mu\\sum_{i=1}^N a_k(\\alpha_i)(u_{i}-u_{i-1})^2 + \\frac{w_1}{N} \\sum_{i=1}^N w(\\alpha_i)\n",
        "$$"
      ]
    },
    {
      "cell_type": "code",
      "execution_count": 8,
      "metadata": {},
      "outputs": [],
      "source": [
        "N = sp.symbols(\"N\", integer=True)\n",
        "t = sp.symbols('t')\n",
        "_N = 3\n",
        "\n",
        "γ = sp.symbols('γ')\n",
        "E0, L, w1, σc = sp.symbols('E0 L w1 σc')\n",
        "\n",
        "u = sp.symbols([f\"u{i}\" for i in range(0, _N)])\n",
        "e = sp.symbols([f\"e{i}\" for i in range(1, _N+1)])\n",
        "α = sp.symbols([f\"α{i}\" for i in range(1, _N+1)])\n"
      ]
    },
    {
      "cell_type": "code",
      "execution_count": 10,
      "metadata": {},
      "outputs": [],
      "source": [
        "state = {\"u\": u, \"α\": α, \"e\": e}\n",
        "_matpar = {N: _N, γ: 2, \"E0\": 1, \"w1\": 1, \"L\": 1}\n",
        "matpar = {\"N\": N, \"γ\": γ, \"E0\": E0, \"w1\": w1, \"L\": L}\n",
        "\n"
      ]
    },
    {
      "cell_type": "code",
      "execution_count": 44,
      "metadata": {},
      "outputs": [],
      "source": [
        "class DiscreteDamage():\n",
        "    def __init__(self, state, matpar, \n",
        "                 name = \"discrete linear-softening\",\n",
        "                 slug = \"linear-softening\"):\n",
        "        self.state = state\n",
        "        self.matpar = matpar\n",
        "        self.str = name\n",
        "        self.slug = slug\n",
        "\n",
        "    def _s(self, αi):\n",
        "        return 1/self._a(αi)\n",
        "        \n",
        "\n",
        "    def _w(self, αi):\n",
        "        return αi\n",
        "\n",
        "    def _a(self, αi):\n",
        "        γ = self.matpar[\"γ\"]\n",
        "\n",
        "        return (1 - self._w(αi)) / ((γ-1) * self._w(αi) + 1)\n",
        "\n",
        "    def _elastic(self, state):\n",
        "        _e = state[\"e\"]\n",
        "        _α = state[\"α\"]\n",
        "        # _w1 = matpar[\"w1\"]\n",
        "        _E0 = self.matpar[\"E0\"]\n",
        "        _N = self.matpar[\"N\"]\n",
        "    \n",
        "        return sum([1./2. * _E0 * _N * self._a(_α[i]) * _e[i]**2 for i in range(len(_α))]) \n",
        "    \n",
        "    def energy(self, state):\n",
        "        \"\"\"Total energy\"\"\"\n",
        "        return self._elastic(state) + self._damage(state) - self.work(state)\n",
        "\n",
        "    def work(self, state):\n",
        "        return 0\n",
        "\n",
        "    def _damage(self, state):\n",
        "        _α = state[\"α\"]\n",
        "        _w1 = self.matpar[\"w1\"]\n",
        "\n",
        "        _N = self.matpar[\"N\"]\n",
        "\n",
        "        return sum([_w1 / _N * self._w(_α[i]) for i in range(len(_α))]) \n",
        "        # return _w1 * self._w(_α)\n",
        "\n",
        "    def __str__(self):\n",
        "     return self.str\n",
        "\n",
        "class ModelAnalysis:\n",
        "    \"\"\"Helper class to analyse stability properties of a model\"\"\"\n",
        "\n",
        "    def __init__(self, model):\n",
        "        self.model = model\n",
        "        self.state = model.state\n",
        "        _state = self.state\n",
        "        self.matpar = model.matpar\n",
        "\n",
        "        self._s = 1/self.model._a(_state[α])\n",
        "        self._sp = sp.diff(self._s, _state[α], 1)\n",
        "        self._spp = sp.diff(self._s, _state[α], 2)\n",
        "\n",
        "        self._a = self.model._a(_state[α])\n",
        "        self._ap = sp.diff(self._a, _state[α], 1)\n",
        "        self._app = sp.diff(self._a, _state[α], 2)\n",
        "\n",
        "        self._w = self.model._w(_state[α])\n",
        "        self._wp = sp.diff(self._w, _state[α])\n",
        "        self._wpp = sp.diff(self._w, _state[α], 2)\n",
        "        self.criterion()\n",
        "\n",
        "    def _print_model_functions(self, matpar = {}):\n",
        "        if matpar == {}:\n",
        "            _fname = f\"model-{self.model.slug}.txt\"\n",
        "        else: \n",
        "            _fname = f\"model-{self.model.slug}-matpar.txt\"\n",
        "        print(f\"Output in {_fname}\")\n",
        "\n",
        "        sp.latex(self._a)\n",
        "        sp.latex(self._ap)\n",
        "        sp.latex(self._app)\n",
        "        sp.latex(self._s)\n",
        "        sp.latex(self._sp)\n",
        "        sp.latex(self._spp)\n",
        "        \n",
        "        _fcs = [self._a.subs(matpar), \n",
        "            self._ap.subs(matpar), \n",
        "            self._app.subs(matpar), \n",
        "            self._s.subs(matpar), \n",
        "            self._sp.subs(matpar), \n",
        "            self._spp.subs(matpar)]\n",
        "        _lab = [\"a\", \"aprime\", \"apprime\", \"s\", \"sprime\", \"spprime\"]\n",
        "        _known = [\"a(\\\\alpha)=\", \"a'(\\\\alpha)=\", \"a''(\\\\alpha)=\", \n",
        "                \"s(\\\\alpha)=\", \"s'(\\\\alpha)=\", \"s''(\\\\alpha)=\"]\n",
        "\n",
        "        out_file = open(_fname,\"w\")\n",
        "        \n",
        "        for y in zip(_fcs, _lab, _known):\n",
        "            _tex = y[2] + str(sp.latex(y[0])).replace(\"α\", \"\\\\alpha\")\n",
        "            out_file.write(\"\\\\begin{equation}\")\n",
        "            out_file.write(f\"\\\\label{{ eqn:{self.model.slug}-{y[1]} }}\")\n",
        "            out_file.write(_tex)\n",
        "            out_file.write(\"\\\\end{equation}\")\n",
        "            out_file.write(\"\\n\")\n",
        "\n",
        "        out_file.close()\n",
        "\n",
        "        _σ = sp.symbols('σ')\n",
        "        _β = sp.symbols('β')\n",
        "        _α0 = sp.symbols('α0')\n",
        "        _γ = sp.symbols('γ')\n",
        "        _E0 = self.model.matpar[E0]\n",
        "\n",
        "        _fch = self._H_damage_profile()\n",
        "\n",
        "        fc0 = self.criterion()\n",
        "        fc1 = self.critical_load(matpar)\n",
        "        fc3 = _fch.subs(matpar).subs({_β: -_γ/_α0+1})\n",
        "        fc4 = (1/sp.sqrt(\n",
        "                _fch.subs(matpar))\n",
        "                ).simplify()\n",
        "        fc5 = ((self._s - 1/E0).subs(α, _β)/sp.sqrt(_fch))    \\\n",
        "            .subs(matpar)                                              \\\n",
        "            .simplify()\n",
        "\n",
        "        fc6 = (((self._s - 1/E0).subs(α, _β)/sp.sqrt(_fch)))    \\\n",
        "            .subs(matpar).subs({_β: -_γ/_α0+1})                \\\n",
        "            # .simplify()\n",
        "        \n",
        "        fc7 = _fch.subs(matpar).subs({_β: -_γ/_α0+1})\n",
        "        fc7_γ = sp.diff(fc7, _γ).subs({_γ: 1}).simplify()\n",
        "        # Hσγ_γ.simplify()\n",
        "        fc6_γ = sp.diff(fc6, _γ).subs({_γ: 1}).subs(matpar).simplify()\n",
        "\n",
        "        _fcs = [fc0, fc1, _fch, \n",
        "                # fc2, \n",
        "                fc3, fc4, fc5, fc6, fc7, fc7_γ, fc6_γ]\n",
        "        _lab = [\"crit\", \"crit_load\", \"Hsigmabeta\", \n",
        "                # \"Hsigmagamma\", \n",
        "                \"Hsigmabeta_mat\", \"one_over_H\",\n",
        "                \"eps_integrand\", \n",
        "                \"eps_integrand_gamma\", \n",
        "                \"deriv_integrand_gamma\", \n",
        "                \"deriv_integrand_gamma_one\", \n",
        "                \"deriv_integrand_gamma_one\", \n",
        "                ]\n",
        "        _known = [\"0=\", \"t_c=\", \n",
        "                \"H(\\\\sigma, \\\\beta)=\", \n",
        "                # \"H(\\\\sigma, \\\\beta)=\",\n",
        "                \"H(\\\\sigma, \\\\gamma)=\",\n",
        "                \"1/\\\\sqrt{H(\\\\sigma, \\\\beta)}=\",\n",
        "                \"(S(\\\\beta)-S_0)/\\\\sqrt{H(\\\\sigma, \\\\beta)}=\",\n",
        "                \"(S(\\\\gamma)-S_0)/\\\\sqrt{H(\\\\sigma, \\\\gamma)}=\",\n",
        "                \"\\\\frac{\\\\partial H}{\\\\partial \\\\gamma}=\",\n",
        "                \"\\\\frac{\\\\partial H}{\\\\partial \\\\gamma}|_{\\\\gamma=1}=\",\n",
        "                \"\\\\frac{\\\\partial 1/\\\\sqrt{H}}{\\\\partial \\\\gamma}|_{\\\\gamma=1}=\"\n",
        "                ]\n",
        "\n",
        "        out_file = open(_fname,\"a\")\n",
        "        out_file.write(\"\\n\")\n",
        "        \n",
        "        for y in zip(_fcs, _lab, _known):\n",
        "            print(y[2])\n",
        "            _tex = y[2] + str(sp.latex(y[0])).replace(\"α\", \"\\\\alpha\") \\\n",
        "                                    .replace(\"σ\", \"\\\\sigma\")    \\\n",
        "                                    .replace(\"β\", \"\\\\beta\")    \\\n",
        "                                    .replace(\"γ\", \"\\\\gamma\")    \n",
        "            out_file.write(\"\\\\begin{equation}\")\n",
        "            out_file.write(f\"\\\\label{{ eqn:{self.model.slug}-{y[1]} }}\")\n",
        "            out_file.write(_tex)\n",
        "            out_file.write(\"\\\\end{equation}\")\n",
        "            out_file.write(\"\\n\")\n",
        "\n",
        "        out_file.close()\n",
        "\n",
        "    def criterion(self):\n",
        "        \"\"\"Damage onset\"\"\"\n",
        "        model, state = self.model, self.state\n",
        "\n",
        "        _u0 = t*x/L\n",
        "        _alpha0 = 0\n",
        "\n",
        "        _crit = sp.diff(model.energy(state), α) \\\n",
        "            .subs({u: _u0, α: _alpha0})         \\\n",
        "            .simplify()\n",
        "        # .subs(matpar).simplify()\n",
        "        # _ts = np.array(sp.solve(_crit, t))\n",
        "        # return np.where(_ts > 0)\n",
        "        self.crit = _crit\n",
        "\n",
        "        return _crit\n",
        "\n",
        "    def critical_load(self, matpar = {}):\n",
        "        ans = sp.solve(self.crit, t)\n",
        "        _ = [t.subs(matpar) for t in ans]\n",
        "        positive = np.where(np.array(_) >= 0)[0][0]\n",
        "        # pdx\n",
        "        self._critical_load = ans[positive]\n",
        "        return ans[positive]\n",
        "\n",
        "    def critical_load_N(self, _matpar={}):\n",
        "        return np.float64(self._critical_load.subs(_matpar))\n",
        "\n",
        "    def _homogeneous_energy(self, _matpar):\n",
        "        state, (_uf, _af) = self._homogeneous_state(_matpar)\n",
        "\n",
        "        _u = state[0]\n",
        "        _alpha = state[1]\n",
        "\n",
        "        return\n",
        "\n",
        "    def set_critical_load(self, _critical_load):\n",
        "        \"\"\"If needed, set the critical load explicitly and manually\"\"\"\n",
        "        self._critical_load = _critical_load\n",
        "\n",
        "    def _check_constitutive(self):\n",
        "        _a = 1\n",
        "        # a -> E(a) decreasing\n",
        "        # a -> w(a) increasing\n",
        "        # a -> -w'/E' increasing\n",
        "        # a -> -w'/s' decreasing\n",
        "        return\n",
        "\n",
        "    def _homogeneous_alpha(self, matpar = None):\n",
        "        _u0 = t*x/L\n",
        "\n",
        "        if matpar is not None:\n",
        "            _matpar = matpar\n",
        "        else:\n",
        "            _matpar = self.matpar\n",
        "\n",
        "        try:\n",
        "            _eq = sp.diff(self.model.energy(state), α) \\\n",
        "                .subs({u: _u0, α: α})         \\\n",
        "                .simplify()\n",
        "\n",
        "            _ah = sp.solve(_eq, α)\n",
        "\n",
        "        # except NotImplementedError as e:\n",
        "        except:\n",
        "            _eq = sp.diff(ana.model.energy(state), α)   \\\n",
        "                .subs({u: _u0, α: α})                   \\\n",
        "                .subs(_matpar)                   \\\n",
        "                .simplify()\n",
        "\n",
        "            _ah = sp.solve(_eq, α)\n",
        "\n",
        "        return _ah\n",
        "    \n",
        "    def _homogeneous_state(self, _matpar={}, ah=None):\n",
        "        if ah is None:\n",
        "            # Good luck with the first solution\n",
        "            _ah = self._homogeneous_alpha()[0]\n",
        "        else:\n",
        "            _ah = ah\n",
        "        try:\n",
        "            _tc = self.critical_load_N(_matpar)\n",
        "        except:\n",
        "            _tc = self._critical_load\n",
        "\n",
        "        x, t = sp.symbols('x t')\n",
        "        print(_tc)\n",
        "        _homogeneous_alpha = sp.Piecewise((_ah, t >= _tc), (0, t < _tc))\n",
        "        _homogeneous_u = t * x / L\n",
        "\n",
        "        _uf = sp.lambdify((t, x), _homogeneous_u.subs(_matpar), \"numpy\")\n",
        "        _af = sp.lambdify(t, _homogeneous_alpha.subs(_matpar), \"numpy\")\n",
        "\n",
        "        state = {u: _homogeneous_u, α: _homogeneous_alpha}\n",
        "\n",
        "        return state, (_uf, _af)\n",
        "\n",
        "    def _set_homogeneous_alpha(self, ah):\n",
        "        self._alpha_h = ah\n",
        "\n",
        "        return\n",
        "\n",
        "    def plot_homogeneous_alpha(self, _matpar={}):\n",
        "        ah = self._homogeneous_alpha()\n",
        "        _tc = self.critical_load_N(_matpar)\n",
        "\n",
        "        fig, axis = plt.subplots(1, 1, figsize=(8, 6))\n",
        "\n",
        "        # Plot the zero range\n",
        "        subcritical_times = np.linspace(0., _tc)\n",
        "        axis.plot(subcritical_times, [0 for t in subcritical_times], c=\"C0\")\n",
        "\n",
        "        supercritical_times = np.linspace(_tc, 3)\n",
        "\n",
        "        for _a in ah:\n",
        "            _af = sp.lambdify(t, _a.subs(_matpar), \"numpy\")\n",
        "\n",
        "            axis.plot(supercritical_times, [_af(t)\n",
        "                      for t in supercritical_times], c=\"C0\")\n",
        "            # plt.plot()\n",
        "\n",
        "        axis.set_xlim(0, 3)\n",
        "        axis.set_ylim(0, 1)\n",
        "\n",
        "        plt.axvline(_tc, c='k')\n",
        "        plt.axhline(1, c='k')\n",
        "\n",
        "        return fig, axis\n",
        "\n",
        "    def plot_homogeneous_stress(self, _matpar={}, ah=None):\n",
        "        ah = self._homogeneous_alpha()\n",
        "        # _tc = self.critical_load_N(_matpar)\n",
        "        try:\n",
        "            _tc = self.critical_load_N(_matpar)\n",
        "        except:\n",
        "            _tc = self._critical_load\n",
        "        print(f\"_tc {_tc}\")\n",
        "        fig, axis = plt.subplots(1, 1, figsize=(8, 6))\n",
        "\n",
        "        # Plot the zero range\n",
        "        times = np.linspace(0, 3, 30)\n",
        "\n",
        "        _sf = sp.lambdify(t, self._stress(ah=ah).subs(_matpar), \"numpy\")\n",
        "\n",
        "        # axis.plot(np.linspace(0, 3), [_sf(t) for t in times], c=\"C0\")\n",
        "        axis.plot(_times, [_sf(t) for t in _times], c=\"C0\")\n",
        "\n",
        "        plt.axvline(_tc, c='k')\n",
        "        plt.axhline(1, c='k')\n",
        "\n",
        "        axis.set_xlim(0, 3)\n",
        "        axis.set_ylim(0, 1)\n",
        "\n",
        "        return fig, axis\n",
        "\n",
        "    def plot_homogeneous_energies(self, _matpar):\n",
        "\n",
        "        _homog_state, (_uf, _af) = self._homogeneous_state(_matpar)\n",
        "\n",
        "        _en_h = sp.lambdify(t, at1.energy(_homog_state).subs(\n",
        "            {α: _homog_state[1]}).subs(_matpar), \"numpy\")\n",
        "        _en_dam_h = sp.lambdify(t, at1._damage(_homog_state).subs(\n",
        "            {α: _homog_state[1]}).subs(_matpar), \"numpy\")\n",
        "        _en_ela_h = sp.lambdify(t, at1._elastic(_homog_state).subs(\n",
        "            {α: _homog_state[1]}).subs(_matpar), \"numpy\")\n",
        "        fig, axis = plt.subplots(1, 1, figsize=(8, 6))\n",
        "\n",
        "        plt.plot(np.linspace(0., 3.), [_en_h(t)\n",
        "                 for t in np.linspace(0., 3.)], c=\"C0\")\n",
        "        plt.plot(np.linspace(0., 3.), [_en_dam_h(t)\n",
        "                 for t in np.linspace(0., 3.)], c=\"C1\")\n",
        "        plt.plot(np.linspace(0., 3.), [_en_ela_h(t)\n",
        "                 for t in np.linspace(0., 3.)], c=\"C2\")\n",
        "\n",
        "        return fig, axis\n",
        "\n",
        "    def plot_material(self, _matpar):\n",
        "        _damage = np.linspace(0., 1.)\n",
        "\n",
        "        _wf = sp.lambdify(α, self._w.simplify().subs(_matpar), \"numpy\")\n",
        "        _af = sp.lambdify(α, self._a.simplify().subs(_matpar), \"numpy\")\n",
        "        _apf = sp.lambdify(α, self._ap.simplify().subs(_matpar), \"numpy\")\n",
        "        _appf = sp.lambdify(α, self._app.simplify().subs(_matpar), \"numpy\")\n",
        "\n",
        "        # _apf = sp.lambdify(t, ana.)ap.subs(_matpar), \"numpy\")\n",
        "        # _apf\n",
        "\n",
        "        figure, axis = plt.subplots(1, 2, figsize=(8, 6))\n",
        "        _ax = axis[0]\n",
        "        _ax.axhline(0, c='k')\n",
        "        _ax.plot(_damage, [_af(α) for α in _damage], label=\"a\")\n",
        "        _ax.legend(loc=2)\n",
        "        _ax.plot(_damage, [_apf(α) for α in _damage], label=\"a'\", c='r')\n",
        "        _ax.plot(_damage, [_appf(α) for α in _damage], label=\"a''\")\n",
        "        # _ax2 = _ax.twiny()\n",
        "        left, bottom, width, height = [0.25, 0.5, 0.2, 0.2]\n",
        "        _ax2 = figure.add_axes([left, bottom, width, height])\n",
        "\n",
        "        _ax2.plot(_damage, [_wf(α) for α in _damage], label=\"w\", c='k', ls='dashed')\n",
        "\n",
        "        _ax.set_xlim(0, 1)\n",
        "        _ax2.set_xlim(0, 1)\n",
        "        # _ax2.set_ylim(0, 1)\n",
        "        _ax.legend()\n",
        "        _ax2.legend(loc=3)\n",
        "\n",
        "        _sf = sp.lambdify(α, self._s.simplify().subs(_matpar), \"numpy\")\n",
        "        _spf = sp.lambdify(α, self._sp.simplify().subs(_matpar), \"numpy\")\n",
        "        _sppf = sp.lambdify(α, self._spp.simplify().subs(_matpar), \"numpy\")\n",
        "\n",
        "        _ax = axis[1]\n",
        "\n",
        "        _ax.plot(_damage, [_sf(α) for α in _damage], label=\"s\")\n",
        "        _ax.legend(loc=2)\n",
        "        _ax.axhline(0, c='k')\n",
        "        _ax.twinx()\n",
        "        _ax.plot(_damage, [_spf(α) for α in _damage], label=\"s'\")\n",
        "        _ax.plot(_damage, [_sppf(α) for α in _damage], label=\"s''\")\n",
        "        _ax.set_xlim(0, 1)\n",
        "        _ax.set_ylim(0, 10)\n",
        "        _ax.legend(loc=1)\n",
        "        figure.suptitle(f\"Behaviour of {self.model.__str__()} is Material\")\n",
        "\n",
        "        return figure, axis\n",
        "\n",
        "    def _hypotheses1(self):\n",
        "        \"\"\"As per marigo-2012, HP1: w'/S' decreasing wrt alpha\"\"\"\n",
        "\n",
        "        _hp1 = self._sp / self._wp\n",
        "        return _hp1\n",
        "\n",
        "    def _H_damage_profile(self):\n",
        "        \"\"\"A function of sigma and beta constructs localisation profiles\"\"\"\n",
        "        _σ = sp.symbols('σ')\n",
        "        _β = sp.symbols('β')\n",
        "\n",
        "        _Hf = 1/E0*(2*self._w - _σ**2 * (self._s - 1/E0)).subs({α: _β})\n",
        "\n",
        "        return _Hf\n",
        "\n",
        "    def max_α(self, matpar = {}):\n",
        "        \"\"\"Maximum value of alpha as a function of sigma, returns \n",
        "        real solutions and the index of admissible solutions in [0, 1]\"\"\"\n",
        "        _β = sp.symbols('β')\n",
        "        _σ = sp.symbols('σ')\n",
        "            \n",
        "        sol = sp.solve(self._H_damage_profile().subs(matpar), _β)\n",
        "\n",
        "        # simple tet\n",
        "        arr = np.array([a.subs({_σ: .9}) for a in sol])\n",
        "        real_filter = [sp.N(a).is_real for a in arr]\n",
        "        sol = np.compress(real_filter, sol)\n",
        "        r_arr = np.array([a.subs({_σ: .9}) for a in sol])\n",
        "        idx = np.argwhere((r_arr > 0) & (r_arr < 1)).flatten()[0]\n",
        "\n",
        "        return sol, idx\n",
        "\n",
        "    def _α_max(self, σ, matpar = None):\n",
        "        _β = sp.symbols('β')\n",
        "        _σ = sp.symbols('σ')\n",
        "        # _matpar = self.matpar\n",
        "        _Hσβ = self._H_damage_profile().subs(matpar)\n",
        "\n",
        "        _Hβ = _Hσβ.subs({_σ: σ})\n",
        "        _sol = sp.solve(_Hβ, _β, (0, 1), solver='bisect')\n",
        "        # print(_sol)\n",
        "        αmax = np.float64(_sol[1][0])\n",
        "\n",
        "        return αmax\n",
        "\n",
        "    def _integrate_Hminusonehalf(self, σv, H):\n",
        "        _σ = sp.symbols('σ')\n",
        "        _fv = sp.lambdify(_γ, ((H.subs({_σ: σv}))**(-1/2)), \"numpy\")\n",
        "        return _integ.quad(_fv, 0, 1)\n",
        "\n",
        "    def _integrate_Dsigma(self, σv, H = None, matpar = {}):\n",
        "        _σ = sp.symbols('σ')\n",
        "        sol, idx = self.max_α(matpar)\n",
        "\n",
        "        if H is not None:\n",
        "            _bar_H = H.subs(matpar)\n",
        "        else:    \n",
        "            _bar_H = self._H_damage_profile().subs(matpar)    \\\n",
        "                .subs({_β: _γ*_α0})                 \\\n",
        "                .subs({_α0: sol[idx]}).simplify()\n",
        "            \n",
        "        _f = ((_bar_H)**(-1/2)*sol[idx]).subs({_σ: σv})\n",
        "        _fv = sp.lambdify(_γ, _f, \"numpy\")\n",
        "        return _integ.quad(_fv, 0, 1)\n",
        "\n",
        "    def _integrate_epsilon_localised(self, σv, H = None, matpar = {}):\n",
        "        _σ = sp.symbols('σ')\n",
        "        sol, idx = self.max_α(matpar)\n",
        "\n",
        "        if H is not None:\n",
        "            _bar_H = H.subs(matpar)\n",
        "        else:    \n",
        "            _bar_H = self._H_damage_profile().subs(matpar)    \\\n",
        "                .subs({_β: _γ*_α0})                         \\\n",
        "                .subs({_α0: sol[idx]}).simplify()\n",
        "        \n",
        "        _prefact = (self._s - 1/E0).subs(matpar)            \\\n",
        "                .subs({_α: _γ*_α0})                         \\\n",
        "                .subs({_α0: sol[idx]}).simplify()\n",
        "        \n",
        "        _f = (2*_prefact*(_bar_H)**(-1/2)*sol[idx]).subs({_σ: σv})\n",
        "        _fv = sp.lambdify(_γ, _f, \"numpy\")\n",
        "        return _integ.quad(_fv, 0, 1)\n",
        "\n",
        "    def _stress(self, ah=None):\n",
        "        _homog_state, (_uf, _af) = self._homogeneous_state(_matpar, ah=ah)\n",
        "\n",
        "        _ah = _homog_state[α]\n",
        "\n",
        "        _tc = self.critical_load_N(_matpar)\n",
        "\n",
        "        stress_alpha = sp.Piecewise(\n",
        "            (sp.sqrt(2 * self._wp / self._sp).subs({α: _ah}), t >= _tc),\n",
        "            # sigma = E(alpha=0) u'\n",
        "            (sp.diff(_homog_state[u], x).subs(_matpar), t < _tc))\n",
        "\n",
        "        # return sp.sqrt( 2* self._wp / self._sp).subs({α: _ah})\n",
        "        return stress_alpha\n",
        "\n",
        "    def _Dσ(self, σ):\n",
        "        \"\"\"Half length of the localisation as a function of σ\"\"\"\n",
        "        _αh = self._homogeneous_alpha()\n",
        "        _γ = sp.symbols('γ')\n",
        "        _αmax = self._α_max(σ)\n",
        "\n",
        "        _E0 = self.model._matpar[E0]\n",
        "        _𝓁 = self.model._matpar[𝓁]\n",
        "\n",
        "        _f = 1/self._H_damage_profile()\n",
        "\n",
        "        _Dσ = _𝓁 * sp.integrate(_f, (_β, 0, _αmax))\n",
        "\n",
        "    def D0(self, matpar):\n",
        "        \"\"\"Half length of the localisation as a function of σ, (in the limit) sigma = 0\"\"\"\n",
        "        _γ = sp.symbols('γ')\n",
        "        _i = (((2*self._w)/E0)**(-1/2)).subs({α: _γ}).subs(matpar) \n",
        "        _fv = sp.lambdify(_γ, _i, \"numpy\")\n",
        "\n",
        "        return _integ.quad(_fv, 0, 1)\n",
        "\n",
        "    def _σc(self, matpar):\n",
        "        return sp.sqrt(2*self._wp/self._sp).subs(matpar).subs({α: 0})\n",
        "\n",
        "    def _Dc(self, matpar):\n",
        "        \"\"\"Half length of the localisation at the onset\"\"\"\n",
        "\n",
        "        _sigma0 = self._σc(matpar)\n",
        "        _D = np.pi * \\\n",
        "            sp.sqrt(2 * E0 / (_sigma0**2 * self._spp - 2.*self._wpp)) \\\n",
        "                .subs({α: 0}).subs(matpar)\n",
        "\n",
        "        return _D\n",
        "    \n",
        "    def localised_deformation(self, matpar):\n",
        "\n",
        "        sol, idx = self.max_α(matpar)\n",
        "\n",
        "        _H_subs = self._H_damage_profile().subs(matpar)    \\\n",
        "                .subs({_β: _γ*_α0})                             \\\n",
        "                .subs({_α0: sol[idx]}).simplify()\n",
        "\n",
        "        _integrand = 2*((self._s - 1/E0)*_H_subs**(-1/2))         \\\n",
        "                .subs({α: _γ*_α0})                             \\\n",
        "                .subs(matpar)                              \\\n",
        "                .subs({_α0: sol[idx]}).simplify()\n",
        "        \n",
        "        _fv = sp.lambdify(_γ, (_integrand.subs({_σ: σv})), \"numpy\")\n",
        "        \n",
        "        return _integ.quad(_fv, 0, 1)\n",
        "\n",
        "    def snap_back(self, matpar):\n",
        "        _α = self.model.state[α]\n",
        "        _E0 = self.model.matpar[E0]\n",
        "        _w1 = self.model.matpar[w1]\n",
        "        S0 =  1 / _E0\n",
        "        _σc = sp.sqrt( 2* self.model.matpar[w1]*self._wp / (S0*self._sp) ).subs({α: 0})\n",
        "        _sp = self._sp\n",
        "        _w = self._w\n",
        "\n",
        "    def _eps_1_d(self, σv, matpar, tol = 1e-3):\n",
        "        # _β = sp.symbols('β')\n",
        "        # _α_max = self._α_max(σv, matpar)\n",
        "        # _f = (self._s - 1/E0).subs(α, _β)/sp.sqrt(self._H_damage_profile())    \\\n",
        "        #     .subs(matpar)                                                   \\\n",
        "        #     .subs({_σ: σv})                                                   \\\n",
        "        #     .simplify()\n",
        "\n",
        "        # __fv = sp.lambdify(_β, f.subs(matpar), \"numpy\")\n",
        "        # _tol = 0.001\n",
        "        _betas = np.linspace(_tol, _α_max - tol, 30)\n",
        "        _f, _α_max, __fv = self._eps_1_d_integrand(σv, matpar)\n",
        "        eps = np.trapz([__fv(b) for b in _betas], _betas)\n",
        "\n",
        "        return eps, (_f, _α_max)\n",
        "\n",
        "    def _eps_1_d_integrand(self, σv, matpar):\n",
        "        _β = sp.symbols('β')\n",
        "        _α_max = self._α_max(σv, matpar)\n",
        "\n",
        "        _f = ((self._s - 1/E0).subs(α, _β)/sp.sqrt(self._H_damage_profile()))    \\\n",
        "            .subs(matpar)                                                       \\\n",
        "            .subs({_σ: σv})                                                   \\\n",
        "            .simplify()\n",
        "\n",
        "        __fv = sp.lambdify(_β, _f.subs(matpar), \"numpy\")\n",
        "\n",
        "        return _f, _α_max, __fv\n",
        "\n",
        "\n",
        "\n",
        "\n",
        "        return - ((np.pi * 2**(5/2) * (S0 * _sp)**2 * _σc**2 * _E0**1/2) /\n",
        "                  (S0*self._spp * _σc**2 - 2. * _w1 * self._wpp) ** (3/2))       \\\n",
        "                    .subs({α: 0}).subs(matpar)\n",
        "\n",
        "    # check: dependence of localisation zone wrt stress\n",
        "    # check: global maccro response\n",
        "\n",
        "    def _plot_H_Hminusonehalf_alphamax(self, matpar):\n",
        "        figure, axis = plt.subplots(1, 2, figsize=(10, 6))\n",
        "        figure.tight_layout()\n",
        "        # figure.subplots_adjust(left  = 0.125, \n",
        "        #     right = 1  ,  \n",
        "        #     bottom = 0.1 ,  \n",
        "        #     top = 1    ,  \n",
        "        #     wspace = .9 ,  \n",
        "        #     hspace = 0.2 \n",
        "        #     )\n",
        "\n",
        "        _tol = 1e-4\n",
        "\n",
        "        sol, idx = self.max_α(matpar)\n",
        "\n",
        "        _bar_H = self._H_damage_profile().subs(matpar)    \\\n",
        "            .subs({_β: _γ*_α0})                 \\\n",
        "            .subs({_α0: sol[idx]})\n",
        "\n",
        "        _bar_H\n",
        "        ax2 = axis[0].twinx()\n",
        "\n",
        "        for σv in np.linspace(.99, .01, 10):\n",
        "            _fv = sp.lambdify(_γ, (_bar_H.subs({_σ: σv})), \"numpy\")\n",
        "            axis[0].plot(_damage, [_fv(b) for b in _damage], label = f\"$\\sigma/\\sigma_0$  = {σv:.2f}\")\n",
        "            ax2.plot(_damage, [(_fv(b))**(-1/2) for b in _damage], lw=1, c='gray')\n",
        "\n",
        "        # ax2.set_yticks([])\n",
        "        ax2.set_ylim(0, 10)\n",
        "\n",
        "        # , marker = 'o'\n",
        "        axis[0].set_xlabel(\"$\\\\beta/\\\\bar \\\\alpha$\")\n",
        "        axis[0].legend()\n",
        "\n",
        "        amax = []\n",
        "        for i in np.linspace(.999, .01, 10):\n",
        "            amax.append(self._α_max(i, _matpar))\n",
        "\n",
        "\n",
        "        axis[1].plot(amax, np.linspace(1, .0, 10), marker='o')\n",
        "        axis[1].set_xlabel('$\\\\bar \\\\alpha := \\\\max_x \\\\alpha(x) \\\\quad given\\, \\\\sigma$')\n",
        "        axis[1].set_ylabel('$\\\\sigma/\\\\sigma_0$')\n",
        "        axis[1].set_xlim(0., 1.)\n",
        "        # axis[1].set_title(f\"{self.model}\")\n",
        "\n",
        "        _fc = sol[idx]\n",
        "        # sol[idx]\n",
        "        _fv = sp.lambdify(_σ, _fc, \"numpy\")\n",
        "        _sigmas = np.linspace(1, .0, 10)\n",
        "        axis[1].plot([_fv(s) for s in _sigmas], _sigmas, label = \"analytic\")\n",
        "\n",
        "        axis[1].legend()\n",
        "        figure.suptitle(f\"{self.model}\")\n",
        "\n",
        "        return figure, axis\n",
        "\n",
        "class DiscreteAnalysis(ModelAnalysis):\n",
        "    def __init__(self, model):\n",
        "        self.model = model\n",
        "        self.state = model.state\n",
        "        self.matpar = model.matpar\n",
        "\n",
        "    def s(self, _α):\n",
        "        return 1/self.model._a(_α)\n",
        "\n",
        "        # self._s = 1/self.model._a(state[α])\n",
        "        # self._sp = sp.diff(self._s, state[α], 1)\n",
        "        # self._spp = sp.diff(self._s, state[α], 2)\n",
        "\n",
        "        # self._a = self.model._a(state[α])\n",
        "        # self._ap = sp.diff(self._a, state[α], 1)\n",
        "        # self._app = sp.diff(self._a, state[α], 2)\n",
        "\n",
        "        # self._w = self.model._w(state[α])\n",
        "        # self._wp = sp.diff(self._w, state[α])\n",
        "        # self._wpp = sp.diff(self._w, state[α], 2)\n",
        "\n",
        "    def criterion(self):\n",
        "        \"\"\"Damage onset\"\"\"\n",
        "        model, state = self.model, self.state\n",
        "\n",
        "        # _u0 = t*x/L\n",
        "        _alpha0 = 0\n",
        "\n",
        "        _crit = sp.diff(self.model.energy(state), α[0])     \\\n",
        "            .subs({α[0]: _α})                               \\\n",
        "            .subs({e[0]: _eh})\n",
        "\n",
        "        # .subs(matpar).simplify()\n",
        "        # _ts = np.array(sp.solve(_crit, t))\n",
        "        # return np.where(_ts > 0)\n",
        "        self.crit = _crit\n",
        "\n",
        "        return _crit\n",
        "\n",
        "    def _energy_fc_alpha(self):\n",
        "        _model, _state = self.model, self.state\n",
        "        _en = _model._elastic(_state) + _model._damage(_state)\n",
        "        _S = sum([self.s(_state[\"α\"][i]) for i in range(len(_state[\"α\"]))]) \n",
        "        _ei = [(t/L * _model._s(_state[\"α\"][i]) / _S).simplify() \\\n",
        "            for i in range(len(_state[\"α\"]))]\n",
        "\n",
        "        # _subs_e_alpha = {v[0]: v[1] for v in zip(_state[\"e\"], _ei)}\n",
        "        _, _subs_e_alpha = self._state_equilibrium_substitutions()\n",
        "        # print(_subs_e_alpha)\n",
        "        return _en.subs(_subs_e_alpha)\n",
        "\n",
        "    def _homogeneous_alpha(self, matpar = None):\n",
        "        if matpar is not None:\n",
        "            _matpar = matpar\n",
        "        else:\n",
        "            # _matpar = self.matpar\n",
        "            _matpar = {}\n",
        "\n",
        "        try:\n",
        "            _eq = sp.diff(self.model.energy(state), α[0]) \\\n",
        "                .subs({α[0]: _α})         \\\n",
        "                .simplify()\n",
        "            # print(_eq)\n",
        "            _ah = sp.solve(_eq, _α)\n",
        "\n",
        "        # except NotImplementedError as e:\n",
        "        except:\n",
        "            _eq = sp.diff(self.model.energy(state), α[0])   \\\n",
        "                .subs({α[0]: _α})                   \\\n",
        "                .subs(_matpar)                   \\\n",
        "                .simplify()\n",
        "\n",
        "            _ah = sp.solve(_eq, _α)\n",
        "\n",
        "        return _ah\n",
        "\n",
        "    def _equilirbrium_e(self):\n",
        "        α_state = self.state[\"α\"]\n",
        "        _model = self.model\n",
        "        _S = sum([self.s(_a) for _a in α_state]) \n",
        "        _ei = [(t/L * _model._s(_a) / _S).simplify() \\\n",
        "                    for _a in α_state]\n",
        "\n",
        "        return _ei\n",
        "\n",
        "    def _homogeneous_e(self, m=0, matpar = None):\n",
        "        # _α is ah the homogeneous alpha\n",
        "        if matpar is not None:\n",
        "            _matpar = matpar\n",
        "        else:\n",
        "            # _matpar = self.matpar\n",
        "            _matpar = {}\n",
        "\n",
        "        _S = sum([ self.s(state[\"α\"][i]) for i in range(len(state[\"α\"]))])\n",
        "        \n",
        "        if m == 0:\n",
        "            _state_α = state[\"α\"]\n",
        "        else: \n",
        "            _bif = [state[\"α\"][k+1] for k in range(m)]\n",
        "\n",
        "            _state_α = list(set(state[\"α\"]) - set(_bif))\n",
        "\n",
        "        _eh = [t/L * 1 / _S * self.s(_state_α[i]) for i in range(len(_state_α))]\n",
        "        \n",
        "        return _eh\n",
        "        # return _eh.subs({a: _α for a in α})\n",
        "\n",
        "    def _state_split(self, m, state, matpar):\n",
        "        assert m < matpar[N]\n",
        "        _bif = [state[\"α\"][k+1] for k in range(m)]\n",
        "        _bif_e = [state[\"e\"][k+1] for k in range(m)]\n",
        "\n",
        "        _homo = set(state[\"α\"]) - set(_bif)\n",
        "        _homo_e = set(state[\"e\"]) - set(_bif_e)\n",
        "\n",
        "        return _bif, _homo, _bif_e, _homo_e\n",
        "\n",
        "    def _state_substitutions(self, m, state, matpar):\n",
        "        assert m < matpar[N]\n",
        "        _bif, _homo, _bif_e, _homo_e = self._state_split(m, state, matpar)\n",
        "\n",
        "        _homo_e = set(state[\"e\"]) - set(_bif_e)\n",
        "\n",
        "        _subs_homo_α = {_h: _α for _h in _homo}\n",
        "        _subs_homo_e = {_h: _eh for _h in _homo_e}\n",
        "\n",
        "        return _subs_homo_α, _subs_homo_e\n",
        "\n",
        "    def _state_homog_substitutions(self, m, state, matpar):\n",
        "        assert m < matpar[N]\n",
        "\n",
        "        _subs_αh = {a: _α for a in α}\n",
        "        _subs_eh = {e: _eh for e in state[\"e\"]}\n",
        "\n",
        "        return _subs_αh, _subs_eh\n",
        "\n",
        "    def _state_bifurcation_substitutions(self, m, state, matpar):\n",
        "        assert m < matpar[N]\n",
        "        _bif, _homo, _bif_e, _homo_e = self._state_split(m, state, matpar)\n",
        "        _αb = sp.symbols(\"a^*\")\n",
        "        _eb = sp.symbols(\"e^*\")\n",
        "        _subs_αh = {a: _αb for a in _bif}\n",
        "        _subs_eh = {e: _eb for e in _bif_e}\n",
        "\n",
        "        return _subs_αh, _subs_eh\n",
        "\n",
        "    def _state_equilibrium_substitutions(self):\n",
        "\n",
        "        _ei = self._equilirbrium_e()\n",
        "\n",
        "        subs_equil = {e: _ei[k] for k, e in enumerate(state[\"e\"])}\n",
        "        _subs_equil_alpha = {v[0]: v[1] for v in zip(state[\"e\"], _ei)}\n",
        "\n",
        "        return subs_equil, _subs_equil_alpha\n"
      ]
    },
    {
      "cell_type": "code",
      "execution_count": 45,
      "metadata": {},
      "outputs": [],
      "source": [
        "datls = DiscreteDamage(state, matpar)\n",
        "dana = DiscreteAnalysis(datls)\n"
      ]
    },
    {
      "cell_type": "markdown",
      "metadata": {
        "id": "ynzNFJ75mXGK"
      },
      "source": [
        "## Homogeneous response\n"
      ]
    },
    {
      "cell_type": "code",
      "execution_count": 46,
      "metadata": {},
      "outputs": [],
      "source": [
        "_α = sp.symbols(\"a_h\")\n",
        "_eh = sp.symbols(\"e_h\")\n",
        "\n",
        "\n",
        "_subs_αh = {a: _α for a in α}\n",
        "_subs_eh = {e: _eh for e in state[\"e\"]}\n",
        "\n"
      ]
    },
    {
      "cell_type": "markdown",
      "metadata": {},
      "source": [
        "### Equilibrium solution\n",
        "$e_i = \\frac{t}{L}\\frac{s(\\alpha_i)}{S}, \\qquad S = \\sum_i s(\\alpha_i)$\n",
        "\n",
        "Energy as a function of $\\alpha$, substituting equilibrium deformation"
      ]
    },
    {
      "cell_type": "code",
      "execution_count": 47,
      "metadata": {},
      "outputs": [
        {
          "data": {
            "text/latex": [
              "$\\displaystyle \\frac{0.5 E_{0} N t^{2} \\cdot \\left(1 - α_{1}\\right) \\left(α_{2} - 1\\right)^{2} \\left(α_{3} - 1\\right)^{2} \\left(α_{1} \\left(γ - 1\\right) + 1\\right)}{L^{2} \\left(\\left(α_{1} - 1\\right) \\left(α_{2} - 1\\right) \\left(α_{3} \\left(γ - 1\\right) + 1\\right) + \\left(α_{1} - 1\\right) \\left(α_{3} - 1\\right) \\left(α_{2} \\left(γ - 1\\right) + 1\\right) + \\left(α_{2} - 1\\right) \\left(α_{3} - 1\\right) \\left(α_{1} \\left(γ - 1\\right) + 1\\right)\\right)^{2}} + \\frac{0.5 E_{0} N t^{2} \\cdot \\left(1 - α_{2}\\right) \\left(α_{1} - 1\\right)^{2} \\left(α_{3} - 1\\right)^{2} \\left(α_{2} \\left(γ - 1\\right) + 1\\right)}{L^{2} \\left(\\left(α_{1} - 1\\right) \\left(α_{2} - 1\\right) \\left(α_{3} \\left(γ - 1\\right) + 1\\right) + \\left(α_{1} - 1\\right) \\left(α_{3} - 1\\right) \\left(α_{2} \\left(γ - 1\\right) + 1\\right) + \\left(α_{2} - 1\\right) \\left(α_{3} - 1\\right) \\left(α_{1} \\left(γ - 1\\right) + 1\\right)\\right)^{2}} + \\frac{0.5 E_{0} N t^{2} \\cdot \\left(1 - α_{3}\\right) \\left(α_{1} - 1\\right)^{2} \\left(α_{2} - 1\\right)^{2} \\left(α_{3} \\left(γ - 1\\right) + 1\\right)}{L^{2} \\left(\\left(α_{1} - 1\\right) \\left(α_{2} - 1\\right) \\left(α_{3} \\left(γ - 1\\right) + 1\\right) + \\left(α_{1} - 1\\right) \\left(α_{3} - 1\\right) \\left(α_{2} \\left(γ - 1\\right) + 1\\right) + \\left(α_{2} - 1\\right) \\left(α_{3} - 1\\right) \\left(α_{1} \\left(γ - 1\\right) + 1\\right)\\right)^{2}} + \\frac{w_{1} α_{1}}{N} + \\frac{w_{1} α_{2}}{N} + \\frac{w_{1} α_{3}}{N}$"
            ],
            "text/plain": [
              "0.5*E0*N*t**2*(1 - α1)*(α2 - 1)**2*(α3 - 1)**2*(α1*(γ - 1) + 1)/(L**2*((α1 - 1)*(α2 - 1)*(α3*(γ - 1) + 1) + (α1 - 1)*(α3 - 1)*(α2*(γ - 1) + 1) + (α2 - 1)*(α3 - 1)*(α1*(γ - 1) + 1))**2) + 0.5*E0*N*t**2*(1 - α2)*(α1 - 1)**2*(α3 - 1)**2*(α2*(γ - 1) + 1)/(L**2*((α1 - 1)*(α2 - 1)*(α3*(γ - 1) + 1) + (α1 - 1)*(α3 - 1)*(α2*(γ - 1) + 1) + (α2 - 1)*(α3 - 1)*(α1*(γ - 1) + 1))**2) + 0.5*E0*N*t**2*(1 - α3)*(α1 - 1)**2*(α2 - 1)**2*(α3*(γ - 1) + 1)/(L**2*((α1 - 1)*(α2 - 1)*(α3*(γ - 1) + 1) + (α1 - 1)*(α3 - 1)*(α2*(γ - 1) + 1) + (α2 - 1)*(α3 - 1)*(α1*(γ - 1) + 1))**2) + w1*α1/N + w1*α2/N + w1*α3/N"
            ]
          },
          "execution_count": 47,
          "metadata": {},
          "output_type": "execute_result"
        }
      ],
      "source": [
        "_en_αN = dana._energy_fc_alpha()\n",
        "_en_αN"
      ]
    },
    {
      "cell_type": "markdown",
      "metadata": {},
      "source": [
        "Homogeneous damage"
      ]
    },
    {
      "cell_type": "code",
      "execution_count": 48,
      "metadata": {},
      "outputs": [
        {
          "data": {
            "text/latex": [
              "$\\displaystyle \\frac{1.0 a_{h}^{2} + 2.0 a_{h} - 1.0 t^{2} + 1.0}{1.0 a_{h}^{2} + 2.0 a_{h} + 1.0}$"
            ],
            "text/plain": [
              "(1.0*a_h**2 + 2.0*a_h - 1.0*t**2 + 1.0)/(1.0*a_h**2 + 2.0*a_h + 1.0)"
            ]
          },
          "execution_count": 48,
          "metadata": {},
          "output_type": "execute_result"
        }
      ],
      "source": [
        "_eq = sp.diff(_en_αN.subs(_subs_αh).subs({N: _N}), _α)\n",
        "_eq.subs(_matpar).simplify()\n",
        "# _eq"
      ]
    },
    {
      "cell_type": "code",
      "execution_count": 49,
      "metadata": {},
      "outputs": [
        {
          "data": {
            "text/plain": [
              "[-t - 1.0, t - 1.0]"
            ]
          },
          "execution_count": 49,
          "metadata": {},
          "output_type": "execute_result"
        }
      ],
      "source": [
        "sp.solve(_eq.subs(_matpar).simplify(), _α)"
      ]
    },
    {
      "cell_type": "markdown",
      "metadata": {},
      "source": [
        "Localised branches"
      ]
    },
    {
      "cell_type": "code",
      "execution_count": 50,
      "metadata": {},
      "outputs": [],
      "source": [
        "m = 1\n",
        "assert(m < _N)"
      ]
    },
    {
      "cell_type": "code",
      "execution_count": 51,
      "metadata": {},
      "outputs": [
        {
          "data": {
            "text/latex": [
              "$\\displaystyle \\frac{0.5 E_{0} N e_{1}^{2} \\cdot \\left(1 - α_{1}\\right)}{α_{1} \\left(γ - 1\\right) + 1} + \\frac{0.5 E_{0} N e_{2}^{2} \\cdot \\left(1 - α_{2}\\right)}{α_{2} \\left(γ - 1\\right) + 1} + \\frac{0.5 E_{0} N e_{3}^{2} \\cdot \\left(1 - α_{3}\\right)}{α_{3} \\left(γ - 1\\right) + 1} + \\frac{w_{1} α_{1}}{N} + \\frac{w_{1} α_{2}}{N} + \\frac{w_{1} α_{3}}{N}$"
            ],
            "text/plain": [
              "0.5*E0*N*e1**2*(1 - α1)/(α1*(γ - 1) + 1) + 0.5*E0*N*e2**2*(1 - α2)/(α2*(γ - 1) + 1) + 0.5*E0*N*e3**2*(1 - α3)/(α3*(γ - 1) + 1) + w1*α1/N + w1*α2/N + w1*α3/N"
            ]
          },
          "execution_count": 51,
          "metadata": {},
          "output_type": "execute_result"
        }
      ],
      "source": [
        "datls._elastic(state) + datls._damage(state)"
      ]
    },
    {
      "cell_type": "markdown",
      "metadata": {},
      "source": [
        "Damage criterion"
      ]
    },
    {
      "cell_type": "code",
      "execution_count": 52,
      "metadata": {},
      "outputs": [
        {
          "data": {
            "text/latex": [
              "$\\displaystyle - \\frac{0.5 E_{0} N e_{h}^{2} γ}{\\left(a_{h} γ - a_{h} + 1\\right)^{2}} + \\frac{w_{1}}{N}$"
            ],
            "text/plain": [
              "-0.5*E0*N*e_h**2*γ/(a_h*γ - a_h + 1)**2 + w1/N"
            ]
          },
          "execution_count": 52,
          "metadata": {},
          "output_type": "execute_result"
        }
      ],
      "source": [
        "dana.criterion().simplify()"
      ]
    },
    {
      "cell_type": "code",
      "execution_count": 53,
      "metadata": {},
      "outputs": [
        {
          "data": {
            "text/latex": [
              "$\\displaystyle \\frac{0.707106781186548 N e_{1} \\sqrt{E_{0} w_{1} γ} - w_{1}}{w_{1} \\left(γ - 1.0\\right)}$"
            ],
            "text/plain": [
              "(0.707106781186548*N*e1*sqrt(E0*w1*γ) - w1)/(w1*(γ - 1.0))"
            ]
          },
          "execution_count": 53,
          "metadata": {},
          "output_type": "execute_result"
        }
      ],
      "source": [
        "dana._homogeneous_alpha(matpar=_matpar)[1]"
      ]
    },
    {
      "cell_type": "code",
      "execution_count": 54,
      "metadata": {},
      "outputs": [
        {
          "data": {
            "text/latex": [
              "$\\displaystyle \\frac{t \\left(α_{1} \\left(γ - 1\\right) + 1\\right)}{L \\left(1 - α_{1}\\right) \\left(\\frac{α_{3} \\left(γ - 1\\right) + 1}{1 - α_{3}} + \\frac{α_{2} \\left(γ - 1\\right) + 1}{1 - α_{2}} + \\frac{α_{1} \\left(γ - 1\\right) + 1}{1 - α_{1}}\\right)}$"
            ],
            "text/plain": [
              "t*(α1*(γ - 1) + 1)/(L*(1 - α1)*((α3*(γ - 1) + 1)/(1 - α3) + (α2*(γ - 1) + 1)/(1 - α2) + (α1*(γ - 1) + 1)/(1 - α1)))"
            ]
          },
          "execution_count": 54,
          "metadata": {},
          "output_type": "execute_result"
        }
      ],
      "source": [
        "dana._homogeneous_e()[0]"
      ]
    },
    {
      "cell_type": "markdown",
      "metadata": {},
      "source": [
        "Homogeneous state"
      ]
    },
    {
      "cell_type": "code",
      "execution_count": 55,
      "metadata": {},
      "outputs": [
        {
          "data": {
            "text/plain": [
              "({α1: a_h, α2: a_h, α3: a_h}, {e1: e_h, e2: e_h, e3: e_h})"
            ]
          },
          "execution_count": 55,
          "metadata": {},
          "output_type": "execute_result"
        }
      ],
      "source": [
        "_subs_αh, _subs_eh"
      ]
    },
    {
      "cell_type": "code",
      "execution_count": 56,
      "metadata": {},
      "outputs": [
        {
          "data": {
            "text/latex": [
              "$\\displaystyle \\frac{0.5 E_{0} N e_{1}^{2} \\cdot \\left(1 - α_{1}\\right)}{α_{1} \\left(γ - 1\\right) + 1} + \\frac{0.5 E_{0} N e_{2}^{2} \\cdot \\left(1 - α_{2}\\right)}{α_{2} \\left(γ - 1\\right) + 1} + \\frac{0.5 E_{0} N e_{3}^{2} \\cdot \\left(1 - α_{3}\\right)}{α_{3} \\left(γ - 1\\right) + 1} + \\frac{w_{1} α_{1}}{N} + \\frac{w_{1} α_{2}}{N} + \\frac{w_{1} α_{3}}{N}$"
            ],
            "text/plain": [
              "0.5*E0*N*e1**2*(1 - α1)/(α1*(γ - 1) + 1) + 0.5*E0*N*e2**2*(1 - α2)/(α2*(γ - 1) + 1) + 0.5*E0*N*e3**2*(1 - α3)/(α3*(γ - 1) + 1) + w1*α1/N + w1*α2/N + w1*α3/N"
            ]
          },
          "execution_count": 56,
          "metadata": {},
          "output_type": "execute_result"
        }
      ],
      "source": [
        "datls.energy(state)"
      ]
    },
    {
      "cell_type": "code",
      "execution_count": 60,
      "metadata": {},
      "outputs": [
        {
          "data": {
            "text/plain": [
              "([α2],\n",
              " {α1, α3},\n",
              " [e2],\n",
              " {e1, e3},\n",
              " {α2: a^*},\n",
              " {e2: e^*},\n",
              " {α3: a_h, α1: a_h},\n",
              " {e3: e_h, e1: e_h},\n",
              " {α1: a_h, α2: a_h, α3: a_h},\n",
              " {e1: e_h, e2: e_h, e3: e_h})"
            ]
          },
          "execution_count": 60,
          "metadata": {},
          "output_type": "execute_result"
        }
      ],
      "source": [
        "\n",
        "datls.energy(state).subs(_subs_eh).subs(_subs_αh)\n",
        "\n",
        "_bif, _homo, _bif_e, _homo_e = dana._state_split(m, state, _matpar)\n",
        "_subs_bif_α, _subs_bif_e = dana._state_bifurcation_substitutions(m, state, _matpar)\n",
        "_subs_homo_α, _subs_homo_e = dana._state_substitutions(m, state, _matpar)\n",
        "_subs_αh, _subs_eh = dana._state_homog_substitutions(m, state, _matpar)\n",
        "\n",
        "_bif, _homo, \\\n",
        "_bif_e, _homo_e, \\\n",
        "_subs_bif_α, _subs_bif_e, \\\n",
        "_subs_homo_α, _subs_homo_e, \\\n",
        "_subs_αh, _subs_eh \n"
      ]
    },
    {
      "cell_type": "code",
      "execution_count": 61,
      "metadata": {},
      "outputs": [
        {
          "data": {
            "text/latex": [
              "$\\displaystyle \\frac{1.5 E_{0} e_{1}^{2} \\cdot \\left(1 - a_{h}\\right)}{a_{h} \\left(γ - 1\\right) + 1} + \\frac{1.5 E_{0} e_{2}^{2} \\cdot \\left(1 - a_{h}\\right)}{a_{h} \\left(γ - 1\\right) + 1} + \\frac{1.5 E_{0} e_{3}^{2} \\cdot \\left(1 - a_{h}\\right)}{a_{h} \\left(γ - 1\\right) + 1} + a_{h} w_{1}$"
            ],
            "text/plain": [
              "1.5*E0*e1**2*(1 - a_h)/(a_h*(γ - 1) + 1) + 1.5*E0*e2**2*(1 - a_h)/(a_h*(γ - 1) + 1) + 1.5*E0*e3**2*(1 - a_h)/(a_h*(γ - 1) + 1) + a_h*w1"
            ]
          },
          "execution_count": 61,
          "metadata": {},
          "output_type": "execute_result"
        }
      ],
      "source": [
        "_ = datls.energy(state).subs(_subs_αh).subs({N: _N})\n",
        "# .subs({N: _N})\n",
        "# .subs(_subs_eh).subs(_subs_αh)\n",
        "# _.subs(_subs_eh2)\n",
        "# .simplify()\n",
        "_\n"
      ]
    },
    {
      "cell_type": "code",
      "execution_count": 62,
      "metadata": {},
      "outputs": [
        {
          "data": {
            "text/plain": [
              "[α1, α2, α3]"
            ]
          },
          "execution_count": 62,
          "metadata": {},
          "output_type": "execute_result"
        }
      ],
      "source": [
        "astate = dana.state[\"α\"]\n",
        "astate\n"
      ]
    },
    {
      "cell_type": "code",
      "execution_count": 63,
      "metadata": {},
      "outputs": [
        {
          "data": {
            "text/latex": [
              "$\\displaystyle \\frac{α_{3} \\left(γ - 1\\right) + 1}{1 - α_{3}} + \\frac{α_{2} \\left(γ - 1\\right) + 1}{1 - α_{2}} + \\frac{α_{1} \\left(γ - 1\\right) + 1}{1 - α_{1}}$"
            ],
            "text/plain": [
              "(α3*(γ - 1) + 1)/(1 - α3) + (α2*(γ - 1) + 1)/(1 - α2) + (α1*(γ - 1) + 1)/(1 - α1)"
            ]
          },
          "execution_count": 63,
          "metadata": {},
          "output_type": "execute_result"
        }
      ],
      "source": [
        "sum([dana.s(_a) for _a in astate]) "
      ]
    },
    {
      "cell_type": "code",
      "execution_count": 64,
      "metadata": {},
      "outputs": [
        {
          "data": {
            "text/plain": [
              "[t*(α2 - 1)*(α3 - 1)*(α1*(γ - 1) + 1)/(L*((α1 - 1)*(α2 - 1)*(α3*(γ - 1) + 1) + (α1 - 1)*(α3 - 1)*(α2*(γ - 1) + 1) + (α2 - 1)*(α3 - 1)*(α1*(γ - 1) + 1))),\n",
              " t*(α1 - 1)*(α3 - 1)*(α2*(γ - 1) + 1)/(L*((α1 - 1)*(α2 - 1)*(α3*(γ - 1) + 1) + (α1 - 1)*(α3 - 1)*(α2*(γ - 1) + 1) + (α2 - 1)*(α3 - 1)*(α1*(γ - 1) + 1))),\n",
              " t*(α1 - 1)*(α2 - 1)*(α3*(γ - 1) + 1)/(L*((α1 - 1)*(α2 - 1)*(α3*(γ - 1) + 1) + (α1 - 1)*(α3 - 1)*(α2*(γ - 1) + 1) + (α2 - 1)*(α3 - 1)*(α1*(γ - 1) + 1)))]"
            ]
          },
          "execution_count": 64,
          "metadata": {},
          "output_type": "execute_result"
        }
      ],
      "source": [
        "_ei = dana._equilirbrium_e()\n",
        "_ei\n"
      ]
    },
    {
      "cell_type": "code",
      "execution_count": 65,
      "metadata": {},
      "outputs": [
        {
          "data": {
            "text/plain": [
              "[t/(3*L), t/(3*L), t/(3*L)]"
            ]
          },
          "execution_count": 65,
          "metadata": {},
          "output_type": "execute_result"
        }
      ],
      "source": [
        "[e.subs(_subs_αh) for e in _ei]\n"
      ]
    },
    {
      "cell_type": "code",
      "execution_count": 66,
      "metadata": {},
      "outputs": [
        {
          "data": {
            "text/plain": [
              "({e1: t*(α2 - 1)*(α3 - 1)*(α1*(γ - 1) + 1)/(L*((α1 - 1)*(α2 - 1)*(α3*(γ - 1) + 1) + (α1 - 1)*(α3 - 1)*(α2*(γ - 1) + 1) + (α2 - 1)*(α3 - 1)*(α1*(γ - 1) + 1))),\n",
              "  e2: t*(α1 - 1)*(α3 - 1)*(α2*(γ - 1) + 1)/(L*((α1 - 1)*(α2 - 1)*(α3*(γ - 1) + 1) + (α1 - 1)*(α3 - 1)*(α2*(γ - 1) + 1) + (α2 - 1)*(α3 - 1)*(α1*(γ - 1) + 1))),\n",
              "  e3: t*(α1 - 1)*(α2 - 1)*(α3*(γ - 1) + 1)/(L*((α1 - 1)*(α2 - 1)*(α3*(γ - 1) + 1) + (α1 - 1)*(α3 - 1)*(α2*(γ - 1) + 1) + (α2 - 1)*(α3 - 1)*(α1*(γ - 1) + 1)))},\n",
              " {e1: t*(α2 - 1)*(α3 - 1)*(α1*(γ - 1) + 1)/(L*((α1 - 1)*(α2 - 1)*(α3*(γ - 1) + 1) + (α1 - 1)*(α3 - 1)*(α2*(γ - 1) + 1) + (α2 - 1)*(α3 - 1)*(α1*(γ - 1) + 1))),\n",
              "  e2: t*(α1 - 1)*(α3 - 1)*(α2*(γ - 1) + 1)/(L*((α1 - 1)*(α2 - 1)*(α3*(γ - 1) + 1) + (α1 - 1)*(α3 - 1)*(α2*(γ - 1) + 1) + (α2 - 1)*(α3 - 1)*(α1*(γ - 1) + 1))),\n",
              "  e3: t*(α1 - 1)*(α2 - 1)*(α3*(γ - 1) + 1)/(L*((α1 - 1)*(α2 - 1)*(α3*(γ - 1) + 1) + (α1 - 1)*(α3 - 1)*(α2*(γ - 1) + 1) + (α2 - 1)*(α3 - 1)*(α1*(γ - 1) + 1)))})"
            ]
          },
          "execution_count": 66,
          "metadata": {},
          "output_type": "execute_result"
        }
      ],
      "source": [
        "subs_equil, _subs_equil_alpha = dana._state_equilibrium_substitutions()\n",
        "subs_equil, _subs_equil_alpha"
      ]
    },
    {
      "cell_type": "markdown",
      "metadata": {},
      "source": [
        "Bifurcations"
      ]
    },
    {
      "cell_type": "code",
      "execution_count": 70,
      "metadata": {},
      "outputs": [],
      "source": [
        "_αb = sp.symbols(\"a^*\")\n",
        "_eb = sp.symbols(\"e^*\")\n"
      ]
    },
    {
      "cell_type": "code",
      "execution_count": 67,
      "metadata": {},
      "outputs": [
        {
          "data": {
            "text/plain": [
              "([α2], {α2: a^*})"
            ]
          },
          "execution_count": 67,
          "metadata": {},
          "output_type": "execute_result"
        }
      ],
      "source": [
        "_bif, _subs_bif_α"
      ]
    },
    {
      "cell_type": "code",
      "execution_count": 68,
      "metadata": {},
      "outputs": [
        {
          "data": {
            "text/plain": [
              "{α1, α3}"
            ]
          },
          "execution_count": 68,
          "metadata": {},
          "output_type": "execute_result"
        }
      ],
      "source": [
        "_homo"
      ]
    },
    {
      "cell_type": "markdown",
      "metadata": {},
      "source": [
        "Determine evolution with bifurcation"
      ]
    },
    {
      "cell_type": "code",
      "execution_count": 72,
      "metadata": {},
      "outputs": [
        {
          "data": {
            "text/latex": [
              "$\\displaystyle \\frac{9.0 t^{2} \\left(a^{*} - 1\\right) \\left(α_{1} - 1\\right) \\left(α_{3} - 1\\right) \\left(\\left(α_{1} - 1\\right) \\left(α_{3} - 1\\right) + \\left(α_{1} - 1\\right) \\left(α_{3} + 1\\right) + \\left(α_{1} + 1\\right) \\left(α_{3} - 1\\right)\\right) + t^{2} \\left(α_{1} - 1\\right) \\left(α_{3} - 1\\right) \\left(4.5 \\cdot \\left(1 - a^{*}\\right) \\left(α_{1} - 1\\right) \\left(α_{3} - 1\\right) - 9.0 \\left(a^{*} - 1\\right) \\left(α_{1} - 1\\right) \\left(α_{3} + 1\\right) - 9.0 \\left(a^{*} - 1\\right) \\left(α_{1} + 1\\right) \\left(α_{3} - 1\\right) - 4.5 \\left(a^{*} + 1\\right) \\left(α_{1} - 1\\right) \\left(α_{3} - 1\\right)\\right) + \\left(\\left(a^{*} - 1\\right) \\left(α_{1} - 1\\right) \\left(α_{3} + 1\\right) + \\left(a^{*} - 1\\right) \\left(α_{1} + 1\\right) \\left(α_{3} - 1\\right) + \\left(a^{*} + 1\\right) \\left(α_{1} - 1\\right) \\left(α_{3} - 1\\right)\\right)^{2}}{3 \\left(\\left(a^{*} - 1\\right) \\left(α_{1} - 1\\right) \\left(α_{3} + 1\\right) + \\left(a^{*} - 1\\right) \\left(α_{1} + 1\\right) \\left(α_{3} - 1\\right) + \\left(a^{*} + 1\\right) \\left(α_{1} - 1\\right) \\left(α_{3} - 1\\right)\\right)^{2}}$"
            ],
            "text/plain": [
              "(9.0*t**2*(a^* - 1)*(α1 - 1)*(α3 - 1)*((α1 - 1)*(α3 - 1) + (α1 - 1)*(α3 + 1) + (α1 + 1)*(α3 - 1)) + t**2*(α1 - 1)*(α3 - 1)*(4.5*(1 - a^*)*(α1 - 1)*(α3 - 1) - 9.0*(a^* - 1)*(α1 - 1)*(α3 + 1) - 9.0*(a^* - 1)*(α1 + 1)*(α3 - 1) - 4.5*(a^* + 1)*(α1 - 1)*(α3 - 1)) + ((a^* - 1)*(α1 - 1)*(α3 + 1) + (a^* - 1)*(α1 + 1)*(α3 - 1) + (a^* + 1)*(α1 - 1)*(α3 - 1))**2)/(3*((a^* - 1)*(α1 - 1)*(α3 + 1) + (a^* - 1)*(α1 + 1)*(α3 - 1) + (a^* + 1)*(α1 - 1)*(α3 - 1))**2)"
            ]
          },
          "execution_count": 72,
          "metadata": {},
          "output_type": "execute_result"
        }
      ],
      "source": [
        "_en_α = dana._energy_fc_alpha()\n",
        "\n",
        "_eq = _en_α.subs(_subs_bif_α)\n",
        "# _α, _eq\n",
        "# _eq\n",
        "sp.diff(_eq.subs(_subs_bif_α), _αb).subs(_matpar).simplify()"
      ]
    },
    {
      "cell_type": "markdown",
      "metadata": {},
      "source": [
        "Homogeneous elements"
      ]
    },
    {
      "cell_type": "code",
      "execution_count": 73,
      "metadata": {},
      "outputs": [
        {
          "data": {
            "text/plain": [
              "{α3: a_h, α1: a_h}"
            ]
          },
          "execution_count": 73,
          "metadata": {},
          "output_type": "execute_result"
        }
      ],
      "source": [
        "_subs_homo_α"
      ]
    },
    {
      "cell_type": "code",
      "execution_count": 76,
      "metadata": {},
      "outputs": [
        {
          "data": {
            "text/latex": [
              "$\\displaystyle \\frac{- 0.5 t^{2} \\left(a_{h} - 1\\right)^{2} \\left(α_{2} - 1\\right) \\left(α_{2} + 1\\right) - t^{2} \\left(a_{h} - 1\\right) \\left(a_{h} + 1\\right) \\left(α_{2} - 1\\right)^{2} + \\frac{\\left(2 a_{h} + α_{2}\\right) \\left(\\left(a_{h} - 1\\right) \\left(α_{2} + 1\\right) + 2 \\left(a_{h} + 1\\right) \\left(α_{2} - 1\\right)\\right)^{2}}{9}}{\\left(\\left(a_{h} - 1\\right) \\left(α_{2} + 1\\right) + 2 \\left(a_{h} + 1\\right) \\left(α_{2} - 1\\right)\\right)^{2}}$"
            ],
            "text/plain": [
              "(-0.5*t**2*(a_h - 1)**2*(α2 - 1)*(α2 + 1) - t**2*(a_h - 1)*(a_h + 1)*(α2 - 1)**2 + (2*a_h + α2)*((a_h - 1)*(α2 + 1) + 2*(a_h + 1)*(α2 - 1))**2/9)/((a_h - 1)*(α2 + 1) + 2*(a_h + 1)*(α2 - 1))**2"
            ]
          },
          "execution_count": 76,
          "metadata": {},
          "output_type": "execute_result"
        }
      ],
      "source": [
        "_eq = _en_α.subs(_subs_homo_α)\n",
        "(_eq.subs(_matpar)/_N).simplify()\n"
      ]
    },
    {
      "cell_type": "code",
      "execution_count": 77,
      "metadata": {},
      "outputs": [
        {
          "data": {
            "text/plain": [
              "[3.0 - 3.0*t, 3.0*t + 3.0]"
            ]
          },
          "execution_count": 77,
          "metadata": {},
          "output_type": "execute_result"
        }
      ],
      "source": [
        "_eq = _en_α.subs(_subs_bif_α)\n",
        "\n",
        "_c = sp.diff(_eq, _αb).subs(_matpar)\n",
        "_ = _c.subs({_x : 0 for _x in _homo}).simplify()\n",
        "_homogeneous_alpha_equil = sp.solve(_, _αb)\n",
        "# sp.solve(_, _αb)\n",
        "_homogeneous_alpha_equil\n",
        "# _c"
      ]
    },
    {
      "cell_type": "markdown",
      "metadata": {},
      "source": [
        "# legacy"
      ]
    },
    {
      "cell_type": "code",
      "execution_count": 14,
      "metadata": {
        "colab": {
          "base_uri": "https://localhost:8080/",
          "height": 58
        },
        "id": "Uxzd-uyzmXGK",
        "outputId": "56e383be-a2c5-4af0-972b-31485b3201ad"
      },
      "outputs": [
        {
          "data": {
            "text/latex": [
              "$\\displaystyle \\frac{0.25 N t^{2} μ \\left(1 - α\\right)}{α \\left(k - 1\\right) + 1}$"
            ],
            "text/plain": [
              "0.25*N*t**2*μ*(1 - α)/(α*(k - 1) + 1)"
            ]
          },
          "execution_count": 14,
          "metadata": {},
          "output_type": "execute_result"
        }
      ],
      "source": [
        "\n",
        "_E = E.subs({K1: 1/s(α), K2: 1/s(α)})\n",
        "_E"
      ]
    },
    {
      "cell_type": "code",
      "execution_count": 15,
      "metadata": {
        "colab": {
          "base_uri": "https://localhost:8080/",
          "height": 58
        },
        "id": "_Ts5UCAHmXGK",
        "outputId": "4c6598e6-d56e-4032-d446-ba427583e8f6"
      },
      "outputs": [
        {
          "data": {
            "text/latex": [
              "$\\displaystyle \\frac{0.25 N t^{2} μ \\left(1 - α\\right)}{α \\left(k - 1\\right) + 1} + \\frac{2 w_{1} α}{N}$"
            ],
            "text/plain": [
              "0.25*N*t**2*μ*(1 - α)/(α*(k - 1) + 1) + 2*w1*α/N"
            ]
          },
          "execution_count": 15,
          "metadata": {},
          "output_type": "execute_result"
        }
      ],
      "source": [
        "F = (E+S)\n",
        "F = (E+S).subs({K1: 1/s(α), K2: 1/s(α), α1: α, α2: α})\n",
        "\n",
        "F"
      ]
    },
    {
      "cell_type": "markdown",
      "metadata": {
        "id": "_RPJPeiamXGL"
      },
      "source": [
        "### Critical damage load"
      ]
    },
    {
      "cell_type": "code",
      "execution_count": 16,
      "metadata": {
        "colab": {
          "base_uri": "https://localhost:8080/",
          "height": 61
        },
        "id": "Af3R_x1jmXGL",
        "outputId": "bce028cd-9213-4a7d-e6c4-b98d73274bfb"
      },
      "outputs": [
        {
          "data": {
            "text/latex": [
              "$\\displaystyle - \\frac{0.25 N k t^{2} μ}{\\left(k α - α + 1\\right)^{2}} + \\frac{2 w_{1}}{N}$"
            ],
            "text/plain": [
              "-0.25*N*k*t**2*μ/(k*α - α + 1)**2 + 2*w1/N"
            ]
          },
          "execution_count": 16,
          "metadata": {},
          "output_type": "execute_result"
        }
      ],
      "source": [
        "Fa = F.diff(α).simplify()\n",
        "Fa"
      ]
    },
    {
      "cell_type": "code",
      "execution_count": 17,
      "metadata": {
        "colab": {
          "base_uri": "https://localhost:8080/",
          "height": 51
        },
        "id": "ffgo1EYamXGL",
        "outputId": "482597de-44f6-4141-ca2a-12f97697718b"
      },
      "outputs": [
        {
          "data": {
            "text/latex": [
              "$\\displaystyle - 0.25 N k t^{2} μ + \\frac{2 w_{1}}{N}$"
            ],
            "text/plain": [
              "-0.25*N*k*t**2*μ + 2*w1/N"
            ]
          },
          "execution_count": 17,
          "metadata": {},
          "output_type": "execute_result"
        }
      ],
      "source": [
        "Fa.subs({α: 0})"
      ]
    },
    {
      "cell_type": "code",
      "execution_count": 18,
      "metadata": {
        "colab": {
          "base_uri": "https://localhost:8080/",
          "height": 61
        },
        "id": "ZmJ-56yEmXGL",
        "outputId": "ae6b222b-776e-43c1-b70c-30f8fe18d4e5"
      },
      "outputs": [
        {
          "data": {
            "text/latex": [
              "$\\displaystyle \\frac{2.82842712474619 \\sqrt{w_{1}}}{N \\sqrt{k} \\sqrt{μ}}$"
            ],
            "text/plain": [
              "2.82842712474619*sqrt(w1)/(N*sqrt(k)*sqrt(μ))"
            ]
          },
          "execution_count": 18,
          "metadata": {},
          "output_type": "execute_result"
        }
      ],
      "source": [
        "sp.solve(Fa, t)[1].subs({α: 0})"
      ]
    },
    {
      "cell_type": "code",
      "execution_count": 22,
      "metadata": {
        "colab": {
          "base_uri": "https://localhost:8080/"
        },
        "id": "BTXnxuuxmXGL",
        "outputId": "5fdc409e-a0a7-4e7d-c24b-b5e3fe984458"
      },
      "outputs": [
        {
          "data": {
            "text/plain": [
              "4.5"
            ]
          },
          "execution_count": 22,
          "metadata": {},
          "output_type": "execute_result"
        }
      ],
      "source": [
        "_F = sp.lambdify((α, t), F.subs(matpar), 'numpy')\n",
        "_F(0, 3)"
      ]
    },
    {
      "cell_type": "code",
      "execution_count": 23,
      "metadata": {
        "colab": {
          "base_uri": "https://localhost:8080/",
          "height": 61
        },
        "id": "LlRq60zomXGL",
        "outputId": "5a4bb9d9-da5c-438d-cad2-134fde9c6f71"
      },
      "outputs": [
        {
          "data": {
            "text/latex": [
              "$\\displaystyle \\frac{2.82842712474619 \\sqrt{w_{1}}}{N \\sqrt{k} \\sqrt{μ}}$"
            ],
            "text/plain": [
              "2.82842712474619*sqrt(w1)/(N*sqrt(k)*sqrt(μ))"
            ]
          },
          "execution_count": 23,
          "metadata": {},
          "output_type": "execute_result"
        }
      ],
      "source": [
        "\n",
        "tc = sp.solve(Fa, t)[1].subs({α: 0})\n",
        "tc"
      ]
    },
    {
      "cell_type": "code",
      "execution_count": 24,
      "metadata": {
        "colab": {
          "base_uri": "https://localhost:8080/",
          "height": 37
        },
        "id": "UEnYuh59mXGL",
        "outputId": "27edbb0e-a953-4f25-eee3-f6dece211983"
      },
      "outputs": [
        {
          "data": {
            "text/latex": [
              "$\\displaystyle 0.816496580927726$"
            ],
            "text/plain": [
              "0.816496580927726"
            ]
          },
          "execution_count": 24,
          "metadata": {},
          "output_type": "execute_result"
        }
      ],
      "source": [
        "_tc = sp.N(tc.subs(matpar))\n",
        "_tc"
      ]
    },
    {
      "cell_type": "code",
      "execution_count": 25,
      "metadata": {
        "colab": {
          "base_uri": "https://localhost:8080/",
          "height": 448
        },
        "id": "nFnbEv9cmXGL",
        "outputId": "195e556c-1d1f-4c97-c2fd-247351d91dd5"
      },
      "outputs": [
        {
          "data": {
            "text/plain": [
              "[<matplotlib.lines.Line2D at 0x7f3ee7d1f0d0>]"
            ]
          },
          "execution_count": 25,
          "metadata": {},
          "output_type": "execute_result"
        },
        {
          "data": {
            "image/png": "[encoded data removed]",
            "text/plain": [
              "<Figure size 640x480 with 1 Axes>"
            ]
          },
          "metadata": {},
          "output_type": "display_data"
        }
      ],
      "source": [
        "plt.plot(np.linspace(0., 2.), _F(0, np.linspace(0., 2.)))\n",
        "plt.axvline(_tc, c='k')\n",
        "plt.plot(data.load, _F(0, data.load.values))\n",
        "plt.plot(data.load, data.elastic_energy, ls='dotted', lw=4)\n"
      ]
    },
    {
      "cell_type": "markdown",
      "metadata": {
        "id": "6a3aRhWRsizJ"
      },
      "source": [
        "### TODO"
      ]
    },
    {
      "cell_type": "markdown",
      "metadata": {
        "id": "HAT5AQzoslYJ"
      },
      "source": [
        "Verify cone-stability against the NLB theorem, devised by N based on some (few) numerical experiments featuring around 1m shots (each) into the uppermost-right quadrant. \n",
        "\n",
        "For some, those shots were random. \n",
        "\n",
        "We say: they were shot in the _target direction_, with a little bit of spice.\n",
        "\n",
        "\n",
        "Targeting Abstract\n",
        "\n",
        "FEniCSX conference\n",
        "\n",
        "Pula (CA)\n",
        "\n",
        "_thanks for choosing_\n",
        "\n",
        "1. Verify homogeneous solution vs. N=2, 3, 4 computations\n",
        "  1. compute analytic solution (_)\n",
        "  1. extract displacement from system\n",
        "  1. compute cone-stability of $H(\\alpha)$ as a bilinear operator\n",
        "  (which turns out to have ... entries if [and/or] only if the state is cone-stable. NLB Exp~theorem)\n",
        "1. connect KR\n",
        "1. target application: Ice Ice Baby (seek numerical collab) \n",
        "1. condense abstract\n",
        "  1. make more abstract\n",
        "  1. select a far-fetched appication or Antartica\n",
        "1. double check with GL, FI, VC, PLC\n",
        "  1. if Very good: triple check with QC, YCdB, LN\n",
        "  1. else: submit"
      ]
    },
    {
      "cell_type": "code",
      "execution_count": null,
      "metadata": {
        "id": "ekD2F6tMmXGM"
      },
      "outputs": [],
      "source": []
    }
  ],
  "metadata": {
    "colab": {
      "include_colab_link": true,
      "provenance": []
    },
    "kernelspec": {
      "display_name": "Python 3",
      "name": "python3"
    },
    "language_info": {
      "codemirror_mode": {
        "name": "ipython",
        "version": 3
      },
      "file_extension": ".py",
      "mimetype": "text/x-python",
      "name": "python",
      "nbconvert_exporter": "python",
      "pygments_lexer": "ipython3",
      "version": "3.9.13"
    }
  },
  "nbformat": 4,
  "nbformat_minor": 0
}
