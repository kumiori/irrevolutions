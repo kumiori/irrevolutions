{
 "cells": [
  {
   "cell_type": "code",
   "execution_count": 3,
   "metadata": {},
   "outputs": [
    {
     "name": "stdout",
     "output_type": "stream",
     "text": [
      "postproc\n"
     ]
    }
   ],
   "source": [
    "# Testing Pacman\n",
    "import postprocess as pp\n",
    "import plots as plots\n"
   ]
  },
  {
   "cell_type": "code",
   "execution_count": 4,
   "metadata": {},
   "outputs": [],
   "source": [
    "import sympy as sp\n",
    "import numpy as np\n",
    "import matplotlib.pyplot as plt\n",
    "from pathlib import Path "
   ]
  },
  {
   "cell_type": "markdown",
   "metadata": {},
   "source": [
    "## Stability of a discrete system"
   ]
  },
  {
   "cell_type": "code",
   "execution_count": null,
   "metadata": {},
   "outputs": [],
   "source": [
    "# Run the simulation:\n",
    "\n",
    "# !../practice/discrete-atk.py -N 2\n",
    "# !../practice/discrete-atk.py -N 3"
   ]
  },
  {
   "cell_type": "code",
   "execution_count": 42,
   "metadata": {},
   "outputs": [],
   "source": [
    "# Postprocessing capabilities\n",
    "def _postprocess_stability(data):\n",
    "    \"\"\"docstring for _postprocess_stability\"\"\"\n",
    "    figure, axis = plt.subplots(2, 2, figsize=(12, 9))\n",
    "\n",
    "\n",
    "    # axis[0, 0].plot(X, Y1)\n",
    "    _ax = axis[0, 0]\n",
    "    _ax.plot(data.load, data.fracture_energy, label = 'damage')\n",
    "    _ax.plot(data.load, data.elastic_energy, label = 'elastic')\n",
    "    _total = data.fracture_energy + data.elastic_energy\n",
    "    _ax.plot(data.load, _total, label = 'total')\n",
    "    _ax.legend()\n",
    "    _ax.set_xlabel('load')\n",
    "    _ax.set_ylabel('Energy')\n",
    "\n",
    "    _ax = axis[0, 1]\n",
    "\n",
    "    _ax.plot(data.load, data.F, label = 'stress')\n",
    "    _ax.legend()\n",
    "    _ax.set_xlabel('load')\n",
    "    _ax.set_ylabel('stress')\n",
    "\n",
    "    _ax = axis[1, 0]\n",
    "\n",
    "    for k in range(model_parameters[\"N\"]+1):\n",
    "        _ax.plot(data.load, [u[k] for u in data.u_t], label=f'$u_{k}$', c='C1')\n",
    "    # _ax.plot(data.load, 1/_mu*data.load/2, label=f'$u^*$', ls='dotted', lw=4)\n",
    "\n",
    "    _ax.legend()\n",
    "    _ax.set_title(\"$u$\")\n",
    "\n",
    "    _ax2 = _ax.twinx()\n",
    "\n",
    "    for k in range(model_parameters[\"N\"]):\n",
    "        _ax2.plot(data.load, [a[k] for a in data.alpha_t], label=f'$\\\\alpha_{k}$', lw=3, c='C2')\n",
    "\n",
    "    _ax2.set_title(\"$\\\\alpha$\")\n",
    "    _ax2.legend(loc=4)\n",
    "    _ax2.axhline(1, c='k')\n",
    "\n",
    "    _ax = axis[1, 1]\n",
    "    # params.get(\"loading\")\n",
    "    # \n",
    "    s0 = []\n",
    "    \n",
    "    # _dt = (params.get(\"loading\").get(\"max\") - params.get(\"loading\").get(\"min\")) /params.get(\"loading\").get(\"steps\")\n",
    "    _dt = data.load[1]-data.load[0]\n",
    "\n",
    "    for i, t in enumerate(data.get(\"load\")):\n",
    "        s0.append(np.trapz(data.get(\"rate_12_norm\")[0:i], data.get(\"load\")[0:i])/_dt)\n",
    "        \n",
    "    s = data.get(\"load\") + s0\n",
    "\n",
    "    _ax.plot(data.get(\"load\"), s, marker = 'o', label='s')\n",
    "    _ax.plot(data.get(\"load\"), s0, marker = 'o', label='s0')\n",
    "    _ax.set_title(\"Rate norms\")\n",
    "    _ax2 = _ax.twinx()\n",
    "    _ax2.plot(data.get(\"load\"), data.get(\"fracture_energy\"), marker = 's', c='k', label='fra')\n",
    "    _ax2.set_ylabel(\"Energies\")\n",
    "    _ax.legend()\n",
    "    \n",
    "    for _ax in axis.reshape(-1):\n",
    "        _ax.axvline(_tc.subs(matpar), c='k', lw=1)\n",
    "\n",
    "    plt.show()\n",
    "\n",
    "def _postprocess_stability2(data):\n",
    "\n",
    "    \"\"\"docstring for _postprocess_stability\"\"\"\n",
    "    figure, axis = plt.subplots(2, 2, figsize=(12, 9))\n",
    "    \n",
    "    _asd = np.array([step[\"lambda_0\"] for step in data[\"cone_data\"]])\n",
    "    _lambda_0 = [np.nan if type(a) is list else a for a in _asd ]\n",
    "    _stab_cnd = [0 if data[\"cone-stable\"][i]==True else 1 for i in range(len(data))]\n",
    "\n",
    "    _ax = axis[0, 0]\n",
    "    \n",
    "    for i in range(len(data.cone_data)):\n",
    "        _ax.plot(data.cone_data[i]['error_x_L2'], label=f'step {i}')\n",
    "    _ax.semilogy()\n",
    "    # _ax.legend()\n",
    "    _ax.set_xlabel('iterations')\n",
    "    _ax.set_ylabel('$||\\Delta x_k||_{L^2}$')\n",
    "\n",
    "    _ax = axis[0, 1]\n",
    "\n",
    "    _ax.scatter(data.load, _lambda_0, c=_stab_cnd, cmap='RdYlGn_r', alpha=.8)\n",
    "    _ax.set_xlim([0, _k])\n",
    "    _ax.set_ylim([-1, 1])\n",
    "    _ax.axhline(0, c='k')\n",
    "\n",
    "    _ax.set_title('Stability, minimum K-eigen')\n",
    "    _ax.legend()\n",
    "    _ax.set_xlabel('load')\n",
    "    _ax.set_ylabel('$min \\\\sigma_K$')\n",
    "\n",
    "    _ax = axis[1, 0]\n",
    "    # [0 if x==3 for x in _asd]\n",
    "    _ax.plot(data.load, _lambda_0, marker='o', ls='')\n",
    "    _ax.axhline(0, c='k')\n",
    "    # _ax.ylim([0, 1.])\n",
    "    _ax.set_xlim([0, _k])\n",
    "\n",
    "    _ax.axvline(_tc.subs(matpar), c='k', lw=1)\n",
    "    _ax.axvline(_k, c='k', lw=1)\n",
    "\n",
    "    _ax.set_xticks([_tc.subs(matpar), _k], ['$t_c$', '$k$'])\n",
    "    _ax.fill_between(data.load, 0, 1, where=[not s for s in _stab_cnd], color='green', alpha=0.5)\n",
    "    _ax.fill_between(data.load, 0, 1, where=_stab_cnd,color='red', alpha=0.5)\n",
    "    _ax.set_title('Minimum eigenvalue and stability')\n",
    "\n",
    "    _ax.legend()\n",
    "\n",
    "    _ax = axis[1, 1]\n",
    "    _ax.plot(data.load, data.F, label = 'stress')\n",
    "    _ax.fill_between(data.load, 0, .1, where=_stab_cnd,color='red', alpha=0.5)\n",
    "    _ax.fill_between(data.load, 0, .1, where=[not s for s in _stab_cnd], color='green', alpha=0.5)\n",
    "    _ax.legend()\n",
    "\n",
    "    _ax.axvline(_tc.subs(matpar), c='k', lw=1)\n",
    "    _ax.axvline(_k, c='k', lw=1)\n",
    "    _ax.axvline(_k/2, c='k', lw=1)\n",
    "\n",
    "    _ax.set_xticks([_tc.subs(matpar), _k/2, _k], ['$t_c$', '$k/2$', '$k$'])\n",
    "    _ax.set_title(f'N={_N}, k={_k}')\n",
    "\n",
    "\n",
    "    for _ax in axis.reshape(-1):\n",
    "        _ax.axvline(_tc.subs(matpar), c='k', lw=1)\n",
    "\n",
    "    plt.show()\n",
    "\n",
    "_stab_cnd = lambda data: [0 if data[\"cone-stable\"][i]==True else 1 for i in range(len(data))]\n",
    "\n"
   ]
  },
  {
   "cell_type": "markdown",
   "metadata": {},
   "source": [
    "## N=2"
   ]
  },
  {
   "cell_type": "code",
   "execution_count": null,
   "metadata": {},
   "outputs": [],
   "source": [
    "# experiment = '../../practice/output/discrete-atk-N2'\n",
    "experiment = '../../test/output/discrete-atk-N2'\n",
    "params, data, signature = pp.load_data(experiment)\n",
    "model_parameters = params.get(\"model\")\n",
    "\n",
    "_mu, _w1, _k, _N = model_parameters.get(\"mu\"), model_parameters.get(\n",
    "    \"w1\"), model_parameters.get(\"k\"), model_parameters[\"N\"]\n"
   ]
  },
  {
   "cell_type": "code",
   "execution_count": null,
   "metadata": {},
   "outputs": [],
   "source": [
    "_postprocess_stability(data)\n",
    "_postprocess_stability2(data)"
   ]
  },
  {
   "cell_type": "markdown",
   "metadata": {},
   "source": [
    "$$\n",
    "E(u):=\\frac{1}{2} N\\mu\\sum_{i=1}^N a_k(\\alpha_i)(u_{i}-u_{i-1})^2 + \\frac{w_1}{N} \\sum_{i=1}^N w(\\alpha_i)\n",
    "$$"
   ]
  },
  {
   "cell_type": "markdown",
   "metadata": {},
   "source": [
    "$$\n",
    "w(\\alpha):= \\alpha, \\qquad a_k(\\alpha):= \\frac{1-\\alpha}{\\alpha(k-1)+1}\n",
    "$$"
   ]
  },
  {
   "cell_type": "markdown",
   "metadata": {},
   "source": [
    "## Analytic solution"
   ]
  },
  {
   "cell_type": "code",
   "execution_count": null,
   "metadata": {},
   "outputs": [],
   "source": []
  },
  {
   "cell_type": "code",
   "execution_count": 151,
   "metadata": {},
   "outputs": [],
   "source": [
    "## Simple Analytic \n",
    "α, α1, α2, e1, e2 = sp.symbols('α α1 α2 e1 e2')\n",
    "u1, u2 = sp.symbols('u1 u2')\n",
    "K1, K2 = sp.symbols('K1 K2', positive=True)\n",
    "s1, s2 = sp.symbols('s1 s2', positive=True)\n",
    "μ, N = sp.symbols('μ N', positive=True)\n",
    "w1 = sp.symbols('w1', positive=True)\n",
    "t = sp.Symbol('t', positive=True)\n",
    "k = sp.Symbol('k', positive=True)\n",
    "\n",
    "# _N = 2\n",
    "\n",
    "K = lambda α: (1-α)/(1+(k-1)*α)\n",
    "s = lambda α: 1/K(α)\n",
    "\n",
    "U = 1/2*μ*(K1*u1**2 + K2*(t-u1)**2)\n",
    "\n",
    "S = w1*(α1 + α2) / N**2\n",
    "\n",
    "sol_u = sp.solve(U.diff(u1), u1)\n",
    "\n"
   ]
  },
  {
   "cell_type": "code",
   "execution_count": 152,
   "metadata": {},
   "outputs": [],
   "source": [
    "\n",
    "matpar = {k: _k, w1: _w1, N: _N, μ: _mu}\n"
   ]
  },
  {
   "cell_type": "code",
   "execution_count": 8,
   "metadata": {},
   "outputs": [
    {
     "data": {
      "text/latex": [
       "$\\displaystyle 0.5 μ \\left(K_{1} u_{1}^{2} + K_{2} \\left(t - u_{1}\\right)^{2}\\right)$"
      ],
      "text/plain": [
       "0.5*μ*(K1*u1**2 + K2*(t - u1)**2)"
      ]
     },
     "execution_count": 8,
     "metadata": {},
     "output_type": "execute_result"
    }
   ],
   "source": [
    "U"
   ]
  },
  {
   "cell_type": "code",
   "execution_count": 153,
   "metadata": {},
   "outputs": [
    {
     "data": {
      "text/latex": [
       "$\\displaystyle \\frac{K_{2} t}{K_{1} + K_{2}}$"
      ],
      "text/plain": [
       "K2*t/(K1 + K2)"
      ]
     },
     "execution_count": 153,
     "metadata": {},
     "output_type": "execute_result"
    }
   ],
   "source": [
    "sp.simplify(sol_u[0])"
   ]
  },
  {
   "cell_type": "code",
   "execution_count": 154,
   "metadata": {},
   "outputs": [
    {
     "data": {
      "text/latex": [
       "$\\displaystyle \\frac{t}{2}$"
      ],
      "text/plain": [
       "t/2"
      ]
     },
     "execution_count": 154,
     "metadata": {},
     "output_type": "execute_result"
    }
   ],
   "source": [
    "sp.simplify(sol_u[0]).subs({K1: 1/s(α), K2: 1/s(α)})"
   ]
  },
  {
   "cell_type": "code",
   "execution_count": 155,
   "metadata": {},
   "outputs": [
    {
     "data": {
      "text/latex": [
       "$\\displaystyle \\frac{0.5 K_{1} K_{2} t^{2} μ}{K_{1} + K_{2}}$"
      ],
      "text/plain": [
       "0.5*K1*K2*t**2*μ/(K1 + K2)"
      ]
     },
     "execution_count": 155,
     "metadata": {},
     "output_type": "execute_result"
    }
   ],
   "source": [
    "E=U.subs(u1, sol_u[0]).simplify()\n",
    "E"
   ]
  },
  {
   "cell_type": "code",
   "execution_count": 156,
   "metadata": {},
   "outputs": [
    {
     "data": {
      "text/latex": [
       "$\\displaystyle \\frac{0.25 t^{2} μ \\left(1 - α\\right)}{α \\left(k - 1\\right) + 1}$"
      ],
      "text/plain": [
       "0.25*t**2*μ*(1 - α)/(α*(k - 1) + 1)"
      ]
     },
     "execution_count": 156,
     "metadata": {},
     "output_type": "execute_result"
    }
   ],
   "source": [
    "E.subs({K1: 1/s(α), K2: 1/s(α)})"
   ]
  },
  {
   "cell_type": "code",
   "execution_count": 157,
   "metadata": {},
   "outputs": [
    {
     "data": {
      "text/latex": [
       "$\\displaystyle \\frac{0.5 t^{2} μ}{s_{1} + s_{2}}$"
      ],
      "text/plain": [
       "0.5*t**2*μ/(s1 + s2)"
      ]
     },
     "execution_count": 157,
     "metadata": {},
     "output_type": "execute_result"
    }
   ],
   "source": [
    "E.subs({K1: 1/s1, K2: 1/s2}).simplify()"
   ]
  },
  {
   "cell_type": "code",
   "execution_count": 158,
   "metadata": {},
   "outputs": [
    {
     "data": {
      "text/latex": [
       "$\\displaystyle \\frac{0.25 t^{2} μ \\left(1 - α\\right)}{α \\left(k - 1\\right) + 1}$"
      ],
      "text/plain": [
       "0.25*t**2*μ*(1 - α)/(α*(k - 1) + 1)"
      ]
     },
     "execution_count": 158,
     "metadata": {},
     "output_type": "execute_result"
    }
   ],
   "source": [
    "_E = E.subs({K1: 1/s(α), K2: 1/s(α)})\n",
    "_E"
   ]
  },
  {
   "cell_type": "code",
   "execution_count": 159,
   "metadata": {},
   "outputs": [
    {
     "data": {
      "text/latex": [
       "$\\displaystyle \\frac{0.5 t^{2} μ}{s_{1} s_{2} \\cdot \\left(\\frac{1}{s_{2}} + \\frac{1}{s_{1}}\\right)} + \\frac{w_{1} \\left(α_{1} + α_{2}\\right)}{N^{2}}$"
      ],
      "text/plain": [
       "0.5*t**2*μ/(s1*s2*(1/s2 + 1/s1)) + w1*(α1 + α2)/N**2"
      ]
     },
     "execution_count": 159,
     "metadata": {},
     "output_type": "execute_result"
    }
   ],
   "source": [
    "F = (E+S)\n",
    "# .subs({K1: 1/s(α), K2: 1/s(α)}).subs({})\n",
    "F = (E+S).subs({K1: 1/s1, K2: 1/s2})\n",
    "\n",
    "F"
   ]
  },
  {
   "cell_type": "code",
   "execution_count": 160,
   "metadata": {},
   "outputs": [],
   "source": [
    "# F.subs({K1: 1/s1, K2: 1/s2}).simplify()"
   ]
  },
  {
   "cell_type": "code",
   "execution_count": 161,
   "metadata": {},
   "outputs": [
    {
     "data": {
      "text/latex": [
       "$\\displaystyle - \\frac{0.25 k t^{2} μ}{\\left(k α - α + 1\\right)^{2}} + \\frac{2 w_{1}}{N^{2}}$"
      ],
      "text/plain": [
       "-0.25*k*t**2*μ/(k*α - α + 1)**2 + 2*w1/N**2"
      ]
     },
     "execution_count": 161,
     "metadata": {},
     "output_type": "execute_result"
    }
   ],
   "source": [
    "F = (E+S).subs({K1: 1/s(α), K2: 1/s(α), α1: α, α2: α})\n",
    "\n",
    "Fa = F.diff(α).simplify()\n",
    "Fa"
   ]
  },
  {
   "cell_type": "code",
   "execution_count": 162,
   "metadata": {},
   "outputs": [
    {
     "data": {
      "text/latex": [
       "$\\displaystyle - 0.25 k t^{2} μ + \\frac{2 w_{1}}{N^{2}}$"
      ],
      "text/plain": [
       "-0.25*k*t**2*μ + 2*w1/N**2"
      ]
     },
     "execution_count": 162,
     "metadata": {},
     "output_type": "execute_result"
    }
   ],
   "source": [
    "Fa.subs({α: 0})"
   ]
  },
  {
   "cell_type": "code",
   "execution_count": 163,
   "metadata": {},
   "outputs": [
    {
     "data": {
      "text/latex": [
       "$\\displaystyle \\frac{2.82842712474619 \\sqrt{w_{1}}}{N \\sqrt{k} \\sqrt{μ}}$"
      ],
      "text/plain": [
       "2.82842712474619*sqrt(w1)/(N*sqrt(k)*sqrt(μ))"
      ]
     },
     "execution_count": 163,
     "metadata": {},
     "output_type": "execute_result"
    }
   ],
   "source": [
    "sp.solve(Fa, t)[1].subs({α: 0})"
   ]
  },
  {
   "cell_type": "code",
   "execution_count": 164,
   "metadata": {},
   "outputs": [
    {
     "data": {
      "text/plain": [
       "<function _lambdifygenerated(α, t)>"
      ]
     },
     "execution_count": 164,
     "metadata": {},
     "output_type": "execute_result"
    }
   ],
   "source": [
    "sp.lambdify((α, t), F, 'numpy')"
   ]
  },
  {
   "cell_type": "code",
   "execution_count": 165,
   "metadata": {},
   "outputs": [
    {
     "data": {
      "text/latex": [
       "$\\displaystyle \\frac{0.25 t^{2} μ \\left(1 - α\\right)}{α \\left(k - 1\\right) + 1} + \\frac{2 w_{1} α}{N^{2}}$"
      ],
      "text/plain": [
       "0.25*t**2*μ*(1 - α)/(α*(k - 1) + 1) + 2*w1*α/N**2"
      ]
     },
     "execution_count": 165,
     "metadata": {},
     "output_type": "execute_result"
    }
   ],
   "source": [
    "F"
   ]
  },
  {
   "cell_type": "code",
   "execution_count": 166,
   "metadata": {},
   "outputs": [
    {
     "data": {
      "text/plain": [
       "0.25"
      ]
     },
     "execution_count": 166,
     "metadata": {},
     "output_type": "execute_result"
    }
   ],
   "source": [
    "_F = sp.lambdify((α, t), F.subs(matpar), 'numpy')\n",
    "_F(0, 1)"
   ]
  },
  {
   "cell_type": "code",
   "execution_count": 167,
   "metadata": {},
   "outputs": [
    {
     "data": {
      "text/latex": [
       "$\\displaystyle \\frac{2 \\left(k - 1 - \\frac{α \\left(k - 1\\right) + 1}{α - 1}\\right)}{\\left(α - 1\\right)^{2}}$"
      ],
      "text/plain": [
       "2*(k - 1 - (α*(k - 1) + 1)/(α - 1))/(α - 1)**2"
      ]
     },
     "execution_count": 167,
     "metadata": {},
     "output_type": "execute_result"
    }
   ],
   "source": [
    "s(α).diff(α, 2)"
   ]
  },
  {
   "cell_type": "code",
   "execution_count": 176,
   "metadata": {},
   "outputs": [],
   "source": [
    "\n",
    "α = sp.symbols('α')\n",
    "t, N, k = sp.symbols('t N k')\n",
    "τ = sp.Symbol('τ', positive=True)\n",
    "\n",
    "_α0 = (τ-1)/(k-1)\n",
    "_Ηeye = t**2/(N*s(α))**2 * ((s(α).diff(α))**2 / (N*s(α)) - 1./2.*s(α).diff(α, 2)) \n",
    "_Ηout = t**2*(s(α).diff(α))**2 / (N*s(α))**3\n",
    "\n",
    "\n",
    "# Ηeye = sp.lambdify(τ, _Ηeye.subs(matpar), 'numpy')\n",
    "# Ηout = sp.lambdify(τ, _Ηout.subs(matpar), 'numpy')\n"
   ]
  },
  {
   "cell_type": "code",
   "execution_count": 174,
   "metadata": {},
   "outputs": [
    {
     "data": {
      "text/latex": [
       "$\\displaystyle \\frac{t^{2} \\left(α \\left(k - 1\\right) + \\left(1 - k\\right) \\left(α - 1\\right) + 1\\right) \\left(1.0 N \\left(α \\left(k - 1\\right) + 1\\right) - α \\left(k - 1\\right) - \\left(1 - k\\right) \\left(α - 1\\right) - 1\\right)}{N^{3} \\left(α - 1\\right) \\left(α \\left(k - 1\\right) + 1\\right)^{3}}$"
      ],
      "text/plain": [
       "t**2*(α*(k - 1) + (1 - k)*(α - 1) + 1)*(1.0*N*(α*(k - 1) + 1) - α*(k - 1) - (1 - k)*(α - 1) - 1)/(N**3*(α - 1)*(α*(k - 1) + 1)**3)"
      ]
     },
     "execution_count": 174,
     "metadata": {},
     "output_type": "execute_result"
    }
   ],
   "source": [
    "_Ηeye.simplify()"
   ]
  },
  {
   "cell_type": "code",
   "execution_count": 175,
   "metadata": {},
   "outputs": [
    {
     "data": {
      "text/latex": [
       "$\\displaystyle \\frac{t^{2} \\left(1 - α\\right)^{3} \\left(\\frac{k - 1}{1 - α} + \\frac{α \\left(k - 1\\right) + 1}{\\left(1 - α\\right)^{2}}\\right)^{2}}{N^{3} \\left(α \\left(k - 1\\right) + 1\\right)^{3}}$"
      ],
      "text/plain": [
       "t**2*(1 - α)**3*((k - 1)/(1 - α) + (α*(k - 1) + 1)/(1 - α)**2)**2/(N**3*(α*(k - 1) + 1)**3)"
      ]
     },
     "execution_count": 175,
     "metadata": {},
     "output_type": "execute_result"
    }
   ],
   "source": [
    "_Ηout"
   ]
  },
  {
   "cell_type": "code",
   "execution_count": 178,
   "metadata": {},
   "outputs": [
    {
     "data": {
      "text/latex": [
       "$\\displaystyle \\frac{1.0 k t^{2} \\left(- N k τ + N τ + k^{2} - k\\right)}{N^{3} τ^{3} \\left(k - τ\\right)}$"
      ],
      "text/plain": [
       "1.0*k*t**2*(-N*k*τ + N*τ + k**2 - k)/(N**3*τ**3*(k - τ))"
      ]
     },
     "execution_count": 178,
     "metadata": {},
     "output_type": "execute_result"
    }
   ],
   "source": [
    "_Ηeye.subs({α: _α0}).simplify()"
   ]
  },
  {
   "cell_type": "code",
   "execution_count": 179,
   "metadata": {},
   "outputs": [
    {
     "data": {
      "text/latex": [
       "$\\displaystyle \\frac{0.125 k t^{2} \\cdot \\left(1.0 k^{2} - 2.0 k τ - 1.0 k + 2.0 τ\\right)}{τ^{3} \\left(k - τ\\right)}$"
      ],
      "text/plain": [
       "0.125*k*t**2*(1.0*k**2 - 2.0*k*τ - 1.0*k + 2.0*τ)/(τ**3*(k - τ))"
      ]
     },
     "execution_count": 179,
     "metadata": {},
     "output_type": "execute_result"
    }
   ],
   "source": [
    "_Ηeye.subs({α: _α0, N: 2}).simplify()"
   ]
  },
  {
   "cell_type": "code",
   "execution_count": 180,
   "metadata": {},
   "outputs": [
    {
     "data": {
      "text/latex": [
       "$\\displaystyle \\frac{1 - \\frac{τ - 1}{k - 1}}{1 + \\frac{3 \\left(τ - 1\\right)}{k - 1}}$"
      ],
      "text/plain": [
       "(1 - (τ - 1)/(k - 1))/(1 + 3*(τ - 1)/(k - 1))"
      ]
     },
     "execution_count": 180,
     "metadata": {},
     "output_type": "execute_result"
    }
   ],
   "source": [
    "a_atk(α).subs({α: _α0})"
   ]
  },
  {
   "cell_type": "code",
   "execution_count": 181,
   "metadata": {},
   "outputs": [
    {
     "data": {
      "text/latex": [
       "$\\displaystyle \\frac{τ}{1 - \\frac{τ - 1}{k - 1}}$"
      ],
      "text/plain": [
       "τ/(1 - (τ - 1)/(k - 1))"
      ]
     },
     "execution_count": 181,
     "metadata": {},
     "output_type": "execute_result"
    }
   ],
   "source": [
    "s(α).subs({α: _α0})"
   ]
  },
  {
   "cell_type": "code",
   "execution_count": 185,
   "metadata": {},
   "outputs": [
    {
     "data": {
      "text/latex": [
       "$\\displaystyle \\frac{k \\left(k - 1\\right)^{2}}{\\left(k - τ\\right)^{2}}$"
      ],
      "text/plain": [
       "k*(k - 1)**2/(k - τ)**2"
      ]
     },
     "execution_count": 185,
     "metadata": {},
     "output_type": "execute_result"
    }
   ],
   "source": [
    "s(α).diff(α).subs({α: _α0}).simplify()"
   ]
  },
  {
   "cell_type": "code",
   "execution_count": 184,
   "metadata": {},
   "outputs": [
    {
     "data": {
      "text/latex": [
       "$\\displaystyle \\frac{2 \\left(k - 1\\right)^{2} \\left(τ \\left(k - 1\\right) - \\left(1 - k\\right) \\left(k - τ\\right)\\right)}{\\left(k - τ\\right)^{3}}$"
      ],
      "text/plain": [
       "2*(k - 1)**2*(τ*(k - 1) - (1 - k)*(k - τ))/(k - τ)**3"
      ]
     },
     "execution_count": 184,
     "metadata": {},
     "output_type": "execute_result"
    }
   ],
   "source": [
    "s(α).diff(α, 2).subs({α: _α0}).simplify()"
   ]
  },
  {
   "cell_type": "markdown",
   "metadata": {},
   "source": [
    "Stability condition\n",
    "\n",
    "$$\n",
    " \\frac{s'(\\alpha_0)^2}{Ns_0} - \\frac{s''(\\alpha_0)}{2}<0\n",
    "$$"
   ]
  },
  {
   "cell_type": "code",
   "execution_count": 186,
   "metadata": {},
   "outputs": [
    {
     "data": {
      "text/latex": [
       "$\\displaystyle - \\frac{k - 1 - \\frac{α \\left(k - 1\\right) + 1}{α - 1}}{\\left(α - 1\\right)^{2}} + \\frac{\\left(1 - α\\right) \\left(\\frac{k - 1}{1 - α} + \\frac{α \\left(k - 1\\right) + 1}{\\left(1 - α\\right)^{2}}\\right)^{2}}{N \\left(α \\left(k - 1\\right) + 1\\right)}$"
      ],
      "text/plain": [
       "-(k - 1 - (α*(k - 1) + 1)/(α - 1))/(α - 1)**2 + (1 - α)*((k - 1)/(1 - α) + (α*(k - 1) + 1)/(1 - α)**2)**2/(N*(α*(k - 1) + 1))"
      ]
     },
     "execution_count": 186,
     "metadata": {},
     "output_type": "execute_result"
    }
   ],
   "source": [
    "s(α).diff(α)**2 / (N*s(α)) - s(α).diff(α, 2)/2"
   ]
  },
  {
   "cell_type": "markdown",
   "metadata": {},
   "source": [
    "On the homogeneous solution\n",
    "\n",
    "N= 2\n",
    "\n",
    "$$\n",
    "Ηeye =\\frac{k-1}{k-τ}\\frac{k-2τ}{τ}\n",
    "$$\n",
    "$$\n",
    "Ηout = \\frac{k-1}{k-τ}\\frac{k}{τ}\n",
    "$$"
   ]
  },
  {
   "cell_type": "code",
   "execution_count": 200,
   "metadata": {},
   "outputs": [
    {
     "data": {
      "text/latex": [
       "$\\displaystyle - \\frac{k - \\frac{τ}{-1 + \\frac{τ - 1}{k - 1}} - 1}{\\left(-1 + \\frac{τ - 1}{k - 1}\\right)^{2}} + \\frac{\\left(1 - \\frac{τ - 1}{k - 1}\\right) \\left(\\frac{τ}{\\left(1 - \\frac{τ - 1}{k - 1}\\right)^{2}} + \\frac{k - 1}{1 - \\frac{τ - 1}{k - 1}}\\right)^{2}}{N τ}$"
      ],
      "text/plain": [
       "-(k - τ/(-1 + (τ - 1)/(k - 1)) - 1)/(-1 + (τ - 1)/(k - 1))**2 + (1 - (τ - 1)/(k - 1))*(τ/(1 - (τ - 1)/(k - 1))**2 + (k - 1)/(1 - (τ - 1)/(k - 1)))**2/(N*τ)"
      ]
     },
     "execution_count": 200,
     "metadata": {},
     "output_type": "execute_result"
    }
   ],
   "source": [
    "(s(α).diff(α)**2 / (N*s(α)) - s(α).diff(α, 2)/2 ).subs({α: _α0})"
   ]
  },
  {
   "cell_type": "code",
   "execution_count": 194,
   "metadata": {},
   "outputs": [],
   "source": [
    "_hstability = ( s(α).diff(α)**2 / (N*s(α)) - s(α).diff(α, 2)/2 ).subs({α: _α0})\n",
    "hstability = sp.lambdify((τ, N, k), _hstability, 'numpy')\n"
   ]
  },
  {
   "cell_type": "code",
   "execution_count": 197,
   "metadata": {},
   "outputs": [
    {
     "data": {
      "text/plain": [
       "[<matplotlib.lines.Line2D at 0x15d2d7c70>]"
      ]
     },
     "execution_count": 197,
     "metadata": {},
     "output_type": "execute_result"
    },
    {
     "data": {
      "image/png": "[encoded data removed]",
      "text/plain": [
       "<Figure size 432x288 with 1 Axes>"
      ]
     },
     "metadata": {},
     "output_type": "display_data"
    }
   ],
   "source": [
    "plt.plot(data.load, hstability(data.load, 2, 4))"
   ]
  },
  {
   "cell_type": "code",
   "execution_count": null,
   "metadata": {},
   "outputs": [],
   "source": [
    "data.load;"
   ]
  },
  {
   "cell_type": "markdown",
   "metadata": {},
   "source": [
    "## Verification"
   ]
  },
  {
   "cell_type": "code",
   "execution_count": 27,
   "metadata": {},
   "outputs": [
    {
     "ename": "NameError",
     "evalue": "name 'data' is not defined",
     "output_type": "error",
     "traceback": [
      "\u001b[0;31m---------------------------------------------------------------------------\u001b[0m",
      "\u001b[0;31mNameError\u001b[0m                                 Traceback (most recent call last)",
      "\u001b[1;32m/Users/kumiori/Documents/WIP/m4s-MEC647/mec647/playground/nb/cone-stability.ipynb Cell 32'\u001b[0m in \u001b[0;36m<cell line: 1>\u001b[0;34m()\u001b[0m\n\u001b[0;32m----> <a href='vscode-notebook-cell:/Users/kumiori/Documents/WIP/m4s-MEC647/mec647/playground/nb/cone-stability.ipynb#ch0000026?line=0'>1</a>\u001b[0m plt\u001b[39m.\u001b[39mplot(data\u001b[39m.\u001b[39mload, _F(\u001b[39m0\u001b[39m, data\u001b[39m.\u001b[39mload\u001b[39m.\u001b[39mvalues))\n\u001b[1;32m      <a href='vscode-notebook-cell:/Users/kumiori/Documents/WIP/m4s-MEC647/mec647/playground/nb/cone-stability.ipynb#ch0000026?line=1'>2</a>\u001b[0m plt\u001b[39m.\u001b[39mplot(data\u001b[39m.\u001b[39mload, data\u001b[39m.\u001b[39melastic_energy, ls\u001b[39m=\u001b[39m\u001b[39m'\u001b[39m\u001b[39mdotted\u001b[39m\u001b[39m'\u001b[39m, lw\u001b[39m=\u001b[39m\u001b[39m4\u001b[39m)\n",
      "\u001b[0;31mNameError\u001b[0m: name 'data' is not defined"
     ]
    }
   ],
   "source": [
    "plt.plot(data.load, _F(0, data.load.values))\n",
    "plt.plot(data.load, data.elastic_energy, ls='dotted', lw=4)"
   ]
  },
  {
   "cell_type": "code",
   "execution_count": null,
   "metadata": {},
   "outputs": [],
   "source": [
    "matpar"
   ]
  },
  {
   "cell_type": "code",
   "execution_count": null,
   "metadata": {},
   "outputs": [],
   "source": [
    "_tc = sp.solve(Fa, t)[1].subs({α: 0})\n",
    "_tc\n",
    "__tc = _tc.subs({k: 3, w1: 1, N: 2, μ: 1})\n",
    "sp.N(__tc)"
   ]
  },
  {
   "cell_type": "code",
   "execution_count": null,
   "metadata": {},
   "outputs": [],
   "source": [
    "sp.N(_tc.subs(matpar))"
   ]
  },
  {
   "cell_type": "code",
   "execution_count": null,
   "metadata": {},
   "outputs": [],
   "source": [
    "# params, data, signature = pp.load_data(experiment)\n",
    "\n",
    "plt.plot(data.load, data.fracture_energy, label = 'damage')\n",
    "plt.plot(data.load, data.elastic_energy, label = 'elastic')\n",
    "_total = data.fracture_energy + data.elastic_energy\n",
    "plt.plot(data.load, _total, label = 'total')\n",
    "# plt.axvline(__tc, c='k')\n",
    "plt.axvline(_tc.subs(matpar), c='k', lw=1)\n",
    "plt.legend()\n",
    "plt.xlabel('load')\n",
    "plt.ylabel('Energy')\n",
    "\n",
    "plt.plot(data.load, _F(0, data.load.values), ls = 'dotted')\n",
    "# plt.plot(data.load, 2*Ef(0, data.load.values), ls = 'dotted')\n",
    "\n",
    "\n",
    "plt.xticks([_tc.subs(matpar), _k], ['$t_c$', '$k$'])\n",
    "plt.title(f'N={_N}, k={_k}')\n",
    "\n"
   ]
  },
  {
   "cell_type": "code",
   "execution_count": 216,
   "metadata": {},
   "outputs": [],
   "source": [
    "## Simple Analytic \n",
    "α, α1, α2, e1, e2 = sp.symbols('α α1 α2 e1 e2')\n",
    "w1 = sp.symbols('w1', positive=True)\n",
    "τ = sp.Symbol('τ', positive=True)\n",
    "k = sp.Symbol('k', positive=True)\n",
    "\n",
    "# _N = 2\n",
    "\n",
    "Ηeye = lambda τ: w1*(k-1)/(k-τ)*(k-2*τ)/τ\n",
    "Ηout = lambda τ: w1*(k-1)/(k-τ)*k/τ\n",
    "\n",
    "matpar = {k: _k, w1: _w1, N: _N, μ: _mu}\n",
    "\n",
    "_Ηeye = N**2*w1*(k-1)/(k-τ)*(k-2*τ)/τ\n",
    "_Ηout = w1*(k-1)/(k-τ)*k/τ\n",
    "\n",
    "# _Ηeye = sp.lambdify(τ, _Ηeye.subs(matpar), 'numpy')\n",
    "# _Ηeye(0)\n"
   ]
  },
  {
   "cell_type": "code",
   "execution_count": 269,
   "metadata": {},
   "outputs": [],
   "source": [
    "# _Ηeye\n",
    "Ηeye = sp.lambdify(τ, _Ηeye.subs(matpar), 'numpy')\n",
    "Ηout = sp.lambdify(τ, _Ηout.subs(matpar), 'numpy')\n"
   ]
  },
  {
   "cell_type": "code",
   "execution_count": 218,
   "metadata": {},
   "outputs": [
    {
     "name": "stderr",
     "output_type": "stream",
     "text": [
      "<lambdifygenerated-7>:2: RuntimeWarning: divide by zero encountered in true_divide\n",
      "  return 24*(4 - 2*τ)/(τ*(4 - τ))\n",
      "<lambdifygenerated-8>:2: RuntimeWarning: divide by zero encountered in true_divide\n",
      "  return 24/(τ*(4 - τ))\n"
     ]
    },
    {
     "data": {
      "text/plain": [
       "<matplotlib.legend.Legend at 0x15efdffd0>"
      ]
     },
     "execution_count": 218,
     "metadata": {},
     "output_type": "execute_result"
    },
    {
     "data": {
      "image/png": "[encoded data removed]",
      "text/plain": [
       "<Figure size 432x288 with 1 Axes>"
      ]
     },
     "metadata": {},
     "output_type": "display_data"
    }
   ],
   "source": [
    "τs = np.linspace(0.01, matpar[k], 30)\n",
    "plt.plot(τs, Ηeye(τs), label='$H_o^1$')\n",
    "plt.plot(τs, Ηout(τs), label='$H^o_1$')\n",
    "\n",
    "# for n in range(2, 3):\n",
    "    # plt.plot(τs, 4*Ηeye(τs)/n**2, label=f'$H_o^{n}$')\n",
    "    # plt.plot(τs, 4*Ηout(τs)/n**2, label=f'$H^o_{n}$')\n",
    "\n",
    "plt.ylim(0, 40)\n",
    "\n",
    "# plt.xticks([_tc.subs(matpar), _k], ['$t_c$', '$k$'])\n",
    "plt.xticks([0, _k/2, _k], ['$1 (=t_c)$', '$k/2$','$k$'])\n",
    "plt.title(\"Eye and off-diagonal elements of Hessian along the homogeneous, N=2\")\n",
    "plt.legend()"
   ]
  },
  {
   "cell_type": "code",
   "execution_count": null,
   "metadata": {},
   "outputs": [],
   "source": [
    "A, B = sp.symbols('A B')\n",
    "H = sp.Matrix([[A-B, A],\n",
    "           [A, A-B]])\n"
   ]
  },
  {
   "cell_type": "code",
   "execution_count": 135,
   "metadata": {},
   "outputs": [],
   "source": [
    "def _critical_load(matpar):\n",
    "    _mu, _k, _w1, _N = matpar[\"mu\"], matpar[\"k\"], matpar[\"w1\"], matpar[\"N\"]\n",
    "    return np.sqrt(8*_w1 / (_mu*_k)/4)\n",
    "    # independent of _N**2\n",
    "\n",
    "def a_atk(alpha):\n",
    "    return (1 - alpha) / ((_k-1) * alpha + 1)\n",
    "\n",
    "def s_atk(alpha):\n",
    "    return 1/a_atk(alpha)\n",
    "\n",
    "def _homogeneous_state(t, matpar):\n",
    "    \"\"\"docstring for _homogeneous_state\"\"\"\n",
    "    _mu, _k, _w1, _N = matpar[\"mu\"], matpar[\"k\"], matpar[\"w1\"], matpar[\"N\"]\n",
    "\n",
    "\n",
    "    # _tc = np.sqrt(matpar/k)\n",
    "    # _a = (tau - 1) / (_k - 1)\n",
    "\n",
    "    _tc = _critical_load(params[\"model\"])\n",
    "    _uh = [0 for i in range(0, _N+1)]\n",
    "    \n",
    "    if t <= _tc:\n",
    "        # elastic\n",
    "        _alphah = [0. for i in range(0, _N)]\n",
    "        _uh = [i*t/_N for i in range(0, _N+1)]\n",
    "    else:   \n",
    "        # damaging\n",
    "        _α = (t/_tc - 1) / (_k - 1)\n",
    "        _alphah = [_α for i in range(0, _N)]\n",
    "\n",
    "        # _S = reduce(lambda a, b: a+b, list(map(a_atk, _alphah)))\n",
    "        \n",
    "        _S = _N*a_atk(_α)\n",
    "\n",
    "        _e = t / _N\n",
    "        for i in range(0, _N+1):\n",
    "            if i == 0:\n",
    "                _uh[i] = 0\n",
    "            else: \n",
    "                _uh[i] = _e * i\n",
    "        # _uh = [a_atk(_α) / (_N*a_atk(_α)) * i/_N for i in range(0, _N+1)]\n",
    "        # print(t, _e)\n",
    "    return _alphah, _uh"
   ]
  },
  {
   "cell_type": "code",
   "execution_count": 136,
   "metadata": {},
   "outputs": [
    {
     "data": {
      "text/plain": [
       "([0.0, 0.0], [0.0, 0.5, 1.0])"
      ]
     },
     "execution_count": 136,
     "metadata": {},
     "output_type": "execute_result"
    }
   ],
   "source": [
    "_homogeneous_state(1, params[\"model\"])"
   ]
  },
  {
   "cell_type": "code",
   "execution_count": 137,
   "metadata": {},
   "outputs": [
    {
     "data": {
      "text/plain": [
       "2.0"
      ]
     },
     "execution_count": 137,
     "metadata": {},
     "output_type": "execute_result"
    }
   ],
   "source": [
    "_α = .2\n",
    "a_atk(_α)\n",
    "_alphah = [_α for i in range(0, _N)]\n",
    "_alphah\n",
    "_S = reduce(lambda a, b: a+b, list(map(a_atk, _alphah)))\n",
    "\n",
    "s_atk(_α) / _S\n"
   ]
  },
  {
   "cell_type": "markdown",
   "metadata": {},
   "source": [
    "s"
   ]
  },
  {
   "cell_type": "code",
   "execution_count": 138,
   "metadata": {},
   "outputs": [],
   "source": [
    "from functools import reduce\n",
    "# reduce(sum,)\n",
    "# reduce(sum, [1, 2, 3])\n",
    "# list(map(a_atk, _alphah))\n",
    "\n"
   ]
  },
  {
   "cell_type": "code",
   "execution_count": 140,
   "metadata": {},
   "outputs": [
    {
     "data": {
      "text/plain": [
       "1.0"
      ]
     },
     "execution_count": 140,
     "metadata": {},
     "output_type": "execute_result"
    }
   ],
   "source": [
    "_critical_load(params[\"model\"])"
   ]
  },
  {
   "cell_type": "code",
   "execution_count": 141,
   "metadata": {},
   "outputs": [
    {
     "name": "stderr",
     "output_type": "stream",
     "text": [
      "/var/folders/9t/b79vbddd6cz3hhc20g8hk86m0000gn/T/ipykernel_98610/3134143365.py:10: RuntimeWarning: divide by zero encountered in double_scalars\n",
      "  return 1/a_atk(alpha)\n"
     ]
    },
    {
     "data": {
      "text/plain": [
       "(0.0, 3.0)"
      ]
     },
     "execution_count": 141,
     "metadata": {},
     "output_type": "execute_result"
    },
    {
     "data": {
      "image/png": "[encoded data removed]",
      "text/plain": [
       "<Figure size 432x288 with 1 Axes>"
      ]
     },
     "metadata": {},
     "output_type": "display_data"
    }
   ],
   "source": [
    "_alphas = [_homogeneous_state(t, params[\"model\"])[0][0] for t in data.load]\n",
    "plt.plot(data.load, _alphas, c='k')\n",
    "plt.plot(data.load, [a_atk(a) for a in _alphas], c='k')\n",
    "plt.plot(data.load, [s_atk(a) for a in _alphas])\n",
    "# plt.plot(data.load, [s_atk(a)/(_N*s_atk(a)) for a in _alphas])\n",
    "plt.ylim(0, 3)\n"
   ]
  },
  {
   "cell_type": "code",
   "execution_count": 143,
   "metadata": {},
   "outputs": [
    {
     "data": {
      "text/plain": [
       "(0.0, 4.0)"
      ]
     },
     "execution_count": 143,
     "metadata": {},
     "output_type": "execute_result"
    },
    {
     "data": {
      "image/png": "[encoded data removed]",
      "text/plain": [
       "<Figure size 432x288 with 1 Axes>"
      ]
     },
     "metadata": {},
     "output_type": "display_data"
    }
   ],
   "source": [
    "# _homogeneous_state(.1, params[\"model\"])\n",
    "\n",
    "plt.plot(data.load, [_homogeneous_state(t, params[\"model\"])[0][0] for t in data.load], c='k')\n",
    "plt.plot(data.load, [_homogeneous_state(t, params[\"model\"])[1][1] for t in data.load])\n",
    "plt.xlim([0, _tc*_k])\n",
    "# plt.ylim(0, 10)\n"
   ]
  },
  {
   "cell_type": "markdown",
   "metadata": {},
   "source": [
    "## End analysis"
   ]
  },
  {
   "cell_type": "code",
   "execution_count": null,
   "metadata": {},
   "outputs": [],
   "source": [
    "data;"
   ]
  },
  {
   "cell_type": "code",
   "execution_count": null,
   "metadata": {},
   "outputs": [],
   "source": [
    "plt.plot(data.load, data.F, label = 'stress')\n",
    "# plt.plot(data.load, data.elastic_energy, label = 'elastic')\n",
    "# _total = data.fracture_energy + data.elastic_energy\n",
    "# plt.plot(data.load, _total, label = 'total')\n",
    "plt.legend()\n",
    "plt.xlabel('load')\n",
    "plt.ylabel('stress')\n",
    "# plt.axhline(_σc/2, c='k')\n",
    "\n",
    "plt.axvline(_tc.subs(matpar), c='k', lw=1)\n",
    "\n",
    "plt.xticks([_tc.subs(matpar), _k], ['$t_c$', '$k$'])\n",
    "plt.title(f'N={_N}, k={_k}')\n"
   ]
  },
  {
   "cell_type": "code",
   "execution_count": null,
   "metadata": {},
   "outputs": [],
   "source": [
    "for k in range(model_parameters[\"N\"]):\n",
    "    plt.plot(data.load, [a[k] for a in data.alpha_t], label=f'$\\\\alpha_{k}$')\n",
    "\n",
    "plt.title(\"$\\\\alpha$\")\n",
    "plt.legend()\n",
    "plt.axhline(1, c='k')\n",
    "\n",
    "plt.axvline(_tc.subs(matpar), c='k', lw=1)\n",
    "\n",
    "plt.xticks([_tc.subs(matpar), _k], ['$t_c$', '$k$'])\n",
    "plt.title(f'N={_N}, k={_k}')\n"
   ]
  },
  {
   "cell_type": "code",
   "execution_count": null,
   "metadata": {},
   "outputs": [],
   "source": [
    "for k in range(model_parameters[\"N\"]+1):\n",
    "    plt.plot(data.load, [u[k] for u in data.u_t], label=f'$u_{k}$')\n",
    "plt.plot(data.load, 1/_mu*data.load/2, label=f'$u^*$', ls='dotted', lw=4)\n",
    "\n",
    "plt.legend()\n",
    "plt.title(\"$u$\")\n",
    "plt.axhline(data.load.values[-1], c='k')\n",
    "\n",
    "plt.axvline(_tc.subs(matpar), c='k', lw=1)\n",
    "plt.axvline(_k, c='k', lw=1)\n",
    "\n",
    "plt.xticks([_tc.subs(matpar), _k], ['$t_c$', '$k$'])\n",
    "plt.title(f'N={_N}, k={_k}')\n"
   ]
  },
  {
   "cell_type": "code",
   "execution_count": null,
   "metadata": {},
   "outputs": [],
   "source": [
    "for i in range(len(data.cone_data)):\n",
    "    plt.plot(data.cone_data[i]['error_x_L2'], label=f'step {i}')\n",
    "plt.semilogy()\n",
    "# plt.legend()\n",
    "plt.xlabel('iterations')\n",
    "plt.ylabel('$||\\Delta x_k||_{L^2}$')\n"
   ]
  },
  {
   "cell_type": "code",
   "execution_count": null,
   "metadata": {},
   "outputs": [],
   "source": [
    "data.cone_data[3].keys()"
   ]
  },
  {
   "cell_type": "code",
   "execution_count": null,
   "metadata": {},
   "outputs": [],
   "source": [
    "_stab_cnd = [0 if data[\"cone-stable\"][i]==True else 1 for i in range(len(data))]\n",
    "_stab_cnd;"
   ]
  },
  {
   "cell_type": "code",
   "execution_count": null,
   "metadata": {},
   "outputs": [],
   "source": [
    "for i in range(len(data.cone_data)):\n",
    "    plt.plot(data.cone_data[i]['y_norm_L2'], label=f'step {i}')\n",
    "# plt.semilogy()\n",
    "# plt.legend()\n",
    "plt.axhline(0, c='k')\n",
    "plt.xlabel('iterations')\n",
    "plt.ylabel('$||y_k||_{L^2}$')\n"
   ]
  },
  {
   "cell_type": "code",
   "execution_count": null,
   "metadata": {},
   "outputs": [],
   "source": [
    "for i in range(len(data.cone_data)):\n",
    "    plt.plot(data.cone_data[i]['lambda_k'], label=f'step {i}')\n",
    "plt.axhline(0, c='k')\n",
    "plt.title('Convergence of eigenvalues')\n",
    "plt.xlabel('iterations')\n"
   ]
  },
  {
   "cell_type": "code",
   "execution_count": null,
   "metadata": {},
   "outputs": [],
   "source": [
    "_asd = np.array([step[\"lambda_0\"] for step in data[\"cone_data\"]])\n",
    "# [0 if x==3 for x in _asd]\n",
    "_lambda_0 = [np.nan if type(a) is list else a for a in _asd ]\n",
    "plt.plot(data.load, _lambda_0, marker='o', ls='')\n",
    "plt.axhline(0, c='k')\n",
    "# plt.ylim([0, 1.])\n",
    "plt.xlim([0, _k])\n",
    "\n",
    "plt.axvline(_tc.subs(matpar), c='k', lw=1)\n",
    "plt.axvline(_k, c='k', lw=1)\n",
    "\n",
    "plt.xticks([_tc.subs(matpar), _k], ['$t_c$', '$k$'])\n",
    "plt.fill_between(data.load, 0, 1, where=[not s for s in _stab_cnd], color='green', alpha=0.5)\n",
    "plt.fill_between(data.load, 0, 1, where=_stab_cnd,color='red', alpha=0.5)\n",
    "\n",
    "plt.title('Minimum eigenvalue and stability')"
   ]
  },
  {
   "cell_type": "code",
   "execution_count": null,
   "metadata": {},
   "outputs": [],
   "source": [
    "plt.scatter(data.load, _lambda_0, c=_stab_cnd, cmap='RdYlGn_r', alpha=.8)\n",
    "plt.xlim([0, _k])\n",
    "plt.ylim([-1, 1])\n",
    "plt.axhline(0, c='k')\n",
    "\n",
    "plt.title('Stability, minimum K-eigen')"
   ]
  },
  {
   "cell_type": "code",
   "execution_count": null,
   "metadata": {},
   "outputs": [],
   "source": [
    "data;"
   ]
  },
  {
   "cell_type": "code",
   "execution_count": null,
   "metadata": {},
   "outputs": [],
   "source": [
    "\n",
    "\n",
    "# plt.plot(_stab_cnd)\n",
    "plt.plot(data.load, data.fracture_energy)\n",
    "plt.fill_between(data.load, 0, 1, where=_stab_cnd,color='red', alpha=0.5)\n",
    "plt.fill_between(data.load, 0, 1, where=[not s for s in _stab_cnd], color='green', alpha=0.5)"
   ]
  },
  {
   "cell_type": "code",
   "execution_count": null,
   "metadata": {},
   "outputs": [],
   "source": [
    "plt.plot(data.load, data.F, label = 'stress')\n",
    "plt.fill_between(data.load, 0, .1, where=_stab_cnd,color='red', alpha=0.5)\n",
    "plt.fill_between(data.load, 0, .1, where=[not s for s in _stab_cnd], color='green', alpha=0.5)\n",
    "plt.legend()\n",
    "\n",
    "plt.axvline(_tc.subs(matpar), c='k', lw=1)\n",
    "plt.axvline(_k, c='k', lw=1)\n",
    "plt.axvline(_k/2, c='k', lw=1)\n",
    "\n",
    "plt.xticks([_tc.subs(matpar), _k/2, _k], ['$t_c$', '$k/2$', '$k$'])\n",
    "plt.title(f'N={_N}, k={_k}')\n",
    "\n"
   ]
  },
  {
   "cell_type": "code",
   "execution_count": null,
   "metadata": {},
   "outputs": [],
   "source": [
    "[converged['iterations'] for converged in data.cone_data]\n",
    "# [converged['lambda_k'] for converged in data.cone_data]"
   ]
  },
  {
   "cell_type": "code",
   "execution_count": null,
   "metadata": {},
   "outputs": [],
   "source": [
    "asd = np.array([converged['lambda_k'][-1] for converged in data.cone_data if isinstance(converged['iterations'], int)])\n",
    "asd\n",
    "# plt.plot(asd)"
   ]
  },
  {
   "cell_type": "code",
   "execution_count": null,
   "metadata": {},
   "outputs": [],
   "source": [
    "[converged['lambda_k'][-1] for converged in data.cone_data if len(converged['lambda_k'])>0]"
   ]
  },
  {
   "cell_type": "markdown",
   "metadata": {},
   "source": [
    "## N=3"
   ]
  },
  {
   "cell_type": "markdown",
   "metadata": {},
   "source": [
    "Vivo alla base, ho  srotolato solo hardcore / mi alleno co' Alien D: pronto Ensi  per i lividi / . Missione Speciale: FeasterRootsConnect. _Complete_ co' un risultato universale..:"
   ]
  },
  {
   "cell_type": "code",
   "execution_count": null,
   "metadata": {},
   "outputs": [],
   "source": [
    "experiment = '../../practice/output/discrete-atk-N3'\n",
    "params, data, signature = pp.load_data(experiment)\n",
    "model_parameters = params.get(\"model\")\n",
    "\n",
    "_mu, _w1, _k, _N = model_parameters.get(\"mu\"), model_parameters.get(\n",
    "    \"w1\"), model_parameters.get(\"k\"), model_parameters[\"N\"]\n",
    "\n",
    "model_parameters"
   ]
  },
  {
   "cell_type": "code",
   "execution_count": null,
   "metadata": {},
   "outputs": [],
   "source": [
    "_stab_cnd = [0 if data[\"cone-stable\"][i]==True else 1 for i in range(len(data))]\n",
    "# _stab_cnd\n",
    "data[\"cone-stable\"];\n",
    "np.array([step[\"lambda_0\"] for step in data[\"cone_data\"]])"
   ]
  },
  {
   "cell_type": "code",
   "execution_count": null,
   "metadata": {},
   "outputs": [],
   "source": [
    "_postprocess_stability(data)\n",
    "b"
   ]
  },
  {
   "cell_type": "code",
   "execution_count": null,
   "metadata": {},
   "outputs": [],
   "source": [
    "_postprocess_stability2(data)\n"
   ]
  },
  {
   "cell_type": "markdown",
   "metadata": {},
   "source": [
    "## N=4"
   ]
  },
  {
   "cell_type": "markdown",
   "metadata": {},
   "source": [
    "Vivo alla base, ho  srotolato solo hardcore / mi alleno co' Alien D: pronto Ensi  per i lividi / . Missione Speciale: FeasterRootsConnect. _Complete_ co' un risultato universale..:"
   ]
  },
  {
   "cell_type": "code",
   "execution_count": null,
   "metadata": {},
   "outputs": [],
   "source": [
    "experiment = '../../test/output/discrete-atk-N4'\n",
    "params, data, signature = pp.load_data(experiment)\n",
    "model_parameters = params.get(\"model\")\n",
    "\n",
    "_mu, _w1, _k, _N = model_parameters.get(\"mu\"), model_parameters.get(\n",
    "    \"w1\"), model_parameters.get(\"k\"), model_parameters[\"N\"]\n",
    "\n",
    "model_parameters"
   ]
  },
  {
   "cell_type": "code",
   "execution_count": null,
   "metadata": {},
   "outputs": [],
   "source": [
    "_postprocess_stability(data)\n",
    "_postprocess_stability2(data)\n",
    "\n"
   ]
  },
  {
   "cell_type": "markdown",
   "metadata": {},
   "source": [
    "## N=5"
   ]
  },
  {
   "cell_type": "code",
   "execution_count": null,
   "metadata": {},
   "outputs": [],
   "source": [
    "experiment = '../../test/output/discrete-atk-N5'\n",
    "params, data, signature = pp.load_data(experiment)\n",
    "model_parameters = params.get(\"model\")\n",
    "\n",
    "_mu, _w1, _k, _N = model_parameters.get(\"mu\"), model_parameters.get(\n",
    "    \"w1\"), model_parameters.get(\"k\"), model_parameters[\"N\"]\n",
    "\n",
    "model_parameters"
   ]
  },
  {
   "cell_type": "code",
   "execution_count": null,
   "metadata": {},
   "outputs": [],
   "source": [
    "_postprocess_stability(data)\n",
    "_postprocess_stability2(data)\n",
    "\n"
   ]
  },
  {
   "cell_type": "markdown",
   "metadata": {},
   "source": [
    "## Parametric"
   ]
  },
  {
   "cell_type": "code",
   "execution_count": null,
   "metadata": {},
   "outputs": [],
   "source": [
    "for _n in np.arange(2, 6):\n",
    "    print(_n)\n",
    "    experiment = f'../../test/output/discrete-atk-N{_n}'\n",
    "    params, data, signature = pp.load_data(experiment)\n",
    "    model_parameters = params.get(\"model\")\n",
    "\n",
    "    _mu, _w1, _k, _N = model_parameters.get(\"mu\"), model_parameters.get(\n",
    "        \"w1\"), model_parameters.get(\"k\"), model_parameters[\"N\"]\n",
    "    _postprocess_stability(data)\n",
    "    _postprocess_stability2(data)\n",
    "\n",
    "\n"
   ]
  },
  {
   "cell_type": "code",
   "execution_count": 305,
   "metadata": {},
   "outputs": [],
   "source": [
    "def _plot_min_sigmaKappa(data, axis=None, params=None):\n",
    "    \"\"\"docstring for _plot_min_sigmaKappa\"\"\"\n",
    "     \n",
    "    if axis is None:\n",
    "        figure, axis = plt.subplots(1, 1, figsize=(12, 9))\n",
    "    \n",
    "    _asd = np.array([step[\"lambda_0\"] for step in data[\"cone_data\"]])\n",
    "    _lambda_0 = [np.nan if type(a) is list else a for a in _asd ]\n",
    "    _stab_cnd = [0 if data[\"cone-stable\"][i]==True else 1 for i in range(len(data))]\n",
    "\n",
    "\n",
    "    if params is None:\n",
    "        _params = matpar\n",
    "    else:\n",
    "        _params = params\n",
    "        _tc = _critical_load(params)\n",
    "    # print(_tc)\n",
    "    \n",
    "    _ax = axis\n",
    "    # [0 if x==3 for x in _asd]\n",
    "    _ax.plot(data.load, _lambda_0, marker='o', ls='', label=f\"N={params['N']}\")\n",
    "    _ax.axhline(0, c='k')\n",
    "    # _ax.ylim([0, 1.])\n",
    "    _ax.set_xlim([0, _k])\n",
    "\n",
    "    _ax.axvline(_tc, c='k', lw=1)\n",
    "    # _ax.axvline(_tc.subs(_params), c='k', lw=1)\n",
    "    _ax.axvline(_k, c='k', lw=1)\n",
    "\n",
    "    _ax.set_xticks([_tc, _k], ['$t_c$', '$k$'])\n",
    "    # _ax.set_xticks([_tc.subs(_params), _k], ['$t_c$', '$k$'])\n",
    "    # _ax.fill_between(data.load, 0, 1, where=[not s for s in _stab_cnd], color='green', alpha=0.2)\n",
    "    _ax.fill_between(data.load, 0, 1, where=_stab_cnd,color='red', alpha=0.2)\n",
    "    _ax.set_title('Inf of the K-spectrum and stability')\n",
    "\n",
    "    _ax.legend(loc=2)\n",
    "\n",
    "    return _ax"
   ]
  },
  {
   "cell_type": "code",
   "execution_count": 32,
   "metadata": {},
   "outputs": [
    {
     "name": "stderr",
     "output_type": "stream",
     "text": [
      "/var/folders/9t/b79vbddd6cz3hhc20g8hk86m0000gn/T/ipykernel_98610/1708371343.py:7: VisibleDeprecationWarning: Creating an ndarray from ragged nested sequences (which is a list-or-tuple of lists-or-tuples-or ndarrays with different lengths or shapes) is deprecated. If you meant to do this, you must specify 'dtype=object' when creating the ndarray.\n",
      "  _asd = np.array([step[\"lambda_0\"] for step in data[\"cone_data\"]])\n"
     ]
    },
    {
     "data": {
      "text/plain": [
       "<AxesSubplot:title={'center':'Inf of the K-spectrum and stability'}>"
      ]
     },
     "execution_count": 32,
     "metadata": {},
     "output_type": "execute_result"
    },
    {
     "data": {
      "image/png": "[encoded data removed]",
      "text/plain": [
       "<Figure size 864x648 with 1 Axes>"
      ]
     },
     "metadata": {},
     "output_type": "display_data"
    }
   ],
   "source": [
    "experiment = f'../../test/output/discrete-atk-N2'\n",
    "params, data, signature = pp.load_data(experiment)\n",
    "\n",
    "_mu, _w1, _k, _N = params[\"model\"].get(\"mu\"), params[\"model\"].get(\n",
    "        \"w1\"), params[\"model\"].get(\"k\"), params[\"model\"][\"N\"]\n",
    "\n",
    "# _tc = _critical_load(params[\"model\"])\n",
    "# print(_tc)\n",
    "_plot_min_sigmaKappa(data, params = params[\"model\"])\n"
   ]
  },
  {
   "cell_type": "code",
   "execution_count": null,
   "metadata": {},
   "outputs": [],
   "source": []
  },
  {
   "cell_type": "code",
   "execution_count": 38,
   "metadata": {},
   "outputs": [
    {
     "data": {
      "text/plain": [
       "4"
      ]
     },
     "execution_count": 38,
     "metadata": {},
     "output_type": "execute_result"
    }
   ],
   "source": [
    "_k"
   ]
  },
  {
   "cell_type": "code",
   "execution_count": 37,
   "metadata": {},
   "outputs": [
    {
     "name": "stdout",
     "output_type": "stream",
     "text": [
      "2\n",
      "3\n",
      "4\n",
      "5\n"
     ]
    },
    {
     "name": "stderr",
     "output_type": "stream",
     "text": [
      "/var/folders/9t/b79vbddd6cz3hhc20g8hk86m0000gn/T/ipykernel_98610/1708371343.py:7: VisibleDeprecationWarning: Creating an ndarray from ragged nested sequences (which is a list-or-tuple of lists-or-tuples-or ndarrays with different lengths or shapes) is deprecated. If you meant to do this, you must specify 'dtype=object' when creating the ndarray.\n",
      "  _asd = np.array([step[\"lambda_0\"] for step in data[\"cone_data\"]])\n",
      "/var/folders/9t/b79vbddd6cz3hhc20g8hk86m0000gn/T/ipykernel_98610/1708371343.py:7: VisibleDeprecationWarning: Creating an ndarray from ragged nested sequences (which is a list-or-tuple of lists-or-tuples-or ndarrays with different lengths or shapes) is deprecated. If you meant to do this, you must specify 'dtype=object' when creating the ndarray.\n",
      "  _asd = np.array([step[\"lambda_0\"] for step in data[\"cone_data\"]])\n",
      "/var/folders/9t/b79vbddd6cz3hhc20g8hk86m0000gn/T/ipykernel_98610/1708371343.py:7: VisibleDeprecationWarning: Creating an ndarray from ragged nested sequences (which is a list-or-tuple of lists-or-tuples-or ndarrays with different lengths or shapes) is deprecated. If you meant to do this, you must specify 'dtype=object' when creating the ndarray.\n",
      "  _asd = np.array([step[\"lambda_0\"] for step in data[\"cone_data\"]])\n",
      "/var/folders/9t/b79vbddd6cz3hhc20g8hk86m0000gn/T/ipykernel_98610/1708371343.py:7: VisibleDeprecationWarning: Creating an ndarray from ragged nested sequences (which is a list-or-tuple of lists-or-tuples-or ndarrays with different lengths or shapes) is deprecated. If you meant to do this, you must specify 'dtype=object' when creating the ndarray.\n",
      "  _asd = np.array([step[\"lambda_0\"] for step in data[\"cone_data\"]])\n"
     ]
    },
    {
     "data": {
      "text/plain": [
       "<matplotlib.lines.Line2D at 0x1597959d0>"
      ]
     },
     "execution_count": 37,
     "metadata": {},
     "output_type": "execute_result"
    },
    {
     "data": {
      "image/png": "[encoded data removed]",
      "text/plain": [
       "<Figure size 576x432 with 1 Axes>"
      ]
     },
     "metadata": {},
     "output_type": "display_data"
    }
   ],
   "source": [
    "figure, axis = plt.subplots(1, 1, figsize=(8, 6))\n",
    "\n",
    "for _n in np.arange(2, 6):\n",
    "    print(_n)\n",
    "\n",
    "    experiment = f'../../test/output/discrete-atk-N{_n}'\n",
    "    params, data, signature = pp.load_data(experiment)\n",
    "    # model_parameters = params.get(\"model\")\n",
    "    _tc = _critical_load(params[\"model\"])\n",
    "    # print(_tc)\n",
    "    _mu, _w1, _k, _N = params[\"model\"].get(\"mu\"), params[\"model\"].get(\n",
    "        \"w1\"), params[\"model\"].get(\"k\"), params[\"model\"][\"N\"]\n",
    "    axis = _plot_min_sigmaKappa(data, axis, params[\"model\"])\n",
    "    # plt.axvline(_k/_N, c='k', ls='dotted', lw=1)\n",
    "    # _postprocess_stability2(data)\n",
    "plt.axvline(_tc*_k/2, c='k', lw=1)\n",
    "\n",
    "# figure.savefig('../../notes/figures/stability_vary_N.png')\n"
   ]
  },
  {
   "cell_type": "markdown",
   "metadata": {},
   "source": [
    "## Verification of homogenous"
   ]
  },
  {
   "cell_type": "code",
   "execution_count": 241,
   "metadata": {},
   "outputs": [],
   "source": [
    "\n",
    "experiment = f'../../practice/output/discrete-atk-N2-homogeneous'\n",
    "params, data, signature = pp.load_data(experiment)\n",
    "_mu, _w1, _k, _N = params[\"model\"].get(\"mu\"), params[\"model\"].get(\n",
    "        \"w1\"), params[\"model\"].get(\"k\"), params[\"model\"][\"N\"]\n",
    "\n",
    "matpar = {k: _k, w1: _w1, N: _N, μ: _mu}\n"
   ]
  },
  {
   "cell_type": "code",
   "execution_count": 202,
   "metadata": {},
   "outputs": [
    {
     "data": {
      "text/plain": [
       "[<matplotlib.lines.Line2D at 0x15d9e8d30>]"
      ]
     },
     "execution_count": 202,
     "metadata": {},
     "output_type": "execute_result"
    },
    {
     "data": {
      "image/png": "[encoded data removed]",
      "text/plain": [
       "<Figure size 432x288 with 1 Axes>"
      ]
     },
     "metadata": {},
     "output_type": "display_data"
    }
   ],
   "source": [
    "plt.plot(data.load, [a[0] for a in data.alpha_t])\n",
    "plt.plot(data.load, [u[_N-1] for u in data.u_t])"
   ]
  },
  {
   "cell_type": "code",
   "execution_count": 203,
   "metadata": {},
   "outputs": [
    {
     "data": {
      "text/plain": [
       "[<matplotlib.lines.Line2D at 0x15dacfb80>]"
      ]
     },
     "execution_count": 203,
     "metadata": {},
     "output_type": "execute_result"
    },
    {
     "data": {
      "image/png": "[encoded data removed]",
      "text/plain": [
       "<Figure size 432x288 with 1 Axes>"
      ]
     },
     "metadata": {},
     "output_type": "display_data"
    }
   ],
   "source": [
    "plt.plot(data.load, data.fracture_energy, label = 'damage', marker='o')\n",
    "plt.plot(data.load, [a[0] for a in data.alpha_t])\n"
   ]
  },
  {
   "cell_type": "code",
   "execution_count": 204,
   "metadata": {},
   "outputs": [
    {
     "data": {
      "text/plain": [
       "Text(0, 0.5, 'Energy')"
      ]
     },
     "execution_count": 204,
     "metadata": {},
     "output_type": "execute_result"
    },
    {
     "data": {
      "image/png": "[encoded data removed]",
      "text/plain": [
       "<Figure size 432x288 with 1 Axes>"
      ]
     },
     "metadata": {},
     "output_type": "display_data"
    }
   ],
   "source": [
    "\n",
    "\n",
    "# plt.plot(data.load, data.fracture_energy)\n",
    "# plt.fill_between(data.load, 0, 1, where=_stab_cnd(data),color='red', alpha=0.5)\n",
    "# plt.fill_between(data.load, 0, 1, where=[not s for s in _stab_cnd(data)], color='green', alpha=0.5)\n",
    "\n",
    "\n",
    "plt.plot(data.load, data.fracture_energy, label = 'damage', marker='o')\n",
    "plt.plot(data.load, data.elastic_energy, label = 'elastic')\n",
    "_total = data.fracture_energy + data.elastic_energy\n",
    "plt.plot(data.load, _total, label = 'total')\n",
    "# plt.axvline(__tc, c='k')\n",
    "plt.axvline(_tc, c='k', lw=1)\n",
    "plt.legend()\n",
    "plt.xlabel('load')\n",
    "plt.ylabel('Energy')\n"
   ]
  },
  {
   "cell_type": "code",
   "execution_count": 205,
   "metadata": {},
   "outputs": [
    {
     "data": {
      "text/plain": [
       "[<matplotlib.lines.Line2D at 0x15ea0ea90>]"
      ]
     },
     "execution_count": 205,
     "metadata": {},
     "output_type": "execute_result"
    },
    {
     "data": {
      "image/png": "[encoded data removed]",
      "text/plain": [
       "<Figure size 432x288 with 1 Axes>"
      ]
     },
     "metadata": {},
     "output_type": "display_data"
    }
   ],
   "source": [
    "plt.plot(data.load, [u[1] for u in data['u_t']])\n",
    "plt.plot(data.load, [u[2] for u in data['u_t']])\n",
    "# plt.plot(data.load, data['u_t'][2])"
   ]
  },
  {
   "cell_type": "code",
   "execution_count": 271,
   "metadata": {},
   "outputs": [
    {
     "name": "stderr",
     "output_type": "stream",
     "text": [
      "/var/folders/9t/b79vbddd6cz3hhc20g8hk86m0000gn/T/ipykernel_98610/1708371343.py:7: VisibleDeprecationWarning: Creating an ndarray from ragged nested sequences (which is a list-or-tuple of lists-or-tuples-or ndarrays with different lengths or shapes) is deprecated. If you meant to do this, you must specify 'dtype=object' when creating the ndarray.\n",
      "  _asd = np.array([step[\"lambda_0\"] for step in data[\"cone_data\"]])\n"
     ]
    },
    {
     "data": {
      "image/png": "[encoded data removed]",
      "text/plain": [
       "<Figure size 576x432 with 2 Axes>"
      ]
     },
     "metadata": {},
     "output_type": "display_data"
    }
   ],
   "source": [
    "# τs = np.linspace(0.01, matpar[k], 30)\n",
    "\n",
    "figure, axis = plt.subplots(1, 1, figsize=(8, 6))\n",
    "\n",
    "# plt.plot(data.load/_tc, 4*Ηeye(data.load/_tc), label='$H_o^1$')\n",
    "# plt.plot(data.load/_tc, 4*Ηout(data.load/_tc), label='$H^o_1$')\n",
    "axis = _plot_min_sigmaKappa(data, axis, params[\"model\"])\n",
    "axis2 = axis.twinx()\n",
    "axis2.plot(data.load/_tc, Ηeye2(data.load/_tc)/100, label='analytical criterion', c='k')\n",
    "plt.legend()\n",
    "\n",
    "plt.axvline(_tc*_k/2, c='k', lw=1)\n",
    "plt.ylim(-.5, 1)\n",
    "figure.savefig('../../notes/figures/stability_N2.png')\n"
   ]
  },
  {
   "cell_type": "markdown",
   "metadata": {},
   "source": [
    "verify Nd hessian"
   ]
  },
  {
   "cell_type": "code",
   "execution_count": 270,
   "metadata": {},
   "outputs": [],
   "source": [
    "α = sp.symbols('α')\n",
    "t, N, k = sp.symbols('t N k')\n",
    "τ = sp.Symbol('τ', positive=True)\n",
    "\n",
    "_α0 = (τ-1)/(k-1)\n",
    "\n",
    "# Ηeye = lambda τ: w1*(k-1)/(k-τ)*(k-2*τ)/τ\n",
    "# Ηout = lambda τ: w1*(k-1)/(k-τ)*k/τ\n",
    "\n",
    "matpar = {k: _k, w1: _w1, N: _N, μ: _mu}\n",
    "\n",
    "_Ηeye2 = N**2*w1*(k-1)/(k-τ)*(k-2*τ)/τ\n",
    "_Ηout2 = N**2*w1*(k-1)/(k-τ)*k/τ\n",
    "\n",
    "# _Ηeye\n",
    "Ηeye2 = sp.lambdify(τ, _Ηeye2.subs(matpar), 'numpy')\n",
    "Ηout2 = sp.lambdify(τ, _Ηout2.subs(matpar), 'numpy')\n",
    "\n",
    "\n",
    "_ΗeyeN = t**2/(N*s(α))**2 * ((s(α).diff(α))**2 / (N*s(α)) - 1./2.*s(α).diff(α, 2)) \n",
    "_ΗoutN = t**2*(s(α).diff(α))**2 / (N*s(α))**3\n"
   ]
  },
  {
   "cell_type": "code",
   "execution_count": 229,
   "metadata": {},
   "outputs": [
    {
     "data": {
      "text/latex": [
       "$\\displaystyle \\frac{N^{2} w_{1} \\left(k - 1\\right) \\left(k - 2 τ\\right)}{τ \\left(k - τ\\right)}$"
      ],
      "text/plain": [
       "N**2*w1*(k - 1)*(k - 2*τ)/(τ*(k - τ))"
      ]
     },
     "execution_count": 229,
     "metadata": {},
     "output_type": "execute_result"
    }
   ],
   "source": [
    "_Ηeye2"
   ]
  },
  {
   "cell_type": "code",
   "execution_count": 242,
   "metadata": {},
   "outputs": [
    {
     "data": {
      "text/latex": [
       "$\\displaystyle \\frac{t^{2} \\left(\\frac{4}{3} - \\frac{τ}{3}\\right)^{2} \\left(- \\frac{1.0 \\left(- \\frac{τ}{\\frac{τ}{3} - \\frac{4}{3}} + 3\\right)}{\\left(\\frac{τ}{3} - \\frac{4}{3}\\right)^{2}} + \\frac{\\left(\\frac{4}{3} - \\frac{τ}{3}\\right) \\left(\\frac{τ}{\\left(\\frac{4}{3} - \\frac{τ}{3}\\right)^{2}} + \\frac{3}{\\frac{4}{3} - \\frac{τ}{3}}\\right)^{2}}{2 τ}\\right)}{4 τ^{2}}$"
      ],
      "text/plain": [
       "t**2*(4/3 - τ/3)**2*(-1.0*(-τ/(τ/3 - 4/3) + 3)/(τ/3 - 4/3)**2 + (4/3 - τ/3)*(τ/(4/3 - τ/3)**2 + 3/(4/3 - τ/3))**2/(2*τ))/(4*τ**2)"
      ]
     },
     "execution_count": 242,
     "metadata": {},
     "output_type": "execute_result"
    }
   ],
   "source": [
    "_ΗeyeN.subs({α: _α0, N: 2}).subs(matpar)\n"
   ]
  },
  {
   "cell_type": "code",
   "execution_count": 258,
   "metadata": {},
   "outputs": [
    {
     "data": {
      "text/plain": [
       "{k: 4, w1: 2, N: 2, μ: 1}"
      ]
     },
     "execution_count": 258,
     "metadata": {},
     "output_type": "execute_result"
    }
   ],
   "source": [
    "matpar"
   ]
  },
  {
   "cell_type": "code",
   "execution_count": 286,
   "metadata": {},
   "outputs": [
    {
     "data": {
      "text/plain": [
       "4"
      ]
     },
     "execution_count": 286,
     "metadata": {},
     "output_type": "execute_result"
    }
   ],
   "source": [
    "_k"
   ]
  },
  {
   "cell_type": "code",
   "execution_count": 289,
   "metadata": {},
   "outputs": [
    {
     "data": {
      "text/plain": [
       "-0.1111111111111111"
      ]
     },
     "execution_count": 289,
     "metadata": {},
     "output_type": "execute_result"
    }
   ],
   "source": [
    "ΗeyeN = sp.lambdify((τ, N), _ΗeyeN.subs({α: _α0, t:1}).subs({k: _k}), 'numpy')\n",
    "ΗeyeN(3, 2)"
   ]
  },
  {
   "cell_type": "code",
   "execution_count": 259,
   "metadata": {},
   "outputs": [],
   "source": [
    "\n",
    "\n",
    "ΗeyeN = sp.lambdify(τ, _ΗeyeN.subs({α: _α0, t:1}).subs(matpar), 'numpy')\n",
    "# ΗeyeN(3)\n",
    "# plt.plot(data.load, HeyeN(data.load))\n",
    "# ΗeyeN(1)\n"
   ]
  },
  {
   "cell_type": "code",
   "execution_count": 267,
   "metadata": {},
   "outputs": [
    {
     "data": {
      "text/latex": [
       "$\\displaystyle \\frac{N^{2} w_{1} \\left(k - 1\\right) \\left(k - 2 τ\\right)}{τ \\left(k - τ\\right)}$"
      ],
      "text/plain": [
       "N**2*w1*(k - 1)*(k - 2*τ)/(τ*(k - τ))"
      ]
     },
     "execution_count": 267,
     "metadata": {},
     "output_type": "execute_result"
    }
   ],
   "source": [
    "_Ηeye2"
   ]
  },
  {
   "cell_type": "code",
   "execution_count": 301,
   "metadata": {},
   "outputs": [
    {
     "data": {
      "text/plain": [
       "<matplotlib.legend.Legend at 0x15f60fdf0>"
      ]
     },
     "execution_count": 301,
     "metadata": {},
     "output_type": "execute_result"
    },
    {
     "data": {
      "image/png": "[encoded data removed]",
      "text/plain": [
       "<Figure size 432x288 with 1 Axes>"
      ]
     },
     "metadata": {},
     "output_type": "display_data"
    }
   ],
   "source": [
    "\n",
    "for _n in np.arange(2, 6):\n",
    "\n",
    "    plt.plot(data.load, ΗeyeN(data.load, _n), label=f'N={_n}')\n",
    "# ΗeyeN(3, 2)\n",
    "\n",
    "plt.plot(data.load, Ηeye2(data.load)/100, c='k')\n",
    "plt.ylim(-.5, .5)\n",
    "plt.axvline(_tc, c='k')\n",
    "plt.axhline(0, c='k')\n",
    "plt.legend()"
   ]
  },
  {
   "cell_type": "code",
   "execution_count": 321,
   "metadata": {},
   "outputs": [
    {
     "name": "stderr",
     "output_type": "stream",
     "text": [
      "/var/folders/9t/b79vbddd6cz3hhc20g8hk86m0000gn/T/ipykernel_98610/1708371343.py:7: VisibleDeprecationWarning: Creating an ndarray from ragged nested sequences (which is a list-or-tuple of lists-or-tuples-or ndarrays with different lengths or shapes) is deprecated. If you meant to do this, you must specify 'dtype=object' when creating the ndarray.\n",
      "  _asd = np.array([step[\"lambda_0\"] for step in data[\"cone_data\"]])\n",
      "/var/folders/9t/b79vbddd6cz3hhc20g8hk86m0000gn/T/ipykernel_98610/1708371343.py:7: VisibleDeprecationWarning: Creating an ndarray from ragged nested sequences (which is a list-or-tuple of lists-or-tuples-or ndarrays with different lengths or shapes) is deprecated. If you meant to do this, you must specify 'dtype=object' when creating the ndarray.\n",
      "  _asd = np.array([step[\"lambda_0\"] for step in data[\"cone_data\"]])\n",
      "/var/folders/9t/b79vbddd6cz3hhc20g8hk86m0000gn/T/ipykernel_98610/1708371343.py:7: VisibleDeprecationWarning: Creating an ndarray from ragged nested sequences (which is a list-or-tuple of lists-or-tuples-or ndarrays with different lengths or shapes) is deprecated. If you meant to do this, you must specify 'dtype=object' when creating the ndarray.\n",
      "  _asd = np.array([step[\"lambda_0\"] for step in data[\"cone_data\"]])\n",
      "/var/folders/9t/b79vbddd6cz3hhc20g8hk86m0000gn/T/ipykernel_98610/1708371343.py:7: VisibleDeprecationWarning: Creating an ndarray from ragged nested sequences (which is a list-or-tuple of lists-or-tuples-or ndarrays with different lengths or shapes) is deprecated. If you meant to do this, you must specify 'dtype=object' when creating the ndarray.\n",
      "  _asd = np.array([step[\"lambda_0\"] for step in data[\"cone_data\"]])\n"
     ]
    },
    {
     "data": {
      "text/plain": [
       "[<matplotlib.axis.XTick at 0x14a2b4760>,\n",
       " <matplotlib.axis.XTick at 0x14a2b4730>,\n",
       " <matplotlib.axis.XTick at 0x14a8b5cd0>,\n",
       " <matplotlib.axis.XTick at 0x14a6f4d00>]"
      ]
     },
     "execution_count": 321,
     "metadata": {},
     "output_type": "execute_result"
    },
    {
     "data": {
      "image/png": "[encoded data removed]",
      "text/plain": [
       "<Figure size 576x432 with 1 Axes>"
      ]
     },
     "metadata": {},
     "output_type": "display_data"
    }
   ],
   "source": [
    "figure, axis = plt.subplots(1, 1, figsize=(8, 6))\n",
    "\n",
    "for _n in np.arange(2, 6):\n",
    "    experiment = f'../../test/output/discrete-atk-N{_n}'\n",
    "    params, data, signature = pp.load_data(experiment)\n",
    "    # model_parameters = params.get(\"model\")\n",
    "    plt.plot(data.load, 10*ΗeyeN(data.load, _n), label=f'N={_n}', c=f'C{_n-2}')\n",
    "    _tc = _critical_load(params[\"model\"])\n",
    "    # print(_tc)\n",
    "    _mu, _w1, _k, _N = params[\"model\"].get(\"mu\"), params[\"model\"].get(\n",
    "        \"w1\"), params[\"model\"].get(\"k\"), params[\"model\"][\"N\"]\n",
    "    axis = _plot_min_sigmaKappa(data, axis, params[\"model\"])\n",
    "    plt.axvline(_k/_N, c='k', ls='dotted')\n",
    "    \n",
    "plt.axvline(_tc*_k/2, c='k', lw=1)\n",
    "plt.ylim(-1, 1)\n",
    "axis.set_yticks([-1, 0, 1], ['-1', '0', '1'])\n",
    "axis.set_xticks([_tc, _k/2, _k/3, _k/5], ['$t_c$',  '$k/2$', '$k/3$',  '$k/5$'])\n",
    "\n",
    "# figure.savefig('../../notes/figures/stability_vary_N.png')\n"
   ]
  },
  {
   "cell_type": "code",
   "execution_count": 310,
   "metadata": {},
   "outputs": [
    {
     "data": {
      "text/latex": [
       "$\\displaystyle \\frac{1.0 k \\left(- N k τ + N τ + k^{2} - k\\right)}{N^{3} τ^{3} \\left(k - τ\\right)}$"
      ],
      "text/plain": [
       "1.0*k*(-N*k*τ + N*τ + k**2 - k)/(N**3*τ**3*(k - τ))"
      ]
     },
     "execution_count": 310,
     "metadata": {},
     "output_type": "execute_result"
    }
   ],
   "source": [
    "_ΗeyeN.subs({α: _α0, t:1}).simplify()"
   ]
  },
  {
   "cell_type": "code",
   "execution_count": 311,
   "metadata": {},
   "outputs": [],
   "source": [
    "__eye = _ΗeyeN.subs({α: _α0, t:1}).simplify()"
   ]
  },
  {
   "cell_type": "code",
   "execution_count": 353,
   "metadata": {},
   "outputs": [],
   "source": [
    "asd = [_k/N for N in _Ns]\n",
    "_filter = np.where(np.array(asd) > _tc)[0]\n"
   ]
  },
  {
   "cell_type": "code",
   "execution_count": 361,
   "metadata": {},
   "outputs": [
    {
     "data": {
      "text/plain": [
       "[2.0, 1.3333333333333333, 1.0, 1.0, 1.0]"
      ]
     },
     "execution_count": 361,
     "metadata": {},
     "output_type": "execute_result"
    }
   ],
   "source": [
    "[_k/N if _k/N>=_tc else _tc for N in _Ns ]"
   ]
  },
  {
   "cell_type": "code",
   "execution_count": 371,
   "metadata": {},
   "outputs": [
    {
     "data": {
      "text/plain": [
       "Text(0, 0.5, '$\\\\delta_s$')"
      ]
     },
     "execution_count": 371,
     "metadata": {},
     "output_type": "execute_result"
    },
    {
     "data": {
      "image/png": "[encoded data removed]",
      "text/plain": [
       "<Figure size 432x288 with 1 Axes>"
      ]
     },
     "metadata": {},
     "output_type": "display_data"
    }
   ],
   "source": [
    "_gap = sp.solve(__eye, τ)[0]\n",
    "\n",
    "_gap.subs({k: _k})\n",
    "_Ns = np.arange(2, 7)\n",
    "plt.plot(_Ns, [_k/N - _tc if _k/N>=_tc else 0 for N in _Ns ])\n",
    "plt.title(f'Stability gap vs. N, k={_k}')\n",
    "plt.xlabel(\"N\")\n",
    "plt.ylabel(\"$\\delta_s$\")\n"
   ]
  },
  {
   "cell_type": "markdown",
   "metadata": {},
   "source": [
    "## Stability of a short bar"
   ]
  },
  {
   "cell_type": "code",
   "execution_count": null,
   "metadata": {},
   "outputs": [],
   "source": [
    "plt.plot(data.load, [a[0] for a in data.alpha_t])\n"
   ]
  },
  {
   "cell_type": "code",
   "execution_count": null,
   "metadata": {},
   "outputs": [],
   "source": [
    "!ls ../../playground/"
   ]
  },
  {
   "cell_type": "code",
   "execution_count": null,
   "metadata": {},
   "outputs": [],
   "source": [
    "experiment = '../../practice/output/traction_cone'\n",
    "params, data, signature = pp.load_data(experiment)\n"
   ]
  },
  {
   "cell_type": "code",
   "execution_count": null,
   "metadata": {},
   "outputs": [],
   "source": [
    "data.cone_data[6]"
   ]
  },
  {
   "cell_type": "code",
   "execution_count": null,
   "metadata": {},
   "outputs": [],
   "source": [
    "[data.cone_data[i]['iterations'] for i in range(len(data.cone_data))]"
   ]
  },
  {
   "cell_type": "markdown",
   "metadata": {},
   "source": [
    "$$\n",
    "s:= t + \\int_0^t ||\\dot \\alpha||_{1, 2} dx\n",
    "$$"
   ]
  },
  {
   "cell_type": "code",
   "execution_count": null,
   "metadata": {},
   "outputs": [],
   "source": [
    "data.get(\"rate_12_norm\")"
   ]
  },
  {
   "cell_type": "code",
   "execution_count": null,
   "metadata": {},
   "outputs": [],
   "source": [
    "import numpy as np\n",
    "import matplotlib.pyplot as plt"
   ]
  },
  {
   "cell_type": "code",
   "execution_count": null,
   "metadata": {},
   "outputs": [],
   "source": [
    "params.get(\"geometry\").get(\"Ly\")"
   ]
  },
  {
   "cell_type": "code",
   "execution_count": null,
   "metadata": {},
   "outputs": [],
   "source": [
    "sell = []\n",
    "_dt = (params.get(\"loading\").get(\"max\") - params.get(\"loading\").get(\"min\")) /params.get(\"loading\").get(\"steps\")\n",
    "for i, t in enumerate(data.get(\"load\")):\n",
    "    sell.append(np.trapz(data.get(\"rate_12_norm\")[0:i], data.get(\"load\")[0:i])/_dt)\n",
    "\n",
    "s0 = []\n",
    "_dt = (params.get(\"loading\").get(\"max\") - params.get(\"loading\").get(\"min\")) /params.get(\"loading\").get(\"steps\")\n",
    "for i, t in enumerate(data.get(\"load\")):\n",
    "    s0.append(np.trapz(data.get(\"rate_12_norm_unscaled\")[0:i], data.get(\"load\")[0:i])/_dt)\n",
    "    \n",
    "# s = data.get(\"load\") + s0"
   ]
  },
  {
   "cell_type": "code",
   "execution_count": null,
   "metadata": {},
   "outputs": [],
   "source": [
    "plt.title(\"Evolution Jumps?\")\n",
    "# plt.plot(data.get(\"load\"), s, marker = 'o', label='s')\n",
    "plt.plot(data.get(\"load\"), sell, marker = 'o', label='$s_\\ell$')\n",
    "plt.plot(data.get(\"load\"), s0, marker = 'o', label='$s_0$')\n",
    "plt.plot(data.get(\"load\"), data.get(\"load\"), marker = 'o', label='t')\n",
    "plt.ylabel('$t, s_0, s$')\n",
    "plt.xlabel('t')\n",
    "plt.legend()\n",
    "plt.twinx()\n",
    "plt.plot(data.get(\"load\"), data.get(\"fracture_energy\")/params.get(\"geometry\").get(\"Ly\"),\n",
    "    marker = 's', c='k', label='fracture')\n",
    "plt.ylabel('energy')\n",
    "plt.legend(loc=4)\n",
    "plt.savefig('jumps_evo_multifiss.png')"
   ]
  },
  {
   "cell_type": "code",
   "execution_count": null,
   "metadata": {},
   "outputs": [],
   "source": [
    "plt.plot(data.get(\"load\"), sell, marker = 'o', label='$s_\\ell$')\n",
    "plt.twinx()\n",
    "plt.plot(np.diff(np.array(sell)), label=\"\")\n",
    "plt.xlabel('t')\n"
   ]
  }
 ],
 "metadata": {
  "interpreter": {
   "hash": "b0fa6594d8f4cbf19f97940f81e996739fb7646882a419484c72d19e05852a7e"
  },
  "kernelspec": {
   "display_name": "Python 3.9.13 64-bit",
   "language": "python",
   "name": "python3"
  },
  "language_info": {
   "codemirror_mode": {
    "name": "ipython",
    "version": 3
   },
   "file_extension": ".py",
   "mimetype": "text/x-python",
   "name": "python",
   "nbconvert_exporter": "python",
   "pygments_lexer": "ipython3",
   "version": "3.9.13"
  },
  "orig_nbformat": 4
 },
 "nbformat": 4,
 "nbformat_minor": 2
}
