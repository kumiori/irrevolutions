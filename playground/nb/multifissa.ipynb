{
 "cells": [
  {
   "cell_type": "code",
   "execution_count": 1,
   "metadata": {},
   "outputs": [
    {
     "name": "stdout",
     "output_type": "stream",
     "text": [
      "postproc\n"
     ]
    }
   ],
   "source": [
    "# Testing Pacman\n",
    "import irrevolutions.utils.postprocess as pp\n",
    "# import plots as plots"
   ]
  },
  {
   "cell_type": "code",
   "execution_count": 2,
   "metadata": {},
   "outputs": [],
   "source": [
    "import sympy as sp\n",
    "import numpy as np\n",
    "import matplotlib.pyplot as plt"
   ]
  },
  {
   "cell_type": "code",
   "execution_count": 3,
   "metadata": {},
   "outputs": [
    {
     "data": {
      "text/plain": [
       "0.4666666666666667"
      ]
     },
     "execution_count": 3,
     "metadata": {},
     "output_type": "execute_result"
    }
   ],
   "source": [
    "# Council tax requested vs. available cash\n",
    "# (at the time)\n",
    "1400/3000\n",
    "# 1400/4000\n",
    "\n"
   ]
  },
  {
   "cell_type": "markdown",
   "metadata": {},
   "source": [
    "### Analytical"
   ]
  },
  {
   "cell_type": "code",
   "execution_count": 4,
   "metadata": {},
   "outputs": [
    {
     "name": "stdout",
     "output_type": "stream",
     "text": [
      "Eq(u(x), C1*exp(-sqrt(k)*x) + C2*exp(sqrt(k)*x))\n"
     ]
    }
   ],
   "source": [
    "x = sp.symbols('x')\n",
    "u = sp.Function('u')\n",
    "k, t, L = sp.symbols('k t L')\n",
    "\n",
    "eq = sp.Eq( u(x).diff(x, 2) - k*u(x), 0)\n",
    "solution = sp.dsolve(eq)\n",
    "print(solution)\n",
    "\n"
   ]
  },
  {
   "cell_type": "code",
   "execution_count": 5,
   "metadata": {},
   "outputs": [
    {
     "data": {
      "text/latex": [
       "$\\displaystyle u{\\left(x \\right)} = C_{1} e^{- \\sqrt{k} x} + C_{2} e^{\\sqrt{k} x}$"
      ],
      "text/plain": [
       "Eq(u(x), C1*exp(-sqrt(k)*x) + C2*exp(sqrt(k)*x))"
      ]
     },
     "execution_count": 5,
     "metadata": {},
     "output_type": "execute_result"
    }
   ],
   "source": [
    "solution"
   ]
  },
  {
   "cell_type": "code",
   "execution_count": 6,
   "metadata": {},
   "outputs": [],
   "source": [
    "boundary_conditions = {(u(x).diff(x)).subs({x: -L/2}): t, (u(x).diff(x)).subs({x:L/2}): t}\n",
    "equilibrium = sp.dsolve(eq, ics= boundary_conditions)"
   ]
  },
  {
   "cell_type": "code",
   "execution_count": 7,
   "metadata": {},
   "outputs": [
    {
     "data": {
      "text/latex": [
       "$\\displaystyle \\left(\\frac{t e^{2 L \\sqrt{k}}}{\\sqrt{k} e^{\\frac{5 L \\sqrt{k}}{2}} - \\sqrt{k} e^{\\frac{L \\sqrt{k}}{2}}} - \\frac{t e^{L \\sqrt{k}}}{\\sqrt{k} e^{\\frac{5 L \\sqrt{k}}{2}} - \\sqrt{k} e^{\\frac{L \\sqrt{k}}{2}}}\\right) e^{\\sqrt{k} x} + \\left(- \\frac{t e^{\\frac{9 L \\sqrt{k}}{2}}}{\\sqrt{k} e^{5 L \\sqrt{k}} - 2 \\sqrt{k} e^{3 L \\sqrt{k}} + \\sqrt{k} e^{L \\sqrt{k}}} + \\frac{t e^{\\frac{7 L \\sqrt{k}}{2}}}{\\sqrt{k} e^{5 L \\sqrt{k}} - 2 \\sqrt{k} e^{3 L \\sqrt{k}} + \\sqrt{k} e^{L \\sqrt{k}}} + \\frac{t e^{\\frac{5 L \\sqrt{k}}{2}}}{\\sqrt{k} e^{5 L \\sqrt{k}} - 2 \\sqrt{k} e^{3 L \\sqrt{k}} + \\sqrt{k} e^{L \\sqrt{k}}} - \\frac{t e^{\\frac{3 L \\sqrt{k}}{2}}}{\\sqrt{k} e^{5 L \\sqrt{k}} - 2 \\sqrt{k} e^{3 L \\sqrt{k}} + \\sqrt{k} e^{L \\sqrt{k}}}\\right) e^{- \\sqrt{k} x}$"
      ],
      "text/plain": [
       "(t*exp(2*L*sqrt(k))/(sqrt(k)*exp(5*L*sqrt(k)/2) - sqrt(k)*exp(L*sqrt(k)/2)) - t*exp(L*sqrt(k))/(sqrt(k)*exp(5*L*sqrt(k)/2) - sqrt(k)*exp(L*sqrt(k)/2)))*exp(sqrt(k)*x) + (-t*exp(9*L*sqrt(k)/2)/(sqrt(k)*exp(5*L*sqrt(k)) - 2*sqrt(k)*exp(3*L*sqrt(k)) + sqrt(k)*exp(L*sqrt(k))) + t*exp(7*L*sqrt(k)/2)/(sqrt(k)*exp(5*L*sqrt(k)) - 2*sqrt(k)*exp(3*L*sqrt(k)) + sqrt(k)*exp(L*sqrt(k))) + t*exp(5*L*sqrt(k)/2)/(sqrt(k)*exp(5*L*sqrt(k)) - 2*sqrt(k)*exp(3*L*sqrt(k)) + sqrt(k)*exp(L*sqrt(k))) - t*exp(3*L*sqrt(k)/2)/(sqrt(k)*exp(5*L*sqrt(k)) - 2*sqrt(k)*exp(3*L*sqrt(k)) + sqrt(k)*exp(L*sqrt(k))))*exp(-sqrt(k)*x)"
      ]
     },
     "execution_count": 7,
     "metadata": {},
     "output_type": "execute_result"
    }
   ],
   "source": [
    "equilibrium.rhs"
   ]
  },
  {
   "cell_type": "code",
   "execution_count": 8,
   "metadata": {},
   "outputs": [],
   "source": [
    "equilibrium = sp.dsolve(eq, ics= { u(x).diff(x).subs(x, 0): t,\n",
    "                      u(x).diff(x).subs(x, L): t})"
   ]
  },
  {
   "cell_type": "code",
   "execution_count": 9,
   "metadata": {},
   "outputs": [
    {
     "data": {
      "text/latex": [
       "$\\displaystyle u{\\left(x \\right)} = - \\frac{t e^{L \\sqrt{k}} e^{- \\sqrt{k} x}}{\\sqrt{k} e^{L \\sqrt{k}} + \\sqrt{k}} + \\frac{t e^{\\sqrt{k} x}}{\\sqrt{k} e^{L \\sqrt{k}} + \\sqrt{k}}$"
      ],
      "text/plain": [
       "Eq(u(x), -t*exp(L*sqrt(k))*exp(-sqrt(k)*x)/(sqrt(k)*exp(L*sqrt(k)) + sqrt(k)) + t*exp(sqrt(k)*x)/(sqrt(k)*exp(L*sqrt(k)) + sqrt(k)))"
      ]
     },
     "execution_count": 9,
     "metadata": {},
     "output_type": "execute_result"
    }
   ],
   "source": [
    "equilibrium"
   ]
  },
  {
   "cell_type": "code",
   "execution_count": 10,
   "metadata": {},
   "outputs": [
    {
     "data": {
      "text/plain": [
       "{k: 10.0, L: 1}"
      ]
     },
     "execution_count": 10,
     "metadata": {},
     "output_type": "execute_result"
    }
   ],
   "source": [
    "matpar = {k: (.1)**(-1), L: 1}\n",
    "matpar"
   ]
  },
  {
   "cell_type": "code",
   "execution_count": 11,
   "metadata": {},
   "outputs": [],
   "source": [
    "uprime = equilibrium.rhs.diff(x).simplify()"
   ]
  },
  {
   "cell_type": "code",
   "execution_count": 12,
   "metadata": {},
   "outputs": [
    {
     "data": {
      "text/latex": [
       "$\\displaystyle \\frac{2 t e^{\\frac{L \\sqrt{k}}{2}}}{e^{L \\sqrt{k}} + 1}$"
      ],
      "text/plain": [
       "2*t*exp(L*sqrt(k)/2)/(exp(L*sqrt(k)) + 1)"
      ]
     },
     "execution_count": 12,
     "metadata": {},
     "output_type": "execute_result"
    }
   ],
   "source": [
    "uprime.subs(x, L/2)"
   ]
  },
  {
   "cell_type": "code",
   "execution_count": 13,
   "metadata": {},
   "outputs": [
    {
     "data": {
      "text/plain": [
       "[<matplotlib.legend.Legend at 0x1468ad610>,\n",
       " <matplotlib.legend.Legend at 0x1469a2dd0>]"
      ]
     },
     "execution_count": 13,
     "metadata": {},
     "output_type": "execute_result"
    },
    {
     "data": {
      "image/png": "[encoded data removed]",
      "text/plain": [
       "<Figure size 640x480 with 2 Axes>"
      ]
     },
     "metadata": {},
     "output_type": "display_data"
    }
   ],
   "source": [
    "fig, ax = plt.subplots(1, 2)\n",
    "for c, lmbda in enumerate([.1, .2, .3]):\n",
    "    matpar = {k: (lmbda)**(-2), L: 1}\n",
    "    _eq = equilibrium.rhs.subs(matpar)\n",
    "    eps = _eq.diff(x)\n",
    "    eps_0 = eps.subs(x, L/2).subs(matpar).subs({t: 1})\n",
    "\n",
    "    x_coordinates = np.linspace(0, float(L.subs(matpar)), 100)\n",
    "\n",
    "    _f = sp.lambdify(x, _eq.subs({t: 1}), 'numpy')\n",
    "    _e = sp.lambdify(x, eps.subs({t: 1}), 'numpy')\n",
    "\n",
    "    ax[0].plot(x_coordinates, _f(x_coordinates), c='C'+str(c), label=f'$\\lambda = {lmbda}$')\n",
    "    ax[0].plot(x_coordinates, eps_0*(x_coordinates-1/2),  c='C'+str(c), ls = '--')\n",
    "       \n",
    "    ax[1].plot(x_coordinates, _e(x_coordinates),  c='C'+str(c), label=f'$\\lambda = {lmbda}$')\n",
    "    ax[1].axhline(0, color='black', linestyle='--')\n",
    "    ax[1].axhline(eps_0,  c='C'+str(c), linestyle='--')\n",
    "    ax[1].set_title('Strain $u\\'(x)$')\n",
    "    ax[0].set_title('Displacement $u(x)$')\n",
    "[a.legend() for a in ax]"
   ]
  },
  {
   "cell_type": "code",
   "execution_count": 14,
   "metadata": {},
   "outputs": [
    {
     "data": {
      "text/plain": [
       "{k: 11.111111111111112, L: 1}"
      ]
     },
     "execution_count": 14,
     "metadata": {},
     "output_type": "execute_result"
    }
   ],
   "source": [
    "matpar"
   ]
  },
  {
   "cell_type": "code",
   "execution_count": 15,
   "metadata": {},
   "outputs": [
    {
     "data": {
      "image/png": "[encoded data removed]",
      "text/plain": [
       "<Figure size 640x480 with 2 Axes>"
      ]
     },
     "metadata": {},
     "output_type": "display_data"
    }
   ],
   "source": [
    "_matpar = {key: value for key, value in matpar.items() if key != k}\n",
    "# _matpar\n",
    "fig, ax = plt.subplots(1, 1)\n",
    "\n",
    "f = (uprime/t).subs(x, L/2).subs(_matpar)\n",
    "_f = sp.lambdify(k, f, 'numpy')\n",
    "k_values = np.logspace(1, 4, 10)\n",
    "ax.plot(k_values, _f(k_values), label=f'$\\lambda = {lmbda}$')\n",
    "ax.loglog()\n",
    "plt.xlabel('k')\n",
    "plt.ylabel('$c_k$')\n",
    "ax2 = ax.twiny()\n",
    "ax2.set_xlabel('$\\lambda$')\n",
    "top_ticks = np.linspace(k_values[-1]**(-2), k_values[0]**(-2), 5)\n",
    "\n",
    "\n",
    "ax2.set_xticks(top_ticks)\n",
    "ax2.set_xlim(k_values[-1]**(-2), k_values[0]**(-2))\n",
    "ax2.invert_xaxis()\n"
   ]
  },
  {
   "cell_type": "markdown",
   "metadata": {},
   "source": [
    "### Elastic energy"
   ]
  },
  {
   "cell_type": "code",
   "execution_count": 16,
   "metadata": {},
   "outputs": [],
   "source": [
    "del matpar"
   ]
  },
  {
   "cell_type": "code",
   "execution_count": 17,
   "metadata": {},
   "outputs": [
    {
     "data": {
      "text/latex": [
       "$\\displaystyle 0.5 L t^{2} + \\begin{cases} \\frac{\\left(0.5 k^{\\frac{3}{2}} t^{2} e^{4 L \\sqrt{k}} + 2.0 k^{\\frac{3}{2}} t^{2} e^{3 L \\sqrt{k}} + 3.0 k^{\\frac{3}{2}} t^{2} e^{2 L \\sqrt{k}} + 2.0 k^{\\frac{3}{2}} t^{2} e^{L \\sqrt{k}} + 0.5 k^{\\frac{3}{2}} t^{2}\\right) e^{2 L \\sqrt{k}} + \\left(- 0.5 k^{\\frac{3}{2}} t^{2} e^{6 L \\sqrt{k}} - 2.0 k^{\\frac{3}{2}} t^{2} e^{5 L \\sqrt{k}} - 3.0 k^{\\frac{3}{2}} t^{2} e^{4 L \\sqrt{k}} - 2.0 k^{\\frac{3}{2}} t^{2} e^{3 L \\sqrt{k}} - 0.5 k^{\\frac{3}{2}} t^{2} e^{2 L \\sqrt{k}}\\right) e^{- 2 L \\sqrt{k}} + \\left(- 1.0 k^{\\frac{3}{2}} t^{2} e^{5 L \\sqrt{k}} - 5.0 k^{\\frac{3}{2}} t^{2} e^{4 L \\sqrt{k}} - 10.0 k^{\\frac{3}{2}} t^{2} e^{3 L \\sqrt{k}} - 10.0 k^{\\frac{3}{2}} t^{2} e^{2 L \\sqrt{k}} - 5.0 k^{\\frac{3}{2}} t^{2} e^{L \\sqrt{k}} - 1.0 k^{\\frac{3}{2}} t^{2}\\right) e^{L \\sqrt{k}} + \\left(1.0 k^{\\frac{3}{2}} t^{2} e^{6 L \\sqrt{k}} + 5.0 k^{\\frac{3}{2}} t^{2} e^{5 L \\sqrt{k}} + 10.0 k^{\\frac{3}{2}} t^{2} e^{4 L \\sqrt{k}} + 10.0 k^{\\frac{3}{2}} t^{2} e^{3 L \\sqrt{k}} + 5.0 k^{\\frac{3}{2}} t^{2} e^{2 L \\sqrt{k}} + 1.0 k^{\\frac{3}{2}} t^{2} e^{L \\sqrt{k}}\\right) e^{- L \\sqrt{k}}}{1.0 k^{2} e^{6 L \\sqrt{k}} + 6.0 k^{2} e^{5 L \\sqrt{k}} + 15.0 k^{2} e^{4 L \\sqrt{k}} + 20.0 k^{2} e^{3 L \\sqrt{k}} + 15.0 k^{2} e^{2 L \\sqrt{k}} + 6.0 k^{2} e^{L \\sqrt{k}} + 1.0 k^{2}} - \\frac{0.5 k^{\\frac{3}{2}} t^{2} e^{6 L \\sqrt{k}} + 2.0 k^{\\frac{3}{2}} t^{2} e^{5 L \\sqrt{k}} + 2.5 k^{\\frac{3}{2}} t^{2} e^{4 L \\sqrt{k}} - 2.5 k^{\\frac{3}{2}} t^{2} e^{2 L \\sqrt{k}} - 2.0 k^{\\frac{3}{2}} t^{2} e^{L \\sqrt{k}} - 0.5 k^{\\frac{3}{2}} t^{2}}{1.0 k^{2} e^{6 L \\sqrt{k}} + 6.0 k^{2} e^{5 L \\sqrt{k}} + 15.0 k^{2} e^{4 L \\sqrt{k}} + 20.0 k^{2} e^{3 L \\sqrt{k}} + 15.0 k^{2} e^{2 L \\sqrt{k}} + 6.0 k^{2} e^{L \\sqrt{k}} + 1.0 k^{2}} & \\text{for}\\: 1.0 k^{2} e^{6 L \\sqrt{k}} + 6.0 k^{2} e^{5 L \\sqrt{k}} + 15.0 k^{2} e^{4 L \\sqrt{k}} + 20.0 k^{2} e^{3 L \\sqrt{k}} + 15.0 k^{2} e^{2 L \\sqrt{k}} + 6.0 k^{2} e^{L \\sqrt{k}} + 1.0 k^{2} \\neq 0 \\\\L \\left(- 0.5 t^{2} + \\frac{0.5 t^{2} e^{2 L \\sqrt{k}} - 1.0 t^{2} e^{L \\sqrt{k}} + 0.5 t^{2}}{1.0 e^{2 L \\sqrt{k}} + 2.0 e^{L \\sqrt{k}} + 1.0}\\right) & \\text{otherwise} \\end{cases}$"
      ],
      "text/plain": [
       "0.5*L*t**2 + Piecewise((((0.5*k**(3/2)*t**2*exp(4*L*sqrt(k)) + 2.0*k**(3/2)*t**2*exp(3*L*sqrt(k)) + 3.0*k**(3/2)*t**2*exp(2*L*sqrt(k)) + 2.0*k**(3/2)*t**2*exp(L*sqrt(k)) + 0.5*k**(3/2)*t**2)*exp(2*L*sqrt(k)) + (-0.5*k**(3/2)*t**2*exp(6*L*sqrt(k)) - 2.0*k**(3/2)*t**2*exp(5*L*sqrt(k)) - 3.0*k**(3/2)*t**2*exp(4*L*sqrt(k)) - 2.0*k**(3/2)*t**2*exp(3*L*sqrt(k)) - 0.5*k**(3/2)*t**2*exp(2*L*sqrt(k)))*exp(-2*L*sqrt(k)) + (-1.0*k**(3/2)*t**2*exp(5*L*sqrt(k)) - 5.0*k**(3/2)*t**2*exp(4*L*sqrt(k)) - 10.0*k**(3/2)*t**2*exp(3*L*sqrt(k)) - 10.0*k**(3/2)*t**2*exp(2*L*sqrt(k)) - 5.0*k**(3/2)*t**2*exp(L*sqrt(k)) - 1.0*k**(3/2)*t**2)*exp(L*sqrt(k)) + (1.0*k**(3/2)*t**2*exp(6*L*sqrt(k)) + 5.0*k**(3/2)*t**2*exp(5*L*sqrt(k)) + 10.0*k**(3/2)*t**2*exp(4*L*sqrt(k)) + 10.0*k**(3/2)*t**2*exp(3*L*sqrt(k)) + 5.0*k**(3/2)*t**2*exp(2*L*sqrt(k)) + 1.0*k**(3/2)*t**2*exp(L*sqrt(k)))*exp(-L*sqrt(k)))/(1.0*k**2*exp(6*L*sqrt(k)) + 6.0*k**2*exp(5*L*sqrt(k)) + 15.0*k**2*exp(4*L*sqrt(k)) + 20.0*k**2*exp(3*L*sqrt(k)) + 15.0*k**2*exp(2*L*sqrt(k)) + 6.0*k**2*exp(L*sqrt(k)) + 1.0*k**2) - (0.5*k**(3/2)*t**2*exp(6*L*sqrt(k)) + 2.0*k**(3/2)*t**2*exp(5*L*sqrt(k)) + 2.5*k**(3/2)*t**2*exp(4*L*sqrt(k)) - 2.5*k**(3/2)*t**2*exp(2*L*sqrt(k)) - 2.0*k**(3/2)*t**2*exp(L*sqrt(k)) - 0.5*k**(3/2)*t**2)/(1.0*k**2*exp(6*L*sqrt(k)) + 6.0*k**2*exp(5*L*sqrt(k)) + 15.0*k**2*exp(4*L*sqrt(k)) + 20.0*k**2*exp(3*L*sqrt(k)) + 15.0*k**2*exp(2*L*sqrt(k)) + 6.0*k**2*exp(L*sqrt(k)) + 1.0*k**2), Ne(1.0*k**2*exp(6*L*sqrt(k)) + 6.0*k**2*exp(5*L*sqrt(k)) + 15.0*k**2*exp(4*L*sqrt(k)) + 20.0*k**2*exp(3*L*sqrt(k)) + 15.0*k**2*exp(2*L*sqrt(k)) + 6.0*k**2*exp(L*sqrt(k)) + 1.0*k**2, 0)), (L*(-0.5*t**2 + (0.5*t**2*exp(2*L*sqrt(k)) - 1.0*t**2*exp(L*sqrt(k)) + 0.5*t**2)/(1.0*exp(2*L*sqrt(k)) + 2.0*exp(L*sqrt(k)) + 1.0)), True))"
      ]
     },
     "execution_count": 17,
     "metadata": {},
     "output_type": "execute_result"
    }
   ],
   "source": [
    "_u = equilibrium.rhs\n",
    "\n",
    "def elastic_energy(u):\n",
    "    k, t, L = sp.symbols('k t L')\n",
    "\n",
    "    density = (1/2*(u.diff(x) - t)**2 + 1/2*k*u**2).simplify()\n",
    "    \n",
    "    return sp.integrate(density, (x, 0, L))\n",
    "    \n",
    "    \n",
    "elastic_energy(_u)"
   ]
  },
  {
   "cell_type": "code",
   "execution_count": 18,
   "metadata": {},
   "outputs": [
    {
     "data": {
      "text/latex": [
       "$\\displaystyle \\frac{0.5 t^{2} \\left(\\left(e^{L \\sqrt{k}} - e^{2 \\sqrt{k} x}\\right)^{2} + \\left(- \\left(e^{L \\sqrt{k}} + 1\\right) e^{\\sqrt{k} x} + e^{L \\sqrt{k}} + e^{2 \\sqrt{k} x}\\right)^{2}\\right) e^{- 2 \\sqrt{k} x}}{\\left(e^{L \\sqrt{k}} + 1\\right)^{2}}$"
      ],
      "text/plain": [
       "0.5*t**2*((exp(L*sqrt(k)) - exp(2*sqrt(k)*x))**2 + (-(exp(L*sqrt(k)) + 1)*exp(sqrt(k)*x) + exp(L*sqrt(k)) + exp(2*sqrt(k)*x))**2)*exp(-2*sqrt(k)*x)/(exp(L*sqrt(k)) + 1)**2"
      ]
     },
     "execution_count": 18,
     "metadata": {},
     "output_type": "execute_result"
    }
   ],
   "source": [
    "(1/2*(_u.diff(x) - t)**2 + 1/2*k*_u**2).simplify()"
   ]
  },
  {
   "cell_type": "markdown",
   "metadata": {},
   "source": [
    "### Experiment"
   ]
  },
  {
   "cell_type": "code",
   "execution_count": 29,
   "metadata": {},
   "outputs": [],
   "source": [
    "experiment = '../../playground/benchmark-umut-at2/output/thinfilm-bar/MPI-1/af8b6d4845926418186744c206a13d20'\n",
    "params, data, signature = pp.load_data(experiment)\n"
   ]
  },
  {
   "cell_type": "code",
   "execution_count": 30,
   "metadata": {},
   "outputs": [
    {
     "data": {
      "text/plain": [
       "0.34"
      ]
     },
     "execution_count": 30,
     "metadata": {},
     "output_type": "execute_result"
    }
   ],
   "source": [
    "params['model']['ell_e']"
   ]
  },
  {
   "cell_type": "code",
   "execution_count": 31,
   "metadata": {},
   "outputs": [
    {
     "data": {
      "text/plain": [
       "{L: 1, Ly: 0.05, k: 8.650519031141867}"
      ]
     },
     "execution_count": 31,
     "metadata": {},
     "output_type": "execute_result"
    }
   ],
   "source": [
    "_matpar = {L: params[\"geometry\"][\"Lx\"], sp.symbols('Ly'): params[\"geometry\"][\"Ly\"], k: params['model']['ell_e']**(-2)}\n",
    "_matpar\n"
   ]
  },
  {
   "cell_type": "code",
   "execution_count": 32,
   "metadata": {},
   "outputs": [
    {
     "data": {
      "text/plain": [
       "<matplotlib.legend.Legend at 0x14d4e21d0>"
      ]
     },
     "execution_count": 32,
     "metadata": {},
     "output_type": "execute_result"
    },
    {
     "data": {
      "image/png": "[encoded data removed]",
      "text/plain": [
       "<Figure size 640x480 with 1 Axes>"
      ]
     },
     "metadata": {},
     "output_type": "display_data"
    }
   ],
   "source": [
    "figure, axis = plt.subplots(1, 1)\n",
    "\n",
    "_el_energy = (elastic_energy(_u)*sp.symbols('Ly')).subs(_matpar)\n",
    "_f_el = sp.lambdify(t, _el_energy, 'numpy')\n",
    "_el_0 = [_f_el(t) for t in data['load']]\n",
    "\n",
    "axis.plot(data['load'], data['elastic_energy'], lw = \"1\", label = \"Elastic\")\n",
    "axis.plot(data['load'], data['fracture_energy'], lw = \"1\", label = \"Fracture\")\n",
    "axis.plot(data['load'], _el_0,\n",
    "    label = \"Elastic Sound\", lw=3)\n",
    "axis.plot(data['load'], data['fracture_energy'] + data['elastic_energy'] - _el_0,\n",
    "    label = \"Total Energy - Elastic Sound\", lw=3)\n",
    "\n",
    "\n",
    "plt.legend()"
   ]
  },
  {
   "cell_type": "code",
   "execution_count": 33,
   "metadata": {},
   "outputs": [
    {
     "data": {
      "text/plain": [
       "Text(0.5, 1.0, 'Energy vs. Load')"
      ]
     },
     "execution_count": 33,
     "metadata": {},
     "output_type": "execute_result"
    },
    {
     "data": {
      "image/png": "[encoded data removed]",
      "text/plain": [
       "<Figure size 640x480 with 1 Axes>"
      ]
     },
     "metadata": {},
     "output_type": "display_data"
    }
   ],
   "source": [
    "figure, axis = plt.subplots(1, 1)\n",
    "\n",
    "_el_energy = (elastic_energy(_u)*sp.symbols('Ly')).subs(_matpar)\n",
    "_f_el = sp.lambdify(t, _el_energy, 'numpy')\n",
    "\n",
    "\n",
    "axis.plot(data['load'], data['elastic_energy'])\n",
    "axis.plot(data['load'], data['fracture_energy'])\n",
    "axis.plot(data['load'], [_f_el(t) for t in data['load']] )\n",
    "\n",
    "axis.set_xlabel('$t$')\n",
    "axis.set_ylabel('$E$')\n",
    "\n",
    "# Set title for the plot\n",
    "axis.set_title('Energy vs. Load')\n"
   ]
  },
  {
   "cell_type": "code",
   "execution_count": 34,
   "metadata": {},
   "outputs": [
    {
     "data": {
      "text/plain": [
       "(<Figure size 640x480 with 1 Axes>,\n",
       " <Axes: title={'center': \"Spectrum of Nonlinear Operator $H_{\\\\ell}:=E_\\\\ell''(y_t)$\"}, xlabel='Load $t$', ylabel='Eigenvalues'>)"
      ]
     },
     "execution_count": 34,
     "metadata": {},
     "output_type": "execute_result"
    },
    {
     "data": {
      "image/png": "[encoded data removed]",
      "text/plain": [
       "<Figure size 640x480 with 1 Axes>"
      ]
     },
     "metadata": {},
     "output_type": "display_data"
    }
   ],
   "source": [
    "pp.plot_operator_spectrum(data, params)"
   ]
  },
  {
   "cell_type": "code",
   "execution_count": 40,
   "metadata": {},
   "outputs": [
    {
     "data": {
      "text/plain": [
       "(<Figure size 640x480 with 1 Axes>,\n",
       " <Axes: title={'center': \"Spectrum of Nonlinear Operator $H_{\\\\ell}:=E_\\\\ell''(y_t)$\"}, xlabel='Load $t$', ylabel='Eigenvalues'>)"
      ]
     },
     "execution_count": 40,
     "metadata": {},
     "output_type": "execute_result"
    },
    {
     "data": {
      "image/png": "[encoded data removed]",
      "text/plain": [
       "<Figure size 640x480 with 1 Axes>"
      ]
     },
     "metadata": {},
     "output_type": "display_data"
    }
   ],
   "source": [
    "\n",
    "experiment = '../../playground/benchmark-umut-at2/output/thinfilm-bar/MPI-1/0c399a5dac634681c7325af864a4faa0'\n",
    "params, data, signature = pp.load_data(experiment)\n",
    "pp.plot_operator_spectrum(data, params)\n"
   ]
  },
  {
   "cell_type": "markdown",
   "metadata": {},
   "source": [
    "### Extended phase space"
   ]
  },
  {
   "cell_type": "code",
   "execution_count": 66,
   "metadata": {},
   "outputs": [
    {
     "name": "stdout",
     "output_type": "stream",
     "text": [
      "no sig file found\n"
     ]
    }
   ],
   "source": [
    "experiment = '../../test/output/multifissa'\n",
    "params, data, signature = pp.load_data(experiment)\n"
   ]
  },
  {
   "cell_type": "code",
   "execution_count": 67,
   "metadata": {},
   "outputs": [
    {
     "data": {
      "text/html": [
       "<div>\n",
       "<style scoped>\n",
       "    .dataframe tbody tr th:only-of-type {\n",
       "        vertical-align: middle;\n",
       "    }\n",
       "\n",
       "    .dataframe tbody tr th {\n",
       "        vertical-align: top;\n",
       "    }\n",
       "\n",
       "    .dataframe thead th {\n",
       "        text-align: right;\n",
       "    }\n",
       "</style>\n",
       "<table border=\"1\" class=\"dataframe\">\n",
       "  <thead>\n",
       "    <tr style=\"text-align: right;\">\n",
       "      <th></th>\n",
       "      <th>it</th>\n",
       "      <th>AM_F_alpha_H1</th>\n",
       "      <th>AM_Fnorm</th>\n",
       "      <th>NE_Fnorm</th>\n",
       "      <th>load</th>\n",
       "      <th>fracture_energy</th>\n",
       "      <th>elastic_energy</th>\n",
       "      <th>total_energy</th>\n",
       "      <th>solver_data</th>\n",
       "      <th>rate_12_norm</th>\n",
       "      <th>rate_12_norm_unscaled</th>\n",
       "    </tr>\n",
       "  </thead>\n",
       "  <tbody>\n",
       "    <tr>\n",
       "      <th>0</th>\n",
       "      <td>0</td>\n",
       "      <td>0.0</td>\n",
       "      <td>0.113059</td>\n",
       "      <td>0.000000e+00</td>\n",
       "      <td>0.000000</td>\n",
       "      <td>0.000000</td>\n",
       "      <td>0.000000</td>\n",
       "      <td>0.000000</td>\n",
       "      <td>{'iteration': [1], 'error_alpha_L2': [0.0], 'e...</td>\n",
       "      <td>0.000000</td>\n",
       "      <td>0.000000</td>\n",
       "    </tr>\n",
       "    <tr>\n",
       "      <th>1</th>\n",
       "      <td>1</td>\n",
       "      <td>0.0</td>\n",
       "      <td>0.112993</td>\n",
       "      <td>4.530080e-17</td>\n",
       "      <td>0.040837</td>\n",
       "      <td>0.000000</td>\n",
       "      <td>0.000202</td>\n",
       "      <td>0.000202</td>\n",
       "      <td>{'iteration': [1], 'error_alpha_L2': [0.0], 'e...</td>\n",
       "      <td>0.000000</td>\n",
       "      <td>0.000000</td>\n",
       "    </tr>\n",
       "    <tr>\n",
       "      <th>2</th>\n",
       "      <td>2</td>\n",
       "      <td>0.0</td>\n",
       "      <td>0.112794</td>\n",
       "      <td>3.556779e-17</td>\n",
       "      <td>0.081673</td>\n",
       "      <td>0.000000</td>\n",
       "      <td>0.000810</td>\n",
       "      <td>0.000810</td>\n",
       "      <td>{'iteration': [1], 'error_alpha_L2': [0.0], 'e...</td>\n",
       "      <td>0.000000</td>\n",
       "      <td>0.000000</td>\n",
       "    </tr>\n",
       "    <tr>\n",
       "      <th>3</th>\n",
       "      <td>3</td>\n",
       "      <td>0.0</td>\n",
       "      <td>0.112462</td>\n",
       "      <td>5.470746e-17</td>\n",
       "      <td>0.122510</td>\n",
       "      <td>0.000000</td>\n",
       "      <td>0.001822</td>\n",
       "      <td>0.001822</td>\n",
       "      <td>{'iteration': [1], 'error_alpha_L2': [0.0], 'e...</td>\n",
       "      <td>0.000000</td>\n",
       "      <td>0.000000</td>\n",
       "    </tr>\n",
       "    <tr>\n",
       "      <th>4</th>\n",
       "      <td>4</td>\n",
       "      <td>0.0</td>\n",
       "      <td>0.111996</td>\n",
       "      <td>6.393277e-17</td>\n",
       "      <td>0.163347</td>\n",
       "      <td>0.000000</td>\n",
       "      <td>0.003239</td>\n",
       "      <td>0.003239</td>\n",
       "      <td>{'iteration': [1], 'error_alpha_L2': [0.0], 'e...</td>\n",
       "      <td>0.000000</td>\n",
       "      <td>0.000000</td>\n",
       "    </tr>\n",
       "    <tr>\n",
       "      <th>5</th>\n",
       "      <td>5</td>\n",
       "      <td>0.0</td>\n",
       "      <td>0.111395</td>\n",
       "      <td>7.177998e-17</td>\n",
       "      <td>0.204184</td>\n",
       "      <td>0.000000</td>\n",
       "      <td>0.005061</td>\n",
       "      <td>0.005061</td>\n",
       "      <td>{'iteration': [1], 'error_alpha_L2': [0.0], 'e...</td>\n",
       "      <td>0.000000</td>\n",
       "      <td>0.000000</td>\n",
       "    </tr>\n",
       "    <tr>\n",
       "      <th>6</th>\n",
       "      <td>6</td>\n",
       "      <td>0.0</td>\n",
       "      <td>0.110657</td>\n",
       "      <td>1.033367e-16</td>\n",
       "      <td>0.245020</td>\n",
       "      <td>0.000000</td>\n",
       "      <td>0.007288</td>\n",
       "      <td>0.007288</td>\n",
       "      <td>{'iteration': [1], 'error_alpha_L2': [0.0], 'e...</td>\n",
       "      <td>0.000000</td>\n",
       "      <td>0.000000</td>\n",
       "    </tr>\n",
       "    <tr>\n",
       "      <th>7</th>\n",
       "      <td>7</td>\n",
       "      <td>0.0</td>\n",
       "      <td>0.109782</td>\n",
       "      <td>1.209542e-16</td>\n",
       "      <td>0.285857</td>\n",
       "      <td>0.000000</td>\n",
       "      <td>0.009920</td>\n",
       "      <td>0.009920</td>\n",
       "      <td>{'iteration': [1], 'error_alpha_L2': [0.0], 'e...</td>\n",
       "      <td>0.000000</td>\n",
       "      <td>0.000000</td>\n",
       "    </tr>\n",
       "    <tr>\n",
       "      <th>8</th>\n",
       "      <td>8</td>\n",
       "      <td>0.0</td>\n",
       "      <td>0.108768</td>\n",
       "      <td>1.459578e-16</td>\n",
       "      <td>0.326694</td>\n",
       "      <td>0.000000</td>\n",
       "      <td>0.012956</td>\n",
       "      <td>0.012956</td>\n",
       "      <td>{'iteration': [1], 'error_alpha_L2': [0.0], 'e...</td>\n",
       "      <td>0.000000</td>\n",
       "      <td>0.000000</td>\n",
       "    </tr>\n",
       "    <tr>\n",
       "      <th>9</th>\n",
       "      <td>9</td>\n",
       "      <td>0.0</td>\n",
       "      <td>0.107611</td>\n",
       "      <td>1.495607e-16</td>\n",
       "      <td>0.367531</td>\n",
       "      <td>0.000000</td>\n",
       "      <td>0.016398</td>\n",
       "      <td>0.016398</td>\n",
       "      <td>{'iteration': [1], 'error_alpha_L2': [0.0], 'e...</td>\n",
       "      <td>0.000000</td>\n",
       "      <td>0.000000</td>\n",
       "    </tr>\n",
       "    <tr>\n",
       "      <th>10</th>\n",
       "      <td>10</td>\n",
       "      <td>0.0</td>\n",
       "      <td>0.106311</td>\n",
       "      <td>1.546442e-16</td>\n",
       "      <td>0.408367</td>\n",
       "      <td>0.000000</td>\n",
       "      <td>0.020244</td>\n",
       "      <td>0.020244</td>\n",
       "      <td>{'iteration': [1], 'error_alpha_L2': [0.0], 'e...</td>\n",
       "      <td>0.000000</td>\n",
       "      <td>0.000000</td>\n",
       "    </tr>\n",
       "    <tr>\n",
       "      <th>11</th>\n",
       "      <td>11</td>\n",
       "      <td>0.0</td>\n",
       "      <td>0.104865</td>\n",
       "      <td>1.571488e-16</td>\n",
       "      <td>0.449204</td>\n",
       "      <td>0.000000</td>\n",
       "      <td>0.024496</td>\n",
       "      <td>0.024496</td>\n",
       "      <td>{'iteration': [1], 'error_alpha_L2': [0.0], 'e...</td>\n",
       "      <td>0.000000</td>\n",
       "      <td>0.000000</td>\n",
       "    </tr>\n",
       "    <tr>\n",
       "      <th>12</th>\n",
       "      <td>12</td>\n",
       "      <td>0.0</td>\n",
       "      <td>0.103271</td>\n",
       "      <td>1.844652e-16</td>\n",
       "      <td>0.490041</td>\n",
       "      <td>0.000000</td>\n",
       "      <td>0.029152</td>\n",
       "      <td>0.029152</td>\n",
       "      <td>{'iteration': [1], 'error_alpha_L2': [0.0], 'e...</td>\n",
       "      <td>0.000000</td>\n",
       "      <td>0.000000</td>\n",
       "    </tr>\n",
       "    <tr>\n",
       "      <th>13</th>\n",
       "      <td>13</td>\n",
       "      <td>0.0</td>\n",
       "      <td>0.101526</td>\n",
       "      <td>1.989719e-16</td>\n",
       "      <td>0.530878</td>\n",
       "      <td>0.000000</td>\n",
       "      <td>0.034213</td>\n",
       "      <td>0.034213</td>\n",
       "      <td>{'iteration': [1], 'error_alpha_L2': [0.0], 'e...</td>\n",
       "      <td>0.000000</td>\n",
       "      <td>0.000000</td>\n",
       "    </tr>\n",
       "    <tr>\n",
       "      <th>14</th>\n",
       "      <td>14</td>\n",
       "      <td>0.0</td>\n",
       "      <td>0.099629</td>\n",
       "      <td>2.236332e-16</td>\n",
       "      <td>0.571714</td>\n",
       "      <td>0.000000</td>\n",
       "      <td>0.039679</td>\n",
       "      <td>0.039679</td>\n",
       "      <td>{'iteration': [1], 'error_alpha_L2': [0.0], 'e...</td>\n",
       "      <td>0.000000</td>\n",
       "      <td>0.000000</td>\n",
       "    </tr>\n",
       "    <tr>\n",
       "      <th>15</th>\n",
       "      <td>15</td>\n",
       "      <td>0.0</td>\n",
       "      <td>0.097580</td>\n",
       "      <td>2.148484e-16</td>\n",
       "      <td>0.612551</td>\n",
       "      <td>0.000000</td>\n",
       "      <td>0.045550</td>\n",
       "      <td>0.045550</td>\n",
       "      <td>{'iteration': [1], 'error_alpha_L2': [0.0], 'e...</td>\n",
       "      <td>0.000000</td>\n",
       "      <td>0.000000</td>\n",
       "    </tr>\n",
       "    <tr>\n",
       "      <th>16</th>\n",
       "      <td>16</td>\n",
       "      <td>0.0</td>\n",
       "      <td>0.095380</td>\n",
       "      <td>2.412294e-16</td>\n",
       "      <td>0.653388</td>\n",
       "      <td>0.000000</td>\n",
       "      <td>0.051826</td>\n",
       "      <td>0.051826</td>\n",
       "      <td>{'iteration': [1], 'error_alpha_L2': [0.0], 'e...</td>\n",
       "      <td>0.000000</td>\n",
       "      <td>0.000000</td>\n",
       "    </tr>\n",
       "    <tr>\n",
       "      <th>17</th>\n",
       "      <td>17</td>\n",
       "      <td>0.0</td>\n",
       "      <td>0.093032</td>\n",
       "      <td>2.665368e-16</td>\n",
       "      <td>0.694224</td>\n",
       "      <td>0.000000</td>\n",
       "      <td>0.058507</td>\n",
       "      <td>0.058507</td>\n",
       "      <td>{'iteration': [1], 'error_alpha_L2': [0.0], 'e...</td>\n",
       "      <td>0.000000</td>\n",
       "      <td>0.000000</td>\n",
       "    </tr>\n",
       "    <tr>\n",
       "      <th>18</th>\n",
       "      <td>18</td>\n",
       "      <td>0.0</td>\n",
       "      <td>0.090545</td>\n",
       "      <td>2.472368e-16</td>\n",
       "      <td>0.735061</td>\n",
       "      <td>0.000000</td>\n",
       "      <td>0.065592</td>\n",
       "      <td>0.065592</td>\n",
       "      <td>{'iteration': [1], 'error_alpha_L2': [0.0], 'e...</td>\n",
       "      <td>0.000000</td>\n",
       "      <td>0.000000</td>\n",
       "    </tr>\n",
       "    <tr>\n",
       "      <th>19</th>\n",
       "      <td>19</td>\n",
       "      <td>0.0</td>\n",
       "      <td>0.087933</td>\n",
       "      <td>2.575051e-16</td>\n",
       "      <td>0.775898</td>\n",
       "      <td>0.000000</td>\n",
       "      <td>0.073083</td>\n",
       "      <td>0.073083</td>\n",
       "      <td>{'iteration': [1], 'error_alpha_L2': [0.0], 'e...</td>\n",
       "      <td>0.000000</td>\n",
       "      <td>0.000000</td>\n",
       "    </tr>\n",
       "    <tr>\n",
       "      <th>20</th>\n",
       "      <td>20</td>\n",
       "      <td>0.0</td>\n",
       "      <td>0.085223</td>\n",
       "      <td>2.971778e-16</td>\n",
       "      <td>0.816735</td>\n",
       "      <td>0.000000</td>\n",
       "      <td>0.080978</td>\n",
       "      <td>0.080978</td>\n",
       "      <td>{'iteration': [1], 'error_alpha_L2': [0.0], 'e...</td>\n",
       "      <td>0.000000</td>\n",
       "      <td>0.000000</td>\n",
       "    </tr>\n",
       "    <tr>\n",
       "      <th>21</th>\n",
       "      <td>21</td>\n",
       "      <td>0.0</td>\n",
       "      <td>0.082457</td>\n",
       "      <td>3.038969e-16</td>\n",
       "      <td>0.857571</td>\n",
       "      <td>0.000000</td>\n",
       "      <td>0.089278</td>\n",
       "      <td>0.089278</td>\n",
       "      <td>{'iteration': [1], 'error_alpha_L2': [0.0], 'e...</td>\n",
       "      <td>0.000000</td>\n",
       "      <td>0.000000</td>\n",
       "    </tr>\n",
       "    <tr>\n",
       "      <th>22</th>\n",
       "      <td>22</td>\n",
       "      <td>0.0</td>\n",
       "      <td>0.079700</td>\n",
       "      <td>3.286505e-16</td>\n",
       "      <td>0.898408</td>\n",
       "      <td>0.000000</td>\n",
       "      <td>0.097983</td>\n",
       "      <td>0.097983</td>\n",
       "      <td>{'iteration': [1], 'error_alpha_L2': [0.0], 'e...</td>\n",
       "      <td>0.000000</td>\n",
       "      <td>0.000000</td>\n",
       "    </tr>\n",
       "    <tr>\n",
       "      <th>23</th>\n",
       "      <td>23</td>\n",
       "      <td>0.0</td>\n",
       "      <td>0.077054</td>\n",
       "      <td>3.138025e-16</td>\n",
       "      <td>0.939245</td>\n",
       "      <td>0.000000</td>\n",
       "      <td>0.107093</td>\n",
       "      <td>0.107093</td>\n",
       "      <td>{'iteration': [1], 'error_alpha_L2': [0.0], 'e...</td>\n",
       "      <td>0.000000</td>\n",
       "      <td>0.000000</td>\n",
       "    </tr>\n",
       "    <tr>\n",
       "      <th>24</th>\n",
       "      <td>24</td>\n",
       "      <td>0.0</td>\n",
       "      <td>0.074665</td>\n",
       "      <td>3.868039e-16</td>\n",
       "      <td>0.980082</td>\n",
       "      <td>0.000000</td>\n",
       "      <td>0.116608</td>\n",
       "      <td>0.116608</td>\n",
       "      <td>{'iteration': [1], 'error_alpha_L2': [0.0], 'e...</td>\n",
       "      <td>0.000000</td>\n",
       "      <td>0.000000</td>\n",
       "    </tr>\n",
       "    <tr>\n",
       "      <th>25</th>\n",
       "      <td>25</td>\n",
       "      <td>0.0</td>\n",
       "      <td>0.084406</td>\n",
       "      <td>2.212437e-14</td>\n",
       "      <td>1.020918</td>\n",
       "      <td>0.016105</td>\n",
       "      <td>0.095270</td>\n",
       "      <td>0.111376</td>\n",
       "      <td>{'iteration': [3], 'error_alpha_L2': [0.002307...</td>\n",
       "      <td>0.114289</td>\n",
       "      <td>1.522896</td>\n",
       "    </tr>\n",
       "    <tr>\n",
       "      <th>26</th>\n",
       "      <td>26</td>\n",
       "      <td>0.0</td>\n",
       "      <td>0.082626</td>\n",
       "      <td>1.491932e-13</td>\n",
       "      <td>1.061755</td>\n",
       "      <td>0.016181</td>\n",
       "      <td>0.102966</td>\n",
       "      <td>0.119147</td>\n",
       "      <td>{'iteration': [3], 'error_alpha_L2': [0.000578...</td>\n",
       "      <td>0.001249</td>\n",
       "      <td>0.020776</td>\n",
       "    </tr>\n",
       "    <tr>\n",
       "      <th>27</th>\n",
       "      <td>27</td>\n",
       "      <td>0.0</td>\n",
       "      <td>0.080795</td>\n",
       "      <td>5.155154e-14</td>\n",
       "      <td>1.102592</td>\n",
       "      <td>0.016255</td>\n",
       "      <td>0.110961</td>\n",
       "      <td>0.127216</td>\n",
       "      <td>{'iteration': [3], 'error_alpha_L2': [0.000593...</td>\n",
       "      <td>0.001282</td>\n",
       "      <td>0.021325</td>\n",
       "    </tr>\n",
       "    <tr>\n",
       "      <th>28</th>\n",
       "      <td>28</td>\n",
       "      <td>0.0</td>\n",
       "      <td>0.079113</td>\n",
       "      <td>4.424871e-13</td>\n",
       "      <td>1.143429</td>\n",
       "      <td>0.016329</td>\n",
       "      <td>0.119256</td>\n",
       "      <td>0.135585</td>\n",
       "      <td>{'iteration': [3], 'error_alpha_L2': [0.000590...</td>\n",
       "      <td>0.001345</td>\n",
       "      <td>0.022417</td>\n",
       "    </tr>\n",
       "    <tr>\n",
       "      <th>29</th>\n",
       "      <td>29</td>\n",
       "      <td>0.0</td>\n",
       "      <td>0.077586</td>\n",
       "      <td>3.008493e-13</td>\n",
       "      <td>1.184265</td>\n",
       "      <td>0.016404</td>\n",
       "      <td>0.127849</td>\n",
       "      <td>0.144253</td>\n",
       "      <td>{'iteration': [3], 'error_alpha_L2': [0.000594...</td>\n",
       "      <td>0.001449</td>\n",
       "      <td>0.024276</td>\n",
       "    </tr>\n",
       "    <tr>\n",
       "      <th>30</th>\n",
       "      <td>30</td>\n",
       "      <td>0.0</td>\n",
       "      <td>0.094006</td>\n",
       "      <td>2.938884e-10</td>\n",
       "      <td>1.225102</td>\n",
       "      <td>0.047332</td>\n",
       "      <td>0.071712</td>\n",
       "      <td>0.119044</td>\n",
       "      <td>{'iteration': [4], 'error_alpha_L2': [0.005117...</td>\n",
       "      <td>0.159416</td>\n",
       "      <td>2.210807</td>\n",
       "    </tr>\n",
       "    <tr>\n",
       "      <th>31</th>\n",
       "      <td>31</td>\n",
       "      <td>0.0</td>\n",
       "      <td>0.093226</td>\n",
       "      <td>3.183665e-13</td>\n",
       "      <td>1.265939</td>\n",
       "      <td>0.047450</td>\n",
       "      <td>0.076451</td>\n",
       "      <td>0.123901</td>\n",
       "      <td>{'iteration': [3], 'error_alpha_L2': [0.002001...</td>\n",
       "      <td>0.001219</td>\n",
       "      <td>0.019968</td>\n",
       "    </tr>\n",
       "    <tr>\n",
       "      <th>32</th>\n",
       "      <td>32</td>\n",
       "      <td>0.0</td>\n",
       "      <td>0.092407</td>\n",
       "      <td>9.419916e-14</td>\n",
       "      <td>1.306776</td>\n",
       "      <td>0.047563</td>\n",
       "      <td>0.081346</td>\n",
       "      <td>0.128909</td>\n",
       "      <td>{'iteration': [3], 'error_alpha_L2': [0.000610...</td>\n",
       "      <td>0.001259</td>\n",
       "      <td>0.020723</td>\n",
       "    </tr>\n",
       "    <tr>\n",
       "      <th>33</th>\n",
       "      <td>33</td>\n",
       "      <td>0.0</td>\n",
       "      <td>0.091611</td>\n",
       "      <td>6.231317e-13</td>\n",
       "      <td>1.347612</td>\n",
       "      <td>0.047673</td>\n",
       "      <td>0.086396</td>\n",
       "      <td>0.134069</td>\n",
       "      <td>{'iteration': [3], 'error_alpha_L2': [0.000609...</td>\n",
       "      <td>0.001322</td>\n",
       "      <td>0.021867</td>\n",
       "    </tr>\n",
       "    <tr>\n",
       "      <th>34</th>\n",
       "      <td>34</td>\n",
       "      <td>0.0</td>\n",
       "      <td>0.090784</td>\n",
       "      <td>3.686855e-13</td>\n",
       "      <td>1.388449</td>\n",
       "      <td>0.047782</td>\n",
       "      <td>0.091599</td>\n",
       "      <td>0.139381</td>\n",
       "      <td>{'iteration': [3], 'error_alpha_L2': [0.000613...</td>\n",
       "      <td>0.001414</td>\n",
       "      <td>0.023557</td>\n",
       "    </tr>\n",
       "    <tr>\n",
       "      <th>35</th>\n",
       "      <td>35</td>\n",
       "      <td>0.0</td>\n",
       "      <td>0.089980</td>\n",
       "      <td>4.758811e-12</td>\n",
       "      <td>1.429286</td>\n",
       "      <td>0.047892</td>\n",
       "      <td>0.096953</td>\n",
       "      <td>0.144846</td>\n",
       "      <td>{'iteration': [3], 'error_alpha_L2': [0.000605...</td>\n",
       "      <td>0.001552</td>\n",
       "      <td>0.026107</td>\n",
       "    </tr>\n",
       "    <tr>\n",
       "      <th>36</th>\n",
       "      <td>36</td>\n",
       "      <td>0.0</td>\n",
       "      <td>0.089033</td>\n",
       "      <td>3.676470e-12</td>\n",
       "      <td>1.470122</td>\n",
       "      <td>0.048008</td>\n",
       "      <td>0.102454</td>\n",
       "      <td>0.150462</td>\n",
       "      <td>{'iteration': [3], 'error_alpha_L2': [0.000605...</td>\n",
       "      <td>0.001778</td>\n",
       "      <td>0.030261</td>\n",
       "    </tr>\n",
       "    <tr>\n",
       "      <th>37</th>\n",
       "      <td>37</td>\n",
       "      <td>0.0</td>\n",
       "      <td>0.088105</td>\n",
       "      <td>4.590255e-11</td>\n",
       "      <td>1.510959</td>\n",
       "      <td>0.048138</td>\n",
       "      <td>0.108092</td>\n",
       "      <td>0.156229</td>\n",
       "      <td>{'iteration': [3], 'error_alpha_L2': [0.000615...</td>\n",
       "      <td>0.002216</td>\n",
       "      <td>0.038350</td>\n",
       "    </tr>\n",
       "    <tr>\n",
       "      <th>38</th>\n",
       "      <td>38</td>\n",
       "      <td>0.0</td>\n",
       "      <td>0.087184</td>\n",
       "      <td>5.697851e-11</td>\n",
       "      <td>1.551796</td>\n",
       "      <td>0.048326</td>\n",
       "      <td>0.113821</td>\n",
       "      <td>0.162146</td>\n",
       "      <td>{'iteration': [4], 'error_alpha_L2': [0.000637...</td>\n",
       "      <td>0.003798</td>\n",
       "      <td>0.067546</td>\n",
       "    </tr>\n",
       "    <tr>\n",
       "      <th>39</th>\n",
       "      <td>39</td>\n",
       "      <td>0.0</td>\n",
       "      <td>0.086306</td>\n",
       "      <td>3.758892e-13</td>\n",
       "      <td>1.592633</td>\n",
       "      <td>0.049132</td>\n",
       "      <td>0.119030</td>\n",
       "      <td>0.168161</td>\n",
       "      <td>{'iteration': [5], 'error_alpha_L2': [0.000786...</td>\n",
       "      <td>0.017669</td>\n",
       "      <td>0.325733</td>\n",
       "    </tr>\n",
       "    <tr>\n",
       "      <th>40</th>\n",
       "      <td>40</td>\n",
       "      <td>0.0</td>\n",
       "      <td>0.085339</td>\n",
       "      <td>1.222659e-11</td>\n",
       "      <td>1.633469</td>\n",
       "      <td>0.049240</td>\n",
       "      <td>0.125101</td>\n",
       "      <td>0.174341</td>\n",
       "      <td>{'iteration': [3], 'error_alpha_L2': [0.001003...</td>\n",
       "      <td>0.001316</td>\n",
       "      <td>0.021715</td>\n",
       "    </tr>\n",
       "    <tr>\n",
       "      <th>41</th>\n",
       "      <td>41</td>\n",
       "      <td>0.0</td>\n",
       "      <td>0.084315</td>\n",
       "      <td>3.803895e-12</td>\n",
       "      <td>1.674306</td>\n",
       "      <td>0.049342</td>\n",
       "      <td>0.131329</td>\n",
       "      <td>0.180671</td>\n",
       "      <td>{'iteration': [3], 'error_alpha_L2': [0.000546...</td>\n",
       "      <td>0.001318</td>\n",
       "      <td>0.021691</td>\n",
       "    </tr>\n",
       "    <tr>\n",
       "      <th>42</th>\n",
       "      <td>42</td>\n",
       "      <td>0.0</td>\n",
       "      <td>0.083250</td>\n",
       "      <td>2.904636e-13</td>\n",
       "      <td>1.715143</td>\n",
       "      <td>0.049443</td>\n",
       "      <td>0.137710</td>\n",
       "      <td>0.187153</td>\n",
       "      <td>{'iteration': [3], 'error_alpha_L2': [0.000552...</td>\n",
       "      <td>0.001365</td>\n",
       "      <td>0.022529</td>\n",
       "    </tr>\n",
       "    <tr>\n",
       "      <th>43</th>\n",
       "      <td>43</td>\n",
       "      <td>0.0</td>\n",
       "      <td>0.082099</td>\n",
       "      <td>7.805395e-09</td>\n",
       "      <td>1.755980</td>\n",
       "      <td>0.049544</td>\n",
       "      <td>0.144242</td>\n",
       "      <td>0.193787</td>\n",
       "      <td>{'iteration': [2], 'error_alpha_L2': [0.000556...</td>\n",
       "      <td>0.001440</td>\n",
       "      <td>0.023862</td>\n",
       "    </tr>\n",
       "    <tr>\n",
       "      <th>44</th>\n",
       "      <td>44</td>\n",
       "      <td>0.0</td>\n",
       "      <td>0.080945</td>\n",
       "      <td>8.504987e-14</td>\n",
       "      <td>1.796816</td>\n",
       "      <td>0.049655</td>\n",
       "      <td>0.150917</td>\n",
       "      <td>0.200571</td>\n",
       "      <td>{'iteration': [3], 'error_alpha_L2': [0.000588...</td>\n",
       "      <td>0.001638</td>\n",
       "      <td>0.026696</td>\n",
       "    </tr>\n",
       "    <tr>\n",
       "      <th>45</th>\n",
       "      <td>45</td>\n",
       "      <td>0.0</td>\n",
       "      <td>0.079609</td>\n",
       "      <td>1.940894e-12</td>\n",
       "      <td>1.837653</td>\n",
       "      <td>0.049801</td>\n",
       "      <td>0.157704</td>\n",
       "      <td>0.207506</td>\n",
       "      <td>{'iteration': [3], 'error_alpha_L2': [0.000836...</td>\n",
       "      <td>0.002333</td>\n",
       "      <td>0.036638</td>\n",
       "    </tr>\n",
       "    <tr>\n",
       "      <th>46</th>\n",
       "      <td>46</td>\n",
       "      <td>0.0</td>\n",
       "      <td>0.078176</td>\n",
       "      <td>4.342163e-12</td>\n",
       "      <td>1.878490</td>\n",
       "      <td>0.049971</td>\n",
       "      <td>0.164618</td>\n",
       "      <td>0.214589</td>\n",
       "      <td>{'iteration': [3], 'error_alpha_L2': [0.000931...</td>\n",
       "      <td>0.002720</td>\n",
       "      <td>0.042961</td>\n",
       "    </tr>\n",
       "    <tr>\n",
       "      <th>47</th>\n",
       "      <td>47</td>\n",
       "      <td>0.0</td>\n",
       "      <td>0.076654</td>\n",
       "      <td>4.785205e-11</td>\n",
       "      <td>1.919327</td>\n",
       "      <td>0.050173</td>\n",
       "      <td>0.171647</td>\n",
       "      <td>0.221820</td>\n",
       "      <td>{'iteration': [3], 'error_alpha_L2': [0.000951...</td>\n",
       "      <td>0.003230</td>\n",
       "      <td>0.051451</td>\n",
       "    </tr>\n",
       "    <tr>\n",
       "      <th>48</th>\n",
       "      <td>48</td>\n",
       "      <td>0.0</td>\n",
       "      <td>0.074962</td>\n",
       "      <td>2.237183e-09</td>\n",
       "      <td>1.960163</td>\n",
       "      <td>0.050447</td>\n",
       "      <td>0.178749</td>\n",
       "      <td>0.229196</td>\n",
       "      <td>{'iteration': [3], 'error_alpha_L2': [0.001009...</td>\n",
       "      <td>0.004369</td>\n",
       "      <td>0.070511</td>\n",
       "    </tr>\n",
       "    <tr>\n",
       "      <th>49</th>\n",
       "      <td>49</td>\n",
       "      <td>0.0</td>\n",
       "      <td>0.074223</td>\n",
       "      <td>6.885106e-12</td>\n",
       "      <td>2.001000</td>\n",
       "      <td>0.055566</td>\n",
       "      <td>0.178970</td>\n",
       "      <td>0.234536</td>\n",
       "      <td>{'iteration': [6], 'error_alpha_L2': [0.001125...</td>\n",
       "      <td>0.060853</td>\n",
       "      <td>0.996626</td>\n",
       "    </tr>\n",
       "  </tbody>\n",
       "</table>\n",
       "</div>"
      ],
      "text/plain": [
       "    it  AM_F_alpha_H1  AM_Fnorm      NE_Fnorm      load  fracture_energy  \\\n",
       "0    0            0.0  0.113059  0.000000e+00  0.000000         0.000000   \n",
       "1    1            0.0  0.112993  4.530080e-17  0.040837         0.000000   \n",
       "2    2            0.0  0.112794  3.556779e-17  0.081673         0.000000   \n",
       "3    3            0.0  0.112462  5.470746e-17  0.122510         0.000000   \n",
       "4    4            0.0  0.111996  6.393277e-17  0.163347         0.000000   \n",
       "5    5            0.0  0.111395  7.177998e-17  0.204184         0.000000   \n",
       "6    6            0.0  0.110657  1.033367e-16  0.245020         0.000000   \n",
       "7    7            0.0  0.109782  1.209542e-16  0.285857         0.000000   \n",
       "8    8            0.0  0.108768  1.459578e-16  0.326694         0.000000   \n",
       "9    9            0.0  0.107611  1.495607e-16  0.367531         0.000000   \n",
       "10  10            0.0  0.106311  1.546442e-16  0.408367         0.000000   \n",
       "11  11            0.0  0.104865  1.571488e-16  0.449204         0.000000   \n",
       "12  12            0.0  0.103271  1.844652e-16  0.490041         0.000000   \n",
       "13  13            0.0  0.101526  1.989719e-16  0.530878         0.000000   \n",
       "14  14            0.0  0.099629  2.236332e-16  0.571714         0.000000   \n",
       "15  15            0.0  0.097580  2.148484e-16  0.612551         0.000000   \n",
       "16  16            0.0  0.095380  2.412294e-16  0.653388         0.000000   \n",
       "17  17            0.0  0.093032  2.665368e-16  0.694224         0.000000   \n",
       "18  18            0.0  0.090545  2.472368e-16  0.735061         0.000000   \n",
       "19  19            0.0  0.087933  2.575051e-16  0.775898         0.000000   \n",
       "20  20            0.0  0.085223  2.971778e-16  0.816735         0.000000   \n",
       "21  21            0.0  0.082457  3.038969e-16  0.857571         0.000000   \n",
       "22  22            0.0  0.079700  3.286505e-16  0.898408         0.000000   \n",
       "23  23            0.0  0.077054  3.138025e-16  0.939245         0.000000   \n",
       "24  24            0.0  0.074665  3.868039e-16  0.980082         0.000000   \n",
       "25  25            0.0  0.084406  2.212437e-14  1.020918         0.016105   \n",
       "26  26            0.0  0.082626  1.491932e-13  1.061755         0.016181   \n",
       "27  27            0.0  0.080795  5.155154e-14  1.102592         0.016255   \n",
       "28  28            0.0  0.079113  4.424871e-13  1.143429         0.016329   \n",
       "29  29            0.0  0.077586  3.008493e-13  1.184265         0.016404   \n",
       "30  30            0.0  0.094006  2.938884e-10  1.225102         0.047332   \n",
       "31  31            0.0  0.093226  3.183665e-13  1.265939         0.047450   \n",
       "32  32            0.0  0.092407  9.419916e-14  1.306776         0.047563   \n",
       "33  33            0.0  0.091611  6.231317e-13  1.347612         0.047673   \n",
       "34  34            0.0  0.090784  3.686855e-13  1.388449         0.047782   \n",
       "35  35            0.0  0.089980  4.758811e-12  1.429286         0.047892   \n",
       "36  36            0.0  0.089033  3.676470e-12  1.470122         0.048008   \n",
       "37  37            0.0  0.088105  4.590255e-11  1.510959         0.048138   \n",
       "38  38            0.0  0.087184  5.697851e-11  1.551796         0.048326   \n",
       "39  39            0.0  0.086306  3.758892e-13  1.592633         0.049132   \n",
       "40  40            0.0  0.085339  1.222659e-11  1.633469         0.049240   \n",
       "41  41            0.0  0.084315  3.803895e-12  1.674306         0.049342   \n",
       "42  42            0.0  0.083250  2.904636e-13  1.715143         0.049443   \n",
       "43  43            0.0  0.082099  7.805395e-09  1.755980         0.049544   \n",
       "44  44            0.0  0.080945  8.504987e-14  1.796816         0.049655   \n",
       "45  45            0.0  0.079609  1.940894e-12  1.837653         0.049801   \n",
       "46  46            0.0  0.078176  4.342163e-12  1.878490         0.049971   \n",
       "47  47            0.0  0.076654  4.785205e-11  1.919327         0.050173   \n",
       "48  48            0.0  0.074962  2.237183e-09  1.960163         0.050447   \n",
       "49  49            0.0  0.074223  6.885106e-12  2.001000         0.055566   \n",
       "\n",
       "    elastic_energy  total_energy  \\\n",
       "0         0.000000      0.000000   \n",
       "1         0.000202      0.000202   \n",
       "2         0.000810      0.000810   \n",
       "3         0.001822      0.001822   \n",
       "4         0.003239      0.003239   \n",
       "5         0.005061      0.005061   \n",
       "6         0.007288      0.007288   \n",
       "7         0.009920      0.009920   \n",
       "8         0.012956      0.012956   \n",
       "9         0.016398      0.016398   \n",
       "10        0.020244      0.020244   \n",
       "11        0.024496      0.024496   \n",
       "12        0.029152      0.029152   \n",
       "13        0.034213      0.034213   \n",
       "14        0.039679      0.039679   \n",
       "15        0.045550      0.045550   \n",
       "16        0.051826      0.051826   \n",
       "17        0.058507      0.058507   \n",
       "18        0.065592      0.065592   \n",
       "19        0.073083      0.073083   \n",
       "20        0.080978      0.080978   \n",
       "21        0.089278      0.089278   \n",
       "22        0.097983      0.097983   \n",
       "23        0.107093      0.107093   \n",
       "24        0.116608      0.116608   \n",
       "25        0.095270      0.111376   \n",
       "26        0.102966      0.119147   \n",
       "27        0.110961      0.127216   \n",
       "28        0.119256      0.135585   \n",
       "29        0.127849      0.144253   \n",
       "30        0.071712      0.119044   \n",
       "31        0.076451      0.123901   \n",
       "32        0.081346      0.128909   \n",
       "33        0.086396      0.134069   \n",
       "34        0.091599      0.139381   \n",
       "35        0.096953      0.144846   \n",
       "36        0.102454      0.150462   \n",
       "37        0.108092      0.156229   \n",
       "38        0.113821      0.162146   \n",
       "39        0.119030      0.168161   \n",
       "40        0.125101      0.174341   \n",
       "41        0.131329      0.180671   \n",
       "42        0.137710      0.187153   \n",
       "43        0.144242      0.193787   \n",
       "44        0.150917      0.200571   \n",
       "45        0.157704      0.207506   \n",
       "46        0.164618      0.214589   \n",
       "47        0.171647      0.221820   \n",
       "48        0.178749      0.229196   \n",
       "49        0.178970      0.234536   \n",
       "\n",
       "                                          solver_data  rate_12_norm  \\\n",
       "0   {'iteration': [1], 'error_alpha_L2': [0.0], 'e...      0.000000   \n",
       "1   {'iteration': [1], 'error_alpha_L2': [0.0], 'e...      0.000000   \n",
       "2   {'iteration': [1], 'error_alpha_L2': [0.0], 'e...      0.000000   \n",
       "3   {'iteration': [1], 'error_alpha_L2': [0.0], 'e...      0.000000   \n",
       "4   {'iteration': [1], 'error_alpha_L2': [0.0], 'e...      0.000000   \n",
       "5   {'iteration': [1], 'error_alpha_L2': [0.0], 'e...      0.000000   \n",
       "6   {'iteration': [1], 'error_alpha_L2': [0.0], 'e...      0.000000   \n",
       "7   {'iteration': [1], 'error_alpha_L2': [0.0], 'e...      0.000000   \n",
       "8   {'iteration': [1], 'error_alpha_L2': [0.0], 'e...      0.000000   \n",
       "9   {'iteration': [1], 'error_alpha_L2': [0.0], 'e...      0.000000   \n",
       "10  {'iteration': [1], 'error_alpha_L2': [0.0], 'e...      0.000000   \n",
       "11  {'iteration': [1], 'error_alpha_L2': [0.0], 'e...      0.000000   \n",
       "12  {'iteration': [1], 'error_alpha_L2': [0.0], 'e...      0.000000   \n",
       "13  {'iteration': [1], 'error_alpha_L2': [0.0], 'e...      0.000000   \n",
       "14  {'iteration': [1], 'error_alpha_L2': [0.0], 'e...      0.000000   \n",
       "15  {'iteration': [1], 'error_alpha_L2': [0.0], 'e...      0.000000   \n",
       "16  {'iteration': [1], 'error_alpha_L2': [0.0], 'e...      0.000000   \n",
       "17  {'iteration': [1], 'error_alpha_L2': [0.0], 'e...      0.000000   \n",
       "18  {'iteration': [1], 'error_alpha_L2': [0.0], 'e...      0.000000   \n",
       "19  {'iteration': [1], 'error_alpha_L2': [0.0], 'e...      0.000000   \n",
       "20  {'iteration': [1], 'error_alpha_L2': [0.0], 'e...      0.000000   \n",
       "21  {'iteration': [1], 'error_alpha_L2': [0.0], 'e...      0.000000   \n",
       "22  {'iteration': [1], 'error_alpha_L2': [0.0], 'e...      0.000000   \n",
       "23  {'iteration': [1], 'error_alpha_L2': [0.0], 'e...      0.000000   \n",
       "24  {'iteration': [1], 'error_alpha_L2': [0.0], 'e...      0.000000   \n",
       "25  {'iteration': [3], 'error_alpha_L2': [0.002307...      0.114289   \n",
       "26  {'iteration': [3], 'error_alpha_L2': [0.000578...      0.001249   \n",
       "27  {'iteration': [3], 'error_alpha_L2': [0.000593...      0.001282   \n",
       "28  {'iteration': [3], 'error_alpha_L2': [0.000590...      0.001345   \n",
       "29  {'iteration': [3], 'error_alpha_L2': [0.000594...      0.001449   \n",
       "30  {'iteration': [4], 'error_alpha_L2': [0.005117...      0.159416   \n",
       "31  {'iteration': [3], 'error_alpha_L2': [0.002001...      0.001219   \n",
       "32  {'iteration': [3], 'error_alpha_L2': [0.000610...      0.001259   \n",
       "33  {'iteration': [3], 'error_alpha_L2': [0.000609...      0.001322   \n",
       "34  {'iteration': [3], 'error_alpha_L2': [0.000613...      0.001414   \n",
       "35  {'iteration': [3], 'error_alpha_L2': [0.000605...      0.001552   \n",
       "36  {'iteration': [3], 'error_alpha_L2': [0.000605...      0.001778   \n",
       "37  {'iteration': [3], 'error_alpha_L2': [0.000615...      0.002216   \n",
       "38  {'iteration': [4], 'error_alpha_L2': [0.000637...      0.003798   \n",
       "39  {'iteration': [5], 'error_alpha_L2': [0.000786...      0.017669   \n",
       "40  {'iteration': [3], 'error_alpha_L2': [0.001003...      0.001316   \n",
       "41  {'iteration': [3], 'error_alpha_L2': [0.000546...      0.001318   \n",
       "42  {'iteration': [3], 'error_alpha_L2': [0.000552...      0.001365   \n",
       "43  {'iteration': [2], 'error_alpha_L2': [0.000556...      0.001440   \n",
       "44  {'iteration': [3], 'error_alpha_L2': [0.000588...      0.001638   \n",
       "45  {'iteration': [3], 'error_alpha_L2': [0.000836...      0.002333   \n",
       "46  {'iteration': [3], 'error_alpha_L2': [0.000931...      0.002720   \n",
       "47  {'iteration': [3], 'error_alpha_L2': [0.000951...      0.003230   \n",
       "48  {'iteration': [3], 'error_alpha_L2': [0.001009...      0.004369   \n",
       "49  {'iteration': [6], 'error_alpha_L2': [0.001125...      0.060853   \n",
       "\n",
       "    rate_12_norm_unscaled  \n",
       "0                0.000000  \n",
       "1                0.000000  \n",
       "2                0.000000  \n",
       "3                0.000000  \n",
       "4                0.000000  \n",
       "5                0.000000  \n",
       "6                0.000000  \n",
       "7                0.000000  \n",
       "8                0.000000  \n",
       "9                0.000000  \n",
       "10               0.000000  \n",
       "11               0.000000  \n",
       "12               0.000000  \n",
       "13               0.000000  \n",
       "14               0.000000  \n",
       "15               0.000000  \n",
       "16               0.000000  \n",
       "17               0.000000  \n",
       "18               0.000000  \n",
       "19               0.000000  \n",
       "20               0.000000  \n",
       "21               0.000000  \n",
       "22               0.000000  \n",
       "23               0.000000  \n",
       "24               0.000000  \n",
       "25               1.522896  \n",
       "26               0.020776  \n",
       "27               0.021325  \n",
       "28               0.022417  \n",
       "29               0.024276  \n",
       "30               2.210807  \n",
       "31               0.019968  \n",
       "32               0.020723  \n",
       "33               0.021867  \n",
       "34               0.023557  \n",
       "35               0.026107  \n",
       "36               0.030261  \n",
       "37               0.038350  \n",
       "38               0.067546  \n",
       "39               0.325733  \n",
       "40               0.021715  \n",
       "41               0.021691  \n",
       "42               0.022529  \n",
       "43               0.023862  \n",
       "44               0.026696  \n",
       "45               0.036638  \n",
       "46               0.042961  \n",
       "47               0.051451  \n",
       "48               0.070511  \n",
       "49               0.996626  "
      ]
     },
     "execution_count": 67,
     "metadata": {},
     "output_type": "execute_result"
    }
   ],
   "source": [
    "data"
   ]
  },
  {
   "cell_type": "markdown",
   "metadata": {},
   "source": [
    "$$\n",
    "s:= t + \\int_0^t ||\\dot \\alpha||_{1, 2} dx\n",
    "$$"
   ]
  },
  {
   "cell_type": "code",
   "execution_count": 68,
   "metadata": {},
   "outputs": [
    {
     "data": {
      "text/plain": [
       "0     0.000000\n",
       "1     0.000000\n",
       "2     0.000000\n",
       "3     0.000000\n",
       "4     0.000000\n",
       "5     0.000000\n",
       "6     0.000000\n",
       "7     0.000000\n",
       "8     0.000000\n",
       "9     0.000000\n",
       "10    0.000000\n",
       "11    0.000000\n",
       "12    0.000000\n",
       "13    0.000000\n",
       "14    0.000000\n",
       "15    0.000000\n",
       "16    0.000000\n",
       "17    0.000000\n",
       "18    0.000000\n",
       "19    0.000000\n",
       "20    0.000000\n",
       "21    0.000000\n",
       "22    0.000000\n",
       "23    0.000000\n",
       "24    0.000000\n",
       "25    0.114289\n",
       "26    0.001249\n",
       "27    0.001282\n",
       "28    0.001345\n",
       "29    0.001449\n",
       "30    0.159416\n",
       "31    0.001219\n",
       "32    0.001259\n",
       "33    0.001322\n",
       "34    0.001414\n",
       "35    0.001552\n",
       "36    0.001778\n",
       "37    0.002216\n",
       "38    0.003798\n",
       "39    0.017669\n",
       "40    0.001316\n",
       "41    0.001318\n",
       "42    0.001365\n",
       "43    0.001440\n",
       "44    0.001638\n",
       "45    0.002333\n",
       "46    0.002720\n",
       "47    0.003230\n",
       "48    0.004369\n",
       "49    0.060853\n",
       "Name: rate_12_norm, dtype: float64"
      ]
     },
     "execution_count": 68,
     "metadata": {},
     "output_type": "execute_result"
    }
   ],
   "source": [
    "data.get(\"rate_12_norm\")"
   ]
  },
  {
   "cell_type": "code",
   "execution_count": 69,
   "metadata": {},
   "outputs": [],
   "source": [
    "import numpy as np\n",
    "import matplotlib.pyplot as plt"
   ]
  },
  {
   "cell_type": "code",
   "execution_count": 74,
   "metadata": {},
   "outputs": [
    {
     "data": {
      "text/plain": [
       "0.1"
      ]
     },
     "execution_count": 74,
     "metadata": {},
     "output_type": "execute_result"
    }
   ],
   "source": [
    "params.get(\"geometry\").get(\"Ly\")"
   ]
  },
  {
   "cell_type": "code",
   "execution_count": 70,
   "metadata": {},
   "outputs": [],
   "source": [
    "sell = []\n",
    "_dt = (params.get(\"loading\").get(\"max\") - params.get(\"loading\").get(\"min\")) /params.get(\"loading\").get(\"steps\")\n",
    "for i, t in enumerate(data.get(\"load\")):\n",
    "    sell.append(np.trapz(data.get(\"rate_12_norm\")[0:i], data.get(\"load\")[0:i])/_dt)\n",
    "\n",
    "s0 = []\n",
    "_dt = (params.get(\"loading\").get(\"max\") - params.get(\"loading\").get(\"min\")) /params.get(\"loading\").get(\"steps\")\n",
    "for i, t in enumerate(data.get(\"load\")):\n",
    "    s0.append(np.trapz(data.get(\"rate_12_norm_unscaled\")[0:i], data.get(\"load\")[0:i])/_dt)\n",
    "    \n",
    "# s = data.get(\"load\") + s0"
   ]
  },
  {
   "cell_type": "code",
   "execution_count": 77,
   "metadata": {},
   "outputs": [
    {
     "data": {
      "image/png": "[encoded data removed]",
      "text/plain": [
       "<Figure size 432x288 with 2 Axes>"
      ]
     },
     "metadata": {},
     "output_type": "display_data"
    }
   ],
   "source": [
    "plt.title(\"Evolution Jumps?\")\n",
    "# plt.plot(data.get(\"load\"), s, marker = 'o', label='s')\n",
    "plt.plot(data.get(\"load\"), sell, marker = 'o', label='$s_\\ell$')\n",
    "plt.plot(data.get(\"load\"), s0, marker = 'o', label='$s_0$')\n",
    "plt.plot(data.get(\"load\"), data.get(\"load\"), marker = 'o', label='t')\n",
    "plt.ylabel('$t, s_0, s$')\n",
    "plt.xlabel('t')\n",
    "plt.legend()\n",
    "plt.twinx()\n",
    "plt.plot(data.get(\"load\"), data.get(\"fracture_energy\")/params.get(\"geometry\").get(\"Ly\"),\n",
    "    marker = 's', c='k', label='fracture')\n",
    "plt.ylabel('energy')\n",
    "plt.legend(loc=4)\n",
    "plt.savefig('jumps_evo_multifiss.png')"
   ]
  },
  {
   "cell_type": "code",
   "execution_count": 64,
   "metadata": {},
   "outputs": [
    {
     "data": {
      "text/plain": [
       "[<matplotlib.lines.Line2D at 0x1586858e0>]"
      ]
     },
     "execution_count": 64,
     "metadata": {},
     "output_type": "execute_result"
    },
    {
     "data": {
      "image/png": "[encoded data removed]",
      "text/plain": [
       "<Figure size 432x288 with 1 Axes>"
      ]
     },
     "metadata": {},
     "output_type": "display_data"
    }
   ],
   "source": [
    "plt.plot(data.get(\"load\"), sell, marker = 'o', label='$s_\\ell$')\n",
    "plt.twinx()\n",
    "plt.plot(np.diff(np.array(sell)), label=\"\")\n",
    "plt.xlabel('t')\n"
   ]
  },
  {
   "cell_type": "code",
   "execution_count": null,
   "metadata": {},
   "outputs": [],
   "source": []
  }
 ],
 "metadata": {
  "interpreter": {
   "hash": "b0fa6594d8f4cbf19f97940f81e996739fb7646882a419484c72d19e05852a7e"
  },
  "kernelspec": {
   "display_name": "Python 3.9.13 64-bit",
   "language": "python",
   "name": "python3"
  },
  "language_info": {
   "codemirror_mode": {
    "name": "ipython",
    "version": 3
   },
   "file_extension": ".py",
   "mimetype": "text/x-python",
   "name": "python",
   "nbconvert_exporter": "python",
   "pygments_lexer": "ipython3",
   "version": "3.11.6"
  },
  "orig_nbformat": 4
 },
 "nbformat": 4,
 "nbformat_minor": 2
}
