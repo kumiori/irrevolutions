{
 "cells": [
  {
   "cell_type": "code",
   "execution_count": 1,
   "metadata": {},
   "outputs": [],
   "source": [
    "import sympy as sp\n",
    "import numpy as np\n",
    "import matplotlib.pyplot as plt\n",
    "import json\n",
    "import pandas as pd\n",
    "import os\n",
    "\n",
    "import yaml\n",
    "import hashlib"
   ]
  },
  {
   "cell_type": "code",
   "execution_count": 2,
   "metadata": {},
   "outputs": [],
   "source": [
    "N = sp.symbols(\"N\", integer=True)\n",
    "t = sp.symbols('t')\n",
    "_N = 2\n",
    "\n",
    "γ = sp.symbols('γ')\n",
    "E0, L, w1, σc = sp.symbols('E0 L w1 σc', positive = True)\n",
    "\n",
    "u = sp.symbols([f\"u{i}\" for i in range(0, _N)])\n",
    "e = sp.symbols([f\"e{i}\" for i in range(1, _N+1)])\n",
    "α = sp.symbols([f\"α{i}\" for i in range(1, _N+1)])\n",
    "_α = sp.symbols(\"α\")\n",
    "\n",
    "\n",
    "\n",
    "β = sp.symbols('β')\n",
    "\n"
   ]
  },
  {
   "cell_type": "code",
   "execution_count": 3,
   "metadata": {},
   "outputs": [],
   "source": [
    "state = {\"u\": u, \"α\": α, \"e\": e}\n",
    "_matpar = {N: _N, γ: 2, E0: 1, w1: 1, L: 1}\n",
    "matpar = {\"N\": N, \"γ\": γ, \"E0\": E0, \"w1\": w1, \"L\": L}\n",
    "\n"
   ]
  },
  {
   "cell_type": "code",
   "execution_count": 4,
   "metadata": {},
   "outputs": [],
   "source": [
    "_a = sp.Function('a')\n",
    "_w = sp.Function('w')\n",
    "_s = sp.Function('s')\n"
   ]
  },
  {
   "cell_type": "code",
   "execution_count": 5,
   "metadata": {},
   "outputs": [],
   "source": [
    "_s = 1/_a(_α)"
   ]
  },
  {
   "cell_type": "code",
   "execution_count": 6,
   "metadata": {},
   "outputs": [
    {
     "data": {
      "text/latex": [
       "$\\displaystyle \\frac{1}{a{\\left(α \\right)}}$"
      ],
      "text/plain": [
       "1/a(α)"
      ]
     },
     "execution_count": 6,
     "metadata": {},
     "output_type": "execute_result"
    }
   ],
   "source": [
    "_s"
   ]
  },
  {
   "cell_type": "code",
   "execution_count": 7,
   "metadata": {},
   "outputs": [],
   "source": [
    "_ap = sp.diff(_a(_α), _α)"
   ]
  },
  {
   "cell_type": "code",
   "execution_count": 8,
   "metadata": {},
   "outputs": [],
   "source": [
    "class SymbolicDiscreteDamage:\n",
    "    def __init__(self, state, matpar, \n",
    "                 name = \"discrete generalised damage\",\n",
    "                 slug = \"general damage\"):\n",
    "        self.state = state\n",
    "        self.matpar = matpar\n",
    "        self.str = name\n",
    "        self.slug = slug\n",
    "\n",
    "    def _s(self, αi):\n",
    "        s = sp.Function('s')\n",
    "        # s = 1/self._a(αi)\n",
    "        return s(αi)\n",
    "\n",
    "    def _a(self, αi):\n",
    "        γ = self.matpar[\"γ\"]\n",
    "        a = sp.Function('a')\n",
    "        return a(αi)\n",
    "    \n",
    "    def energy(self, state):\n",
    "        \"\"\"Total energy\"\"\"\n",
    "        return self._elastic(state) + self._damage(state) - self.work(state)\n",
    "\n",
    "    def work(self, state):\n",
    "        return 0\n",
    "\n",
    "    def _elastic(self, state):\n",
    "        _e = state[\"e\"]\n",
    "        _α = state[\"α\"]\n",
    "        # _w1 = matpar[\"w1\"]\n",
    "        _E0 = self.matpar[\"E0\"]\n",
    "        _N = self.matpar[\"N\"]\n",
    "    \n",
    "        return sum([1./2. * E0 * N * self._a(α[i]) * e[i]**2 for i in range(len(α))])\n",
    "\n",
    "    def _w(self, αi):\n",
    "        w = sp.Function('w')\n",
    "\n",
    "        return w(αi)\n",
    "\n",
    "    def _damage(self, state):\n",
    "        _α = state[\"α\"]\n",
    "        _w1 = self.matpar[\"w1\"]\n",
    "\n",
    "        _N = self.matpar[\"N\"]\n",
    "\n",
    "        return sum([_w1 / _N * self._w(_α[i]) for i in range(len(_α))]) \n",
    "        # return _w1 * self._w(_α)\n",
    "\n",
    "\n",
    "    # Explicit expressions\n",
    "    def w(self, αi):\n",
    "        return αi\n",
    "\n",
    "    def a(self, αi):\n",
    "        γ = self.matpar[\"γ\"]\n",
    "\n",
    "        return (1 - self._w(αi)) / ((γ-1) * self._w(αi) + 1)\n",
    "\n",
    "\n",
    "    def __str__(self):\n",
    "     return self.str\n"
   ]
  },
  {
   "cell_type": "code",
   "execution_count": 9,
   "metadata": {},
   "outputs": [],
   "source": [
    "atls = SymbolicDiscreteDamage(state, matpar)\n"
   ]
  },
  {
   "cell_type": "code",
   "execution_count": 10,
   "metadata": {},
   "outputs": [
    {
     "data": {
      "text/plain": [
       "<bound method SymbolicDiscreteDamage._s of <__main__.SymbolicDiscreteDamage object at 0x119bdd8e0>>"
      ]
     },
     "execution_count": 10,
     "metadata": {},
     "output_type": "execute_result"
    }
   ],
   "source": [
    "atls._s"
   ]
  },
  {
   "cell_type": "code",
   "execution_count": 11,
   "metadata": {},
   "outputs": [
    {
     "data": {
      "text/latex": [
       "$\\displaystyle s{\\left(α_{1} \\right)}$"
      ],
      "text/plain": [
       "s(α1)"
      ]
     },
     "execution_count": 11,
     "metadata": {},
     "output_type": "execute_result"
    }
   ],
   "source": [
    "atls._s(α[0])"
   ]
  },
  {
   "cell_type": "code",
   "execution_count": 12,
   "metadata": {},
   "outputs": [
    {
     "data": {
      "text/latex": [
       "$\\displaystyle 0.5 E_{0} N e_{1}^{2} a{\\left(α_{1} \\right)} + 0.5 E_{0} N e_{2}^{2} a{\\left(α_{2} \\right)} + \\frac{w_{1} w{\\left(α_{1} \\right)}}{N} + \\frac{w_{1} w{\\left(α_{2} \\right)}}{N}$"
      ],
      "text/plain": [
       "0.5*E0*N*e1**2*a(α1) + 0.5*E0*N*e2**2*a(α2) + w1*w(α1)/N + w1*w(α2)/N"
      ]
     },
     "execution_count": 12,
     "metadata": {},
     "output_type": "execute_result"
    }
   ],
   "source": [
    "atls.energy(state)"
   ]
  },
  {
   "cell_type": "code",
   "execution_count": 171,
   "metadata": {},
   "outputs": [],
   "source": [
    "class ModelAnalysis:\n",
    "    \"\"\"Helper class to analyse stability properties of a model\"\"\"\n",
    "\n",
    "    def __init__(self, model):\n",
    "        self.model = model\n",
    "        self.state = model.state\n",
    "        _state = self.state\n",
    "        self.matpar = model.matpar\n",
    "\n",
    "        _β = sp.symbols('β')\n",
    "        _e = sp.symbols('e')\n",
    "        self._β = _β\n",
    "        self._e = _e\n",
    "        \n",
    "        self._s = model._s(_β)\n",
    "        self._sp = sp.diff(self._s, _β, 1)\n",
    "        self._spp = sp.diff(self._s, _β, 2)\n",
    "\n",
    "        self._a = model._a(_β)\n",
    "        self._ap = sp.diff(self._a, _β, 1)\n",
    "        self._app = sp.diff(self._a, _β, 2)\n",
    "\n",
    "        self._w = model._w(_β)\n",
    "        self._wp = sp.diff(self._w, _β)\n",
    "        self._wpp = sp.diff(self._w, _β, 2)\n",
    "\n",
    "        # self.criterion()\n",
    "\n",
    "\n",
    "    def criterion(self):\n",
    "        \"\"\"Damage onset\"\"\"\n",
    "        model, state = self.model, self.state\n",
    "        x = sp.symbols('x')\n",
    "\n",
    "        β = self._β\n",
    "        e = self._e\n",
    "\n",
    "        _u0 = t*x/L\n",
    "        _e0 = t/L\n",
    "        _alpha0 = 0\n",
    "\n",
    "        _homogeneous_damage = {a: β for a in state[\"α\"]}\n",
    "        _homogeneous_strain = {a: e for a in state[\"e\"]}\n",
    "        _sound = {a: 0 for a in state[\"α\"]}\n",
    "\n",
    "        _crit = sp.diff(\n",
    "            model.energy(state)                 \\\n",
    "                .subs(_homogeneous_damage)      \\\n",
    "                .subs(_homogeneous_strain), β)  \\\n",
    "                .subs({e: _e0, β: _alpha0})    \n",
    "\n",
    "        self.crit = _crit\n",
    "\n",
    "        return _crit\n",
    "\n",
    "    def critical_load(self, matpar = {}):\n",
    "        \"\"\"Critical load\"\"\"\n",
    "\n",
    "        criterion = self.crit           \\\n",
    "            .replace(_a, self.model.a)  \\\n",
    "            .replace(_w, self.model.w)\n",
    "\n",
    "        tc = sp.solve(criterion, t)\n",
    "        \n",
    "        if matpar:\n",
    "            tc = [_tc.subs(_matpar) for _tc in tc if _tc.subs(_matpar).is_positive]\n",
    "        \n",
    "        return tc, criterion\n",
    "\n",
    "\n",
    "    def _equilirbrium_e(self):\n",
    "        _S = sum([self.model._s(αi) for αi in state[\"α\"]])\n",
    "\n",
    "        _e = [(t/L * self.model._s(αi) / _S).simplify() \\\n",
    "                    for αi in state[\"α\"]]\n",
    "\n",
    "        return _e\n",
    "    \n",
    "    def energy_fc_alpha(self):\n",
    "        _ei = self._equilirbrium_e()\n",
    "        equilibrium_subs = {v[0]: v[1] for v in zip(state[\"e\"], _ei)}\n",
    "        \n",
    "        return self.model.energy(state).subs(equilibrium_subs)\n",
    "\n",
    "\n",
    "    def _state_split(self, m, state, matpar):\n",
    "        \"\"\"Split the state into homogeneous and bifurcated parts\"\"\"\n",
    "\n",
    "        assert m < matpar[N]\n",
    "\n",
    "        _bif_α = [state[\"α\"][k+1] for k in range(m)]\n",
    "        _bif_e = [state[\"e\"][k+1] for k in range(m)]\n",
    "\n",
    "        _homo_α = set(state[\"α\"]) - set(_bif_α)\n",
    "        _homo_e = set(state[\"e\"]) - set(_bif_e)\n",
    "\n",
    "        return _bif_α, _homo_α, _bif_e, _homo_e\n",
    "\n",
    "    def _state_homog_substitutions(self, state, matpar):\n",
    "        \"\"\"Substitutions for the homogeneous state\"\"\"\n",
    "        αt = sp.symbols('α_t')\n",
    "        et = sp.symbols('e_t')\n",
    "\n",
    "        _subs_αh = {a: αt for a in state[\"α\"]}\n",
    "        _subs_eh = {e: et for e in state[\"e\"]}\n",
    "\n",
    "        return _subs_αh, _subs_eh\n",
    "\n",
    "    def homogeneous_α(self, matpar = {}):\n",
    "        \"\"\"Solves the (homogeneous) evolution law for damage\"\"\"\n",
    "        αt = sp.symbols('α_t')\n",
    "        \n",
    "        if matpar:\n",
    "            return [sol.subs(matpar) for sol in \\\n",
    "                    list(map(sp.simplify, sp.solve(self.evo_α(matpar), αt)))]\n",
    "        else:\n",
    "            return list(map(sp.simplify, sp.solve(self.evo_α(), αt)))\n",
    "\n",
    "    def evo_α(self, matpar = {}):\n",
    "        \"\"\"Evolution law for damage\"\"\"\n",
    "        αt = sp.symbols('α_t')\n",
    "        subs_homog_α, _ =  self._state_homog_substitutions(state, matpar)\n",
    "\n",
    "        return sp.diff(self.energy_fc_alpha().subs(subs_homog_α), αt)                   \\\n",
    "            .replace(_a, self.model.a)                  \\\n",
    "            .replace(_w, self.model.w)                  \\\n",
    "            .doit().simplify()\n"
   ]
  },
  {
   "cell_type": "code",
   "execution_count": 142,
   "metadata": {},
   "outputs": [
    {
     "data": {
      "text/latex": [
       "$\\displaystyle \\frac{1.0 E_{0} N t^{2} \\left. \\frac{d}{d β} a{\\left(β \\right)} \\right|_{\\substack{ β=0 }}}{L^{2}} + \\frac{2 w_{1} \\left. \\frac{d}{d β} w{\\left(β \\right)} \\right|_{\\substack{ β=0 }}}{N}$"
      ],
      "text/plain": [
       "1.0*E0*N*t**2*Subs(Derivative(a(β), β), β, 0)/L**2 + 2*w1*Subs(Derivative(w(β), β), β, 0)/N"
      ]
     },
     "execution_count": 142,
     "metadata": {},
     "output_type": "execute_result"
    }
   ],
   "source": [
    "model = ModelAnalysis(atls)\n",
    "model.criterion()"
   ]
  },
  {
   "cell_type": "code",
   "execution_count": 143,
   "metadata": {},
   "outputs": [],
   "source": [
    "tc, criterion = model.critical_load()"
   ]
  },
  {
   "cell_type": "code",
   "execution_count": 51,
   "metadata": {},
   "outputs": [
    {
     "data": {
      "text/plain": [
       "[-1.4142135623731*L*sqrt(w1)*sqrt(1/γ)/(sqrt(E0)*N),\n",
       " 1.4142135623731*L*sqrt(w1)*sqrt(1/γ)/(sqrt(E0)*N)]"
      ]
     },
     "execution_count": 51,
     "metadata": {},
     "output_type": "execute_result"
    }
   ],
   "source": [
    "tc"
   ]
  },
  {
   "cell_type": "code",
   "execution_count": 17,
   "metadata": {},
   "outputs": [],
   "source": [
    "tc, criterion = model.critical_load(_matpar)"
   ]
  },
  {
   "cell_type": "code",
   "execution_count": 18,
   "metadata": {},
   "outputs": [
    {
     "data": {
      "text/plain": [
       "([0.353553390593274*sqrt(2)],\n",
       " 1.0*E0*N*t**2*Subs(Derivative((1 - β)/(β*(γ - 1) + 1), β), β, 0)/L**2 + 2*w1*Subs(Derivative(β, β), β, 0)/N)"
      ]
     },
     "execution_count": 18,
     "metadata": {},
     "output_type": "execute_result"
    }
   ],
   "source": [
    "tc, criterion"
   ]
  },
  {
   "cell_type": "code",
   "execution_count": 19,
   "metadata": {},
   "outputs": [
    {
     "data": {
      "text/plain": [
       "[0.353553390593274*sqrt(2)]"
      ]
     },
     "execution_count": 19,
     "metadata": {},
     "output_type": "execute_result"
    }
   ],
   "source": [
    "[_tc.subs(_matpar) for _tc in tc if _tc.subs(_matpar).is_positive]"
   ]
  },
  {
   "cell_type": "code",
   "execution_count": 20,
   "metadata": {},
   "outputs": [
    {
     "data": {
      "text/latex": [
       "$\\displaystyle \\frac{1.0 E_{0} N t^{2} \\left. \\frac{d}{d β} a{\\left(β \\right)} \\right|_{\\substack{ β=0 }}}{L^{2}} + \\frac{2 w_{1} \\left. \\frac{d}{d β} w{\\left(β \\right)} \\right|_{\\substack{ β=0 }}}{N}$"
      ],
      "text/plain": [
       "1.0*E0*N*t**2*Subs(Derivative(a(β), β), β, 0)/L**2 + 2*w1*Subs(Derivative(w(β), β), β, 0)/N"
      ]
     },
     "execution_count": 20,
     "metadata": {},
     "output_type": "execute_result"
    }
   ],
   "source": [
    "ModelAnalysis(atls).criterion().doit()\n"
   ]
  },
  {
   "cell_type": "code",
   "execution_count": 21,
   "metadata": {},
   "outputs": [],
   "source": [
    "_asd = ModelAnalysis(atls).criterion().replace(_a, lambda x: ((1-x))**(2) )    \\\n",
    "                                .replace(_w, lambda x: x).doit()"
   ]
  },
  {
   "cell_type": "code",
   "execution_count": 22,
   "metadata": {},
   "outputs": [],
   "source": [
    "_homogeneous = {a: β for a in state[\"α\"]}\n",
    "_sound = {a: 0 for a in state[\"α\"]}\n",
    "\n"
   ]
  },
  {
   "cell_type": "code",
   "execution_count": 23,
   "metadata": {},
   "outputs": [
    {
     "data": {
      "text/plain": [
       "{α1: 0, α2: 0}"
      ]
     },
     "execution_count": 23,
     "metadata": {},
     "output_type": "execute_result"
    }
   ],
   "source": [
    "{a: 0 for a in state[\"α\"]}"
   ]
  },
  {
   "cell_type": "code",
   "execution_count": 24,
   "metadata": {},
   "outputs": [
    {
     "data": {
      "text/latex": [
       "$\\displaystyle \\frac{0.5 E_{0} N^{2} \\left(e_{1}^{2} + e_{2}^{2}\\right) \\frac{d}{d β} a{\\left(β \\right)} + 2 w_{1} \\frac{d}{d β} w{\\left(β \\right)}}{N}$"
      ],
      "text/plain": [
       "(0.5*E0*N**2*(e1**2 + e2**2)*Derivative(a(β), β) + 2*w1*Derivative(w(β), β))/N"
      ]
     },
     "execution_count": 24,
     "metadata": {},
     "output_type": "execute_result"
    }
   ],
   "source": [
    "sp.diff(atls.energy(state).subs(_homogeneous), β).simplify()"
   ]
  },
  {
   "cell_type": "markdown",
   "metadata": {},
   "source": [
    "## Model Analysis\n",
    "\n",
    "- (constitutive assumptions)\n",
    "- equilibrium\n",
    "- homogeneous solution\n",
    "- homogeneous energy\n",
    "- bifurcations\n",
    "- stability"
   ]
  },
  {
   "cell_type": "code",
   "execution_count": 172,
   "metadata": {},
   "outputs": [],
   "source": [
    "N = sp.symbols(\"N\", integer=True)\n",
    "t = sp.symbols('t')\n",
    "_N = 2\n",
    "\n",
    "γ = sp.symbols('γ')\n",
    "E0, L, w1, σc = sp.symbols('E0 L w1 σc', positive = True)\n",
    "\n",
    "u = sp.symbols([f\"u{i}\" for i in range(0, _N)])\n",
    "e = sp.symbols([f\"e{i}\" for i in range(1, _N+1)])\n",
    "α = sp.symbols([f\"α{i}\" for i in range(1, _N+1)])\n",
    "_α = sp.symbols(\"α\")\n",
    "\n",
    "\n",
    "\n",
    "β = sp.symbols('β')\n",
    "αt = sp.symbols('α_t')\n"
   ]
  },
  {
   "cell_type": "code",
   "execution_count": 173,
   "metadata": {},
   "outputs": [
    {
     "data": {
      "text/latex": [
       "$\\displaystyle \\frac{1.0 E_{0} N t^{2} \\left. \\frac{d}{d β} a{\\left(β \\right)} \\right|_{\\substack{ β=0 }}}{L^{2}} + \\frac{2 w_{1} \\left. \\frac{d}{d β} w{\\left(β \\right)} \\right|_{\\substack{ β=0 }}}{N}$"
      ],
      "text/plain": [
       "1.0*E0*N*t**2*Subs(Derivative(a(β), β), β, 0)/L**2 + 2*w1*Subs(Derivative(w(β), β), β, 0)/N"
      ]
     },
     "execution_count": 173,
     "metadata": {},
     "output_type": "execute_result"
    }
   ],
   "source": [
    "atls = SymbolicDiscreteDamage(state, matpar)\n",
    "model = ModelAnalysis(atls)\n",
    "model.criterion()"
   ]
  },
  {
   "cell_type": "code",
   "execution_count": 174,
   "metadata": {},
   "outputs": [
    {
     "data": {
      "text/latex": [
       "$\\displaystyle 0.5 E_{0} N e_{1}^{2} a{\\left(α_{1} \\right)} + 0.5 E_{0} N e_{2}^{2} a{\\left(α_{2} \\right)} + \\frac{w_{1} w{\\left(α_{1} \\right)}}{N} + \\frac{w_{1} w{\\left(α_{2} \\right)}}{N}$"
      ],
      "text/plain": [
       "0.5*E0*N*e1**2*a(α1) + 0.5*E0*N*e2**2*a(α2) + w1*w(α1)/N + w1*w(α2)/N"
      ]
     },
     "execution_count": 174,
     "metadata": {},
     "output_type": "execute_result"
    }
   ],
   "source": [
    "atls.energy(state)"
   ]
  },
  {
   "cell_type": "code",
   "execution_count": 63,
   "metadata": {},
   "outputs": [
    {
     "data": {
      "text/latex": [
       "$\\displaystyle 0.5 E_{0} N e_{1}^{2} a{\\left(α_{1} \\right)} + 0.5 E_{0} N e_{2}^{2} a{\\left(α_{2} \\right)} + \\frac{w_{1} w{\\left(α_{1} \\right)}}{N} + \\frac{w_{1} w{\\left(α_{2} \\right)}}{N}$"
      ],
      "text/plain": [
       "0.5*E0*N*e1**2*a(α1) + 0.5*E0*N*e2**2*a(α2) + w1*w(α1)/N + w1*w(α2)/N"
      ]
     },
     "execution_count": 63,
     "metadata": {},
     "output_type": "execute_result"
    }
   ],
   "source": [
    "_en = atls._elastic(state) + atls._damage(state)\n",
    "_en"
   ]
  },
  {
   "cell_type": "code",
   "execution_count": 56,
   "metadata": {},
   "outputs": [
    {
     "data": {
      "text/plain": [
       "{'u': [u0, u1], 'α': [α1, α2], 'e': [e1, e2]}"
      ]
     },
     "execution_count": 56,
     "metadata": {},
     "output_type": "execute_result"
    }
   ],
   "source": [
    "state"
   ]
  },
  {
   "cell_type": "code",
   "execution_count": 30,
   "metadata": {},
   "outputs": [
    {
     "data": {
      "text/latex": [
       "$\\displaystyle \\frac{0.5 E_{0} N t^{2} a{\\left(α_{1} \\right)} s^{2}{\\left(α_{1} \\right)}}{L^{2} \\left(s{\\left(α_{1} \\right)} + s{\\left(α_{2} \\right)}\\right)^{2}} + \\frac{0.5 E_{0} N t^{2} a{\\left(α_{2} \\right)} s^{2}{\\left(α_{2} \\right)}}{L^{2} \\left(s{\\left(α_{1} \\right)} + s{\\left(α_{2} \\right)}\\right)^{2}} + \\frac{w_{1} w{\\left(α_{1} \\right)}}{N} + \\frac{w_{1} w{\\left(α_{2} \\right)}}{N}$"
      ],
      "text/plain": [
       "0.5*E0*N*t**2*a(α1)*s(α1)**2/(L**2*(s(α1) + s(α2))**2) + 0.5*E0*N*t**2*a(α2)*s(α2)**2/(L**2*(s(α1) + s(α2))**2) + w1*w(α1)/N + w1*w(α2)/N"
      ]
     },
     "execution_count": 30,
     "metadata": {},
     "output_type": "execute_result"
    }
   ],
   "source": [
    "model.energy_fc_alpha()"
   ]
  },
  {
   "cell_type": "markdown",
   "metadata": {},
   "source": [
    "### homogeneous solution"
   ]
  },
  {
   "cell_type": "code",
   "execution_count": 65,
   "metadata": {},
   "outputs": [],
   "source": [
    "bif_α, homo_α, bif_e, homo_e = model._state_split(0, state, _matpar)"
   ]
  },
  {
   "cell_type": "code",
   "execution_count": 36,
   "metadata": {},
   "outputs": [
    {
     "data": {
      "text/plain": [
       "([], {α1, α2})"
      ]
     },
     "execution_count": 36,
     "metadata": {},
     "output_type": "execute_result"
    }
   ],
   "source": [
    "bif_α, homo_α"
   ]
  },
  {
   "cell_type": "code",
   "execution_count": 67,
   "metadata": {},
   "outputs": [],
   "source": [
    "subs_homog_α, subs_homog_e =  model._state_homog_substitutions(state, _matpar)"
   ]
  },
  {
   "cell_type": "code",
   "execution_count": 69,
   "metadata": {},
   "outputs": [
    {
     "data": {
      "text/latex": [
       "$\\displaystyle \\frac{0.25 E_{0} N t^{2} a{\\left(α_{t} \\right)}}{L^{2}} + \\frac{2 w_{1} w{\\left(α_{t} \\right)}}{N}$"
      ],
      "text/plain": [
       "0.25*E0*N*t**2*a(α_t)/L**2 + 2*w1*w(α_t)/N"
      ]
     },
     "execution_count": 69,
     "metadata": {},
     "output_type": "execute_result"
    }
   ],
   "source": [
    "model.energy_fc_alpha().subs(subs_homog_α)"
   ]
  },
  {
   "cell_type": "code",
   "execution_count": 90,
   "metadata": {},
   "outputs": [
    {
     "data": {
      "text/latex": [
       "$\\displaystyle - \\frac{1.0 E_{0} N t^{2} γ}{L^{2}} + \\frac{2 w_{1}}{N}$"
      ],
      "text/plain": [
       "-1.0*E0*N*t**2*γ/L**2 + 2*w1/N"
      ]
     },
     "execution_count": 90,
     "metadata": {},
     "output_type": "execute_result"
    }
   ],
   "source": [
    "model.homogeneous_α(_matpar).replace(_a, model.model.a)  \\\n",
    "            .replace(_w, model.model.w).doit()"
   ]
  },
  {
   "cell_type": "code",
   "execution_count": 76,
   "metadata": {},
   "outputs": [
    {
     "data": {
      "text/plain": [
       "[-99029061.2647496, 99029061.2647496]"
      ]
     },
     "execution_count": 76,
     "metadata": {},
     "output_type": "execute_result"
    }
   ],
   "source": [
    "sp.solve([a.subs(_matpar) for a in sp.solve(model.energy_fc_alpha().subs(subs_homog_α).replace(_a, model.model.a)  \\\n",
    "            .replace(_w, model.model.w), αt)][0], t)"
   ]
  },
  {
   "cell_type": "code",
   "execution_count": 147,
   "metadata": {},
   "outputs": [
    {
     "data": {
      "text/latex": [
       "$\\displaystyle - \\frac{0.25 E_{0} N t^{2} γ}{L^{2} \\left(α_{t} γ - α_{t} + 1\\right)^{2}} + \\frac{2 w_{1}}{N}$"
      ],
      "text/plain": [
       "-0.25*E0*N*t**2*γ/(L**2*(α_t*γ - α_t + 1)**2) + 2*w1/N"
      ]
     },
     "execution_count": 147,
     "metadata": {},
     "output_type": "execute_result"
    }
   ],
   "source": [
    "model.evo_α()"
   ]
  },
  {
   "cell_type": "code",
   "execution_count": 148,
   "metadata": {},
   "outputs": [
    {
     "data": {
      "text/latex": [
       "$\\displaystyle - \\frac{0.25 E_{0} N t^{2} γ}{L^{2} \\left(α_{t} γ - α_{t} + 1\\right)^{2}} + \\frac{2 w_{1}}{N}$"
      ],
      "text/plain": [
       "-0.25*E0*N*t**2*γ/(L**2*(α_t*γ - α_t + 1)**2) + 2*w1/N"
      ]
     },
     "execution_count": 148,
     "metadata": {},
     "output_type": "execute_result"
    }
   ],
   "source": [
    "model.evo_α(_matpar)"
   ]
  },
  {
   "cell_type": "code",
   "execution_count": 175,
   "metadata": {},
   "outputs": [
    {
     "data": {
      "text/plain": [
       "[(-0.353553390593274*sqrt(E0)*N*t*sqrt(γ)*(γ - 1.0)**2 - L*sqrt(w1)*(γ**2 - 2.0*γ + 1.0))/(L*sqrt(w1)*(γ - 1.0)*(γ**2 - 2.0*γ + 1.0)),\n",
       " (0.353553390593274*sqrt(E0)*N*t*sqrt(γ)*(γ - 1.0)**2 - L*sqrt(w1)*(γ**2 - 2.0*γ + 1.0))/(L*sqrt(w1)*(γ - 1.0)*(γ**2 - 2.0*γ + 1.0))]"
      ]
     },
     "execution_count": 175,
     "metadata": {},
     "output_type": "execute_result"
    }
   ],
   "source": [
    "model.homogeneous_α()"
   ]
  },
  {
   "cell_type": "code",
   "execution_count": 176,
   "metadata": {},
   "outputs": [
    {
     "data": {
      "text/plain": [
       "[-0.707106781186548*sqrt(2)*t - 1.0, 0.707106781186548*sqrt(2)*t - 1.0]"
      ]
     },
     "execution_count": 176,
     "metadata": {},
     "output_type": "execute_result"
    }
   ],
   "source": [
    "model.homogeneous_α(_matpar)"
   ]
  },
  {
   "cell_type": "code",
   "execution_count": null,
   "metadata": {},
   "outputs": [],
   "source": []
  }
 ],
 "metadata": {
  "kernelspec": {
   "display_name": "Python 3",
   "language": "python",
   "name": "python3"
  },
  "language_info": {
   "codemirror_mode": {
    "name": "ipython",
    "version": 3
   },
   "file_extension": ".py",
   "mimetype": "text/x-python",
   "name": "python",
   "nbconvert_exporter": "python",
   "pygments_lexer": "ipython3",
   "version": "3.9.13"
  },
  "orig_nbformat": 4
 },
 "nbformat": 4,
 "nbformat_minor": 2
}
