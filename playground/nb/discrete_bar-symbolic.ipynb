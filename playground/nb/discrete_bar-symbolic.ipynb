{
 "cells": [
  {
   "cell_type": "code",
   "execution_count": 175,
   "metadata": {},
   "outputs": [],
   "source": [
    "import sympy as sp\n",
    "sp.init_printing()\n",
    "\n",
    "import numpy as np\n",
    "import matplotlib.pyplot as plt\n",
    "import json\n",
    "import pandas as pd\n",
    "import os\n",
    "\n",
    "import yaml\n",
    "import hashlib"
   ]
  },
  {
   "cell_type": "markdown",
   "metadata": {},
   "source": [
    "### TODO\n",
    "\n",
    "- Integrate assumptions"
   ]
  },
  {
   "cell_type": "code",
   "execution_count": 350,
   "metadata": {},
   "outputs": [],
   "source": [
    "N = sp.symbols(\"N\", integer=True)\n",
    "t = sp.symbols('t')\n",
    "_N = 2\n",
    "\n",
    "γ = sp.symbols('γ')\n",
    "E0, L, w1, σc = sp.symbols('E0 L w1 σc', positive = True)\n",
    "\n",
    "u = sp.symbols([f\"u{i}\" for i in range(0, _N)])\n",
    "e = sp.symbols([f\"e{i}\" for i in range(1, _N+1)])\n",
    "α = sp.symbols([f\"α{i}\" for i in range(1, _N+1)])\n",
    "_α = sp.symbols(\"α\")\n",
    "\n",
    "\n",
    "\n",
    "β = sp.symbols('β')\n",
    "\n"
   ]
  },
  {
   "cell_type": "code",
   "execution_count": 3,
   "metadata": {},
   "outputs": [],
   "source": [
    "state = {\"u\": u, \"α\": α, \"e\": e}\n",
    "_matpar = {N: _N, γ: 2, E0: 1, w1: 1, L: 1}\n",
    "matpar = {\"N\": N, \"γ\": γ, \"E0\": E0, \"w1\": w1, \"L\": L}\n",
    "\n"
   ]
  },
  {
   "cell_type": "code",
   "execution_count": 4,
   "metadata": {},
   "outputs": [],
   "source": [
    "_a = sp.Function('a')\n",
    "_w = sp.Function('w')\n",
    "_s = sp.Function('s')\n"
   ]
  },
  {
   "cell_type": "code",
   "execution_count": 5,
   "metadata": {},
   "outputs": [],
   "source": [
    "_s = 1/_a(_α)"
   ]
  },
  {
   "cell_type": "code",
   "execution_count": 6,
   "metadata": {},
   "outputs": [
    {
     "data": {
      "text/latex": [
       "$\\displaystyle \\frac{1}{a{\\left(α \\right)}}$"
      ],
      "text/plain": [
       "1/a(α)"
      ]
     },
     "execution_count": 6,
     "metadata": {},
     "output_type": "execute_result"
    }
   ],
   "source": [
    "_s"
   ]
  },
  {
   "cell_type": "code",
   "execution_count": 7,
   "metadata": {},
   "outputs": [],
   "source": [
    "_ap = sp.diff(_a(_α), _α)"
   ]
  },
  {
   "cell_type": "code",
   "execution_count": 8,
   "metadata": {},
   "outputs": [],
   "source": [
    "class SymbolicDiscreteDamage:\n",
    "    def __init__(self, state, matpar, \n",
    "                 name=\"discrete generalised damage\",\n",
    "                 slug=\"general damage\"):\n",
    "        \"\"\"\n",
    "        Initialize a SymbolicDiscreteDamage object.\n",
    "\n",
    "        Args:\n",
    "            state (dict): The state containing alpha and epsilon values.\n",
    "            matpar (dict): A dictionary of material parameters.\n",
    "            name (str): The name of the damage model (optional).\n",
    "            slug (str): The slug for the damage model (optional).\n",
    "        \"\"\"\n",
    "\n",
    "\n",
    "        self.state = state\n",
    "        self.matpar = matpar\n",
    "        self.str = name\n",
    "        self.slug = slug\n",
    "\n",
    "    def _s(self, αi):\n",
    "        \"\"\"\n",
    "        Placeholder for a function related to 's'.\n",
    "\n",
    "        Args:\n",
    "            αi: A parameter.\n",
    "\n",
    "        Returns:\n",
    "            sympy.Function: A function related to 's'.\n",
    "        \"\"\"\n",
    "        s = sp.Function('s')\n",
    "        # s = 1/self._a(αi)\n",
    "        return s(αi)\n",
    "\n",
    "    def _a(self, αi):\n",
    "        \"\"\"\n",
    "        Placeholder for a function related to 'a'.\n",
    "\n",
    "        Args:\n",
    "            αi: A parameter.\n",
    "\n",
    "        Returns:\n",
    "            sympy.Function: A function related to 'a'.\n",
    "        \"\"\"\n",
    "\n",
    "        γ = self.matpar[\"γ\"]\n",
    "        a = sp.Function('a')\n",
    "        return a(αi)\n",
    "    \n",
    "    def energy(self, state):\n",
    "        \"\"\"\n",
    "        Calculate the total energy.\n",
    "\n",
    "        Args:\n",
    "            state (dict): The state containing alpha and epsilon values.\n",
    "\n",
    "        Returns:\n",
    "            sympy.Expr: The expression representing the total energy.\n",
    "        \"\"\"\n",
    "        return self._elastic(state) + self._damage(state) - self.work(state)\n",
    "\n",
    "    def work(self, state):\n",
    "        \"\"\"\n",
    "        Calculate the work done.\n",
    "\n",
    "        Args:\n",
    "            state (dict): The state containing alpha and epsilon values.\n",
    "\n",
    "        Returns:\n",
    "            int: The work done.\n",
    "        \"\"\"\n",
    "        return 0\n",
    "\n",
    "    def _elastic(self, state):\n",
    "        \"\"\"\n",
    "        Calculate the elastic energy.\n",
    "\n",
    "        Args:\n",
    "            state (dict): The state containing alpha and epsilon values.\n",
    "\n",
    "        Returns:\n",
    "            sympy.Expr: The expression representing elastic energy.\n",
    "        \"\"\"\n",
    "        _e = state[\"e\"]\n",
    "        _α = state[\"α\"]\n",
    "        # _w1 = matpar[\"w1\"]\n",
    "        _E0 = self.matpar[\"E0\"]\n",
    "        _N = self.matpar[\"N\"]\n",
    "    \n",
    "        return sum([1./2. * _E0 * self._a(_α[i]) * _e[i]**2 for i in range(len(α))])\n",
    "\n",
    "    def _w(self, αi):\n",
    "        \"\"\"\n",
    "        Placeholder for a function related to 'w'.\n",
    "\n",
    "        Args:\n",
    "            αi: A parameter.\n",
    "\n",
    "        Returns:\n",
    "            sympy.Function: A function related to 'w'.\n",
    "        \"\"\"\n",
    "        w = sp.Function('w')\n",
    "\n",
    "        return w(αi)\n",
    "\n",
    "    def _damage(self, state):\n",
    "        \"\"\"\n",
    "        Calculate the damage energy.\n",
    "\n",
    "        Args:\n",
    "            state (dict): The state containing alpha and epsilon values.\n",
    "\n",
    "        Returns:\n",
    "            sympy.Expr: The expression representing damage energy.\n",
    "        \"\"\"\n",
    "        _α = state[\"α\"]\n",
    "        _w1 = self.matpar[\"w1\"]\n",
    "\n",
    "        _N = self.matpar[\"N\"]\n",
    "\n",
    "        return sum([_w1 / _N * self._w(_α[i]) for i in range(len(_α))]) \n",
    "        # return _w1 * self._w(_α)\n",
    "\n",
    "\n",
    "    # Explicit expressions\n",
    "    def w(self, αi):\n",
    "        \"\"\"\n",
    "        Calculate 'w' explicitly.\n",
    "\n",
    "        Args:\n",
    "            αi: A parameter.\n",
    "\n",
    "        Returns:\n",
    "            float: The value of 'w'.\n",
    "        \"\"\"\n",
    "        return αi\n",
    "\n",
    "    def a(self, αi):\n",
    "        \"\"\"\n",
    "        Calculate 'a' explicitly.\n",
    "\n",
    "        Args:\n",
    "            αi: A parameter.\n",
    "\n",
    "        Returns:\n",
    "            float: The value of 'a'.\n",
    "        \"\"\"\n",
    "        γ = self.matpar[\"γ\"]\n",
    "\n",
    "        return (1 - self._w(αi)) / ((γ-1) * self._w(αi) + 1)\n",
    "\n",
    "    def s(self, αi):\n",
    "        \"\"\"\n",
    "        Calculate 's' explicitly.\n",
    "\n",
    "        Args:\n",
    "            αi: A parameter.\n",
    "\n",
    "        Returns:\n",
    "            float: The value of 's'.\n",
    "        \"\"\"\n",
    "\n",
    "        return 1. / self.a(αi)\n",
    "\n",
    "\n",
    "    def __str__(self):\n",
    "        \"\"\"\n",
    "        Return the string representation of the damage model.\n",
    "\n",
    "        Returns:\n",
    "            str: The string representation of the damage model.\n",
    "        \"\"\"\n",
    "        return self.str\n"
   ]
  },
  {
   "cell_type": "code",
   "execution_count": 318,
   "metadata": {},
   "outputs": [],
   "source": [
    "class ModelAnalysis:\n",
    "    \"\"\"Helper class to analyse stability properties of a model\"\"\"\n",
    "\n",
    "    def __init__(self, model):\n",
    "        \"\"\"\n",
    "        Initialize a ModelAnalysis object.\n",
    "\n",
    "        Args:\n",
    "            model (ModelType): The model to be analyzed.\n",
    "        \"\"\"\n",
    "\n",
    "        self.model = model\n",
    "        self.state = model.state\n",
    "        _state = self.state\n",
    "        self.matpar = model.matpar\n",
    "\n",
    "        _β = sp.symbols('β')\n",
    "        _e = sp.symbols('e')\n",
    "        self._β = _β\n",
    "        self._e = _e\n",
    "        \n",
    "        self._s = model._s(_β)\n",
    "        self._sp = sp.diff(self._s, _β, 1)\n",
    "        self._spp = sp.diff(self._s, _β, 2)\n",
    "\n",
    "        self._a = model._a(_β)\n",
    "        self._ap = sp.diff(self._a, _β, 1)\n",
    "        self._app = sp.diff(self._a, _β, 2)\n",
    "\n",
    "        self._w = model._w(_β)\n",
    "        self._wp = sp.diff(self._w, _β)\n",
    "        self._wpp = sp.diff(self._w, _β, 2)\n",
    "\n",
    "        # self.criterion()\n",
    "\n",
    "\n",
    "    def criterion(self):\n",
    "        \"\"\"\n",
    "        Calculate the damage onset criterion.\n",
    "\n",
    "        Returns:\n",
    "            sympy.Expr: The expression representing the damage onset criterion.\n",
    "        \"\"\"\n",
    "\n",
    "        model, state = self.model, self.state\n",
    "        x = sp.symbols('x')\n",
    "        t = sp.symbols('t')\n",
    "        L = sp.symbols('L')\n",
    "        N = sp.symbols('N')\n",
    "\n",
    "        β = self._β\n",
    "        e = self._e\n",
    "\n",
    "        # _u0 = t*x/L\n",
    "        _e0 = t/L\n",
    "        _alpha0 = 0\n",
    "\n",
    "        _homogeneous_damage = {a: β for a in state[\"α\"]}\n",
    "        _homogeneous_strain = {a: e for a in state[\"e\"]}\n",
    "        _sound = {a: 0 for a in state[\"α\"]}\n",
    "\n",
    "        _crit = sp.diff(\n",
    "            model.energy(state)                 \\\n",
    "                .subs(_homogeneous_damage)      \\\n",
    "                .subs(_homogeneous_strain), β)  \\\n",
    "                .subs({e: _e0, β: _alpha0})    \n",
    "\n",
    "        self.crit = _crit\n",
    "\n",
    "        return _crit\n",
    "\n",
    "    def explicit_criterion(self):\n",
    "        \"\"\"\n",
    "        Calculate the explicit form of the damage onset criterion.\n",
    "\n",
    "        Returns:\n",
    "            sympy.Expr: The explicit form of the damage onset criterion.\n",
    "        \"\"\"\n",
    "        _model = self.model\n",
    "        return self.crit.replace(sp.Function('a'), _model.a) \\\n",
    "                    .replace(sp.Function('w'), _model.w).doit()\n",
    "\n",
    "    def bc_u(self):\n",
    "        \"\"\"\n",
    "        Placeholder for a function related to boundary conditions.\n",
    "\n",
    "        Note:\n",
    "            This function does not have a specific implementation in the provided code.\n",
    "        \"\"\"\n",
    "        pass\n",
    "\n",
    "    def critical_load(self, matpar={}):\n",
    "        \"\"\"\n",
    "        Calculate the critical load and associated criterion.\n",
    "\n",
    "        Args:\n",
    "            matpar (dict): A dictionary of material parameters.\n",
    "\n",
    "        Returns:\n",
    "            tuple: A tuple containing critical load values and the associated criterion.\n",
    "        \"\"\"\n",
    "\n",
    "        criterion = self.crit           \\\n",
    "            .replace(_a, self.model.a)  \\\n",
    "            .replace(_w, self.model.w)\n",
    "        t = sp.symbols('t')\n",
    "\n",
    "        tc = sp.solve(criterion, t)\n",
    "        \n",
    "        if matpar:\n",
    "            tc = [_tc.subs(matpar) for _tc in tc if _tc.subs(matpar).is_positive]\n",
    "        \n",
    "        return tc, criterion\n",
    "\n",
    "\n",
    "    def _equilirbrium_e(self):\n",
    "        \"\"\"\n",
    "        Calculate equilibrium strain values.\n",
    "\n",
    "        Returns:\n",
    "            list: List of equilibrium strain values for each alpha.\n",
    "        \"\"\"\n",
    "\n",
    "        state = self.state\n",
    "        t, L = sp.symbols('t L')\n",
    "        N = sp.symbols('N')\n",
    "        \n",
    "        _S = sum([self.model._s(αi) for αi in state[\"α\"]])\n",
    "\n",
    "        _e = [(N * t/L * self.model._s(αi) / _S).simplify() \\\n",
    "                    for αi in state[\"α\"]]\n",
    "\n",
    "        return _e\n",
    "    \n",
    "    def equilibrium_subs(self):\n",
    "        \"\"\"\n",
    "        Generate substitutions for equilibrium state.\n",
    "\n",
    "\n",
    "        Returns:\n",
    "            dict: A dictionary of substitutions for equilibrium state.\n",
    "        \"\"\"\n",
    "        _ei = self._equilirbrium_e()\n",
    "        state = self.state\n",
    "        return {v[0]: v[1] for v in zip(state[\"e\"], _ei)}\n",
    "        \n",
    "\n",
    "    def energy_fc_alpha(self):\n",
    "        \"\"\"\n",
    "        Calculate energy as a function of alpha.\n",
    "\n",
    "\n",
    "        Returns:\n",
    "            sympy.Expr: The expression representing energy as a function of alpha.\n",
    "        \"\"\"\n",
    "        state = self.state\n",
    "        equilibrium_subs = self.equilibrium_subs()\n",
    "        \n",
    "        return self.model.energy(state).subs(equilibrium_subs)\n",
    "\n",
    "    def _state_split(self, m, state, matpar):\n",
    "        \"\"\"\n",
    "        Split the state into homogeneous and bifurcated parts.\n",
    "\n",
    "        Args:\n",
    "            m (int): A parameter for splitting.\n",
    "            state (dict): The state containing alpha and epsilon values.\n",
    "            matpar (dict): A dictionary of material parameters.\n",
    "\n",
    "        Returns:\n",
    "            tuple: A tuple containing lists of bifurcated and homogeneous alpha and epsilon values.\n",
    "        \"\"\"\n",
    "\n",
    "        assert m < matpar[N]\n",
    "\n",
    "        _bif_α = [state[\"α\"][k+1] for k in range(m)]\n",
    "        _bif_e = [state[\"e\"][k+1] for k in range(m)]\n",
    "\n",
    "        _homo_α = set(state[\"α\"]) - set(_bif_α)\n",
    "        _homo_e = set(state[\"e\"]) - set(_bif_e)\n",
    "\n",
    "        return _bif_α, _homo_α, _bif_e, _homo_e\n",
    "\n",
    "    def _state_homog_substitutions(self, state, matpar):\n",
    "        \"\"\"\n",
    "        Generate substitutions for the homogeneous state.\n",
    "\n",
    "        Args:\n",
    "            state (dict): The state containing alpha and epsilon values.\n",
    "            matpar (dict): A dictionary of material parameters.\n",
    "\n",
    "        Returns:\n",
    "            tuple: A tuple containing dictionaries of substitutions for alpha and epsilon.\n",
    "        \"\"\"\n",
    "        αt = sp.symbols('α_t')\n",
    "        et = sp.symbols('e_t')\n",
    "\n",
    "        _subs_αh = {a: αt for a in state[\"α\"]}\n",
    "        _subs_eh = {e: et for e in state[\"e\"]}\n",
    "\n",
    "        return _subs_αh, _subs_eh\n",
    "\n",
    "\n",
    "    def _state_bifurcation_substitutions(self, m, state, matpar):\n",
    "        \"\"\"\n",
    "            Compute substitutions for bifurcated states.\n",
    "            \n",
    "            Args:\n",
    "            m (int): A parameter for splitting.\n",
    "            state (dict): The state containing alpha and epsilon values.\n",
    "            matpar (dict): A dictionary of material parameters.\n",
    "            \n",
    "            Returns:\n",
    "            tuple: A tuple containing dictionaries of substitutions for alpha and epsilon.\n",
    "            \"\"\"\n",
    "        \n",
    "        assert m < matpar[N]\n",
    "        _bif, _homo, _bif_e, _homo_e = self._state_split(m, state, matpar)\n",
    "        _αb = sp.symbols(\"a^*\")\n",
    "        _eb = sp.symbols(\"e^*\")\n",
    "        αt = sp.symbols('α_t')\n",
    "        et = sp.symbols('e_t')\n",
    "\n",
    "        _subs_αb = {a: _αb for a in _bif}\n",
    "        _subs_eb = {e: _eb for e in _bif_e}\n",
    "\n",
    "        _subs_αt = {a: αt for a in _homo}\n",
    "        _subs_et = {e: et for e in _homo_e}\n",
    "\n",
    "        return {**_subs_αb, **_subs_αt}, {**_subs_eb, **_subs_et}\n",
    "\n",
    "\n",
    "    def homogeneous_α(self, matpar = {}):\n",
    "        \"\"\"\n",
    "            Solve the homogeneous evolution law for damage.\n",
    "            \n",
    "            Args:\n",
    "            matpar (dict): A dictionary of material parameters.\n",
    "            \n",
    "            Returns:\n",
    "            list: List of solutions for homogeneous evolution of alpha.\n",
    "            \"\"\"\n",
    "        αt = sp.symbols('α_t')\n",
    "        \n",
    "        if matpar:\n",
    "            return [sol.subs(matpar) for sol in \\\n",
    "                    list(map(sp.simplify, sp.solve(self.evo_α(matpar), αt)))]\n",
    "        else:\n",
    "            return list(map(sp.simplify, sp.solve(self.evo_α(), αt)))\n",
    "\n",
    "    def set_homog_solution_idx(self, idx):\n",
    "        \"\"\"\n",
    "            Set the index of the homogeneous solution.\n",
    "            \n",
    "            Args:\n",
    "            idx (int): The index of the homogeneous solution.\n",
    "            \"\"\"\n",
    "        self._homog_solution_idx = idx \n",
    "\n",
    "    def homogeneous_α_wrt_t(self, matpar = {}):\n",
    "        t = sp.symbols('t')\n",
    "        _tc, _ = self.critical_load()\n",
    "        _tc = _tc[self._homog_solution_idx].subs(matpar)\n",
    "        _ah = self.homogeneous_α(matpar)[self._homog_solution_idx]\n",
    "\n",
    "        return sp.Piecewise((_ah, t >= _tc), (0, t < _tc))\n",
    "\n",
    "    def homogeneous_α_wrt_t(self, matpar = {}):\n",
    "        \"\"\"\n",
    "            Calculate homogeneous alpha as a function of time.\n",
    "            \n",
    "            Args:\n",
    "            matpar (dict): A dictionary of material parameters.\n",
    "            \n",
    "            Returns:\n",
    "            sympy.Piecewise: A piecewise function representing homogeneous alpha with respect to time.\n",
    "            \"\"\"\n",
    "        t = sp.symbols('t')\n",
    "        _tc, _ = self.critical_load()\n",
    "        _tc = _tc[self._homog_solution_idx].subs(matpar)\n",
    "        _ah = self.homogeneous_α(matpar)[self._homog_solution_idx]\n",
    "\n",
    "        return sp.Piecewise((_ah, t >= _tc), (0, t < _tc))\n",
    "\n",
    "    def evo_α(self, matpar = {}):\n",
    "        \"\"\"\n",
    "            Calculate the evolution law for damage.\n",
    "            \n",
    "            Args:\n",
    "            matpar (dict): A dictionary of material parameters.\n",
    "            \n",
    "            Returns:\n",
    "            sympy.Expr: The expression representing the evolution law for damage.\n",
    "            \"\"\"\n",
    "        αt = sp.symbols('α_t')\n",
    "        state = self.state\n",
    "        subs_homog_α, _ =  self._state_homog_substitutions(state, matpar)\n",
    "\n",
    "        # return sp.diff(self.energy_fc_alpha().subs(subs_homog_α), αt)                   \\\n",
    "        #     .replace(_a, self.model.a)                  \\\n",
    "        #     .replace(_w, self.model.w)                  \\\n",
    "        #     .doit().simplify()\n",
    "        \n",
    "\n",
    "        return sp.diff(self.energy_fc_alpha().subs(subs_homog_α), αt)                   \\\n",
    "            .replace(sp.Function('a'), self.model.a)                  \\\n",
    "            .replace(sp.Function('w'), self.model.w)                  \\\n",
    "            .doit().simplify().subs(matpar)\n",
    "\n",
    "    def plot_material(self, matpar):\n",
    "        \"\"\"\n",
    "        Plot material behavior.\n",
    "\n",
    "        Args:\n",
    "            matpar (dict): A dictionary of material parameters.\n",
    "\n",
    "        Returns:\n",
    "            tuple: A tuple containing a figure and axis for the material behavior plot.\n",
    "        \"\"\"\n",
    "        _model = self.model\n",
    "        _α = sp.symbols('α')\n",
    "        _damage = np.linspace(0., 1.)\n",
    "\n",
    "        _ap = sp.diff(_model.a(_α).replace(sp.Function('w'), _model.w), _α)\n",
    "        _app = sp.diff(_model.a(_α).replace(sp.Function('w'), _model.w), _α, 2)\n",
    "        _wp = sp.diff(_model.w(_α), _α)\n",
    "\n",
    "        _wf = sp.lambdify(_α, _model.w(_α).subs(matpar), \"numpy\")\n",
    "        _af = sp.lambdify(_α, _model.a(_α).subs(matpar).replace(sp.Function('w'), _model.w), \"numpy\")\n",
    "        _apf = sp.lambdify(_α, _ap.subs(matpar).simplify().subs(matpar), \"numpy\")\n",
    "        _appf = sp.lambdify(_α, _app.subs(matpar).simplify().subs(matpar), \"numpy\")\n",
    "        _wpf = sp.lambdify(_α, _wp.subs(matpar).simplify().subs(matpar), \"numpy\")\n",
    "\n",
    "\n",
    "        _w, _a\n",
    "\n",
    "        figure, axis = plt.subplots(1, 2, figsize=(8, 6))\n",
    "        _ax = axis[0]\n",
    "        _ax.axhline(0, c='k')\n",
    "        _ax.plot(_damage, [_af(α) for α in _damage], label=\"a\")\n",
    "        _ax.plot(_damage, [_apf(α) for α in _damage], label=\"a'\", c='r')\n",
    "        _ax.plot(_damage, [_appf(α) for α in _damage], label=\"a''\")\n",
    "        _ax.legend(loc=2)\n",
    "\n",
    "        _ax2 = _ax.twiny()\n",
    "        left, bottom, width, height = [0.27, 0.6, 0.2, 0.2]\n",
    "        _ax2 = figure.add_axes([left, bottom, width, height])\n",
    "\n",
    "        _ax2.plot(_damage, [_wf(α) for α in _damage], label=\"w\", c='k', ls='dashed')\n",
    "        _ax2.set_ylabel('w')\n",
    "        _ax.set_ylabel('a, a\\', a\\'\\'')\n",
    "        \n",
    "        figure.suptitle(f\"Behaviour of {self.model.__str__()} is Material \\n {matpar}\")\n",
    "\n",
    "        return figure, axis"
   ]
  },
  {
   "cell_type": "code",
   "execution_count": 351,
   "metadata": {},
   "outputs": [],
   "source": [
    "N = sp.symbols(\"N\")\n",
    "t = sp.symbols('t')\n",
    "_N = 3\n",
    "\n",
    "γ = sp.symbols('γ')\n",
    "E0, L, w1, σc = sp.symbols('E0 L w1 σc')\n",
    "\n",
    "u = sp.symbols([f\"u{i}\" for i in range(0, _N)])\n",
    "e = sp.symbols([f\"e{i}\" for i in range(1, _N+1)])\n",
    "α = sp.symbols([f\"α{i}\" for i in range(1, _N+1)])\n",
    "_α = sp.symbols(\"α\")\n",
    "\n",
    "β = sp.symbols('β')\n",
    "\n",
    "state = {\"u\": u, \"α\": α, \"e\": e}\n",
    "_matpar = {N: _N, γ: 2, E0: 1, w1: 1, L: 1}\n",
    "matpar = {\"N\": N, \"γ\": γ, \"E0\": E0, \"w1\": w1, \"L\": L}\n",
    "\n"
   ]
  },
  {
   "cell_type": "code",
   "execution_count": 352,
   "metadata": {},
   "outputs": [],
   "source": [
    "_a = sp.Function('a')\n",
    "_w = sp.Function('w')\n",
    "_s = sp.Function('s')\n"
   ]
  },
  {
   "cell_type": "code",
   "execution_count": 353,
   "metadata": {},
   "outputs": [],
   "source": [
    "_s = 1/_a(_α)"
   ]
  },
  {
   "cell_type": "code",
   "execution_count": 354,
   "metadata": {},
   "outputs": [
    {
     "data": {
      "image/png": "[encoded data removed]",
      "text/latex": [
       "$\\displaystyle 1$"
      ],
      "text/plain": [
       "1"
      ]
     },
     "execution_count": 354,
     "metadata": {},
     "output_type": "execute_result"
    }
   ],
   "source": [
    "_matpar[sp.Symbol('L')]"
   ]
  },
  {
   "cell_type": "code",
   "execution_count": 355,
   "metadata": {},
   "outputs": [
    {
     "data": {
      "image/png": "[encoded data removed]",
      "text/latex": [
       "$\\displaystyle \\frac{1}{a{\\left(α \\right)}}$"
      ],
      "text/plain": [
       " 1  \n",
       "────\n",
       "a(α)"
      ]
     },
     "execution_count": 355,
     "metadata": {},
     "output_type": "execute_result"
    }
   ],
   "source": [
    "_s"
   ]
  },
  {
   "cell_type": "markdown",
   "metadata": {},
   "source": [
    "## The energy model\n",
    "Discrete $N$-bar with imposed displacement $u_{N} = \\bar u = N\\frac{t}{L}$, the scaling of the load so that for each $N$ and $t$ springs of a homogeneous state are subject to the same strain. \n",
    "\n",
    "$$\n",
    "\\begin{aligned}\n",
    "\\mathcal E_N (e, \\alpha) &=  E_0\\sum_{i=0}^N \\frac{1}{2}    a(\\alpha_i)  e_i^2  + \\sum_{i=0}^N {w_1}w(\\alpha_i) \\\\\n",
    "\\tilde {\\mathcal E}_N (u, \\alpha) &=  E_0 N\\sum_{i=0}^N \\frac{1}{2}  a(\\alpha_i)  (u_i-u_{i-1})^2  + \\frac{w_1}{N} \\sum_{i=0}^N w(\\alpha_i) \n",
    "\\end{aligned}\n",
    "$$\n",
    "\n",
    "minimise subject to either $\\sum_i e_i = N\\frac{t}{L}$ or $u_0 = 0, u_N = N\\frac{t}{L}$"
   ]
  },
  {
   "cell_type": "code",
   "execution_count": 356,
   "metadata": {},
   "outputs": [],
   "source": [
    "atls = SymbolicDiscreteDamage(state, matpar)\n"
   ]
  },
  {
   "cell_type": "code",
   "execution_count": 357,
   "metadata": {},
   "outputs": [
    {
     "data": {
      "image/png": "[encoded data removed]",
      "text/latex": [
       "$\\displaystyle \\left( s{\\left(α \\right)}, \\  \\frac{1.0 \\left(\\left(γ - 1\\right) w{\\left(α \\right)} + 1\\right)}{1 - w{\\left(α \\right)}}\\right)$"
      ],
      "text/plain": [
       "⎛      1.0⋅((γ - 1)⋅w(α) + 1)⎞\n",
       "⎜s(α), ──────────────────────⎟\n",
       "⎝             1 - w(α)       ⎠"
      ]
     },
     "execution_count": 357,
     "metadata": {},
     "output_type": "execute_result"
    }
   ],
   "source": [
    "# Keeping track of both symboilic and explicit expressions\n",
    "\n",
    "atls._s(_α), atls.s(_α)"
   ]
  },
  {
   "cell_type": "code",
   "execution_count": 358,
   "metadata": {},
   "outputs": [
    {
     "data": {
      "image/png": "[encoded data removed]",
      "text/latex": [
       "$\\displaystyle 0.5 E_{0} e_{1}^{2} a{\\left(α_{1} \\right)} + 0.5 E_{0} e_{2}^{2} a{\\left(α_{2} \\right)} + 0.5 E_{0} e_{3}^{2} a{\\left(α_{3} \\right)} + w_{1} w{\\left(α_{1} \\right)} + w_{1} w{\\left(α_{2} \\right)} + w_{1} w{\\left(α_{3} \\right)}$"
      ],
      "text/plain": [
       "         2                  2                  2                              \n",
       "0.5⋅E₀⋅e₁ ⋅a(α₁) + 0.5⋅E₀⋅e₂ ⋅a(α₂) + 0.5⋅E₀⋅e₃ ⋅a(α₃) + w₁⋅w(α₁) + w₁⋅w(α₂) +\n",
       "\n",
       "         \n",
       " w₁⋅w(α₃)"
      ]
     },
     "execution_count": 358,
     "metadata": {},
     "output_type": "execute_result"
    }
   ],
   "source": [
    "atls.energy(state)"
   ]
  },
  {
   "cell_type": "code",
   "execution_count": 359,
   "metadata": {},
   "outputs": [
    {
     "data": {
      "text/latex": [
       "$\\displaystyle \\frac{1.5 E_{0} t^{2} \\left. \\frac{d}{d β} a{\\left(β \\right)} \\right|_{\\substack{ β=0 }}}{L^{2}} + 3 w_{1} \\left. \\frac{d}{d β} w{\\left(β \\right)} \\right|_{\\substack{ β=0 }}$"
      ],
      "text/plain": [
       "        2 ⎛d       ⎞│                         \n",
       "1.5⋅E₀⋅t ⋅⎜──(a(β))⎟│                         \n",
       "          ⎝dβ      ⎠│β=0        ⎛d       ⎞│   \n",
       "──────────────────────── + 3⋅w₁⋅⎜──(w(β))⎟│   \n",
       "            2                   ⎝dβ      ⎠│β=0\n",
       "           L                                  "
      ]
     },
     "execution_count": 359,
     "metadata": {},
     "output_type": "execute_result"
    }
   ],
   "source": [
    "model = ModelAnalysis(atls)\n",
    "model.criterion()"
   ]
  },
  {
   "cell_type": "code",
   "execution_count": 360,
   "metadata": {},
   "outputs": [
    {
     "data": {
      "image/png": "[encoded data removed]",
      "text/latex": [
       "$\\displaystyle \\left( \\left\\{ α_{1} : β, \\  α_{2} : β, \\  α_{3} : β\\right\\}, \\  \\left\\{ e_{1} : e, \\  e_{2} : e, \\  e_{3} : e\\right\\}\\right)$"
      ],
      "text/plain": [
       "({α₁: β, α₂: β, α₃: β}, {e₁: e, e₂: e, e₃: e})"
      ]
     },
     "execution_count": 360,
     "metadata": {},
     "output_type": "execute_result"
    }
   ],
   "source": [
    "# model.model.energy(state)\n",
    "\n",
    "# Substitutions for homogeneous state\n",
    "\n",
    "_homogeneous_damage = {a: β for a in state[\"α\"]}\n",
    "_homogeneous_strain = {e: model._e for e in state[\"e\"]}\n",
    "_homogeneous_damage, _homogeneous_strain\n"
   ]
  },
  {
   "cell_type": "code",
   "execution_count": 361,
   "metadata": {},
   "outputs": [
    {
     "data": {
      "image/png": "[encoded data removed]",
      "text/latex": [
       "$\\displaystyle \\left\\{ e_{1} : e, \\  e_{2} : e, \\  e_{3} : e\\right\\}$"
      ],
      "text/plain": [
       "{e₁: e, e₂: e, e₃: e}"
      ]
     },
     "execution_count": 361,
     "metadata": {},
     "output_type": "execute_result"
    }
   ],
   "source": [
    "_homogeneous_strain"
   ]
  },
  {
   "cell_type": "code",
   "execution_count": 362,
   "metadata": {},
   "outputs": [
    {
     "data": {
      "image/png": "[encoded data removed]",
      "text/latex": [
       "$\\displaystyle 0.5 E_{0} e^{2} a{\\left(α \\right)} + w_{1} w{\\left(α \\right)}$"
      ],
      "text/plain": [
       "        2               \n",
       "0.5⋅E₀⋅e ⋅a(α) + w₁⋅w(α)"
      ]
     },
     "execution_count": 362,
     "metadata": {},
     "output_type": "execute_result"
    }
   ],
   "source": [
    "\n",
    "atls.energy(state).subs(_homogeneous_strain).subs({a: _α for a in state[\"α\"]})/_N\n",
    "\n"
   ]
  },
  {
   "cell_type": "code",
   "execution_count": 363,
   "metadata": {},
   "outputs": [
    {
     "data": {
      "text/latex": [
       "$\\displaystyle \\frac{0.5 E_{0} t^{2} \\left. \\frac{d}{d β} a{\\left(β \\right)} \\right|_{\\substack{ β=0 }}}{L^{2}} + w_{1} \\left. \\frac{d}{d β} w{\\left(β \\right)} \\right|_{\\substack{ β=0 }}$"
      ],
      "text/plain": [
       "        2 ⎛d       ⎞│                       \n",
       "0.5⋅E₀⋅t ⋅⎜──(a(β))⎟│                       \n",
       "          ⎝dβ      ⎠│β=0      ⎛d       ⎞│   \n",
       "──────────────────────── + w₁⋅⎜──(w(β))⎟│   \n",
       "            2                 ⎝dβ      ⎠│β=0\n",
       "           L                                "
      ]
     },
     "execution_count": 363,
     "metadata": {},
     "output_type": "execute_result"
    }
   ],
   "source": [
    "(model.criterion()/_N).doit()"
   ]
  },
  {
   "cell_type": "markdown",
   "metadata": {},
   "source": [
    "Damage criterion (first order optimality) is independent of N"
   ]
  },
  {
   "cell_type": "code",
   "execution_count": 364,
   "metadata": {},
   "outputs": [
    {
     "data": {
      "image/png": "[encoded data removed]",
      "text/latex": [
       "$\\displaystyle - \\frac{0.5 E_{0} t^{2} γ}{L^{2}} + w_{1}$"
      ],
      "text/plain": [
       "          2       \n",
       "  0.5⋅E₀⋅t ⋅γ     \n",
       "- ─────────── + w₁\n",
       "        2         \n",
       "       L          "
      ]
     },
     "execution_count": 364,
     "metadata": {},
     "output_type": "execute_result"
    }
   ],
   "source": [
    "model.explicit_criterion()/_N"
   ]
  },
  {
   "cell_type": "code",
   "execution_count": 365,
   "metadata": {},
   "outputs": [
    {
     "data": {
      "image/png": "[encoded data removed]",
      "text/latex": [
       "$\\displaystyle \\left[ \\frac{N t s{\\left(α_{1} \\right)}}{L \\left(s{\\left(α_{1} \\right)} + s{\\left(α_{2} \\right)} + s{\\left(α_{3} \\right)}\\right)}, \\  \\frac{N t s{\\left(α_{2} \\right)}}{L \\left(s{\\left(α_{1} \\right)} + s{\\left(α_{2} \\right)} + s{\\left(α_{3} \\right)}\\right)}, \\  \\frac{N t s{\\left(α_{3} \\right)}}{L \\left(s{\\left(α_{1} \\right)} + s{\\left(α_{2} \\right)} + s{\\left(α_{3} \\right)}\\right)}\\right]$"
      ],
      "text/plain": [
       "⎡        N⋅t⋅s(α₁)                  N⋅t⋅s(α₂)                  N⋅t⋅s(α₃)      \n",
       "⎢─────────────────────────, ─────────────────────────, ───────────────────────\n",
       "⎣L⋅(s(α₁) + s(α₂) + s(α₃))  L⋅(s(α₁) + s(α₂) + s(α₃))  L⋅(s(α₁) + s(α₂) + s(α₃\n",
       "\n",
       "  ⎤\n",
       "──⎥\n",
       "))⎦"
      ]
     },
     "execution_count": 365,
     "metadata": {},
     "output_type": "execute_result"
    }
   ],
   "source": [
    "[e for e in model._equilirbrium_e()]"
   ]
  },
  {
   "cell_type": "code",
   "execution_count": 366,
   "metadata": {},
   "outputs": [
    {
     "data": {
      "image/png": "[encoded data removed]",
      "text/latex": [
       "$\\displaystyle - \\frac{0.5 E_{0} t^{2} γ}{L^{2}} + w_{1}$"
      ],
      "text/plain": [
       "          2       \n",
       "  0.5⋅E₀⋅t ⋅γ     \n",
       "- ─────────── + w₁\n",
       "        2         \n",
       "       L          "
      ]
     },
     "execution_count": 366,
     "metadata": {},
     "output_type": "execute_result"
    }
   ],
   "source": [
    "tc, criterion = model.critical_load()\n",
    "\n",
    "(criterion/_N).subs({N: _N}).doit()"
   ]
  },
  {
   "cell_type": "code",
   "execution_count": 367,
   "metadata": {},
   "outputs": [
    {
     "data": {
      "image/png": "[encoded data removed]",
      "text/latex": [
       "$\\displaystyle - \\frac{0.5 E_{0} t^{2} γ}{L^{2}} + w_{1}$"
      ],
      "text/plain": [
       "          2       \n",
       "  0.5⋅E₀⋅t ⋅γ     \n",
       "- ─────────── + w₁\n",
       "        2         \n",
       "       L          "
      ]
     },
     "execution_count": 367,
     "metadata": {},
     "output_type": "execute_result"
    }
   ],
   "source": [
    "(criterion/_N).doit()"
   ]
  },
  {
   "cell_type": "code",
   "execution_count": 368,
   "metadata": {},
   "outputs": [
    {
     "data": {
      "image/png": "[encoded data removed]",
      "text/latex": [
       "$\\displaystyle 1 - 1.0 t^{2}$"
      ],
      "text/plain": [
       "     2\n",
       "1 - t "
      ]
     },
     "execution_count": 368,
     "metadata": {},
     "output_type": "execute_result"
    }
   ],
   "source": [
    "(criterion/_N).subs(_matpar).doit()"
   ]
  },
  {
   "cell_type": "code",
   "execution_count": 369,
   "metadata": {},
   "outputs": [
    {
     "data": {
      "image/png": "[encoded data removed]",
      "text/latex": [
       "$\\displaystyle \\left[ \\frac{2.0 L^{2} w_{1}}{E_{0} γ}\\right]$"
      ],
      "text/plain": [
       "⎡     2   ⎤\n",
       "⎢2.0⋅L ⋅w₁⎥\n",
       "⎢─────────⎥\n",
       "⎣   E₀⋅γ  ⎦"
      ]
     },
     "execution_count": 369,
     "metadata": {},
     "output_type": "execute_result"
    }
   ],
   "source": [
    "sp.solve(criterion/_N, sp.symbols('t')**2)"
   ]
  },
  {
   "cell_type": "code",
   "execution_count": 370,
   "metadata": {},
   "outputs": [
    {
     "data": {
      "image/png": "[encoded data removed]",
      "text/latex": [
       "$\\displaystyle \\left[ - 0.707106781186548 \\sqrt{2}, \\  0.707106781186548 \\sqrt{2}\\right]$"
      ],
      "text/plain": [
       "[-0.707106781186548⋅√2, 0.707106781186548⋅√2]"
      ]
     },
     "execution_count": 370,
     "metadata": {},
     "output_type": "execute_result"
    }
   ],
   "source": [
    "[t.subs(_matpar) for t in tc]"
   ]
  },
  {
   "cell_type": "markdown",
   "metadata": {},
   "source": [
    "Energy as a function of $\\alpha$ alone"
   ]
  },
  {
   "cell_type": "code",
   "execution_count": 339,
   "metadata": {},
   "outputs": [
    {
     "data": {
      "image/png": "[encoded data removed]",
      "text/latex": [
       "$\\displaystyle \\left[ - 0.707106781186548 \\sqrt{2} t - 1.0, \\  0.707106781186548 \\sqrt{2} t - 1.0\\right]$"
      ],
      "text/plain": [
       "[-0.707106781186548⋅√2⋅t - 1.0, 0.707106781186548⋅√2⋅t - 1.0]"
      ]
     },
     "execution_count": 339,
     "metadata": {},
     "output_type": "execute_result"
    }
   ],
   "source": [
    "_homogeneous_energy = model.energy_fc_alpha()   \\\n",
    "    .replace(sp.Function('a'), model.model.a )    \\\n",
    "    .replace(sp.Function('w'), model.model.w)       \\\n",
    "    .subs(_homogeneous_damage)\n",
    "\n",
    "_homogeneous_energy\n",
    "\n",
    "_homo_crit = sp.diff(_homogeneous_energy, sp.symbols('β'))\n",
    "\n",
    "sols = sp.solve(_homo_crit, sp.symbols('β'))\n",
    "\n",
    "[s.subs(_matpar) for s in sols]\n"
   ]
  },
  {
   "cell_type": "code",
   "execution_count": 340,
   "metadata": {},
   "outputs": [
    {
     "data": {
      "image/png": "[encoded data removed]",
      "text/latex": [
       "$\\displaystyle \\left[ \\frac{- L w_{1} - 0.235702260395516 N t \\sqrt{E_{0} w_{1} γ}}{L w_{1} \\left(γ - 1.0\\right)}, \\  \\frac{- L w_{1} + 0.235702260395516 N t \\sqrt{E_{0} w_{1} γ}}{L w_{1} \\left(γ - 1.0\\right)}\\right]$"
      ],
      "text/plain": [
       "⎡                                _________                                  __\n",
       "⎢-L⋅w₁ - 0.235702260395516⋅N⋅t⋅╲╱ E₀⋅w₁⋅γ   -L⋅w₁ + 0.235702260395516⋅N⋅t⋅╲╱ E\n",
       "⎢─────────────────────────────────────────, ──────────────────────────────────\n",
       "⎣              L⋅w₁⋅(γ - 1.0)                             L⋅w₁⋅(γ - 1.0)      \n",
       "\n",
       "_______⎤\n",
       "₀⋅w₁⋅γ ⎥\n",
       "───────⎥\n",
       "       ⎦"
      ]
     },
     "execution_count": 340,
     "metadata": {},
     "output_type": "execute_result"
    }
   ],
   "source": [
    "evo_β = sp.diff(model.energy_fc_alpha().subs(_homogeneous_damage), sp.symbols('β')) \\\n",
    "    .replace(sp.Function('a'), model.model.a )    \\\n",
    "    .replace(sp.Function('w'), model.model.w).doit().simplify()\n",
    "\n",
    "\n",
    "sp.solve(evo_β, sp.symbols('β'))"
   ]
  },
  {
   "cell_type": "code",
   "execution_count": 341,
   "metadata": {},
   "outputs": [
    {
     "data": {
      "image/png": "[encoded data removed]",
      "text/latex": [
       "$\\displaystyle 0.5 e^{2} \\left(- \\frac{1 - β}{\\left(β + 1\\right)^{2}} - \\frac{1}{β + 1}\\right) + 1$"
      ],
      "text/plain": [
       "     2 ⎛   1 - β       1  ⎞    \n",
       "0.5⋅e ⋅⎜- ──────── - ─────⎟ + 1\n",
       "       ⎜         2   β + 1⎟    \n",
       "       ⎝  (β + 1)         ⎠    "
      ]
     },
     "execution_count": 341,
     "metadata": {},
     "output_type": "execute_result"
    }
   ],
   "source": [
    "sp.diff(model.model.energy(state)                   \\\n",
    "            .subs(_homogeneous_damage)              \\\n",
    "            .subs(_homogeneous_strain), β)          \\\n",
    "        .replace(sp.Function('a'), model.model.a )  \\\n",
    "        .replace(sp.Function('w'), model.model.w)   \\\n",
    "            .subs(_matpar).doit()/_N"
   ]
  },
  {
   "cell_type": "markdown",
   "metadata": {},
   "source": [
    "## Model Analysis\n",
    "\n",
    "- (constitutive assumptions)\n",
    "- equilibrium\n",
    "- homogeneous solution\n",
    "- homogeneous energy\n",
    "- bifurcations\n",
    "- stability"
   ]
  },
  {
   "cell_type": "code",
   "execution_count": 342,
   "metadata": {},
   "outputs": [],
   "source": [
    "N = sp.symbols(\"N\")\n",
    "t = sp.symbols('t')\n",
    "_N = 2\n",
    "\n",
    "γ = sp.symbols('γ')\n",
    "E0, L, w1, σc = sp.symbols('E0 L w1 σc')\n",
    "\n",
    "u = sp.symbols([f\"u{i}\" for i in range(0, _N)])\n",
    "e = sp.symbols([f\"e{i}\" for i in range(1, _N+1)])\n",
    "α = sp.symbols([f\"α{i}\" for i in range(1, _N+1)])\n",
    "_α = sp.symbols(\"α\")\n",
    "\n",
    "β = sp.symbols('β')\n",
    "αt = sp.symbols('α_t')\n",
    "\n",
    "\n",
    "state = {\"u\": u, \"α\": α, \"e\": e}\n",
    "_matpar = {N: _N, γ: 2, E0: 1, w1: 1, L: 1}\n",
    "matpar = {\"N\": N, \"γ\": γ, \"E0\": E0, \"w1\": w1, \"L\": L}\n",
    "\n"
   ]
  },
  {
   "cell_type": "code",
   "execution_count": 343,
   "metadata": {},
   "outputs": [
    {
     "data": {
      "image/png": "[encoded data removed]",
      "text/latex": [
       "$\\displaystyle α$"
      ],
      "text/plain": [
       "α"
      ]
     },
     "execution_count": 343,
     "metadata": {},
     "output_type": "execute_result"
    }
   ],
   "source": [
    "_α"
   ]
  },
  {
   "cell_type": "code",
   "execution_count": 344,
   "metadata": {},
   "outputs": [
    {
     "data": {
      "image/png": "[encoded data removed]",
      "text/latex": [
       "$\\displaystyle \\frac{1 - w{\\left(α \\right)}}{\\left(γ - 1\\right) w{\\left(α \\right)} + 1}$"
      ],
      "text/plain": [
       "    1 - w(α)    \n",
       "────────────────\n",
       "(γ - 1)⋅w(α) + 1"
      ]
     },
     "execution_count": 344,
     "metadata": {},
     "output_type": "execute_result"
    }
   ],
   "source": [
    "atls.a(_α)"
   ]
  },
  {
   "cell_type": "code",
   "execution_count": 345,
   "metadata": {},
   "outputs": [
    {
     "data": {
      "text/latex": [
       "$\\displaystyle \\frac{1.0 E_{0} t^{2} \\left. \\frac{d}{d β} a{\\left(β \\right)} \\right|_{\\substack{ β=0 }}}{L^{2}} + 2 w_{1} \\left. \\frac{d}{d β} w{\\left(β \\right)} \\right|_{\\substack{ β=0 }}$"
      ],
      "text/plain": [
       "        2 ⎛d       ⎞│                         \n",
       "1.0⋅E₀⋅t ⋅⎜──(a(β))⎟│                         \n",
       "          ⎝dβ      ⎠│β=0        ⎛d       ⎞│   \n",
       "──────────────────────── + 2⋅w₁⋅⎜──(w(β))⎟│   \n",
       "            2                   ⎝dβ      ⎠│β=0\n",
       "           L                                  "
      ]
     },
     "execution_count": 345,
     "metadata": {},
     "output_type": "execute_result"
    }
   ],
   "source": [
    "atls = SymbolicDiscreteDamage(state, matpar)\n",
    "model = ModelAnalysis(atls)\n",
    "model.criterion()"
   ]
  },
  {
   "cell_type": "code",
   "execution_count": 346,
   "metadata": {},
   "outputs": [
    {
     "data": {
      "image/png": "[encoded data removed]",
      "text/latex": [
       "$\\displaystyle \\left[ \\frac{2.0 L^{2} w_{1}}{E_{0} γ}\\right]$"
      ],
      "text/plain": [
       "⎡     2   ⎤\n",
       "⎢2.0⋅L ⋅w₁⎥\n",
       "⎢─────────⎥\n",
       "⎣   E₀⋅γ  ⎦"
      ]
     },
     "execution_count": 346,
     "metadata": {},
     "output_type": "execute_result"
    }
   ],
   "source": [
    "sp.solve(model.criterion().replace(sp.Function('a'), atls.a) \\\n",
    "                    .replace(sp.Function('w'), atls.w).doit(), sp.symbols('t')**2)"
   ]
  },
  {
   "cell_type": "code",
   "execution_count": 347,
   "metadata": {},
   "outputs": [
    {
     "data": {
      "image/png": "[encoded data removed]",
      "text/latex": [
       "$\\displaystyle - \\frac{1.0 E_{0} t^{2} γ}{L^{2}} + 2 w_{1}$"
      ],
      "text/plain": [
       "      2         \n",
       "  E₀⋅t ⋅γ       \n",
       "- ─────── + 2⋅w₁\n",
       "      2         \n",
       "     L          "
      ]
     },
     "execution_count": 347,
     "metadata": {},
     "output_type": "execute_result"
    }
   ],
   "source": [
    "model.explicit_criterion().doit()"
   ]
  },
  {
   "cell_type": "code",
   "execution_count": 348,
   "metadata": {},
   "outputs": [
    {
     "data": {
      "text/plain": [
       "(<Figure size 576x432 with 4 Axes>,\n",
       " array([<AxesSubplot:ylabel=\"a, a', a''\">, <AxesSubplot:>], dtype=object))"
      ]
     },
     "execution_count": 348,
     "metadata": {},
     "output_type": "execute_result"
    },
    {
     "data": {
      "image/png": "[encoded data removed]",
      "text/plain": [
       "<Figure size 576x432 with 4 Axes>"
      ]
     },
     "metadata": {
      "needs_background": "light"
     },
     "output_type": "display_data"
    }
   ],
   "source": [
    "model.plot_material(_matpar)"
   ]
  },
  {
   "cell_type": "code",
   "execution_count": 349,
   "metadata": {},
   "outputs": [
    {
     "data": {
      "image/png": "[encoded data removed]",
      "text/latex": [
       "$\\displaystyle 0.5 E_{0} e_{1}^{2} a{\\left(α_{1} \\right)} + 0.5 E_{0} e_{2}^{2} a{\\left(α_{2} \\right)} + w_{1} w{\\left(α_{1} \\right)} + w_{1} w{\\left(α_{2} \\right)}$"
      ],
      "text/plain": [
       "         2                  2                            \n",
       "0.5⋅E₀⋅e₁ ⋅a(α₁) + 0.5⋅E₀⋅e₂ ⋅a(α₂) + w₁⋅w(α₁) + w₁⋅w(α₂)"
      ]
     },
     "execution_count": 349,
     "metadata": {},
     "output_type": "execute_result"
    }
   ],
   "source": [
    "atls.energy(state)"
   ]
  },
  {
   "cell_type": "code",
   "execution_count": 19,
   "metadata": {},
   "outputs": [
    {
     "data": {
      "text/plain": [
       "{'u': [u0, u1], 'α': [α1, α2], 'e': [e1, e2]}"
      ]
     },
     "execution_count": 19,
     "metadata": {},
     "output_type": "execute_result"
    }
   ],
   "source": [
    "state"
   ]
  },
  {
   "cell_type": "code",
   "execution_count": 20,
   "metadata": {},
   "outputs": [
    {
     "data": {
      "image/png": "[encoded data removed]",
      "text/latex": [
       "$\\displaystyle \\left[ \\frac{N t s{\\left(α_{1} \\right)}}{L \\left(s{\\left(α_{1} \\right)} + s{\\left(α_{2} \\right)}\\right)}, \\  \\frac{N t s{\\left(α_{2} \\right)}}{L \\left(s{\\left(α_{1} \\right)} + s{\\left(α_{2} \\right)}\\right)}\\right]$"
      ],
      "text/plain": [
       "⎡    N⋅t⋅s(α₁)          N⋅t⋅s(α₂)    ⎤\n",
       "⎢─────────────────, ─────────────────⎥\n",
       "⎣L⋅(s(α₁) + s(α₂))  L⋅(s(α₁) + s(α₂))⎦"
      ]
     },
     "execution_count": 20,
     "metadata": {},
     "output_type": "execute_result"
    }
   ],
   "source": [
    "model._equilirbrium_e()\n"
   ]
  },
  {
   "cell_type": "code",
   "execution_count": 21,
   "metadata": {},
   "outputs": [
    {
     "data": {
      "image/png": "[encoded data removed]",
      "text/latex": [
       "$\\displaystyle \\frac{0.5 E_{0} N^{2} t^{2} a{\\left(α_{1} \\right)} s^{2}{\\left(α_{1} \\right)}}{L^{2} \\left(s{\\left(α_{1} \\right)} + s{\\left(α_{2} \\right)}\\right)^{2}} + \\frac{0.5 E_{0} N^{2} t^{2} a{\\left(α_{2} \\right)} s^{2}{\\left(α_{2} \\right)}}{L^{2} \\left(s{\\left(α_{1} \\right)} + s{\\left(α_{2} \\right)}\\right)^{2}} + w_{1} w{\\left(α_{1} \\right)} + w_{1} w{\\left(α_{2} \\right)}$"
      ],
      "text/plain": [
       "        2  2        2               2  2        2                          \n",
       "0.5⋅E₀⋅N ⋅t ⋅a(α₁)⋅s (α₁)   0.5⋅E₀⋅N ⋅t ⋅a(α₂)⋅s (α₂)                      \n",
       "───────────────────────── + ───────────────────────── + w₁⋅w(α₁) + w₁⋅w(α₂)\n",
       "    2                2          2                2                         \n",
       "   L ⋅(s(α₁) + s(α₂))          L ⋅(s(α₁) + s(α₂))                          "
      ]
     },
     "execution_count": 210,
     "metadata": {},
     "output_type": "execute_result"
    }
   ],
   "source": [
    "model.energy_fc_alpha()"
   ]
  },
  {
   "cell_type": "code",
   "execution_count": 247,
   "metadata": {},
   "outputs": [
    {
     "data": {
      "image/png": "[encoded data removed]",
      "text/latex": [
       "$\\displaystyle \\left\\{ α_{1} : α_{t}, \\  α_{2} : α_{t}\\right\\}$"
      ],
      "text/plain": [
       "{α₁: αₜ, α₂: αₜ}"
      ]
     },
     "execution_count": 247,
     "metadata": {},
     "output_type": "execute_result"
    }
   ],
   "source": [
    "subs_homog_α, subs_homog_e =  model._state_homog_substitutions(state, _matpar)\n",
    "subs_homog_α"
   ]
  },
  {
   "cell_type": "code",
   "execution_count": 248,
   "metadata": {},
   "outputs": [
    {
     "data": {
      "image/png": "[encoded data removed]",
      "text/latex": [
       "$\\displaystyle \\left\\{ e_{1} : e_{t}, \\  e_{2} : e_{t}\\right\\}$"
      ],
      "text/plain": [
       "{e₁: eₜ, e₂: eₜ}"
      ]
     },
     "execution_count": 248,
     "metadata": {},
     "output_type": "execute_result"
    }
   ],
   "source": [
    "subs_homog_e"
   ]
  },
  {
   "cell_type": "code",
   "execution_count": 212,
   "metadata": {},
   "outputs": [
    {
     "data": {
      "image/png": "[encoded data removed]",
      "text/latex": [
       "$\\displaystyle \\frac{0.25 E_{0} N^{2} t^{2} a{\\left(α_{t} \\right)}}{L^{2}} + 2 w_{1} w{\\left(α_{t} \\right)}$"
      ],
      "text/plain": [
       "         2  2                   \n",
       "0.25⋅E₀⋅N ⋅t ⋅a(αₜ)             \n",
       "─────────────────── + 2⋅w₁⋅w(αₜ)\n",
       "          2                     \n",
       "         L                      "
      ]
     },
     "execution_count": 212,
     "metadata": {},
     "output_type": "execute_result"
    }
   ],
   "source": [
    "model.energy_fc_alpha().subs(subs_homog_α)"
   ]
  },
  {
   "cell_type": "markdown",
   "metadata": {},
   "source": [
    "### homogeneous solution"
   ]
  },
  {
   "cell_type": "code",
   "execution_count": 23,
   "metadata": {},
   "outputs": [],
   "source": [
    "_derivative_homo_α_wrt_t = [sp.diff(_homo_α.subs(_matpar), sp.symbols('t')) \n",
    "                            for _homo_α in model.homogeneous_α(_matpar)]\n",
    "\n",
    "_idx = np.where(np.array(_derivative_homo_α_wrt_t) > 0)[0][0]\n",
    "\n",
    "model.set_homog_solution_idx(_idx)\n",
    "# model._homog_solution_idx"
   ]
  },
  {
   "cell_type": "code",
   "execution_count": 217,
   "metadata": {},
   "outputs": [
    {
     "data": {
      "image/png": "[encoded data removed]",
      "text/latex": [
       "$\\displaystyle \\begin{cases} t - 1.0 & \\text{for}\\: t \\geq 0.707106781186548 \\sqrt{2} \\\\0 & \\text{otherwise} \\end{cases}$"
      ],
      "text/plain": [
       "⎧t - 1.0  for t ≥ 0.707106781186548⋅√2\n",
       "⎨                                     \n",
       "⎩   0              otherwise          "
      ]
     },
     "execution_count": 217,
     "metadata": {},
     "output_type": "execute_result"
    }
   ],
   "source": [
    "model.homogeneous_α_wrt_t(_matpar)"
   ]
  },
  {
   "cell_type": "code",
   "execution_count": 218,
   "metadata": {},
   "outputs": [
    {
     "data": {
      "text/plain": [
       "<matplotlib.lines.Line2D at 0x1681ef310>"
      ]
     },
     "execution_count": 218,
     "metadata": {},
     "output_type": "execute_result"
    },
    {
     "data": {
      "image/png": "[encoded data removed]",
      "text/plain": [
       "<Figure size 432x288 with 1 Axes>"
      ]
     },
     "metadata": {
      "needs_background": "light"
     },
     "output_type": "display_data"
    }
   ],
   "source": [
    "_loads = np.linspace(0., float(γ.subs(_matpar)), 30)\n",
    "\n",
    "# _alpha = model.homogeneous_α(_matpar)[model._homog_solution_idx]\n",
    "_alpha = model.homogeneous_α_wrt_t(_matpar)\n",
    "\n",
    "_f = sp.lambdify(t, _alpha.subs(_matpar), 'numpy')\n",
    "plt.plot(_loads, _f(_loads), c='k')\n",
    "\n",
    "plt.axhline(0)"
   ]
  },
  {
   "cell_type": "code",
   "execution_count": 222,
   "metadata": {},
   "outputs": [
    {
     "data": {
      "image/png": "[encoded data removed]",
      "text/latex": [
       "$\\displaystyle \\frac{0.25 E_{0} N^{2} t^{2} a{\\left(α_{t} \\right)}}{L^{2}} + 2 w_{1} w{\\left(α_{t} \\right)}$"
      ],
      "text/plain": [
       "         2  2                   \n",
       "0.25⋅E₀⋅N ⋅t ⋅a(αₜ)             \n",
       "─────────────────── + 2⋅w₁⋅w(αₜ)\n",
       "          2                     \n",
       "         L                      "
      ]
     },
     "execution_count": 222,
     "metadata": {},
     "output_type": "execute_result"
    }
   ],
   "source": [
    "# energies wrt t\n",
    "\n",
    "model.energy_fc_alpha() \\\n",
    "    .subs(subs_homog_α)"
   ]
  },
  {
   "cell_type": "code",
   "execution_count": 219,
   "metadata": {},
   "outputs": [
    {
     "data": {
      "image/png": "[encoded data removed]",
      "text/latex": [
       "$\\displaystyle \\left\\{ e_{1} : \\frac{N t s{\\left(α_{1} \\right)}}{L \\left(s{\\left(α_{1} \\right)} + s{\\left(α_{2} \\right)}\\right)}, \\  e_{2} : \\frac{N t s{\\left(α_{2} \\right)}}{L \\left(s{\\left(α_{1} \\right)} + s{\\left(α_{2} \\right)}\\right)}\\right\\}$"
      ],
      "text/plain": [
       "⎧        N⋅t⋅s(α₁)              N⋅t⋅s(α₂)    ⎫\n",
       "⎨e₁: ─────────────────, e₂: ─────────────────⎬\n",
       "⎩    L⋅(s(α₁) + s(α₂))      L⋅(s(α₁) + s(α₂))⎭"
      ]
     },
     "execution_count": 219,
     "metadata": {},
     "output_type": "execute_result"
    }
   ],
   "source": [
    "model.equilibrium_subs()"
   ]
  },
  {
   "cell_type": "code",
   "execution_count": 220,
   "metadata": {},
   "outputs": [
    {
     "data": {
      "image/png": "[encoded data removed]",
      "text/latex": [
       "$\\displaystyle \\left( \\left\\{ α_{1} : α_{t}, \\  α_{2} : α_{t}\\right\\}, \\  \\left\\{ e_{1} : e_{t}, \\  e_{2} : e_{t}\\right\\}\\right)$"
      ],
      "text/plain": [
       "({α₁: αₜ, α₂: αₜ}, {e₁: eₜ, e₂: eₜ})"
      ]
     },
     "execution_count": 220,
     "metadata": {},
     "output_type": "execute_result"
    }
   ],
   "source": [
    "# Substitutions to compute homogeneous solutions\n",
    "\n",
    "subs_homog_α, subs_homog_e =  model._state_homog_substitutions(state, _matpar)\n",
    "subs_homog_α, subs_homog_e\n"
   ]
  },
  {
   "cell_type": "code",
   "execution_count": 249,
   "metadata": {},
   "outputs": [
    {
     "data": {
      "image/png": "[encoded data removed]",
      "text/latex": [
       "$\\displaystyle \\left\\{ e_{1} : e_{t}, \\  e_{2} : e_{t}\\right\\}$"
      ],
      "text/plain": [
       "{e₁: eₜ, e₂: eₜ}"
      ]
     },
     "execution_count": 249,
     "metadata": {},
     "output_type": "execute_result"
    }
   ],
   "source": [
    "subs_homog_e"
   ]
  },
  {
   "cell_type": "code",
   "execution_count": 239,
   "metadata": {},
   "outputs": [
    {
     "data": {
      "image/png": "[encoded data removed]",
      "text/latex": [
       "$\\displaystyle 2 \\left(\\begin{cases} t - 1.0 & \\text{for}\\: t \\geq 0.707106781186548 \\sqrt{2} \\\\0 & \\text{otherwise} \\end{cases}\\right)$"
      ],
      "text/plain": [
       "  ⎛⎧t - 1.0  for t ≥ 0.707106781186548⋅√2⎞\n",
       "2⋅⎜⎨                                     ⎟\n",
       "  ⎝⎩   0              otherwise          ⎠"
      ]
     },
     "execution_count": 239,
     "metadata": {},
     "output_type": "execute_result"
    }
   ],
   "source": [
    "model.model._damage(state)      \\\n",
    "    .subs(subs_homog_α)         \\\n",
    "    .replace(sp.Function('w'), model.model.w)                  \\\n",
    "    .replace(αt, _αt)       \\\n",
    "    .subs(_matpar)\n",
    "\n"
   ]
  },
  {
   "cell_type": "code",
   "execution_count": 251,
   "metadata": {},
   "outputs": [
    {
     "data": {
      "image/png": "[encoded data removed]",
      "text/latex": [
       "$\\displaystyle \\left\\{ e_{1} : \\frac{N t s{\\left(α_{1} \\right)}}{L \\left(s{\\left(α_{1} \\right)} + s{\\left(α_{2} \\right)}\\right)}, \\  e_{2} : \\frac{N t s{\\left(α_{2} \\right)}}{L \\left(s{\\left(α_{1} \\right)} + s{\\left(α_{2} \\right)}\\right)}\\right\\}$"
      ],
      "text/plain": [
       "⎧        N⋅t⋅s(α₁)              N⋅t⋅s(α₂)    ⎫\n",
       "⎨e₁: ─────────────────, e₂: ─────────────────⎬\n",
       "⎩    L⋅(s(α₁) + s(α₂))      L⋅(s(α₁) + s(α₂))⎭"
      ]
     },
     "execution_count": 251,
     "metadata": {},
     "output_type": "execute_result"
    }
   ],
   "source": []
  },
  {
   "cell_type": "code",
   "execution_count": 257,
   "metadata": {},
   "outputs": [
    {
     "data": {
      "image/png": "[encoded data removed]",
      "text/latex": [
       "$\\displaystyle \\frac{1.0 t^{2} \\cdot \\left(1 - w{\\left(\\begin{cases} t - 1.0 & \\text{for}\\: t \\geq 0.707106781186548 \\sqrt{2} \\\\0 & \\text{otherwise} \\end{cases} \\right)}\\right)}{w{\\left(\\begin{cases} t - 1.0 & \\text{for}\\: t \\geq 0.707106781186548 \\sqrt{2} \\\\0 & \\text{otherwise} \\end{cases} \\right)} + 1}$"
      ],
      "text/plain": [
       "     2 ⎛     ⎛⎧t - 1.0  for t ≥ 0.707106781186548⋅√2⎞⎞\n",
       "1.0⋅t ⋅⎜1 - w⎜⎨                                     ⎟⎟\n",
       "       ⎝     ⎝⎩   0              otherwise          ⎠⎠\n",
       "──────────────────────────────────────────────────────\n",
       "     ⎛⎧t - 1.0  for t ≥ 0.707106781186548⋅√2⎞         \n",
       "    w⎜⎨                                     ⎟ + 1     \n",
       "     ⎝⎩   0              otherwise          ⎠         "
      ]
     },
     "execution_count": 257,
     "metadata": {},
     "output_type": "execute_result"
    }
   ],
   "source": [
    "\n",
    "_elastic_energy_homogeneous_wrt_t"
   ]
  },
  {
   "cell_type": "markdown",
   "metadata": {},
   "source": [
    "### Plots of homogeneous response"
   ]
  },
  {
   "cell_type": "code",
   "execution_count": 264,
   "metadata": {},
   "outputs": [],
   "source": [
    "_tc, _ = model.critical_load()\n",
    "_tc = _tc[model._homog_solution_idx].subs(matpar)\n"
   ]
  },
  {
   "cell_type": "code",
   "execution_count": 279,
   "metadata": {},
   "outputs": [
    {
     "data": {
      "image/png": "[encoded data removed]",
      "text/latex": [
       "$\\displaystyle \\frac{0.25 E_{0} N^{2} t^{2} a{\\left(α_{t} \\right)}}{L^{2}} + 2 w_{1} w{\\left(α_{t} \\right)}$"
      ],
      "text/plain": [
       "         2  2                   \n",
       "0.25⋅E₀⋅N ⋅t ⋅a(αₜ)             \n",
       "─────────────────── + 2⋅w₁⋅w(αₜ)\n",
       "          2                     \n",
       "         L                      "
      ]
     },
     "execution_count": 279,
     "metadata": {},
     "output_type": "execute_result"
    }
   ],
   "source": [
    "model.energy_fc_alpha()     \\\n",
    "    .subs(subs_homog_α)    "
   ]
  },
  {
   "cell_type": "code",
   "execution_count": 265,
   "metadata": {},
   "outputs": [
    {
     "data": {
      "text/plain": [
       "<matplotlib.lines.Line2D at 0x1693027c0>"
      ]
     },
     "execution_count": 265,
     "metadata": {},
     "output_type": "execute_result"
    },
    {
     "data": {
      "image/png": "[encoded data removed]",
      "text/plain": [
       "<Figure size 432x288 with 1 Axes>"
      ]
     },
     "metadata": {
      "needs_background": "light"
     },
     "output_type": "display_data"
    }
   ],
   "source": [
    "_αt = model.homogeneous_α_wrt_t(_matpar)\n",
    "\n",
    "energy_homogeneous_wrt_t = model.energy_fc_alpha()     \\\n",
    "    .subs(subs_homog_α)     \\\n",
    "    .replace(αt, _αt)       \\\n",
    "    .replace(sp.Function('a'), model.model.a)                  \\\n",
    "    .replace(sp.Function('w'), model.model.w)                  \\\n",
    "    .subs(_matpar)\n",
    "\n",
    "_damage_energy_homogeneous_wrt_t = model.model._damage(state)      \\\n",
    "    .subs(subs_homog_α)         \\\n",
    "    .replace(sp.Function('w'), model.model.w)                  \\\n",
    "    .replace(αt, _αt)       \\\n",
    "    .subs(_matpar)\n",
    "\n",
    "_elastic_energy_homogeneous_wrt_t = model.model._elastic(state)      \\\n",
    "                .subs(model.equilibrium_subs())                       \\\n",
    "                .subs(subs_homog_α)                                     \\\n",
    "                    .replace(sp.Function('a'), model.model.a)                  \\\n",
    "                    .replace(sp.Function('w'), model.model.w)                  \\\n",
    "                    .replace(αt, _αt)                                       \\\n",
    "                    .subs(_matpar)\n",
    "\n",
    "\n",
    "_f1 = sp.lambdify(t, energy_homogeneous_wrt_t, 'numpy')\n",
    "_f2 = sp.lambdify(t, _damage_energy_homogeneous_wrt_t, 'numpy')\n",
    "_f3 = sp.lambdify(t, _elastic_energy_homogeneous_wrt_t, 'numpy')\n",
    "\n",
    "\n",
    "plt.plot(_loads, _f1(_loads), c='k' , lw=3)\n",
    "plt.plot(_loads, _f2(_loads), c='k')\n",
    "plt.plot(_loads, _f3(_loads), c='r')\n",
    "\n",
    "plt.xlabel('t')\n",
    "plt.ylabel('E', rotation=0)\n",
    "\n",
    "\n",
    "plt.axhline(0)"
   ]
  },
  {
   "cell_type": "code",
   "execution_count": 231,
   "metadata": {},
   "outputs": [
    {
     "data": {
      "image/png": "[encoded data removed]",
      "text/latex": [
       "$\\displaystyle - \\frac{2.0 t^{2}}{\\left(α_{t} + 1\\right)^{2}} + 2$"
      ],
      "text/plain": [
       "         2     \n",
       "    2.0⋅t      \n",
       "- ───────── + 2\n",
       "          2    \n",
       "  (αₜ + 1)     "
      ]
     },
     "execution_count": 231,
     "metadata": {},
     "output_type": "execute_result"
    }
   ],
   "source": [
    "model.evo_α(matpar = _matpar)"
   ]
  },
  {
   "cell_type": "code",
   "execution_count": 104,
   "metadata": {},
   "outputs": [],
   "source": [
    "_homogeneous = {a: β for a in state[\"α\"]}\n",
    "_sound = {a: 0 for a in state[\"α\"]}"
   ]
  },
  {
   "cell_type": "code",
   "execution_count": 105,
   "metadata": {},
   "outputs": [
    {
     "data": {
      "image/png": "[encoded data removed]",
      "text/latex": [
       "$\\displaystyle \\left( \\left\\{ α_{1} : 0, \\  α_{2} : 0\\right\\}, \\  \\left\\{ α_{1} : β, \\  α_{2} : β\\right\\}\\right)$"
      ],
      "text/plain": [
       "({α₁: 0, α₂: 0}, {α₁: β, α₂: β})"
      ]
     },
     "execution_count": 105,
     "metadata": {},
     "output_type": "execute_result"
    }
   ],
   "source": [
    "_sound, _homogeneous"
   ]
  },
  {
   "cell_type": "code",
   "execution_count": 232,
   "metadata": {},
   "outputs": [
    {
     "data": {
      "image/png": "[encoded data removed]",
      "text/latex": [
       "$\\displaystyle - \\frac{2.0 t^{2}}{\\left(α_{t} + 1\\right)^{2}} + 2$"
      ],
      "text/plain": [
       "         2     \n",
       "    2.0⋅t      \n",
       "- ───────── + 2\n",
       "          2    \n",
       "  (αₜ + 1)     "
      ]
     },
     "execution_count": 232,
     "metadata": {},
     "output_type": "execute_result"
    }
   ],
   "source": [
    "model.evo_α(_matpar)"
   ]
  },
  {
   "cell_type": "code",
   "execution_count": 37,
   "metadata": {},
   "outputs": [
    {
     "data": {
      "image/png": "[encoded data removed]",
      "text/latex": [
       "$\\displaystyle \\left[ \\frac{- L w_{1} - 0.235702260395516 N t \\sqrt{E_{0} w_{1} γ}}{L w_{1} \\left(γ - 1.0\\right)}, \\  \\frac{- L w_{1} + 0.235702260395516 N t \\sqrt{E_{0} w_{1} γ}}{L w_{1} \\left(γ - 1.0\\right)}\\right]$"
      ],
      "text/plain": [
       "⎡                                _________                                  __\n",
       "⎢-L⋅w₁ - 0.235702260395516⋅N⋅t⋅╲╱ E₀⋅w₁⋅γ   -L⋅w₁ + 0.235702260395516⋅N⋅t⋅╲╱ E\n",
       "⎢─────────────────────────────────────────, ──────────────────────────────────\n",
       "⎣              L⋅w₁⋅(γ - 1.0)                             L⋅w₁⋅(γ - 1.0)      \n",
       "\n",
       "_______⎤\n",
       "₀⋅w₁⋅γ ⎥\n",
       "───────⎥\n",
       "       ⎦"
      ]
     },
     "execution_count": 37,
     "metadata": {},
     "output_type": "execute_result"
    }
   ],
   "source": [
    "model.homogeneous_α()"
   ]
  },
  {
   "cell_type": "code",
   "execution_count": null,
   "metadata": {},
   "outputs": [],
   "source": [
    "model.homogeneous_α(_matpar)"
   ]
  },
  {
   "cell_type": "code",
   "execution_count": 67,
   "metadata": {},
   "outputs": [],
   "source": [
    "subs_homog_α, subs_homog_e =  model._state_homog_substitutions(state, _matpar)"
   ]
  },
  {
   "cell_type": "code",
   "execution_count": 266,
   "metadata": {},
   "outputs": [
    {
     "data": {
      "text/latex": [
       "$\\displaystyle \\frac{1.0 E_{0} t^{2} \\left. \\frac{d}{d β} a{\\left(β \\right)} \\right|_{\\substack{ β=0 }}}{L^{2}} + 2 w_{1} \\left. \\frac{d}{d β} w{\\left(β \\right)} \\right|_{\\substack{ β=0 }}$"
      ],
      "text/plain": [
       "        2 ⎛d       ⎞│                         \n",
       "1.0⋅E₀⋅t ⋅⎜──(a(β))⎟│                         \n",
       "          ⎝dβ      ⎠│β=0        ⎛d       ⎞│   \n",
       "──────────────────────── + 2⋅w₁⋅⎜──(w(β))⎟│   \n",
       "            2                   ⎝dβ      ⎠│β=0\n",
       "           L                                  "
      ]
     },
     "execution_count": 266,
     "metadata": {},
     "output_type": "execute_result"
    }
   ],
   "source": [
    "atls = SymbolicDiscreteDamage(state, matpar)\n",
    "model = ModelAnalysis(atls)\n",
    "model.criterion()"
   ]
  },
  {
   "cell_type": "code",
   "execution_count": 267,
   "metadata": {},
   "outputs": [],
   "source": [
    "# we bifurcate m springs\n",
    "\n",
    "m = 1\n",
    "\n",
    "assert m < _matpar[N]"
   ]
  },
  {
   "cell_type": "code",
   "execution_count": 268,
   "metadata": {},
   "outputs": [
    {
     "name": "stdout",
     "output_type": "stream",
     "text": [
      "set of bifurcated springs [α2]\n",
      "set of homogeneous springs {α1}\n"
     ]
    }
   ],
   "source": [
    "bif_α, homo_α, bif_e, homo_e = model._state_split(m, state, _matpar)\n",
    "print(f'set of bifurcated springs {bif_α}')\n",
    "print(f'set of homogeneous springs {homo_α}')"
   ]
  },
  {
   "cell_type": "code",
   "execution_count": 275,
   "metadata": {},
   "outputs": [
    {
     "data": {
      "image/png": "[encoded data removed]",
      "text/latex": [
       "$\\displaystyle \\left\\{ e_{1} : \\frac{N t s{\\left(α_{1} \\right)}}{L \\left(s{\\left(α_{1} \\right)} + s{\\left(α_{2} \\right)}\\right)}, \\  e_{2} : \\frac{N t s{\\left(α_{2} \\right)}}{L \\left(s{\\left(α_{1} \\right)} + s{\\left(α_{2} \\right)}\\right)}\\right\\}$"
      ],
      "text/plain": [
       "⎧        N⋅t⋅s(α₁)              N⋅t⋅s(α₂)    ⎫\n",
       "⎨e₁: ─────────────────, e₂: ─────────────────⎬\n",
       "⎩    L⋅(s(α₁) + s(α₂))      L⋅(s(α₁) + s(α₂))⎭"
      ]
     },
     "execution_count": 275,
     "metadata": {},
     "output_type": "execute_result"
    }
   ],
   "source": [
    "model.equilibrium_subs()"
   ]
  },
  {
   "cell_type": "code",
   "execution_count": 269,
   "metadata": {},
   "outputs": [],
   "source": [
    "subs_bif_α, subs_bif_e =  model._state_bifurcation_substitutions(1, state, _matpar)"
   ]
  },
  {
   "cell_type": "code",
   "execution_count": 270,
   "metadata": {},
   "outputs": [
    {
     "data": {
      "image/png": "[encoded data removed]",
      "text/latex": [
       "$\\displaystyle \\left\\{ α_{1} : α_{t}, \\  α_{2} : a^{*}\\right\\}$"
      ],
      "text/plain": [
       "{α₁: αₜ, α₂: a__*}"
      ]
     },
     "execution_count": 270,
     "metadata": {},
     "output_type": "execute_result"
    }
   ],
   "source": [
    "model.homogeneous_α(_matpar).replace(_a, model.model.a)  \\\n",
    "            .replace(_w, model.model.w).doit()"
   ]
  },
  {
   "cell_type": "code",
   "execution_count": 271,
   "metadata": {},
   "outputs": [
    {
     "data": {
      "image/png": "[encoded data removed]",
      "text/latex": [
       "$\\displaystyle \\left\\{ e_{1} : e_{t}, \\  e_{2} : e^{*}\\right\\}$"
      ],
      "text/plain": [
       "{e₁: eₜ, e₂: e__*}"
      ]
     },
     "execution_count": 271,
     "metadata": {},
     "output_type": "execute_result"
    }
   ],
   "source": [
    "# substitutions for strain\n",
    "\n",
    "subs_bif_e"
   ]
  },
  {
   "cell_type": "code",
   "execution_count": 280,
   "metadata": {},
   "outputs": [
    {
     "data": {
      "image/png": "[encoded data removed]",
      "text/latex": [
       "$\\displaystyle \\frac{1}{a{\\left(α \\right)}}$"
      ],
      "text/plain": [
       " 1  \n",
       "────\n",
       "a(α)"
      ]
     },
     "execution_count": 280,
     "metadata": {},
     "output_type": "execute_result"
    }
   ],
   "source": [
    "_s"
   ]
  },
  {
   "cell_type": "code",
   "execution_count": 307,
   "metadata": {},
   "outputs": [
    {
     "data": {
      "image/png": "[encoded data removed]",
      "text/latex": [
       "$\\displaystyle \\left\\{ α_{1} : α_{t}, \\  α_{2} : a^{*}\\right\\}$"
      ],
      "text/plain": [
       "{α₁: αₜ, α₂: a__*}"
      ]
     },
     "execution_count": 307,
     "metadata": {},
     "output_type": "execute_result"
    }
   ],
   "source": [
    "subs_bif_α"
   ]
  },
  {
   "cell_type": "code",
   "execution_count": 316,
   "metadata": {},
   "outputs": [
    {
     "data": {
      "image/png": "[encoded data removed]",
      "text/latex": [
       "$\\displaystyle a^{*} + \\frac{2.0 t^{2} a{\\left(0 \\right)} s^{2}{\\left(0 \\right)}}{\\left(s{\\left(0 \\right)} + s{\\left(a^{*} \\right)}\\right)^{2}} + \\frac{2.0 t^{2} a{\\left(a^{*} \\right)} s^{2}{\\left(a^{*} \\right)}}{\\left(s{\\left(0 \\right)} + s{\\left(a^{*} \\right)}\\right)^{2}}$"
      ],
      "text/plain": [
       "            2       2           2          2      \n",
       "       2.0⋅t ⋅a(0)⋅s (0)   2.0⋅t ⋅a(a__*)⋅s (a__*)\n",
       "a__* + ───────────────── + ───────────────────────\n",
       "                       2                      2   \n",
       "       (s(0) + s(a__*))       (s(0) + s(a__*))    "
      ]
     },
     "execution_count": 316,
     "metadata": {},
     "output_type": "execute_result"
    }
   ],
   "source": [
    "model.energy_fc_alpha()         \\\n",
    "    .subs(_matpar)              \\\n",
    "    .subs(subs_bif_α)           \\\n",
    "    .subs({sp.symbols('α_t'): 0})      \\\n",
    "    .replace(_w, model.model.w)             \\\n",
    "    .replace(sp.Function('s'), atls.s)      \\\n",
    "    \n",
    "                                       "
   ]
  },
  {
   "cell_type": "code",
   "execution_count": 305,
   "metadata": {},
   "outputs": [
    {
     "data": {
      "image/png": "[encoded data removed]",
      "text/latex": [
       "$\\displaystyle a^{*} + \\frac{2.0 t^{2}}{\\left(1.0 + \\frac{1.0 \\left(a^{*} + 1\\right)}{1 - a^{*}}\\right)^{2}} + \\frac{2.0 t^{2} \\left(a^{*} + 1\\right)}{\\left(1 - a^{*}\\right) \\left(1.0 + \\frac{1.0 \\left(a^{*} + 1\\right)}{1 - a^{*}}\\right)^{2}}$"
      ],
      "text/plain": [
       "                     2                        2                    \n",
       "                2.0⋅t                    2.0⋅t ⋅(a__* + 1)         \n",
       "a__* + ─────────────────────── + ──────────────────────────────────\n",
       "                             2                                    2\n",
       "       ⎛      1.0⋅(a__* + 1)⎞               ⎛      1.0⋅(a__* + 1)⎞ \n",
       "       ⎜1.0 + ──────────────⎟    (1 - a__*)⋅⎜1.0 + ──────────────⎟ \n",
       "       ⎝         1 - a__*   ⎠               ⎝         1 - a__*   ⎠ "
      ]
     },
     "execution_count": 305,
     "metadata": {},
     "output_type": "execute_result"
    }
   ],
   "source": [
    "\n",
    "_en_alpha_bifurcations = model.energy_fc_alpha()        \\\n",
    "    .subs(subs_bif_α)                                  \\\n",
    "    .subs({sp.symbols('α_t'): 0})      \\\n",
    "    .replace(sp.Function('s'), atls.s)      \\\n",
    "    .replace(_a, model.model.a)             \\\n",
    "    .replace(_w, model.model.w)             \\\n",
    "    .subs(_matpar)                                     \n",
    "\n",
    "\n",
    "_en_alpha_bifurcations"
   ]
  },
  {
   "cell_type": "code",
   "execution_count": 306,
   "metadata": {},
   "outputs": [
    {
     "data": {
      "image/png": "[encoded data removed]",
      "text/latex": [
       "$\\displaystyle 1.0 - 1.0 t^{2}$"
      ],
      "text/plain": [
       "       2\n",
       "1.0 - t "
      ]
     },
     "execution_count": 306,
     "metadata": {},
     "output_type": "execute_result"
    }
   ],
   "source": [
    "sp.diff(_en_alpha_bifurcations, sp.symbols(\"a^*\")).simplify()"
   ]
  },
  {
   "cell_type": "code",
   "execution_count": 290,
   "metadata": {},
   "outputs": [],
   "source": [
    "# The energy of the bifurcated system\n",
    "\n",
    "_en_alpha_bifurcations = model.energy_fc_alpha()        \\\n",
    "    .subs(subs_bif_α).subs({sp.symbols('α_t'): 0})\n",
    "\n",
    "_en_alpha_bifurcations = _en_alpha_bifurcations  \\\n",
    "            .replace(_a, model.model.a)  \\\n",
    "            .replace(sp.Function('s'), atls.s)      \\\n",
    "            .replace(_w, model.model.w)        \\\n",
    "            .subs(_matpar).simplify()\n",
    "\n",
    "# sp.diff(_en_alpha_bifurcations, sp.symbols(\"a^*\"))"
   ]
  },
  {
   "cell_type": "code",
   "execution_count": null,
   "metadata": {},
   "outputs": [],
   "source": [
    "\n",
    "# The derivative of the energy in the direction of bifurcations, \n",
    "# computed for the model at hand, for the bifurcated solutions \n",
    "\n",
    "_en_bif_model_prime = sp.diff(_en_alpha_bifurcations, sp.symbols(\"a^*\")) \\\n",
    "            .replace(_a, model.model.a)  \\\n",
    "            .replace(_w, model.model.w).doit()\n"
   ]
  },
  {
   "cell_type": "code",
   "execution_count": null,
   "metadata": {},
   "outputs": [],
   "source": [
    "_en_alpha_bifurcations"
   ]
  },
  {
   "cell_type": "code",
   "execution_count": null,
   "metadata": {},
   "outputs": [],
   "source": [
    "_bif_crit = sp.diff(_en_alpha_bifurcations, sp.symbols(\"a^*\"))      \\\n",
    "    .replace(sp.Function('s'), atls.s)      \\\n",
    "    .replace(sp.Function('w'), atls.w)      \\\n",
    "    .replace(_a, model.model.a)             \\\n",
    "    .replace(_w, model.model.w)             \\\n",
    "    .subs(_matpar).simplify()\n",
    "\n",
    "_bif_crit"
   ]
  },
  {
   "cell_type": "code",
   "execution_count": null,
   "metadata": {},
   "outputs": [],
   "source": [
    "_bif_crit.factor(sp.symbols(\"a^*\")), "
   ]
  },
  {
   "cell_type": "code",
   "execution_count": null,
   "metadata": {},
   "outputs": [],
   "source": [
    "sp.solve(_bif_crit.factor(sp.symbols(\"a^*\")), sp.symbols(\"a^*\"))"
   ]
  },
  {
   "cell_type": "code",
   "execution_count": null,
   "metadata": {},
   "outputs": [],
   "source": []
  },
  {
   "cell_type": "markdown",
   "metadata": {},
   "source": [
    "## Sandbox\n"
   ]
  },
  {
   "cell_type": "code",
   "execution_count": 218,
   "metadata": {},
   "outputs": [
    {
     "ename": "NameError",
     "evalue": "name 'energy_fc_alpha' is not defined",
     "output_type": "error",
     "traceback": [
      "\u001b[0;31m---------------------------------------------------------------------------\u001b[0m",
      "\u001b[0;31mNameError\u001b[0m                                 Traceback (most recent call last)",
      "\u001b[1;32m/Users/kumiori/Documents/WIP/m4s-MEC647/mec647/playground/nb/discrete_bar-symbolic.ipynb Cell 86\u001b[0m in \u001b[0;36m<cell line: 10>\u001b[0;34m()\u001b[0m\n\u001b[1;32m     <a href='vscode-notebook-cell:/Users/kumiori/Documents/WIP/m4s-MEC647/mec647/playground/nb/discrete_bar-symbolic.ipynb#Y136sZmlsZQ%3D%3D?line=25'>26</a>\u001b[0m subs_homog_α, subs_homog_e \u001b[39m=\u001b[39m  model\u001b[39m.\u001b[39m_state_homog_substitutions(state, _matpar)\n\u001b[1;32m     <a href='vscode-notebook-cell:/Users/kumiori/Documents/WIP/m4s-MEC647/mec647/playground/nb/discrete_bar-symbolic.ipynb#Y136sZmlsZQ%3D%3D?line=27'>28</a>\u001b[0m \u001b[39m# print(subs_homog_α)\u001b[39;00m\n\u001b[0;32m---> <a href='vscode-notebook-cell:/Users/kumiori/Documents/WIP/m4s-MEC647/mec647/playground/nb/discrete_bar-symbolic.ipynb#Y136sZmlsZQ%3D%3D?line=28'>29</a>\u001b[0m \u001b[39mprint\u001b[39m(energy_fc_alpha(model))\n",
      "\u001b[0;31mNameError\u001b[0m: name 'energy_fc_alpha' is not defined"
     ]
    }
   ],
   "source": [
    "N = sp.symbols(\"N\")\n",
    "t = sp.symbols('t')\n",
    "γ = sp.symbols('γ')\n",
    "E0, L, w1, σc = sp.symbols('E0 L w1 σc')\n",
    "_α = sp.symbols(\"α\")\n",
    "β = sp.symbols('β')\n",
    "αt = sp.symbols('α_t')\n",
    "\n",
    "\n",
    "for _N in range(1, 4):\n",
    "\n",
    "# _N = 2\n",
    "\n",
    "    u = sp.symbols([f\"u{i}\" for i in range(0, _N)])\n",
    "    e = sp.symbols([f\"e{i}\" for i in range(1, _N+1)])\n",
    "    α = sp.symbols([f\"α{i}\" for i in range(1, _N+1)])\n",
    "\n",
    "    state = {\"u\": u, \"α\": α, \"e\": e}\n",
    "    _matpar = {N: _N, γ: 2, E0: 1, w1: 1, L: 1}\n",
    "    matpar = {\"N\": N, \"γ\": γ, \"E0\": E0, \"w1\": w1, \"L\": L}\n",
    "\n",
    "    atls = SymbolicDiscreteDamage(state, matpar)\n",
    "    model = ModelAnalysis(atls)\n",
    "    # print(model.criterion())\n",
    "\n",
    "    subs_homog_α, subs_homog_e =  model._state_homog_substitutions(state, _matpar)\n",
    "\n",
    "    # print(subs_homog_α)\n",
    "    print(energy_fc_alpha(model))\n"
   ]
  },
  {
   "cell_type": "code",
   "execution_count": null,
   "metadata": {},
   "outputs": [],
   "source": [
    "[i for i in range(1, 3)]"
   ]
  },
  {
   "cell_type": "code",
   "execution_count": null,
   "metadata": {},
   "outputs": [],
   "source": []
  }
 ],
 "metadata": {
  "kernelspec": {
   "display_name": "Python 3",
   "language": "python",
   "name": "python3"
  },
  "language_info": {
   "codemirror_mode": {
    "name": "ipython",
    "version": 3
   },
   "file_extension": ".py",
   "mimetype": "text/x-python",
   "name": "python",
   "nbconvert_exporter": "python",
   "pygments_lexer": "ipython3",
   "version": "3.9.13"
  },
  "orig_nbformat": 4
 },
 "nbformat": 4,
 "nbformat_minor": 2
}
