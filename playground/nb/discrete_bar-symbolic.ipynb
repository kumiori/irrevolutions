{
 "cells": [
  {
   "cell_type": "code",
   "execution_count": 14,
   "metadata": {},
   "outputs": [],
   "source": [
    "import sympy as sp\n",
    "import numpy as np\n",
    "import matplotlib.pyplot as plt\n",
    "import json\n",
    "import pandas as pd\n",
    "import os\n",
    "\n",
    "import yaml\n",
    "import hashlib"
   ]
  },
  {
   "cell_type": "code",
   "execution_count": 137,
   "metadata": {},
   "outputs": [],
   "source": [
    "class SymbolicDiscreteDamage:\n",
    "    def __init__(self, state, matpar, \n",
    "                 name = \"discrete generalised damage\",\n",
    "                 slug = \"general damage\"):\n",
    "        self.state = state\n",
    "        self.matpar = matpar\n",
    "        self.str = name\n",
    "        self.slug = slug\n",
    "\n",
    "    def _s(self, αi):\n",
    "        s = sp.Function('s')\n",
    "        # s = 1/self._a(αi)\n",
    "        return s(αi)\n",
    "\n",
    "    def _a(self, αi):\n",
    "        γ = self.matpar[\"γ\"]\n",
    "        a = sp.Function('a')\n",
    "        return a(αi)\n",
    "    \n",
    "    def energy(self, state):\n",
    "        \"\"\"Total energy\"\"\"\n",
    "        return self._elastic(state) + self._damage(state) - self.work(state)\n",
    "\n",
    "    def work(self, state):\n",
    "        return 0\n",
    "\n",
    "    def _elastic(self, state):\n",
    "        e = state[\"e\"]\n",
    "        _α = state[\"α\"]\n",
    "        # _w1 = matpar[\"w1\"]\n",
    "        _E0 = self.matpar[\"E0\"]\n",
    "        _N = self.matpar[\"N\"]\n",
    "    \n",
    "        return sum([1./2. * E0 * self._a(α[i]) * e[i]**2 for i in range(len(α))])\n",
    "\n",
    "    def _w(self, αi):\n",
    "        w = sp.Function('w')\n",
    "\n",
    "        return w(αi)\n",
    "\n",
    "    def _damage(self, state):\n",
    "        _α = state[\"α\"]\n",
    "        _w1 = self.matpar[\"w1\"]\n",
    "\n",
    "        _N = self.matpar[\"N\"]\n",
    "\n",
    "        return sum([_w1 * self._w(_α[i]) for i in range(len(_α))]) \n",
    "        # return _w1 * self._w(_α)\n",
    "\n",
    "\n",
    "    # Explicit expressions\n",
    "    def w(self, αi):\n",
    "        return αi\n",
    "\n",
    "    def a(self, αi):\n",
    "        γ = self.matpar[\"γ\"]\n",
    "\n",
    "        return (1 - self._w(αi)) / ((γ-1) * self._w(αi) + 1)\n",
    "\n",
    "    def s(self, αi):\n",
    "\n",
    "        return 1. / self.a(αi)\n",
    "\n",
    "\n",
    "    def __str__(self):\n",
    "     return self.str\n"
   ]
  },
  {
   "cell_type": "code",
   "execution_count": 109,
   "metadata": {},
   "outputs": [],
   "source": [
    "class ModelAnalysis:\n",
    "    \"\"\"Helper class to analyse (stability) properties of a model\"\"\"\n",
    "\n",
    "    def __init__(self, model):\n",
    "        self.model = model\n",
    "        self.state = model.state\n",
    "        _state = self.state\n",
    "        self.matpar = model.matpar\n",
    "\n",
    "        _β = sp.symbols('β')\n",
    "        _e = sp.symbols('e')\n",
    "        self._β = _β\n",
    "        self._e = _e\n",
    "        \n",
    "        self._s = model._s(_β)\n",
    "        self._sp = sp.diff(self._s, _β, 1)\n",
    "        self._spp = sp.diff(self._s, _β, 2)\n",
    "\n",
    "        self._a = model._a(_β)\n",
    "        self._ap = sp.diff(self._a, _β, 1)\n",
    "        self._app = sp.diff(self._a, _β, 2)\n",
    "\n",
    "        self._w = model._w(_β)\n",
    "        self._wp = sp.diff(self._w, _β)\n",
    "        self._wpp = sp.diff(self._w, _β, 2)\n",
    "\n",
    "        self.criterion()\n",
    "\n",
    "\n",
    "    def criterion(self):\n",
    "        \"\"\"Damage onset\"\"\"\n",
    "        model, state = self.model, self.state\n",
    "        x = sp.symbols('x')\n",
    "        t, L, N =  sp.symbols('t L N')\n",
    "\n",
    "        β = self._β\n",
    "        e = self._e\n",
    "\n",
    "        _u0 = t*x/L\n",
    "        _e0 = t/L\n",
    "        _alpha0 = 0\n",
    "\n",
    "        _homogeneous_damage = {a: β for a in state[\"α\"]}\n",
    "        _homogeneous_strain = {ε: e for ε in state[\"e\"]}\n",
    "        _sound = {a: 0 for a in state[\"α\"]}\n",
    "\n",
    "        _crit = sp.diff(\n",
    "            model.energy(state)                 \\\n",
    "                .subs(_homogeneous_damage)      \\\n",
    "                .subs(_homogeneous_strain), β)  \\\n",
    "                .subs({e: _e0, β: _alpha0})    \n",
    "\n",
    "        self.crit = 1/N * _crit\n",
    "\n",
    "        return self.crit\n",
    "\n",
    "    def critical_load(self, matpar = {}):\n",
    "        \"\"\"Critical load\"\"\"\n",
    "        _a = sp.Function('a')\n",
    "        _w = sp.Function('w')\n",
    "        t = sp.symbols('t')\n",
    "\n",
    "        criterion = self.crit           \\\n",
    "            .replace(_a, self.model.a)  \\\n",
    "            .replace(_w, self.model.w)\n",
    "\n",
    "        tc = sp.solve(criterion, t)\n",
    "        \n",
    "        if matpar:\n",
    "            tc = [_tc.subs(matpar) for _tc in tc if _tc.subs(matpar).is_positive]\n",
    "        \n",
    "        return tc, criterion\n",
    "\n",
    "\n",
    "    def _equilirbrium_e(self):\n",
    "        state = self.state\n",
    "        t, L, N =  sp.symbols('t L N')\n",
    "        _S = sum([self.model._s(αi) for αi in state[\"α\"]])\n",
    "\n",
    "        _e = [(N*t/L * self.model._s(αi) / _S).simplify() \\\n",
    "                    for αi in state[\"α\"]]\n",
    "\n",
    "        return _e\n",
    "    \n",
    "    def energy_fc_alpha(self):\n",
    "        _ei = self._equilirbrium_e()\n",
    "        state = self.state\n",
    "        equilibrium_subs = {v[0]: v[1] for v in zip(state[\"e\"], _ei)}\n",
    "        \n",
    "        return self.model.energy(state).subs(equilibrium_subs)\n",
    "\n",
    "\n",
    "    def _state_split(self, m, state, matpar):\n",
    "        \"\"\"Split the state into homogeneous and bifurcated parts\"\"\"\n",
    "\n",
    "        assert m < matpar[N]\n",
    "\n",
    "        _bif_α = [state[\"α\"][k+1] for k in range(m)]\n",
    "        _bif_e = [state[\"e\"][k+1] for k in range(m)]\n",
    "\n",
    "        _homo_α = set(state[\"α\"]) - set(_bif_α)\n",
    "        _homo_e = set(state[\"e\"]) - set(_bif_e)\n",
    "\n",
    "        return _bif_α, _homo_α, _bif_e, _homo_e\n",
    "\n",
    "    def _state_homog_substitutions(self, state, matpar):\n",
    "        \"\"\"Substitutions for the homogeneous state\"\"\"\n",
    "        αt = sp.symbols('α_t')\n",
    "        et = sp.symbols('e_t')\n",
    "\n",
    "        _subs_αh = {a: αt for a in state[\"α\"]}\n",
    "        _subs_eh = {e: et for e in state[\"e\"]}\n",
    "\n",
    "        return _subs_αh, _subs_eh\n",
    "\n",
    "\n",
    "    def _state_bifurcation_substitutions(self, m, state, matpar):\n",
    "        \"\"\"Computes substitutions for bifurcated states\"\"\"\n",
    "\n",
    "        assert m < matpar[N]\n",
    "        _bif, _homo, _bif_e, _homo_e = self._state_split(m, state, matpar)\n",
    "        _αb = sp.symbols(\"a^*\")\n",
    "        _eb = sp.symbols(\"e^*\")\n",
    "        αt = sp.symbols('α_t')\n",
    "        et = sp.symbols('e_t')\n",
    "\n",
    "        _subs_αb = {a: _αb for a in _bif}\n",
    "        _subs_eb = {e: _eb for e in _bif_e}\n",
    "\n",
    "        _subs_αt = {a: αt for a in _homo}\n",
    "        _subs_et = {e: et for e in _homo_e}\n",
    "\n",
    "        return {**_subs_αb, **_subs_αt}, {**_subs_eb, **_subs_et}\n",
    "\n",
    "\n",
    "    def homogeneous_α(self, state, matpar = {}):\n",
    "        \"\"\"Solves the (homogeneous) evolution law for damage\"\"\"\n",
    "        αt = sp.symbols('α_t')\n",
    "        state = self.state\n",
    "        \n",
    "        if matpar:\n",
    "            return [sol.subs(matpar) for sol in \\\n",
    "                    list(map(sp.simplify, sp.solve(self.evo_α(state, matpar), αt)))]\n",
    "        else:\n",
    "            return list(map(sp.simplify, sp.solve(self.evo_α(state), αt)))\n",
    "\n",
    "    def homogeneous_damage(self, state, matpar= {}):\n",
    "        idx = self.positive_solution_wrt_t(matpar)[0]\n",
    "        _alpha = self.homogeneous_α(matpar)[idx].subs(matpar)\n",
    "        tc = model.critical_load(matpar)[0][0]\n",
    "        t = sp.symbols('t')\n",
    "\n",
    "        # tc = self.critical_load(matpar)\n",
    "        alpha = sp.Piecewise(\n",
    "            (_alpha, t >= tc),\n",
    "            (0, t < tc)\n",
    "        )\n",
    "\n",
    "        return alpha\n",
    "    #     stress_alpha = sp.Piecewise(\n",
    "        # (sp.sqrt(2 * self._wp / self._sp).subs({α: _ah}), t >= _tc),\n",
    "        # (sp.diff(_u0, x).subs(_matpar), t < _tc))\n",
    "\n",
    "    def evo_α(self, state, matpar = {}):\n",
    "        \"\"\"Evolution law for damage\"\"\"\n",
    "        αt = sp.symbols('α_t')\n",
    "        _a = sp.Function('a')\n",
    "        _w = sp.Function('w')\n",
    "\n",
    "        subs_homog_α, _ =  self._state_homog_substitutions(state, matpar)\n",
    "\n",
    "        return sp.diff(self.energy_fc_alpha().subs(subs_homog_α), αt)                   \\\n",
    "            .replace(_a, self.model.a)                  \\\n",
    "            .replace(_w, self.model.w)                  \\\n",
    "            .doit().simplify()\n",
    "\n",
    "    def positive_solution_wrt_t(self, _matpar = {}):\n",
    "        idx = np.where(np.array([sp.diff(eq, sp.symbols('t')).subs(_matpar) for eq in self.homogeneous_α(_matpar)]) > 0)[0]\n",
    "        return idx"
   ]
  },
  {
   "cell_type": "code",
   "execution_count": 138,
   "metadata": {},
   "outputs": [
    {
     "data": {
      "text/latex": [
       "$\\displaystyle \\frac{\\frac{1.0 E_{0} t^{2} \\left. \\frac{d}{d β} a{\\left(β \\right)} \\right|_{\\substack{ β=0 }}}{L^{2}} + 2 w_{1} \\left. \\frac{d}{d β} w{\\left(β \\right)} \\right|_{\\substack{ β=0 }}}{N}$"
      ],
      "text/plain": [
       "(1.0*E0*t**2*Subs(Derivative(a(β), β), β, 0)/L**2 + 2*w1*Subs(Derivative(w(β), β), β, 0))/N"
      ]
     },
     "execution_count": 138,
     "metadata": {},
     "output_type": "execute_result"
    }
   ],
   "source": [
    "N = sp.symbols(\"N\")\n",
    "t = sp.symbols('t')\n",
    "_a = sp.Function('a')\n",
    "_w = sp.Function('w')\n",
    "\n",
    "_N = 2\n",
    "\n",
    "γ = sp.symbols('γ')\n",
    "E0, L, w1, σc = sp.symbols('E0 L w1 σc')\n",
    "\n",
    "u = sp.symbols([f\"u{i}\" for i in range(0, _N)])\n",
    "e = sp.symbols([f\"e{i}\" for i in range(1, _N+1)])\n",
    "α = sp.symbols([f\"α{i}\" for i in range(1, _N+1)])\n",
    "_α = sp.symbols(\"α\")\n",
    "\n",
    "\n",
    "\n",
    "β = sp.symbols('β')\n",
    "\n",
    "state = {\"u\": u, \"α\": α, \"e\": e}\n",
    "_matpar = {N: _N, γ: 2, E0: 1, w1: 1, L: 1}\n",
    "matpar = {\"N\": N, \"γ\": γ, \"E0\": E0, \"w1\": w1, \"L\": L}\n",
    "\n",
    "atls = SymbolicDiscreteDamage(state, matpar)\n",
    "\n",
    "model = ModelAnalysis(atls)\n",
    "model.criterion()\n"
   ]
  },
  {
   "cell_type": "code",
   "execution_count": 139,
   "metadata": {},
   "outputs": [
    {
     "data": {
      "text/latex": [
       "$\\displaystyle - \\frac{1.0 E_{0} t^{2} γ}{L^{2} N} + \\frac{2 w_{1}}{N}$"
      ],
      "text/plain": [
       "-1.0*E0*t**2*γ/(L**2*N) + 2*w1/N"
      ]
     },
     "execution_count": 139,
     "metadata": {},
     "output_type": "execute_result"
    }
   ],
   "source": [
    "(ModelAnalysis(atls).criterion()  \\\n",
    "    .replace(_a, model.model.a )    \\\n",
    "    .replace(_w, model.model.w).doit()).simplify()"
   ]
  },
  {
   "cell_type": "code",
   "execution_count": 140,
   "metadata": {},
   "outputs": [
    {
     "data": {
      "text/plain": [
       "[0.707106781186548*sqrt(2)]"
      ]
     },
     "execution_count": 140,
     "metadata": {},
     "output_type": "execute_result"
    }
   ],
   "source": [
    "tc, criterion = model.critical_load(_matpar)\n",
    "tc"
   ]
  },
  {
   "cell_type": "code",
   "execution_count": 141,
   "metadata": {},
   "outputs": [
    {
     "data": {
      "text/plain": [
       "({α1: α_t, α2: α_t}, {e1: e_t, e2: e_t})"
      ]
     },
     "execution_count": 141,
     "metadata": {},
     "output_type": "execute_result"
    }
   ],
   "source": [
    "model._state_homog_substitutions(state, matpar)"
   ]
  },
  {
   "cell_type": "code",
   "execution_count": 142,
   "metadata": {},
   "outputs": [
    {
     "data": {
      "text/plain": [
       "[N*t*s(α1)/(L*(s(α1) + s(α2))), N*t*s(α2)/(L*(s(α1) + s(α2)))]"
      ]
     },
     "execution_count": 142,
     "metadata": {},
     "output_type": "execute_result"
    }
   ],
   "source": [
    "model._equilirbrium_e()"
   ]
  },
  {
   "cell_type": "code",
   "execution_count": 143,
   "metadata": {},
   "outputs": [
    {
     "data": {
      "text/latex": [
       "$\\displaystyle \\frac{0.5 E_{0} N^{2} t^{2} a{\\left(α_{1} \\right)} s^{2}{\\left(α_{1} \\right)}}{L^{2} \\left(s{\\left(α_{1} \\right)} + s{\\left(α_{2} \\right)}\\right)^{2}} + \\frac{0.5 E_{0} N^{2} t^{2} a{\\left(α_{2} \\right)} s^{2}{\\left(α_{2} \\right)}}{L^{2} \\left(s{\\left(α_{1} \\right)} + s{\\left(α_{2} \\right)}\\right)^{2}} + w_{1} w{\\left(α_{1} \\right)} + w_{1} w{\\left(α_{2} \\right)}$"
      ],
      "text/plain": [
       "0.5*E0*N**2*t**2*a(α1)*s(α1)**2/(L**2*(s(α1) + s(α2))**2) + 0.5*E0*N**2*t**2*a(α2)*s(α2)**2/(L**2*(s(α1) + s(α2))**2) + w1*w(α1) + w1*w(α2)"
      ]
     },
     "execution_count": 143,
     "metadata": {},
     "output_type": "execute_result"
    }
   ],
   "source": [
    "model.energy_fc_alpha()"
   ]
  },
  {
   "cell_type": "code",
   "execution_count": 144,
   "metadata": {},
   "outputs": [
    {
     "data": {
      "text/plain": [
       "{α1: α_t, α2: α_t}"
      ]
     },
     "execution_count": 144,
     "metadata": {},
     "output_type": "execute_result"
    }
   ],
   "source": [
    "subs_homog_α, _ =  model._state_homog_substitutions(state, matpar)\n",
    "subs_homog_α"
   ]
  },
  {
   "cell_type": "code",
   "execution_count": 145,
   "metadata": {},
   "outputs": [
    {
     "data": {
      "text/latex": [
       "$\\displaystyle \\frac{0.25 E_{0} N^{2} t^{2} a{\\left(α_{t} \\right)}}{L^{2}} + 2 w_{1} w{\\left(α_{t} \\right)}$"
      ],
      "text/plain": [
       "0.25*E0*N**2*t**2*a(α_t)/L**2 + 2*w1*w(α_t)"
      ]
     },
     "execution_count": 145,
     "metadata": {},
     "output_type": "execute_result"
    }
   ],
   "source": [
    "model.energy_fc_alpha().subs(subs_homog_α)"
   ]
  },
  {
   "cell_type": "code",
   "execution_count": 146,
   "metadata": {},
   "outputs": [
    {
     "data": {
      "text/latex": [
       "$\\displaystyle 0.5 t^{2} a{\\left(α_{t} \\right)} + w{\\left(α_{t} \\right)}$"
      ],
      "text/plain": [
       "0.5*t**2*a(α_t) + w(α_t)"
      ]
     },
     "execution_count": 146,
     "metadata": {},
     "output_type": "execute_result"
    }
   ],
   "source": [
    "(model.energy_fc_alpha().subs(subs_homog_α)/_N).subs(_matpar)"
   ]
  },
  {
   "cell_type": "code",
   "execution_count": 147,
   "metadata": {},
   "outputs": [],
   "source": [
    "_a = sp.Function('a')\n",
    "_w = sp.Function('w')\n",
    "_s = sp.Function('s')\n"
   ]
  },
  {
   "cell_type": "code",
   "execution_count": 148,
   "metadata": {},
   "outputs": [],
   "source": [
    "_s = 1/_a(_α)"
   ]
  },
  {
   "cell_type": "code",
   "execution_count": 149,
   "metadata": {},
   "outputs": [
    {
     "data": {
      "text/latex": [
       "$\\displaystyle \\frac{1}{a{\\left(α \\right)}}$"
      ],
      "text/plain": [
       "1/a(α)"
      ]
     },
     "execution_count": 149,
     "metadata": {},
     "output_type": "execute_result"
    }
   ],
   "source": [
    "_s"
   ]
  },
  {
   "cell_type": "markdown",
   "metadata": {},
   "source": [
    "$$\n",
    "\\begin{aligned}\n",
    "\\mathcal E_N (e, \\alpha) &=  E_0\\sum_{i=0}^N \\frac{1}{2}    a(\\alpha_i)  e_i^2  + \\sum_{i=0}^N {w_1}w(\\alpha_i) \\\\\n",
    "\\tilde {\\mathcal E}_N (u, \\alpha) &=  E_0 N\\sum_{i=0}^N \\frac{1}{2}  a(\\alpha_i)  (u_i-u_{i-1})^2  + \\frac{w_1}{N} \\sum_{i=0}^N w(\\alpha_i) \n",
    "\\end{aligned}\n",
    "$$"
   ]
  },
  {
   "cell_type": "code",
   "execution_count": 150,
   "metadata": {},
   "outputs": [
    {
     "data": {
      "text/plain": [
       "(s(α1), 1.0*((γ - 1)*w(α1) + 1)/(1 - w(α1)))"
      ]
     },
     "execution_count": 150,
     "metadata": {},
     "output_type": "execute_result"
    }
   ],
   "source": [
    "# Keeping track of both symboilic and explicit expressions\n",
    "\n",
    "atls._s(α[0]), atls.s(α[0])"
   ]
  },
  {
   "cell_type": "code",
   "execution_count": 151,
   "metadata": {},
   "outputs": [
    {
     "data": {
      "text/latex": [
       "$\\displaystyle 0.5 E_{0} e_{1}^{2} a{\\left(α_{1} \\right)} + 0.5 E_{0} e_{2}^{2} a{\\left(α_{2} \\right)} + w_{1} w{\\left(α_{1} \\right)} + w_{1} w{\\left(α_{2} \\right)}$"
      ],
      "text/plain": [
       "0.5*E0*e1**2*a(α1) + 0.5*E0*e2**2*a(α2) + w1*w(α1) + w1*w(α2)"
      ]
     },
     "execution_count": 151,
     "metadata": {},
     "output_type": "execute_result"
    }
   ],
   "source": [
    "atls.energy(state)"
   ]
  },
  {
   "cell_type": "code",
   "execution_count": 152,
   "metadata": {},
   "outputs": [
    {
     "data": {
      "text/latex": [
       "$\\displaystyle 0.5 E_{0} e_{1}^{2} a{\\left(α_{1} \\right)} + 0.5 E_{0} e_{2}^{2} a{\\left(α_{2} \\right)} + w_{1} w{\\left(α_{1} \\right)} + w_{1} w{\\left(α_{2} \\right)}$"
      ],
      "text/plain": [
       "0.5*E0*e1**2*a(α1) + 0.5*E0*e2**2*a(α2) + w1*w(α1) + w1*w(α2)"
      ]
     },
     "execution_count": 152,
     "metadata": {},
     "output_type": "execute_result"
    }
   ],
   "source": [
    "model.model.energy(state)\n",
    "\n",
    "# _homogeneous_damage = {a: β for a in state[\"α\"]}\n",
    "# _homogeneous_strain = {e: model._e for e in state[\"e\"]}\n",
    "# _homogeneous_damage, _homogeneous_strain\n"
   ]
  },
  {
   "cell_type": "code",
   "execution_count": 153,
   "metadata": {},
   "outputs": [
    {
     "data": {
      "text/latex": [
       "$\\displaystyle - γ$"
      ],
      "text/plain": [
       "-γ"
      ]
     },
     "execution_count": 153,
     "metadata": {},
     "output_type": "execute_result"
    }
   ],
   "source": [
    "sp.diff(model.model.a(_α)       \\\n",
    "        .replace(_w, model.model.w), \n",
    "    _α)                         \\\n",
    "        .subs({_α: 0}).doit()"
   ]
  },
  {
   "cell_type": "code",
   "execution_count": 154,
   "metadata": {},
   "outputs": [],
   "source": [
    "_homogeneous = {a: β for a in state[\"α\"]}\n",
    "_sound = {a: 0 for a in state[\"α\"]}"
   ]
  },
  {
   "cell_type": "code",
   "execution_count": 155,
   "metadata": {},
   "outputs": [
    {
     "data": {
      "text/plain": [
       "({α1: 0, α2: 0}, {α1: β, α2: β})"
      ]
     },
     "execution_count": 155,
     "metadata": {},
     "output_type": "execute_result"
    }
   ],
   "source": [
    "_sound, _homogeneous"
   ]
  },
  {
   "cell_type": "code",
   "execution_count": 156,
   "metadata": {},
   "outputs": [
    {
     "data": {
      "text/latex": [
       "$\\displaystyle 0.5 E_{0} e_{1}^{2} \\frac{d}{d β} a{\\left(β \\right)} + 0.5 E_{0} e_{2}^{2} \\frac{d}{d β} a{\\left(β \\right)} + 2 w_{1} \\frac{d}{d β} w{\\left(β \\right)}$"
      ],
      "text/plain": [
       "0.5*E0*e1**2*Derivative(a(β), β) + 0.5*E0*e2**2*Derivative(a(β), β) + 2*w1*Derivative(w(β), β)"
      ]
     },
     "execution_count": 156,
     "metadata": {},
     "output_type": "execute_result"
    }
   ],
   "source": [
    "sp.diff(atls.energy(state).subs(_homogeneous), β).simplify()"
   ]
  },
  {
   "cell_type": "markdown",
   "metadata": {},
   "source": [
    "## Model Analysis\n",
    "\n",
    "- (constitutive assumptions)\n",
    "- equilibrium\n",
    "- homogeneous solution\n",
    "- homogeneous energy\n",
    "- bifurcations\n",
    "- stability"
   ]
  },
  {
   "cell_type": "code",
   "execution_count": 157,
   "metadata": {},
   "outputs": [
    {
     "data": {
      "text/latex": [
       "$\\displaystyle 0.5 t^{2} \\left. \\frac{d}{d β} a{\\left(β \\right)} \\right|_{\\substack{ β=0 }} + \\left. \\frac{d}{d β} w{\\left(β \\right)} \\right|_{\\substack{ β=0 }}$"
      ],
      "text/plain": [
       "0.5*t**2*Subs(Derivative(a(β), β), β, 0) + Subs(Derivative(w(β), β), β, 0)"
      ]
     },
     "execution_count": 157,
     "metadata": {},
     "output_type": "execute_result"
    }
   ],
   "source": [
    "atls = SymbolicDiscreteDamage(state, matpar)\n",
    "model = ModelAnalysis(atls)\n",
    "(model.criterion()).subs(_matpar)"
   ]
  },
  {
   "cell_type": "markdown",
   "metadata": {},
   "source": [
    "### homogeneous solution"
   ]
  },
  {
   "cell_type": "code",
   "execution_count": 158,
   "metadata": {},
   "outputs": [
    {
     "data": {
      "text/plain": [
       "{e1: N*t*s(α1)/(L*(s(α1) + s(α2))), e2: N*t*s(α2)/(L*(s(α1) + s(α2)))}"
      ]
     },
     "execution_count": 158,
     "metadata": {},
     "output_type": "execute_result"
    }
   ],
   "source": [
    "_ei = model._equilirbrium_e()\n",
    "# state = model.state\n",
    "equilibrium_subs = {v[0]: v[1] for v in zip(state[\"e\"], _ei)}\n",
    "# \n",
    "# return self.model.energy(state).subs(equilibrium_subs)\n",
    "# _ei, state, \n",
    "equilibrium_subs"
   ]
  },
  {
   "cell_type": "code",
   "execution_count": 159,
   "metadata": {},
   "outputs": [
    {
     "data": {
      "text/latex": [
       "$\\displaystyle \\frac{0.5 E_{0} N^{2} t^{2} a{\\left(α_{1} \\right)} s^{2}{\\left(α_{1} \\right)}}{L^{2} \\left(s{\\left(α_{1} \\right)} + s{\\left(α_{2} \\right)}\\right)^{2}} + \\frac{0.5 E_{0} N^{2} t^{2} a{\\left(α_{2} \\right)} s^{2}{\\left(α_{2} \\right)}}{L^{2} \\left(s{\\left(α_{1} \\right)} + s{\\left(α_{2} \\right)}\\right)^{2}} + w_{1} w{\\left(α_{1} \\right)} + w_{1} w{\\left(α_{2} \\right)}$"
      ],
      "text/plain": [
       "0.5*E0*N**2*t**2*a(α1)*s(α1)**2/(L**2*(s(α1) + s(α2))**2) + 0.5*E0*N**2*t**2*a(α2)*s(α2)**2/(L**2*(s(α1) + s(α2))**2) + w1*w(α1) + w1*w(α2)"
      ]
     },
     "execution_count": 159,
     "metadata": {},
     "output_type": "execute_result"
    }
   ],
   "source": [
    "model.energy_fc_alpha() \n",
    "# \\\n",
    "# .subs(subs_homog_α)"
   ]
  },
  {
   "cell_type": "code",
   "execution_count": 160,
   "metadata": {},
   "outputs": [],
   "source": [
    "idx = model.positive_solution_wrt_t(_matpar)[0]"
   ]
  },
  {
   "cell_type": "code",
   "execution_count": 161,
   "metadata": {},
   "outputs": [
    {
     "data": {
      "text/latex": [
       "$\\displaystyle 0.707106781186548 \\sqrt{2} t - 1.0$"
      ],
      "text/plain": [
       "0.707106781186548*sqrt(2)*t - 1.0"
      ]
     },
     "execution_count": 161,
     "metadata": {},
     "output_type": "execute_result"
    }
   ],
   "source": [
    "sp.simplify(model.homogeneous_α(_matpar)[idx]).subs(_matpar)"
   ]
  },
  {
   "cell_type": "markdown",
   "metadata": {},
   "source": [
    "### Plots of homogeneous response"
   ]
  },
  {
   "cell_type": "code",
   "execution_count": 162,
   "metadata": {},
   "outputs": [
    {
     "data": {
      "text/plain": [
       "({α1: α_t, α2: α_t}, {e1: e_t, e2: e_t})"
      ]
     },
     "execution_count": 162,
     "metadata": {},
     "output_type": "execute_result"
    }
   ],
   "source": [
    "subs_homog_α, subs_homog_e =  model._state_homog_substitutions(state, _matpar)\n",
    "\n",
    "# Substitutions to compute homogeneous solutions\n",
    "subs_homog_α, subs_homog_e"
   ]
  },
  {
   "cell_type": "code",
   "execution_count": 163,
   "metadata": {},
   "outputs": [
    {
     "data": {
      "text/latex": [
       "$\\displaystyle 0.707106781186548 \\sqrt{2} t - 1.0$"
      ],
      "text/plain": [
       "0.707106781186548*sqrt(2)*t - 1.0"
      ]
     },
     "execution_count": 163,
     "metadata": {},
     "output_type": "execute_result"
    }
   ],
   "source": [
    "evos = [evo.subs(_matpar) for evo in model.homogeneous_α(_matpar)]\n",
    "evos[idx].subs(_matpar)"
   ]
  },
  {
   "cell_type": "code",
   "execution_count": 164,
   "metadata": {},
   "outputs": [
    {
     "data": {
      "text/plain": [
       "<matplotlib.lines.Line2D at 0x13b123190>"
      ]
     },
     "execution_count": 164,
     "metadata": {},
     "output_type": "execute_result"
    },
    {
     "data": {
      "image/png": "[encoded data removed]",
      "text/plain": [
       "<Figure size 432x288 with 1 Axes>"
      ]
     },
     "metadata": {
      "needs_background": "light"
     },
     "output_type": "display_data"
    }
   ],
   "source": [
    "evos = [evo.subs(_matpar) for evo in model.homogeneous_α(_matpar)]\n",
    "_loads = np.linspace(0., float(γ.subs(_matpar)), 30)\n",
    "evo_x = evos[idx].subs(_matpar)\n",
    "for alphas in evos:\n",
    "    _f = sp.lambdify(t, alphas.subs(_matpar), 'numpy')\n",
    "    plt.plot(_loads, _f(_loads), c='k')\n",
    "\n",
    "_f = sp.lambdify(t, evo_x, 'numpy')\n",
    "plt.plot(_loads, _f(_loads), c='k', lw=3)\n",
    "\n",
    "\n",
    "plt.axhline(0, c='k')"
   ]
  },
  {
   "cell_type": "code",
   "execution_count": 166,
   "metadata": {},
   "outputs": [
    {
     "data": {
      "text/plain": [
       "<matplotlib.lines.Line2D at 0x13b447e20>"
      ]
     },
     "execution_count": 166,
     "metadata": {},
     "output_type": "execute_result"
    },
    {
     "data": {
      "image/png": "[encoded data removed]",
      "text/plain": [
       "<Figure size 432x288 with 1 Axes>"
      ]
     },
     "metadata": {
      "needs_background": "light"
     },
     "output_type": "display_data"
    }
   ],
   "source": [
    "alpha = model.homogeneous_damage(state, _matpar)\n",
    "\n",
    "_f = sp.lambdify(t, alpha.subs(_matpar), 'numpy')\n",
    "plt.plot(_loads, _f(_loads), c='k', lw=3)\n",
    "\n",
    "plt.axhline(0, c='k')"
   ]
  },
  {
   "cell_type": "code",
   "execution_count": 169,
   "metadata": {},
   "outputs": [
    {
     "data": {
      "text/plain": [
       "Text(0.5, 0, 't')"
      ]
     },
     "execution_count": 169,
     "metadata": {},
     "output_type": "execute_result"
    },
    {
     "data": {
      "image/png": "[encoded data removed]",
      "text/plain": [
       "<Figure size 432x288 with 1 Axes>"
      ]
     },
     "metadata": {
      "needs_background": "light"
     },
     "output_type": "display_data"
    }
   ],
   "source": [
    "_en = model.energy_fc_alpha().subs(_homogeneous).subs(_matpar) \\\n",
    "            .replace(_a, model.model.a) \\\n",
    "            .replace(sp.Function('s'), atls.s)      \\\n",
    "            .replace(_w, model.model.w)  \\\n",
    "            .subs(_matpar)          \\\n",
    "    .subs({sp.symbols('β'): alpha})\n",
    "\n",
    "_energy_damage = model.model._damage(state).subs(_homogeneous).subs(_matpar) \\\n",
    "            .replace(_w, model.model.w)  \\\n",
    "            .subs({sp.symbols('β'): alpha})\n",
    "\n",
    "_f = sp.lambdify(t, _en.subs(_matpar), 'numpy')\n",
    "_f1 = sp.lambdify(t, _energy_damage, 'numpy')\n",
    "plt.plot(_loads, _f(_loads), c='k', label='total', lw=3)\n",
    "plt.plot(_loads, _f1(_loads), c='k', label='damage')\n",
    "plt.plot(_loads, _f(_loads)-_f1(_loads), c='k', label='elastic')\n",
    "\n",
    "plt.legend()\n",
    "plt.ylabel('Energy')\n",
    "plt.xlabel('t')"
   ]
  },
  {
   "cell_type": "markdown",
   "metadata": {},
   "source": [
    "### Bifurcations\n",
    "\n",
    "Compute bifurcated solutions with $m$ damaging springs out of the available $N$, with $m<N$"
   ]
  },
  {
   "cell_type": "code",
   "execution_count": 254,
   "metadata": {},
   "outputs": [
    {
     "data": {
      "text/latex": [
       "$\\displaystyle 0.5 t^{2} \\left. \\frac{d}{d β} a{\\left(β \\right)} \\right|_{\\substack{ β=0 }} + \\left. \\frac{d}{d β} w{\\left(β \\right)} \\right|_{\\substack{ β=0 }}$"
      ],
      "text/plain": [
       "0.5*t**2*Subs(Derivative(a(β), β), β, 0) + Subs(Derivative(w(β), β), β, 0)"
      ]
     },
     "execution_count": 254,
     "metadata": {},
     "output_type": "execute_result"
    }
   ],
   "source": [
    "atls = SymbolicDiscreteDamage(state, matpar)\n",
    "model = ModelAnalysis(atls)\n",
    "model.criterion().subs(_matpar)"
   ]
  },
  {
   "cell_type": "code",
   "execution_count": 255,
   "metadata": {},
   "outputs": [],
   "source": [
    "# we bifurcate m springs\n",
    "\n",
    "m = 1\n",
    "\n",
    "assert m < _matpar[N]"
   ]
  },
  {
   "cell_type": "code",
   "execution_count": 256,
   "metadata": {},
   "outputs": [
    {
     "name": "stdout",
     "output_type": "stream",
     "text": [
      "set of bifurcated springs [α2]\n",
      "set of homogeneous springs {α1, α3}\n"
     ]
    }
   ],
   "source": [
    "bif_α, homo_α, bif_e, homo_e = model._state_split(m, state, _matpar)\n",
    "print(f'set of bifurcated springs {bif_α}')\n",
    "print(f'set of homogeneous springs {homo_α}')"
   ]
  },
  {
   "cell_type": "code",
   "execution_count": 257,
   "metadata": {},
   "outputs": [],
   "source": [
    "subs_bif_α, subs_bif_e =  model._state_bifurcation_substitutions(m, state, _matpar)"
   ]
  },
  {
   "cell_type": "code",
   "execution_count": 258,
   "metadata": {},
   "outputs": [
    {
     "data": {
      "text/plain": [
       "{α2: a^*, α1: α_t, α3: α_t}"
      ]
     },
     "execution_count": 258,
     "metadata": {},
     "output_type": "execute_result"
    }
   ],
   "source": [
    "# substitutions for damage \n",
    "subs_bif_α"
   ]
  },
  {
   "cell_type": "code",
   "execution_count": 259,
   "metadata": {},
   "outputs": [
    {
     "data": {
      "text/plain": [
       "{e2: e^*, e3: e_t, e1: e_t}"
      ]
     },
     "execution_count": 259,
     "metadata": {},
     "output_type": "execute_result"
    }
   ],
   "source": [
    "# substitutions for strain\n",
    "\n",
    "subs_bif_e"
   ]
  },
  {
   "cell_type": "code",
   "execution_count": 260,
   "metadata": {},
   "outputs": [
    {
     "data": {
      "text/latex": [
       "$\\displaystyle \\frac{0.5 E_{0} N^{2} t^{2} a{\\left(α_{1} \\right)} s^{2}{\\left(α_{1} \\right)}}{L^{2} \\left(s{\\left(α_{1} \\right)} + s{\\left(α_{2} \\right)} + s{\\left(α_{3} \\right)}\\right)^{2}} + \\frac{0.5 E_{0} N^{2} t^{2} a{\\left(α_{2} \\right)} s^{2}{\\left(α_{2} \\right)}}{L^{2} \\left(s{\\left(α_{1} \\right)} + s{\\left(α_{2} \\right)} + s{\\left(α_{3} \\right)}\\right)^{2}} + \\frac{0.5 E_{0} N^{2} t^{2} a{\\left(α_{3} \\right)} s^{2}{\\left(α_{3} \\right)}}{L^{2} \\left(s{\\left(α_{1} \\right)} + s{\\left(α_{2} \\right)} + s{\\left(α_{3} \\right)}\\right)^{2}} + w_{1} w{\\left(α_{1} \\right)} + w_{1} w{\\left(α_{2} \\right)} + w_{1} w{\\left(α_{3} \\right)}$"
      ],
      "text/plain": [
       "0.5*E0*N**2*t**2*a(α1)*s(α1)**2/(L**2*(s(α1) + s(α2) + s(α3))**2) + 0.5*E0*N**2*t**2*a(α2)*s(α2)**2/(L**2*(s(α1) + s(α2) + s(α3))**2) + 0.5*E0*N**2*t**2*a(α3)*s(α3)**2/(L**2*(s(α1) + s(α2) + s(α3))**2) + w1*w(α1) + w1*w(α2) + w1*w(α3)"
      ]
     },
     "execution_count": 260,
     "metadata": {},
     "output_type": "execute_result"
    }
   ],
   "source": [
    "model.energy_fc_alpha()"
   ]
  },
  {
   "cell_type": "code",
   "execution_count": 261,
   "metadata": {},
   "outputs": [
    {
     "data": {
      "text/latex": [
       "$\\displaystyle a^{*} + \\frac{2.25 t^{2}}{\\left(1 + \\frac{0.5 \\left(a^{*} + 1\\right)}{1 - a^{*}}\\right)^{2}} + \\frac{1.125 t^{2} \\left(a^{*} + 1\\right)}{\\left(1 - a^{*}\\right) \\left(1 + \\frac{0.5 \\left(a^{*} + 1\\right)}{1 - a^{*}}\\right)^{2}}$"
      ],
      "text/plain": [
       "a^* + 2.25*t**2/(1 + 0.5*(a^* + 1)/(1 - a^*))**2 + 1.125*t**2*(a^* + 1)/((1 - a^*)*(1 + 0.5*(a^* + 1)/(1 - a^*))**2)"
      ]
     },
     "execution_count": 261,
     "metadata": {},
     "output_type": "execute_result"
    }
   ],
   "source": [
    "# The energy of the bifurcated system\n",
    "\n",
    "_en_alpha_bifurcations = model.energy_fc_alpha().subs(subs_bif_α).subs({sp.symbols('α_t'): 0})\n",
    "_en_alpha_bifurcations  \\\n",
    "            .replace(_a, model.model.a) \\\n",
    "            .replace(sp.Function('s'), atls.s)      \\\n",
    "            .replace(_w, model.model.w)  \\\n",
    "            .subs(_matpar)          \\\n",
    "            "
   ]
  },
  {
   "cell_type": "code",
   "execution_count": 262,
   "metadata": {},
   "outputs": [
    {
     "data": {
      "text/latex": [
       "$\\displaystyle \\frac{1.0 E_{0} N^{2} t^{2} a{\\left(0 \\right)} s^{2}{\\left(0 \\right)} + 0.5 E_{0} N^{2} t^{2} a{\\left(a^{*} \\right)} s^{2}{\\left(a^{*} \\right)} + L^{2} w_{1} \\left(2 s{\\left(0 \\right)} + s{\\left(a^{*} \\right)}\\right)^{2} \\cdot \\left(2 w{\\left(0 \\right)} + w{\\left(a^{*} \\right)}\\right)}{L^{2} \\left(2 s{\\left(0 \\right)} + s{\\left(a^{*} \\right)}\\right)^{2}}$"
      ],
      "text/plain": [
       "(1.0*E0*N**2*t**2*a(0)*s(0)**2 + 0.5*E0*N**2*t**2*a(a^*)*s(a^*)**2 + L**2*w1*(2*s(0) + s(a^*))**2*(2*w(0) + w(a^*)))/(L**2*(2*s(0) + s(a^*))**2)"
      ]
     },
     "execution_count": 262,
     "metadata": {},
     "output_type": "execute_result"
    }
   ],
   "source": [
    "sp.simplify(_en_alpha_bifurcations) "
   ]
  },
  {
   "cell_type": "code",
   "execution_count": 263,
   "metadata": {},
   "outputs": [
    {
     "data": {
      "text/latex": [
       "$\\displaystyle \\frac{0.25 \\cdot \\left(4.0 a^{*} \\left(1 + \\frac{0.5 \\left(a^{*} + 1\\right)}{1 - a^{*}}\\right)^{2} + 9.0 t^{2} + \\frac{4.5 t^{2} \\left(a^{*} + 1\\right)}{1 - a^{*}}\\right)}{\\left(1 + \\frac{0.5 \\left(a^{*} + 1\\right)}{1 - a^{*}}\\right)^{2}}$"
      ],
      "text/plain": [
       "0.25*(4.0*a^**(1 + 0.5*(a^* + 1)/(1 - a^*))**2 + 9.0*t**2 + 4.5*t**2*(a^* + 1)/(1 - a^*))/(1 + 0.5*(a^* + 1)/(1 - a^*))**2"
      ]
     },
     "execution_count": 263,
     "metadata": {},
     "output_type": "execute_result"
    }
   ],
   "source": [
    "sym_en_alpha_bifurcations = sp.simplify(_en_alpha_bifurcations)      \\\n",
    "            .replace(_a, model.model.a)  \\\n",
    "            .replace(sp.Function('s'), atls.s)      \\\n",
    "            .replace(_w, model.model.w)  \\\n",
    "            .subs(_matpar)          \\\n",
    "            .doit()\n",
    "\n",
    "sym_en_alpha_bifurcations"
   ]
  },
  {
   "cell_type": "code",
   "execution_count": 264,
   "metadata": {},
   "outputs": [
    {
     "data": {
      "text/latex": [
       "$\\displaystyle \\frac{0.037037037037037 \\left(a^{*}\\right)^{2} - 0.222222222222222 a^{*} - 0.333333333333333 t^{2} + 0.333333333333333}{0.037037037037037 \\left(a^{*}\\right)^{2} - 0.222222222222222 a^{*} + 0.333333333333333}$"
      ],
      "text/plain": [
       "(0.037037037037037*a^***2 - 0.222222222222222*a^* - 0.333333333333333*t**2 + 0.333333333333333)/(0.037037037037037*a^***2 - 0.222222222222222*a^* + 0.333333333333333)"
      ]
     },
     "execution_count": 264,
     "metadata": {},
     "output_type": "execute_result"
    }
   ],
   "source": [
    "\n",
    "# The derivative of the energy in the direction of bifurcations, \n",
    "# computed for the model at hand, for the bifurcated solutions \n",
    "\n",
    "_bif_crit = sp.diff(\n",
    "    sym_en_alpha_bifurcations, sp.symbols(\"a^*\")\n",
    "    )\n",
    "\n",
    "sp.simplify(_bif_crit)"
   ]
  },
  {
   "cell_type": "code",
   "execution_count": 265,
   "metadata": {},
   "outputs": [
    {
     "data": {
      "text/plain": [
       "(1.0*(1.0*a^* - 1.0)*(0.333333333333333*a^* - 1.0*t - 1.0)*(0.333333333333333*a^* + 1.0*t - 1.0)/((0.333333333333333*a^* - 1.0)**2*(a^* - 1)),)"
      ]
     },
     "execution_count": 265,
     "metadata": {},
     "output_type": "execute_result"
    }
   ],
   "source": [
    "_bif_crit.factor(sp.symbols(\"a^*\")), "
   ]
  },
  {
   "cell_type": "code",
   "execution_count": 266,
   "metadata": {},
   "outputs": [
    {
     "data": {
      "text/plain": [
       "[3.0 - 3.0*t, 3.0*t + 3.0]"
      ]
     },
     "execution_count": 266,
     "metadata": {},
     "output_type": "execute_result"
    }
   ],
   "source": [
    "bif_evos = sp.solve(_bif_crit, sp.symbols(\"a^*\"))\n",
    "bif_evos"
   ]
  },
  {
   "cell_type": "code",
   "execution_count": 267,
   "metadata": {},
   "outputs": [
    {
     "data": {
      "text/plain": [
       "<matplotlib.lines.Line2D at 0x156c3f040>"
      ]
     },
     "execution_count": 267,
     "metadata": {},
     "output_type": "execute_result"
    },
    {
     "data": {
      "image/png": "[encoded data removed]",
      "text/plain": [
       "<Figure size 432x288 with 1 Axes>"
      ]
     },
     "metadata": {
      "needs_background": "light"
     },
     "output_type": "display_data"
    }
   ],
   "source": [
    "# bif_evos = [evo.subs(_matpar) for evo in model.homogeneous_α(_matpar)]\n",
    "_loads = np.linspace(0., float(γ.subs(_matpar)), 30)\n",
    "\n",
    "for i, alphas in enumerate(bif_evos):\n",
    "    _f = sp.lambdify(t, alphas.subs(_matpar), 'numpy')\n",
    "    plt.plot(_loads, _f(_loads), label=i)\n",
    "\n",
    "plt.legend()\n",
    "plt.axhline(0)"
   ]
  },
  {
   "cell_type": "code",
   "execution_count": 268,
   "metadata": {},
   "outputs": [
    {
     "data": {
      "text/latex": [
       "$\\displaystyle 4.5 t^{2} + 6.0 t + 3.0$"
      ],
      "text/plain": [
       "4.5*t**2 + 6.0*t + 3.0"
      ]
     },
     "execution_count": 268,
     "metadata": {},
     "output_type": "execute_result"
    }
   ],
   "source": [
    "_en_bifurcated = _en_alpha_bifurcations.subs(sp.symbols(\"a^*\"), bif_evos[1].subs(_matpar))   \\\n",
    "            .replace(_a, model.model.a)  \\\n",
    "            .replace(sp.Function('s'), atls.s)      \\\n",
    "            .replace(_w, model.model.w)  \\\n",
    "            .subs(_matpar)          \\\n",
    "            .doit()\n",
    "\n",
    "sp.simplify(_en_bifurcated)"
   ]
  },
  {
   "cell_type": "code",
   "execution_count": 269,
   "metadata": {},
   "outputs": [
    {
     "data": {
      "text/plain": [
       "[<matplotlib.lines.Line2D at 0x156ace520>]"
      ]
     },
     "execution_count": 269,
     "metadata": {},
     "output_type": "execute_result"
    },
    {
     "data": {
      "image/png": "[encoded data removed]",
      "text/plain": [
       "<Figure size 432x288 with 1 Axes>"
      ]
     },
     "metadata": {
      "needs_background": "light"
     },
     "output_type": "display_data"
    }
   ],
   "source": [
    "_f = sp.lambdify(t, sp.simplify(_en_bifurcated), 'numpy')\n",
    "plt.plot(_loads, _f(_loads), label='en')\n"
   ]
  }
 ],
 "metadata": {
  "kernelspec": {
   "display_name": "Python 3",
   "language": "python",
   "name": "python3"
  },
  "language_info": {
   "codemirror_mode": {
    "name": "ipython",
    "version": 3
   },
   "file_extension": ".py",
   "mimetype": "text/x-python",
   "name": "python",
   "nbconvert_exporter": "python",
   "pygments_lexer": "ipython3",
   "version": "3.9.13"
  },
  "orig_nbformat": 4
 },
 "nbformat": 4,
 "nbformat_minor": 2
}
