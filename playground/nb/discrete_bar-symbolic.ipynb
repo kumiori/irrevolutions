{
 "cells": [
  {
   "cell_type": "code",
   "execution_count": 1,
   "metadata": {},
   "outputs": [],
   "source": [
    "import sympy as sp\n",
    "import numpy as np\n",
    "import matplotlib.pyplot as plt\n",
    "import json\n",
    "import pandas as pd\n",
    "import os\n",
    "\n",
    "import yaml\n",
    "import hashlib"
   ]
  },
  {
   "cell_type": "code",
   "execution_count": 11,
   "metadata": {},
   "outputs": [],
   "source": [
    "N = sp.symbols(\"N\", integer=True)\n",
    "t = sp.symbols('t')\n",
    "_N = 2\n",
    "\n",
    "γ = sp.symbols('γ')\n",
    "E0, L, w1, σc = sp.symbols('E0 L w1 σc')\n",
    "\n",
    "u = sp.symbols([f\"u{i}\" for i in range(0, _N)])\n",
    "e = sp.symbols([f\"e{i}\" for i in range(1, _N+1)])\n",
    "α = sp.symbols([f\"α{i}\" for i in range(1, _N+1)])\n",
    "_α = sp.symbols(\"α\")\n",
    "\n"
   ]
  },
  {
   "cell_type": "code",
   "execution_count": 3,
   "metadata": {},
   "outputs": [],
   "source": [
    "state = {\"u\": u, \"α\": α, \"e\": e}\n",
    "_matpar = {N: _N, γ: 2, \"E0\": 1, \"w1\": 1, \"L\": 1}\n",
    "matpar = {\"N\": N, \"γ\": γ, \"E0\": E0, \"w1\": w1, \"L\": L}\n",
    "\n"
   ]
  },
  {
   "cell_type": "code",
   "execution_count": 4,
   "metadata": {},
   "outputs": [],
   "source": [
    "_a = sp.Function('a')\n",
    "_s = sp.Function('s')\n"
   ]
  },
  {
   "cell_type": "code",
   "execution_count": 12,
   "metadata": {},
   "outputs": [],
   "source": [
    "_s = 1/_a(_α)"
   ]
  },
  {
   "cell_type": "code",
   "execution_count": 13,
   "metadata": {},
   "outputs": [
    {
     "data": {
      "text/latex": [
       "$\\displaystyle \\frac{1}{a{\\left(α \\right)}}$"
      ],
      "text/plain": [
       "1/a(α)"
      ]
     },
     "execution_count": 13,
     "metadata": {},
     "output_type": "execute_result"
    }
   ],
   "source": [
    "_s"
   ]
  },
  {
   "cell_type": "code",
   "execution_count": 16,
   "metadata": {},
   "outputs": [],
   "source": [
    "_ap = sp.diff(_a(_α), _α)"
   ]
  },
  {
   "cell_type": "code",
   "execution_count": 19,
   "metadata": {},
   "outputs": [
    {
     "data": {
      "text/latex": [
       "$\\displaystyle 2 α - 2$"
      ],
      "text/plain": [
       "2*α - 2"
      ]
     },
     "execution_count": 19,
     "metadata": {},
     "output_type": "execute_result"
    }
   ],
   "source": [
    "_ap.replace(_a, lambda x: ((1-x))**(2) ).doit()"
   ]
  },
  {
   "cell_type": "code",
   "execution_count": 25,
   "metadata": {},
   "outputs": [],
   "source": [
    "_ = sum([1./2. * E0 * N * _a(α[i]) * e[i]**2 for i in range(len(α))])"
   ]
  },
  {
   "cell_type": "code",
   "execution_count": 27,
   "metadata": {},
   "outputs": [
    {
     "data": {
      "text/latex": [
       "$\\displaystyle 0.5 E_{0} N e_{2}^{2} \\cdot \\left(2 α_{2} - 2\\right)$"
      ],
      "text/plain": [
       "0.5*E0*N*e2**2*(2*α2 - 2)"
      ]
     },
     "execution_count": 27,
     "metadata": {},
     "output_type": "execute_result"
    }
   ],
   "source": [
    "sp.diff(_, α[1]).replace(_a, lambda x: ((1-x))**(2) ).doit()"
   ]
  },
  {
   "cell_type": "code",
   "execution_count": 64,
   "metadata": {},
   "outputs": [],
   "source": [
    "class SymbolicDiscreteDamage:\n",
    "    def __init__(self, state, matpar, \n",
    "                 name = \"discrete generalised damage\",\n",
    "                 slug = \"general damage\"):\n",
    "        self.state = state\n",
    "        self.matpar = matpar\n",
    "        self.str = name\n",
    "        self.slug = slug\n",
    "\n",
    "    def _s(self, αi):\n",
    "        s = sp.Function('s')\n",
    "        # s = 1/self._a(αi)\n",
    "        return s(αi)\n",
    "\n",
    "    def _a(self, αi):\n",
    "        γ = self.matpar[\"γ\"]\n",
    "        a = sp.Function('a')\n",
    "        return a(αi)\n",
    "    \n",
    "    def energy(self, state):\n",
    "        \"\"\"Total energy\"\"\"\n",
    "        return self._elastic(state) + self._damage(state) - self.work(state)\n",
    "\n",
    "    def work(self, state):\n",
    "        return 0\n",
    "\n",
    "    def _elastic(self, state):\n",
    "        _e = state[\"e\"]\n",
    "        _α = state[\"α\"]\n",
    "        # _w1 = matpar[\"w1\"]\n",
    "        _E0 = self.matpar[\"E0\"]\n",
    "        _N = self.matpar[\"N\"]\n",
    "    \n",
    "        return sum([1./2. * E0 * N * self._a(α[i]) * e[i]**2 for i in range(len(α))])\n",
    "\n",
    "    def _w(self, αi):\n",
    "        w = sp.Function('w')\n",
    "\n",
    "        return w(αi)\n",
    "\n",
    "    def _damage(self, state):\n",
    "        _α = state[\"α\"]\n",
    "        _w1 = self.matpar[\"w1\"]\n",
    "\n",
    "        _N = self.matpar[\"N\"]\n",
    "\n",
    "        return sum([_w1 / _N * self._w(_α[i]) for i in range(len(_α))]) \n",
    "        # return _w1 * self._w(_α)\n",
    "\n",
    "    def __str__(self):\n",
    "     return self.str\n"
   ]
  },
  {
   "cell_type": "code",
   "execution_count": 65,
   "metadata": {},
   "outputs": [],
   "source": [
    "atls = SymbolicDiscreteDamage(state, matpar)\n"
   ]
  },
  {
   "cell_type": "code",
   "execution_count": 68,
   "metadata": {},
   "outputs": [
    {
     "data": {
      "text/plain": [
       "<bound method SymbolicDiscreteDamage._s of <__main__.SymbolicDiscreteDamage object at 0x12dcc9430>>"
      ]
     },
     "execution_count": 68,
     "metadata": {},
     "output_type": "execute_result"
    }
   ],
   "source": [
    "atls._s"
   ]
  },
  {
   "cell_type": "code",
   "execution_count": 61,
   "metadata": {},
   "outputs": [
    {
     "data": {
      "text/latex": [
       "$\\displaystyle s{\\left(α_{2} \\right)}$"
      ],
      "text/plain": [
       "s(α2)"
      ]
     },
     "execution_count": 61,
     "metadata": {},
     "output_type": "execute_result"
    }
   ],
   "source": [
    "atls._s(α[1])"
   ]
  },
  {
   "cell_type": "code",
   "execution_count": 62,
   "metadata": {},
   "outputs": [
    {
     "data": {
      "text/latex": [
       "$\\displaystyle 0.5 E_{0} N e_{1}^{2} \\left(1 - α_{1}\\right)^{2} + 0.5 E_{0} N e_{2}^{2} \\left(1 - α_{2}\\right)^{2}$"
      ],
      "text/plain": [
       "0.5*E0*N*e1**2*(1 - α1)**2 + 0.5*E0*N*e2**2*(1 - α2)**2"
      ]
     },
     "execution_count": 62,
     "metadata": {},
     "output_type": "execute_result"
    }
   ],
   "source": [
    "atls._elastic(state).replace(_a, lambda x: ((1-x))**(2) ).doit()"
   ]
  },
  {
   "cell_type": "code",
   "execution_count": 63,
   "metadata": {},
   "outputs": [
    {
     "data": {
      "text/latex": [
       "$\\displaystyle 0.5 E_{0} N e_{1}^{2} a{\\left(α_{1} \\right)} + 0.5 E_{0} N e_{2}^{2} a{\\left(α_{2} \\right)} + \\frac{w_{1} w{\\left(α_{1} \\right)}}{N} + \\frac{w_{1} w{\\left(α_{2} \\right)}}{N}$"
      ],
      "text/plain": [
       "0.5*E0*N*e1**2*a(α1) + 0.5*E0*N*e2**2*a(α2) + w1*w(α1)/N + w1*w(α2)/N"
      ]
     },
     "execution_count": 63,
     "metadata": {},
     "output_type": "execute_result"
    }
   ],
   "source": [
    "atls.energy(state)"
   ]
  },
  {
   "cell_type": "code",
   "execution_count": 81,
   "metadata": {},
   "outputs": [],
   "source": [
    "\n",
    "class ModelAnalysis:\n",
    "    \"\"\"Helper class to analyse stability properties of a model\"\"\"\n",
    "\n",
    "    def __init__(self, model):\n",
    "        self.model = model\n",
    "        self.state = model.state\n",
    "        _state = self.state\n",
    "        self.matpar = model.matpar\n",
    "\n",
    "        _β = sp.symbols('β')\n",
    "        _e = sp.symbols('e')\n",
    "        self._β = _β\n",
    "        self._e = _e\n",
    "        \n",
    "        self._s = model._s(_β)\n",
    "        self._sp = sp.diff(self._s, _β, 1)\n",
    "        self._spp = sp.diff(self._s, _β, 2)\n",
    "\n",
    "        self._a = model._a(_β)\n",
    "        self._ap = sp.diff(self._a, _β, 1)\n",
    "        self._app = sp.diff(self._a, _β, 2)\n",
    "\n",
    "        self._w = model._w(_β)\n",
    "        self._wp = sp.diff(self._w, _β)\n",
    "        self._wpp = sp.diff(self._w, _β, 2)\n",
    "\n",
    "        # self.criterion()\n",
    "\n",
    "\n",
    "    def criterion(self):\n",
    "        \"\"\"Damage onset\"\"\"\n",
    "        model, state = self.model, self.state\n",
    "        x = sp.symbols('x')\n",
    "\n",
    "        β = self._β\n",
    "\n",
    "        _u0 = t*x/L\n",
    "        _alpha0 = 0\n",
    "\n",
    "        _homogeneous_damage = {a: β for a in state[\"α\"]}\n",
    "        _homogeneous_strain = {a: e for a in state[\"e\"]}\n",
    "        _sound = {a: 0 for a in state[\"α\"]}\n",
    "\n",
    "        _crit = sp.diff(model.energy(state), α) \\\n",
    "            .subs({u: _u0, α: _alpha0})         \\\n",
    "            .simplify()\n",
    "        # .subs(matpar).simplify()\n",
    "        # _ts = np.array(sp.solve(_crit, t))\n",
    "        # return np.where(_ts > 0)\n",
    "        self.crit = _crit\n",
    "\n",
    "        return _crit\n"
   ]
  },
  {
   "cell_type": "code",
   "execution_count": 75,
   "metadata": {},
   "outputs": [
    {
     "data": {
      "text/plain": [
       "<__main__.ModelAnalysis at 0x12dc30fa0>"
      ]
     },
     "execution_count": 75,
     "metadata": {},
     "output_type": "execute_result"
    }
   ],
   "source": [
    "ModelAnalysis(atls)"
   ]
  },
  {
   "cell_type": "code",
   "execution_count": 85,
   "metadata": {},
   "outputs": [],
   "source": [
    "β = sp.symbols('β')\n",
    "_homogeneous = {a: β for a in state[\"α\"]}\n",
    "_sound = {a: 0 for a in state[\"α\"]}\n",
    "\n"
   ]
  },
  {
   "cell_type": "code",
   "execution_count": 79,
   "metadata": {},
   "outputs": [
    {
     "data": {
      "text/plain": [
       "{α1: 0, α2: 0}"
      ]
     },
     "execution_count": 79,
     "metadata": {},
     "output_type": "execute_result"
    }
   ],
   "source": [
    "{a: 0 for a in state[\"α\"]}"
   ]
  },
  {
   "cell_type": "code",
   "execution_count": 86,
   "metadata": {},
   "outputs": [
    {
     "data": {
      "text/latex": [
       "$\\displaystyle 0.5 E_{0} N e_{1}^{2} a{\\left(β \\right)} + 0.5 E_{0} N e_{2}^{2} a{\\left(β \\right)} + \\frac{2 w_{1} w{\\left(β \\right)}}{N}$"
      ],
      "text/plain": [
       "0.5*E0*N*e1**2*a(β) + 0.5*E0*N*e2**2*a(β) + 2*w1*w(β)/N"
      ]
     },
     "execution_count": 86,
     "metadata": {},
     "output_type": "execute_result"
    }
   ],
   "source": [
    "atls.energy(state).subs(_homogeneous)"
   ]
  },
  {
   "cell_type": "code",
   "execution_count": 71,
   "metadata": {},
   "outputs": [
    {
     "data": {
      "text/plain": [
       "[α1, α2]"
      ]
     },
     "execution_count": 71,
     "metadata": {},
     "output_type": "execute_result"
    }
   ],
   "source": [
    "sp.diff(atls.energy(state), α)"
   ]
  },
  {
   "cell_type": "code",
   "execution_count": null,
   "metadata": {},
   "outputs": [],
   "source": []
  }
 ],
 "metadata": {
  "kernelspec": {
   "display_name": "Python 3",
   "language": "python",
   "name": "python3"
  },
  "language_info": {
   "codemirror_mode": {
    "name": "ipython",
    "version": 3
   },
   "file_extension": ".py",
   "mimetype": "text/x-python",
   "name": "python",
   "nbconvert_exporter": "python",
   "pygments_lexer": "ipython3",
   "version": "3.9.13"
  },
  "orig_nbformat": 4
 },
 "nbformat": 4,
 "nbformat_minor": 2
}
