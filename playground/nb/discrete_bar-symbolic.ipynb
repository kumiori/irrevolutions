{
 "cells": [
  {
   "cell_type": "code",
   "execution_count": 1,
   "metadata": {},
   "outputs": [],
   "source": [
    "import sympy as sp\n",
    "import numpy as np\n",
    "import matplotlib.pyplot as plt\n",
    "import json\n",
    "import pandas as pd\n",
    "import os\n",
    "\n",
    "import yaml\n",
    "import hashlib"
   ]
  },
  {
   "cell_type": "code",
   "execution_count": 2,
   "metadata": {},
   "outputs": [],
   "source": [
    "output_dir = '/Users/kumiori3/Documents/WIP/Nature/paper_IJTCAM/technology/fig'"
   ]
  },
  {
   "cell_type": "code",
   "execution_count": 242,
   "metadata": {},
   "outputs": [],
   "source": [
    "class SymbolicDiscreteDamage:\n",
    "    def __init__(self, matpar, N = 1, \n",
    "                 name = \"discrete generalised damage\",\n",
    "                 slug = \"general damage\"):\n",
    "        self.matpar = matpar\n",
    "        self.state = self.get_state(N)\n",
    "        self.str = name\n",
    "        self.slug = slug\n",
    "\n",
    "    def get_state(self, N):\n",
    "        \n",
    "        u = sp.symbols([f\"u{i}\" for i in range(0, N)])\n",
    "        e = sp.symbols([f\"e{i}\" for i in range(1, N+1)])\n",
    "        α = sp.symbols([f\"α{i}\" for i in range(1, N+1)])\n",
    "\n",
    "        state = {\"u\": u, \"α\": α, \"e\": e}\n",
    "        return state\n",
    "        \n",
    "    def _s(self, α):\n",
    "        s = sp.Function('s')\n",
    "        return s(α)\n",
    "\n",
    "    def _a(self, α):\n",
    "        γ = self.matpar[\"γ\"]\n",
    "        a = sp.Function('a')\n",
    "        return a(α)\n",
    "    \n",
    "    def energy(self):\n",
    "        \"\"\"Total energy\"\"\"\n",
    "        state = self.state\n",
    "        N = sp.symbols(\"N\")\n",
    "        return self._elastic() + self._damage() - self.work()\n",
    "\n",
    "    def work(self):\n",
    "        return 0\n",
    "\n",
    "    def _elastic(self):\n",
    "        state = self.state\n",
    "        e = state[\"e\"]\n",
    "        α = state[\"α\"]\n",
    "\n",
    "        _E0 = self.matpar[\"E0\"]\n",
    "        _N = self.matpar[\"N\"]\n",
    "    \n",
    "        return 1/_N * sum([1./2. * _E0 * self._a(α[i]) * e[i]**2 for i in range(len(α))])\n",
    "\n",
    "    def _w(self, αi):\n",
    "        w = sp.Function('w')\n",
    "\n",
    "        return w(αi)\n",
    "\n",
    "    def _damage(self):\n",
    "        state = self.state\n",
    "        _α = state[\"α\"]\n",
    "        _w1 = self.matpar[\"w1\"]\n",
    "\n",
    "        _N = self.matpar[\"N\"]\n",
    "\n",
    "        return 1/_N * sum([_w1 * self._w(_α[i]) for i in range(len(_α))])\n",
    "\n",
    "\n",
    "    # Explicit expressions\n",
    "    def w(self, αi):\n",
    "        return αi\n",
    "\n",
    "    def boundary_condition(self):\n",
    "        t = sp.symbols('t')\n",
    "        N = sp.symbols(\"N\")\n",
    "        L = sp.symbols(\"L\")\n",
    "        \n",
    "        return t*N/L       \n",
    "\n",
    "    def a(self, αi):\n",
    "        γ = self.matpar[\"γ\"]\n",
    "\n",
    "        return (1 - self._w(αi)) / ((γ-1) * self._w(αi) + 1)\n",
    "\n",
    "    def s(self, αi):\n",
    "\n",
    "        return 1. / self.a(αi)\n",
    "\n",
    "    def aprime(self):\n",
    "        return sp.diff(self.a(sp.symbols('α')), sp.symbols('α')) \\\n",
    "                    .replace(sp.Function('a'), self.a) \\\n",
    "                    .replace(sp.Function('w'), self.w) \\\n",
    "                    .doit()\n",
    "                    \n",
    "    def wprime(self):\n",
    "        return sp.diff(self.w(sp.symbols('α')), sp.symbols('α')) \\\n",
    "                .replace(sp.Function('w'), self.w) \\\n",
    "                .doit()\n",
    "\n",
    "    def __str__(self):\n",
    "     return self.str\n"
   ]
  },
  {
   "cell_type": "code",
   "execution_count": 270,
   "metadata": {},
   "outputs": [],
   "source": [
    "class ModelAnalysis:\n",
    "    \"\"\"Helper class to analyse (stability) properties of a model\"\"\"\n",
    "\n",
    "    def __str__(self):\n",
    "        return self.model.slug\n",
    "\n",
    "    def __init__(self, model):\n",
    "        self.model = model\n",
    "        self.state = model.state\n",
    "        self.matpar = model.matpar\n",
    "\n",
    "        _β = sp.symbols(\"β\")\n",
    "        _e = sp.symbols(\"e\")\n",
    "        self._β = _β\n",
    "        self._e = _e\n",
    "\n",
    "        self._s = model._s(_β)\n",
    "        self._sp = sp.diff(self._s, _β, 1)\n",
    "        self._spp = sp.diff(self._s, _β, 2)\n",
    "\n",
    "        self._a = model._a(_β)\n",
    "        self._ap = sp.diff(self._a, _β, 1)\n",
    "        self._app = sp.diff(self._a, _β, 2)\n",
    "\n",
    "        self._w = model._w(_β)\n",
    "        self._wp = sp.diff(self._w, _β)\n",
    "        self._wpp = sp.diff(self._w, _β, 2)\n",
    "\n",
    "        self.criterion()\n",
    "\n",
    "    def plot_material(self, _matpar):\n",
    "        _damage = np.linspace(0.0, 1.0)\n",
    "        alpha = sp.symbols(\"α\")\n",
    "\n",
    "        _a = self.model.a(alpha).replace(sp.Function(\"w\"), self.model.w)\n",
    "        _a_prime = sp.diff(_a, alpha)\n",
    "        _a_prime_prime = sp.diff(_a, alpha, 2)\n",
    "\n",
    "        _s = self.model.s(alpha).replace(sp.Function(\"w\"), self.model.w)\n",
    "        _s_prime = sp.diff(_s, alpha)\n",
    "        _s_prime_prime = sp.diff(_s, alpha, 2)\n",
    "\n",
    "        _wf = sp.lambdify(alpha, self.model.w(alpha).subs(_matpar), \"numpy\")\n",
    "\n",
    "        _af = _af = sp.lambdify(alpha, _a.subs(_matpar), \"numpy\")\n",
    "        _apf = sp.lambdify(alpha, _a_prime.subs(_matpar), \"numpy\")\n",
    "        _appf = sp.lambdify(alpha, _a_prime_prime.subs(_matpar), \"numpy\")\n",
    "\n",
    "        _sf = sp.lambdify(alpha, _s.subs(_matpar), \"numpy\")\n",
    "        _spf = sp.lambdify(alpha, _s_prime.subs(_matpar), \"numpy\")\n",
    "        _sppf = sp.lambdify(alpha, _s_prime_prime.subs(_matpar), \"numpy\")\n",
    "\n",
    "        # Plots\n",
    "        figure, axis = plt.subplots(1, 2, figsize=(8, 6))\n",
    "        _ax = axis[0]\n",
    "        _ax.axhline(0, c=\"k\")\n",
    "        _ax.plot(_damage, [_af(t) for t in _damage], label=\"a\")\n",
    "        _ax.legend(loc=2)\n",
    "        _ax.plot(_damage, [_apf(t) for t in _damage], label=\"a'\", c=\"r\")\n",
    "        _ax.plot(_damage, [_appf(t) for t in _damage], label=\"a''\")\n",
    "        _ax2 = _ax.twiny()\n",
    "        _ax2.plot(_damage, [_wf(t) for t in _damage], label=\"w\", c=\"k\", ls=\"dashed\")\n",
    "\n",
    "        _ax.set_xlim(0, 1)\n",
    "        _ax2.set_xlim(0, 1)\n",
    "        _ax.legend()\n",
    "        _ax2.legend(loc=3)\n",
    "\n",
    "        _ax = axis[1]\n",
    "\n",
    "        _ax.plot(_damage, [_sf(t) for t in _damage], label=\"s\")\n",
    "        _ax.legend(loc=2)\n",
    "        _ax.axhline(0, c=\"k\")\n",
    "        _ax.twinx()\n",
    "        _ax.plot(_damage, [_spf(t) for t in _damage], label=\"s'\")\n",
    "        _ax.plot(_damage, [_sppf(t) for t in _damage], label=\"s''\")\n",
    "        _ax.set_xlim(0, 1)\n",
    "        _ax.set_ylim(0, 10)\n",
    "        _ax.legend(loc=1)\n",
    "        figure.suptitle(f\"Behaviour of {self.model.__str__()} is Material\")\n",
    "\n",
    "        return figure, axis\n",
    "\n",
    "    def _equilirbrium_e(self):\n",
    "        state = self.state\n",
    "        t, L, N = sp.symbols(\"t L N\")\n",
    "        _S = sum([self.model._s(αi) for αi in state[\"α\"]])\n",
    "\n",
    "        datum = self.model.boundary_condition()\n",
    "\n",
    "        _e = [(datum * self.model._s(αi) / _S).simplify() for αi in state[\"α\"]]\n",
    "\n",
    "        return _e\n",
    "\n",
    "    def _elastic_energy_fc_alpha(self):\n",
    "        _ei = self._equilirbrium_e()\n",
    "        state = self.state\n",
    "        equilibrium_subs = {v[0]: v[1] for v in zip(state[\"e\"], _ei)}\n",
    "        subs_s_inverse = {\n",
    "            sp.Function(\"a\")(sp.Symbol(a.name)): 1 / self.model._s(a)\n",
    "            for a in state[\"α\"]\n",
    "        }\n",
    "\n",
    "        return (\n",
    "            self.model._elastic()\n",
    "            .subs(equilibrium_subs)\n",
    "            .subs(subs_s_inverse)\n",
    "            .simplify()\n",
    "        )\n",
    "        \n",
    "    def get_state(self, matpar):\n",
    "        return self.model.state\n",
    "\n",
    "    def _state_split(self, m, matpar):\n",
    "        \"\"\"Split the state into homogeneous and bifurcated parts\"\"\"\n",
    "        state = self.state\n",
    "        assert m < matpar[N]\n",
    "\n",
    "        _bif_α = [state[\"α\"][k + 1] for k in range(m)]\n",
    "        _bif_e = [state[\"e\"][k + 1] for k in range(m)]\n",
    "\n",
    "        _homo_α = set(state[\"α\"]) - set(_bif_α)\n",
    "        _homo_e = set(state[\"e\"]) - set(_bif_e)\n",
    "\n",
    "        return _bif_α, _homo_α, _bif_e, _homo_e\n",
    "\n",
    "    def _state_homog_substitutions(self):\n",
    "        \"\"\"Substitutions for the homogeneous state\"\"\"\n",
    "        state = self.state\n",
    "        αt = sp.symbols(\"α_t\")\n",
    "        et = sp.symbols(\"e_t\")\n",
    "\n",
    "        _subs_αh = {a: αt for a in state[\"α\"]}\n",
    "        _subs_eh = {e: et for e in state[\"e\"]}\n",
    "\n",
    "        return _subs_αh, _subs_eh\n",
    "\n",
    "    def _state_bifurcation_substitutions(self, m, state, matpar):\n",
    "        \"\"\"Computes substitutions for bifurcated states\"\"\"\n",
    "\n",
    "        assert m < matpar[N]\n",
    "        _bif, _homo, _bif_e, _homo_e = self._state_split(m, state, matpar)\n",
    "        _αb = sp.symbols(\"α_t\")\n",
    "        _eb = sp.symbols(\"e_t\")\n",
    "        αt = sp.symbols(\"α^*\")\n",
    "        et = sp.symbols(\"e^*\")\n",
    "\n",
    "        _subs_αb = {a: _αb for a in _bif}\n",
    "        _subs_eb = {e: _eb for e in _bif_e}\n",
    "\n",
    "        _subs_αt = {a: αt for a in _homo}\n",
    "        _subs_et = {e: et for e in _homo_e}\n",
    "\n",
    "        return {**_subs_αb, **_subs_αt}, {**_subs_eb, **_subs_et}\n",
    "\n",
    "    def criterion(self):\n",
    "        \"\"\"Damage onset\"\"\"\n",
    "        model, state = self.model, self.state\n",
    "        x = sp.symbols(\"x\")\n",
    "        t, L, N = sp.symbols(\"t L N\")\n",
    "\n",
    "        _e0 = t / L\n",
    "\n",
    "        _homogeneous_damage, _homogeneous_strain = self._state_homog_substitutions()\n",
    "\n",
    "        _crit = sp.diff(\n",
    "            model.energy().subs(_homogeneous_damage).subs(_homogeneous_strain), \n",
    "            sp.symbols('α_t')\n",
    "        ).subs({sp.symbols('e_t'): _e0, sp.symbols('α_t'): 0})\n",
    "\n",
    "        self.crit = _crit\n",
    "\n",
    "        return self.crit.simplify()\n",
    "\n",
    "    def critical_load(self, matpar={}):\n",
    "        \"\"\"Critical load\"\"\"\n",
    "        _a = sp.Function(\"a\")\n",
    "        _w = sp.Function(\"w\")\n",
    "        t = sp.symbols(\"t\")\n",
    "\n",
    "        criterion = self.crit.replace(_a, self.model.a).replace(_w, self.model.w).simplify()\n",
    "\n",
    "        tc = sp.solve(criterion, t)\n",
    "\n",
    "        if matpar:\n",
    "            tc = [_tc.subs(matpar) for _tc in tc if _tc.subs(matpar).is_positive]\n",
    "\n",
    "        return tc, criterion\n",
    "\n",
    "    def energy_fc_alpha(self):\n",
    "        _ei = self._equilirbrium_e()\n",
    "        state = self.state\n",
    "        equilibrium_subs = {v[0]: v[1] for v in zip(state[\"e\"], _ei)}\n",
    "        subs_s_inverse = {\n",
    "            sp.Function(\"a\")(sp.Symbol(a.name)): 1 / self.model._s(a)\n",
    "            for a in state[\"α\"]\n",
    "        }\n",
    "\n",
    "        return (\n",
    "            self.model.energy()\n",
    "            .subs(equilibrium_subs)\n",
    "            .subs(subs_s_inverse)\n",
    "            .simplify()\n",
    "        )\n",
    "\n",
    "    def homogeneous_α(self, state, matpar={}):\n",
    "        \"\"\"Solves the (homogeneous) evolution law for damage\"\"\"\n",
    "        αt = sp.symbols(\"α_t\")\n",
    "        state = self.state\n",
    "\n",
    "        if matpar:\n",
    "            return [\n",
    "                sol.subs(matpar)\n",
    "                for sol in list(\n",
    "                    map(sp.simplify, sp.solve(self.evo_α(state, matpar), αt))\n",
    "                )\n",
    "            ]\n",
    "        else:\n",
    "            return list(map(sp.simplify, sp.solve(self.evo_α(state), αt)))\n",
    "\n",
    "    def homogeneous_damage(self, state, matpar={}):\n",
    "        idx = self.positive_solution_wrt_t(matpar)\n",
    "        _alpha = self.homogeneous_α(matpar)[idx].subs(matpar)\n",
    "        tc = self.critical_load(matpar)[0][0]\n",
    "        t = sp.symbols(\"t\")\n",
    "\n",
    "        # tc = self.critical_load(matpar)\n",
    "        alpha = sp.Piecewise((_alpha, t >= tc), (0, t < tc))\n",
    "\n",
    "        return alpha\n",
    "\n",
    "\n",
    "    def evo_α(self, state, matpar={}):\n",
    "        \"\"\"Evolution law for damage\"\"\"\n",
    "        αt = sp.symbols(\"α_t\")\n",
    "        _a = sp.Function(\"a\")\n",
    "        # _w = sp.Function('w')\n",
    "\n",
    "        subs_homog_α, _ = self._state_homog_substitutions()\n",
    "\n",
    "        energy = (\n",
    "            self.energy_fc_alpha()\n",
    "            .subs(subs_homog_α)\n",
    "            .replace(sp.Function(\"s\"), self.model.s)\n",
    "            .replace(sp.Function(\"w\"), self.model.w)\n",
    "            .doit()\n",
    "        )\n",
    "\n",
    "        if matpar:\n",
    "            energy = energy.subs(matpar)\n",
    "\n",
    "        return sp.diff(energy, αt).simplify()\n",
    "\n",
    "    def positive_solution_wrt_t(self, _matpar={}):\n",
    "        idx = np.where(\n",
    "            np.array(\n",
    "                [\n",
    "                    sp.diff(eq, sp.symbols(\"t\")).subs(_matpar)\n",
    "                    for eq in self.homogeneous_α(_matpar)\n",
    "                ]\n",
    "            )\n",
    "            > 0\n",
    "        )[0]\n",
    "        return idx[0]\n",
    "\n",
    "    def _elastic_energy_m_bifurcations(self, m):\n",
    "        n = len(self.state[\"α\"])\n",
    "        # n = N\n",
    "        N = sp.symbols(\"N\")\n",
    "        # _s = model.model.s\n",
    "        _s = sp.Function(\"s\")\n",
    "\n",
    "        at = sp.symbols(\"α_t\")\n",
    "        ax = sp.symbols(\"α^*\")\n",
    "        return 1.0 / 2.0 * E0 * (N * t / L) ** 2 * 1 / ((N - m) * _s(ax) + m * _s(at))\n",
    "\n",
    "    def _diff_energy_m_bifurcations(self, m):\n",
    "        n = len(self.state[\"α\"])\n",
    "        n = N\n",
    "        # _s = model.model.s\n",
    "        _s = sp.Function(\"s\")\n",
    "\n",
    "        at = sp.symbols(\"α_t\")\n",
    "        ax = sp.symbols(\"α^*\")\n",
    "        return (\n",
    "            -1.0\n",
    "            / 2.0\n",
    "            * E0\n",
    "            * (N * t / L) ** 2\n",
    "            * m\n",
    "            * sp.diff(_s(at), at)\n",
    "            / ((n - m) * _s(ax) + m * _s(at)) ** 2\n",
    "        )\n",
    "\n",
    "    def xi_elastic_energy_m_bifurcations(self):\n",
    "        n = len(self.state[\"α\"])\n",
    "        N = sp.symbols('N')\n",
    "        _s = sp.Function('s')\n",
    "        \n",
    "        at = sp.symbols('α_t')\n",
    "        ax = sp.symbols('α^*')\n",
    "        xi = sp.symbols('xi')\n",
    "        \n",
    "        return 1./2. * E0 * (t / L)**2 * 1 / (_s(ax) + (xi)*(_s(at)-_s(ax)))\n",
    "        \n",
    "    def xi_energy_m_bifurcations(self):\n",
    "        n = len(self.state[\"α\"])\n",
    "        at = sp.symbols('α_t')\n",
    "        ax = sp.symbols('α^*')\n",
    "        N = sp.symbols('N')\n",
    "        xi = sp.symbols('xi')\n",
    "        \n",
    "        return self.xi_elastic_energy_m_bifurcations() +   \\\n",
    "            self.matpar[\"w1\"] * (xi * self.model.w(at) + (1-xi) * self.model.w(ax))\n",
    "\n",
    "    def xi_diff_energy_m_bifurcations(self):\n",
    "        n = len(self.state[\"α\"])\n",
    "        n = N\n",
    "        # _s = model.model.s\n",
    "        _s = sp.Function('s')\n",
    "        \n",
    "        at = sp.symbols('α_t')\n",
    "        ax = sp.symbols('α^*')\n",
    "        xi = sp.symbols('xi')\n",
    "        return - 1./2. * E0 * (t / L)**2 * xi * sp.diff(_s(at), at) / ((_s(ax) + (xi)*(_s(at)-_s(ax))))**2 + \\\n",
    "            self.matpar[\"w1\"] * (xi * sp.diff(self.model.w(at), at) ) \n",
    "\n",
    "    def energy_m_bifurcations(self, m):\n",
    "        n = len(self.state[\"α\"])\n",
    "        at = sp.symbols(\"α_t\")\n",
    "        ax = sp.symbols(\"α^*\")\n",
    "\n",
    "        return self._elastic_energy_m_bifurcations() + self.model.matpar[\"w1\"] * (\n",
    "            m * self.model.w(at) + (n - m) * self.model.w(ax)\n",
    "        )"
   ]
  },
  {
   "cell_type": "code",
   "execution_count": 346,
   "metadata": {},
   "outputs": [
    {
     "data": {
      "text/latex": [
       "$\\displaystyle \\frac{1.0 E_{0} t^{2} \\left. \\frac{d}{d β} a{\\left(β \\right)} \\right|_{\\substack{ β=0 }}}{L^{2} N} + \\frac{2 w_{1} \\left. \\frac{d}{d β} w{\\left(β \\right)} \\right|_{\\substack{ β=0 }}}{N}$"
      ],
      "text/plain": [
       "1.0*E0*t**2*Subs(Derivative(a(β), β), β, 0)/(L**2*N) + 2*w1*Subs(Derivative(w(β), β), β, 0)/N"
      ]
     },
     "execution_count": 346,
     "metadata": {},
     "output_type": "execute_result"
    }
   ],
   "source": [
    "N = sp.symbols(\"N\")\n",
    "t = sp.symbols('t')\n",
    "_a = sp.Function('a')\n",
    "_w = sp.Function('w')\n",
    "γ = sp.symbols('γ')\n",
    "E0, L, w1, σc = sp.symbols('E0 L w1 σc')\n",
    "\n",
    "_N = 2\n",
    "_normalise = {E0: 1, w1: 1, L: 1}\n",
    "\n",
    "# u = sp.symbols([f\"u{i}\" for i in range(0, _N)])\n",
    "# e = sp.symbols([f\"e{i}\" for i in range(1, _N+1)])\n",
    "# α = sp.symbols([f\"α{i}\" for i in range(1, _N+1)])\n",
    "# state = {\"u\": u, \"α\": α, \"e\": e}\n",
    "\n",
    "_α = sp.symbols(\"α\")\n",
    "β = sp.symbols('β')\n",
    "\n",
    "\n",
    "_matpar = {N: _N, γ: 5, E0: 1, w1: 1, L: 1}\n",
    "matpar = {\"N\": N, \"γ\": γ, \"E0\": E0, \"w1\": w1, \"L\": L}\n",
    "\n",
    "atls = SymbolicDiscreteDamage(matpar, _N)\n",
    "model = ModelAnalysis(atls)\n",
    "\n",
    "model.criterion()\n"
   ]
  },
  {
   "cell_type": "code",
   "execution_count": 347,
   "metadata": {},
   "outputs": [
    {
     "data": {
      "text/latex": [
       "$\\displaystyle \\frac{1.0 E_{0} t^{2} \\left. \\frac{d}{d β} a{\\left(β \\right)} \\right|_{\\substack{ β=0 }}}{L^{2} N} + \\frac{2 w_{1} \\left. \\frac{d}{d β} w{\\left(β \\right)} \\right|_{\\substack{ β=0 }}}{N}$"
      ],
      "text/plain": [
       "1.0*E0*t**2*Subs(Derivative(a(β), β), β, 0)/(L**2*N) + 2*w1*Subs(Derivative(w(β), β), β, 0)/N"
      ]
     },
     "execution_count": 347,
     "metadata": {},
     "output_type": "execute_result"
    }
   ],
   "source": [
    "_homogeneous_damage, _homogeneous_strain = model._state_homog_substitutions()\n",
    "sp.diff(atls.energy().subs(_homogeneous_damage).subs(_homogeneous_strain), \n",
    "        sp.symbols('α_t')).simplify()   \\\n",
    "            .subs(sp.symbols('e_t'), t/L) \\\n",
    "            .subs(sp.symbols('α_t'), 0).simplify()\n"
   ]
  },
  {
   "cell_type": "markdown",
   "metadata": {},
   "source": [
    "$$\n",
    "\\begin{aligned}\n",
    "\\mathcal E_N (e, \\alpha) &=  E_0\\sum_{i=0}^N \\frac{1}{2}    a(\\alpha_i)  e_i^2  + \\sum_{i=0}^N {w_1}w(\\alpha_i) \\\\\n",
    " \\tilde {\\mathcal E}_N (u, \\alpha) = \\frac{1}{N}{\\mathcal E}_N (u, \\alpha) &= E_0 N\\sum_{i=0}^N \\frac{1}{2}  a(\\alpha_i)  (u_i-u_{i-1})^2  + \\frac{w_1}{N} \\sum_{i=0}^N w(\\alpha_i) \n",
    "\\end{aligned}\n",
    "$$"
   ]
  },
  {
   "cell_type": "code",
   "execution_count": 348,
   "metadata": {},
   "outputs": [
    {
     "data": {
      "text/latex": [
       "$\\displaystyle \\frac{w_{1} w{\\left(α_{1} \\right)} + w_{1} w{\\left(α_{2} \\right)}}{N} + \\frac{0.5 E_{0} e_{1}^{2} a{\\left(α_{1} \\right)} + 0.5 E_{0} e_{2}^{2} a{\\left(α_{2} \\right)}}{N}$"
      ],
      "text/plain": [
       "(w1*w(α1) + w1*w(α2))/N + (0.5*E0*e1**2*a(α1) + 0.5*E0*e2**2*a(α2))/N"
      ]
     },
     "execution_count": 348,
     "metadata": {},
     "output_type": "execute_result"
    }
   ],
   "source": [
    "atls.energy()"
   ]
  },
  {
   "cell_type": "code",
   "execution_count": 349,
   "metadata": {},
   "outputs": [
    {
     "data": {
      "text/plain": [
       "({α1: α_t, α2: α_t}, {e1: e_t, e2: e_t})"
      ]
     },
     "execution_count": 349,
     "metadata": {},
     "output_type": "execute_result"
    }
   ],
   "source": [
    "model._state_homog_substitutions()"
   ]
  },
  {
   "cell_type": "code",
   "execution_count": 350,
   "metadata": {},
   "outputs": [
    {
     "data": {
      "text/latex": [
       "$\\displaystyle \\frac{2 w_{1} w{\\left(α_{t} \\right)}}{N} + \\frac{0.5 E_{0} e_{1}^{2} a{\\left(α_{t} \\right)} + 0.5 E_{0} e_{2}^{2} a{\\left(α_{t} \\right)}}{N}$"
      ],
      "text/plain": [
       "2*w1*w(α_t)/N + (0.5*E0*e1**2*a(α_t) + 0.5*E0*e2**2*a(α_t))/N"
      ]
     },
     "execution_count": 350,
     "metadata": {},
     "output_type": "execute_result"
    }
   ],
   "source": [
    "atls.energy().subs(model._state_homog_substitutions()[0])"
   ]
  },
  {
   "cell_type": "code",
   "execution_count": 351,
   "metadata": {},
   "outputs": [
    {
     "data": {
      "text/latex": [
       "$\\displaystyle \\frac{1.0 E_{0} t^{2} \\left. \\frac{d}{d β} a{\\left(β \\right)} \\right|_{\\substack{ β=0 }}}{L^{2} N} + \\frac{2 w_{1} \\left. \\frac{d}{d β} w{\\left(β \\right)} \\right|_{\\substack{ β=0 }}}{N}$"
      ],
      "text/plain": [
       "1.0*E0*t**2*Subs(Derivative(a(β), β), β, 0)/(L**2*N) + 2*w1*Subs(Derivative(w(β), β), β, 0)/N"
      ]
     },
     "execution_count": 351,
     "metadata": {},
     "output_type": "execute_result"
    }
   ],
   "source": [
    "ModelAnalysis(atls).criterion()"
   ]
  },
  {
   "cell_type": "code",
   "execution_count": 352,
   "metadata": {},
   "outputs": [
    {
     "data": {
      "text/latex": [
       "$\\displaystyle \\frac{1.0 E_{0} t^{2} \\left. \\frac{d}{d β} a{\\left(β \\right)} \\right|_{\\substack{ β=0 }}}{L^{2} N} + \\frac{2 w_{1} \\left. \\frac{d}{d β} w{\\left(β \\right)} \\right|_{\\substack{ β=0 }}}{N}$"
      ],
      "text/plain": [
       "1.0*E0*t**2*Subs(Derivative(a(β), β), β, 0)/(L**2*N) + 2*w1*Subs(Derivative(w(β), β), β, 0)/N"
      ]
     },
     "execution_count": 352,
     "metadata": {},
     "output_type": "execute_result"
    }
   ],
   "source": [
    "ModelAnalysis(atls).criterion().simplify()"
   ]
  },
  {
   "cell_type": "code",
   "execution_count": 353,
   "metadata": {},
   "outputs": [
    {
     "data": {
      "text/latex": [
       "$\\displaystyle - \\frac{1.0 E_{0} t^{2} γ}{L^{2} N} + \\frac{2 w_{1}}{N}$"
      ],
      "text/plain": [
       "-1.0*E0*t**2*γ/(L**2*N) + 2*w1/N"
      ]
     },
     "execution_count": 353,
     "metadata": {},
     "output_type": "execute_result"
    }
   ],
   "source": [
    "(ModelAnalysis(atls).criterion()  \\\n",
    "    .replace(_a, model.model.a )    \\\n",
    "    .replace(_w, model.model.w).doit()).simplify()"
   ]
  },
  {
   "cell_type": "code",
   "execution_count": 354,
   "metadata": {},
   "outputs": [
    {
     "data": {
      "text/latex": [
       "$\\displaystyle \\frac{1 - w{\\left(α \\right)}}{\\left(γ - 1\\right) w{\\left(α \\right)} + 1}$"
      ],
      "text/plain": [
       "(1 - w(α))/((γ - 1)*w(α) + 1)"
      ]
     },
     "execution_count": 354,
     "metadata": {},
     "output_type": "execute_result"
    }
   ],
   "source": [
    "atls.a(sp.symbols('α'))"
   ]
  },
  {
   "cell_type": "code",
   "execution_count": 355,
   "metadata": {},
   "outputs": [
    {
     "data": {
      "text/latex": [
       "$\\displaystyle \\frac{1 - α}{α \\left(γ - 1\\right) + 1}$"
      ],
      "text/plain": [
       "(1 - α)/(α*(γ - 1) + 1)"
      ]
     },
     "execution_count": 355,
     "metadata": {},
     "output_type": "execute_result"
    }
   ],
   "source": [
    "atls.a(sp.symbols('α')).replace(sp.Function('w'), atls.w)"
   ]
  },
  {
   "cell_type": "code",
   "execution_count": 356,
   "metadata": {},
   "outputs": [
    {
     "data": {
      "text/latex": [
       "$\\displaystyle - \\frac{γ}{\\left(α γ - α + 1\\right)^{2}}$"
      ],
      "text/plain": [
       "-γ/(α*γ - α + 1)**2"
      ]
     },
     "execution_count": 356,
     "metadata": {},
     "output_type": "execute_result"
    }
   ],
   "source": [
    "atls.aprime().simplify()"
   ]
  },
  {
   "cell_type": "code",
   "execution_count": 357,
   "metadata": {},
   "outputs": [
    {
     "data": {
      "text/plain": [
       "[-1.4142135623731*L*sqrt(w1/(E0*γ)), 1.4142135623731*L*sqrt(w1/(E0*γ))]"
      ]
     },
     "execution_count": 357,
     "metadata": {},
     "output_type": "execute_result"
    }
   ],
   "source": [
    "model.critical_load()[0]"
   ]
  },
  {
   "cell_type": "code",
   "execution_count": 358,
   "metadata": {},
   "outputs": [
    {
     "data": {
      "text/plain": [
       "[0.282842712474619*sqrt(5)]"
      ]
     },
     "execution_count": 358,
     "metadata": {},
     "output_type": "execute_result"
    }
   ],
   "source": [
    "tc, criterion = model.critical_load(_matpar)\n",
    "tc"
   ]
  },
  {
   "cell_type": "code",
   "execution_count": 359,
   "metadata": {},
   "outputs": [
    {
     "data": {
      "text/latex": [
       "$\\displaystyle - \\frac{1.0 E_{0} t^{2} γ}{L^{2} N} + \\frac{2 w_{1}}{N}$"
      ],
      "text/plain": [
       "-1.0*E0*t**2*γ/(L**2*N) + 2*w1/N"
      ]
     },
     "execution_count": 359,
     "metadata": {},
     "output_type": "execute_result"
    }
   ],
   "source": [
    "criterion.simplify()"
   ]
  },
  {
   "cell_type": "code",
   "execution_count": 360,
   "metadata": {},
   "outputs": [
    {
     "data": {
      "text/plain": [
       "[N*t*s(α1)/(L*(s(α1) + s(α2))), N*t*s(α2)/(L*(s(α1) + s(α2)))]"
      ]
     },
     "execution_count": 360,
     "metadata": {},
     "output_type": "execute_result"
    }
   ],
   "source": [
    "model._equilirbrium_e()"
   ]
  },
  {
   "cell_type": "code",
   "execution_count": 361,
   "metadata": {},
   "outputs": [
    {
     "data": {
      "text/plain": [
       "{N: 2, γ: 5, E0: 1, w1: 1, L: 1}"
      ]
     },
     "execution_count": 361,
     "metadata": {},
     "output_type": "execute_result"
    }
   ],
   "source": [
    "_matpar"
   ]
  },
  {
   "cell_type": "code",
   "execution_count": 362,
   "metadata": {},
   "outputs": [
    {
     "data": {
      "text/latex": [
       "$\\displaystyle \\frac{N^{2} t^{2} \\left(s^{2}{\\left(α_{1} \\right)} + s^{2}{\\left(α_{2} \\right)}\\right)}{L^{2} \\left(s{\\left(α_{1} \\right)} + s{\\left(α_{2} \\right)}\\right)^{2}}$"
      ],
      "text/plain": [
       "N**2*t**2*(s(α1)**2 + s(α2)**2)/(L**2*(s(α1) + s(α2))**2)"
      ]
     },
     "execution_count": 362,
     "metadata": {},
     "output_type": "execute_result"
    }
   ],
   "source": [
    "sum([e**2 for e in model._equilirbrium_e()]).simplify()"
   ]
  },
  {
   "cell_type": "code",
   "execution_count": 363,
   "metadata": {},
   "outputs": [
    {
     "data": {
      "text/latex": [
       "$\\displaystyle \\frac{0.5 E_{0} N^{2} t^{2} + L^{2} w_{1} \\left(s{\\left(α_{1} \\right)} + s{\\left(α_{2} \\right)}\\right) \\left(w{\\left(α_{1} \\right)} + w{\\left(α_{2} \\right)}\\right)}{L^{2} N \\left(s{\\left(α_{1} \\right)} + s{\\left(α_{2} \\right)}\\right)}$"
      ],
      "text/plain": [
       "(0.5*E0*N**2*t**2 + L**2*w1*(s(α1) + s(α2))*(w(α1) + w(α2)))/(L**2*N*(s(α1) + s(α2)))"
      ]
     },
     "execution_count": 363,
     "metadata": {},
     "output_type": "execute_result"
    }
   ],
   "source": [
    "model.energy_fc_alpha()"
   ]
  },
  {
   "cell_type": "code",
   "execution_count": 364,
   "metadata": {},
   "outputs": [
    {
     "data": {
      "text/latex": [
       "$\\displaystyle \\frac{0.5 E_{0} N t^{2}}{L^{2} \\left(s{\\left(α_{1} \\right)} + s{\\left(α_{2} \\right)}\\right)}$"
      ],
      "text/plain": [
       "0.5*E0*N*t**2/(L**2*(s(α1) + s(α2)))"
      ]
     },
     "execution_count": 364,
     "metadata": {},
     "output_type": "execute_result"
    }
   ],
   "source": [
    "model._elastic_energy_fc_alpha().simplify()"
   ]
  },
  {
   "cell_type": "code",
   "execution_count": 365,
   "metadata": {},
   "outputs": [
    {
     "data": {
      "text/plain": [
       "({α1: α_t, α2: α_t}, {e1: e_t, e2: e_t})"
      ]
     },
     "execution_count": 365,
     "metadata": {},
     "output_type": "execute_result"
    }
   ],
   "source": [
    "subs_homog_α, subs_homog_e =  model._state_homog_substitutions()\n",
    "subs_homog_α, subs_homog_e"
   ]
  },
  {
   "cell_type": "code",
   "execution_count": 366,
   "metadata": {},
   "outputs": [
    {
     "data": {
      "text/plain": [
       "{α1: α_t, α2: α_t}"
      ]
     },
     "execution_count": 366,
     "metadata": {},
     "output_type": "execute_result"
    }
   ],
   "source": [
    "subs_homog_α"
   ]
  },
  {
   "cell_type": "code",
   "execution_count": 367,
   "metadata": {},
   "outputs": [
    {
     "data": {
      "text/latex": [
       "$\\displaystyle - \\frac{0.25 N t^{2} γ}{\\left(α_{t} γ - α_{t} + 1\\right)^{2}} + \\frac{2}{N}$"
      ],
      "text/plain": [
       "-0.25*N*t**2*γ/(α_t*γ - α_t + 1)**2 + 2/N"
      ]
     },
     "execution_count": 367,
     "metadata": {},
     "output_type": "execute_result"
    }
   ],
   "source": [
    "sp.diff(model.energy_fc_alpha().subs(subs_homog_α).subs(_normalise).simplify()  \\\n",
    "    .subs(sp.Function('s')(sp.Symbol('α_t')), 1/atls.a(sp.Symbol('α_t'))),\n",
    "    sp.Symbol('α_t')).simplify().replace(sp.Function('w'), atls.w).doit()\n",
    "    "
   ]
  },
  {
   "cell_type": "code",
   "execution_count": 368,
   "metadata": {},
   "outputs": [],
   "source": [
    "num, den = sp.fraction(sp.together(_))"
   ]
  },
  {
   "cell_type": "code",
   "execution_count": 369,
   "metadata": {},
   "outputs": [
    {
     "data": {
      "text/latex": [
       "$\\displaystyle - 0.125 N^{2} t^{2} + \\frac{\\left(α_{t} γ - α_{t} + 1\\right)^{2}}{γ}$"
      ],
      "text/plain": [
       "-0.125*N**2*t**2 + (α_t*γ - α_t + 1)**2/γ"
      ]
     },
     "execution_count": 369,
     "metadata": {},
     "output_type": "execute_result"
    }
   ],
   "source": [
    "(num / (2 * γ)).simplify()"
   ]
  },
  {
   "cell_type": "code",
   "execution_count": 370,
   "metadata": {},
   "outputs": [
    {
     "data": {
      "text/latex": [
       "$\\displaystyle 0.707106781186548 \\sqrt{2} t - 1.0$"
      ],
      "text/plain": [
       "0.707106781186548*sqrt(2)*t - 1.0"
      ]
     },
     "execution_count": 370,
     "metadata": {},
     "output_type": "execute_result"
    }
   ],
   "source": [
    "sp.solve(num, sp.symbols('α_t'))[1].subs({γ: 2}).subs(_matpar)"
   ]
  },
  {
   "cell_type": "code",
   "execution_count": 371,
   "metadata": {},
   "outputs": [
    {
     "ename": "IndexError",
     "evalue": "list index out of range",
     "output_type": "error",
     "traceback": [
      "\u001b[0;31m---------------------------------------------------------------------------\u001b[0m",
      "\u001b[0;31mIndexError\u001b[0m                                Traceback (most recent call last)",
      "Cell \u001b[0;32mIn[371], line 1\u001b[0m\n\u001b[0;32m----> 1\u001b[0m \u001b[43msp\u001b[49m\u001b[38;5;241;43m.\u001b[39;49m\u001b[43msolve\u001b[49m\u001b[43m(\u001b[49m\u001b[43m_\u001b[49m\u001b[43m,\u001b[49m\u001b[43m \u001b[49m\u001b[43msp\u001b[49m\u001b[38;5;241;43m.\u001b[39;49m\u001b[43mSymbol\u001b[49m\u001b[43m(\u001b[49m\u001b[38;5;124;43m'\u001b[39;49m\u001b[38;5;124;43mα_t\u001b[39;49m\u001b[38;5;124;43m'\u001b[39;49m\u001b[43m)\u001b[49m\u001b[43m)\u001b[49m\u001b[43m[\u001b[49m\u001b[38;5;241;43m1\u001b[39;49m\u001b[43m]\u001b[49m\u001b[38;5;241m.\u001b[39msimplify()\n",
      "\u001b[0;31mIndexError\u001b[0m: list index out of range"
     ]
    }
   ],
   "source": [
    "sp.solve(_, sp.Symbol('α_t'))[1].simplify()"
   ]
  },
  {
   "cell_type": "code",
   "execution_count": 372,
   "metadata": {},
   "outputs": [
    {
     "data": {
      "text/latex": [
       "$\\displaystyle 1.4142135623731 \\sqrt{2} t$"
      ],
      "text/plain": [
       "1.4142135623731*sqrt(2)*t"
      ]
     },
     "execution_count": 372,
     "metadata": {},
     "output_type": "execute_result"
    }
   ],
   "source": [
    "num, den = sp.fraction(_)\n",
    "num.args\n",
    "(num.args[-1]/den+ num.args[1]/den)"
   ]
  },
  {
   "cell_type": "code",
   "execution_count": 373,
   "metadata": {},
   "outputs": [
    {
     "data": {
      "text/latex": [
       "$\\displaystyle \\frac{0.25 E_{0} N t^{2}}{L^{2} s{\\left(α_{t} \\right)}} + \\frac{2 w_{1} w{\\left(α_{t} \\right)}}{N}$"
      ],
      "text/plain": [
       "0.25*E0*N*t**2/(L**2*s(α_t)) + 2*w1*w(α_t)/N"
      ]
     },
     "execution_count": 373,
     "metadata": {},
     "output_type": "execute_result"
    }
   ],
   "source": [
    "model.energy_fc_alpha().subs(subs_homog_α).simplify()"
   ]
  },
  {
   "cell_type": "code",
   "execution_count": 374,
   "metadata": {},
   "outputs": [
    {
     "data": {
      "text/latex": [
       "$\\displaystyle \\frac{0.5 t^{2}}{s{\\left(α_{t} \\right)}} + w{\\left(α_{t} \\right)}$"
      ],
      "text/plain": [
       "0.5*t**2/s(α_t) + w(α_t)"
      ]
     },
     "execution_count": 374,
     "metadata": {},
     "output_type": "execute_result"
    }
   ],
   "source": [
    "(model.energy_fc_alpha().subs(subs_homog_α)).subs(_matpar).simplify()"
   ]
  },
  {
   "cell_type": "code",
   "execution_count": 375,
   "metadata": {},
   "outputs": [
    {
     "data": {
      "text/latex": [
       "$\\displaystyle \\frac{- 0.5 t^{2} \\left(α_{t} - 1\\right) + α_{t} \\left(α_{t} \\left(γ - 1\\right) + 1\\right)}{α_{t} \\left(γ - 1\\right) + 1}$"
      ],
      "text/plain": [
       "(-0.5*t**2*(α_t - 1) + α_t*(α_t*(γ - 1) + 1))/(α_t*(γ - 1) + 1)"
      ]
     },
     "execution_count": 375,
     "metadata": {},
     "output_type": "execute_result"
    }
   ],
   "source": [
    "_energy = model.energy_fc_alpha()     \\\n",
    "    .replace(sp.Function('s'), atls.s)      \\\n",
    "        .replace(sp.Function('w'), atls.w)  \\\n",
    "            .subs(subs_homog_α).simplify()    \\\n",
    "                .subs(sp.symbols('N'), _N) \\\n",
    "        .doit().simplify()\n",
    "# .subs(subs_homog_α).subs(_matpar).simplify()\n",
    "\n",
    "_energy.subs(_normalise)"
   ]
  },
  {
   "cell_type": "code",
   "execution_count": 376,
   "metadata": {},
   "outputs": [
    {
     "data": {
      "text/latex": [
       "$\\displaystyle \\frac{0.5 t^{2}}{s{\\left(α_{t} \\right)}} + w{\\left(α_{t} \\right)}$"
      ],
      "text/plain": [
       "0.5*t**2/s(α_t) + w(α_t)"
      ]
     },
     "execution_count": 376,
     "metadata": {},
     "output_type": "execute_result"
    }
   ],
   "source": [
    "model.energy_fc_alpha()\n",
    "num, den = sp.fraction(model.energy_fc_alpha().subs(_normalise))\n",
    "_energy = (num.args[0]/den+ num.args[1]/den).subs(subs_homog_α).subs(sp.symbols('N'), _N).simplify() \n",
    "_energy"
   ]
  },
  {
   "cell_type": "code",
   "execution_count": 377,
   "metadata": {},
   "outputs": [
    {
     "data": {
      "text/latex": [
       "$\\displaystyle - \\frac{0.5 t^{2} \\frac{d}{d α_{t}} s{\\left(α_{t} \\right)}}{s^{2}{\\left(α_{t} \\right)}} + \\frac{d}{d α_{t}} w{\\left(α_{t} \\right)}$"
      ],
      "text/plain": [
       "-0.5*t**2*Derivative(s(α_t), α_t)/s(α_t)**2 + Derivative(w(α_t), α_t)"
      ]
     },
     "execution_count": 377,
     "metadata": {},
     "output_type": "execute_result"
    }
   ],
   "source": [
    "sp.diff(_energy, sp.symbols('α_t')).simplify()"
   ]
  },
  {
   "cell_type": "code",
   "execution_count": 378,
   "metadata": {},
   "outputs": [
    {
     "data": {
      "text/latex": [
       "$\\displaystyle - \\frac{γ \\frac{d}{d α} w{\\left(α \\right)}}{\\left(γ w{\\left(α \\right)} - w{\\left(α \\right)} + 1\\right)^{2}}$"
      ],
      "text/plain": [
       "-γ*Derivative(w(α), α)/(γ*w(α) - w(α) + 1)**2"
      ]
     },
     "execution_count": 378,
     "metadata": {},
     "output_type": "execute_result"
    }
   ],
   "source": [
    "sp.diff(atls.a(sp.symbols('α')), \n",
    "        sp.symbols('α')).doit().simplify()"
   ]
  },
  {
   "cell_type": "code",
   "execution_count": 379,
   "metadata": {},
   "outputs": [
    {
     "data": {
      "text/latex": [
       "$\\displaystyle \\frac{\\left(γ - 1\\right) \\left(0.5 t^{2} \\left(α_{t} - 1\\right) - α_{t} \\left(α_{t} \\left(γ - 1\\right) + 1\\right)\\right) + \\left(α_{t} \\left(γ - 1\\right) + 1\\right) \\left(- 0.5 t^{2} + 2 α_{t} \\left(γ - 1\\right) + 1\\right)}{\\left(α_{t} \\left(γ - 1\\right) + 1\\right)^{2}}$"
      ],
      "text/plain": [
       "((γ - 1)*(0.5*t**2*(α_t - 1) - α_t*(α_t*(γ - 1) + 1)) + (α_t*(γ - 1) + 1)*(-0.5*t**2 + 2*α_t*(γ - 1) + 1))/(α_t*(γ - 1) + 1)**2"
      ]
     },
     "execution_count": 379,
     "metadata": {},
     "output_type": "execute_result"
    }
   ],
   "source": [
    "sp.diff(_energy.replace(sp.Function('s'), atls.s)      \\\n",
    "    .replace(sp.Function('w'), atls.w).doit().simplify(), \n",
    "    sp.symbols('α_t')).simplify() \n",
    "    "
   ]
  },
  {
   "cell_type": "code",
   "execution_count": 380,
   "metadata": {},
   "outputs": [
    {
     "data": {
      "text/latex": [
       "$\\displaystyle - \\frac{0.5 t^{2} γ}{\\left(α_{t} γ - α_{t} + 1\\right)^{2}} + 1$"
      ],
      "text/plain": [
       "-0.5*t**2*γ/(α_t*γ - α_t + 1)**2 + 1"
      ]
     },
     "execution_count": 380,
     "metadata": {},
     "output_type": "execute_result"
    }
   ],
   "source": [
    "sp.diff(_energy, sp.symbols('α_t')).simplify() \\\n",
    "    .replace(sp.Function('s'), atls.s)      \\\n",
    "    .replace(sp.Function('w'), atls.w).doit().simplify()\n",
    "\n",
    "# sp.solve(_, sp.symbols('t')**2)"
   ]
  },
  {
   "cell_type": "code",
   "execution_count": 381,
   "metadata": {},
   "outputs": [
    {
     "data": {
      "text/latex": [
       "$\\displaystyle \\frac{0.5 t^{2}}{s{\\left(α_{t} \\right)}} + w{\\left(α_{t} \\right)}$"
      ],
      "text/plain": [
       "0.5*t**2/s(α_t) + w(α_t)"
      ]
     },
     "execution_count": 381,
     "metadata": {},
     "output_type": "execute_result"
    }
   ],
   "source": [
    "\n",
    "num, den = sp.fraction(_energy.subs(_normalise))\n",
    "_energy = num.args[0]/den+ num.args[1]/den\n",
    "_energy"
   ]
  },
  {
   "cell_type": "code",
   "execution_count": 382,
   "metadata": {},
   "outputs": [
    {
     "data": {
      "text/latex": [
       "$\\displaystyle - \\frac{0.5 t^{2} \\frac{d}{d α_{t}} s{\\left(α_{t} \\right)}}{s^{2}{\\left(α_{t} \\right)}} + \\frac{d}{d α_{t}} w{\\left(α_{t} \\right)}$"
      ],
      "text/plain": [
       "-0.5*t**2*Derivative(s(α_t), α_t)/s(α_t)**2 + Derivative(w(α_t), α_t)"
      ]
     },
     "execution_count": 382,
     "metadata": {},
     "output_type": "execute_result"
    }
   ],
   "source": [
    "_energy_deriv = sp.diff(_energy, sp.symbols('α_t')).simplify()\n",
    "_energy_deriv"
   ]
  },
  {
   "cell_type": "code",
   "execution_count": 383,
   "metadata": {},
   "outputs": [
    {
     "data": {
      "text/latex": [
       "$\\displaystyle \\frac{1.4142135623731 t γ^{\\frac{5}{2}} - 2.82842712474619 t γ^{\\frac{3}{2}} + 1.4142135623731 t \\sqrt{γ} - 2.0 γ^{2} + 4.0 γ - 2.0}{2.0 γ^{3} - 6.0 γ^{2} + 6.0 γ - 2.0}$"
      ],
      "text/plain": [
       "(1.4142135623731*t*γ**(5/2) - 2.82842712474619*t*γ**(3/2) + 1.4142135623731*t*sqrt(γ) - 2.0*γ**2 + 4.0*γ - 2.0)/(2.0*γ**3 - 6.0*γ**2 + 6.0*γ - 2.0)"
      ]
     },
     "execution_count": 383,
     "metadata": {},
     "output_type": "execute_result"
    }
   ],
   "source": [
    "sp.solve(_eq_alpha, sp.symbols('α_t'))[1].simplify()"
   ]
  },
  {
   "cell_type": "code",
   "execution_count": 384,
   "metadata": {},
   "outputs": [
    {
     "data": {
      "text/latex": [
       "$\\displaystyle \\frac{1.4142135623731 t γ^{\\frac{5}{2}} - 2.82842712474619 t γ^{\\frac{3}{2}} + 1.4142135623731 t \\sqrt{γ} - 2.0 γ^{2} + 4.0 γ - 2.0}{2.0 γ^{3} - 6.0 γ^{2} + 6.0 γ - 2.0}$"
      ],
      "text/plain": [
       "(1.4142135623731*t*γ**(5/2) - 2.82842712474619*t*γ**(3/2) + 1.4142135623731*t*sqrt(γ) - 2.0*γ**2 + 4.0*γ - 2.0)/(2.0*γ**3 - 6.0*γ**2 + 6.0*γ - 2.0)"
      ]
     },
     "execution_count": 384,
     "metadata": {},
     "output_type": "execute_result"
    }
   ],
   "source": [
    "sp.solve(_eq_alpha, sp.symbols('α_t'))[1].simplify().subs({E0: 1, w1: 1, L: 1})"
   ]
  },
  {
   "cell_type": "code",
   "execution_count": 386,
   "metadata": {},
   "outputs": [
    {
     "ename": "TypeError",
     "evalue": "ModelAnalysis._state_homog_substitutions() takes 1 positional argument but 2 were given",
     "output_type": "error",
     "traceback": [
      "\u001b[0;31m---------------------------------------------------------------------------\u001b[0m",
      "\u001b[0;31mTypeError\u001b[0m                                 Traceback (most recent call last)",
      "Cell \u001b[0;32mIn[386], line 1\u001b[0m\n\u001b[0;32m----> 1\u001b[0m \u001b[43mmodel\u001b[49m\u001b[38;5;241;43m.\u001b[39;49m\u001b[43mhomogeneous_α\u001b[49m\u001b[43m(\u001b[49m\u001b[43m_matpar\u001b[49m\u001b[43m)\u001b[49m\n",
      "Cell \u001b[0;32mIn[270], line 219\u001b[0m, in \u001b[0;36mModelAnalysis.homogeneous_α\u001b[0;34m(self, state, matpar)\u001b[0m\n\u001b[1;32m    212\u001b[0m     \u001b[38;5;28;01mreturn\u001b[39;00m [\n\u001b[1;32m    213\u001b[0m         sol\u001b[38;5;241m.\u001b[39msubs(matpar)\n\u001b[1;32m    214\u001b[0m         \u001b[38;5;28;01mfor\u001b[39;00m sol \u001b[38;5;129;01min\u001b[39;00m \u001b[38;5;28mlist\u001b[39m(\n\u001b[1;32m    215\u001b[0m             \u001b[38;5;28mmap\u001b[39m(sp\u001b[38;5;241m.\u001b[39msimplify, sp\u001b[38;5;241m.\u001b[39msolve(\u001b[38;5;28mself\u001b[39m\u001b[38;5;241m.\u001b[39mevo_α(state, matpar), αt))\n\u001b[1;32m    216\u001b[0m         )\n\u001b[1;32m    217\u001b[0m     ]\n\u001b[1;32m    218\u001b[0m \u001b[38;5;28;01melse\u001b[39;00m:\n\u001b[0;32m--> 219\u001b[0m     \u001b[38;5;28;01mreturn\u001b[39;00m \u001b[38;5;28mlist\u001b[39m(\u001b[38;5;28mmap\u001b[39m(sp\u001b[38;5;241m.\u001b[39msimplify, sp\u001b[38;5;241m.\u001b[39msolve(\u001b[38;5;28;43mself\u001b[39;49m\u001b[38;5;241;43m.\u001b[39;49m\u001b[43mevo_α\u001b[49m\u001b[43m(\u001b[49m\u001b[43mstate\u001b[49m\u001b[43m)\u001b[49m, αt)))\n",
      "Cell \u001b[0;32mIn[270], line 242\u001b[0m, in \u001b[0;36mModelAnalysis.evo_α\u001b[0;34m(self, state, matpar)\u001b[0m\n\u001b[1;32m    239\u001b[0m _a \u001b[38;5;241m=\u001b[39m sp\u001b[38;5;241m.\u001b[39mFunction(\u001b[38;5;124m\"\u001b[39m\u001b[38;5;124ma\u001b[39m\u001b[38;5;124m\"\u001b[39m)\n\u001b[1;32m    240\u001b[0m \u001b[38;5;66;03m# _w = sp.Function('w')\u001b[39;00m\n\u001b[0;32m--> 242\u001b[0m subs_homog_α, _ \u001b[38;5;241m=\u001b[39m \u001b[38;5;28;43mself\u001b[39;49m\u001b[38;5;241;43m.\u001b[39;49m\u001b[43m_state_homog_substitutions\u001b[49m\u001b[43m(\u001b[49m\u001b[43mstate\u001b[49m\u001b[43m)\u001b[49m\n\u001b[1;32m    244\u001b[0m energy \u001b[38;5;241m=\u001b[39m (\n\u001b[1;32m    245\u001b[0m     \u001b[38;5;28mself\u001b[39m\u001b[38;5;241m.\u001b[39menergy_fc_alpha()\n\u001b[1;32m    246\u001b[0m     \u001b[38;5;241m.\u001b[39msubs(subs_homog_α)\n\u001b[0;32m   (...)\u001b[0m\n\u001b[1;32m    249\u001b[0m     \u001b[38;5;241m.\u001b[39mdoit()\n\u001b[1;32m    250\u001b[0m )\n\u001b[1;32m    252\u001b[0m \u001b[38;5;28;01mif\u001b[39;00m matpar:\n",
      "\u001b[0;31mTypeError\u001b[0m: ModelAnalysis._state_homog_substitutions() takes 1 positional argument but 2 were given"
     ]
    }
   ],
   "source": [
    "model.homogeneous_α(_matpar)\n"
   ]
  },
  {
   "cell_type": "code",
   "execution_count": 32,
   "metadata": {},
   "outputs": [],
   "source": [
    "_a = sp.Function('a')\n",
    "_w = sp.Function('w')\n",
    "_s = sp.Function('s')\n"
   ]
  },
  {
   "cell_type": "code",
   "execution_count": 33,
   "metadata": {},
   "outputs": [
    {
     "data": {
      "text/plain": [
       "(s(α1), 1.0*((γ - 1)*w(α1) + 1)/(1 - w(α1)))"
      ]
     },
     "execution_count": 33,
     "metadata": {},
     "output_type": "execute_result"
    }
   ],
   "source": [
    "# Keeping track of both symboilic and explicit expressions\n",
    "\n",
    "atls._s(α[0]), atls.s(α[0])"
   ]
  },
  {
   "cell_type": "code",
   "execution_count": 34,
   "metadata": {},
   "outputs": [
    {
     "data": {
      "text/latex": [
       "$\\displaystyle \\frac{w_{1} w{\\left(α_{1} \\right)} + w_{1} w{\\left(α_{2} \\right)} + w_{1} w{\\left(α_{3} \\right)}}{N} + \\frac{0.5 E_{0} e_{1}^{2} a{\\left(α_{1} \\right)} + 0.5 E_{0} e_{2}^{2} a{\\left(α_{2} \\right)} + 0.5 E_{0} e_{3}^{2} a{\\left(α_{3} \\right)}}{N}$"
      ],
      "text/plain": [
       "(w1*w(α1) + w1*w(α2) + w1*w(α3))/N + (0.5*E0*e1**2*a(α1) + 0.5*E0*e2**2*a(α2) + 0.5*E0*e3**2*a(α3))/N"
      ]
     },
     "execution_count": 34,
     "metadata": {},
     "output_type": "execute_result"
    }
   ],
   "source": [
    "atls.energy(state)"
   ]
  },
  {
   "cell_type": "code",
   "execution_count": 35,
   "metadata": {},
   "outputs": [
    {
     "data": {
      "text/latex": [
       "$\\displaystyle \\frac{w_{1} w{\\left(α_{1} \\right)} + w_{1} w{\\left(α_{2} \\right)} + w_{1} w{\\left(α_{3} \\right)}}{N} + \\frac{0.5 E_{0} e_{1}^{2} a{\\left(α_{1} \\right)} + 0.5 E_{0} e_{2}^{2} a{\\left(α_{2} \\right)} + 0.5 E_{0} e_{3}^{2} a{\\left(α_{3} \\right)}}{N}$"
      ],
      "text/plain": [
       "(w1*w(α1) + w1*w(α2) + w1*w(α3))/N + (0.5*E0*e1**2*a(α1) + 0.5*E0*e2**2*a(α2) + 0.5*E0*e3**2*a(α3))/N"
      ]
     },
     "execution_count": 35,
     "metadata": {},
     "output_type": "execute_result"
    }
   ],
   "source": [
    "model.model.energy(state)\n",
    "\n",
    "# _homogeneous_damage = {a: β for a in state[\"α\"]}\n",
    "# _homogeneous_strain = {e: model._e for e in state[\"e\"]}\n",
    "# _homogeneous_damage, _homogeneous_strain\n"
   ]
  },
  {
   "cell_type": "code",
   "execution_count": 36,
   "metadata": {},
   "outputs": [],
   "source": [
    "_sound = {a: 0 for a in state[\"α\"]}"
   ]
  },
  {
   "cell_type": "code",
   "execution_count": 37,
   "metadata": {},
   "outputs": [
    {
     "data": {
      "text/plain": [
       "{α1: 0, α2: 0, α3: 0}"
      ]
     },
     "execution_count": 37,
     "metadata": {},
     "output_type": "execute_result"
    }
   ],
   "source": [
    "_sound"
   ]
  },
  {
   "cell_type": "markdown",
   "metadata": {},
   "source": [
    "## Model Analysis\n",
    "\n",
    "- (constitutive assumptions)\n",
    "- equilibrium\n",
    "- homogeneous solution\n",
    "- homogeneous energy\n",
    "- bifurcations\n",
    "- stability"
   ]
  },
  {
   "cell_type": "code",
   "execution_count": 252,
   "metadata": {},
   "outputs": [
    {
     "data": {
      "text/latex": [
       "$\\displaystyle 0.125 t^{2} \\left. \\frac{d}{d β} a{\\left(β \\right)} \\right|_{\\substack{ β=0 }} + \\left. \\frac{d}{d β} w{\\left(β \\right)} \\right|_{\\substack{ β=0 }}$"
      ],
      "text/plain": [
       "0.125*t**2*Subs(Derivative(a(β), β), β, 0) + Subs(Derivative(w(β), β), β, 0)"
      ]
     },
     "execution_count": 252,
     "metadata": {},
     "output_type": "execute_result"
    }
   ],
   "source": [
    "atls = SymbolicDiscreteDamage(matpar, _N)\n",
    "model = ModelAnalysis(atls)\n",
    "(model.criterion()).subs(_matpar)"
   ]
  },
  {
   "cell_type": "markdown",
   "metadata": {},
   "source": [
    "### homogeneous solution"
   ]
  },
  {
   "cell_type": "code",
   "execution_count": 186,
   "metadata": {},
   "outputs": [
    {
     "data": {
      "text/plain": [
       "{e1: N*t*s(α1)/(L*(s(α1) + s(α2))), e2: N*t*s(α2)/(L*(s(α1) + s(α2)))}"
      ]
     },
     "execution_count": 186,
     "metadata": {},
     "output_type": "execute_result"
    }
   ],
   "source": [
    "_ei = model._equilirbrium_e()\n",
    "# state = model.state\n",
    "equilibrium_subs = {v[0]: v[1] for v in zip(state[\"e\"], _ei)}\n",
    "# \n",
    "# return self.model.energy(state).subs(equilibrium_subs)\n",
    "# _ei, state, \n",
    "equilibrium_subs"
   ]
  },
  {
   "cell_type": "code",
   "execution_count": 187,
   "metadata": {},
   "outputs": [
    {
     "data": {
      "text/latex": [
       "$\\displaystyle \\frac{0.5 E_{0} N^{2} t^{2} + L^{2} w_{1} \\left(s{\\left(α_{1} \\right)} + s{\\left(α_{2} \\right)}\\right) \\left(w{\\left(α_{1} \\right)} + w{\\left(α_{2} \\right)}\\right)}{L^{2} N \\left(s{\\left(α_{1} \\right)} + s{\\left(α_{2} \\right)}\\right)}$"
      ],
      "text/plain": [
       "(0.5*E0*N**2*t**2 + L**2*w1*(s(α1) + s(α2))*(w(α1) + w(α2)))/(L**2*N*(s(α1) + s(α2)))"
      ]
     },
     "execution_count": 187,
     "metadata": {},
     "output_type": "execute_result"
    }
   ],
   "source": [
    "_ealpha = model.energy_fc_alpha().simplify()\n",
    "# \\\n",
    "# .subs(subs_homog_α)\n",
    "\n",
    "_ealpha"
   ]
  },
  {
   "cell_type": "code",
   "execution_count": 188,
   "metadata": {},
   "outputs": [
    {
     "data": {
      "text/plain": [
       "{N: 2, γ: 5, E0: 1, w1: 1, L: 1}"
      ]
     },
     "execution_count": 188,
     "metadata": {},
     "output_type": "execute_result"
    }
   ],
   "source": [
    "_matpar"
   ]
  },
  {
   "cell_type": "code",
   "execution_count": 189,
   "metadata": {},
   "outputs": [
    {
     "data": {
      "text/latex": [
       "$\\displaystyle 0.5 E_{0} N^{2} t^{2} + L^{2} w_{1} \\left(s{\\left(α_{1} \\right)} + s{\\left(α_{2} \\right)}\\right) \\left(w{\\left(α_{1} \\right)} + w{\\left(α_{2} \\right)}\\right)$"
      ],
      "text/plain": [
       "0.5*E0*N**2*t**2 + L**2*w1*(s(α1) + s(α2))*(w(α1) + w(α2))"
      ]
     },
     "execution_count": 189,
     "metadata": {},
     "output_type": "execute_result"
    }
   ],
   "source": [
    "num, den = sp.fraction(_ealpha)\n",
    "\n",
    "num.simplify()\n"
   ]
  },
  {
   "cell_type": "code",
   "execution_count": 190,
   "metadata": {},
   "outputs": [
    {
     "data": {
      "text/latex": [
       "$\\displaystyle L^{2} N \\left(s{\\left(α_{1} \\right)} + s{\\left(α_{2} \\right)}\\right)$"
      ],
      "text/plain": [
       "L**2*N*(s(α1) + s(α2))"
      ]
     },
     "execution_count": 190,
     "metadata": {},
     "output_type": "execute_result"
    }
   ],
   "source": [
    "den"
   ]
  },
  {
   "cell_type": "code",
   "execution_count": 44,
   "metadata": {},
   "outputs": [
    {
     "data": {
      "text/latex": [
       "$\\displaystyle \\frac{- 0.166666666666667 E_{0} N^{2} t^{2} γ + 3.0 L^{2} w_{1} α_{t}^{2} γ^{2} - 6.0 L^{2} w_{1} α_{t}^{2} γ + 3.0 L^{2} w_{1} α_{t}^{2} + 6.0 L^{2} w_{1} α_{t} γ - 6.0 L^{2} w_{1} α_{t} + 3.0 L^{2} w_{1}}{L^{2} N \\left(1.0 α_{t}^{2} γ^{2} - 2.0 α_{t}^{2} γ + 1.0 α_{t}^{2} + 2.0 α_{t} γ - 2.0 α_{t} + 1.0\\right)}$"
      ],
      "text/plain": [
       "(-0.166666666666667*E0*N**2*t**2*γ + 3.0*L**2*w1*α_t**2*γ**2 - 6.0*L**2*w1*α_t**2*γ + 3.0*L**2*w1*α_t**2 + 6.0*L**2*w1*α_t*γ - 6.0*L**2*w1*α_t + 3.0*L**2*w1)/(L**2*N*(1.0*α_t**2*γ**2 - 2.0*α_t**2*γ + 1.0*α_t**2 + 2.0*α_t*γ - 2.0*α_t + 1.0))"
      ]
     },
     "execution_count": 44,
     "metadata": {},
     "output_type": "execute_result"
    }
   ],
   "source": [
    "model.evo_α(state)"
   ]
  },
  {
   "cell_type": "markdown",
   "metadata": {},
   "source": [
    "### Evolution equation for alpha in general"
   ]
  },
  {
   "cell_type": "code",
   "execution_count": 45,
   "metadata": {},
   "outputs": [
    {
     "data": {
      "text/latex": [
       "$\\displaystyle \\frac{- 0.166666666666667 E_{0} N^{2} t^{2} γ + 3.0 L^{2} w_{1} α_{t}^{2} γ^{2} - 6.0 L^{2} w_{1} α_{t}^{2} γ + 3.0 L^{2} w_{1} α_{t}^{2} + 6.0 L^{2} w_{1} α_{t} γ - 6.0 L^{2} w_{1} α_{t} + 3.0 L^{2} w_{1}}{L^{2} N \\left(1.0 α_{t}^{2} γ^{2} - 2.0 α_{t}^{2} γ + 1.0 α_{t}^{2} + 2.0 α_{t} γ - 2.0 α_{t} + 1.0\\right)}$"
      ],
      "text/plain": [
       "(-0.166666666666667*E0*N**2*t**2*γ + 3.0*L**2*w1*α_t**2*γ**2 - 6.0*L**2*w1*α_t**2*γ + 3.0*L**2*w1*α_t**2 + 6.0*L**2*w1*α_t*γ - 6.0*L**2*w1*α_t + 3.0*L**2*w1)/(L**2*N*(1.0*α_t**2*γ**2 - 2.0*α_t**2*γ + 1.0*α_t**2 + 2.0*α_t*γ - 2.0*α_t + 1.0))"
      ]
     },
     "execution_count": 45,
     "metadata": {},
     "output_type": "execute_result"
    }
   ],
   "source": [
    "model.evo_α(state)"
   ]
  },
  {
   "cell_type": "code",
   "execution_count": 46,
   "metadata": {},
   "outputs": [
    {
     "data": {
      "text/plain": [
       "[(-L*w1 - 0.235702260395516*N*t*sqrt(E0*w1*γ))/(L*w1*(γ - 1.0)),\n",
       " (-L*w1 + 0.235702260395516*N*t*sqrt(E0*w1*γ))/(L*w1*(γ - 1.0))]"
      ]
     },
     "execution_count": 46,
     "metadata": {},
     "output_type": "execute_result"
    }
   ],
   "source": [
    "model.homogeneous_α(state)"
   ]
  },
  {
   "cell_type": "code",
   "execution_count": 47,
   "metadata": {},
   "outputs": [
    {
     "data": {
      "text/plain": [
       "[-0.395284707521047*t - 0.25, 0.395284707521047*t - 0.25]"
      ]
     },
     "execution_count": 47,
     "metadata": {},
     "output_type": "execute_result"
    }
   ],
   "source": [
    "model.homogeneous_α(state, _matpar)"
   ]
  },
  {
   "cell_type": "code",
   "execution_count": 48,
   "metadata": {},
   "outputs": [
    {
     "data": {
      "text/plain": [
       "1"
      ]
     },
     "execution_count": 48,
     "metadata": {},
     "output_type": "execute_result"
    }
   ],
   "source": [
    "idx = model.positive_solution_wrt_t(_matpar)\n",
    "idx"
   ]
  },
  {
   "cell_type": "code",
   "execution_count": 49,
   "metadata": {},
   "outputs": [
    {
     "data": {
      "text/latex": [
       "$\\displaystyle 0.176776695296637 \\sqrt{5} t - 0.25$"
      ],
      "text/plain": [
       "0.176776695296637*sqrt(5)*t - 0.25"
      ]
     },
     "execution_count": 49,
     "metadata": {},
     "output_type": "execute_result"
    }
   ],
   "source": [
    "sp.simplify(model.homogeneous_α(_matpar)[idx]).subs(_matpar)"
   ]
  },
  {
   "cell_type": "markdown",
   "metadata": {},
   "source": [
    "### Homogeneous varying N"
   ]
  },
  {
   "cell_type": "code",
   "execution_count": 50,
   "metadata": {},
   "outputs": [
    {
     "name": "stdout",
     "output_type": "stream",
     "text": [
      "{N: 1, γ: 2, E0: 1, w1: 1, L: 1}\n",
      "0.707106781186548*sqrt(2)*t - 1.0\n",
      "0.530330085889911*sqrt(5)*t - 0.25\n",
      "{N: 2, γ: 2, E0: 1, w1: 1, L: 1}\n",
      "0.707106781186548*sqrt(2)*t - 1.0\n",
      "0.265165042944955*sqrt(5)*t - 0.25\n",
      "{N: 3, γ: 2, E0: 1, w1: 1, L: 1}\n",
      "0.707106781186547*sqrt(2)*t - 1.0\n",
      "0.176776695296637*sqrt(5)*t - 0.25\n",
      "{N: 4, γ: 2, E0: 1, w1: 1, L: 1}\n",
      "0.707106781186548*sqrt(2)*t - 1.0\n",
      "0.132582521472478*sqrt(5)*t - 0.25\n"
     ]
    }
   ],
   "source": [
    "\n",
    "\n",
    "for _N in range(1, 5):\n",
    "    u = sp.symbols([f\"u{i}\" for i in range(0, _N)])\n",
    "    e = sp.symbols([f\"e{i}\" for i in range(1, _N+1)])\n",
    "    α = sp.symbols([f\"α{i}\" for i in range(1, _N+1)])\n",
    "    _α = sp.symbols(\"α\")\n",
    "\n",
    "\n",
    "    state = {\"u\": u, \"α\": α, \"e\": e}\n",
    "    _matpar_range = {N: _N, γ: 2, E0: 1, w1: 1, L: 1}\n",
    "    atls = SymbolicDiscreteDamage(state, matpar)\n",
    "\n",
    "    model = ModelAnalysis(atls)\n",
    "    print(_matpar_range)\n",
    "    idx = model.positive_solution_wrt_t(_matpar_range)\n",
    "\n",
    "    print(sp.simplify(model.homogeneous_α(_matpar_range)[idx]).subs(_matpar_range))\n",
    "    evos = [evo.subs(_matpar) for evo in model.homogeneous_α(_matpar_range)]\n",
    "    evo_x = evos[idx].subs(_matpar_range)\n",
    "    \n",
    "    print(evo_x)"
   ]
  },
  {
   "cell_type": "code",
   "execution_count": 51,
   "metadata": {},
   "outputs": [
    {
     "name": "stdout",
     "output_type": "stream",
     "text": [
      "{N: 1, γ: 5, E0: 1, w1: 1, L: 1}\n",
      "{N: 2, γ: 5, E0: 1, w1: 1, L: 1}\n",
      "{N: 3, γ: 5, E0: 1, w1: 1, L: 1}\n",
      "{N: 4, γ: 5, E0: 1, w1: 1, L: 1}\n"
     ]
    },
    {
     "data": {
      "text/plain": [
       "<matplotlib.legend.Legend at 0x169924b10>"
      ]
     },
     "execution_count": 51,
     "metadata": {},
     "output_type": "execute_result"
    },
    {
     "data": {
      "image/png": "[encoded data removed]",
      "text/plain": [
       "<Figure size 800x600 with 1 Axes>"
      ]
     },
     "metadata": {},
     "output_type": "display_data"
    }
   ],
   "source": [
    "N = sp.symbols(\"N\")\n",
    "t = sp.symbols('t')\n",
    "_a = sp.Function('a')\n",
    "_w = sp.Function('w')\n",
    "γ = sp.symbols('γ')\n",
    "E0, L, w1, σc = sp.symbols('E0 L w1 σc')\n",
    "β = sp.symbols('β')\n",
    "\n",
    "\n",
    "fig, ax = plt.subplots(1, 1, figsize=(8, 6))\n",
    "\n",
    "\n",
    "for _N in range(1, 5):\n",
    "    u = sp.symbols([f\"u{i}\" for i in range(0, _N)])\n",
    "    e = sp.symbols([f\"e{i}\" for i in range(1, _N+1)])\n",
    "    α = sp.symbols([f\"α{i}\" for i in range(1, _N+1)])\n",
    "    _α = sp.symbols(\"α\")\n",
    "\n",
    "\n",
    "    state = {\"u\": u, \"α\": α, \"e\": e}\n",
    "    # _matpar = {N: _N, γ: 2, E0: 1, w1: 1, L: 1}\n",
    "    _matpar.update({N: _N})\n",
    "    # matpar = {\"N\": N, \"γ\": γ, \"E0\": E0, \"w1\": w1, \"L\": L}\n",
    "    _loads = np.linspace(0., float(γ.subs(_matpar)), 30)\n",
    "\n",
    "    atls = SymbolicDiscreteDamage(state, matpar)\n",
    "    model = ModelAnalysis(atls)\n",
    "    idx = model.positive_solution_wrt_t(_matpar)\n",
    "\n",
    "    print(_matpar)\n",
    "    evos = [evo.subs(_matpar) for evo in model.homogeneous_α(_matpar)]\n",
    "    evo_x = evos[idx].subs(_matpar)\n",
    "\n",
    "    for alphas in evos:\n",
    "        _f = sp.lambdify(t, alphas.subs(_matpar_range), 'numpy')\n",
    "        plt.plot(_loads, _f(_loads), c='k')\n",
    "\n",
    "    _f = sp.lambdify(t, evo_x, 'numpy')\n",
    "    ax.plot(_loads, _f(_loads), c='k', lw=5, label=f\"$dot \\\\alpha_N \\geq 0, N={_N}$\")\n",
    "\n",
    "\n",
    "ax.axhline(0, c='k')\n",
    "ax.legend()\n",
    "    "
   ]
  },
  {
   "cell_type": "code",
   "execution_count": 52,
   "metadata": {},
   "outputs": [
    {
     "data": {
      "text/plain": [
       "Text(0.5, 0, 't')"
      ]
     },
     "execution_count": 52,
     "metadata": {},
     "output_type": "execute_result"
    },
    {
     "data": {
      "image/png": "[encoded data removed]",
      "text/plain": [
       "<Figure size 800x600 with 1 Axes>"
      ]
     },
     "metadata": {},
     "output_type": "display_data"
    }
   ],
   "source": [
    "fig, ax = plt.subplots(1, 1, figsize=(8, 6))\n",
    "\n",
    "for _N in range(1, 5):\n",
    "    u = sp.symbols([f\"u{i}\" for i in range(0, _N)])\n",
    "    e = sp.symbols([f\"e{i}\" for i in range(1, _N+1)])\n",
    "    α = sp.symbols([f\"α{i}\" for i in range(1, _N+1)])\n",
    "    _α = sp.symbols(\"α\")\n",
    "\n",
    "\n",
    "    state = {\"u\": u, \"α\": α, \"e\": e}\n",
    "    _matpar.update({N: _N})\n",
    "    _loads = np.linspace(0., float(γ.subs(_matpar)), 30)\n",
    "\n",
    "    atls = SymbolicDiscreteDamage(state, matpar)\n",
    "    model = ModelAnalysis(atls)\n",
    "\n",
    "    subs_homog_α, subs_homog_e =  model._state_homog_substitutions(state)\n",
    "    alpha = model.homogeneous_damage(state, _matpar)\n",
    "\n",
    "    _en = model.energy_fc_alpha().subs(subs_homog_α)    \\\n",
    "                .subs(_matpar) \\\n",
    "                .replace(_a, model.model.a) \\\n",
    "                .replace(sp.Function('s'), atls.s)      \\\n",
    "                .replace(_w, model.model.w)  \\\n",
    "                .subs(_matpar)          \\\n",
    "        .subs({sp.symbols('α_t'): alpha})\n",
    "\n",
    "    _energy_damage = model.model._damage(state).subs(subs_homog_α).subs(_matpar) \\\n",
    "                .replace(_w, model.model.w)  \\\n",
    "                .subs({sp.symbols('α_t'): alpha})\n",
    "\n",
    "    _f = sp.lambdify(t, _en.subs(_matpar), 'numpy')\n",
    "    _f1 = sp.lambdify(t, _energy_damage, 'numpy')\n",
    "    ax.plot(_loads, _f(_loads), label=f'N = {_N}, total', lw=3, c='C'+str(_N))\n",
    "    ax.plot(_loads, _f1(_loads), c='k', label=f'N = {_N}, damage')\n",
    "    ax.plot(_loads, _f(_loads)-_f1(_loads), c='k', label=f'N = {_N}, elastic')\n",
    "\n",
    "ax.legend()\n",
    "ax.set_ylabel('Energy')\n",
    "ax.set_xlabel('t')\n",
    "# plt.savefig(os.path.join(output_dir, 'Energy-homogeneous_damage-crit.png'))"
   ]
  },
  {
   "cell_type": "markdown",
   "metadata": {},
   "source": [
    "### Plots of homogeneous response"
   ]
  },
  {
   "cell_type": "code",
   "execution_count": 686,
   "metadata": {},
   "outputs": [
    {
     "data": {
      "text/plain": [
       "{'u': [u0, u1], 'α': [α1, α2], 'e': [e1, e2]}"
      ]
     },
     "execution_count": 686,
     "metadata": {},
     "output_type": "execute_result"
    }
   ],
   "source": [
    "_matpar = {N: 2, γ: 2, E0: 1, w1: 1, L: 1}\n",
    "\n",
    "# _matpar[N]\n",
    "model.get_state(_matpar)"
   ]
  },
  {
   "cell_type": "code",
   "execution_count": 687,
   "metadata": {},
   "outputs": [
    {
     "data": {
      "text/plain": [
       "({α1: α_t, α2: α_t}, {e1: e_t, e2: e_t})"
      ]
     },
     "execution_count": 687,
     "metadata": {},
     "output_type": "execute_result"
    }
   ],
   "source": [
    "subs_homog_α, subs_homog_e =  model._state_homog_substitutions(state)\n",
    "\n",
    "# Substitutions to compute homogeneous solutions\n",
    "subs_homog_α, subs_homog_e"
   ]
  },
  {
   "cell_type": "code",
   "execution_count": 688,
   "metadata": {},
   "outputs": [
    {
     "data": {
      "text/latex": [
       "$\\displaystyle 0.707106781186548 \\sqrt{2} t - 1.0$"
      ],
      "text/plain": [
       "0.707106781186548*sqrt(2)*t - 1.0"
      ]
     },
     "execution_count": 688,
     "metadata": {},
     "output_type": "execute_result"
    }
   ],
   "source": [
    "evos = [evo.subs(_matpar) for evo in model.homogeneous_α(_matpar)]\n",
    "idx = model.positive_solution_wrt_t(_matpar)\n",
    "\n",
    "evos[idx].subs(_matpar)"
   ]
  },
  {
   "cell_type": "code",
   "execution_count": 689,
   "metadata": {},
   "outputs": [
    {
     "data": {
      "image/png": "[encoded data removed]",
      "text/plain": [
       "<Figure size 640x480 with 1 Axes>"
      ]
     },
     "metadata": {},
     "output_type": "display_data"
    }
   ],
   "source": [
    "evos = [evo.subs(_matpar) for evo in model.homogeneous_α(_matpar)]\n",
    "_loads = np.linspace(0., float(γ.subs(_matpar)), 30)\n",
    "evo_x = evos[idx].subs(_matpar)\n",
    "\n",
    "for alphas in evos:\n",
    "    _f = sp.lambdify(t, alphas.subs(_matpar), 'numpy')\n",
    "    plt.plot(_loads, _f(_loads), c='k')\n",
    "\n",
    "_f = sp.lambdify(t, evo_x, 'numpy')\n",
    "plt.plot(_loads, _f(_loads), c='k', lw=3)\n",
    "\n",
    "plt.xlabel('t')\n",
    "plt.ylabel('$\\\\alpha$')\n",
    "plt.xticks([0, 1], ['0', '$t_c$'])\n",
    "plt.yticks([-1, 0, 1])\n",
    "plt.axhline(0, c='k')\n",
    "plt.savefig('homogeneous_damage-crit.png')"
   ]
  },
  {
   "cell_type": "code",
   "execution_count": 690,
   "metadata": {},
   "outputs": [
    {
     "data": {
      "image/png": "[encoded data removed]",
      "text/plain": [
       "<Figure size 800x600 with 1 Axes>"
      ]
     },
     "metadata": {},
     "output_type": "display_data"
    }
   ],
   "source": [
    "alpha = model.homogeneous_damage(state, _matpar)\n",
    "figure, axis = plt.subplots(1, 1, figsize=(8, 6))\n",
    "\n",
    "_f = sp.lambdify(t, alpha.subs(_matpar), 'numpy')\n",
    "axis.plot(_loads, _f(_loads), c='k', lw=3)\n",
    "\n",
    "plt.axhline(0, c='k')\n",
    "plt.xlabel('t')\n",
    "plt.ylabel('$\\\\alpha$')\n",
    "plt.xticks([0, 1], ['0', '$t_c$'])\n",
    "plt.yticks([0, 1])\n",
    "\n",
    "for key, spine in axis.spines.items():\n",
    "    spine.set_visible(False)\n",
    "    \n",
    "    \n",
    "plt.savefig(os.path.join(output_dir, 'homogeneous_damage-crit.png'))"
   ]
  },
  {
   "cell_type": "code",
   "execution_count": 691,
   "metadata": {},
   "outputs": [
    {
     "data": {
      "text/latex": [
       "$\\displaystyle \\frac{0.25 \\cdot \\left(1 - α_{t}\\right) \\left(2.0 t^{2} + \\frac{4.0 α_{t} \\left(α_{t} + 1\\right)}{1 - α_{t}}\\right)}{α_{t} + 1}$"
      ],
      "text/plain": [
       "0.25*(1 - α_t)*(2.0*t**2 + 4.0*α_t*(α_t + 1)/(1 - α_t))/(α_t + 1)"
      ]
     },
     "execution_count": 691,
     "metadata": {},
     "output_type": "execute_result"
    }
   ],
   "source": [
    "_en = model.energy_fc_alpha().subs(subs_homog_α)    \\\n",
    "            .subs(_matpar) \\\n",
    "            .replace(_a, model.model.a) \\\n",
    "            .replace(sp.Function('s'), atls.s)      \\\n",
    "            .replace(_w, model.model.w)  \\\n",
    "            .subs(_matpar)\n",
    "_en"
   ]
  },
  {
   "cell_type": "code",
   "execution_count": 692,
   "metadata": {},
   "outputs": [
    {
     "data": {
      "text/plain": [
       "{N: 2, γ: 2, E0: 1, w1: 1, L: 1}"
      ]
     },
     "execution_count": 692,
     "metadata": {},
     "output_type": "execute_result"
    }
   ],
   "source": [
    "_matpar"
   ]
  },
  {
   "cell_type": "code",
   "execution_count": 1003,
   "metadata": {},
   "outputs": [
    {
     "ename": "TypeError",
     "evalue": "'Add' object is not callable",
     "output_type": "error",
     "traceback": [
      "\u001b[0;31m---------------------------------------------------------------------------\u001b[0m",
      "\u001b[0;31mTypeError\u001b[0m                                 Traceback (most recent call last)",
      "Cell \u001b[0;32mIn[1003], line 1\u001b[0m\n\u001b[0;32m----> 1\u001b[0m \u001b[43mmodel\u001b[49m\u001b[38;5;241;43m.\u001b[39;49m\u001b[43menergy_fc_alpha\u001b[49m\u001b[43m(\u001b[49m\u001b[43m)\u001b[49m\n",
      "Cell \u001b[0;32mIn[757], line 206\u001b[0m, in \u001b[0;36mModelAnalysis.energy_fc_alpha\u001b[0;34m(self)\u001b[0m\n\u001b[1;32m    205\u001b[0m \u001b[38;5;28;01mdef\u001b[39;00m \u001b[38;5;21menergy_fc_alpha\u001b[39m(\u001b[38;5;28mself\u001b[39m):\n\u001b[0;32m--> 206\u001b[0m     _ei \u001b[38;5;241m=\u001b[39m \u001b[38;5;28;43mself\u001b[39;49m\u001b[38;5;241;43m.\u001b[39;49m\u001b[43m_equilirbrium_e\u001b[49m\u001b[43m(\u001b[49m\u001b[43m)\u001b[49m\n\u001b[1;32m    207\u001b[0m     state \u001b[38;5;241m=\u001b[39m \u001b[38;5;28mself\u001b[39m\u001b[38;5;241m.\u001b[39mstate\n\u001b[1;32m    208\u001b[0m     equilibrium_subs \u001b[38;5;241m=\u001b[39m {v[\u001b[38;5;241m0\u001b[39m]: v[\u001b[38;5;241m1\u001b[39m] \u001b[38;5;28;01mfor\u001b[39;00m v \u001b[38;5;129;01min\u001b[39;00m \u001b[38;5;28mzip\u001b[39m(state[\u001b[38;5;124m\"\u001b[39m\u001b[38;5;124me\u001b[39m\u001b[38;5;124m\"\u001b[39m], _ei)}\n",
      "Cell \u001b[0;32mIn[757], line 89\u001b[0m, in \u001b[0;36mModelAnalysis._equilirbrium_e\u001b[0;34m(self)\u001b[0m\n\u001b[1;32m     87\u001b[0m state \u001b[38;5;241m=\u001b[39m \u001b[38;5;28mself\u001b[39m\u001b[38;5;241m.\u001b[39mstate\n\u001b[1;32m     88\u001b[0m t, L, N \u001b[38;5;241m=\u001b[39m sp\u001b[38;5;241m.\u001b[39msymbols(\u001b[38;5;124m\"\u001b[39m\u001b[38;5;124mt L N\u001b[39m\u001b[38;5;124m\"\u001b[39m)\n\u001b[0;32m---> 89\u001b[0m _S \u001b[38;5;241m=\u001b[39m \u001b[38;5;28;43msum\u001b[39;49m\u001b[43m(\u001b[49m\u001b[43m[\u001b[49m\u001b[38;5;28;43mself\u001b[39;49m\u001b[38;5;241;43m.\u001b[39;49m\u001b[43mmodel\u001b[49m\u001b[38;5;241;43m.\u001b[39;49m\u001b[43m_s\u001b[49m\u001b[43m(\u001b[49m\u001b[43mαi\u001b[49m\u001b[43m)\u001b[49m\u001b[43m \u001b[49m\u001b[38;5;28;43;01mfor\u001b[39;49;00m\u001b[43m \u001b[49m\u001b[43mαi\u001b[49m\u001b[43m \u001b[49m\u001b[38;5;129;43;01min\u001b[39;49;00m\u001b[43m \u001b[49m\u001b[43mstate\u001b[49m\u001b[43m[\u001b[49m\u001b[38;5;124;43m\"\u001b[39;49m\u001b[38;5;124;43mα\u001b[39;49m\u001b[38;5;124;43m\"\u001b[39;49m\u001b[43m]\u001b[49m\u001b[43m]\u001b[49m\u001b[43m)\u001b[49m\n\u001b[1;32m     91\u001b[0m datum \u001b[38;5;241m=\u001b[39m \u001b[38;5;28mself\u001b[39m\u001b[38;5;241m.\u001b[39mmodel\u001b[38;5;241m.\u001b[39mboundary_condition()\n\u001b[1;32m     93\u001b[0m _e \u001b[38;5;241m=\u001b[39m [(datum \u001b[38;5;241m*\u001b[39m \u001b[38;5;28mself\u001b[39m\u001b[38;5;241m.\u001b[39mmodel\u001b[38;5;241m.\u001b[39m_s(αi) \u001b[38;5;241m/\u001b[39m _S)\u001b[38;5;241m.\u001b[39msimplify() \u001b[38;5;28;01mfor\u001b[39;00m αi \u001b[38;5;129;01min\u001b[39;00m state[\u001b[38;5;124m\"\u001b[39m\u001b[38;5;124mα\u001b[39m\u001b[38;5;124m\"\u001b[39m]]\n",
      "\u001b[0;31mTypeError\u001b[0m: 'Add' object is not callable"
     ]
    }
   ],
   "source": [
    "model.energy_fc_alpha()"
   ]
  },
  {
   "cell_type": "code",
   "execution_count": 693,
   "metadata": {},
   "outputs": [
    {
     "data": {
      "image/png": "[encoded data removed]",
      "text/plain": [
       "<Figure size 800x600 with 1 Axes>"
      ]
     },
     "metadata": {},
     "output_type": "display_data"
    }
   ],
   "source": [
    "_en = model.energy_fc_alpha().subs(subs_homog_α)    \\\n",
    "            .subs(_matpar) \\\n",
    "            .replace(_a, model.model.a) \\\n",
    "            .replace(sp.Function('s'), atls.s)      \\\n",
    "            .replace(_w, model.model.w)  \\\n",
    "            .subs(_matpar)          \\\n",
    "    .subs({sp.symbols('α_t'): alpha})\n",
    "\n",
    "_energy_damage = model.model._damage(state).subs(subs_homog_α).subs(_matpar) \\\n",
    "            .replace(_w, model.model.w)  \\\n",
    "            .subs({sp.symbols('α_t'): alpha})\n",
    "\n",
    "_f = sp.lambdify(t, _en.subs(_matpar), 'numpy')\n",
    "_f1 = sp.lambdify(t, _energy_damage, 'numpy')\n",
    "figure, axis = plt.subplots(1, 1, figsize=(8, 6))\n",
    "\n",
    "axis.plot(_loads, _f(_loads), c='k', label='total', lw=3)\n",
    "axis.plot(_loads, _f1(_loads), c='k', label='damage')\n",
    "axis.plot(_loads, _f(_loads)-_f1(_loads), c='k', label='elastic')\n",
    "\n",
    "axis.legend()\n",
    "plt.ylabel('Energy')\n",
    "plt.xlabel('t')\n",
    "plt.xticks([0, 1], ['0', '$t_c$'])\n",
    "plt.yticks([0, 1])\n",
    "\n",
    "for key, spine in axis.spines.items():\n",
    "    spine.set_visible(False)\n",
    "\n",
    "plt.savefig(os.path.join(output_dir, 'Energy-homogeneous_damage-crit.png'))\n",
    "\n",
    "_en_homogeneous_t = _f\n"
   ]
  },
  {
   "cell_type": "markdown",
   "metadata": {},
   "source": [
    "### Bifurcations\n",
    "\n",
    "Compute bifurcated solutions with $m$ damaging springs out of the available $N$, with $m<N$"
   ]
  },
  {
   "cell_type": "code",
   "execution_count": 694,
   "metadata": {},
   "outputs": [
    {
     "data": {
      "text/plain": [
       "{N: 2, γ: 2, E0: 1, w1: 1, L: 1}"
      ]
     },
     "execution_count": 694,
     "metadata": {},
     "output_type": "execute_result"
    }
   ],
   "source": [
    "_matpar"
   ]
  },
  {
   "cell_type": "code",
   "execution_count": 695,
   "metadata": {},
   "outputs": [
    {
     "data": {
      "text/latex": [
       "$\\displaystyle 0.25 t^{2} \\left. \\frac{d}{d β} a{\\left(β \\right)} \\right|_{\\substack{ β=0 }} + \\frac{\\left. \\frac{d}{d β} w{\\left(β \\right)} \\right|_{\\substack{ β=0 }}}{2}$"
      ],
      "text/plain": [
       "0.25*t**2*Subs(Derivative(a(β), β), β, 0) + Subs(Derivative(w(β), β), β, 0)/2"
      ]
     },
     "execution_count": 695,
     "metadata": {},
     "output_type": "execute_result"
    }
   ],
   "source": [
    "atls = SymbolicDiscreteDamage(state, matpar)\n",
    "model = ModelAnalysis(atls)\n",
    "model.criterion().subs(_matpar)"
   ]
  },
  {
   "cell_type": "code",
   "execution_count": 696,
   "metadata": {},
   "outputs": [
    {
     "data": {
      "text/latex": [
       "$\\displaystyle \\frac{1.0 E_{0} t^{2} \\left. \\frac{d}{d β} a{\\left(β \\right)} \\right|_{\\substack{ β=0 }} + 2 L^{2} w_{1} \\left. \\frac{d}{d β} w{\\left(β \\right)} \\right|_{\\substack{ β=0 }}}{L^{2} N^{2}}$"
      ],
      "text/plain": [
       "(1.0*E0*t**2*Subs(Derivative(a(β), β), β, 0) + 2*L**2*w1*Subs(Derivative(w(β), β), β, 0))/(L**2*N**2)"
      ]
     },
     "execution_count": 696,
     "metadata": {},
     "output_type": "execute_result"
    }
   ],
   "source": [
    "model.criterion().simplify()"
   ]
  },
  {
   "cell_type": "code",
   "execution_count": 697,
   "metadata": {},
   "outputs": [],
   "source": [
    "# we bifurcate m springs\n",
    "\n",
    "m = 1\n",
    "\n",
    "assert m < _matpar[N]"
   ]
  },
  {
   "cell_type": "code",
   "execution_count": 698,
   "metadata": {},
   "outputs": [
    {
     "name": "stdout",
     "output_type": "stream",
     "text": [
      "set of bifurcated (evolving) springs [α2]\n",
      "set of stationary springs {α1}\n"
     ]
    }
   ],
   "source": [
    "bif_α, homo_α, bif_e, homo_e = model._state_split(m, state, _matpar)\n",
    "print(f'set of bifurcated (evolving) springs {bif_α}')\n",
    "print(f'set of stationary springs {homo_α}')"
   ]
  },
  {
   "cell_type": "code",
   "execution_count": 699,
   "metadata": {},
   "outputs": [],
   "source": [
    "subs_bif_α, subs_bif_e =  model._state_bifurcation_substitutions(m, state, _matpar)"
   ]
  },
  {
   "cell_type": "code",
   "execution_count": 700,
   "metadata": {},
   "outputs": [
    {
     "data": {
      "text/plain": [
       "({α2: α_t, α1: α^*}, {e2: e_t, e1: e^*})"
      ]
     },
     "execution_count": 700,
     "metadata": {},
     "output_type": "execute_result"
    }
   ],
   "source": [
    "# substitutions for damage and strain\n",
    "subs_bif_α, subs_bif_e"
   ]
  },
  {
   "cell_type": "code",
   "execution_count": 701,
   "metadata": {},
   "outputs": [
    {
     "data": {
      "text/latex": [
       "$\\displaystyle \\frac{0.5 E_{0} N t^{2}}{L^{2} \\left(s{\\left(α_{1} \\right)} + s{\\left(α_{2} \\right)}\\right)}$"
      ],
      "text/plain": [
       "0.5*E0*N*t**2/(L**2*(s(α1) + s(α2)))"
      ]
     },
     "execution_count": 701,
     "metadata": {},
     "output_type": "execute_result"
    }
   ],
   "source": [
    "model._elastic_energy_fc_alpha()"
   ]
  },
  {
   "cell_type": "code",
   "execution_count": 707,
   "metadata": {},
   "outputs": [
    {
     "data": {
      "text/latex": [
       "$\\displaystyle \\frac{0.5 E_{0} N t^{2}}{L^{2} \\left(s{\\left(α^{*} \\right)} + s{\\left(α_{t} \\right)}\\right)}$"
      ],
      "text/plain": [
       "0.5*E0*N*t**2/(L**2*(s(α^*) + s(α_t)))"
      ]
     },
     "execution_count": 707,
     "metadata": {},
     "output_type": "execute_result"
    }
   ],
   "source": [
    "_elastic_en_bif_alpha = model._elastic_energy_fc_alpha().subs(subs_bif_α)\n",
    "_elastic_en_bif_alpha"
   ]
  },
  {
   "cell_type": "code",
   "execution_count": 708,
   "metadata": {},
   "outputs": [
    {
     "data": {
      "text/latex": [
       "$\\displaystyle - \\frac{0.5 E_{0} N t^{2} \\frac{d}{d α_{t}} s{\\left(α_{t} \\right)}}{L^{2} \\left(s{\\left(0 \\right)} + s{\\left(α_{t} \\right)}\\right)^{2}}$"
      ],
      "text/plain": [
       "-0.5*E0*N*t**2*Derivative(s(α_t), α_t)/(L**2*(s(0) + s(α_t))**2)"
      ]
     },
     "execution_count": 708,
     "metadata": {},
     "output_type": "execute_result"
    }
   ],
   "source": [
    "_en_bif_ = sp.diff(_elastic_en_bif_alpha.subs({sp.symbols('α^*'): 0}), sp.symbols('α_t'))"
   ]
  },
  {
   "cell_type": "code",
   "execution_count": 828,
   "metadata": {},
   "outputs": [
    {
     "data": {
      "text/latex": [
       "$\\displaystyle - \\frac{0.5 m t^{2} \\cdot \\left(\\frac{1.0}{1 - α_{t}} + \\frac{1.0 \\left(α_{t} + 1\\right)}{\\left(1 - α_{t}\\right)^{2}}\\right)}{\\left(- 0.5 m + \\frac{0.5 m \\left(α_{t} + 1\\right)}{1 - α_{t}} + 1\\right)^{2}} + m$"
      ],
      "text/plain": [
       "-0.5*m*t**2*(1.0/(1 - α_t) + 1.0*(α_t + 1)/(1 - α_t)**2)/(-0.5*m + 0.5*m*(α_t + 1)/(1 - α_t) + 1)**2 + m"
      ]
     },
     "execution_count": 828,
     "metadata": {},
     "output_type": "execute_result"
    }
   ],
   "source": [
    "_diff_en_bif_m = sp.diff(model.energy_m_bifurcations(sp.symbols('m')), sp.symbols('α_t'))    \\\n",
    "    .replace(sp.Function('s'), atls.s) \\\n",
    "    .replace(sp.Function('w'), atls.w) \\\n",
    "    .subs({sp.symbols('α^*'): 0})       \\\n",
    "    .subs(_matpar).doit()\n",
    "    # .subs(sp.symbols('m'), m)\n",
    "    \n",
    "_diff_en_bif_m"
   ]
  },
  {
   "cell_type": "code",
   "execution_count": 836,
   "metadata": {},
   "outputs": [
    {
     "data": {
      "text/latex": [
       "$\\displaystyle 1.0 - 1.0 t^{2}$"
      ],
      "text/plain": [
       "1.0 - 1.0*t**2"
      ]
     },
     "execution_count": 836,
     "metadata": {},
     "output_type": "execute_result"
    }
   ],
   "source": [
    "_diff_en_bif_m.subs(sp.symbols('m'), m).simplify()"
   ]
  },
  {
   "cell_type": "code",
   "execution_count": 834,
   "metadata": {},
   "outputs": [
    {
     "data": {
      "text/plain": [
       "[]"
      ]
     },
     "execution_count": 834,
     "metadata": {},
     "output_type": "execute_result"
    }
   ],
   "source": [
    "sp.solve(\n",
    "    _diff_en_bif_m.subs(sp.symbols('m'), m),\n",
    "    sp.symbols('α_t'))\n",
    "    "
   ]
  },
  {
   "cell_type": "code",
   "execution_count": 832,
   "metadata": {},
   "outputs": [
    {
     "data": {
      "text/plain": [
       "(1, 2)"
      ]
     },
     "execution_count": 832,
     "metadata": {},
     "output_type": "execute_result"
    }
   ],
   "source": [
    "m, _matpar[N]"
   ]
  },
  {
   "cell_type": "code",
   "execution_count": 493,
   "metadata": {},
   "outputs": [
    {
     "data": {
      "text/latex": [
       "$\\displaystyle - \\frac{0.5 E_{0} N^{2} m t^{2} \\frac{d}{d α_{t}} s{\\left(α_{t} \\right)}}{L^{2} \\left(m s{\\left(α_{t} \\right)} + \\left(N - m\\right) s{\\left(α^{*} \\right)}\\right)^{2}}$"
      ],
      "text/plain": [
       "-0.5*E0*N**2*m*t**2*Derivative(s(α_t), α_t)/(L**2*(m*s(α_t) + (N - m)*s(α^*))**2)"
      ]
     },
     "execution_count": 493,
     "metadata": {},
     "output_type": "execute_result"
    }
   ],
   "source": [
    "def _elastic_energy_m_bifurcations(m, state):\n",
    "    n = len(state[\"α\"])\n",
    "    # n = N\n",
    "    N = sp.symbols('N')\n",
    "    # _s = model.model.s\n",
    "    _s = sp.Function('s')\n",
    "    \n",
    "    at = sp.symbols('α_t')\n",
    "    ax = sp.symbols('α^*')\n",
    "    return 1./2. * E0 * (N * t / L)**2 * 1 / ((N-m)*_s(ax) + m*_s(at))\n",
    "    \n",
    "\n",
    "def _diff_energy_m_bifurcations(m, state):\n",
    "    n = len(state[\"α\"])\n",
    "    n = N\n",
    "    # _s = model.model.s\n",
    "    _s = sp.Function('s')\n",
    "    \n",
    "    at = sp.symbols('α_t')\n",
    "    ax = sp.symbols('α^*')\n",
    "    return - 1./2. * E0 * (N * t / L)**2 * m * sp.diff(_s(at), at) / ((n-m)*_s(ax) + m*_s(at))**2\n",
    "    \n",
    "    \n",
    "def energy_m_bifurcations(m, state):\n",
    "    n = len(state[\"α\"])\n",
    "    at = sp.symbols('α_t')\n",
    "    ax = sp.symbols('α^*')\n",
    "    \n",
    "    return _elastic_energy_m_bifurcations(m, state) +   \\\n",
    "        model.matpar[\"w1\"] * (m * model.model.w(at) + (n-m) * model.model.w(ax))\n",
    "\n",
    "def xi_elastic_energy_m_bifurcations(m, state):\n",
    "    n = len(state[\"α\"])\n",
    "    # n = N\n",
    "    N = sp.symbols('N')\n",
    "    # _s = model.model.s\n",
    "    _s = sp.Function('s')\n",
    "    \n",
    "    at = sp.symbols('α_t')\n",
    "    ax = sp.symbols('α^*')\n",
    "    xi = m/N\n",
    "    xi = sp.symbols('xi')\n",
    "    return 1./2. * E0 * (t / L)**2 * 1 / (_s(ax) + (xi)*(_s(at)-_s(ax)))\n",
    "    \n",
    "def xi_energy_m_bifurcations(m, state):\n",
    "    n = len(state[\"α\"])\n",
    "    at = sp.symbols('α_t')\n",
    "    ax = sp.symbols('α^*')\n",
    "    N = sp.symbols('N')\n",
    "    xi = m/N\n",
    "    xi = sp.symbols('xi')\n",
    "    return xi_elastic_energy_m_bifurcations(m, state) +   \\\n",
    "        model.matpar[\"w1\"] * (xi * model.model.w(at) + (1-xi) * model.model.w(ax))\n",
    "\n",
    "def xi_diff_energy_m_bifurcations(m, state):\n",
    "    n = len(state[\"α\"])\n",
    "    n = N\n",
    "    # _s = model.model.s\n",
    "    _s = sp.Function('s')\n",
    "    \n",
    "    at = sp.symbols('α_t')\n",
    "    ax = sp.symbols('α^*')\n",
    "    xi = sp.symbols('xi')\n",
    "    return - 1./2. * E0 * (t / L)**2 * xi * sp.diff(_s(at), at) / ((_s(ax) + (xi)*(_s(at)-_s(ax))))**2 + \\\n",
    "        model.matpar[\"w1\"] * (xi * sp.diff(model.model.w(at), at) ) \n",
    "    \n",
    "    \n",
    "_diff_energy_m_bifurcations(sp.symbols('m'), state)"
   ]
  },
  {
   "cell_type": "code",
   "execution_count": 809,
   "metadata": {},
   "outputs": [
    {
     "data": {
      "text/latex": [
       "$\\displaystyle \\frac{0.5 E_{0} t^{2}}{L^{2} \\left(\\xi \\left(- s{\\left(α^{*} \\right)} + s{\\left(α_{t} \\right)}\\right) + s{\\left(α^{*} \\right)}\\right)}$"
      ],
      "text/plain": [
       "0.5*E0*t**2/(L**2*(xi*(-s(α^*) + s(α_t)) + s(α^*)))"
      ]
     },
     "execution_count": 809,
     "metadata": {},
     "output_type": "execute_result"
    }
   ],
   "source": [
    "model.xi_elastic_energy_m_bifurcations()"
   ]
  },
  {
   "cell_type": "code",
   "execution_count": 710,
   "metadata": {},
   "outputs": [
    {
     "data": {
      "text/latex": [
       "$\\displaystyle \\frac{0.5 E_{0} t^{2}}{L^{2} \\left(\\xi \\left(- s{\\left(α^{*} \\right)} + s{\\left(α_{t} \\right)}\\right) + s{\\left(α^{*} \\right)}\\right)} + w_{1} \\left(\\xi α_{t} + α^{*} \\left(1 - \\xi\\right)\\right)$"
      ],
      "text/plain": [
       "0.5*E0*t**2/(L**2*(xi*(-s(α^*) + s(α_t)) + s(α^*))) + w1*(xi*α_t + α^**(1 - xi))"
      ]
     },
     "execution_count": 710,
     "metadata": {},
     "output_type": "execute_result"
    }
   ],
   "source": [
    "model.xi_energy_m_bifurcations()\n"
   ]
  },
  {
   "cell_type": "code",
   "execution_count": 711,
   "metadata": {},
   "outputs": [
    {
     "data": {
      "text/latex": [
       "$\\displaystyle - \\frac{0.5 E_{0} t^{2} \\xi \\frac{d}{d α_{t}} s{\\left(α_{t} \\right)}}{L^{2} \\left(\\xi \\left(- s{\\left(α^{*} \\right)} + s{\\left(α_{t} \\right)}\\right) + s{\\left(α^{*} \\right)}\\right)^{2}} + w_{1} \\xi$"
      ],
      "text/plain": [
       "-0.5*E0*t**2*xi*Derivative(s(α_t), α_t)/(L**2*(xi*(-s(α^*) + s(α_t)) + s(α^*))**2) + w1*xi"
      ]
     },
     "execution_count": 711,
     "metadata": {},
     "output_type": "execute_result"
    }
   ],
   "source": [
    "model.xi_diff_energy_m_bifurcations()\n"
   ]
  },
  {
   "cell_type": "markdown",
   "metadata": {},
   "source": [
    "#### Function of m bifurcated branches"
   ]
  },
  {
   "cell_type": "code",
   "execution_count": 715,
   "metadata": {},
   "outputs": [
    {
     "data": {
      "text/latex": [
       "$\\displaystyle \\frac{0.5 E_{0} N^{2} t^{2}}{L^{2} \\left(m s{\\left(α_{t} \\right)} + \\left(N - m\\right) s{\\left(α^{*} \\right)}\\right)} + w_{1} \\left(m α_{t} + α^{*} \\left(2 - m\\right)\\right)$"
      ],
      "text/plain": [
       "0.5*E0*N**2*t**2/(L**2*(m*s(α_t) + (N - m)*s(α^*))) + w1*(m*α_t + α^**(2 - m))"
      ]
     },
     "execution_count": 715,
     "metadata": {},
     "output_type": "execute_result"
    }
   ],
   "source": [
    "model.energy_m_bifurcations(sp.symbols('m'))"
   ]
  },
  {
   "cell_type": "code",
   "execution_count": 716,
   "metadata": {},
   "outputs": [
    {
     "data": {
      "text/latex": [
       "$\\displaystyle \\frac{0.5 E_{0} N^{2} t^{2}}{L^{2} \\left(m s{\\left(α_{t} \\right)} + \\left(N - m\\right) s{\\left(α^{*} \\right)}\\right)}$"
      ],
      "text/plain": [
       "0.5*E0*N**2*t**2/(L**2*(m*s(α_t) + (N - m)*s(α^*)))"
      ]
     },
     "execution_count": 716,
     "metadata": {},
     "output_type": "execute_result"
    }
   ],
   "source": [
    "model._elastic_energy_m_bifurcations(sp.symbols('m'))\n"
   ]
  },
  {
   "cell_type": "code",
   "execution_count": 717,
   "metadata": {},
   "outputs": [
    {
     "data": {
      "text/latex": [
       "$\\displaystyle - \\frac{0.5 E_{0} N^{2} m t^{2} \\frac{d}{d α_{t}} s{\\left(α_{t} \\right)}}{L^{2} \\left(m s{\\left(α_{t} \\right)} + \\left(N - m\\right) s{\\left(α^{*} \\right)}\\right)^{2}}$"
      ],
      "text/plain": [
       "-0.5*E0*N**2*m*t**2*Derivative(s(α_t), α_t)/(L**2*(m*s(α_t) + (N - m)*s(α^*))**2)"
      ]
     },
     "execution_count": 717,
     "metadata": {},
     "output_type": "execute_result"
    }
   ],
   "source": [
    "sp.diff(\n",
    "    _elastic_energy_m_bifurcations(sp.symbols('m'), state), \n",
    "    sp.symbols('α_t'))\n"
   ]
  },
  {
   "cell_type": "code",
   "execution_count": 718,
   "metadata": {},
   "outputs": [
    {
     "data": {
      "text/latex": [
       "$\\displaystyle - \\frac{0.5 E_{0} N^{2} m t^{2} \\frac{d}{d α_{t}} s{\\left(α_{t} \\right)}}{L^{2} \\left(m s{\\left(α_{t} \\right)} + \\left(N - m\\right) s{\\left(α^{*} \\right)}\\right)^{2}} + m w_{1}$"
      ],
      "text/plain": [
       "-0.5*E0*N**2*m*t**2*Derivative(s(α_t), α_t)/(L**2*(m*s(α_t) + (N - m)*s(α^*))**2) + m*w1"
      ]
     },
     "execution_count": 718,
     "metadata": {},
     "output_type": "execute_result"
    }
   ],
   "source": [
    "sp.diff(\n",
    "    energy_m_bifurcations(sp.symbols('m'), state), \n",
    "    sp.symbols('α_t'))"
   ]
  },
  {
   "cell_type": "code",
   "execution_count": 719,
   "metadata": {},
   "outputs": [
    {
     "data": {
      "text/latex": [
       "$\\displaystyle - \\frac{0.5 E_{0} N^{2} m t^{2} \\frac{d}{d α_{t}} s{\\left(α_{t} \\right)}}{L^{2} \\left(m s{\\left(α_{t} \\right)} + \\left(N - m\\right) s{\\left(0 \\right)}\\right)^{2}} + m w_{1}$"
      ],
      "text/plain": [
       "-0.5*E0*N**2*m*t**2*Derivative(s(α_t), α_t)/(L**2*(m*s(α_t) + (N - m)*s(0))**2) + m*w1"
      ]
     },
     "execution_count": 719,
     "metadata": {},
     "output_type": "execute_result"
    }
   ],
   "source": [
    "sp.diff(\n",
    "    energy_m_bifurcations(sp.symbols('m'), state)\n",
    "        .subs({sp.symbols('α^*'): 0}), \n",
    "    sp.symbols('α_t'))"
   ]
  },
  {
   "cell_type": "code",
   "execution_count": 721,
   "metadata": {},
   "outputs": [
    {
     "data": {
      "text/latex": [
       "$\\displaystyle - \\frac{0.5 E_{0} N^{2} m t^{2} \\left(α_{t} - 1\\right)^{2} \\cdot \\left(\\frac{1.0 α_{t} γ}{\\left(α_{t} - 1\\right)^{2}} - \\frac{1.0 α_{t}}{\\left(α_{t} - 1\\right)^{2}} - \\frac{1.0 γ}{α_{t} - 1} + \\frac{1.0}{α_{t} - 1} + \\frac{1.0}{\\left(α_{t} - 1\\right)^{2}}\\right)}{L^{2} \\left(- N α_{t} + N + m α_{t} γ\\right)^{2}} + 1.0 m w_{1}$"
      ],
      "text/plain": [
       "-0.5*E0*N**2*m*t**2*(α_t - 1)**2*(1.0*α_t*γ/(α_t - 1)**2 - 1.0*α_t/(α_t - 1)**2 - 1.0*γ/(α_t - 1) + 1.0/(α_t - 1) + 1.0/(α_t - 1)**2)/(L**2*(-N*α_t + N + m*α_t*γ)**2) + 1.0*m*w1"
      ]
     },
     "execution_count": 721,
     "metadata": {},
     "output_type": "execute_result"
    }
   ],
   "source": [
    "bif_crit_m = sp.diff(\n",
    "    model.energy_m_bifurcations(sp.symbols('m')).subs({sp.symbols('α^*'): 0}) \\\n",
    "    , sp.symbols('α_t'))                        \\\n",
    "        .replace(sp.Function('s'), atls.s)      \\\n",
    "        .replace(_w, model.model.w)             \\\n",
    "        .simplify()\n",
    "\n",
    "bif_crit_m"
   ]
  },
  {
   "cell_type": "code",
   "execution_count": 722,
   "metadata": {},
   "outputs": [
    {
     "data": {
      "text/latex": [
       "$\\displaystyle - \\frac{0.5 E_{0} N^{2} m t^{2} \\cdot \\left(\\frac{1.0 \\left(γ - 1\\right)}{1 - α_{t}} + \\frac{1.0 \\left(α_{t} \\left(γ - 1\\right) + 1\\right)}{\\left(1 - α_{t}\\right)^{2}}\\right)}{L^{2} \\left(1.0 N - 1.0 m + \\frac{1.0 m \\left(α_{t} \\left(γ - 1\\right) + 1\\right)}{1 - α_{t}}\\right)^{2}}$"
      ],
      "text/plain": [
       "-0.5*E0*N**2*m*t**2*(1.0*(γ - 1)/(1 - α_t) + 1.0*(α_t*(γ - 1) + 1)/(1 - α_t)**2)/(L**2*(1.0*N - 1.0*m + 1.0*m*(α_t*(γ - 1) + 1)/(1 - α_t))**2)"
      ]
     },
     "execution_count": 722,
     "metadata": {},
     "output_type": "execute_result"
    }
   ],
   "source": [
    "sp.diff(\n",
    "    model._elastic_energy_m_bifurcations(sp.symbols('m')).subs({sp.symbols('α^*'): 0}) \n",
    "    , sp.symbols('α_t'))   \\\n",
    ".replace(sp.Function('s'), atls.s) \\\n",
    ".replace(_w, model.model.w) \\\n",
    ".doit()\n",
    "# .simplify()"
   ]
  },
  {
   "cell_type": "code",
   "execution_count": 723,
   "metadata": {},
   "outputs": [
    {
     "data": {
      "text/latex": [
       "$\\displaystyle \\frac{0.5 E_{0} t^{2}}{L^{2} \\left(\\xi \\left(- s{\\left(α^{*} \\right)} + s{\\left(α_{t} \\right)}\\right) + s{\\left(α^{*} \\right)}\\right)}$"
      ],
      "text/plain": [
       "0.5*E0*t**2/(L**2*(xi*(-s(α^*) + s(α_t)) + s(α^*)))"
      ]
     },
     "execution_count": 723,
     "metadata": {},
     "output_type": "execute_result"
    }
   ],
   "source": [
    "model.xi_elastic_energy_m_bifurcations()"
   ]
  },
  {
   "cell_type": "code",
   "execution_count": 736,
   "metadata": {},
   "outputs": [
    {
     "data": {
      "text/latex": [
       "$\\displaystyle \\frac{\\frac{1.0 E_{0} t^{2} \\left. \\frac{d}{d β} a{\\left(β \\right)} \\right|_{\\substack{ β=0 }}}{L^{2} N} + \\frac{2 w_{1} \\left. \\frac{d}{d β} w{\\left(β \\right)} \\right|_{\\substack{ β=0 }}}{N}}{N}$"
      ],
      "text/plain": [
       "(1.0*E0*t**2*Subs(Derivative(a(β), β), β, 0)/(L**2*N) + 2*w1*Subs(Derivative(w(β), β), β, 0)/N)/N"
      ]
     },
     "execution_count": 736,
     "metadata": {},
     "output_type": "execute_result"
    }
   ],
   "source": [
    "model.criterion()"
   ]
  },
  {
   "cell_type": "code",
   "execution_count": 737,
   "metadata": {},
   "outputs": [
    {
     "data": {
      "text/latex": [
       "$\\displaystyle \\frac{1 - w{\\left(0 \\right)}}{\\left(γ - 1\\right) w{\\left(0 \\right)} + 1}$"
      ],
      "text/plain": [
       "(1 - w(0))/((γ - 1)*w(0) + 1)"
      ]
     },
     "execution_count": 737,
     "metadata": {},
     "output_type": "execute_result"
    }
   ],
   "source": [
    "atls.a(0)"
   ]
  },
  {
   "cell_type": "code",
   "execution_count": 743,
   "metadata": {},
   "outputs": [
    {
     "data": {
      "text/latex": [
       "$\\displaystyle \\frac{\\left(1 - β\\right) \\left(1 - γ\\right)}{\\left(β \\left(γ - 1\\right) + 1\\right)^{2}} - \\frac{1}{β \\left(γ - 1\\right) + 1}$"
      ],
      "text/plain": [
       "(1 - β)*(1 - γ)/(β*(γ - 1) + 1)**2 - 1/(β*(γ - 1) + 1)"
      ]
     },
     "execution_count": 743,
     "metadata": {},
     "output_type": "execute_result"
    }
   ],
   "source": [
    "model._ap.replace(sp.Function('a'), atls.a) \\\n",
    "    .replace(sp.Function('w'), atls.w) \\\n",
    "    .doit()"
   ]
  },
  {
   "cell_type": "code",
   "execution_count": 746,
   "metadata": {},
   "outputs": [
    {
     "data": {
      "text/latex": [
       "$\\displaystyle - \\frac{\\left(1 - α\\right) \\left(γ - 1\\right)}{\\left(α \\left(γ - 1\\right) + 1\\right)^{2}} - \\frac{1}{α \\left(γ - 1\\right) + 1}$"
      ],
      "text/plain": [
       "-(1 - α)*(γ - 1)/(α*(γ - 1) + 1)**2 - 1/(α*(γ - 1) + 1)"
      ]
     },
     "execution_count": 746,
     "metadata": {},
     "output_type": "execute_result"
    }
   ],
   "source": [
    "sp.diff(model.model.a(sp.symbols('α')), sp.symbols('α')) \\\n",
    "    .replace(sp.Function('a'), atls.a) \\\n",
    "    .replace(sp.Function('w'), atls.w) \\\n",
    "    .doit()"
   ]
  },
  {
   "cell_type": "code",
   "execution_count": 760,
   "metadata": {},
   "outputs": [
    {
     "data": {
      "text/latex": [
       "$\\displaystyle - γ$"
      ],
      "text/plain": [
       "-γ"
      ]
     },
     "execution_count": 760,
     "metadata": {},
     "output_type": "execute_result"
    }
   ],
   "source": [
    "atls.aprime().subs({sp.symbols('α'): 0})"
   ]
  },
  {
   "cell_type": "code",
   "execution_count": 761,
   "metadata": {},
   "outputs": [
    {
     "data": {
      "text/latex": [
       "$\\displaystyle 1$"
      ],
      "text/plain": [
       "1"
      ]
     },
     "execution_count": 761,
     "metadata": {},
     "output_type": "execute_result"
    }
   ],
   "source": [
    "atls.wprime().subs({sp.symbols('α'): 0})"
   ]
  },
  {
   "cell_type": "code",
   "execution_count": 779,
   "metadata": {},
   "outputs": [],
   "source": [
    "_normalise = {E0: 1, w1: 1, L: 1}"
   ]
  },
  {
   "cell_type": "code",
   "execution_count": 780,
   "metadata": {},
   "outputs": [
    {
     "data": {
      "text/latex": [
       "$\\displaystyle - \\frac{0.5 t^{2} \\xi \\frac{d}{d α_{t}} s{\\left(α_{t} \\right)}}{\\left(\\xi \\left(- s{\\left(α^{*} \\right)} + s{\\left(α_{t} \\right)}\\right) + s{\\left(α^{*} \\right)}\\right)^{2}} + \\xi$"
      ],
      "text/plain": [
       "-0.5*t**2*xi*Derivative(s(α_t), α_t)/(xi*(-s(α^*) + s(α_t)) + s(α^*))**2 + xi"
      ]
     },
     "execution_count": 780,
     "metadata": {},
     "output_type": "execute_result"
    }
   ],
   "source": [
    " model.xi_diff_energy_m_bifurcations().subs(_normalise)"
   ]
  },
  {
   "cell_type": "code",
   "execution_count": 785,
   "metadata": {},
   "outputs": [
    {
     "data": {
      "text/latex": [
       "$\\displaystyle - \\frac{0.125 t^{2} \\xi \\left(α_{t} - 1\\right)^{2} \\cdot \\left(\\frac{1.0 α_{t}}{\\left(α_{t} - 1\\right)^{2}} - \\frac{1.0}{α_{t} - 1} + \\frac{1.0}{\\left(α_{t} - 1\\right)^{2}}\\right)}{\\left(\\xi α_{t} - 0.5 α_{t} + 0.5\\right)^{2}} + \\xi$"
      ],
      "text/plain": [
       "-0.125*t**2*xi*(α_t - 1)**2*(1.0*α_t/(α_t - 1)**2 - 1.0/(α_t - 1) + 1.0/(α_t - 1)**2)/(xi*α_t - 0.5*α_t + 0.5)**2 + xi"
      ]
     },
     "execution_count": 785,
     "metadata": {},
     "output_type": "execute_result"
    }
   ],
   "source": [
    "bif_crit_m = model.xi_diff_energy_m_bifurcations().subs(_normalise) \\\n",
    "    .subs({sp.symbols('α^*'): 0}) \\\n",
    "    .replace(sp.Function('s'), atls.s)      \\\n",
    "    .replace(_w, model.model.w)             \\\n",
    "    .subs(_matpar) \\\n",
    "    .simplify()\n",
    "    \n",
    "bif_crit_m"
   ]
  },
  {
   "cell_type": "code",
   "execution_count": 799,
   "metadata": {},
   "outputs": [
    {
     "data": {
      "text/latex": [
       "$\\displaystyle \\frac{t - 1.0}{2.0 \\xi - 1.0}$"
      ],
      "text/plain": [
       "(t - 1.0)/(2.0*xi - 1.0)"
      ]
     },
     "execution_count": 799,
     "metadata": {},
     "output_type": "execute_result"
    }
   ],
   "source": [
    "sp.solve(bif_crit_m, sp.symbols('α_t'))[1]"
   ]
  },
  {
   "cell_type": "code",
   "execution_count": 840,
   "metadata": {},
   "outputs": [
    {
     "name": "stdout",
     "output_type": "stream",
     "text": [
      "3.0*t + 3.0\n",
      "3.0 - 3.0*t\n",
      "-1.66666666666667*t - 1.66666666666667\n",
      "1.66666666666667*t - 1.66666666666667\n",
      "-1.25*t - 1.25\n",
      "1.25*t - 1.25\n",
      "-1.0*t - 1.0\n",
      "1.0*t - 1.0\n"
     ]
    },
    {
     "data": {
      "text/plain": [
       "<matplotlib.lines.Line2D at 0x132b984d0>"
      ]
     },
     "execution_count": 840,
     "metadata": {},
     "output_type": "execute_result"
    },
    {
     "data": {
      "image/png": "[encoded data removed]",
      "text/plain": [
       "<Figure size 800x600 with 1 Axes>"
      ]
     },
     "metadata": {},
     "output_type": "display_data"
    }
   ],
   "source": [
    "_evo_alpha_t = sp.solve(bif_crit_m, sp.symbols('α_t'))\n",
    "_loads = np.linspace(0., _matpar[γ], 30)\n",
    "fig, ax = plt.subplots(1, 1, figsize=(8, 6))\n",
    "for xi in [1/3, 4/5, 9/10, 1]:\n",
    "    for evo in _evo_alpha_t:\n",
    "        _f = sp.lambdify(t, evo.subs(sp.symbols('xi'), xi), 'numpy')\n",
    "        ax.plot(_loads, _f(_loads), label=f'xi = {xi}')\n",
    "        # _evo_alpha_t.subs(sp.symbols('xi'), xi)\n",
    "        print(evo.subs(sp.symbols('xi'), xi))\n",
    "plt.legend()\n",
    "ax.axhline(0, c='k')\n",
    "ax.axhline(1, c='k', ls='--')\n",
    "# _f = sp.lambdify(t, _evo_alpha_t.subs(sp.symbols('xi'), xi), 'numpy')\n",
    "# plt.plot(_loads, _f(_loads), label=f'xi = {xi}')\n",
    "    "
   ]
  },
  {
   "cell_type": "code",
   "execution_count": 787,
   "metadata": {},
   "outputs": [
    {
     "data": {
      "text/latex": [
       "$\\displaystyle - \\frac{0.25 t^{2} \\xi}{\\left(\\xi α_{t} - 0.5 α_{t} + 0.5\\right)^{2}} + \\xi$"
      ],
      "text/plain": [
       "-0.25*t**2*xi/(xi*α_t - 0.5*α_t + 0.5)**2 + xi"
      ]
     },
     "execution_count": 787,
     "metadata": {},
     "output_type": "execute_result"
    }
   ],
   "source": [
    "bif_crit_m.simplify()"
   ]
  },
  {
   "cell_type": "code",
   "execution_count": 788,
   "metadata": {},
   "outputs": [
    {
     "data": {
      "text/latex": [
       "$\\displaystyle - \\frac{0.25 t^{2} \\xi}{\\left(\\xi α_{t} - 0.5 α_{t} + 0.5\\right)^{2}}$"
      ],
      "text/plain": [
       "-0.25*t**2*xi/(xi*α_t - 0.5*α_t + 0.5)**2"
      ]
     },
     "execution_count": 788,
     "metadata": {},
     "output_type": "execute_result"
    }
   ],
   "source": [
    "bif_crit_m.args[1].simplify()"
   ]
  },
  {
   "cell_type": "code",
   "execution_count": 789,
   "metadata": {},
   "outputs": [],
   "source": [
    "num, den = sp.fraction(bif_crit_m.args[1].simplify())"
   ]
  },
  {
   "cell_type": "code",
   "execution_count": 790,
   "metadata": {},
   "outputs": [
    {
     "data": {
      "text/latex": [
       "$\\displaystyle 1.0 \\left(α_{t} \\left(1.0 \\xi - 0.5\\right) + 0.5\\right)^{2}$"
      ],
      "text/plain": [
       "1.0*(α_t*(1.0*xi - 0.5) + 0.5)**2"
      ]
     },
     "execution_count": 790,
     "metadata": {},
     "output_type": "execute_result"
    }
   ],
   "source": [
    "den.factor(sp.symbols('α_t')) "
   ]
  },
  {
   "cell_type": "code",
   "execution_count": 791,
   "metadata": {},
   "outputs": [
    {
     "data": {
      "text/plain": [
       "'1.0 \\\\left(α_{t} \\\\left(1.0 \\\\xi - 0.5\\\\right) + 0.5\\\\right)^{2}'"
      ]
     },
     "execution_count": 791,
     "metadata": {},
     "output_type": "execute_result"
    }
   ],
   "source": [
    "sp.latex(den.factor(sp.symbols('α_t')) )"
   ]
  },
  {
   "cell_type": "code",
   "execution_count": 792,
   "metadata": {},
   "outputs": [
    {
     "data": {
      "text/latex": [
       "$\\displaystyle \\frac{t - 1.0}{2.0 \\xi - 1.0}$"
      ],
      "text/plain": [
       "(t - 1.0)/(2.0*xi - 1.0)"
      ]
     },
     "execution_count": 792,
     "metadata": {},
     "output_type": "execute_result"
    }
   ],
   "source": [
    "# sp.latex(\n",
    "sp.solve(bif_crit_m, sp.symbols('α_t'))[1].simplify().subs(_matpar)\n",
    "# )"
   ]
  },
  {
   "cell_type": "code",
   "execution_count": 793,
   "metadata": {},
   "outputs": [
    {
     "data": {
      "text/latex": [
       "$\\displaystyle \\frac{0.5 E_{0} t^{2}}{L^{2} \\left(\\xi \\left(- s{\\left(α^{*} \\right)} + s{\\left(α_{t} \\right)}\\right) + s{\\left(α^{*} \\right)}\\right)} + w_{1} \\left(\\xi α_{t} + α^{*} \\left(1 - \\xi\\right)\\right)$"
      ],
      "text/plain": [
       "0.5*E0*t**2/(L**2*(xi*(-s(α^*) + s(α_t)) + s(α^*))) + w1*(xi*α_t + α^**(1 - xi))"
      ]
     },
     "execution_count": 793,
     "metadata": {},
     "output_type": "execute_result"
    }
   ],
   "source": [
    "xi_energy_m_bifurcations(sp.symbols('xi'), state)"
   ]
  },
  {
   "cell_type": "code",
   "execution_count": 794,
   "metadata": {},
   "outputs": [
    {
     "data": {
      "text/latex": [
       "$\\displaystyle - \\frac{0.5 E_{0} t^{2} \\xi \\frac{d}{d α_{t}} s{\\left(α_{t} \\right)}}{L^{2} \\left(\\xi \\left(- s{\\left(α^{*} \\right)} + s{\\left(α_{t} \\right)}\\right) + s{\\left(α^{*} \\right)}\\right)^{2}} + w_{1} \\xi$"
      ],
      "text/plain": [
       "-0.5*E0*t**2*xi*Derivative(s(α_t), α_t)/(L**2*(xi*(-s(α^*) + s(α_t)) + s(α^*))**2) + w1*xi"
      ]
     },
     "execution_count": 794,
     "metadata": {},
     "output_type": "execute_result"
    }
   ],
   "source": [
    "xi_diff_energy_m_bifurcations(sp.symbols('m'), state)"
   ]
  },
  {
   "cell_type": "code",
   "execution_count": 795,
   "metadata": {},
   "outputs": [
    {
     "data": {
      "text/latex": [
       "$\\displaystyle - \\frac{0.5 E_{0} t^{2} \\xi \\left(\\frac{1.0 \\left(γ - 1\\right)}{1 - α_{t}} + \\frac{1.0 \\left(α_{t} \\left(γ - 1\\right) + 1\\right)}{\\left(1 - α_{t}\\right)^{2}}\\right)}{L^{2} \\left(\\xi \\left(-1.0 + \\frac{1.0 \\left(α_{t} \\left(γ - 1\\right) + 1\\right)}{1 - α_{t}}\\right) + 1.0\\right)^{2}} + w_{1} \\xi$"
      ],
      "text/plain": [
       "-0.5*E0*t**2*xi*(1.0*(γ - 1)/(1 - α_t) + 1.0*(α_t*(γ - 1) + 1)/(1 - α_t)**2)/(L**2*(xi*(-1.0 + 1.0*(α_t*(γ - 1) + 1)/(1 - α_t)) + 1.0)**2) + w1*xi"
      ]
     },
     "execution_count": 795,
     "metadata": {},
     "output_type": "execute_result"
    }
   ],
   "source": [
    "xi_diff_energy_m_bifurcations(sp.symbols('m'), state) \\\n",
    "    .subs({sp.symbols('α^*'): 0}).replace(sp.Function('s'), atls.s)      \\\n",
    "    .replace(_w, model.model.w).doit()\n",
    "    # .subs({sp.symbols('xi'): 1})         \\\n",
    "    # .factor(sp.symbols('xi'))\n",
    "\n"
   ]
  },
  {
   "cell_type": "code",
   "execution_count": 796,
   "metadata": {},
   "outputs": [
    {
     "data": {
      "text/latex": [
       "$\\displaystyle - \\frac{0.5 E_{0} t^{2} \\xi \\left(α_{t} - 1\\right)^{2} \\cdot \\left(\\frac{1.0 α_{t} γ}{\\left(α_{t} - 1\\right)^{2}} - \\frac{1.0 α_{t}}{\\left(α_{t} - 1\\right)^{2}} - \\frac{1.0 γ}{α_{t} - 1} + \\frac{1.0}{α_{t} - 1} + \\frac{1.0}{\\left(α_{t} - 1\\right)^{2}}\\right)}{L^{2} \\left(\\xi α_{t} γ - α_{t} + 1\\right)^{2}} + 1.0 w_{1} \\xi$"
      ],
      "text/plain": [
       "-0.5*E0*t**2*xi*(α_t - 1)**2*(1.0*α_t*γ/(α_t - 1)**2 - 1.0*α_t/(α_t - 1)**2 - 1.0*γ/(α_t - 1) + 1.0/(α_t - 1) + 1.0/(α_t - 1)**2)/(L**2*(xi*α_t*γ - α_t + 1)**2) + 1.0*w1*xi"
      ]
     },
     "execution_count": 796,
     "metadata": {},
     "output_type": "execute_result"
    }
   ],
   "source": [
    "bif_crit_xi = sp.diff(\n",
    "    xi_energy_m_bifurcations(sp.symbols('xi'), state)   \\\n",
    "    .subs({sp.symbols('α^*'): 0}) \\\n",
    "        , sp.symbols('α_t'))    \\\n",
    "        .replace(sp.Function('s'), atls.s)      \\\n",
    "        .replace(_w, model.model.w)         \\\n",
    "        .simplify()\n",
    "\n",
    "bif_crit_xi"
   ]
  },
  {
   "cell_type": "code",
   "execution_count": 498,
   "metadata": {},
   "outputs": [],
   "source": [
    "bif_crit_xi = bif_crit_xi.args[1].simplify()+bif_crit_xi.args[0]"
   ]
  },
  {
   "cell_type": "code",
   "execution_count": 523,
   "metadata": {},
   "outputs": [
    {
     "data": {
      "text/latex": [
       "$\\displaystyle - \\frac{0.5 E_{0} t^{2} \\xi γ}{L^{2} \\left(\\xi α_{t} γ - α_{t} + 1\\right)^{2}} + 1.0 w_{1} \\xi$"
      ],
      "text/plain": [
       "-0.5*E0*t**2*xi*γ/(L**2*(xi*α_t*γ - α_t + 1)**2) + 1.0*w1*xi"
      ]
     },
     "execution_count": 523,
     "metadata": {},
     "output_type": "execute_result"
    }
   ],
   "source": [
    "bif_crit_xi"
   ]
  },
  {
   "cell_type": "code",
   "execution_count": 526,
   "metadata": {},
   "outputs": [
    {
     "data": {
      "text/plain": [
       "'- \\\\frac{0.5 E_{0} t^{2} \\\\xi γ}{L^{2} \\\\left(\\\\xi α_{t} γ - α_{t} + 1\\\\right)^{2}} + 1.0 w_{1} \\\\xi'"
      ]
     },
     "execution_count": 526,
     "metadata": {},
     "output_type": "execute_result"
    }
   ],
   "source": [
    "sp.latex(bif_crit_xi, mode='plain')"
   ]
  },
  {
   "cell_type": "code",
   "execution_count": 500,
   "metadata": {},
   "outputs": [
    {
     "data": {
      "text/plain": [
       "[(-L*w1 - 0.707106781186548*t*sqrt(E0*w1*γ))/(L*w1*(xi*γ - 1.0)),\n",
       " (-L*w1 + 0.707106781186548*t*sqrt(E0*w1*γ))/(L*w1*(xi*γ - 1.0))]"
      ]
     },
     "execution_count": 500,
     "metadata": {},
     "output_type": "execute_result"
    }
   ],
   "source": [
    "bif_xi_solutions = sp.solve(bif_crit_xi, sp.symbols('α_t'))\n",
    "bif_xi_solutions"
   ]
  },
  {
   "cell_type": "code",
   "execution_count": 501,
   "metadata": {},
   "outputs": [
    {
     "data": {
      "text/plain": [
       "[-3.53553390593274*sqrt(2)*t - 5.0, 3.53553390593274*sqrt(2)*t - 5.0]"
      ]
     },
     "execution_count": 501,
     "metadata": {},
     "output_type": "execute_result"
    }
   ],
   "source": [
    "[sol.subs(_matpar) for sol in bif_xi_solutions]\n"
   ]
  },
  {
   "cell_type": "code",
   "execution_count": 502,
   "metadata": {},
   "outputs": [],
   "source": [
    "def positive_solution_wrt_t(model, solutions, _matpar = {}):\n",
    "    # print([sp.diff(sol, sp.symbols('t')).subs(_matpar) for sol in solutions])\n",
    "    idx = np.where(np.array([sp.diff(sol, sp.symbols('t')).subs(_matpar) for sol in solutions]) > 0)\n",
    "    return idx\n",
    "\n"
   ]
  },
  {
   "cell_type": "code",
   "execution_count": 503,
   "metadata": {},
   "outputs": [
    {
     "data": {
      "text/latex": [
       "$\\displaystyle - 3.53553390593274 \\sqrt{2}$"
      ],
      "text/plain": [
       "-3.53553390593274*sqrt(2)"
      ]
     },
     "execution_count": 503,
     "metadata": {},
     "output_type": "execute_result"
    }
   ],
   "source": [
    "[sp.diff(sol, sp.symbols('t')).subs(_matpar).subs({sp.symbols('xi'): .3}) for sol in bif_xi_solutions][0]"
   ]
  },
  {
   "cell_type": "code",
   "execution_count": 504,
   "metadata": {},
   "outputs": [
    {
     "data": {
      "text/plain": [
       "{N: 3, γ: 2, E0: 1, w1: 1, L: 1, xi: 0.3}"
      ]
     },
     "execution_count": 504,
     "metadata": {},
     "output_type": "execute_result"
    }
   ],
   "source": [
    "_matpar.update({sp.symbols('xi'): .3})\n",
    "_matpar"
   ]
  },
  {
   "cell_type": "code",
   "execution_count": 505,
   "metadata": {},
   "outputs": [
    {
     "data": {
      "text/plain": [
       "array([0])"
      ]
     },
     "execution_count": 505,
     "metadata": {},
     "output_type": "execute_result"
    }
   ],
   "source": [
    "pos = positive_solution_wrt_t(model, bif_xi_solutions, _matpar)\n",
    "pos[0]"
   ]
  },
  {
   "cell_type": "code",
   "execution_count": 856,
   "metadata": {},
   "outputs": [
    {
     "data": {
      "text/latex": [
       "$\\displaystyle 0.707106781186548 \\sqrt{2}$"
      ],
      "text/plain": [
       "0.707106781186548*sqrt(2)"
      ]
     },
     "execution_count": 856,
     "metadata": {},
     "output_type": "execute_result"
    }
   ],
   "source": [
    "model.critical_load(_matpar)[0][0]"
   ]
  },
  {
   "cell_type": "code",
   "execution_count": 879,
   "metadata": {},
   "outputs": [
    {
     "name": "stdout",
     "output_type": "stream",
     "text": [
      "0.708523828844236*sqrt(2)*t + 1.00200400801603\n",
      "0.911220078848644*sqrt(2)*t + 1.28865979381443\n",
      "1.27636603102265*sqrt(2)*t + 1.80505415162455\n",
      "2.12983970236912*sqrt(2)*t + 3.01204819277108\n",
      "6.42824346533225*sqrt(2)*t + 9.09090909090909\n",
      "6.31345340345131*sqrt(2)*t - 8.92857142857142\n",
      "2.11708617121721*sqrt(2)*t - 2.9940119760479\n",
      "1.27177478630674*sqrt(2)*t - 1.79856115107914\n",
      "0.908877610779624*sqrt(2)*t - 1.2853470437018\n",
      "0.707106781186548*sqrt(2)*t - 1.0\n"
     ]
    },
    {
     "data": {
      "image/png": "[encoded data removed]",
      "text/plain": [
       "<Figure size 800x600 with 1 Axes>"
      ]
     },
     "metadata": {},
     "output_type": "display_data"
    }
   ],
   "source": [
    "sols = sp.solve(bif_crit_xi, sp.symbols('α_t'))\n",
    "_sequence = np.linspace(0.001, 1, 10)\n",
    "tc = model.critical_load(_matpar)[0][0]\n",
    "\n",
    "alpha_bif = []\n",
    "\n",
    "# for _xi in [1/3, 1/4, 1/5, 2/5, 3/5, 9/10, 8/9, 4/5]:\n",
    "for _xi in _sequence:\n",
    "    _matpar.update({sp.symbols('xi'): _xi})\n",
    "    # print(_matpar) \n",
    "    _sols = [sol.subs(_matpar) for sol in sols]\n",
    "    pos = positive_solution_wrt_t(model, _sols, _matpar)\n",
    "    idx = pos[0][0]\n",
    "    print(_sols[idx].subs(sp.symbols('xi'), _xi))\n",
    "    alpha_bif.append({'alpha(tc)': _sols[idx].subs(sp.symbols('xi'), _xi).subs(t, tc), 'xi': _xi})\n",
    "\n",
    "alpha_bif\n",
    "\n",
    "fig, ax = plt.subplots(1, 1, figsize=(8, 6))\n",
    "ax.plot([a['xi'] for a in alpha_bif], [a['alpha(tc)'] for a in alpha_bif], marker='o', c='k', lw=3)\n",
    "plt.title('Bifurcation singularity')\n",
    "plt.xlabel('$\\\\xi$')\n",
    "plt.ylabel('$\\\\alpha(t_c)$')\n",
    "ax.set_yticks([0, 10])\n",
    "# ax.set_xticks([0, 1, 1/3])\n",
    "ax.axvline(1/2, c='k', ls='--')\n",
    "ax.axhline(0, c='k', ls='--')\n",
    "# plt.semilogy()\n",
    "fig.savefig(os.path.join(output_dir, 'bifurcation-sing.png'))\n"
   ]
  },
  {
   "cell_type": "code",
   "execution_count": 862,
   "metadata": {},
   "outputs": [
    {
     "name": "stdout",
     "output_type": "stream",
     "text": [
      "[(-2.0*L*w1 - 1.4142135623731*t*sqrt(E0*w1*γ))/(2.0*L*w1*xi*γ - 2.0*L*w1), (-2.0*L*w1 + 1.4142135623731*t*sqrt(E0*w1*γ))/(2.0*L*w1*xi*γ - 2.0*L*w1)]\n"
     ]
    },
    {
     "data": {
      "text/plain": [
       "(-0.1, 3.1)"
      ]
     },
     "execution_count": 862,
     "metadata": {},
     "output_type": "execute_result"
    },
    {
     "data": {
      "image/png": "[encoded data removed]",
      "text/plain": [
       "<Figure size 800x600 with 1 Axes>"
      ]
     },
     "metadata": {},
     "output_type": "display_data"
    }
   ],
   "source": [
    "# sp.latex(\n",
    "sols = sp.solve(bif_crit_xi, sp.symbols('α_t'))\n",
    "_loads = np.linspace(0., float(γ.subs(_matpar)), 30)\n",
    "print(sols), pos\n",
    "tc = model.critical_load(_matpar)[0][0]\n",
    "\n",
    "fig, ax = plt.subplots(1, 1, figsize=(8, 6))\n",
    "\n",
    "_sequence = np.linspace(0.001, 1, 10)\n",
    "\n",
    "# for _xi in [1/3, 1/4, 1/5, 2/5, 3/5, 9/10, 8/9, 4/5]:\n",
    "for _xi in _sequence:\n",
    "    _matpar.update({sp.symbols('xi'): _xi})\n",
    "    # print(_matpar) \n",
    "    _sols = [sol.subs(_matpar) for sol in sols]\n",
    "    pos = positive_solution_wrt_t(model, _sols, _matpar)\n",
    "    # print(pos[0][0])\n",
    "    idx = pos[0][0]\n",
    "    # for sol in _sols[idx]:\n",
    "    # print(_sols[idx].subs(sp.symbols('xi'), _xi))\n",
    "    bounded_sol = sp.Piecewise((_sols[idx], t >= tc), (0, t < tc))\n",
    "    # _f = sp.lambdify(t, _sols[idx], 'numpy')\n",
    "    _f = sp.lambdify(t, bounded_sol, 'numpy')\n",
    "    plt.plot(_loads, _f(_loads), label=f'$\\\\xi = {_xi:.2f}$')\n",
    "plt.axhline(0, c='k')\n",
    "plt.axhline(1, c='k')\n",
    "plt.legend()\n",
    "plt.ylabel('$\\\\alpha_\\\\xi^*$')\n",
    "plt.xlabel('t')\n",
    "plt.xticks([0, 1, _matpar[γ]], ['0', '$t_c$', '$\\\\gamma$'])\n",
    "plt.yticks([0, 1])\n",
    "plt.ylim(-.1, 3.1)\n",
    "\n",
    "fig.savefig(os.path.join(output_dir, 'bifurcation-sing.png'))\n"
   ]
  },
  {
   "cell_type": "code",
   "execution_count": 882,
   "metadata": {},
   "outputs": [],
   "source": [
    "import seaborn as sns\n",
    "palette = sns.color_palette(\"viridis\", as_cmap=True)\n"
   ]
  },
  {
   "cell_type": "code",
   "execution_count": 892,
   "metadata": {},
   "outputs": [
    {
     "name": "stdout",
     "output_type": "stream",
     "text": [
      "\u001b[1m\u001b[36m__pycache__\u001b[m\u001b[m                    homogeneous_damage-crit.png\n",
      "class_stability.ipynb          multifissa.ipynb\n",
      "colab_discrete_stability.ipynb pacman-stability.ipynb\n",
      "cone-stability.ipynb           pacman.ipynb\n",
      "convergence.ipynb              \u001b[35mplots.py\u001b[m\u001b[m\n",
      "discrete-bar.ipynb             postprocess.py\n",
      "discrete_bar-symbolic.ipynb    visuals.py\n",
      "discrete_stability.ipynb\n"
     ]
    }
   ],
   "source": [
    "!ls"
   ]
  },
  {
   "cell_type": "code",
   "execution_count": 906,
   "metadata": {},
   "outputs": [
    {
     "data": {
      "text/latex": [
       "$\\displaystyle \\min\\left(1, \\begin{cases} 0.708523828844236 \\sqrt{2} t + 1.00200400801603 & \\text{for}\\: t \\geq 0.707106781186548 \\sqrt{2} \\\\0 & \\text{otherwise} \\end{cases}\\right)$"
      ],
      "text/plain": [
       "Min(1, Piecewise((0.708523828844236*sqrt(2)*t + 1.00200400801603, t >= 0.707106781186548*sqrt(2)), (0, True)))"
      ]
     },
     "execution_count": 906,
     "metadata": {},
     "output_type": "execute_result"
    }
   ],
   "source": [
    "sp.Min(sp.Piecewise((_sols[idx], t >= tc), (0, t < tc)), 1)"
   ]
  },
  {
   "cell_type": "code",
   "execution_count": 910,
   "metadata": {},
   "outputs": [
    {
     "name": "stdout",
     "output_type": "stream",
     "text": [
      "[(-2.0*L*w1 - 1.4142135623731*t*sqrt(E0*w1*γ))/(2.0*L*w1*xi*γ - 2.0*L*w1), (-2.0*L*w1 + 1.4142135623731*t*sqrt(E0*w1*γ))/(2.0*L*w1*xi*γ - 2.0*L*w1)]\n"
     ]
    },
    {
     "data": {
      "image/png": "[encoded data removed]",
      "text/plain": [
       "<Figure size 800x600 with 1 Axes>"
      ]
     },
     "metadata": {},
     "output_type": "display_data"
    }
   ],
   "source": [
    "# sp.latex(\n",
    "\n",
    "from visuals import *\n",
    "\n",
    "matplotlibdefaults(palette='light',useTex=True)\n",
    "\n",
    "sols = sp.solve(bif_crit_xi, sp.symbols('α_t'))\n",
    "_loads = np.linspace(0., float(γ.subs(_matpar)), 100)\n",
    "print(sols), pos\n",
    "tc = model.critical_load(_matpar)[0][0]\n",
    "\n",
    "fig, ax = plt.subplots(1, 1, figsize=(8, 6))\n",
    "\n",
    "_sequence = np.linspace(0.001, 1, 10)\n",
    "palette = sns.color_palette(\"viridis\", n_colors=10)\n",
    "palette = sns.color_palette(\"Paired\")\n",
    "palette = sns.color_palette(\"rocket\", as_cmap=True)\n",
    "palette = sns.color_palette(\"flare\", as_cmap=True)\n",
    "\n",
    "\n",
    "for _xi in _sequence:\n",
    "    _matpar.update({sp.symbols('xi'): _xi})\n",
    "    _sols = [sol.subs(_matpar) for sol in sols]\n",
    "    pos = positive_solution_wrt_t(model, _sols, _matpar)\n",
    "    idx = pos[0][0]\n",
    "    bounded_sol = sp.Piecewise((_sols[idx], t >= tc), (0, t < tc))\n",
    "    # bounded_sol = sp.Min(sp.Piecewise((_sols[idx], t >= tc), (0, t < tc)), 1)\n",
    "    _f = sp.lambdify(t, bounded_sol, 'numpy')\n",
    "    # sns.lineplot(x=_loads, y=_f(_loads), label=f'$\\\\xi = {_xi:.2f}$', palette=palette)\n",
    "    ax.plot(_loads, np.minimum(_f(_loads), 1), label=f'$\\\\xi = {_xi:.2f}$', color = palette(_xi))\n",
    "\n",
    "plt.axhline(0, c='k')\n",
    "plt.axhline(1, c='k')\n",
    "plt.legend()\n",
    "plt.ylabel('$\\\\alpha_\\\\xi^*$')\n",
    "plt.xlabel('t')\n",
    "plt.xticks([0, 1, _matpar[γ]], ['0', '$t_c$', '$\\\\gamma$'])\n",
    "plt.yticks([0, 1])\n",
    "plt.ylim(-.1, 1.1)\n",
    "setspines0()\n",
    "fig.savefig(os.path.join(output_dir, 'bifurcation-by-xi.png'))\n"
   ]
  },
  {
   "cell_type": "code",
   "execution_count": 198,
   "metadata": {},
   "outputs": [
    {
     "data": {
      "text/plain": [
       "[(-3.0*t - 3.0)/(2.0*m - 3.0), (3.0*t - 3.0)/(2.0*m - 3.0)]"
      ]
     },
     "execution_count": 198,
     "metadata": {},
     "output_type": "execute_result"
    }
   ],
   "source": [
    "bif_m_solutions = sp.solve(bif_crit_m, sp.symbols('α_t'))\n",
    "# bif_m_solutions[1]\n",
    "\n",
    "bif_m_solutions"
   ]
  },
  {
   "cell_type": "code",
   "execution_count": 208,
   "metadata": {},
   "outputs": [
    {
     "data": {
      "text/latex": [
       "$\\displaystyle \\frac{2 α^{*}}{3}$"
      ],
      "text/plain": [
       "2*α^*/3"
      ]
     },
     "execution_count": 208,
     "metadata": {},
     "output_type": "execute_result"
    }
   ],
   "source": [
    "model.model._damage(state).subs(subs_bif_α).subs({sp.symbols('α_t'): 0})   \\\n",
    "            .subs(_matpar) \\\n",
    "            .replace(_w, model.model.w)  \\\n",
    "            .replace(sp.symbols(\"a^*\"), alpha)\n",
    "            # .subs({sp.symbols('β'): alpha})\n"
   ]
  },
  {
   "cell_type": "code",
   "execution_count": 914,
   "metadata": {},
   "outputs": [
    {
     "data": {
      "text/plain": [
       "Text(0.5, 0, 't')"
      ]
     },
     "execution_count": 914,
     "metadata": {},
     "output_type": "execute_result"
    },
    {
     "data": {
      "image/png": "[encoded data removed]",
      "text/plain": [
       "<Figure size 640x480 with 1 Axes>"
      ]
     },
     "metadata": {},
     "output_type": "display_data"
    }
   ],
   "source": [
    "_en_alpha_bif = model.energy_fc_alpha().subs(subs_bif_α)    \\\n",
    "            .subs({sp.symbols('α_t'): 0})   \\\n",
    "            .replace(_a, model.model.a) \\\n",
    "            .replace(sp.Function('s'), atls.s)      \\\n",
    "            .replace(_w, model.model.w)  \\\n",
    "            .subs(_matpar)          \\\n",
    "            .replace(sp.symbols(\"α^*\"), alpha)\n",
    "\n",
    "_energy_damage_bif = model.model._damage(state).subs(subs_bif_α).subs({sp.symbols('α_t'): 0})   \\\n",
    "            .subs(_matpar) \\\n",
    "            .replace(_w, model.model.w)  \\\n",
    "            .replace(sp.symbols(\"α^*\"), alpha)\n",
    "            # .subs({sp.symbols('β'): alpha})\n",
    "\n",
    "\n",
    "_f = sp.lambdify(t, _en_alpha_bif, 'numpy')\n",
    "_fd = sp.lambdify(t, _energy_damage_bif, 'numpy')\n",
    "plt.plot(_loads, _f(_loads), c='k', label='total', lw=3)\n",
    "plt.plot(_loads, _fd(_loads), c='k', label='damage', lw=3)\n",
    "plt.plot(_loads, _f(_loads) - _fd(_loads), c='k', label='elastic', lw=3)\n",
    "\n",
    "plt.plot(_loads, _en_homogeneous_t(_loads), c='r', label='homog', lw=3)\n",
    "\n",
    "plt.legend()\n",
    "plt.ylabel('Energy')\n",
    "plt.xlabel('t')"
   ]
  },
  {
   "cell_type": "code",
   "execution_count": 232,
   "metadata": {},
   "outputs": [
    {
     "data": {
      "text/plain": [
       "Text(0.5, 0, 't')"
      ]
     },
     "execution_count": 232,
     "metadata": {},
     "output_type": "execute_result"
    },
    {
     "data": {
      "image/png": "[encoded data removed]",
      "text/plain": [
       "<Figure size 640x480 with 1 Axes>"
      ]
     },
     "metadata": {},
     "output_type": "display_data"
    }
   ],
   "source": [
    "plt.plot(_loads, _en_homogeneous_t(_loads), c='k', label='homog', lw=3)\n",
    "plt.plot(_loads, _f(_loads), c='r', label='bifurcated', lw=3)\n",
    "# plt.plot(_loads, _en_homogeneous_t(_loads) - _f(_loads), c='k', label='total', lw=3)\n",
    "# plt.plot(_loads, _en_homogeneous_t(_loads) - _fd(_loads), c='k', label='damage', lw=3)\n",
    "plt.plot(_loads, _f(_loads) - _en_homogeneous_t(_loads), c='g', label='bif - homo', lw=3)\n",
    "plt.axhline(0)\n",
    "# plt.plot(_loads, , c='r', label='homog', lw=3)\n",
    "\n",
    "plt.legend()\n",
    "plt.ylabel('Energy')\n",
    "plt.xlabel('t')"
   ]
  },
  {
   "cell_type": "code",
   "execution_count": 981,
   "metadata": {},
   "outputs": [
    {
     "data": {
      "image/png": "[encoded data removed]",
      "text/plain": [
       "<Figure size 800x600 with 1 Axes>"
      ]
     },
     "metadata": {},
     "output_type": "display_data"
    }
   ],
   "source": [
    "# Energy of bifurcated branches\n",
    "\n",
    "\n",
    "sols = sp.solve(bif_crit_xi, sp.symbols('α_t'))\n",
    "_loads = np.linspace(0., float(γ.subs(_matpar)), 100)\n",
    "tc = model.critical_load(_matpar)[0][0]\n",
    "\n",
    "fig, ax = plt.subplots(1, 1, figsize=(8, 6))\n",
    "\n",
    "_sequence = np.linspace(0.51, 1, 10)\n",
    "# palette = sns.color_palette(\"viridis\", n_colors=10)\n",
    "# palette = sns.color_palette(\"Paired\")\n",
    "# palette = sns.color_palette(\"rocket\", as_cmap=True)\n",
    "# palette = sns.color_palette(\"flare\", as_cmap=True)\n",
    "    \n",
    "\n",
    "for _xi in _sequence:\n",
    "    _matpar.update({sp.symbols('xi'): _xi})\n",
    "    _sols = [sol.subs(_matpar) for sol in sols]\n",
    "    pos = positive_solution_wrt_t(model, _sols, _matpar)\n",
    "    idx = pos[0][0]\n",
    "\n",
    "    _total_xi_energy = model.xi_energy_m_bifurcations().subs(_normalise) \\\n",
    "        .subs({sp.Symbol('α^*'): 0})    \\\n",
    "        .replace(sp.Function('s'), atls.s)      \\\n",
    "        .replace(_w, model.model.w)         \\\n",
    "        .subs('xi', xi)                 \\\n",
    "        .subs(γ, _matpar[γ])\n",
    "\n",
    "\n",
    "    _elastic_xi_energy = model.xi_elastic_energy_m_bifurcations().subs(_normalise) \\\n",
    "        .subs({sp.Symbol('α^*'): 0})    \\\n",
    "        .replace(sp.Function('s'), atls.s)      \\\n",
    "        .replace(_w, model.model.w)         \\\n",
    "        .subs('xi', xi)                 \\\n",
    "        .subs(γ, _matpar[γ])\n",
    "\n",
    "\n",
    "            \n",
    "    _total_xi_energy_alpha = sp.lambdify((t, sp.Symbol('α_t')), _total_xi_energy, 'numpy')\n",
    "    _elastic_xi_energy_alpha = sp.lambdify((t, sp.Symbol('α_t')), _elastic_xi_energy, 'numpy')\n",
    "    bounded_sol = sp.Piecewise((_sols[idx], t >= tc), (0, t < tc))\n",
    "    _f = sp.lambdify(t, bounded_sol, 'numpy')\n",
    "    alpha_t = _f(_loads)\n",
    "    \n",
    "    ax.plot(_loads, np.minimum(\n",
    "            _total_xi_energy_alpha(_loads, alpha_t), 1), \n",
    "            label=f'$\\\\xi = {_xi:.2f}$', color = palette(_xi))    \n",
    "    ax.plot(_loads, _elastic_xi_energy_alpha(_loads, alpha_t), \n",
    "            label=f'elastic $\\\\xi = {_xi:.2f}$', lw =3, color = palette(_xi), ls='--')\n",
    "    ax.plot(_loads, np.minimum(\n",
    "        _total_xi_energy_alpha(_loads, alpha_t) - _elastic_xi_energy_alpha(_loads, alpha_t),\n",
    "        1), \n",
    "            lw =1, color = palette(_xi), ls='-')\n",
    "plt.legend()\n",
    "ax.set_ylabel('Energy')\n",
    "ax.set_xlabel('load')\n",
    "ax.set_xticks([0, 1, _matpar[γ]], ['0', '$t_c$', '$\\\\gamma$'])\n",
    "ax.set_yticks([0, 1])\n",
    "ax.axhline(0, c='k')\n",
    "ax.set_ylim([0, 1.1])\n",
    "ax.axhline(1, c='k', lw=3)\n",
    "# model.xi_energy_m_bifurcations().subs(_normalise).subs({sp.symbols('α_*'): 0})\n",
    "setspines0()\n",
    "fig.savefig(os.path.join(output_dir, 'bifurcation-energy-xi.png'))\n"
   ]
  },
  {
   "cell_type": "code",
   "execution_count": 949,
   "metadata": {},
   "outputs": [
    {
     "data": {
      "text/latex": [
       "$\\displaystyle \\frac{0.5 t^{2}}{\\xi \\left(-1.0 + \\frac{1.0 \\left(α_{t} + 1\\right)}{1 - α_{t}}\\right) + 1.0} + \\xi α_{t}$"
      ],
      "text/plain": [
       "0.5*t**2/(xi*(-1.0 + 1.0*(α_t + 1)/(1 - α_t)) + 1.0) + xi*α_t"
      ]
     },
     "execution_count": 949,
     "metadata": {},
     "output_type": "execute_result"
    }
   ],
   "source": [
    "model.xi_energy_m_bifurcations().subs(_normalise) \\\n",
    "    .subs({sp.Symbol('α^*'): 0})    \\\n",
    "    .replace(sp.Function('s'), atls.s)      \\\n",
    "    .replace(_w, model.model.w)         \\\n",
    "    .subs(γ, _matpar[γ])             \n",
    "\n",
    "# _total_xi_energy_alpha = \n"
   ]
  },
  {
   "cell_type": "code",
   "execution_count": 923,
   "metadata": {},
   "outputs": [
    {
     "data": {
      "text/plain": [
       "{N: 2, γ: 2, E0: 1, w1: 1, L: 1, xi: 1.0}"
      ]
     },
     "execution_count": 923,
     "metadata": {},
     "output_type": "execute_result"
    }
   ],
   "source": [
    "_matpar"
   ]
  },
  {
   "cell_type": "code",
   "execution_count": 233,
   "metadata": {},
   "outputs": [
    {
     "data": {
      "text/latex": [
       "$\\displaystyle \\frac{0.5 E_{0} N^{2} t^{2} + L^{2} w_{1} \\cdot \\left(\\frac{2.0 \\left(\\left(γ - 1\\right) w{\\left(α^{*} \\right)} + 1\\right)}{1 - w{\\left(α^{*} \\right)}} + \\frac{1.0 \\left(\\left(γ - 1\\right) w{\\left(0 \\right)} + 1\\right)}{1 - w{\\left(0 \\right)}}\\right) \\left(w{\\left(0 \\right)} + 2 w{\\left(α^{*} \\right)}\\right)}{L^{2} N \\left(\\frac{2.0 \\left(\\left(γ - 1\\right) w{\\left(α^{*} \\right)} + 1\\right)}{1 - w{\\left(α^{*} \\right)}} + \\frac{1.0 \\left(\\left(γ - 1\\right) w{\\left(0 \\right)} + 1\\right)}{1 - w{\\left(0 \\right)}}\\right)}$"
      ],
      "text/plain": [
       "(0.5*E0*N**2*t**2 + L**2*w1*(2.0*((γ - 1)*w(α^*) + 1)/(1 - w(α^*)) + 1.0*((γ - 1)*w(0) + 1)/(1 - w(0)))*(w(0) + 2*w(α^*)))/(L**2*N*(2.0*((γ - 1)*w(α^*) + 1)/(1 - w(α^*)) + 1.0*((γ - 1)*w(0) + 1)/(1 - w(0))))"
      ]
     },
     "execution_count": 233,
     "metadata": {},
     "output_type": "execute_result"
    }
   ],
   "source": [
    "# The energy of the bifurcated system\n",
    "\n",
    "_en_alpha_bifurcations = model.energy_fc_alpha().subs(subs_bif_α).subs({sp.symbols('α_t'): 0})\n",
    "_en_alpha_bifurcations  \\\n",
    "            .replace(_a, model.model.a) \\\n",
    "            .replace(sp.Function('s'), model.model.s)      \\\n",
    "            # .replace(_w, model.model.w)  \\\n",
    "            # .subs(_matpar)          \\\n",
    "            "
   ]
  },
  {
   "cell_type": "markdown",
   "metadata": {},
   "source": [
    "### Material behaviour"
   ]
  },
  {
   "cell_type": "code",
   "execution_count": 290,
   "metadata": {},
   "outputs": [
    {
     "name": "stderr",
     "output_type": "stream",
     "text": [
      "<lambdifygenerated-111>:2: RuntimeWarning: divide by zero encountered in scalar divide\n",
      "  return 1.0*(α + 1)/(1 - α)\n",
      "<lambdifygenerated-112>:2: RuntimeWarning: divide by zero encountered in scalar divide\n",
      "  return 1.0/(1 - α) + 1.0*(α + 1)/(1 - α)**2\n",
      "<lambdifygenerated-113>:2: RuntimeWarning: divide by zero encountered in scalar divide\n",
      "  return 2.0*(1 - (α + 1)/(α - 1))/(α - 1)**2\n"
     ]
    },
    {
     "data": {
      "text/plain": [
       "(<Figure size 800x600 with 4 Axes>, array([<Axes: >, <Axes: >], dtype=object))"
      ]
     },
     "execution_count": 290,
     "metadata": {},
     "output_type": "execute_result"
    },
    {
     "data": {
      "image/png": "[encoded data removed]",
      "text/plain": [
       "<Figure size 800x600 with 4 Axes>"
      ]
     },
     "metadata": {},
     "output_type": "display_data"
    }
   ],
   "source": [
    "atls = SymbolicDiscreteDamage(state, matpar)\n",
    "model = ModelAnalysis(atls)\n",
    "(model.criterion()).subs(_matpar)\n",
    "\n",
    "model.plot_material(_matpar)"
   ]
  },
  {
   "cell_type": "code",
   "execution_count": 227,
   "metadata": {},
   "outputs": [
    {
     "data": {
      "text/latex": [
       "$\\displaystyle \\frac{2.0 t^{2} a{\\left(0 \\right)} s^{2}{\\left(0 \\right)}}{\\left(s{\\left(0 \\right)} + s{\\left(a^{*} \\right)}\\right)^{2}} + \\frac{2.0 t^{2} a{\\left(a^{*} \\right)} s^{2}{\\left(a^{*} \\right)}}{\\left(s{\\left(0 \\right)} + s{\\left(a^{*} \\right)}\\right)^{2}} + w{\\left(0 \\right)} + w{\\left(a^{*} \\right)}$"
      ],
      "text/plain": [
       "2.0*t**2*a(0)*s(0)**2/(s(0) + s(a^*))**2 + 2.0*t**2*a(a^*)*s(a^*)**2/(s(0) + s(a^*))**2 + w(0) + w(a^*)"
      ]
     },
     "execution_count": 227,
     "metadata": {},
     "output_type": "execute_result"
    }
   ],
   "source": [
    "(model.energy_fc_alpha().subs(subs_bif_α).subs({sp.symbols('α_t'): 0})).subs(_matpar)"
   ]
  },
  {
   "cell_type": "markdown",
   "metadata": {},
   "source": [
    "## Second variation"
   ]
  },
  {
   "cell_type": "code",
   "execution_count": 21,
   "metadata": {},
   "outputs": [
    {
     "data": {
      "text/latex": [
       "$\\displaystyle \\frac{0.5 E_{0} N^{2} t^{2} + L^{2} w_{1} \\left(s{\\left(α_{1} \\right)} + s{\\left(α_{2} \\right)}\\right) \\left(w{\\left(α_{1} \\right)} + w{\\left(α_{2} \\right)}\\right)}{L^{2} N \\left(s{\\left(α_{1} \\right)} + s{\\left(α_{2} \\right)}\\right)}$"
      ],
      "text/plain": [
       "(0.5*E0*N**2*t**2 + L**2*w1*(s(α1) + s(α2))*(w(α1) + w(α2)))/(L**2*N*(s(α1) + s(α2)))"
      ]
     },
     "execution_count": 21,
     "metadata": {},
     "output_type": "execute_result"
    }
   ],
   "source": [
    "model.energy_fc_alpha()"
   ]
  },
  {
   "cell_type": "code",
   "execution_count": 983,
   "metadata": {},
   "outputs": [],
   "source": [
    "def small_hessian(f_alpha, state):\n",
    "    n = len(state[\"α\"])\n",
    "    \n",
    "    \n",
    "    return"
   ]
  },
  {
   "cell_type": "code",
   "execution_count": 22,
   "metadata": {},
   "outputs": [
    {
     "data": {
      "text/latex": [
       "$\\displaystyle \\left[\\begin{matrix}\\frac{- 0.5 E_{0} N^{2} t^{2} s{\\left(α_{1} \\right)} \\frac{d^{2}}{d α_{1}^{2}} s{\\left(α_{1} \\right)} - 0.5 E_{0} N^{2} t^{2} s{\\left(α_{2} \\right)} \\frac{d^{2}}{d α_{1}^{2}} s{\\left(α_{1} \\right)} + 1.0 E_{0} N^{2} t^{2} \\left(\\frac{d}{d α_{1}} s{\\left(α_{1} \\right)}\\right)^{2} + 1.0 L^{2} w_{1} s^{3}{\\left(α_{1} \\right)} \\frac{d^{2}}{d α_{1}^{2}} w{\\left(α_{1} \\right)} + 3.0 L^{2} w_{1} s^{2}{\\left(α_{1} \\right)} s{\\left(α_{2} \\right)} \\frac{d^{2}}{d α_{1}^{2}} w{\\left(α_{1} \\right)} + 3.0 L^{2} w_{1} s{\\left(α_{1} \\right)} s^{2}{\\left(α_{2} \\right)} \\frac{d^{2}}{d α_{1}^{2}} w{\\left(α_{1} \\right)} + 1.0 L^{2} w_{1} s^{3}{\\left(α_{2} \\right)} \\frac{d^{2}}{d α_{1}^{2}} w{\\left(α_{1} \\right)}}{L^{2} N \\left(1.0 s^{3}{\\left(α_{1} \\right)} + 3.0 s^{2}{\\left(α_{1} \\right)} s{\\left(α_{2} \\right)} + 3.0 s{\\left(α_{1} \\right)} s^{2}{\\left(α_{2} \\right)} + 1.0 s^{3}{\\left(α_{2} \\right)}\\right)} & \\frac{1.0 E_{0} N t^{2} \\frac{d}{d α_{1}} s{\\left(α_{1} \\right)} \\frac{d}{d α_{2}} s{\\left(α_{2} \\right)}}{L^{2} \\cdot \\left(1.0 s^{3}{\\left(α_{1} \\right)} + 3.0 s^{2}{\\left(α_{1} \\right)} s{\\left(α_{2} \\right)} + 3.0 s{\\left(α_{1} \\right)} s^{2}{\\left(α_{2} \\right)} + 1.0 s^{3}{\\left(α_{2} \\right)}\\right)}\\\\\\frac{1.0 E_{0} N t^{2} \\frac{d}{d α_{1}} s{\\left(α_{1} \\right)} \\frac{d}{d α_{2}} s{\\left(α_{2} \\right)}}{L^{2} \\cdot \\left(1.0 s^{3}{\\left(α_{1} \\right)} + 3.0 s^{2}{\\left(α_{1} \\right)} s{\\left(α_{2} \\right)} + 3.0 s{\\left(α_{1} \\right)} s^{2}{\\left(α_{2} \\right)} + 1.0 s^{3}{\\left(α_{2} \\right)}\\right)} & \\frac{- 0.5 E_{0} N^{2} t^{2} s{\\left(α_{1} \\right)} \\frac{d^{2}}{d α_{2}^{2}} s{\\left(α_{2} \\right)} - 0.5 E_{0} N^{2} t^{2} s{\\left(α_{2} \\right)} \\frac{d^{2}}{d α_{2}^{2}} s{\\left(α_{2} \\right)} + 1.0 E_{0} N^{2} t^{2} \\left(\\frac{d}{d α_{2}} s{\\left(α_{2} \\right)}\\right)^{2} + 1.0 L^{2} w_{1} s^{3}{\\left(α_{1} \\right)} \\frac{d^{2}}{d α_{2}^{2}} w{\\left(α_{2} \\right)} + 3.0 L^{2} w_{1} s^{2}{\\left(α_{1} \\right)} s{\\left(α_{2} \\right)} \\frac{d^{2}}{d α_{2}^{2}} w{\\left(α_{2} \\right)} + 3.0 L^{2} w_{1} s{\\left(α_{1} \\right)} s^{2}{\\left(α_{2} \\right)} \\frac{d^{2}}{d α_{2}^{2}} w{\\left(α_{2} \\right)} + 1.0 L^{2} w_{1} s^{3}{\\left(α_{2} \\right)} \\frac{d^{2}}{d α_{2}^{2}} w{\\left(α_{2} \\right)}}{L^{2} N \\left(1.0 s^{3}{\\left(α_{1} \\right)} + 3.0 s^{2}{\\left(α_{1} \\right)} s{\\left(α_{2} \\right)} + 3.0 s{\\left(α_{1} \\right)} s^{2}{\\left(α_{2} \\right)} + 1.0 s^{3}{\\left(α_{2} \\right)}\\right)}\\end{matrix}\\right]$"
      ],
      "text/plain": [
       "Matrix([\n",
       "[(-0.5*E0*N**2*t**2*s(α1)*Derivative(s(α1), (α1, 2)) - 0.5*E0*N**2*t**2*s(α2)*Derivative(s(α1), (α1, 2)) + 1.0*E0*N**2*t**2*Derivative(s(α1), α1)**2 + 1.0*L**2*w1*s(α1)**3*Derivative(w(α1), (α1, 2)) + 3.0*L**2*w1*s(α1)**2*s(α2)*Derivative(w(α1), (α1, 2)) + 3.0*L**2*w1*s(α1)*s(α2)**2*Derivative(w(α1), (α1, 2)) + 1.0*L**2*w1*s(α2)**3*Derivative(w(α1), (α1, 2)))/(L**2*N*(1.0*s(α1)**3 + 3.0*s(α1)**2*s(α2) + 3.0*s(α1)*s(α2)**2 + 1.0*s(α2)**3)),                                                                                                                                                                                                                                                                                                                  1.0*E0*N*t**2*Derivative(s(α1), α1)*Derivative(s(α2), α2)/(L**2*(1.0*s(α1)**3 + 3.0*s(α1)**2*s(α2) + 3.0*s(α1)*s(α2)**2 + 1.0*s(α2)**3))],\n",
       "[                                                                                                                                                                                                                                                                                                                 1.0*E0*N*t**2*Derivative(s(α1), α1)*Derivative(s(α2), α2)/(L**2*(1.0*s(α1)**3 + 3.0*s(α1)**2*s(α2) + 3.0*s(α1)*s(α2)**2 + 1.0*s(α2)**3)), (-0.5*E0*N**2*t**2*s(α1)*Derivative(s(α2), (α2, 2)) - 0.5*E0*N**2*t**2*s(α2)*Derivative(s(α2), (α2, 2)) + 1.0*E0*N**2*t**2*Derivative(s(α2), α2)**2 + 1.0*L**2*w1*s(α1)**3*Derivative(w(α2), (α2, 2)) + 3.0*L**2*w1*s(α1)**2*s(α2)*Derivative(w(α2), (α2, 2)) + 3.0*L**2*w1*s(α1)*s(α2)**2*Derivative(w(α2), (α2, 2)) + 1.0*L**2*w1*s(α2)**3*Derivative(w(α2), (α2, 2)))/(L**2*N*(1.0*s(α1)**3 + 3.0*s(α1)**2*s(α2) + 3.0*s(α1)*s(α2)**2 + 1.0*s(α2)**3))]])"
      ]
     },
     "execution_count": 22,
     "metadata": {},
     "output_type": "execute_result"
    }
   ],
   "source": [
    "small_hess = sp.hessian(model.energy_fc_alpha(), state[\"α\"])\n",
    "small_hess.simplify()\n",
    "\n",
    "small_hess"
   ]
  },
  {
   "cell_type": "code",
   "execution_count": 37,
   "metadata": {},
   "outputs": [
    {
     "data": {
      "text/latex": [
       "$\\displaystyle \\frac{0.5 E_{0} N t^{2}}{L^{2} \\left(s{\\left(α_{1} \\right)} + s{\\left(α_{2} \\right)}\\right)} + \\frac{w_{1} \\left(w{\\left(α_{1} \\right)} + w{\\left(α_{2} \\right)}\\right)}{N}$"
      ],
      "text/plain": [
       "0.5*E0*N*t**2/(L**2*(s(α1) + s(α2))) + w1*(w(α1) + w(α2))/N"
      ]
     },
     "execution_count": 37,
     "metadata": {},
     "output_type": "execute_result"
    }
   ],
   "source": [
    "num = sp.fraction(model.energy_fc_alpha())[0]\n",
    "den = sp.fraction(model.energy_fc_alpha())[1]\n",
    "\n",
    "num.args[0]/den+ num.args[1]/den"
   ]
  },
  {
   "cell_type": "code",
   "execution_count": 993,
   "metadata": {},
   "outputs": [
    {
     "data": {
      "text/plain": [
       "{s(α1): 1/a(α1), s(α2): 1/a(α2)}"
      ]
     },
     "execution_count": 993,
     "metadata": {},
     "output_type": "execute_result"
    }
   ],
   "source": [
    "subs_inverse = {sp.Function('s')(sp.Symbol(a.name)): 1/_a(a) for a in state[\"α\"]}\n",
    "subs_inverse\n"
   ]
  },
  {
   "cell_type": "code",
   "execution_count": 994,
   "metadata": {},
   "outputs": [
    {
     "data": {
      "text/plain": [
       "{a(α1): 1/s(α1), a(α2): 1/s(α2)}"
      ]
     },
     "execution_count": 994,
     "metadata": {},
     "output_type": "execute_result"
    }
   ],
   "source": [
    "# subs_s_inverse = {sp.Function('s')(sp.Symbol(a.name)): 1/_a(a) for a in state[\"α\"]}\n",
    "subs_s_inverse = {sp.Function('a')(sp.Symbol(a.name)): 1/model.model._s(a) for a in state[\"α\"]}\n",
    "subs_s_inverse\n"
   ]
  },
  {
   "cell_type": "code",
   "execution_count": 995,
   "metadata": {},
   "outputs": [
    {
     "data": {
      "text/latex": [
       "$\\displaystyle \\frac{0.5 E_{0} N^{2} t^{2} + L^{2} w_{1} \\cdot \\left(\\frac{1}{a{\\left(α_{2} \\right)}} + \\frac{1}{a{\\left(α_{1} \\right)}}\\right) \\left(w{\\left(α_{1} \\right)} + w{\\left(α_{2} \\right)}\\right)}{L^{2} N \\left(\\frac{1}{a{\\left(α_{2} \\right)}} + \\frac{1}{a{\\left(α_{1} \\right)}}\\right)}$"
      ],
      "text/plain": [
       "(0.5*E0*N**2*t**2 + L**2*w1*(1/a(α2) + 1/a(α1))*(w(α1) + w(α2)))/(L**2*N*(1/a(α2) + 1/a(α1)))"
      ]
     },
     "execution_count": 995,
     "metadata": {},
     "output_type": "execute_result"
    }
   ],
   "source": [
    "model.energy_fc_alpha().subs(subs_inverse)"
   ]
  },
  {
   "cell_type": "code",
   "execution_count": 996,
   "metadata": {},
   "outputs": [
    {
     "data": {
      "text/latex": [
       "$\\displaystyle \\frac{0.5 E_{0} N^{2} t^{2} + L^{2} w_{1} \\left(s{\\left(α_{1} \\right)} + s{\\left(α_{2} \\right)}\\right) \\left(w{\\left(α_{1} \\right)} + w{\\left(α_{2} \\right)}\\right)}{L^{2} N \\left(s{\\left(α_{1} \\right)} + s{\\left(α_{2} \\right)}\\right)}$"
      ],
      "text/plain": [
       "(0.5*E0*N**2*t**2 + L**2*w1*(s(α1) + s(α2))*(w(α1) + w(α2)))/(L**2*N*(s(α1) + s(α2)))"
      ]
     },
     "execution_count": 996,
     "metadata": {},
     "output_type": "execute_result"
    }
   ],
   "source": [
    "model.energy_fc_alpha().subs(subs_s_inverse)"
   ]
  },
  {
   "cell_type": "code",
   "execution_count": 1002,
   "metadata": {},
   "outputs": [
    {
     "ename": "TypeError",
     "evalue": "'Add' object is not callable",
     "output_type": "error",
     "traceback": [
      "\u001b[0;31m---------------------------------------------------------------------------\u001b[0m",
      "\u001b[0;31mTypeError\u001b[0m                                 Traceback (most recent call last)",
      "Cell \u001b[0;32mIn[1002], line 1\u001b[0m\n\u001b[0;32m----> 1\u001b[0m \u001b[43mmodel\u001b[49m\u001b[38;5;241;43m.\u001b[39;49m\u001b[43menergy_fc_alpha\u001b[49m\u001b[43m(\u001b[49m\u001b[43m)\u001b[49m\n",
      "Cell \u001b[0;32mIn[757], line 206\u001b[0m, in \u001b[0;36mModelAnalysis.energy_fc_alpha\u001b[0;34m(self)\u001b[0m\n\u001b[1;32m    205\u001b[0m \u001b[38;5;28;01mdef\u001b[39;00m \u001b[38;5;21menergy_fc_alpha\u001b[39m(\u001b[38;5;28mself\u001b[39m):\n\u001b[0;32m--> 206\u001b[0m     _ei \u001b[38;5;241m=\u001b[39m \u001b[38;5;28;43mself\u001b[39;49m\u001b[38;5;241;43m.\u001b[39;49m\u001b[43m_equilirbrium_e\u001b[49m\u001b[43m(\u001b[49m\u001b[43m)\u001b[49m\n\u001b[1;32m    207\u001b[0m     state \u001b[38;5;241m=\u001b[39m \u001b[38;5;28mself\u001b[39m\u001b[38;5;241m.\u001b[39mstate\n\u001b[1;32m    208\u001b[0m     equilibrium_subs \u001b[38;5;241m=\u001b[39m {v[\u001b[38;5;241m0\u001b[39m]: v[\u001b[38;5;241m1\u001b[39m] \u001b[38;5;28;01mfor\u001b[39;00m v \u001b[38;5;129;01min\u001b[39;00m \u001b[38;5;28mzip\u001b[39m(state[\u001b[38;5;124m\"\u001b[39m\u001b[38;5;124me\u001b[39m\u001b[38;5;124m\"\u001b[39m], _ei)}\n",
      "Cell \u001b[0;32mIn[757], line 89\u001b[0m, in \u001b[0;36mModelAnalysis._equilirbrium_e\u001b[0;34m(self)\u001b[0m\n\u001b[1;32m     87\u001b[0m state \u001b[38;5;241m=\u001b[39m \u001b[38;5;28mself\u001b[39m\u001b[38;5;241m.\u001b[39mstate\n\u001b[1;32m     88\u001b[0m t, L, N \u001b[38;5;241m=\u001b[39m sp\u001b[38;5;241m.\u001b[39msymbols(\u001b[38;5;124m\"\u001b[39m\u001b[38;5;124mt L N\u001b[39m\u001b[38;5;124m\"\u001b[39m)\n\u001b[0;32m---> 89\u001b[0m _S \u001b[38;5;241m=\u001b[39m \u001b[38;5;28;43msum\u001b[39;49m\u001b[43m(\u001b[49m\u001b[43m[\u001b[49m\u001b[38;5;28;43mself\u001b[39;49m\u001b[38;5;241;43m.\u001b[39;49m\u001b[43mmodel\u001b[49m\u001b[38;5;241;43m.\u001b[39;49m\u001b[43m_s\u001b[49m\u001b[43m(\u001b[49m\u001b[43mαi\u001b[49m\u001b[43m)\u001b[49m\u001b[43m \u001b[49m\u001b[38;5;28;43;01mfor\u001b[39;49;00m\u001b[43m \u001b[49m\u001b[43mαi\u001b[49m\u001b[43m \u001b[49m\u001b[38;5;129;43;01min\u001b[39;49;00m\u001b[43m \u001b[49m\u001b[43mstate\u001b[49m\u001b[43m[\u001b[49m\u001b[38;5;124;43m\"\u001b[39;49m\u001b[38;5;124;43mα\u001b[39;49m\u001b[38;5;124;43m\"\u001b[39;49m\u001b[43m]\u001b[49m\u001b[43m]\u001b[49m\u001b[43m)\u001b[49m\n\u001b[1;32m     91\u001b[0m datum \u001b[38;5;241m=\u001b[39m \u001b[38;5;28mself\u001b[39m\u001b[38;5;241m.\u001b[39mmodel\u001b[38;5;241m.\u001b[39mboundary_condition()\n\u001b[1;32m     93\u001b[0m _e \u001b[38;5;241m=\u001b[39m [(datum \u001b[38;5;241m*\u001b[39m \u001b[38;5;28mself\u001b[39m\u001b[38;5;241m.\u001b[39mmodel\u001b[38;5;241m.\u001b[39m_s(αi) \u001b[38;5;241m/\u001b[39m _S)\u001b[38;5;241m.\u001b[39msimplify() \u001b[38;5;28;01mfor\u001b[39;00m αi \u001b[38;5;129;01min\u001b[39;00m state[\u001b[38;5;124m\"\u001b[39m\u001b[38;5;124mα\u001b[39m\u001b[38;5;124m\"\u001b[39m]]\n",
      "\u001b[0;31mTypeError\u001b[0m: 'Add' object is not callable"
     ]
    }
   ],
   "source": [
    "model.energy_fc_alpha()"
   ]
  },
  {
   "cell_type": "code",
   "execution_count": 437,
   "metadata": {},
   "outputs": [
    {
     "data": {
      "text/plain": [
       "{a(α1): 1.0*((γ - 1)*w(α1) + 1)/(1 - w(α1)),\n",
       " a(α2): 1.0*((γ - 1)*w(α2) + 1)/(1 - w(α2))}"
      ]
     },
     "execution_count": 437,
     "metadata": {},
     "output_type": "execute_result"
    }
   ],
   "source": [
    "subs_stiffness = {_a(a): model.model.s(a) for a in state[\"α\"]}\n",
    "subs_stiffness"
   ]
  },
  {
   "cell_type": "code",
   "execution_count": 463,
   "metadata": {},
   "outputs": [
    {
     "data": {
      "text/latex": [
       "$\\displaystyle \\left[\\begin{matrix}\\frac{0.5 E_{0} N^{2} t^{2} \\frac{d^{2}}{d α_{1}^{2}} s{\\left(α_{1} \\right)}}{L^{2} \\left(s{\\left(α_{1} \\right)} + s{\\left(α_{2} \\right)}\\right)^{2}} - \\frac{1.0 E_{0} N^{2} t^{2} s{\\left(α_{1} \\right)} \\frac{d^{2}}{d α_{1}^{2}} s{\\left(α_{1} \\right)}}{L^{2} \\left(s{\\left(α_{1} \\right)} + s{\\left(α_{2} \\right)}\\right)^{3}} - \\frac{1.0 E_{0} N^{2} t^{2} s{\\left(α_{2} \\right)} \\frac{d^{2}}{d α_{1}^{2}} s{\\left(α_{1} \\right)}}{L^{2} \\left(s{\\left(α_{1} \\right)} + s{\\left(α_{2} \\right)}\\right)^{3}} - \\frac{2.0 E_{0} N^{2} t^{2} \\left(\\frac{d}{d α_{1}} s{\\left(α_{1} \\right)}\\right)^{2}}{L^{2} \\left(s{\\left(α_{1} \\right)} + s{\\left(α_{2} \\right)}\\right)^{3}} + \\frac{3.0 E_{0} N^{2} t^{2} s{\\left(α_{1} \\right)} \\left(\\frac{d}{d α_{1}} s{\\left(α_{1} \\right)}\\right)^{2}}{L^{2} \\left(s{\\left(α_{1} \\right)} + s{\\left(α_{2} \\right)}\\right)^{4}} + \\frac{3.0 E_{0} N^{2} t^{2} s{\\left(α_{2} \\right)} \\left(\\frac{d}{d α_{1}} s{\\left(α_{1} \\right)}\\right)^{2}}{L^{2} \\left(s{\\left(α_{1} \\right)} + s{\\left(α_{2} \\right)}\\right)^{4}} + w_{1} \\frac{d^{2}}{d α_{1}^{2}} w{\\left(α_{1} \\right)} & - \\frac{2.0 E_{0} N^{2} t^{2} \\frac{d}{d α_{1}} s{\\left(α_{1} \\right)} \\frac{d}{d α_{2}} s{\\left(α_{2} \\right)}}{L^{2} \\left(s{\\left(α_{1} \\right)} + s{\\left(α_{2} \\right)}\\right)^{3}} + \\frac{3.0 E_{0} N^{2} t^{2} s{\\left(α_{1} \\right)} \\frac{d}{d α_{1}} s{\\left(α_{1} \\right)} \\frac{d}{d α_{2}} s{\\left(α_{2} \\right)}}{L^{2} \\left(s{\\left(α_{1} \\right)} + s{\\left(α_{2} \\right)}\\right)^{4}} + \\frac{3.0 E_{0} N^{2} t^{2} s{\\left(α_{2} \\right)} \\frac{d}{d α_{1}} s{\\left(α_{1} \\right)} \\frac{d}{d α_{2}} s{\\left(α_{2} \\right)}}{L^{2} \\left(s{\\left(α_{1} \\right)} + s{\\left(α_{2} \\right)}\\right)^{4}}\\\\- \\frac{2.0 E_{0} N^{2} t^{2} \\frac{d}{d α_{1}} s{\\left(α_{1} \\right)} \\frac{d}{d α_{2}} s{\\left(α_{2} \\right)}}{L^{2} \\left(s{\\left(α_{1} \\right)} + s{\\left(α_{2} \\right)}\\right)^{3}} + \\frac{3.0 E_{0} N^{2} t^{2} s{\\left(α_{1} \\right)} \\frac{d}{d α_{1}} s{\\left(α_{1} \\right)} \\frac{d}{d α_{2}} s{\\left(α_{2} \\right)}}{L^{2} \\left(s{\\left(α_{1} \\right)} + s{\\left(α_{2} \\right)}\\right)^{4}} + \\frac{3.0 E_{0} N^{2} t^{2} s{\\left(α_{2} \\right)} \\frac{d}{d α_{1}} s{\\left(α_{1} \\right)} \\frac{d}{d α_{2}} s{\\left(α_{2} \\right)}}{L^{2} \\left(s{\\left(α_{1} \\right)} + s{\\left(α_{2} \\right)}\\right)^{4}} & \\frac{0.5 E_{0} N^{2} t^{2} \\frac{d^{2}}{d α_{2}^{2}} s{\\left(α_{2} \\right)}}{L^{2} \\left(s{\\left(α_{1} \\right)} + s{\\left(α_{2} \\right)}\\right)^{2}} - \\frac{1.0 E_{0} N^{2} t^{2} s{\\left(α_{1} \\right)} \\frac{d^{2}}{d α_{2}^{2}} s{\\left(α_{2} \\right)}}{L^{2} \\left(s{\\left(α_{1} \\right)} + s{\\left(α_{2} \\right)}\\right)^{3}} - \\frac{1.0 E_{0} N^{2} t^{2} s{\\left(α_{2} \\right)} \\frac{d^{2}}{d α_{2}^{2}} s{\\left(α_{2} \\right)}}{L^{2} \\left(s{\\left(α_{1} \\right)} + s{\\left(α_{2} \\right)}\\right)^{3}} - \\frac{2.0 E_{0} N^{2} t^{2} \\left(\\frac{d}{d α_{2}} s{\\left(α_{2} \\right)}\\right)^{2}}{L^{2} \\left(s{\\left(α_{1} \\right)} + s{\\left(α_{2} \\right)}\\right)^{3}} + \\frac{3.0 E_{0} N^{2} t^{2} s{\\left(α_{1} \\right)} \\left(\\frac{d}{d α_{2}} s{\\left(α_{2} \\right)}\\right)^{2}}{L^{2} \\left(s{\\left(α_{1} \\right)} + s{\\left(α_{2} \\right)}\\right)^{4}} + \\frac{3.0 E_{0} N^{2} t^{2} s{\\left(α_{2} \\right)} \\left(\\frac{d}{d α_{2}} s{\\left(α_{2} \\right)}\\right)^{2}}{L^{2} \\left(s{\\left(α_{1} \\right)} + s{\\left(α_{2} \\right)}\\right)^{4}} + w_{1} \\frac{d^{2}}{d α_{2}^{2}} w{\\left(α_{2} \\right)}\\end{matrix}\\right]$"
      ],
      "text/plain": [
       "Matrix([\n",
       "[0.5*E0*N**2*t**2*Derivative(s(α1), (α1, 2))/(L**2*(s(α1) + s(α2))**2) - 1.0*E0*N**2*t**2*s(α1)*Derivative(s(α1), (α1, 2))/(L**2*(s(α1) + s(α2))**3) - 1.0*E0*N**2*t**2*s(α2)*Derivative(s(α1), (α1, 2))/(L**2*(s(α1) + s(α2))**3) - 2.0*E0*N**2*t**2*Derivative(s(α1), α1)**2/(L**2*(s(α1) + s(α2))**3) + 3.0*E0*N**2*t**2*s(α1)*Derivative(s(α1), α1)**2/(L**2*(s(α1) + s(α2))**4) + 3.0*E0*N**2*t**2*s(α2)*Derivative(s(α1), α1)**2/(L**2*(s(α1) + s(α2))**4) + w1*Derivative(w(α1), (α1, 2)),                                                                                                                                                                                                           -2.0*E0*N**2*t**2*Derivative(s(α1), α1)*Derivative(s(α2), α2)/(L**2*(s(α1) + s(α2))**3) + 3.0*E0*N**2*t**2*s(α1)*Derivative(s(α1), α1)*Derivative(s(α2), α2)/(L**2*(s(α1) + s(α2))**4) + 3.0*E0*N**2*t**2*s(α2)*Derivative(s(α1), α1)*Derivative(s(α2), α2)/(L**2*(s(α1) + s(α2))**4)],\n",
       "[                                                                                                                                                                                                          -2.0*E0*N**2*t**2*Derivative(s(α1), α1)*Derivative(s(α2), α2)/(L**2*(s(α1) + s(α2))**3) + 3.0*E0*N**2*t**2*s(α1)*Derivative(s(α1), α1)*Derivative(s(α2), α2)/(L**2*(s(α1) + s(α2))**4) + 3.0*E0*N**2*t**2*s(α2)*Derivative(s(α1), α1)*Derivative(s(α2), α2)/(L**2*(s(α1) + s(α2))**4), 0.5*E0*N**2*t**2*Derivative(s(α2), (α2, 2))/(L**2*(s(α1) + s(α2))**2) - 1.0*E0*N**2*t**2*s(α1)*Derivative(s(α2), (α2, 2))/(L**2*(s(α1) + s(α2))**3) - 1.0*E0*N**2*t**2*s(α2)*Derivative(s(α2), (α2, 2))/(L**2*(s(α1) + s(α2))**3) - 2.0*E0*N**2*t**2*Derivative(s(α2), α2)**2/(L**2*(s(α1) + s(α2))**3) + 3.0*E0*N**2*t**2*s(α1)*Derivative(s(α2), α2)**2/(L**2*(s(α1) + s(α2))**4) + 3.0*E0*N**2*t**2*s(α2)*Derivative(s(α2), α2)**2/(L**2*(s(α1) + s(α2))**4) + w1*Derivative(w(α2), (α2, 2))]])"
      ]
     },
     "execution_count": 463,
     "metadata": {},
     "output_type": "execute_result"
    }
   ],
   "source": [
    "small_hess = sp.hessian(model.energy_fc_alpha().subs(subs_s_inverse), state[\"α\"])\n",
    "small_hess"
   ]
  },
  {
   "cell_type": "code",
   "execution_count": 465,
   "metadata": {},
   "outputs": [
    {
     "data": {
      "text/latex": [
       "$\\displaystyle \\frac{0.5 E_{0} N^{2} t^{2} s{\\left(α_{1} \\right)}}{L^{2} \\left(s{\\left(α_{1} \\right)} + s{\\left(α_{2} \\right)}\\right)^{2}} + \\frac{0.5 E_{0} N^{2} t^{2} s{\\left(α_{2} \\right)}}{L^{2} \\left(s{\\left(α_{1} \\right)} + s{\\left(α_{2} \\right)}\\right)^{2}} + w_{1} w{\\left(α_{1} \\right)} + w_{1} w{\\left(α_{2} \\right)}$"
      ],
      "text/plain": [
       "0.5*E0*N**2*t**2*s(α1)/(L**2*(s(α1) + s(α2))**2) + 0.5*E0*N**2*t**2*s(α2)/(L**2*(s(α1) + s(α2))**2) + w1*w(α1) + w1*w(α2)"
      ]
     },
     "execution_count": 465,
     "metadata": {},
     "output_type": "execute_result"
    }
   ],
   "source": [
    "model.energy_fc_alpha().subs(subs_s_inverse)"
   ]
  },
  {
   "cell_type": "code",
   "execution_count": 998,
   "metadata": {},
   "outputs": [
    {
     "data": {
      "text/latex": [
       "$\\displaystyle \\frac{- 0.5 E_{0} N^{2} t^{2} s{\\left(α_{1} \\right)} \\frac{d^{2}}{d α_{1}^{2}} s{\\left(α_{1} \\right)} - 0.5 E_{0} N^{2} t^{2} s{\\left(α_{2} \\right)} \\frac{d^{2}}{d α_{1}^{2}} s{\\left(α_{1} \\right)} + 1.0 E_{0} N^{2} t^{2} \\left(\\frac{d}{d α_{1}} s{\\left(α_{1} \\right)}\\right)^{2} + 1.0 L^{2} w_{1} s^{3}{\\left(α_{1} \\right)} \\frac{d^{2}}{d α_{1}^{2}} w{\\left(α_{1} \\right)} + 3.0 L^{2} w_{1} s^{2}{\\left(α_{1} \\right)} s{\\left(α_{2} \\right)} \\frac{d^{2}}{d α_{1}^{2}} w{\\left(α_{1} \\right)} + 3.0 L^{2} w_{1} s{\\left(α_{1} \\right)} s^{2}{\\left(α_{2} \\right)} \\frac{d^{2}}{d α_{1}^{2}} w{\\left(α_{1} \\right)} + 1.0 L^{2} w_{1} s^{3}{\\left(α_{2} \\right)} \\frac{d^{2}}{d α_{1}^{2}} w{\\left(α_{1} \\right)}}{L^{2} N \\left(1.0 s^{3}{\\left(α_{1} \\right)} + 3.0 s^{2}{\\left(α_{1} \\right)} s{\\left(α_{2} \\right)} + 3.0 s{\\left(α_{1} \\right)} s^{2}{\\left(α_{2} \\right)} + 1.0 s^{3}{\\left(α_{2} \\right)}\\right)}$"
      ],
      "text/plain": [
       "(-0.5*E0*N**2*t**2*s(α1)*Derivative(s(α1), (α1, 2)) - 0.5*E0*N**2*t**2*s(α2)*Derivative(s(α1), (α1, 2)) + 1.0*E0*N**2*t**2*Derivative(s(α1), α1)**2 + 1.0*L**2*w1*s(α1)**3*Derivative(w(α1), (α1, 2)) + 3.0*L**2*w1*s(α1)**2*s(α2)*Derivative(w(α1), (α1, 2)) + 3.0*L**2*w1*s(α1)*s(α2)**2*Derivative(w(α1), (α1, 2)) + 1.0*L**2*w1*s(α2)**3*Derivative(w(α1), (α1, 2)))/(L**2*N*(1.0*s(α1)**3 + 3.0*s(α1)**2*s(α2) + 3.0*s(α1)*s(α2)**2 + 1.0*s(α2)**3))"
      ]
     },
     "execution_count": 998,
     "metadata": {},
     "output_type": "execute_result"
    }
   ],
   "source": [
    "small_hess[0, 0].simplify()"
   ]
  },
  {
   "cell_type": "code",
   "execution_count": 1000,
   "metadata": {},
   "outputs": [
    {
     "data": {
      "text/latex": [
       "$\\displaystyle a{\\left(0 \\right)} + a{\\left(1 \\right)} + a{\\left(2 \\right)}$"
      ],
      "text/plain": [
       "a(0) + a(1) + a(2)"
      ]
     },
     "execution_count": 1000,
     "metadata": {},
     "output_type": "execute_result"
    }
   ],
   "source": [
    "_i = sp.symbols('i')\n",
    "sum = sp.summation(_a(_i), (_i, 0, len(state[\"α\"])))\n",
    "sum"
   ]
  },
  {
   "cell_type": "code",
   "execution_count": 999,
   "metadata": {},
   "outputs": [
    {
     "data": {
      "text/latex": [
       "$\\displaystyle \\frac{0.5 E_{0} N^{2} t^{2} + L^{2} w_{1} \\left(s{\\left(α_{1} \\right)} + s{\\left(α_{2} \\right)}\\right) \\left(w{\\left(α_{1} \\right)} + w{\\left(α_{2} \\right)}\\right)}{L^{2} N \\left(s{\\left(α_{1} \\right)} + s{\\left(α_{2} \\right)}\\right)}$"
      ],
      "text/plain": [
       "(0.5*E0*N**2*t**2 + L**2*w1*(s(α1) + s(α2))*(w(α1) + w(α2)))/(L**2*N*(s(α1) + s(α2)))"
      ]
     },
     "execution_count": 999,
     "metadata": {},
     "output_type": "execute_result"
    }
   ],
   "source": [
    "model.energy_fc_alpha()"
   ]
  },
  {
   "cell_type": "markdown",
   "metadata": {},
   "source": []
  },
  {
   "cell_type": "markdown",
   "metadata": {},
   "source": [
    "### Printouts"
   ]
  },
  {
   "cell_type": "code",
   "execution_count": 137,
   "metadata": {},
   "outputs": [
    {
     "name": "stdout",
     "output_type": "stream",
     "text": [
      "\\frac{1.5 E_{0} t^{2} \\left. \\frac{d}{d β} a{\\left(β \\right)} \\right|_{\\substack{ β=0 }} + 3 L^{2} w_{1} \\left. \\frac{d}{d β} w{\\left(β \\right)} \\right|_{\\substack{ β=0 }}}{L^{2} N^{2}}\n"
     ]
    }
   ],
   "source": [
    "model = ModelAnalysis(atls)\n",
    "\n",
    "# Damage criterion (local)\n",
    "\n",
    "print(sp.latex(model.\n",
    "         criterion().simplify()\n",
    "        , mode='plain'))\n"
   ]
  },
  {
   "cell_type": "code",
   "execution_count": 139,
   "metadata": {},
   "outputs": [
    {
     "name": "stdout",
     "output_type": "stream",
     "text": [
      "\\frac{0.5 E_{0} N t^{2}}{L^{2} \\left(s{\\left(α_{1} \\right)} + s{\\left(α_{2} \\right)} + s{\\left(α_{3} \\right)}\\right)}\n"
     ]
    }
   ],
   "source": [
    "# Elastic energy as a function of alpha\n",
    "print(sp.latex(model._elastic_energy_fc_alpha().simplify()\n",
    "        , mode='plain'))"
   ]
  },
  {
   "cell_type": "code",
   "execution_count": 142,
   "metadata": {},
   "outputs": [
    {
     "name": "stdout",
     "output_type": "stream",
     "text": [
      "\\frac{0.166666666666667 E_{0} N t^{2}}{L^{2} s{\\left(α_{t} \\right)}} + \\frac{3 w_{1} w{\\left(α_{t} \\right)}}{N}\n"
     ]
    }
   ],
   "source": [
    "# Total energy as a function of alpha, homogeneous\n",
    "\n",
    "print(sp.latex(model.energy_fc_alpha().subs(subs_homog_α).simplify()\n",
    "        , mode='plain'))"
   ]
  },
  {
   "cell_type": "code",
   "execution_count": 143,
   "metadata": {},
   "outputs": [
    {
     "name": "stdout",
     "output_type": "stream",
     "text": [
      "\\frac{0.5 t^{2}}{s{\\left(α_{t} \\right)}} + w{\\left(α_{t} \\right)}\n"
     ]
    }
   ],
   "source": [
    "# Total energy as a function of alpha, homogeneous\n",
    "\n",
    "print(sp.latex(model.energy_fc_alpha().subs(subs_homog_α).subs(_matpar).simplify()\n",
    "        , mode='plain'))"
   ]
  },
  {
   "cell_type": "code",
   "execution_count": null,
   "metadata": {},
   "outputs": [
    {
     "name": "stdout",
     "output_type": "stream",
     "text": [
      "\\frac{0.5 E_{0} N^{2} t^{2} + 9 L^{2} w_{1} s{\\left(α_{t} \\right)} w{\\left(α_{t} \\right)}}{3 L^{2} N s{\\left(α_{t} \\right)}}\n"
     ]
    }
   ],
   "source": [
    "print(sp.latex(_, mode='plain', symbol_names={'α': 'x'}))"
   ]
  },
  {
   "cell_type": "code",
   "execution_count": null,
   "metadata": {},
   "outputs": [],
   "source": [
    "# Evolution equation for homogeneous damage\n",
    "\n",
    "subs_homog_α, subs_homog_e =  model._state_homog_substitutions(state)\n",
    "subs_homog_α, subs_homog_e\n",
    "\n",
    "sp.diff(model.energy_fc_alpha()                \\\n",
    "            .subs(subs_homog_α)\n",
    "            # .replace(sp.Function('s'), model.model.s)\n",
    "            , \n",
    "            sp.symbols('α_t')\n",
    "            ).simplify()\n"
   ]
  },
  {
   "cell_type": "code",
   "execution_count": 146,
   "metadata": {},
   "outputs": [
    {
     "name": "stdout",
     "output_type": "stream",
     "text": [
      "\\frac{1.0 \\left(\\left(γ - 1\\right) w{\\left(α_{t} \\right)} + 1\\right)}{1 - w{\\left(α_{t} \\right)}}\n",
      "\\frac{1 - w{\\left(α_{t} \\right)}}{\\left(γ - 1\\right) w{\\left(α_{t} \\right)} + 1}\n"
     ]
    }
   ],
   "source": [
    "# Material functions\n",
    "\n",
    "print(sp.latex(\n",
    "    model.model.s(sp.symbols('α_t'))\n",
    "    , mode='plain'))"
   ]
  },
  {
   "cell_type": "code",
   "execution_count": 147,
   "metadata": {},
   "outputs": [
    {
     "name": "stdout",
     "output_type": "stream",
     "text": [
      "α_{t}\n"
     ]
    }
   ],
   "source": [
    "print(sp.latex(\n",
    "    model.model.w(sp.symbols('α_t'))\n",
    "    , mode='plain'))"
   ]
  },
  {
   "cell_type": "code",
   "execution_count": 148,
   "metadata": {},
   "outputs": [
    {
     "name": "stdout",
     "output_type": "stream",
     "text": [
      "\\frac{1 - w{\\left(α_{t} \\right)}}{\\left(γ - 1\\right) w{\\left(α_{t} \\right)} + 1}\n"
     ]
    }
   ],
   "source": [
    "print(sp.latex(\n",
    "    model.model.a(sp.symbols('α_t'))\n",
    "    , mode='plain'))"
   ]
  },
  {
   "cell_type": "code",
   "execution_count": 149,
   "metadata": {},
   "outputs": [
    {
     "name": "stdout",
     "output_type": "stream",
     "text": [
      "\\frac{1.0 γ \\frac{d}{d α_{t}} w{\\left(α_{t} \\right)}}{\\left(1.0 w{\\left(α_{t} \\right)} - 1.0\\right)^{2}}\n"
     ]
    }
   ],
   "source": [
    "# Derivatives of material functions\n",
    "print(sp.latex(\n",
    "sp.diff(model.model.s(sp.symbols('α_t')), \n",
    "sp.symbols('α_t')).simplify().factor()\n",
    "    , mode='plain'))"
   ]
  },
  {
   "cell_type": "code",
   "execution_count": 150,
   "metadata": {},
   "outputs": [
    {
     "name": "stdout",
     "output_type": "stream",
     "text": [
      "\\left[ \\frac{- L w_{1} - 0.235702260395516 N t \\sqrt{E_{0} w_{1} γ}}{L w_{1} \\left(γ - 1.0\\right)}, \\  \\frac{- L w_{1} + 0.235702260395516 N t \\sqrt{E_{0} w_{1} γ}}{L w_{1} \\left(γ - 1.0\\right)}\\right]\n"
     ]
    }
   ],
   "source": [
    "# Homogeneous evo\n",
    "print(sp.latex(\n",
    "model.homogeneous_α(state)\n",
    "    , mode='plain'))"
   ]
  },
  {
   "cell_type": "code",
   "execution_count": 194,
   "metadata": {},
   "outputs": [
    {
     "name": "stdout",
     "output_type": "stream",
     "text": [
      "- \\frac{0.5 E_{0} N^{2} m t^{2} γ}{L^{2} \\left(- N α_{t} + N + m α_{t} γ\\right)^{2}} + 1.0 m w_{1}\n"
     ]
    }
   ],
   "source": [
    "# Bifurcations\n",
    "print(sp.latex(\n",
    "bif_crit_m.simplify()\n",
    "    , mode='plain'))"
   ]
  },
  {
   "cell_type": "markdown",
   "metadata": {},
   "source": [
    "## Examples"
   ]
  },
  {
   "cell_type": "code",
   "execution_count": 103,
   "metadata": {},
   "outputs": [
    {
     "data": {
      "text/latex": [
       "$\\displaystyle - 0.5 t^{2} γ + 1$"
      ],
      "text/plain": [
       "-0.5*t**2*γ + 1"
      ]
     },
     "execution_count": 103,
     "metadata": {},
     "output_type": "execute_result"
    }
   ],
   "source": [
    "_N = 3\n",
    "\n",
    "_matpar = {N: _N, γ: 3, E0: 1, w1: 1, L: 1}\n",
    "matpar = {\"N\": N, \"γ\": γ, \"E0\": E0, \"w1\": w1, \"L\": L}\n",
    "\n",
    "u = sp.symbols([f\"u{i}\" for i in range(0, _N)])\n",
    "e = sp.symbols([f\"e{i}\" for i in range(1, _N+1)])\n",
    "α = sp.symbols([f\"α{i}\" for i in range(1, _N+1)])\n",
    "_α = sp.symbols(\"α\")\n",
    "_loads = np.linspace(0., float(γ.subs(_matpar)), 30)\n",
    "\n",
    "β = sp.symbols('β')\n",
    "\n",
    "state = {\"u\": u, \"α\": α, \"e\": e}\n",
    "\n",
    "atls = SymbolicDiscreteDamage(state, matpar)\n",
    "\n",
    "model = ModelAnalysis(atls)\n",
    "_N* model.criterion().simplify().subs(_matpar)  \\\n",
    "    .replace(sp.Function('a'), atls.a)      \\\n",
    "        .replace(sp.Function('w'), atls.w).doit() \\\n",
    "# model.evo_α(state)\n"
   ]
  },
  {
   "cell_type": "code",
   "execution_count": 104,
   "metadata": {},
   "outputs": [],
   "source": [
    "tc, criterion = model.critical_load(_matpar)\n"
   ]
  },
  {
   "cell_type": "code",
   "execution_count": 105,
   "metadata": {},
   "outputs": [
    {
     "data": {
      "text/latex": [
       "$\\displaystyle \\frac{- 1.5 E_{0} t^{2} \\left(α_{t} - 1\\right) + 3.0 L^{2} w_{1} α_{t} \\left(α_{t} \\left(γ - 1\\right) + 1\\right)}{3 L^{2} \\left(α_{t} \\left(γ - 1\\right) + 1\\right)}$"
      ],
      "text/plain": [
       "(-1.5*E0*t**2*(α_t - 1) + 3.0*L**2*w1*α_t*(α_t*(γ - 1) + 1))/(3*L**2*(α_t*(γ - 1) + 1))"
      ]
     },
     "execution_count": 105,
     "metadata": {},
     "output_type": "execute_result"
    }
   ],
   "source": [
    "model.energy_fc_alpha()     \\\n",
    "    .replace(sp.Function('s'), atls.s)      \\\n",
    "        .replace(sp.Function('w'), atls.w)  \\\n",
    "            .subs(model._state_homog_substitutions(state)[0]).simplify()    \\\n",
    "                .subs(sp.symbols('N'), _N) \\\n",
    "        # .doit().simplify()\n",
    "# .subs(subs_homog_α).subs(_matpar).simplify()"
   ]
  },
  {
   "cell_type": "code",
   "execution_count": 106,
   "metadata": {},
   "outputs": [],
   "source": [
    "num, den = sp.fraction(_)\n",
    "_eq_alpha = num.args[0]/den+ num.args[1]/den"
   ]
  },
  {
   "cell_type": "code",
   "execution_count": 82,
   "metadata": {},
   "outputs": [
    {
     "data": {
      "text/latex": [
       "$\\displaystyle \\frac{0.25 t^{2} + 0.707106781186548 \\sqrt{0.125 t^{4} - t^{2} γ + 0.5 t^{2} + 0.5} - 0.5}{γ - 1.0}$"
      ],
      "text/plain": [
       "(0.25*t**2 + 0.707106781186548*sqrt(0.125*t**4 - t**2*γ + 0.5*t**2 + 0.5) - 0.5)/(γ - 1.0)"
      ]
     },
     "execution_count": 82,
     "metadata": {},
     "output_type": "execute_result"
    }
   ],
   "source": [
    "sp.solve(_eq_alpha, sp.symbols('α_t'))[1].simplify().subs({E0: 1, w1: 1, L: 1})"
   ]
  },
  {
   "cell_type": "code",
   "execution_count": 60,
   "metadata": {},
   "outputs": [
    {
     "data": {
      "text/plain": [
       "[-0.612372435695794*t - 0.5, 0.612372435695794*t - 0.5]"
      ]
     },
     "execution_count": 60,
     "metadata": {},
     "output_type": "execute_result"
    }
   ],
   "source": [
    "model.homogeneous_α(state, _matpar)\n"
   ]
  },
  {
   "cell_type": "code",
   "execution_count": 61,
   "metadata": {},
   "outputs": [
    {
     "data": {
      "text/plain": [
       "[-2.33711730708738, 1.33711730708738]"
      ]
     },
     "execution_count": 61,
     "metadata": {},
     "output_type": "execute_result"
    }
   ],
   "source": [
    "[evo.subs({t: _matpar[γ]}) for evo in model.homogeneous_α(state, _matpar)]"
   ]
  },
  {
   "cell_type": "code",
   "execution_count": 53,
   "metadata": {},
   "outputs": [
    {
     "data": {
      "image/png": "[encoded data removed]",
      "text/plain": [
       "<Figure size 800x600 with 1 Axes>"
      ]
     },
     "metadata": {},
     "output_type": "display_data"
    }
   ],
   "source": [
    "alpha = model.homogeneous_damage(state, _matpar)\n",
    "figure, axis = plt.subplots(1, 1, figsize=(8, 6))\n",
    "\n",
    "_f = sp.lambdify(t, alpha.subs(_matpar), 'numpy')\n",
    "axis.plot(_loads, _f(_loads), c='k', lw=3)\n",
    "\n",
    "plt.axhline(0, c='k')\n",
    "plt.xlabel('t')\n",
    "plt.ylabel('$\\\\alpha$')\n",
    "plt.xticks([0, 1, _matpar[γ]], ['0', '$t_c$', '$\\\\gamma$'])\n",
    "plt.yticks([0, 1])\n",
    "\n",
    "for key, spine in axis.spines.items():\n",
    "    spine.set_visible(False)\n",
    "    \n",
    "    \n",
    "# plt.savefig(os.path.join(output_dir, 'homogeneous_damage-crit.png'))"
   ]
  },
  {
   "cell_type": "code",
   "execution_count": 50,
   "metadata": {},
   "outputs": [
    {
     "data": {
      "text/plain": [
       "[<matplotlib.lines.Line2D at 0x1469cd490>]"
      ]
     },
     "execution_count": 50,
     "metadata": {},
     "output_type": "execute_result"
    },
    {
     "data": {
      "image/png": "[encoded data removed]",
      "text/plain": [
       "<Figure size 800x600 with 1 Axes>"
      ]
     },
     "metadata": {},
     "output_type": "display_data"
    }
   ],
   "source": [
    "fig, ax = plt.subplots(1, 1, figsize=(8, 6))\n",
    "\n",
    "subs_homog_α, subs_homog_e =  model._state_homog_substitutions(state)\n",
    "alpha = model.homogeneous_damage(state, _matpar)\n",
    "\n",
    "_en = model.energy_fc_alpha().subs(subs_homog_α)    \\\n",
    "            .subs(_matpar) \\\n",
    "            .replace(_a, model.model.a) \\\n",
    "            .replace(sp.Function('s'), atls.s)      \\\n",
    "            .replace(_w, model.model.w)  \\\n",
    "            .subs(_matpar)          \\\n",
    "    .subs({sp.symbols('α_t'): alpha})\n",
    "\n",
    "_energy_damage = model.model._damage(state).subs(subs_homog_α).subs(_matpar) \\\n",
    "            .replace(_w, model.model.w)  \\\n",
    "            .subs({sp.symbols('α_t'): alpha})\n",
    "\n",
    "_f = sp.lambdify(t, _en.subs(_matpar), 'numpy')\n",
    "_f1 = sp.lambdify(t, _energy_damage, 'numpy')\n",
    "ax.plot(_loads, _f(_loads), label=f'N = {_N}, total', lw=3, c='C'+str(_N))\n",
    "ax.plot(_loads, _f1(_loads), c='k', label=f'N = {_N}, damage')\n",
    "ax.plot(_loads, _f(_loads)-_f1(_loads), c='k', label=f'N = {_N}, elastic')"
   ]
  },
  {
   "cell_type": "code",
   "execution_count": null,
   "metadata": {},
   "outputs": [],
   "source": []
  }
 ],
 "metadata": {
  "kernelspec": {
   "display_name": "Python 3",
   "language": "python",
   "name": "python3"
  },
  "language_info": {
   "codemirror_mode": {
    "name": "ipython",
    "version": 3
   },
   "file_extension": ".py",
   "mimetype": "text/x-python",
   "name": "python",
   "nbconvert_exporter": "python",
   "pygments_lexer": "ipython3",
   "version": "3.11.6"
  },
  "orig_nbformat": 4
 },
 "nbformat": 4,
 "nbformat_minor": 2
}
