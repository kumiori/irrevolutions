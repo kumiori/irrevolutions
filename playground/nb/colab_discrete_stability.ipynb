{
  "cells": [
    {
      "cell_type": "markdown",
      "metadata": {
        "colab_type": "text",
        "id": "view-in-github"
      },
      "source": [
        "<a href=\"https://colab.research.google.com/github/kumiori/mec647/blob/andres-conerecipe/playground/nb/discrete_stability.ipynb\" target=\"_parent\"><img src=\"https://colab.research.google.com/assets/colab-badge.svg\" alt=\"Open In Colab\"/></a>"
      ]
    },
    {
      "cell_type": "code",
      "execution_count": 34,
      "metadata": {
        "id": "0fnr9Vinc8H_"
      },
      "outputs": [],
      "source": [
        "import sympy as sp\n",
        "import numpy as np\n",
        "import matplotlib.pyplot as plt\n",
        "\n",
        "import yaml\n",
        "import hashlib\n",
        "\n",
        "def load_data(rootdir):\n",
        "\n",
        "\t# with open(rootdir + '/parameters.pkl', 'r') as f:\n",
        "\t# \tparams = json.load(f)\n",
        "\n",
        "\twith open(rootdir + '/parameters.yaml') as f:\n",
        "\t\tparams = yaml.load(f, Loader=yaml.FullLoader)\n",
        "\n",
        "\twith open(rootdir + '/time_data.json', 'r') as f:\n",
        "\t\tdata = json.load(f)\n",
        "\t\tdataf = pd.DataFrame(data).sort_values('load')\n",
        "\n",
        "\tif os.path.isfile(rootdir + '/signature.md5'):\n",
        "#         print('sig file found')\n",
        "\t\twith open(rootdir + '/signature.md5', 'r') as f:\n",
        "\t\t\tsignature = f.read()\n",
        "\telse:\n",
        "\t\tprint('no sig file found')\n",
        "\t\tsignature = hashlib.md5(str(params).encode('utf-8')).hexdigest()\n",
        "\n",
        "\treturn params, dataf, signature \n"
      ]
    },
    {
      "cell_type": "code",
      "execution_count": null,
      "metadata": {},
      "outputs": [],
      "source": [
        "\n",
        "branch_name = 'main'\n",
        "branch_name = 'andres-conerecipe'\n",
        "\n",
        "!rm -rf mec647\n",
        "try:\n",
        "  !git clone -b {branch_name} https://github.com/kumiori/mec647.git\n",
        "#   sys.path.append('mec647/')\n",
        "\n",
        "except Exception as e:\n",
        "  print('Something went wrong', e)\n",
        "  !rm -rf mec647\n",
        "  !git clone https://github.com/kumiori/mec647.git\n",
        "\n"
      ]
    },
    {
      "cell_type": "code",
      "execution_count": 6,
      "metadata": {},
      "outputs": [],
      "source": [
        "## Simple Analytic \n",
        "α, α1, α2, e1, e2 = sp.symbols('α α1 α2 e1 e2')\n",
        "u1, u2 = sp.symbols('u1 u2')\n",
        "K1, K2 = sp.symbols('K1 K2', positive=True)\n",
        "s1, s2 = sp.symbols('s1 s2', positive=True)\n",
        "μ, N = sp.symbols('μ N', positive=True)\n",
        "w1 = sp.symbols('w1', positive=True)\n",
        "t = sp.Symbol('t', positive=True)\n",
        "k = sp.Symbol('k', positive=True)\n",
        "\n",
        "# _N = 2\n",
        "\n",
        "K = lambda α: (1-α)/(1+(k-1)*α)\n",
        "s = lambda α: 1/K(α)\n",
        "\n",
        "U = 1/2*μ*(K1*u1**2 + K2*(t-u1)**2) * N\n",
        "\n",
        "S = w1*(α1 + α2) / N\n",
        "\n",
        "sol_u = sp.solve(U.diff(u1), u1)\n",
        "\n"
      ]
    },
    {
      "cell_type": "markdown",
      "metadata": {},
      "source": [
        "### Example: material parameters"
      ]
    },
    {
      "cell_type": "code",
      "execution_count": 21,
      "metadata": {},
      "outputs": [],
      "source": [
        "_params = {\n",
        "    'N': 2,\n",
        "    'k': 3,\n",
        "    'k_res': 0.0001,\n",
        "    'model_dimension': 1,\n",
        "    'model_type': '1D-discrete',\n",
        "    'mu': 1,\n",
        "    'w1': 1}\n",
        "\n",
        "_mu, _w1, _k, _N = _params.get(\"mu\"), _params.get(\"w1\"), _params.get(\"k\"), _params[\"N\"]\n",
        "\n",
        "matpar = {k: _k, w1: _w1, N: _N, μ: _mu}\n"
      ]
    },
    {
      "cell_type": "code",
      "execution_count": 7,
      "metadata": {},
      "outputs": [
        {
          "data": {
            "text/latex": [
              "$\\displaystyle \\frac{0.5 K_{1} K_{2} N t^{2} μ}{K_{1} + K_{2}}$"
            ],
            "text/plain": [
              "0.5*K1*K2*N*t**2*μ/(K1 + K2)"
            ]
          },
          "execution_count": 7,
          "metadata": {},
          "output_type": "execute_result"
        }
      ],
      "source": [
        "E=U.subs(u1, sol_u[0]).simplify()\n",
        "E"
      ]
    },
    {
      "cell_type": "markdown",
      "metadata": {},
      "source": [
        "## Homogeneous response\n"
      ]
    },
    {
      "cell_type": "code",
      "execution_count": 8,
      "metadata": {},
      "outputs": [
        {
          "data": {
            "text/latex": [
              "$\\displaystyle \\frac{0.25 N t^{2} μ \\left(1 - α\\right)}{α \\left(k - 1\\right) + 1}$"
            ],
            "text/plain": [
              "0.25*N*t**2*μ*(1 - α)/(α*(k - 1) + 1)"
            ]
          },
          "execution_count": 8,
          "metadata": {},
          "output_type": "execute_result"
        }
      ],
      "source": [
        "\n",
        "_E = E.subs({K1: 1/s(α), K2: 1/s(α)})\n",
        "_E"
      ]
    },
    {
      "cell_type": "code",
      "execution_count": 9,
      "metadata": {},
      "outputs": [
        {
          "data": {
            "text/latex": [
              "$\\displaystyle \\frac{0.25 N t^{2} μ \\left(1 - α\\right)}{α \\left(k - 1\\right) + 1} + \\frac{2 w_{1} α}{N}$"
            ],
            "text/plain": [
              "0.25*N*t**2*μ*(1 - α)/(α*(k - 1) + 1) + 2*w1*α/N"
            ]
          },
          "execution_count": 9,
          "metadata": {},
          "output_type": "execute_result"
        }
      ],
      "source": [
        "F = (E+S)\n",
        "F = (E+S).subs({K1: 1/s(α), K2: 1/s(α), α1: α, α2: α})\n",
        "\n",
        "F"
      ]
    },
    {
      "cell_type": "markdown",
      "metadata": {},
      "source": [
        "### Critical damage load"
      ]
    },
    {
      "cell_type": "code",
      "execution_count": 10,
      "metadata": {},
      "outputs": [
        {
          "data": {
            "text/latex": [
              "$\\displaystyle - \\frac{0.25 N k t^{2} μ}{\\left(k α - α + 1\\right)^{2}} + \\frac{2 w_{1}}{N}$"
            ],
            "text/plain": [
              "-0.25*N*k*t**2*μ/(k*α - α + 1)**2 + 2*w1/N"
            ]
          },
          "execution_count": 10,
          "metadata": {},
          "output_type": "execute_result"
        }
      ],
      "source": [
        "Fa = F.diff(α).simplify()\n",
        "Fa"
      ]
    },
    {
      "cell_type": "code",
      "execution_count": 11,
      "metadata": {},
      "outputs": [
        {
          "data": {
            "text/latex": [
              "$\\displaystyle - 0.25 N k t^{2} μ + \\frac{2 w_{1}}{N}$"
            ],
            "text/plain": [
              "-0.25*N*k*t**2*μ + 2*w1/N"
            ]
          },
          "execution_count": 11,
          "metadata": {},
          "output_type": "execute_result"
        }
      ],
      "source": [
        "Fa.subs({α: 0})"
      ]
    },
    {
      "cell_type": "code",
      "execution_count": 12,
      "metadata": {},
      "outputs": [
        {
          "data": {
            "text/latex": [
              "$\\displaystyle \\frac{2.82842712474619 \\sqrt{w_{1}}}{N \\sqrt{k} \\sqrt{μ}}$"
            ],
            "text/plain": [
              "2.82842712474619*sqrt(w1)/(N*sqrt(k)*sqrt(μ))"
            ]
          },
          "execution_count": 12,
          "metadata": {},
          "output_type": "execute_result"
        }
      ],
      "source": [
        "sp.solve(Fa, t)[1].subs({α: 0})"
      ]
    },
    {
      "cell_type": "code",
      "execution_count": 22,
      "metadata": {},
      "outputs": [
        {
          "data": {
            "text/plain": [
              "4.5"
            ]
          },
          "execution_count": 22,
          "metadata": {},
          "output_type": "execute_result"
        }
      ],
      "source": [
        "_F = sp.lambdify((α, t), F.subs(matpar), 'numpy')\n",
        "_F(0, 3)"
      ]
    },
    {
      "cell_type": "code",
      "execution_count": 31,
      "metadata": {},
      "outputs": [
        {
          "data": {
            "text/latex": [
              "$\\displaystyle \\frac{2.82842712474619 \\sqrt{w_{1}}}{N \\sqrt{k} \\sqrt{μ}}$"
            ],
            "text/plain": [
              "2.82842712474619*sqrt(w1)/(N*sqrt(k)*sqrt(μ))"
            ]
          },
          "execution_count": 31,
          "metadata": {},
          "output_type": "execute_result"
        }
      ],
      "source": [
        "\n",
        "tc = sp.solve(Fa, t)[1].subs({α: 0})\n",
        "tc"
      ]
    },
    {
      "cell_type": "code",
      "execution_count": 33,
      "metadata": {},
      "outputs": [
        {
          "data": {
            "text/latex": [
              "$\\displaystyle 0.816496580927726$"
            ],
            "text/plain": [
              "0.816496580927726"
            ]
          },
          "execution_count": 33,
          "metadata": {},
          "output_type": "execute_result"
        }
      ],
      "source": [
        "_tc = sp.N(tc.subs(matpar))\n",
        "_tc"
      ]
    },
    {
      "cell_type": "code",
      "execution_count": 30,
      "metadata": {},
      "outputs": [
        {
          "data": {
            "text/plain": [
              "<matplotlib.lines.Line2D at 0x145963340>"
            ]
          },
          "execution_count": 30,
          "metadata": {},
          "output_type": "execute_result"
        },
        {
          "data": {
            "image/png": "[encoded data removed]",
            "text/plain": [
              "<Figure size 432x288 with 1 Axes>"
            ]
          },
          "metadata": {
            "needs_background": "light"
          },
          "output_type": "display_data"
        }
      ],
      "source": [
        "plt.plot(np.linspace(0., 2.), _F(0, np.linspace(0., 2.)))\n",
        "plt.axvline(_tc, c='k')\n"
      ]
    },
    {
      "cell_type": "code",
      "execution_count": null,
      "metadata": {},
      "outputs": [],
      "source": []
    }
  ],
  "metadata": {
    "colab": {
      "authorship_tag": "ABX9TyM5sqGttt4V4dnzNq4srf19",
      "include_colab_link": true,
      "provenance": []
    },
    "kernelspec": {
      "display_name": "Python 3",
      "name": "python3"
    },
    "language_info": {
      "codemirror_mode": {
        "name": "ipython",
        "version": 3
      },
      "file_extension": ".py",
      "mimetype": "text/x-python",
      "name": "python",
      "nbconvert_exporter": "python",
      "pygments_lexer": "ipython3",
      "version": "3.9.13"
    }
  },
  "nbformat": 4,
  "nbformat_minor": 0
}
