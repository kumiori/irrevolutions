{
  "nbformat": 4,
  "nbformat_minor": 0,
  "metadata": {
    "colab": {
      "name": "mec647_intro_0.ipynb",
      "provenance": [],
      "authorship_tag": "ABX9TyNvl48FzK3w5+B8gM7/m98p",
      "include_colab_link": true
    },
    "kernelspec": {
      "name": "python3",
      "display_name": "Python 3"
    },
    "language_info": {
      "name": "python"
    }
  },
  "cells": [
    {
      "cell_type": "markdown",
      "metadata": {
        "id": "view-in-github",
        "colab_type": "text"
      },
      "source": [
        "<a href=\"https://colab.research.google.com/github/kumiori/mec647/blob/main/mec647_intro_0.ipynb\" target=\"_parent\"><img src=\"https://colab.research.google.com/assets/colab-badge.svg\" alt=\"Open In Colab\"/></a>"
      ]
    },
    {
      "cell_type": "code",
      "execution_count": null,
      "metadata": {
        "id": "sOCijHa4WaXW"
      },
      "outputs": [],
      "source": [
        "%%capture\n",
        "import sys\n",
        "\n",
        "try:\n",
        "    import google.colab  # noqa: F401\n",
        "except ImportError:\n",
        "    import ufl  # noqa: F401\n",
        "    import dolfinx  # noqa: F401\n",
        "else:\n",
        "    try:\n",
        "        import ufl\n",
        "        import dolfinx\n",
        "    except ImportError:\n",
        "        !wget \"https://fem-on-colab.github.io/releases/fenicsx-install.sh\" -O \"/tmp/fenicsx-install.sh\" && bash \"/tmp/fenicsx-install.sh\";\n",
        "        import ufl  # noqa: F401\n",
        "        import dolfinx  # noqa: F401\n",
        "\n",
        "try:\n",
        "    import pyvista\n",
        "except ImportError:\n",
        "    !{sys.executable} -m pip install --upgrade pyvista itkwidgets;\n",
        "    import pyvista  # noqa: F401\n",
        "    from pyvista.utilities import xvfb\n",
        "\n",
        "try:\n",
        "    import gmsh\n",
        "except ImportError:\n",
        "    !{sys.executable} -m pip install gmsh\n",
        "    import gmsh\n",
        "\n",
        "!sudo apt install libgl1-mesa-glx xvfb;\n",
        "!{sys.executable} -m pip install pythreejs;\n",
        "!{sys.executable} -m pip install ipygany;\n",
        "!{sys.executable} -m pip install --upgrade PyYAML"
      ]
    },
    {
      "cell_type": "code",
      "source": [
        "  print(dolfinx.__version__)"
      ],
      "metadata": {
        "colab": {
          "base_uri": "https://localhost:8080/"
        },
        "id": "BURQGmN2W8f7",
        "outputId": "e6ef50a2-dafd-4318-8d3b-4d18e0e1f824"
      },
      "execution_count": null,
      "outputs": [
        {
          "output_type": "stream",
          "name": "stdout",
          "text": [
            "0.3.1.0\n"
          ]
        }
      ]
    },
    {
      "cell_type": "code",
      "source": [
        "import dolfinx\n",
        "print(f\"DOLFINx version: {dolfinx.__version__} based on GIT commit: {dolfinx.git_commit_hash} of https://github.com/FEniCS/dolfinx/\")"
      ],
      "metadata": {
        "id": "USC5VJLUPaSB",
        "outputId": "318a03e1-36a4-4a12-ccf2-1f2024a1b393",
        "colab": {
          "base_uri": "https://localhost:8080/"
        }
      },
      "execution_count": null,
      "outputs": [
        {
          "output_type": "stream",
          "name": "stdout",
          "text": [
            "DOLFINx version: 0.3.1.0 based on GIT commit: 3a113a8854b14649a70127cae6455f2588e8be31 of https://github.com/FEniCS/dolfinx/\n"
          ]
        }
      ]
    },
    {
      "cell_type": "code",
      "source": [
        "import mpi4py\n",
        "import mpi4py.MPI\n"
      ],
      "metadata": {
        "id": "KRFx4DvyJdAG"
      },
      "execution_count": null,
      "outputs": []
    },
    {
      "cell_type": "code",
      "source": [
        "import dolfinx.fem\n",
        "import dolfinx.mesh\n",
        "from dolfinx.mesh import CellType\n",
        "\n",
        "from mpi4py import MPI\n",
        "\n",
        "import numpy as np"
      ],
      "metadata": {
        "id": "LtzMjsbX89LP"
      },
      "execution_count": null,
      "outputs": []
    },
    {
      "cell_type": "code",
      "source": [
        "mesh = dolfinx.mesh.create_rectangle?"
      ],
      "metadata": {
        "id": "v5EXU-q_-kaF"
      },
      "execution_count": null,
      "outputs": []
    },
    {
      "cell_type": "code",
      "source": [
        "mesh = dolfinx.mesh.create_rectangle(\n",
        "  MPI.COMM_WORLD,\n",
        "  ((0., 0.), (1., .1)),\n",
        "  (10, 5),\n",
        "  cell_type=CellType.triangle\n",
        "  )"
      ],
      "metadata": {
        "id": "2L2zFrdII4z2"
      },
      "execution_count": null,
      "outputs": []
    },
    {
      "cell_type": "code",
      "source": [
        "V = dolfinx.fem.FunctionSpace(mesh, (\"CG\", 1))"
      ],
      "metadata": {
        "id": "8sKGMiU1JU7B"
      },
      "execution_count": null,
      "outputs": []
    },
    {
      "cell_type": "code",
      "source": [
        "import ufl \n",
        "u = ufl.TrialFunction(V)\n",
        "v = ufl.TestFunction(V)"
      ],
      "metadata": {
        "id": "ysIrsatMJlrk"
      },
      "execution_count": null,
      "outputs": []
    },
    {
      "cell_type": "code",
      "source": [
        "dx = ufl.dx"
      ],
      "metadata": {
        "id": "sKZ2_RpVLDTx"
      },
      "execution_count": null,
      "outputs": []
    },
    {
      "cell_type": "code",
      "source": [
        "f = dolfinx.fem.Function(V)\n",
        "dim_V = f.vector.local_size\n",
        "# dim_V = ?\n",
        "f.vector[:] = np.arange(1, dim_V + 1)"
      ],
      "metadata": {
        "id": "qfhWHigKLJa5"
      },
      "execution_count": null,
      "outputs": []
    },
    {
      "cell_type": "code",
      "source": [
        "\n",
        "import dolfinx.plot\n",
        "from dolfinx.plot import create_vtk_topology\n",
        "from IPython.display import Image, display\n",
        "import pyvista\n",
        "from pyvista.utilities import xvfb\n",
        "\n",
        "topology, cell_types = create_vtk_topology(mesh, mesh.topology.dim)\n",
        "\n",
        "# pyvista.set_jupyter_backend(\"pythreejs\")\n"
      ],
      "metadata": {
        "id": "-4wsDQZ-LnDj"
      },
      "execution_count": null,
      "outputs": []
    },
    {
      "cell_type": "code",
      "source": [
        "grid = pyvista.UnstructuredGrid(topology, cell_types, mesh.geometry.x)\n",
        "grid.point_data[\"f\"] = f.compute_point_values().real\n",
        "grid.set_active_scalars(\"f\")\n",
        "\n",
        "xvfb.start_xvfb(wait=0.05)\n",
        "pyvista.OFF_SCREEN = True\n",
        "\n"
      ],
      "metadata": {
        "id": "65l9VV-GLoDX"
      },
      "execution_count": null,
      "outputs": []
    },
    {
      "cell_type": "code",
      "source": [
        "topology, cell_types = dolfinx.plot.create_vtk_topology(mesh, mesh.topology.dim)\n",
        "grid = pyvista.UnstructuredGrid(topology, cell_types, mesh.geometry.x)\n",
        "\n",
        "plotter = pyvista.Plotter()\n",
        "\n",
        "grid = pyvista.UnstructuredGrid(topology, cell_types, mesh.geometry.x)\n",
        "grid.point_data[\"f\"] = f.compute_point_values().real\n",
        "grid.set_active_scalars(\"f\")\n",
        "\n",
        "plotter.add_mesh(grid, show_edges=True)\n",
        "plotter.view_xy()\n",
        "if not pyvista.OFF_SCREEN:\n",
        "    plotter.show()\n",
        "else:\n",
        "    pyvista.start_xvfb()\n",
        "    figure = plotter.screenshot(\"bar_f.png\")"
      ],
      "metadata": {
        "id": "SkeKHcG4Pu9C"
      },
      "execution_count": null,
      "outputs": []
    },
    {
      "cell_type": "code",
      "source": [
        "display(Image(filename=\"bar_f.png\"))"
      ],
      "metadata": {
        "id": "P_MQOZlxMX0C",
        "outputId": "ae1ba891-d381-4098-a705-7a8a45d1391e",
        "colab": {
          "base_uri": "https://localhost:8080/",
          "height": 488
        }
      },
      "execution_count": null,
      "outputs": [
        {
          "output_type": "display_data",
          "data": {
            "image/png": "[encoded data removed]",
            "text/plain": [
              "<IPython.core.display.Image object>"
            ]
          },
          "metadata": {}
        }
      ]
    },
    {
      "cell_type": "code",
      "source": [
        ""
      ],
      "metadata": {
        "id": "jACnyU8gchCX"
      },
      "execution_count": null,
      "outputs": []
    }
  ]
}