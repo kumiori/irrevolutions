{
  "nbformat": 4,
  "nbformat_minor": 0,
  "metadata": {
    "colab": {
      "provenance": [],
      "authorship_tag": "ABX9TyPbMDIEkUhHs22PArd5e2jj",
      "include_colab_link": true
    },
    "kernelspec": {
      "name": "python3",
      "display_name": "Python 3"
    },
    "language_info": {
      "name": "python"
    }
  },
  "cells": [
    {
      "cell_type": "markdown",
      "metadata": {
        "id": "view-in-github",
        "colab_type": "text"
      },
      "source": [
        "<a href=\"https://colab.research.google.com/github/kumiori/mec647/blob/main/dAlembert_stability.ipynb\" target=\"_parent\"><img src=\"https://colab.research.google.com/assets/colab-badge.svg\" alt=\"Open In Colab\"/></a>"
      ]
    },
    {
      "cell_type": "code",
      "execution_count": null,
      "metadata": {
        "id": "-g2hHa6LBoQW"
      },
      "outputs": [],
      "source": [
        "import os"
      ]
    },
    {
      "cell_type": "markdown",
      "source": [
        "## Stability, stabilities, _instabilities_, bifurcation, and problems\n",
        "### From $\\partial$'Alembert"
      ],
      "metadata": {
        "id": "EI7ryWlGDNWT"
      }
    },
    {
      "cell_type": "code",
      "source": [],
      "metadata": {
        "id": "T5BWCDctDcIV"
      },
      "execution_count": null,
      "outputs": []
    }
  ]
}