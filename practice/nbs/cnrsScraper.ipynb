{
 "cells": [
  {
   "cell_type": "code",
   "execution_count": 1,
   "metadata": {},
   "outputs": [
    {
     "ename": "ModuleNotFoundError",
     "evalue": "No module named 'bs4'",
     "output_type": "error",
     "traceback": [
      "\u001b[0;31m---------------------------------------------------------------------------\u001b[0m",
      "\u001b[0;31mModuleNotFoundError\u001b[0m                       Traceback (most recent call last)",
      "\u001b[1;32m/Users/kumiori/Documents/WIP/m4s-MEC647/mec647/practice/nbs/cnrsScraper.ipynb Cell 1'\u001b[0m in \u001b[0;36m<cell line: 1>\u001b[0;34m()\u001b[0m\n\u001b[0;32m----> <a href='vscode-notebook-cell:/Users/kumiori/Documents/WIP/m4s-MEC647/mec647/practice/nbs/cnrsScraper.ipynb#ch0000000?line=0'>1</a>\u001b[0m \u001b[39mfrom\u001b[39;00m \u001b[39mbs4\u001b[39;00m \u001b[39mimport\u001b[39;00m BeautifulSoup\n\u001b[1;32m      <a href='vscode-notebook-cell:/Users/kumiori/Documents/WIP/m4s-MEC647/mec647/practice/nbs/cnrsScraper.ipynb#ch0000000?line=1'>2</a>\u001b[0m \u001b[39mfrom\u001b[39;00m \u001b[39murllib\u001b[39;00m \u001b[39mimport\u001b[39;00m request\n\u001b[1;32m      <a href='vscode-notebook-cell:/Users/kumiori/Documents/WIP/m4s-MEC647/mec647/practice/nbs/cnrsScraper.ipynb#ch0000000?line=3'>4</a>\u001b[0m \u001b[39m# url = \"http://144.122.167.229\"\u001b[39;00m\n\u001b[1;32m      <a href='vscode-notebook-cell:/Users/kumiori/Documents/WIP/m4s-MEC647/mec647/practice/nbs/cnrsScraper.ipynb#ch0000000?line=4'>5</a>\u001b[0m \u001b[39m# opener = urllib.request.build_opener()\u001b[39;00m\n\u001b[1;32m      <a href='vscode-notebook-cell:/Users/kumiori/Documents/WIP/m4s-MEC647/mec647/practice/nbs/cnrsScraper.ipynb#ch0000000?line=5'>6</a>\u001b[0m \u001b[39m# opener.addheaders = [('User-agent', 'Mozilla/5.0')]\u001b[39;00m\n\u001b[1;32m      <a href='vscode-notebook-cell:/Users/kumiori/Documents/WIP/m4s-MEC647/mec647/practice/nbs/cnrsScraper.ipynb#ch0000000?line=6'>7</a>\u001b[0m \u001b[39m# data = opener.open(url).read()\u001b[39;00m\n",
      "\u001b[0;31mModuleNotFoundError\u001b[0m: No module named 'bs4'"
     ]
    }
   ],
   "source": [
    "from bs4 import BeautifulSoup\n",
    "from urllib import request\n",
    "\n",
    "# url = \"http://144.122.167.229\"\n",
    "# opener = urllib.request.build_opener()\n",
    "# opener.addheaders = [('User-agent', 'Mozilla/5.0')]\n",
    "# data = opener.open(url).read()\n",
    "\n",
    "data = \"\"\"\n",
    "<ul class=\"ui-select-choices ui-select-choices ui-select-choices-content ui-select-dropdown dropdown-menu\" ng-show=\"$select.open &amp;&amp; $select.items.length > 0\" ui-disable-choice=\"item.Disabled\" repeat=\"item in approverLevel.CurrentApprovers\" refresh=\"$parent.getApprovers($select.search, approverLevel, trip)\" refresh-delay=\"500\" position=\"down\" minimum-input-length=\"0\" aria-hidden=\"false\" style=\"\"><li class=\"ui-select-choices-group\" id=\"ui-select-choices-6\"><div class=\"divider ng-hide\" ng-show=\"$select.isGrouped &amp;&amp; $index > 0\" aria-hidden=\"true\"></div><div ng-show=\"$select.isGrouped\" class=\"ui-select-choices-group-label dropdown-header ng-hide\" ng-bind=\"$group.name\" aria-hidden=\"true\"></div><!-- ngRepeat: item in $select.items --><!-- ngIf: $select.open --><div ng-attr-id=\"ui-select-choices-row-{{ $select.generatedId }}-{{$index}}\" class=\"ui-select-choices-row\" ng-class=\"{active: $select.isActive(this), disabled: $select.isDisabled(this)}\" role=\"option\" ng-repeat=\"item in $select.items\" ng-if=\"$select.open\" ng-click=\"$select.select(item,$select.skipFocusser,$event)\" tabindex=\"0\" id=\"ui-select-choices-row-6-0\" style=\"\"><span class=\"ui-select-choices-row-inner\" uis-transclude-append=\"\">\n",
    "                                            <div>Fatima ABBAS (abbas@lipn.univ-paris13.fr, CNRS DR01 Ile-de-France Villejuif)</div>\n",
    "                                        </span></div><!-- end ngIf: $select.open --><!-- end ngRepeat: item in $select.items --><!-- ngIf: $select.open --><div ng-attr-id=\"ui-select-choices-row-{{ $select.generatedId }}-{{$index}}\" class=\"ui-select-choices-row\" ng-class=\"{active: $select.isActive(this), disabled: $select.isDisabled(this)}\" role=\"option\" ng-repeat=\"item in $select.items\" ng-if=\"$select.open\" ng-click=\"$select.select(item,$select.skipFocusser,$event)\" tabindex=\"0\" id=\"ui-select-choices-row-6-1\"><span class=\"ui-select-choices-row-inner\" uis-transclude-append=\"\">\n",
    "                                            <div>Valerie ABEL RAMBEAU (valerie.abel@ims-bordeaux.fr, CNRS DR15 Aquitaine)</div>\n",
    "                                        </span></div><!-- end ngIf: $select.open --><!-- end ngRepeat: item in $select.items --><!-- ngIf: $select.open --><div ng-attr-id=\"ui-select-choices-row-{{ $select.generatedId }}-{{$index}}\" class=\"ui-select-choices-row\" ng-class=\"{active: $select.isActive(this), disabled: $select.isDisabled(this)}\" role=\"option\" ng-repeat=\"item in $select.items\" ng-if=\"$select.open\" ng-click=\"$select.select(item,$select.skipFocusser,$event)\" tabindex=\"0\" id=\"ui-select-choices-row-6-2\"><span class=\"ui-select-choices-row-inner\" uis-transclude-append=\"\">\n",
    "                                            <div>Maryvonne ABGRALL (saout@sb-roscoff.fr, CNRS DR17 Bretagne et Pays de la Loire)</div>\n",
    "                                        </span></div><!-- end ngIf: $select.open --><!-- end ngRepeat: item in $select.items --><!-- ngIf: $select.open --><div ng-attr-id=\"ui-select-choices-row-{{ $select.generatedId }}-{{$index}}\" class=\"ui-select-choices-row\" ng-class=\"{active: $select.isActive(this), disabled: $select.isDisabled(this)}\" role=\"option\" ng-repeat=\"item in $select.items\" ng-if=\"$select.open\" ng-click=\"$select.select(item,$select.skipFocusser,$event)\" tabindex=\"0\" id=\"ui-select-choices-row-6-3\"><span class=\"ui-select-choices-row-inner\" uis-transclude-append=\"\">\n",
    "                                            <div>Christelle ABRAHAM (christelle.abraham@univ-tlse2.fr, CNRS DR14 Occitanie Ouest)</div>\n",
    "                                        </span></div><!-- end ngIf: $select.open --><!-- end ngRepeat: item in $select.items --><!-- ngIf: $select.open --><div ng-attr-id=\"ui-select-choices-row-{{ $select.generatedId }}-{{$index}}\" class=\"ui-select-choices-row\" ng-class=\"{active: $select.isActive(this), disabled: $select.isDisabled(this)}\" role=\"option\" ng-repeat=\"item in $select.items\" ng-if=\"$select.open\" ng-click=\"$select.select(item,$select.skipFocusser,$event)\" tabindex=\"0\" id=\"ui-select-choices-row-6-4\"><span class=\"ui-select-choices-row-inner\" uis-transclude-append=\"\">\n",
    "                                            <div>Sophie ABRIET (sophie.abriet@satie.ens-cachan.fr, CNRS DR04 Ile-de-France Gif-sur-Yvette)</div>\n",
    "                                        </span></div><!-- end ngIf: $select.open --><!-- end ngRepeat: item in $select.items --><!-- ngIf: $select.open --><div ng-attr-id=\"ui-select-choices-row-{{ $select.generatedId }}-{{$index}}\" class=\"ui-select-choices-row\" ng-class=\"{active: $select.isActive(this), disabled: $select.isDisabled(this)}\" role=\"option\" ng-repeat=\"item in $select.items\" ng-if=\"$select.open\" ng-click=\"$select.select(item,$select.skipFocusser,$event)\" tabindex=\"0\" id=\"ui-select-choices-row-6-5\"><span class=\"ui-select-choices-row-inner\" uis-transclude-append=\"\">\n",
    "                                            <div>Michelle ABUD (micabud@ehess.fr, CNRS DR01 Ile-de-France Villejuif)</div>\n",
    "                                        </span></div><!-- end ngIf: $select.open --><!-- end ngRepeat: item in $select.items --><!-- ngIf: $select.open --><div ng-attr-id=\"ui-select-choices-row-{{ $select.generatedId }}-{{$index}}\" class=\"ui-select-choices-row\" ng-class=\"{active: $select.isActive(this), disabled: $select.isDisabled(this)}\" role=\"option\" ng-repeat=\"item in $select.items\" ng-if=\"$select.open\" ng-click=\"$select.select(item,$select.skipFocusser,$event)\" tabindex=\"0\" id=\"ui-select-choices-row-6-6\"><span class=\"ui-select-choices-row-inner\" uis-transclude-append=\"\">\n",
    "                                            <div>Pascale ACCARD (pascale.accard@cnrs-dir.fr, CNRS DR16 Paris Michel-Ange)</div>\n",
    "                                        </span></div><!-- end ngIf: $select.open --><!-- end ngRepeat: item in $select.items --><!-- ngIf: $select.open --><div ng-attr-id=\"ui-select-choices-row-{{ $select.generatedId }}-{{$index}}\" class=\"ui-select-choices-row\" ng-class=\"{active: $select.isActive(this), disabled: $select.isDisabled(this)}\" role=\"option\" ng-repeat=\"item in $select.items\" ng-if=\"$select.open\" ng-click=\"$select.select(item,$select.skipFocusser,$event)\" tabindex=\"0\" id=\"ui-select-choices-row-6-7\"><span class=\"ui-select-choices-row-inner\" uis-transclude-append=\"\">\n",
    "                                            <div>Ourdya ACHELHI (ourdya.achelhi@obspm.fr, CNRS DR05 Ile-de-France Meudon)</div>\n",
    "                                        </span></div><!-- end ngIf: $select.open --><!-- end ngRepeat: item in $select.items --><!-- ngIf: $select.open --><div ng-attr-id=\"ui-select-choices-row-{{ $select.generatedId }}-{{$index}}\" class=\"ui-select-choices-row\" ng-class=\"{active: $select.isActive(this), disabled: $select.isDisabled(this)}\" role=\"option\" ng-repeat=\"item in $select.items\" ng-if=\"$select.open\" ng-click=\"$select.select(item,$select.skipFocusser,$event)\" tabindex=\"0\" id=\"ui-select-choices-row-6-8\"><span class=\"ui-select-choices-row-inner\" uis-transclude-append=\"\">\n",
    "                                            <div>Radhia ACHHEB (radhia.achheb@ens.fr, CNRS DR02 Paris-Centre)</div>\n",
    "                                        </span></div><!-- end ngIf: $select.open --><!-- end ngRepeat: item in $select.items --><!-- ngIf: $select.open --><div ng-attr-id=\"ui-select-choices-row-{{ $select.generatedId }}-{{$index}}\" class=\"ui-select-choices-row\" ng-class=\"{active: $select.isActive(this), disabled: $select.isDisabled(this)}\" role=\"option\" ng-repeat=\"item in $select.items\" ng-if=\"$select.open\" ng-click=\"$select.select(item,$select.skipFocusser,$event)\" tabindex=\"0\" id=\"ui-select-choices-row-6-9\"><span class=\"ui-select-choices-row-inner\" uis-transclude-append=\"\">\n",
    "                                            <div>Noa ACHOUR (noa.achour@univ-st-etienne.fr, CNRS DR07 Rhône Auvergne)</div>\n",
    "                                        </span></div><!-- end ngIf: $select.open --><!-- end ngRepeat: item in $select.items --><!-- ngIf: $select.open --><div ng-attr-id=\"ui-select-choices-row-{{ $select.generatedId }}-{{$index}}\" class=\"ui-select-choices-row\" ng-class=\"{active: $select.isActive(this), disabled: $select.isDisabled(this)}\" role=\"option\" ng-repeat=\"item in $select.items\" ng-if=\"$select.open\" ng-click=\"$select.select(item,$select.skipFocusser,$event)\" tabindex=\"0\" id=\"ui-select-choices-row-6-10\"><span class=\"ui-select-choices-row-inner\" uis-transclude-append=\"\">\n",
    "                                            <div>Christelle ADOULT (christelle.adoult@univ-grenoble-alpes.fr, CNRS DR11 Alpes)</div>\n",
    "                                        </span></div><!-- end ngIf: $select.open --><!-- end ngRepeat: item in $select.items --><!-- ngIf: $select.open --><div ng-attr-id=\"ui-select-choices-row-{{ $select.generatedId }}-{{$index}}\" class=\"ui-select-choices-row\" ng-class=\"{active: $select.isActive(this), disabled: $select.isDisabled(this)}\" role=\"option\" ng-repeat=\"item in $select.items\" ng-if=\"$select.open\" ng-click=\"$select.select(item,$select.skipFocusser,$event)\" tabindex=\"0\" id=\"ui-select-choices-row-6-11\"><span class=\"ui-select-choices-row-inner\" uis-transclude-append=\"\">\n",
    "                                            <div>Yasaman AFSHARNAJAFI (yasaman.afsharnajafi@cnrs.fr, CNRS DR04 Ile-de-France Gif-sur-Yvette)</div>\n",
    "                                        </span></div><!-- end ngIf: $select.open --><!-- end ngRepeat: item in $select.items --><!-- ngIf: $select.open --><div ng-attr-id=\"ui-select-choices-row-{{ $select.generatedId }}-{{$index}}\" class=\"ui-select-choices-row\" ng-class=\"{active: $select.isActive(this), disabled: $select.isDisabled(this)}\" role=\"option\" ng-repeat=\"item in $select.items\" ng-if=\"$select.open\" ng-click=\"$select.select(item,$select.skipFocusser,$event)\" tabindex=\"0\" id=\"ui-select-choices-row-6-12\"><span class=\"ui-select-choices-row-inner\" uis-transclude-append=\"\">\n",
    "                                            <div>Sophie AGARD (sophie.agard@placamat.cnrs.fr, CNRS DR15 Aquitaine)</div>\n",
    "                                        </span></div><!-- end ngIf: $select.open --><!-- end ngRepeat: item in $select.items --><!-- ngIf: $select.open --><div ng-attr-id=\"ui-select-choices-row-{{ $select.generatedId }}-{{$index}}\" class=\"ui-select-choices-row\" ng-class=\"{active: $select.isActive(this), disabled: $select.isDisabled(this)}\" role=\"option\" ng-repeat=\"item in $select.items\" ng-if=\"$select.open\" ng-click=\"$select.select(item,$select.skipFocusser,$event)\" tabindex=\"0\" id=\"ui-select-choices-row-6-13\"><span class=\"ui-select-choices-row-inner\" uis-transclude-append=\"\">\n",
    "                                            <div>Agnes AGARLA (agnes.agarla@univ-grenoble-alpes.fr, CNRS DR11 Alpes)</div>\n",
    "                                        </span></div><!-- end ngIf: $select.open --><!-- end ngRepeat: item in $select.items --><!-- ngIf: $select.open --><div ng-attr-id=\"ui-select-choices-row-{{ $select.generatedId }}-{{$index}}\" class=\"ui-select-choices-row\" ng-class=\"{active: $select.isActive(this), disabled: $select.isDisabled(this)}\" role=\"option\" ng-repeat=\"item in $select.items\" ng-if=\"$select.open\" ng-click=\"$select.select(item,$select.skipFocusser,$event)\" tabindex=\"0\" id=\"ui-select-choices-row-6-14\"><span class=\"ui-select-choices-row-inner\" uis-transclude-append=\"\">\n",
    "                                            <div>Laetitia AGOSTINI (laetitia.AGOSTINI.1@univ-amu.fr, CNRS DR12 Provence)</div>\n",
    "                                        </span></div><!-- end ngIf: $select.open --><!-- end ngRepeat: item in $select.items --><!-- ngIf: $select.open --><div ng-attr-id=\"ui-select-choices-row-{{ $select.generatedId }}-{{$index}}\" class=\"ui-select-choices-row\" ng-class=\"{active: $select.isActive(this), disabled: $select.isDisabled(this)}\" role=\"option\" ng-repeat=\"item in $select.items\" ng-if=\"$select.open\" ng-click=\"$select.select(item,$select.skipFocusser,$event)\" tabindex=\"0\" id=\"ui-select-choices-row-6-15\"><span class=\"ui-select-choices-row-inner\" uis-transclude-append=\"\">\n",
    "                                            <div>Sylvie AGUILLON (sylvie.aguillon@univ-amu.fr, CNRS DR12 Provence)</div>\n",
    "                                        </span></div><!-- end ngIf: $select.open --><!-- end ngRepeat: item in $select.items --><!-- ngIf: $select.open --><div ng-attr-id=\"ui-select-choices-row-{{ $select.generatedId }}-{{$index}}\" class=\"ui-select-choices-row\" ng-class=\"{active: $select.isActive(this), disabled: $select.isDisabled(this)}\" role=\"option\" ng-repeat=\"item in $select.items\" ng-if=\"$select.open\" ng-click=\"$select.select(item,$select.skipFocusser,$event)\" tabindex=\"0\" id=\"ui-select-choices-row-6-16\"><span class=\"ui-select-choices-row-inner\" uis-transclude-append=\"\">\n",
    "                                            <div>Theau AGUSTIN (theau.agustin@univ-amu.fr, CNRS DR12 Provence)</div>\n",
    "                                        </span></div><!-- end ngIf: $select.open --><!-- end ngRepeat: item in $select.items --><!-- ngIf: $select.open --><div ng-attr-id=\"ui-select-choices-row-{{ $select.generatedId }}-{{$index}}\" class=\"ui-select-choices-row\" ng-class=\"{active: $select.isActive(this), disabled: $select.isDisabled(this)}\" role=\"option\" ng-repeat=\"item in $select.items\" ng-if=\"$select.open\" ng-click=\"$select.select(item,$select.skipFocusser,$event)\" tabindex=\"0\" id=\"ui-select-choices-row-6-17\"><span class=\"ui-select-choices-row-inner\" uis-transclude-append=\"\">\n",
    "                                            <div>Ahmed AHMED (ahmed.ahmed@institutoptique.fr, CNRS DR04 Ile-de-France Gif-sur-Yvette)</div>\n",
    "                                        </span></div><!-- end ngIf: $select.open --><!-- end ngRepeat: item in $select.items --><!-- ngIf: $select.open --><div ng-attr-id=\"ui-select-choices-row-{{ $select.generatedId }}-{{$index}}\" class=\"ui-select-choices-row\" ng-class=\"{active: $select.isActive(this), disabled: $select.isDisabled(this)}\" role=\"option\" ng-repeat=\"item in $select.items\" ng-if=\"$select.open\" ng-click=\"$select.select(item,$select.skipFocusser,$event)\" tabindex=\"0\" id=\"ui-select-choices-row-6-18\"><span class=\"ui-select-choices-row-inner\" uis-transclude-append=\"\">\n",
    "                                            <div>Hayette AIDEL (hayette.aidel@cc.in2p3.fr, CNRS DR07 Rhône Auvergne)</div>\n",
    "                                        </span></div><!-- end ngIf: $select.open --><!-- end ngRepeat: item in $select.items --><!-- ngIf: $select.open --><div ng-attr-id=\"ui-select-choices-row-{{ $select.generatedId }}-{{$index}}\" class=\"ui-select-choices-row\" ng-class=\"{active: $select.isActive(this), disabled: $select.isDisabled(this)}\" role=\"option\" ng-repeat=\"item in $select.items\" ng-if=\"$select.open\" ng-click=\"$select.select(item,$select.skipFocusser,$event)\" tabindex=\"0\" id=\"ui-select-choices-row-6-19\"><span class=\"ui-select-choices-row-inner\" uis-transclude-append=\"\">\n",
    "                                            <div>Assia AIDEL (assia.aidel@persee.fr, CNRS DR07 Rhône Auvergne)</div>\n",
    "                                        </span></div><!-- end ngIf: $select.open --><!-- end ngRepeat: item in $select.items --><!-- ngIf: $select.open --><div ng-attr-id=\"ui-select-choices-row-{{ $select.generatedId }}-{{$index}}\" class=\"ui-select-choices-row\" ng-class=\"{active: $select.isActive(this), disabled: $select.isDisabled(this)}\" role=\"option\" ng-repeat=\"item in $select.items\" ng-if=\"$select.open\" ng-click=\"$select.select(item,$select.skipFocusser,$event)\" tabindex=\"0\" id=\"ui-select-choices-row-6-20\"><span class=\"ui-select-choices-row-inner\" uis-transclude-append=\"\">\n",
    "                                            <div>Valentina AIELLO (valentina.aiello@ibgc.cnrs.fr, CNRS DR15 Aquitaine)</div>\n",
    "                                        </span></div><!-- end ngIf: $select.open --><!-- end ngRepeat: item in $select.items --><!-- ngIf: $select.open --><div ng-attr-id=\"ui-select-choices-row-{{ $select.generatedId }}-{{$index}}\" class=\"ui-select-choices-row\" ng-class=\"{active: $select.isActive(this), disabled: $select.isDisabled(this)}\" role=\"option\" ng-repeat=\"item in $select.items\" ng-if=\"$select.open\" ng-click=\"$select.select(item,$select.skipFocusser,$event)\" tabindex=\"0\" id=\"ui-select-choices-row-6-21\"><span class=\"ui-select-choices-row-inner\" uis-transclude-append=\"\">\n",
    "                                            <div>Aissa AINAOUI (aissa.ainaoui@cnrs.fr, CNRS DR02 Paris-Centre)</div>\n",
    "                                        </span></div><!-- end ngIf: $select.open --><!-- end ngRepeat: item in $select.items --><!-- ngIf: $select.open --><div ng-attr-id=\"ui-select-choices-row-{{ $select.generatedId }}-{{$index}}\" class=\"ui-select-choices-row\" ng-class=\"{active: $select.isActive(this), disabled: $select.isDisabled(this)}\" role=\"option\" ng-repeat=\"item in $select.items\" ng-if=\"$select.open\" ng-click=\"$select.select(item,$select.skipFocusser,$event)\" tabindex=\"0\" id=\"ui-select-choices-row-6-22\"><span class=\"ui-select-choices-row-inner\" uis-transclude-append=\"\">\n",
    "                                            <div>Nathalie AINI (nathalie.aini@univ-lille.fr, CNRS DR18 Hauts-de-France)</div>\n",
    "                                        </span></div><!-- end ngIf: $select.open --><!-- end ngRepeat: item in $select.items --><!-- ngIf: $select.open --><div ng-attr-id=\"ui-select-choices-row-{{ $select.generatedId }}-{{$index}}\" class=\"ui-select-choices-row\" ng-class=\"{active: $select.isActive(this), disabled: $select.isDisabled(this)}\" role=\"option\" ng-repeat=\"item in $select.items\" ng-if=\"$select.open\" ng-click=\"$select.select(item,$select.skipFocusser,$event)\" tabindex=\"0\" id=\"ui-select-choices-row-6-23\"><span class=\"ui-select-choices-row-inner\" uis-transclude-append=\"\">\n",
    "                                            <div>Karim AIT ALOUACHE (karim.ait-alouache@iker.cnrs.fr, CNRS DR15 Aquitaine)</div>\n",
    "                                        </span></div><!-- end ngIf: $select.open --><!-- end ngRepeat: item in $select.items --><!-- ngIf: $select.open --><div ng-attr-id=\"ui-select-choices-row-{{ $select.generatedId }}-{{$index}}\" class=\"ui-select-choices-row\" ng-class=\"{active: $select.isActive(this), disabled: $select.isDisabled(this)}\" role=\"option\" ng-repeat=\"item in $select.items\" ng-if=\"$select.open\" ng-click=\"$select.select(item,$select.skipFocusser,$event)\" tabindex=\"0\" id=\"ui-select-choices-row-6-24\"><span class=\"ui-select-choices-row-inner\" uis-transclude-append=\"\">\n",
    "                                            <div>Karim AIT ALOUACHE (karim.ait-alouache@u-bordeaux.fr, CNRS DR15 Aquitaine)</div>\n",
    "                                        </span></div><!-- end ngIf: $select.open --><!-- end ngRepeat: item in $select.items --><!-- ngIf: $select.open --><div ng-attr-id=\"ui-select-choices-row-{{ $select.generatedId }}-{{$index}}\" class=\"ui-select-choices-row\" ng-class=\"{active: $select.isActive(this), disabled: $select.isDisabled(this)}\" role=\"option\" ng-repeat=\"item in $select.items\" ng-if=\"$select.open\" ng-click=\"$select.select(item,$select.skipFocusser,$event)\" tabindex=\"0\" id=\"ui-select-choices-row-6-25\"><span class=\"ui-select-choices-row-inner\" uis-transclude-append=\"\">\n",
    "                                            <div>Raziye AKSOZ (ratibe.aksoz@ipcms.unistra.fr, CNRS DR10 Alsace)</div>\n",
    "                                        </span></div><!-- end ngIf: $select.open --><!-- end ngRepeat: item in $select.items --><!-- ngIf: $select.open --><div ng-attr-id=\"ui-select-choices-row-{{ $select.generatedId }}-{{$index}}\" class=\"ui-select-choices-row\" ng-class=\"{active: $select.isActive(this), disabled: $select.isDisabled(this)}\" role=\"option\" ng-repeat=\"item in $select.items\" ng-if=\"$select.open\" ng-click=\"$select.select(item,$select.skipFocusser,$event)\" tabindex=\"0\" id=\"ui-select-choices-row-6-26\"><span class=\"ui-select-choices-row-inner\" uis-transclude-append=\"\">\n",
    "                                            <div>Dominique idanie ALAIN (dominique-idanie.alain@cnrs.fr, CNRS DR01 Ile-de-France Villejuif)</div>\n",
    "                                        </span></div><!-- end ngIf: $select.open --><!-- end ngRepeat: item in $select.items --><!-- ngIf: $select.open --><div ng-attr-id=\"ui-select-choices-row-{{ $select.generatedId }}-{{$index}}\" class=\"ui-select-choices-row\" ng-class=\"{active: $select.isActive(this), disabled: $select.isDisabled(this)}\" role=\"option\" ng-repeat=\"item in $select.items\" ng-if=\"$select.open\" ng-click=\"$select.select(item,$select.skipFocusser,$event)\" tabindex=\"0\" id=\"ui-select-choices-row-6-27\"><span class=\"ui-select-choices-row-inner\" uis-transclude-append=\"\">\n",
    "                                            <div>Isabelle ALANIECE (isabelle.alaniece1@cnrs.fr, CNRS DR01 Ile-de-France Villejuif)</div>\n",
    "                                        </span></div><!-- end ngIf: $select.open --><!-- end ngRepeat: item in $select.items --><!-- ngIf: $select.open --><div ng-attr-id=\"ui-select-choices-row-{{ $select.generatedId }}-{{$index}}\" class=\"ui-select-choices-row\" ng-class=\"{active: $select.isActive(this), disabled: $select.isDisabled(this)}\" role=\"option\" ng-repeat=\"item in $select.items\" ng-if=\"$select.open\" ng-click=\"$select.select(item,$select.skipFocusser,$event)\" tabindex=\"0\" id=\"ui-select-choices-row-6-28\"><span class=\"ui-select-choices-row-inner\" uis-transclude-append=\"\">\n",
    "                                            <div>Isabelle ALANIECE (isabelle.alaniece@cnrs.fr, CNRS DR01 Ile-de-France Villejuif)</div>\n",
    "                                        </span></div><!-- end ngIf: $select.open --><!-- end ngRepeat: item in $select.items --><!-- ngIf: $select.open --><div ng-attr-id=\"ui-select-choices-row-{{ $select.generatedId }}-{{$index}}\" class=\"ui-select-choices-row\" ng-class=\"{active: $select.isActive(this), disabled: $select.isDisabled(this)}\" role=\"option\" ng-repeat=\"item in $select.items\" ng-if=\"$select.open\" ng-click=\"$select.select(item,$select.skipFocusser,$event)\" tabindex=\"0\" id=\"ui-select-choices-row-6-29\"><span class=\"ui-select-choices-row-inner\" uis-transclude-append=\"\">\n",
    "                                            <div>Dionigi ALBERA (albera@mmsh.univ-aix.fr, CNRS DR12 Provence)</div>\n",
    "                                        </span></div><!-- end ngIf: $select.open --><!-- end ngRepeat: item in $select.items --><!-- ngIf: $select.open --><div ng-attr-id=\"ui-select-choices-row-{{ $select.generatedId }}-{{$index}}\" class=\"ui-select-choices-row disabled\" ng-class=\"{active: $select.isActive(this), disabled: $select.isDisabled(this)}\" role=\"option\" ng-repeat=\"item in $select.items\" ng-if=\"$select.open\" ng-click=\"$select.select(item,$select.skipFocusser,$event)\" tabindex=\"0\" id=\"ui-select-choices-row-6-30\" style=\"\"><span class=\"ui-select-choices-row-inner\" uis-transclude-append=\"\">\n",
    "                                            <div>...</div>\n",
    "                                        </span></div><!-- end ngIf: $select.open --><!-- end ngRepeat: item in $select.items --></li></ul>\"\"\"\n",
    "\n",
    "soup = BeautifulSoup(data, 'html.parser')\n",
    "\n",
    "your_data = list()\n",
    "\n",
    "for line in soup.findAll('span', attrs={'id': 'mc1_legend_value'}):\n",
    "    your_data.append(line.text)\n",
    "\n",
    "for line in soup.findAll('span'):\n",
    "    your_data.append(line.text)"
   ]
  },
  {
   "cell_type": "code",
   "execution_count": null,
   "metadata": {},
   "outputs": [],
   "source": []
  }
 ],
 "metadata": {
  "interpreter": {
   "hash": "b0fa6594d8f4cbf19f97940f81e996739fb7646882a419484c72d19e05852a7e"
  },
  "kernelspec": {
   "display_name": "Python 3.9.13 64-bit",
   "language": "python",
   "name": "python3"
  },
  "language_info": {
   "codemirror_mode": {
    "name": "ipython",
    "version": 3
   },
   "file_extension": ".py",
   "mimetype": "text/x-python",
   "name": "python",
   "nbconvert_exporter": "python",
   "pygments_lexer": "ipython3",
   "version": "3.9.13"
  },
  "orig_nbformat": 4
 },
 "nbformat": 4,
 "nbformat_minor": 2
}
